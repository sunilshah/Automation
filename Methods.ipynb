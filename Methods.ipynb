{
 "cells": [
  {
   "cell_type": "markdown",
   "metadata": {},
   "source": [
    "#  Measuring, Predicting and Controlling \n",
    "\n",
    "It seems logical that if you want to control something, you need to measure it and predict it. \n",
    "\n",
    "For example, if you want to achieve a particular health outcome like blood glucose level, measuring it, predicting its response to nutrition, exercise and medication seems sufficient. Once you can predict it well, then achieving your goal of controlling it appears a matter of diligent execution. \n",
    "\n",
    "We all know from personal experience, that it is easier said than done. \n",
    "\n",
    "I want to systematically explore surprises that occur along the way. In doing so, I want to point out various method pitfalls relating to human decisions. Sometimes, these pitfalls are present in computer automation methods.   \n",
    "\n",
    "Although I describe a dose-response problem, the method pitfalls apply equally well to biological and non-living processes.\n",
    "\n",
    "In these examples, I will first describe a problem and the method used commonly. Then I will describe assumptions underlying the method and show that it works as intended when used on a simulation that matches the assumptions. \n",
    "\n",
    "Next we will explore what happens when used on a more realitic situation simulated by a more complex model. Granted that reality is always more complex than the simulation, it does show the method problems encountered in practice.    \n",
    "\n",
    "You will be making interactive human decisions on the simulated examples where we are testing human decision making.  "
   ]
  },
  {
   "cell_type": "code",
   "execution_count": 1,
   "metadata": {
    "scrolled": true
   },
   "outputs": [],
   "source": [
    "%matplotlib notebook\n",
    "import numpy as np\n",
    "import matplotlib.pyplot as plt\n",
    "from matplotlib import animation,rc\n",
    "#from IPython.display import HTML\n",
    "import ipywidgets"
   ]
  },
  {
   "cell_type": "markdown",
   "metadata": {},
   "source": [
    "###  Predict and Control\n",
    "\n",
    "In the simplest interactive problem below, you can first predict what the output will be when you choose a particular value for the input decision variable using the slider (like a medication dose).  Choose the best value you deem appropriate until the prediction hits the target reference and then execute the decision using the execute button. \n",
    "\n",
    "Your goal is to make the output equal to the fixed target reference value displayed. "
   ]
  },
  {
   "cell_type": "markdown",
   "metadata": {},
   "source": [
    "#### Perfect Prediction and Certain Control Outcome\n",
    "\n",
    "Constant $A,B,C,D$  define a state space system. In discrete time, \n",
    "\n",
    "$$\\begin {align} x(t+1)=A*x(t)+B*u(t) \\\\ y(t)=C*x(t)+D*u(t) \\end {align}$$\n",
    "\n",
    "Initial state $x(0)=x_0$ is randomly chosen.  We assume further that there is no noise or disturbance in the system and the constants $A,B,C,D$ are known exactly.\n",
    "\n",
    "You should be able to predict without any noise. If you predict based upon an input value, you will get exactly the predicted output upon execution. You can keep changing the input until you hit the target output for the predicted value. \n",
    "\n",
    "This is a very ideal situation intended to illustrate a particular class of problems in controlling dynamical system.  \n",
    "\n",
    "Now, let us see what happens when you try to control it.  "
   ]
  },
  {
   "cell_type": "code",
   "execution_count": 2,
   "metadata": {
    "scrolled": true
   },
   "outputs": [],
   "source": [
    "#initialize a non-minimum phase stable state space system\n",
    "A=0.7;B=2.5;C=1;D=1;\n",
    "x_0=np.random.randn()*1+5\n"
   ]
  },
  {
   "cell_type": "markdown",
   "metadata": {},
   "source": [
    "Now we lay out the interaction and propagation of the system.  \n",
    "\n",
    "Note that your goal is to hit output $y(t) = Ref = 5.0$.  Before you actually execute the decision with a particular value of input u(t), you can use the slider input and the __Predict y(t+1)__ button to see the predicted y.  Prediction does not propagate the state, it merely uses the current state and the input to compute the predicted y(t+1). When you are satisfied with the value u(t), you can commit and hit the __Execute u(t)__ button, which results in propagation of the state space recursion.   "
   ]
  },
  {
   "cell_type": "code",
   "execution_count": 3,
   "metadata": {
    "scrolled": false
   },
   "outputs": [
    {
     "data": {
      "application/vnd.jupyter.widget-view+json": {
       "model_id": "573a17478f7047c1a7c748c1b5866466",
       "version_major": 2,
       "version_minor": 0
      },
      "text/plain": [
       "FloatSlider(value=0.0, description='Dose(t)', layout=Layout(width='95%'), max=10.0, min=-10.0, step=0.01)"
      ]
     },
     "metadata": {},
     "output_type": "display_data"
    },
    {
     "data": {
      "application/vnd.jupyter.widget-view+json": {
       "model_id": "99a4482343a348cb8533af40674e5ebb",
       "version_major": 2,
       "version_minor": 0
      },
      "text/plain": [
       "HBox(children=(Text(value='  ', description='Response(t+1) ', disabled=True, style=DescriptionStyle(descriptio…"
      ]
     },
     "metadata": {},
     "output_type": "display_data"
    },
    {
     "data": {
      "application/vnd.jupyter.widget-view+json": {
       "model_id": "4b16627cd21b49a991717349dcc0f39e",
       "version_major": 2,
       "version_minor": 0
      },
      "text/plain": [
       "HBox(children=(Button(description='Predict Response(t+1)', layout=Layout(width='42%'), style=ButtonStyle()), B…"
      ]
     },
     "metadata": {},
     "output_type": "display_data"
    },
    {
     "data": {
      "application/javascript": [
       "/* Put everything inside the global mpl namespace */\n",
       "window.mpl = {};\n",
       "\n",
       "\n",
       "mpl.get_websocket_type = function() {\n",
       "    if (typeof(WebSocket) !== 'undefined') {\n",
       "        return WebSocket;\n",
       "    } else if (typeof(MozWebSocket) !== 'undefined') {\n",
       "        return MozWebSocket;\n",
       "    } else {\n",
       "        alert('Your browser does not have WebSocket support. ' +\n",
       "              'Please try Chrome, Safari or Firefox ≥ 6. ' +\n",
       "              'Firefox 4 and 5 are also supported but you ' +\n",
       "              'have to enable WebSockets in about:config.');\n",
       "    };\n",
       "}\n",
       "\n",
       "mpl.figure = function(figure_id, websocket, ondownload, parent_element) {\n",
       "    this.id = figure_id;\n",
       "\n",
       "    this.ws = websocket;\n",
       "\n",
       "    this.supports_binary = (this.ws.binaryType != undefined);\n",
       "\n",
       "    if (!this.supports_binary) {\n",
       "        var warnings = document.getElementById(\"mpl-warnings\");\n",
       "        if (warnings) {\n",
       "            warnings.style.display = 'block';\n",
       "            warnings.textContent = (\n",
       "                \"This browser does not support binary websocket messages. \" +\n",
       "                    \"Performance may be slow.\");\n",
       "        }\n",
       "    }\n",
       "\n",
       "    this.imageObj = new Image();\n",
       "\n",
       "    this.context = undefined;\n",
       "    this.message = undefined;\n",
       "    this.canvas = undefined;\n",
       "    this.rubberband_canvas = undefined;\n",
       "    this.rubberband_context = undefined;\n",
       "    this.format_dropdown = undefined;\n",
       "\n",
       "    this.image_mode = 'full';\n",
       "\n",
       "    this.root = $('<div/>');\n",
       "    this._root_extra_style(this.root)\n",
       "    this.root.attr('style', 'display: inline-block');\n",
       "\n",
       "    $(parent_element).append(this.root);\n",
       "\n",
       "    this._init_header(this);\n",
       "    this._init_canvas(this);\n",
       "    this._init_toolbar(this);\n",
       "\n",
       "    var fig = this;\n",
       "\n",
       "    this.waiting = false;\n",
       "\n",
       "    this.ws.onopen =  function () {\n",
       "            fig.send_message(\"supports_binary\", {value: fig.supports_binary});\n",
       "            fig.send_message(\"send_image_mode\", {});\n",
       "            if (mpl.ratio != 1) {\n",
       "                fig.send_message(\"set_dpi_ratio\", {'dpi_ratio': mpl.ratio});\n",
       "            }\n",
       "            fig.send_message(\"refresh\", {});\n",
       "        }\n",
       "\n",
       "    this.imageObj.onload = function() {\n",
       "            if (fig.image_mode == 'full') {\n",
       "                // Full images could contain transparency (where diff images\n",
       "                // almost always do), so we need to clear the canvas so that\n",
       "                // there is no ghosting.\n",
       "                fig.context.clearRect(0, 0, fig.canvas.width, fig.canvas.height);\n",
       "            }\n",
       "            fig.context.drawImage(fig.imageObj, 0, 0);\n",
       "        };\n",
       "\n",
       "    this.imageObj.onunload = function() {\n",
       "        fig.ws.close();\n",
       "    }\n",
       "\n",
       "    this.ws.onmessage = this._make_on_message_function(this);\n",
       "\n",
       "    this.ondownload = ondownload;\n",
       "}\n",
       "\n",
       "mpl.figure.prototype._init_header = function() {\n",
       "    var titlebar = $(\n",
       "        '<div class=\"ui-dialog-titlebar ui-widget-header ui-corner-all ' +\n",
       "        'ui-helper-clearfix\"/>');\n",
       "    var titletext = $(\n",
       "        '<div class=\"ui-dialog-title\" style=\"width: 100%; ' +\n",
       "        'text-align: center; padding: 3px;\"/>');\n",
       "    titlebar.append(titletext)\n",
       "    this.root.append(titlebar);\n",
       "    this.header = titletext[0];\n",
       "}\n",
       "\n",
       "\n",
       "\n",
       "mpl.figure.prototype._canvas_extra_style = function(canvas_div) {\n",
       "\n",
       "}\n",
       "\n",
       "\n",
       "mpl.figure.prototype._root_extra_style = function(canvas_div) {\n",
       "\n",
       "}\n",
       "\n",
       "mpl.figure.prototype._init_canvas = function() {\n",
       "    var fig = this;\n",
       "\n",
       "    var canvas_div = $('<div/>');\n",
       "\n",
       "    canvas_div.attr('style', 'position: relative; clear: both; outline: 0');\n",
       "\n",
       "    function canvas_keyboard_event(event) {\n",
       "        return fig.key_event(event, event['data']);\n",
       "    }\n",
       "\n",
       "    canvas_div.keydown('key_press', canvas_keyboard_event);\n",
       "    canvas_div.keyup('key_release', canvas_keyboard_event);\n",
       "    this.canvas_div = canvas_div\n",
       "    this._canvas_extra_style(canvas_div)\n",
       "    this.root.append(canvas_div);\n",
       "\n",
       "    var canvas = $('<canvas/>');\n",
       "    canvas.addClass('mpl-canvas');\n",
       "    canvas.attr('style', \"left: 0; top: 0; z-index: 0; outline: 0\")\n",
       "\n",
       "    this.canvas = canvas[0];\n",
       "    this.context = canvas[0].getContext(\"2d\");\n",
       "\n",
       "    var backingStore = this.context.backingStorePixelRatio ||\n",
       "\tthis.context.webkitBackingStorePixelRatio ||\n",
       "\tthis.context.mozBackingStorePixelRatio ||\n",
       "\tthis.context.msBackingStorePixelRatio ||\n",
       "\tthis.context.oBackingStorePixelRatio ||\n",
       "\tthis.context.backingStorePixelRatio || 1;\n",
       "\n",
       "    mpl.ratio = (window.devicePixelRatio || 1) / backingStore;\n",
       "\n",
       "    var rubberband = $('<canvas/>');\n",
       "    rubberband.attr('style', \"position: absolute; left: 0; top: 0; z-index: 1;\")\n",
       "\n",
       "    var pass_mouse_events = true;\n",
       "\n",
       "    canvas_div.resizable({\n",
       "        start: function(event, ui) {\n",
       "            pass_mouse_events = false;\n",
       "        },\n",
       "        resize: function(event, ui) {\n",
       "            fig.request_resize(ui.size.width, ui.size.height);\n",
       "        },\n",
       "        stop: function(event, ui) {\n",
       "            pass_mouse_events = true;\n",
       "            fig.request_resize(ui.size.width, ui.size.height);\n",
       "        },\n",
       "    });\n",
       "\n",
       "    function mouse_event_fn(event) {\n",
       "        if (pass_mouse_events)\n",
       "            return fig.mouse_event(event, event['data']);\n",
       "    }\n",
       "\n",
       "    rubberband.mousedown('button_press', mouse_event_fn);\n",
       "    rubberband.mouseup('button_release', mouse_event_fn);\n",
       "    // Throttle sequential mouse events to 1 every 20ms.\n",
       "    rubberband.mousemove('motion_notify', mouse_event_fn);\n",
       "\n",
       "    rubberband.mouseenter('figure_enter', mouse_event_fn);\n",
       "    rubberband.mouseleave('figure_leave', mouse_event_fn);\n",
       "\n",
       "    canvas_div.on(\"wheel\", function (event) {\n",
       "        event = event.originalEvent;\n",
       "        event['data'] = 'scroll'\n",
       "        if (event.deltaY < 0) {\n",
       "            event.step = 1;\n",
       "        } else {\n",
       "            event.step = -1;\n",
       "        }\n",
       "        mouse_event_fn(event);\n",
       "    });\n",
       "\n",
       "    canvas_div.append(canvas);\n",
       "    canvas_div.append(rubberband);\n",
       "\n",
       "    this.rubberband = rubberband;\n",
       "    this.rubberband_canvas = rubberband[0];\n",
       "    this.rubberband_context = rubberband[0].getContext(\"2d\");\n",
       "    this.rubberband_context.strokeStyle = \"#000000\";\n",
       "\n",
       "    this._resize_canvas = function(width, height) {\n",
       "        // Keep the size of the canvas, canvas container, and rubber band\n",
       "        // canvas in synch.\n",
       "        canvas_div.css('width', width)\n",
       "        canvas_div.css('height', height)\n",
       "\n",
       "        canvas.attr('width', width * mpl.ratio);\n",
       "        canvas.attr('height', height * mpl.ratio);\n",
       "        canvas.attr('style', 'width: ' + width + 'px; height: ' + height + 'px;');\n",
       "\n",
       "        rubberband.attr('width', width);\n",
       "        rubberband.attr('height', height);\n",
       "    }\n",
       "\n",
       "    // Set the figure to an initial 600x600px, this will subsequently be updated\n",
       "    // upon first draw.\n",
       "    this._resize_canvas(600, 600);\n",
       "\n",
       "    // Disable right mouse context menu.\n",
       "    $(this.rubberband_canvas).bind(\"contextmenu\",function(e){\n",
       "        return false;\n",
       "    });\n",
       "\n",
       "    function set_focus () {\n",
       "        canvas.focus();\n",
       "        canvas_div.focus();\n",
       "    }\n",
       "\n",
       "    window.setTimeout(set_focus, 100);\n",
       "}\n",
       "\n",
       "mpl.figure.prototype._init_toolbar = function() {\n",
       "    var fig = this;\n",
       "\n",
       "    var nav_element = $('<div/>');\n",
       "    nav_element.attr('style', 'width: 100%');\n",
       "    this.root.append(nav_element);\n",
       "\n",
       "    // Define a callback function for later on.\n",
       "    function toolbar_event(event) {\n",
       "        return fig.toolbar_button_onclick(event['data']);\n",
       "    }\n",
       "    function toolbar_mouse_event(event) {\n",
       "        return fig.toolbar_button_onmouseover(event['data']);\n",
       "    }\n",
       "\n",
       "    for(var toolbar_ind in mpl.toolbar_items) {\n",
       "        var name = mpl.toolbar_items[toolbar_ind][0];\n",
       "        var tooltip = mpl.toolbar_items[toolbar_ind][1];\n",
       "        var image = mpl.toolbar_items[toolbar_ind][2];\n",
       "        var method_name = mpl.toolbar_items[toolbar_ind][3];\n",
       "\n",
       "        if (!name) {\n",
       "            // put a spacer in here.\n",
       "            continue;\n",
       "        }\n",
       "        var button = $('<button/>');\n",
       "        button.addClass('ui-button ui-widget ui-state-default ui-corner-all ' +\n",
       "                        'ui-button-icon-only');\n",
       "        button.attr('role', 'button');\n",
       "        button.attr('aria-disabled', 'false');\n",
       "        button.click(method_name, toolbar_event);\n",
       "        button.mouseover(tooltip, toolbar_mouse_event);\n",
       "\n",
       "        var icon_img = $('<span/>');\n",
       "        icon_img.addClass('ui-button-icon-primary ui-icon');\n",
       "        icon_img.addClass(image);\n",
       "        icon_img.addClass('ui-corner-all');\n",
       "\n",
       "        var tooltip_span = $('<span/>');\n",
       "        tooltip_span.addClass('ui-button-text');\n",
       "        tooltip_span.html(tooltip);\n",
       "\n",
       "        button.append(icon_img);\n",
       "        button.append(tooltip_span);\n",
       "\n",
       "        nav_element.append(button);\n",
       "    }\n",
       "\n",
       "    var fmt_picker_span = $('<span/>');\n",
       "\n",
       "    var fmt_picker = $('<select/>');\n",
       "    fmt_picker.addClass('mpl-toolbar-option ui-widget ui-widget-content');\n",
       "    fmt_picker_span.append(fmt_picker);\n",
       "    nav_element.append(fmt_picker_span);\n",
       "    this.format_dropdown = fmt_picker[0];\n",
       "\n",
       "    for (var ind in mpl.extensions) {\n",
       "        var fmt = mpl.extensions[ind];\n",
       "        var option = $(\n",
       "            '<option/>', {selected: fmt === mpl.default_extension}).html(fmt);\n",
       "        fmt_picker.append(option);\n",
       "    }\n",
       "\n",
       "    // Add hover states to the ui-buttons\n",
       "    $( \".ui-button\" ).hover(\n",
       "        function() { $(this).addClass(\"ui-state-hover\");},\n",
       "        function() { $(this).removeClass(\"ui-state-hover\");}\n",
       "    );\n",
       "\n",
       "    var status_bar = $('<span class=\"mpl-message\"/>');\n",
       "    nav_element.append(status_bar);\n",
       "    this.message = status_bar[0];\n",
       "}\n",
       "\n",
       "mpl.figure.prototype.request_resize = function(x_pixels, y_pixels) {\n",
       "    // Request matplotlib to resize the figure. Matplotlib will then trigger a resize in the client,\n",
       "    // which will in turn request a refresh of the image.\n",
       "    this.send_message('resize', {'width': x_pixels, 'height': y_pixels});\n",
       "}\n",
       "\n",
       "mpl.figure.prototype.send_message = function(type, properties) {\n",
       "    properties['type'] = type;\n",
       "    properties['figure_id'] = this.id;\n",
       "    this.ws.send(JSON.stringify(properties));\n",
       "}\n",
       "\n",
       "mpl.figure.prototype.send_draw_message = function() {\n",
       "    if (!this.waiting) {\n",
       "        this.waiting = true;\n",
       "        this.ws.send(JSON.stringify({type: \"draw\", figure_id: this.id}));\n",
       "    }\n",
       "}\n",
       "\n",
       "\n",
       "mpl.figure.prototype.handle_save = function(fig, msg) {\n",
       "    var format_dropdown = fig.format_dropdown;\n",
       "    var format = format_dropdown.options[format_dropdown.selectedIndex].value;\n",
       "    fig.ondownload(fig, format);\n",
       "}\n",
       "\n",
       "\n",
       "mpl.figure.prototype.handle_resize = function(fig, msg) {\n",
       "    var size = msg['size'];\n",
       "    if (size[0] != fig.canvas.width || size[1] != fig.canvas.height) {\n",
       "        fig._resize_canvas(size[0], size[1]);\n",
       "        fig.send_message(\"refresh\", {});\n",
       "    };\n",
       "}\n",
       "\n",
       "mpl.figure.prototype.handle_rubberband = function(fig, msg) {\n",
       "    var x0 = msg['x0'] / mpl.ratio;\n",
       "    var y0 = (fig.canvas.height - msg['y0']) / mpl.ratio;\n",
       "    var x1 = msg['x1'] / mpl.ratio;\n",
       "    var y1 = (fig.canvas.height - msg['y1']) / mpl.ratio;\n",
       "    x0 = Math.floor(x0) + 0.5;\n",
       "    y0 = Math.floor(y0) + 0.5;\n",
       "    x1 = Math.floor(x1) + 0.5;\n",
       "    y1 = Math.floor(y1) + 0.5;\n",
       "    var min_x = Math.min(x0, x1);\n",
       "    var min_y = Math.min(y0, y1);\n",
       "    var width = Math.abs(x1 - x0);\n",
       "    var height = Math.abs(y1 - y0);\n",
       "\n",
       "    fig.rubberband_context.clearRect(\n",
       "        0, 0, fig.canvas.width, fig.canvas.height);\n",
       "\n",
       "    fig.rubberband_context.strokeRect(min_x, min_y, width, height);\n",
       "}\n",
       "\n",
       "mpl.figure.prototype.handle_figure_label = function(fig, msg) {\n",
       "    // Updates the figure title.\n",
       "    fig.header.textContent = msg['label'];\n",
       "}\n",
       "\n",
       "mpl.figure.prototype.handle_cursor = function(fig, msg) {\n",
       "    var cursor = msg['cursor'];\n",
       "    switch(cursor)\n",
       "    {\n",
       "    case 0:\n",
       "        cursor = 'pointer';\n",
       "        break;\n",
       "    case 1:\n",
       "        cursor = 'default';\n",
       "        break;\n",
       "    case 2:\n",
       "        cursor = 'crosshair';\n",
       "        break;\n",
       "    case 3:\n",
       "        cursor = 'move';\n",
       "        break;\n",
       "    }\n",
       "    fig.rubberband_canvas.style.cursor = cursor;\n",
       "}\n",
       "\n",
       "mpl.figure.prototype.handle_message = function(fig, msg) {\n",
       "    fig.message.textContent = msg['message'];\n",
       "}\n",
       "\n",
       "mpl.figure.prototype.handle_draw = function(fig, msg) {\n",
       "    // Request the server to send over a new figure.\n",
       "    fig.send_draw_message();\n",
       "}\n",
       "\n",
       "mpl.figure.prototype.handle_image_mode = function(fig, msg) {\n",
       "    fig.image_mode = msg['mode'];\n",
       "}\n",
       "\n",
       "mpl.figure.prototype.updated_canvas_event = function() {\n",
       "    // Called whenever the canvas gets updated.\n",
       "    this.send_message(\"ack\", {});\n",
       "}\n",
       "\n",
       "// A function to construct a web socket function for onmessage handling.\n",
       "// Called in the figure constructor.\n",
       "mpl.figure.prototype._make_on_message_function = function(fig) {\n",
       "    return function socket_on_message(evt) {\n",
       "        if (evt.data instanceof Blob) {\n",
       "            /* FIXME: We get \"Resource interpreted as Image but\n",
       "             * transferred with MIME type text/plain:\" errors on\n",
       "             * Chrome.  But how to set the MIME type?  It doesn't seem\n",
       "             * to be part of the websocket stream */\n",
       "            evt.data.type = \"image/png\";\n",
       "\n",
       "            /* Free the memory for the previous frames */\n",
       "            if (fig.imageObj.src) {\n",
       "                (window.URL || window.webkitURL).revokeObjectURL(\n",
       "                    fig.imageObj.src);\n",
       "            }\n",
       "\n",
       "            fig.imageObj.src = (window.URL || window.webkitURL).createObjectURL(\n",
       "                evt.data);\n",
       "            fig.updated_canvas_event();\n",
       "            fig.waiting = false;\n",
       "            return;\n",
       "        }\n",
       "        else if (typeof evt.data === 'string' && evt.data.slice(0, 21) == \"data:image/png;base64\") {\n",
       "            fig.imageObj.src = evt.data;\n",
       "            fig.updated_canvas_event();\n",
       "            fig.waiting = false;\n",
       "            return;\n",
       "        }\n",
       "\n",
       "        var msg = JSON.parse(evt.data);\n",
       "        var msg_type = msg['type'];\n",
       "\n",
       "        // Call the  \"handle_{type}\" callback, which takes\n",
       "        // the figure and JSON message as its only arguments.\n",
       "        try {\n",
       "            var callback = fig[\"handle_\" + msg_type];\n",
       "        } catch (e) {\n",
       "            console.log(\"No handler for the '\" + msg_type + \"' message type: \", msg);\n",
       "            return;\n",
       "        }\n",
       "\n",
       "        if (callback) {\n",
       "            try {\n",
       "                // console.log(\"Handling '\" + msg_type + \"' message: \", msg);\n",
       "                callback(fig, msg);\n",
       "            } catch (e) {\n",
       "                console.log(\"Exception inside the 'handler_\" + msg_type + \"' callback:\", e, e.stack, msg);\n",
       "            }\n",
       "        }\n",
       "    };\n",
       "}\n",
       "\n",
       "// from http://stackoverflow.com/questions/1114465/getting-mouse-location-in-canvas\n",
       "mpl.findpos = function(e) {\n",
       "    //this section is from http://www.quirksmode.org/js/events_properties.html\n",
       "    var targ;\n",
       "    if (!e)\n",
       "        e = window.event;\n",
       "    if (e.target)\n",
       "        targ = e.target;\n",
       "    else if (e.srcElement)\n",
       "        targ = e.srcElement;\n",
       "    if (targ.nodeType == 3) // defeat Safari bug\n",
       "        targ = targ.parentNode;\n",
       "\n",
       "    // jQuery normalizes the pageX and pageY\n",
       "    // pageX,Y are the mouse positions relative to the document\n",
       "    // offset() returns the position of the element relative to the document\n",
       "    var x = e.pageX - $(targ).offset().left;\n",
       "    var y = e.pageY - $(targ).offset().top;\n",
       "\n",
       "    return {\"x\": x, \"y\": y};\n",
       "};\n",
       "\n",
       "/*\n",
       " * return a copy of an object with only non-object keys\n",
       " * we need this to avoid circular references\n",
       " * http://stackoverflow.com/a/24161582/3208463\n",
       " */\n",
       "function simpleKeys (original) {\n",
       "  return Object.keys(original).reduce(function (obj, key) {\n",
       "    if (typeof original[key] !== 'object')\n",
       "        obj[key] = original[key]\n",
       "    return obj;\n",
       "  }, {});\n",
       "}\n",
       "\n",
       "mpl.figure.prototype.mouse_event = function(event, name) {\n",
       "    var canvas_pos = mpl.findpos(event)\n",
       "\n",
       "    if (name === 'button_press')\n",
       "    {\n",
       "        this.canvas.focus();\n",
       "        this.canvas_div.focus();\n",
       "    }\n",
       "\n",
       "    var x = canvas_pos.x * mpl.ratio;\n",
       "    var y = canvas_pos.y * mpl.ratio;\n",
       "\n",
       "    this.send_message(name, {x: x, y: y, button: event.button,\n",
       "                             step: event.step,\n",
       "                             guiEvent: simpleKeys(event)});\n",
       "\n",
       "    /* This prevents the web browser from automatically changing to\n",
       "     * the text insertion cursor when the button is pressed.  We want\n",
       "     * to control all of the cursor setting manually through the\n",
       "     * 'cursor' event from matplotlib */\n",
       "    event.preventDefault();\n",
       "    return false;\n",
       "}\n",
       "\n",
       "mpl.figure.prototype._key_event_extra = function(event, name) {\n",
       "    // Handle any extra behaviour associated with a key event\n",
       "}\n",
       "\n",
       "mpl.figure.prototype.key_event = function(event, name) {\n",
       "\n",
       "    // Prevent repeat events\n",
       "    if (name == 'key_press')\n",
       "    {\n",
       "        if (event.which === this._key)\n",
       "            return;\n",
       "        else\n",
       "            this._key = event.which;\n",
       "    }\n",
       "    if (name == 'key_release')\n",
       "        this._key = null;\n",
       "\n",
       "    var value = '';\n",
       "    if (event.ctrlKey && event.which != 17)\n",
       "        value += \"ctrl+\";\n",
       "    if (event.altKey && event.which != 18)\n",
       "        value += \"alt+\";\n",
       "    if (event.shiftKey && event.which != 16)\n",
       "        value += \"shift+\";\n",
       "\n",
       "    value += 'k';\n",
       "    value += event.which.toString();\n",
       "\n",
       "    this._key_event_extra(event, name);\n",
       "\n",
       "    this.send_message(name, {key: value,\n",
       "                             guiEvent: simpleKeys(event)});\n",
       "    return false;\n",
       "}\n",
       "\n",
       "mpl.figure.prototype.toolbar_button_onclick = function(name) {\n",
       "    if (name == 'download') {\n",
       "        this.handle_save(this, null);\n",
       "    } else {\n",
       "        this.send_message(\"toolbar_button\", {name: name});\n",
       "    }\n",
       "};\n",
       "\n",
       "mpl.figure.prototype.toolbar_button_onmouseover = function(tooltip) {\n",
       "    this.message.textContent = tooltip;\n",
       "};\n",
       "mpl.toolbar_items = [[\"Home\", \"Reset original view\", \"fa fa-home icon-home\", \"home\"], [\"Back\", \"Back to previous view\", \"fa fa-arrow-left icon-arrow-left\", \"back\"], [\"Forward\", \"Forward to next view\", \"fa fa-arrow-right icon-arrow-right\", \"forward\"], [\"\", \"\", \"\", \"\"], [\"Pan\", \"Pan axes with left mouse, zoom with right\", \"fa fa-arrows icon-move\", \"pan\"], [\"Zoom\", \"Zoom to rectangle\", \"fa fa-square-o icon-check-empty\", \"zoom\"], [\"\", \"\", \"\", \"\"], [\"Download\", \"Download plot\", \"fa fa-floppy-o icon-save\", \"download\"]];\n",
       "\n",
       "mpl.extensions = [\"eps\", \"pdf\", \"png\", \"ps\", \"raw\", \"svg\"];\n",
       "\n",
       "mpl.default_extension = \"png\";var comm_websocket_adapter = function(comm) {\n",
       "    // Create a \"websocket\"-like object which calls the given IPython comm\n",
       "    // object with the appropriate methods. Currently this is a non binary\n",
       "    // socket, so there is still some room for performance tuning.\n",
       "    var ws = {};\n",
       "\n",
       "    ws.close = function() {\n",
       "        comm.close()\n",
       "    };\n",
       "    ws.send = function(m) {\n",
       "        //console.log('sending', m);\n",
       "        comm.send(m);\n",
       "    };\n",
       "    // Register the callback with on_msg.\n",
       "    comm.on_msg(function(msg) {\n",
       "        //console.log('receiving', msg['content']['data'], msg);\n",
       "        // Pass the mpl event to the overridden (by mpl) onmessage function.\n",
       "        ws.onmessage(msg['content']['data'])\n",
       "    });\n",
       "    return ws;\n",
       "}\n",
       "\n",
       "mpl.mpl_figure_comm = function(comm, msg) {\n",
       "    // This is the function which gets called when the mpl process\n",
       "    // starts-up an IPython Comm through the \"matplotlib\" channel.\n",
       "\n",
       "    var id = msg.content.data.id;\n",
       "    // Get hold of the div created by the display call when the Comm\n",
       "    // socket was opened in Python.\n",
       "    var element = $(\"#\" + id);\n",
       "    var ws_proxy = comm_websocket_adapter(comm)\n",
       "\n",
       "    function ondownload(figure, format) {\n",
       "        window.open(figure.imageObj.src);\n",
       "    }\n",
       "\n",
       "    var fig = new mpl.figure(id, ws_proxy,\n",
       "                           ondownload,\n",
       "                           element.get(0));\n",
       "\n",
       "    // Call onopen now - mpl needs it, as it is assuming we've passed it a real\n",
       "    // web socket which is closed, not our websocket->open comm proxy.\n",
       "    ws_proxy.onopen();\n",
       "\n",
       "    fig.parent_element = element.get(0);\n",
       "    fig.cell_info = mpl.find_output_cell(\"<div id='\" + id + \"'></div>\");\n",
       "    if (!fig.cell_info) {\n",
       "        console.error(\"Failed to find cell for figure\", id, fig);\n",
       "        return;\n",
       "    }\n",
       "\n",
       "    var output_index = fig.cell_info[2]\n",
       "    var cell = fig.cell_info[0];\n",
       "\n",
       "};\n",
       "\n",
       "mpl.figure.prototype.handle_close = function(fig, msg) {\n",
       "    var width = fig.canvas.width/mpl.ratio\n",
       "    fig.root.unbind('remove')\n",
       "\n",
       "    // Update the output cell to use the data from the current canvas.\n",
       "    fig.push_to_output();\n",
       "    var dataURL = fig.canvas.toDataURL();\n",
       "    // Re-enable the keyboard manager in IPython - without this line, in FF,\n",
       "    // the notebook keyboard shortcuts fail.\n",
       "    IPython.keyboard_manager.enable()\n",
       "    $(fig.parent_element).html('<img src=\"' + dataURL + '\" width=\"' + width + '\">');\n",
       "    fig.close_ws(fig, msg);\n",
       "}\n",
       "\n",
       "mpl.figure.prototype.close_ws = function(fig, msg){\n",
       "    fig.send_message('closing', msg);\n",
       "    // fig.ws.close()\n",
       "}\n",
       "\n",
       "mpl.figure.prototype.push_to_output = function(remove_interactive) {\n",
       "    // Turn the data on the canvas into data in the output cell.\n",
       "    var width = this.canvas.width/mpl.ratio\n",
       "    var dataURL = this.canvas.toDataURL();\n",
       "    this.cell_info[1]['text/html'] = '<img src=\"' + dataURL + '\" width=\"' + width + '\">';\n",
       "}\n",
       "\n",
       "mpl.figure.prototype.updated_canvas_event = function() {\n",
       "    // Tell IPython that the notebook contents must change.\n",
       "    IPython.notebook.set_dirty(true);\n",
       "    this.send_message(\"ack\", {});\n",
       "    var fig = this;\n",
       "    // Wait a second, then push the new image to the DOM so\n",
       "    // that it is saved nicely (might be nice to debounce this).\n",
       "    setTimeout(function () { fig.push_to_output() }, 1000);\n",
       "}\n",
       "\n",
       "mpl.figure.prototype._init_toolbar = function() {\n",
       "    var fig = this;\n",
       "\n",
       "    var nav_element = $('<div/>');\n",
       "    nav_element.attr('style', 'width: 100%');\n",
       "    this.root.append(nav_element);\n",
       "\n",
       "    // Define a callback function for later on.\n",
       "    function toolbar_event(event) {\n",
       "        return fig.toolbar_button_onclick(event['data']);\n",
       "    }\n",
       "    function toolbar_mouse_event(event) {\n",
       "        return fig.toolbar_button_onmouseover(event['data']);\n",
       "    }\n",
       "\n",
       "    for(var toolbar_ind in mpl.toolbar_items){\n",
       "        var name = mpl.toolbar_items[toolbar_ind][0];\n",
       "        var tooltip = mpl.toolbar_items[toolbar_ind][1];\n",
       "        var image = mpl.toolbar_items[toolbar_ind][2];\n",
       "        var method_name = mpl.toolbar_items[toolbar_ind][3];\n",
       "\n",
       "        if (!name) { continue; };\n",
       "\n",
       "        var button = $('<button class=\"btn btn-default\" href=\"#\" title=\"' + name + '\"><i class=\"fa ' + image + ' fa-lg\"></i></button>');\n",
       "        button.click(method_name, toolbar_event);\n",
       "        button.mouseover(tooltip, toolbar_mouse_event);\n",
       "        nav_element.append(button);\n",
       "    }\n",
       "\n",
       "    // Add the status bar.\n",
       "    var status_bar = $('<span class=\"mpl-message\" style=\"text-align:right; float: right;\"/>');\n",
       "    nav_element.append(status_bar);\n",
       "    this.message = status_bar[0];\n",
       "\n",
       "    // Add the close button to the window.\n",
       "    var buttongrp = $('<div class=\"btn-group inline pull-right\"></div>');\n",
       "    var button = $('<button class=\"btn btn-mini btn-primary\" href=\"#\" title=\"Stop Interaction\"><i class=\"fa fa-power-off icon-remove icon-large\"></i></button>');\n",
       "    button.click(function (evt) { fig.handle_close(fig, {}); } );\n",
       "    button.mouseover('Stop Interaction', toolbar_mouse_event);\n",
       "    buttongrp.append(button);\n",
       "    var titlebar = this.root.find($('.ui-dialog-titlebar'));\n",
       "    titlebar.prepend(buttongrp);\n",
       "}\n",
       "\n",
       "mpl.figure.prototype._root_extra_style = function(el){\n",
       "    var fig = this\n",
       "    el.on(\"remove\", function(){\n",
       "\tfig.close_ws(fig, {});\n",
       "    });\n",
       "}\n",
       "\n",
       "mpl.figure.prototype._canvas_extra_style = function(el){\n",
       "    // this is important to make the div 'focusable\n",
       "    el.attr('tabindex', 0)\n",
       "    // reach out to IPython and tell the keyboard manager to turn it's self\n",
       "    // off when our div gets focus\n",
       "\n",
       "    // location in version 3\n",
       "    if (IPython.notebook.keyboard_manager) {\n",
       "        IPython.notebook.keyboard_manager.register_events(el);\n",
       "    }\n",
       "    else {\n",
       "        // location in version 2\n",
       "        IPython.keyboard_manager.register_events(el);\n",
       "    }\n",
       "\n",
       "}\n",
       "\n",
       "mpl.figure.prototype._key_event_extra = function(event, name) {\n",
       "    var manager = IPython.notebook.keyboard_manager;\n",
       "    if (!manager)\n",
       "        manager = IPython.keyboard_manager;\n",
       "\n",
       "    // Check for shift+enter\n",
       "    if (event.shiftKey && event.which == 13) {\n",
       "        this.canvas_div.blur();\n",
       "        event.shiftKey = false;\n",
       "        // Send a \"J\" for go to next cell\n",
       "        event.which = 74;\n",
       "        event.keyCode = 74;\n",
       "        manager.command_mode();\n",
       "        manager.handle_keydown(event);\n",
       "    }\n",
       "}\n",
       "\n",
       "mpl.figure.prototype.handle_save = function(fig, msg) {\n",
       "    fig.ondownload(fig, null);\n",
       "}\n",
       "\n",
       "\n",
       "mpl.find_output_cell = function(html_output) {\n",
       "    // Return the cell and output element which can be found *uniquely* in the notebook.\n",
       "    // Note - this is a bit hacky, but it is done because the \"notebook_saving.Notebook\"\n",
       "    // IPython event is triggered only after the cells have been serialised, which for\n",
       "    // our purposes (turning an active figure into a static one), is too late.\n",
       "    var cells = IPython.notebook.get_cells();\n",
       "    var ncells = cells.length;\n",
       "    for (var i=0; i<ncells; i++) {\n",
       "        var cell = cells[i];\n",
       "        if (cell.cell_type === 'code'){\n",
       "            for (var j=0; j<cell.output_area.outputs.length; j++) {\n",
       "                var data = cell.output_area.outputs[j];\n",
       "                if (data.data) {\n",
       "                    // IPython >= 3 moved mimebundle to data attribute of output\n",
       "                    data = data.data;\n",
       "                }\n",
       "                if (data['text/html'] == html_output) {\n",
       "                    return [cell, data, j];\n",
       "                }\n",
       "            }\n",
       "        }\n",
       "    }\n",
       "}\n",
       "\n",
       "// Register the function which deals with the matplotlib target/channel.\n",
       "// The kernel may be null if the page has been refreshed.\n",
       "if (IPython.notebook.kernel != null) {\n",
       "    IPython.notebook.kernel.comm_manager.register_target('matplotlib', mpl.mpl_figure_comm);\n",
       "}\n"
      ],
      "text/plain": [
       "<IPython.core.display.Javascript object>"
      ]
     },
     "metadata": {},
     "output_type": "display_data"
    },
    {
     "data": {
      "text/html": [
       "<img src=\"data:image/png;base64,iVBORw0KGgoAAAANSUhEUgAACDQAAAK8CAYAAAAax30yAAAgAElEQVR4XuzdB5hV1fX4/cWA9KogIl0Ee9AoKliQ2FCxgyUasYIiippgSxSNNVgSWxRs+KCiiGCiYhewYW+oUSNF/GNQQJAWQMr7rP17ZzIDc2fOPex97jl3fc/z5Iky566992et62Wfu+acGuvWrVsnHAgggAACCCCAAAIIIIAAAggggAACCCCAAAIIIIAAAggggAACCCCAQIoEatDQkKJsMBUEEEAAAQQQQAABBBBAAAEEEEAAAQQQQAABBBBAAAEEEEAAAQQQcAI0NFAICCCAAAIIIIAAAggggAACCCCAAAIIIIAAAggggAACCCCAAAIIIJA6ARoaUpcSJoQAAggggAACCCCAAAIIIIAAAggggAACCCCAAAIIIIAAAggggAACNDRQAwgggAACCCCAAAIIIIAAAggggAACCCCAAAIIIIAAAggggAACCCCQOgEaGlKXEiaEAAIIIIAAAggggAACCCCAAAIIIIAAAggggAACCCCAAAIIIIAAAjQ0UAMIIIAAAggggAACCCCAAAIIIIAAAggggAACCCCAAAIIIIAAAgggkDoBGhpSlxImhAACCCCAAAIIIIAAAggggAACCCCAAAIIIIAAAggggAACCCCAAAI0NFADCCCAAAIIIIAAAggggAACCCCAAAIIIIAAAggggAACCCCAAAIIIJA6ARoaUpcSJoQAAggggAACCCCAAAIIIIAAAggggAACCCCAAAIIIIAAAggggAACNDRQAwgggAACCCCAAAIIIIAAAggggAACCCCAAAIIIIAAAggggAACCCCQOgEaGlKXEiaEAAIIIIAAAggggAACCCCAAAIIIIAAAggggAACCCCAAAIIIIAAAjQ0UAMIIIAAAggggAACCCCAAAIIIIAAAggggAACCCCAAAIIIIAAAgggkDoBGhpSlxImhAACCCCAAAIIIIAAAggggAACCCCAAAIIIIAAAggggAACCCCAAAI0NFADCCCAAAIIIIAAAggggAACCCCAAAIIIIAAAggggAACCCCAAAIIIJA6ARoaUpcSJoQAAggggAACCCCAAAIIIIAAAggggAACCCCAAAIIIIAAAggggAACNDRQAwgggAACCCCAAAIIIIAAAggggAACCCCAAAIIIIAAAggggAACCCCQOgEaGlKXEiaEAAIIIIAAAggggAACCCCAAAIIIIAAAggggAACCCCAAAIIIIAAAjQ0UAMIIIAAAggggAACCCCAAAIIIIAAAggggAACCCCAAAIIIIAAAgggkDoBGhpSlxImhAACCCCAAAIIIIAAAggggAACCCCAAAIIIIAAAggggAACCCCAAAI0NFADCCCAAAIIIIAAAggggAACCCCAAAIIIIAAAggggAACCCCAAAIIIJA6ARoaUpcSJoQAAggggAACCCCAAAIIIIAAAggggAACCCCAAAIIIIAAAggggAACNDRQAwgggAACCCCAAAIIIIAAAggggAACCCCAAAIIIIAAAggggAACCCCQOgEaGlKXEiaEAAIIIIAAAggggAACCCCAAAIIIIAAAggggAACCCCAAAIIIIAAAjQ0UAMIIIAAAggggAACCCCAAAIIIIAAAggggAACCCCAAAIIIIAAAgggkDoBGhpSlxImhAACCCCAAAIIIIAAAggggAACCCCAAAIIIIAAAggggAACCCCAAAI0NFADCCCAAAIIIIAAAggggAACCCCAAAIIIIAAAggggAACCCCAAAIIIJA6ARoaUpcSJoQAAggggAACCCCAAAIIIIAAAggggAACCCCAAAIIIIAAAggggAACNDRQAwgggAACCCCAAAIIIIAAAggggAACCCCAAAIIIIAAAggggAACCCCQOgEaGlKXEiaEAAIIIIAAAggggAACCCCAAAIIIIAAAggggAACCCCAAAIIIIAAAjQ0UAMIIIAAAggggAACCCCAAAIIIIAAAggggAACCCCAAAIIIIAAAgggkDoBGhpSlxImhAACCCCAAAIIIIAAAggggAACCCCAAAIIIIAAAggggAACCCCAAAI0NFADCCCAAAIIIIAAAggggAACCCCAAAIIIIAAAggggAACCCCAAAIIIJA6ARoaUpcSJoQAAggggAACCCCAAAIIIIAAAggggAACCCCAAAIIIIAAAggggAACNDRQAwgggAACCCCAAAIIIIAAAggggAACCCCAAAIIIIAAAggggAACCCCQOgEaGlKXEiaEAAIIIIAAAggggAACCCCAAAIIIIAAAggggAACCCCAAAIIIIAAAjQ0UAMIIIAAAggggAACCCCAAAIIIIAAAggggAACCCCAAAIIIIAAAgggkDoBGhpSlxImhAACCCCAAAIIIIAAAggggAACCCCAAAIIIIAAAggggAACCCCAAAI0NFADCCCAAAIIIIAAAggggAACCCCAAAIIIIAAAggggAACCCCAAAIIIJA6ARoaUpcSJoQAAggggAACCCCAAAIIIIAAAggggAACCCCAAAIIIIAAAggggAACNDRQAwgggAACCCCAAAIIIIAAAggggAACCCCAAAIIIIAAAggggAACCCCQOgEaGlKXEiaEAAIIIIAAAggggAACCCCAAAIIIIAAAggggAACCCCAAAIIIIAAAjQ0UAMIIIAAAggggAACCCCAAAIIIIAAAggggAACCCCAAAIIIIAAAgggkDoBGhpSlxImhAACCCCAAAIIIIAAAggggAACCCCAAAIIIIAAAggggAACCCCAAAI0NFADCCCAAAIIIIAAAggggAACCCCAAAIIIIAAAggggAACCCCAAAIIIJA6ARoaUpcSJoQAAggggAACCCCAAAIIIIAAAggggAACCCCAAAIIIIAAAggggAACNDRQAwgggAACCCCAAAIIIIAAAggggAACCCCAAAIIIIAAAggggAACCCCQOgEaGlKXEiaEAAIIIIAAAggggAACCCCAAAIIIIAAAggggAACCCCAAAIIIIAAAjQ0UAMIIIAAAggggAACCCCAAAIIIIAAAggggAACCCCAAAIIIIAAAgggkDoBGhpSlxImhAACCCCAAAIIIIAAAggggAACCCCAAAIIIIAAAggggAACCCCAAAI0NFADCCCAAAIIIIAAAggggAACCCCAAAIIIIAAAggggAACCCCAAAIIIJA6ARoaUpcSJoQAAggggAACCCCAAAIIIIAAAggggAACCCCAAAIIIIAAAggggAACNDRQAwgggAACCCCAAAIIIIAAAggggAACCCCAAAIIIIAAAggggAACCCCQOgEaGlKXEiaEAAIIIIAAAggggAACCCCAAAIIIIAAAggggAACCCCAAAIIIIAAAjQ0UAMIIIAAAggggAACCCCAAAIIIIAAAggggAACCCCAAAIIIIAAAgggkDoBGhpSlxImhAACCCCAAAIIIIAAAggggAACCCCAAAIIIIAAAggggAACCCCAAAI0NFADCCCAAAIIIIAAAggggAACCCCAAAIIIIAAAggggAACCCCAAAIIIJA6ARoaUpcSJoQAAggggAACCCCAAAIIIIAAAggggAACCCCAAAIIIIAAAggggAACNDRQAwgggAACCCCAAAIIIIAAAggggAACCCCAAAIIIIAAAggggAACCCCQOgEaGlKXEiaEAAIIIIAAAggggAACCCCAAAIIIIAAAggggAACCCCAAAIIIIAAAjQ0UAMIIIAAAggggAACCCCAAAIIIIAAAggggAACCCCAAAIIIIAAAgggkDoBGhpSlxImhAACCCCAAAIIIIAAAggggAACCCCAAAIIIIAAAggggAACCCCAAAI0NFADCCCAAAIIIIAAAggggAACCCCAAAIIIIAAAggggAACCCCAAAIIIJA6ARoaUpcSJoQAAggggAACCCCAAAIIIIAAAggggAACCCCAAAIIIIAAAggggAACNDRQAwgggAACCCCAAAIIIIAAAggggAACCCCAAAIIIIAAAggggAACCCCQOgEaGlKXEiaEAAIIIIAAAggggAACCCCAAAIIIIAAAggggAACCCCAAAIIIIAAAjQ0UAMIIIAAAggggAACCCCAAAIIIIAAAggggAACCCCAAAIIIIAAAgggkDoBGhpSlxImhAACCCCAAAIIIIAAAggggAACCCCAAAIIIIAAAggggAACCCCAAAI0NFADCCCAAAIIIIAAAggggAACCCCAAAIIIIAAAggggAACCCCAAAIIIJA6ARoaUpcSJoQAAggggAACCCCAAAIIIIAAAggggAACCCCAAAIIIIAAAggggAACNDRQAwgggAACCCCAAAIIIIAAAggggAACCCCAAAIIIIAAAggggAACCCCQOgEaGlKXEiaEAAIIIIAAAggggAACCCCAAAIIIIAAAggggAACCCCAAAIIIIAAAjQ0UAMIIIAAAggggAACCCCAAAIIIIAAAggggAACCCCAAAIIIIAAAgggkDoBGhpSlxImhAACCCCAAAIIIIAAAggggAACCCCAAAIIIIAAAggggAACCCCAAAI0NFADpgRmz54t999/vzz77LPy7bffypIlS6RFixbSoUMH6dWrlxx33HGy4447bpTJmDFj5MEHH5RPP/1UFi1aJC1btpR99tlHzj33XOnevXuk2MuXL5c777xTnnjiCZk+fbqsXLlS2rZtK4cddpicf/750r59+0hxOAkBBBBAAAEEEEAAAQQQKBaBH3/8Ud599133v/fee8/9b8GCBW55/fv3l1GjRuW11Oeee05Gjhzp4sybN8/tDbt16yYDBgyQQw45JK9YVZ3M/s4bJYEQQAABBBBAAAEEEEAAAQQMCtDQYDDpVpd8xx13yGWXXSbLli3LSTBkyBD529/+Fovov//9r/Tt21cmTpxY6etLSkrkyiuvlGHDhlUZ/5tvvpFDDz1U/v3vf1d6XuPGjeWRRx6RPn36xJonL0IAAQQQQAABBBBAAAEEsihQo0aNnNPOp6Fh7dq1rmlBm91zHWeeeaaMGDFCdB+3MQf7u43R47UIIIAAAggggAACCCCAAAIIiNDQQBWYELj22mvliiuucGvt0qWLnHXWWe43b5o0aeJ+o+ejjz6SCRMmyB577CG33nprLJMTTzxRHnvsMfdavduDNkdsueWWMm3aNLn++uvdnRb00ItievGsskPvGLHbbrvJ119/7X6s8zzhhBOkXr16MmnSJLnhhhtk6dKlUr9+fXnzzTdl5513jjVXXoQAAggggAACCCCAAAIIZE2gfENDu3btZNttt5UXX3zRLSOfhgZtdL/xxhvd63bZZRe5+OKLpVOnTm7PNnz4cLc/1EPP071c3IP9XVw5XocAAggggAACCCCAAAIIIIDA/wRoaKAail7glVdekQMOOMCt85RTTpH77rtPNtlkk0rXvWrVKqldu3beJq+++qrsv//+7nWHH364a46oWbNmWZz58+fLrrvuKvrIi6ZNm8qMGTOkWbNmG4yjd3C45ppr3J/rhbShQ4dWOOett96Snj17yurVq93/T548Oe+58gIEEEAAAQQQQAABBBBAIIsCerc7bUzX/+mj/WbNmiUdO3Z0S4na0KDN4zvssIPbU2kz+WuvveYayEsPfTyE7rXef/99qVWrlvzrX/+SrbfeOhYX+7tYbLwIAQQQQAABBBBAAAEEEEAAgQoCNDRQEEUtoLcS1d/a0cc3dO3ateyilO9F6yMi9PmresFr5syZ0qZNmw2G0Ls36F0c9KisWeGXX35xz2z9+eefZbvttpPPPvus0tubnn322e4uD3ros2P1Yh4HAggggAACCCCAAAIIIGBNIE5Dw6BBg+Tuu+92VFOnTpU999xzA7a3335bunfv7v5cz7/rrrvypmV/lzcZL0AAAQQQQAABBBBAAAEEEECgUgEaGiiMohZ4/vnn5ZBDDnFrfPTRR8saCnwuWm8j2rx5c9G7O/Tu3ds1NlR26M+1YWHx4sXu4pjebaH8obdKPfjgg90f6e1PL7nkkkrjlL+4trG3QPXpQCwEEEAAAQQQQAABBBBAIEmBfBsa1q1b55rPv//+e9f4rndfyHXoz7/66itp3bq1fPfdd1L+cRdR1sj+LooS5yCAAAIIIIAAAggggAACCCBQvQANDdUbcUaGBc444wx54IEH3MUnvfNBo0aN3Gp++uknWbBggWy22Way6aabbtQKyz9u4oYbbpBLL700ZzxtWNALW3onB72VaflHX5S/HWmu3xTSwHpr1CZNmrjX77vvvjJlypSNmj8vRgABBBBAAAEEEEAAAQSyKJBvQ4M++q9Tp05uqQMHDpR77rkn57L15yNHjnQ/19eVPtoiqhP7u6hSnIcAAggggAACCCCAAAIIIIBA1QI0NFAhRS2gz0b94osv3MUnvQild2nQpgN9nEPp0aVLFznrrLPkvPPOkzp16uTtceedd7rX6jFhwgQ56qijcsYYMmSI3H777e7nn3/+uWy//fZl5/bt21eefPJJ9+8LFy6Upk2b5oyjj8/49NNP3R0ffvzxx7znzAsQQAABBBBAAAEEEEAAgawL5NvQ8Mwzz8jhhx/ulv3Xv/5VLrjggpwE+vOLLrrI/fzZZ58VfcxgPgf7u3y0OBcBBBBAAAEEEEAAAQQQQACB3AI0NFAdRSuwdu1adwcE/f9u3bq5xzyUNhNUtugePXq4C1VVNRJU9jq9I8Nf/vIX96P33ntPdtttt5ymN998swwdOtT9XB+HUfqICf13fXbrO++8Iw0aNJClS5dWmZc+ffq4ueqxYsWKvBox/t//+39VxtZ4X375pbRs2dI1TOjdJDgQQAABBBBAAAEEEEAgvIDejW3evHluoJ122knq1q0bftAMj5BvQ4PekeGcc85xK37iiSdEmw5yHePGjZN+/fq5H+vr9I4N+RxJ7O/Y2+WTEc5FAAEEEEAAAQQQQCBZAfZ3yXozWnEL0NBQ3Pk1vTq9y0Hp4yT0QqB+Ud+qVSu56aab3G/X6J9pA8Ill1wib7/9trM6+uijZfz48Xm5nXvuufL3v//dvUafwarPWs113H333TJo0CD3Y71Aduyxx5adWno3CW0kmDt3bpVzOP7442Xs2LHunPnz57tHZ0Q98n32a9S4nIcAAggggAACCCCAAAL+BN59913XmM2RWyDfhgbdC1588cUu4HPPPSe9e/fOGVx/XnpXBm1M//3vf59XKpLY37G3yyslnIwAAggggAACCCCAQMEE2N8VjJ6Bi0SAhoYiSSTL2FBAf1ulbdu2ZT+oX7++fPjhh7LNNttUOPm///2vu3vDJ5984v5cmxv22GOPyKRnnHGGPPDAA+786dOny1ZbbZXztXqenq/H6NGj5eSTTy47V5/lqo/F0DnPnj27yvFPOeUU93o9vvvuO2nTpk3k+XLRKzIVJyKAAAIIIIAAAgggUDABLnhVT59vQ8M111wjV155pQv8yiuvyG9+85ucg7z66quy//77u5/r6/70pz9VP6FyZySxv2Nvl1dKOBkBBBBAAAEEEEAAgYIJsL8rGD0DF4kADQ1FkkiWsaGA3rlAH5lQepx//vly2223VUqlj2/QxzjoceGFF8qtt94amTRrd2io7rak2iChj9/Q46WXXpL27dtHtuBEBMoLrFy50j1GRQ9tEqpTpw5ACMQWoJ5i0/HCSgSoJ8rCpwD15FOTWN9++60ceOCBDmLmzJnSoUMHUKoQyLehodju0MDejrdHkgJ83iWpXfxjUU/Fn+MkV0g9Jald/GNRT8Wf4yRXyP4uSW3GKnYBGhqKPcOG16d/+Sj/zNlnnnlGDjvssEpF9HEUjRo1En2m0d577y2vv/56ZLlLL71U/vKXv7jz9REWu+22W87X6q1Khw4d6n7+/PPPy8EHH1x2bhLPWI2yqPJ3tvj666+lc+fOUV7GOQhsIKB3P3nxxRfdnx900EFSr149lBCILUA9xabjhZUIUE+UhU8B6smnJrH+/e9/S5cuXRxEvndis6iXb0PDPffcI+ecc46jeuKJJ6Rv37452fQRgf369XM/19cNHDgwL+I07O/Y2+WVMk6uRoDPO0rEpwD15FOTWNQTNeBTgHryqUks9nfUAAL+BGho8GdJpBQKbL755jJv3jw3M32kxK9+9aucs2zVqpXMnTvXPZLiyy+/jLyaO++8U8477zx3/oQJE+Soo47K+dohQ4bI7bff7n7++eefy/bbb192rl5Me/LJJ92/L1y4UJo2bZozTteuXeXTTz91d6D48ccfI881yolc9IqixDlRBNgARFHinKgC1FNUKc6LIkA9RVHinKgC1FNUKc6LIsAFryhK/zsn34YGbXI//PDDXYC//vWvcsEFF+QcUH9+0UUXuZ/rHf0OPfTQvCaXhv0de7u8UsbJ1QjweUeJ+BSgnnxqEot6ogZ8ClBPPjWJxf6OGkDAnwANDf4siZRCgV69esnkyZPdzD788EPZZZddcs6ytPlhhx12kM8++yzyaso/W/WGG24QvWNDrkPvyKC/sV6rVi1Zvny5bLLJJmWn6rNc9dmsekydOlX0N3oqO/QuEtrssGzZMtl3331lypQpkeca5UQuekVR4pwoAmwAoihxTlQB6imqFOdFEaCeoihxTlQB6imqFOdFEeCCVxSl/52Tb0PDjBkzpFOnTi6A3nFB77yQ69Cfjxw50v1YX9exY8e8JpeG/R17u7xSxsnVCPB5R4n4FKCefGoSi3qiBnwKUE8+NYnF/o4aQMCfAA0N/iyJlEKBYcOGyZ///Gc3M71l6LHHHlvpLBcvXuyaBNatW+dujf/CCy9EXs2SJUukefPmsmrVKundu7c899xzlb5Wf653VNCxunfvLm+99VaF87TRofQRFDfeeKNccskllcZ5++233ev1uOyyy+T666+PPNcoJ3LRK4oS50QRYAMQRYlzogpQT1GlOC+KAPUURYlzogpQT1GlOC+KABe8oij975x8Gxp0v9emTRv5/vvvZdttt5V//etfOQfcbrvt3J37Wrdu7R7/UaNGjbwml4b9HXu7vFLGydUI8HlHifgUoJ58ahKLeqIGfApQTz41icX+jhpAwJ8ADQ3+LImUQgF9LIM+nkGPk046SR5++OFKZ/nQQw/Jqaee6n6md0n405/+lNdq9Paj2sigd16YOXOmu0i2/vHYY4/JiSee6P54+PDhMnTo0AqnaMOD3iXi559/Fr14po+kqOyi2dlnny0jRoxwr3333XelW7duec21upO56FWdED+PKsAGIKoU50URoJ6iKHFOVAHqKaoU50URoJ6iKHFOVAEueEWV+r/z8m1o0NcMGjRI7r77bvf6XHfGK99Eruffdddd+U1MxDW8F3p/x94u77TxgioE+LyjPHwKUE8+NYlFPVEDPgWoJ5+axGJ/Rw0g4E+AhgZ/lkRKqUBps0FJSYl73MP+++9fYaZz5851TQF6sad27drudqL6Wzilx6hRo+S0005z/6p3fLjqqqs2WGn5x04cccQRMn78eKlZs2bZefPnz5ddd91VZs+e7e4EoWM0a9Zsgzjlb0taWdODXnDTx0zoYyd69uxZ9jgNn/Rc9PKpaTsWGwDb+fe9eurJt6jteNST7fz7Xj315FvUdjwueOWX/zgNDV9//bVsv/32smbNGtltt93ktddek3r16pUNrO9p3XO9//77rmH9iy++kM6dO28wMW2I18Z4PSZNmiT77bdf6vZ37O3yqyfOrlqAzzsqxKcA9eRTk1jUEzXgU4B68qlJLPZ31AAC/gRoaPBnSaSUCugFqz322EMWLVokdevWlQsuuEC0yUEvWukdDm644QbXzKDHX/7yF7n44osrrCRKQ4O+QO++oHdh0KNXr15unC233FKmTZsm1113nUyfPt39TO+uMGDAgEq19PEVelFN56yHnnfCCSe4uepFMn28xNKlS92/6yMrdt55Z+/qXPTyTmo2IBsAs6kPsnDqKQir2aDUk9nUB1k49RSE1WxQLnhVnfo33nhDvvnmm7KTtHG89M53e+21l5x55pkVApTehW/9qProPn3Mnx677LKLe9xfp06d3J5N94QfffSR+1lVj/iL0tBQ6P0dezuz/ykJsnA+74Kwmg1KPZlNfZCFU09BWM0GpZ7Mpj7IwtnfBWElqFEBGhqMJt7asvXCV9++feWHH36odOn6aIc//vGP7nET6x9RGxr0Lzs6xsSJEysdQ+8QccUVV1R6h4fyL9ALdNpwoR92lR2NGzeWRx55RPr06RMkjVz0CsJqMigbAJNpD7Zo6ikYrcnA1JPJtAdbNPUUjNZkYC54VZ328k0EUQpk3bp1lZ62du1aOeuss+SBBx7IGeaMM86QkSNHiu7jKjuiNDTo6wq5v2NvF6VKOCeqAJ93UaU4L4oA9RRFiXOiClBPUaU4L4oA9RRFiXOiCrC/iyrFeQhUL0BDQ/VGnFEkAgsWLJA77rhDnnrqKZk5c6Z7pmmrVq3crUHPO+8895s5lR1RGxpKX/voo4+KvuaTTz5xd4Vo2bKl7LPPPjJ48GDp3r17JM1ly5a557Q+8cQT7gKYzrVt27au0WHIkCHSvn37SHHinMRFrzhqvKYyATYA1IVPAerJpyaxqCdqwKcA9eRTk1hc8Kq6Bnw1NJSOos3o2rTw3nvvid7toXnz5u5xhAMHDpRDDjmkyslEbWjQIIXa37G3478pPgX4vPOpSSzqiRrwKUA9+dQkFvVEDfgUYH/nU5NY1gVoaLBeAawfgfUEuOhFSfgSYAPgS5I4KkA9UQc+Bagnn5rEop6oAZ8CXPDyqUks9nbUgE8BPu98ahKLeqIGfApQTz41iUU9UQM+Bdjf+dQklnUBGhqsVwDrR4CGBmogkAAbgECwRsNST0YTH2jZ1FMgWKNhqSejiQ+0bC54BYI1GpaGBqOJD7RsPu8CwRoNSz0ZTXygZVNPgWCNhqWejCY+0LLZ3wWCJaxJARoaTKadRSOQW4CLXlSHLwE2AL4kiaMC1LCFIPsAACAASURBVBN14FOAevKpSSzqiRrwKcAFL5+axGJvRw34FODzzqcmsagnasCnAPXkU7NiLH0M8tKlS93js/Sf165dG26wlETWNc6bN8/NpkWLFlJSUpKSmTGNQgjUrFlT6tatK40bN5YGDRpIjRo18poG+7u8uDgZgSoFaGigQBBAoIIAF70oCF8CbCh9SRJHBagn6sCnAPXkU5NY1BM14FOAC14+NYnF3o4a8CnA551PTWJRT9SATwHqyafm/8Vat26dzJ8/3/3P2qFr15rSo169enl/gW3Ny9J6tR7atWuXV5ML+ztLFcJaQwvQ0BBamPgIZEyAi14ZS1iKp8uGMsXJyeDUqKcMJi3FU6aeUpycDE6Nespg0lI8ZS54pTg5GZwae7sMJi3FU+bzLsXJyeDUqKcMJi3FU6ae/Cfn+++/l59//rlCYP3NdP1tdQvH6tWr3TJr1aplYbmssQqBNWvWuAaf0kObGtq3bx+50YX9HeWFgD8BGhr8WRIJgaIQ4KJXUaQxFYtgQ5mKNBTNJKinokllKhZCPaUiDUUzCeqpaFKZioVwwSsVaSiaSbC3K5pUpmIhfN6lIg1FMwnqqWhSmYqFUE9+07BixQqZOXNmWdDNNtvM3W6/Tp06kb/E9TujZKPpIycWL17sBtV188iJZP3TNprWgz52Ze7cuaLNDXq0bdtWGjZsGGmq7O8iMXESApEEaGiIxMRJCNgR4KKXnVyHXikbytDCtuJTT7byHXq11FNoYVvxqSdb+Q69Wi54hRa2FZ+9na18h14tn3ehhW3Fp55s5Tv0aqknv8L6xe3ChQtd0M0331y0ocHSQUODpWxHX6s2ucyZM8e9oGnTptKqVatIL2Z/F4mJkxCIJEBDQyQmTkLAjgAXvezkOvRK2VCGFrYVn3qyle/Qq6WeQgvbik892cp36NVywSu0sK347O1s5Tv0avm8Cy1sKz71ZCvfoVdLPfkVnjFjhqxcudIF7dKli5nHTJQq0tDgt56KJZrWxddff+0eP6F3K9lqq60iLY39XSQmTkIgkgANDZGYOAkBOwJc9LKT69ArZUMZWthWfOrJVr5Dr5Z6Ci1sKz71ZCvfoVfLBa/Qwrbis7ezle/Qq+XzLrSwrfjUk618h14t9eRXWP8+unr1aqlVq5Z07tzZb/AMRKOhIQNJKtAU47w32N8VKFkMW5QCNDQUZVpZFALxBbjoFd+OV1YUYENJRfgUoJ58ahKLeqIGfApQTz41icUFL2rApwB7O5+axOLzjhrwKUA9+dQkFvXktwbifGnrdwaFjUZDQ2H90zx6nPcG+7s0Z5S5ZU2AhoasZYz5IhBYgItegYENhWdDaSjZCSyVekoA2dAQ1JOhZCewVOopAWRDQ3DBy1CyE1gqe7sEkA0NweedoWQnsFTqKQFkQ0NQT36THedLW78zKGw0GhoK65/m0eO8N9jfpTmjzC1rAjQ0ZC1jzBeBwAJc9AoMbCg8G0pDyU5gqdRTAsiGhqCeDCU7gaVSTwkgGxqCC16Gkp3AUtnbJYBsaAg+7wwlO4GlUk8JIBsagnrym+w4X9r6nUFho9HQUFj/NI8e573B/i7NGWVuWROgoSFrGWO+CAQW4KJXYGBD4dlQGkp2AkulnhJANjQE9WQo2QkslXpKANnQEFzwMpTsBJbK3i4BZEND8HlnKNkJLJV6SgDZ0BDUk99kx/nS1u8MChuNhobC+qd59DjvDfZ3ac4oc8uaAA0NWcsY80UgsAAXvQIDGwrPhtJQshNYKvWUALKhIagnQ8lOYKnUUwLIhobggpehZCewVPZ2CSAbGoLPO0PJTmCp1FMCyIaGoJ78JjvOl7Z+Z1DYaDQ0FNY/zaPHeW+wv0tzRplb1gRoaMhaxpgvAoEFuOgVGNhQeDaUhpKdwFKppwSQDQ1BPRlKdgJLpZ4SQDY0BBe8DCU7gaWyt0sA2dAQfN4ZSnYCS6WeEkA2NAT15DfZcb609TuDwkajoaGw/mkePc57g/1dmjPK3LImQEND1jLGfBEILMBFr8DAhsKzoTSU7ASWSj0lgGxoCOrJULITWCr1lACyoSG44GUo2Qkslb1dAsiGhuDzzlCyE1gq9ZQAsqEhqCe/yY7zpa3fGRQ2WqEaGpYtWyajR4+Wf/7zn/LJJ5/IggULZN26ddK4cWPp0KGD7LTTTtK9e3fp3bu3tG3btrBIRkeP895gf2e0WFh2EAEaGoKwEhSB7Apw0Su7uUvbzNlQpi0j2Z4P9ZTt/KVt9tRT2jKS7flQT9nOX9pmzwWvtGUk2/Nhb5ft/KVt9nzepS0j2Z4P9ZTt/KVt9tST34zE+dLW7wwKG60QDQ1Tp06VE044QWbPnl3t4lu2bClz587d4Lz99ttPpkyZIj179pTJkydXG2djT9Ami2+//Vb69+8vo0aN2thwmXh9nPcG+7tMpJZJZkSAhoaMJIppIpCUABe9kpIu/nHYUBZ/jpNcIfWUpHbxj0U9FX+Ok1wh9ZSkdvGPxQWv4s9xkitkb5ekdvGPxedd8ec4yRVST0lqF/9Y1JPfHMf50tbvDAobLemGhq+//lp22203WbJkiVv4EUccIX379pUuXbpI7dq1Zf78+e6ODS+99JJMmjRJNt10UxoaClQicd4b7O8KlCyGLUoBGhqKMq0sCoH4Alz0im/HKysKsKGkInwKUE8+NYlFPVEDPgWoJ5+axOKCFzXgU4C9nU9NYvF5Rw34FKCefGoSi3ryWwNxvrT1O4PCRku6oaFfv34ybtw4t+gHH3xQTj311JwA8+bNk7Fjx8q55567wTncoSF83cR5b7C/C58XRrAjQEODnVyzUgQiCXDRKxITJ0UQYEMZAYlTIgtQT5GpODGCAPUUAYlTIgtQT5GpODGCABe8IiBxSmQB9naRqTgxggCfdxGQOCWyAPUUmYoTIwhQTxGQ8jglzpe2eYRP/alJNjSsWbNGGjVqJFrDepeG9957L7YPDQ2x6SK/MM57g/1dZF5ORKBaARoaqiXiBARsCXDRy1a+Q66WDWVIXXuxqSd7OQ+5YuoppK692NSTvZyHXDEXvELq2ovN3s5ezkOumM+7kLr2YlNP9nIecsXUk1/dOF/a+p1BYaMl2dAwd+5cadWqlVvwCSecIGPGjMl78XpHh4ceeqjK17Vv315mzZpVds6yZcvkmWeecY+xeP/992XmzJmyfPlyadq0qWy//fZy+OGHy9lnny0NGzbcIG5p40RVA/bs2VMmT568wSm63jvuuENeeOEFmTFjhug8Nt98c+nevbsMGDBADjjggLzXry/Qmt1ll11cvJ133lneeecd97iO9Y/Vq1fLXnvtJe+++67UrVtXPvjgA7feqEec9wb7u6i6nIdA9QI0NFRvxBkImBLgopepdAddLBvKoLzmglNP5lIedMHUU1Bec8GpJ3MpD7pgLngF5TUXnL2duZQHXTCfd0F5zQWnnsylPOiCqSe/vHG+tPU7g8JGS7Kh4aeffpLNNtvMLbhr167y8ccf5734OA0NUZoSOnbsKBMnTpRtt922wpyivLayhoZHHnlEBg4c6JoOch1nnHGG3HPPPVKrVq28He69917XFKHH0KFDZfjw4RvEuOKKK+Taa691f3777bfLeeedl9c4cd4b7O/yIuZkBKoUoKGBAkEAgQoCXPSiIHwJsKH0JUkcFaCeqAOfAtSTT01iUU/UgE8BLnj51CQWeztqwKcAn3c+NYlFPVEDPgWoJ5+a//fb7vqb7PqlcufOnf0Gz0C0JBsalKNDhw7y7bffOpkbb7zRfRlfUlISWWrOnDmycOFCOe2009zdFvTRFQ8++GCF1+vdCrp06VL2Z3vvvbcsXrxYjjjiCHf+lltuKevWrXPzmDBhgowdO1bUYZtttnFNFno3g9JD7+agTQkHH3ywfP/993LkkUeWNQmUntOgQQPRhojSQ+PpHSh0jK222koGDx7s7ozQokULd+eI+++/3zVP6HHhhRfKrbfeGnn95U886qij5B//+Ifze/nll6VXr15lP37zzTdFGy30MR+9e/d249WoUSOvceK8N9jf5UXMyQhUKUBDAwWCAAIVBLjoRUH4EmBD6UuSOCpAPVEHPgWoJ5+axKKeqAGfAlzw8qlJLPZ21IBPAT7vfGoSi3qiBnwKUE8+NfNoaFi7VuS/P/kdPAXR9Iv8JUuWuJk0atTof80F9TYVyaPRIOpSbrnlFvnDH/5Qdro2OGijQY8ePWT33Xev0BhQVczSOyfketxD+dfqnqOqZhVtBtCGBbW47777RO+csP5R2ojRv39/GTVqVM6pzZ8/X7beemv5+eef5fTTT5cRI0ZUegeGP/7xj3L99dc77y+++MI1U+R76Fg77bST6KMt2rRpI59++qk0a9bMNW/oHTC0eaJ58+Yybdo02WKLLfINH6vZh/1d3sy8AIGcAjQ0UBwIIFBBgIteFIQvATaUviSJowLUE3XgU4B68qlJLOqJGvApwAUvn5rEYm9HDfgU4PPOpyaxqCdqwKcA9eRTM4+GhmXzRW7q5HfwNEcbOl2kQXPvM9SmgbPOOkseeOCBSmO3bNlStFnhpJNOkj59+uS8q0A+DQ1RFnH00UfLU0895cZ8+umnN3hJ1IaGa665Rq688kpp3bq1TJ8+XerUqVPp8HpXEI2pd5y4/PLL5brrrosyzQ3OeeGFF+SQQw5xd4M47rjj5PHHH5dTTjlFRo8e7c7VO1DonRziHNyhIY4ar0HAnwANDf4siYRAUQhw0aso0piKRbChTEUaimYS1FPRpDIVC6GeUpGGopkE9VQ0qUzFQmhoSEUaimYS7O2KJpWpWAifd6lIQ9FMgnoqmlSmYiHUk980RP7SloYGr/AvvfSSe9SC3h1Bv9yv7NDHQzz22GPSqdOGjSQb09Awb948WbRokaxcubJs2Ntvv13uvfdeadu2rcyePXuD6URtaOjWrZt7FMbAgQPlnnvuqdKsX79+Mm7cOPeoiFdffTW275AhQ0Tnr8eJJ54oY8aMcf985plnujXFPSK/N8oNwP4urjavQ2BDARoaqAoEEKggwEUvCsKXABtKX5LEUQHqiTrwKUA9+dQkFvVEDfgU4IKXT01isbejBnwK8HnnU5NY1BM14FOAevKpyR0acmoGukPD+uPp4xHefPNNee+991wjwGuvveYe11B6tGrVSj744APR/y9/5NvQoGPol/7aQPHTT7kfHVKvXj1Zvnz5BixRGhrWrFkjdevWzdmgkct6u+22c4+diHusWLFCtPnj888/Lwuhj9j46KOPpEGDBnHD8siJ2HK8EAE/AjQ0+HEkCgJFI8BFr6JJZcEXwoay4CkoqglQT0WVzoIvhnoqeAqKagLUU1Gls+CLoaGh4CkoqgmwtyuqdBZ8MXzeFTwFRTUB6qmo0lnwxVBPflMQ+bfQuUODX/gc0fSuCY8++qj8/ve/l4ULF7qzzjjjDLnvvvsqvCKfhoarrrpKrr766sjz18c3rH9EaWjQOz9svvnmkccpPbF9+/Yya9asvF9X/gWTJ092d3ooPbSBo0ePHhsVM/J7o9wo7O82ipwXI1BBgIYGCgIBBCoIcNGLgvAlwIbSlyRxVIB6og58ClBPPjWJRT1RAz4FuODlU5NY7O2oAZ8CfN751CQW9UQN+BSgnnxq5nGHhrVrRf6b+zf7/c4quWhr166VJUuWuAEbNWokJSUl/zd4vU1FSv85uemUjfTCCy9I79693b83a9ZM5s+f/7+5iUjUhoZXXnlFDjjgABdnq622kj/84Q+y9957S7t27dzdC2rVquV+duWVV8o111zj/jluQ8PcuXPL7iShj3vQR0FEOWrXri1dunSJcmrOc4499lgZP3582c+HDRsm2sixMQcNDRujx2sR2HgBGho23pAICBSVABe9iiqdBV0MG8qC8hfd4NRT0aW0oAuingrKX3SDU09Fl9KCLoiGhoLyF93g7O2KLqUFXRCfdwXlL7rBqaeiS2lBF0Q9+eWP86Wt3xkUNpo2NOhjH/Ro3LhxhaaBws5MXNPBd99956bx448/SosWLcqmFLWh4YQTTpDHH3/cNUV89dVXFWKUX9/gwYPlrrvucn8Ut6Fh1apVUqdOHRejsrtKhPJ84IEH3HilOdR8aqPGG2+8IXvssUfsYeO8N9jfxebmhQhsIEBDA0WBAAIVBLjoRUH4EmBD6UuSOCpAPVEHPgWoJ5+axKKeqAGfAlzw8qlJLPZ21IBPAT7vfGoSi3qiBnwKUE8+NfO4Q4PfYVMTLc0NDXvuuae88847zkof59C8efMyN328gj5moWfPnu7/cx077bSTfPbZZ3LMMcfIk08+mfO88mNV1tDQsWNH91iI/v37y6hRo3LG2XHHHeXzzz+XbbfdVv71r38Fz/OMGTOka9eusnTpUtGxJ0yYIN26dZNFixbJ1ltvLR9//LG7E0Wcg4aGOGq8BgF/AjQ0+LMkEgJFIcBFr6JIYyoWwYYyFWkomklQT0WTylQshHpKRRqKZhLUU9GkMhULoaEhFWkomkmwtyuaVKZiIXzepSINRTMJ6qloUpmKhVBPftMQ50tbvzMobLS0NjQsX75ctthiC/c4DL1zhH5BX6NGjTKsQw45RJ5//nnRRoSpU6fmRNxuu+3kyy+/lIMPPtidX9nx0Ucfya9//euyH1XW0FAaR+/4MGbMmJzjXX755XLDDTe4n+t4Om6oY82aNbLPPvu49eudId5991351a9+5e5IofPUQx99ce+998aaQpz3Bvu7WNS8CIFKBWhooDAQQKCCABe9KAhfAmwofUkSRwWoJ+rApwD15FOTWNQTNeBTgAtePjWJxd6OGvApwOedT01iUU/UgE8B6smnJndoSLKhQe8isP/++8sVV1whhx56aM7HW+iczjrrLNFHKehx8skny+jRoysk/vTTT5cHH3xQNt98c5k7d26FZofyJx5xxBHy9NNPu7sU6N0K9K4F5Q+984Pe7UHvqlB6VNbQ8Jvf/EYmTZrk7n6gjQO5jh9++MGNoWtt1aqVvPTSS7LDDjvkPP/ZZ5+Vtm3bukaEfI8///nPMmzYMPeyW265RS666KKyEL/73e/k4Ycfdv/+1FNPyZFHHplveKGhIW8yXoCAVwEaGrxyEgyB7Atw0Sv7OUzLCthQpiUTxTEP6qk48piWVVBPaclEccyDeiqOPKZlFTQ0pCUTxTEP9nbFkce0rILPu7RkojjmQT0VRx7TsgrqyW8m4nxp63cGhY2WdENDo0aN3IJbt24tRx11lHTv3l3at28v+ud6Fwa9W4I2MkybNs2d16RJE9eI0KFDhwpQ9913n2t60OOCCy5wTQ96rh6bbLKJi6nHuHHjpF+/fu6ft9xyS7n00ktl1113df/+1ltvya233uoaIsrf6aGyhoY//elPct1117nX6R0Y9A4RpY9yqFevnltP6TF+/Hjp27evaJy6devKqaee6s5v06aN/PLLL6J/Z9WmCJ2bPjJCGy769OmTVyHo6/faay9ZvXq1axLRxonyd7BYvHixa5L49ttvpUWLFs6zZcuWeY0R573B/i4vYk5GoEoBGhooEAQQqCDARS8KwpcAG0pfksRRAeqJOvApQD351CQW9UQN+BTggpdPTWKxt6MGfArweedTk1jUEzXgU4B68qnJHRqSbGhYsWKFdOzY0TUQRDk6d+7sHu9Q2oBQ/jV6B4SuXbu6hoD1D21mmDVrVtkfl97NobIxa9as6e5usHDhQrn66qvdKZU1NMyZM8c1CPz0008bhOnZs6dMnjy5wp9rk4I2MlR2fvkTS0pK5OWXX3Z3iYh6LFu2THbZZRd3B4VmzZq5ZoXyDRWlcV5//XXZb7/9RHOsd8TQu0Hkc9DQkI8W5yLgX4CGBv+mREQg0wJc9Mp0+lI1eTaUqUpH5idDPWU+halaAPWUqnRkfjLUU+ZTmKoF0NCQqnRkfjLs7TKfwlQtgM+7VKUj85OhnjKfwlQtgHrym444X9r6nUFhoyXZ0KAr1fHefvtt9yW+/v9XX30l+pgGbXbQOx7oXRS0UUEfkXDsscdK7dq1cwLp6/RuCS+++KK7E8Hy5cvdues3NOif6eMXRo4c6e72sGrVKtliiy1k3333lcGDB8vuu+8uV111VZUNDRpj+vTpbrwpU6a4uyzonPWorKFB/1zvknDvvffKxIkT3SMttLmhVq1abmx9DIU+xkLv5KCPnMjnGDBggIurx+OPPy7HHXdczpdffvnlbs563HXXXTJo0KDIQ8V5b7C/i8zLiQhUK0BDQ7VEnICALQEuetnKd8jVsqEMqWsvNvVkL+chV0w9hdS1F5t6spfzkCvmgldIXXux2dvZy3nIFfN5F1LXXmzqyV7OQ66YevKrG+dLW78zKGy0pBsaCrtaRs9HIM57g/1dPsKci0DVAjQ0UCEIIFBBgIteFIQvATaUviSJowLUE3XgU4B68qlJLOqJGvApwAUvn5rEYm9HDfgU4PPOpyaxqCdqwKcA9eRTk0dO0NDgt56KKRoNDcWUTdaSRQEaGrKYNeaMQEABLnoFxDUWmg2lsYQHXi71FBjYWHjqyVjCAy+XegoMbCw8DQ3GEh54ueztAgMbC8/nnbGEB14u9RQY2Fh46slvwuN8aet3BoWNRkNDYf3TPHqc9wb7uzRnlLllTYCGhqxljPkiEFiAi16BgQ2FZ0NpKNkJLJV6SgDZ0BDUk6FkJ7BU6ikBZENDcMHLULITWCp7uwSQDQ3B552hZCewVOopAWRDQ1BPfpMd50tbvzMobDQaGgrrn+bR47w32N+lOaPMLWsCNDRkLWPMF4HAAlz0CgxsKDwbSkPJTmCp1FMCyIaGoJ4MJTuBpVJPCSAbGoILXoaSncBS2dslgGxoCD7vDCU7gaVSTwkgGxqCevKb7Dhf2vqdQWGj0dBQWP80jx7nvcH+Ls0ZZW5ZE6ChIWsZY74IBBbgoldgYEPh2VAaSnYCS6WeEkA2NAT1ZCjZCSyVekoA2dAQXPAylOwElsreLgFkQ0PweWco2QkslXpKANnQENST32TH+dLW7wwKG42GhsL6p3n0OO8N9ndpzihzy5oADQ1ZyxjzRSCwABe9AgMbCs+G0lCyE1gq9ZQAsqEhqCdDyU5gqdRTAsiGhuCCl6FkJ7BU9nYJIBsags87Q8lOYKnUUwLIhoagnvwmO86Xtn5nUNhoNDQU1j/No8d5b7C/S3NGmVvWBGhoyFrGmC8CgQW46BUY2FB4NpSGkp3AUqmnBJANDUE9GUp2AkulnhJANjQEF7wMJTuBpbK3SwDZ0BB83hlKdgJLpZ4SQDY0BPXkN9lxvrT1O4PCRqOhobD+aR49znuD/V2aM8rcsiZAQ0PWMsZ8EQgswEWvwMCGwrOhNJTsBJZKPSWAbGgI6slQshNYKvWUALKhIbjgZSjZCSyVvV0CyIaG4PPOULITWCr1lACyoSGoJ7/JjvOlrd8ZFDYaDQ2F9U/z6HHeG+zv0pxR5pY1ARoaspYx5otAYAEuegUGNhSeDaWhZCewVOopAWRDQ1BPhpKdwFKppwSQDQ3BBS9DyU5gqeztEkA2NASfd4aSncBSqacEkA0NQT35TXacL239zqCw0WhoKKx/mkeP895gf5fmjDK3rAnQ0JC1jDHfvARq1KgR6fyePXvK5MmTI51b/iR9Ta9evfJ6Xa6xOnToIN9++221sdq3by+zZs2q9ry4J3DRK64cr1tfgA0lNeFTgHryqUks6oka8ClAPfnUJBYXvMLXwH777SdTpkzJa6BJkyaJvi6f46qrrpKrr7460kvixI8SmL1dFCXOiSrA511UKc6LIkA9RVHinKgC1FNUqWjnxfnSNlrkbJxFQ0M28lSIWcZ5b7C/K0SmGLNYBWhoKNbMsi4nkMaGhgEDBsiIESM2yBANDRRtsQmwoSy2jBZ2PdRTYf2LbXTqqdgyWtj1UE+F9S+20bngFT6j+TY0lJSUyOzZs6V169Z5TY6Ghry4ODkDAnzeZSBJGZoi9ZShZGVgqtST3yTF+dLW7wwKG42GhsL6p3n0OO8N9ndpzihzy5oADQ1ZyxjzzUugtKHhnHPOkUGDBuV8bYMGDaRjx455xdaTly1bJjNnzqz2dYMHDy77LaA333xTevToscFrShsajjzySLn22mtzxqxdu7Z06dKl2jHjnsBv8cSV43XrC7ChpCZ8ClBPPjWJRT1RAz4FqCefmsTiglf4GtD9m+7jqjq++OILOf74490pBx54oLz44ot5T6x8Q8O0adOqfL3uRXVP6vtgb+db1HY8Pu9s59/36qkn36K241FPfvMf50tbvzMobDQaGgrrn+bR47w32N+lOaPMLWsCNDRkLWPMNy+B0oaGYcOGiV5QKsSxaNEi2WKLLWTlypWy9dZbi36IVXaUNjT0799fRo0aVYipujG56FUw+qIbmA1l0aW0oAuingrKX3SDU09Fl9KCLoh6Kih/0Q3OBa90pPSSSy6R4cOHu8mMHj1aTj755LwnVr6hYd26dXm/3scL2Nv5UCRGqQCfd9SCTwHqyacmsagnvzUQ50tbvzMobDQaGgrrn+bR47w32N+lOaPMLWsCNDRkLWPMNy+BNDQ06OMlzj77bDdvfYbqlVdeWekaaGjIK7WcnAEBNpQZSFKGpkg9ZShZGZgq9ZSBJGVoitRThpKVgalywavwSdKL2O3atZM5c+ZIw4YN5YcffpD69evnPTEaGvIm4wUpF+DzLuUJytj0qKeMJSzl06We/CYozpe2fmdQ2Gg0NBTWP82jx3lvsL9Lc0aZW9YEaGjIWsaYb14CaWho2GuvveStt94SncuMGTNEGxcqO2hoyCu1nJwBATaUGUhShqZIPWUoWRmYKvWUgSRlaIrUU4aSlYGpcsGr8El66aWX5KCDDnITOfXUU+XBBx+MNSkaGmKx8aIUC/B5l+LkZHBq1FMGk5biZfwLNwAAIABJREFUKVNPfpMT50tbvzMobDQaGgrrn+bR47w32N+lOaPMLWsCNDRkLWPMNy+BQjc0TJ8+3T1mQo99991XpkyZknP+NDTklVpOzoAAG8oMJClDU6SeMpSsDEyVespAkjI0ReopQ8nKwFS54FX4JP3ud7+Thx9+2E3k1VdflV69esWaFA0Nsdh4UYoF+LxLcXIyODXqKYNJS/GUqSe/yYnzpa3fGRQ2Gg0NhfVP8+hx3hvs79KcUeaWNQEaGrKWMeabl0BpQ8P2228v+tzSWbNmSc2aNWWLLbaQHj16uN+4iXuBKspEhg0bJn/+85/dqffff7+cfvrpOV9W2tDQsWNHady4sWgzxJo1a6Rly5ay++67y4knnihHHnmku9NDyIPnrIbUtRWbDaWtfIdeLfUUWthWfOrJVr5Dr5Z6Ci1sKz4XvAqb76VLl7q94rJly6R9+/Yyc+bM2Puv8g0NBx54oHz88ceyaNEiadq0qej+tHfv3jJw4EBp1qxZsEWztwtGazIwn3cm0x5s0dRTMFqTgaknv2mP86Wt3xkUNhoNDYX1T/Pocd4b7O/SnFHmljUBGhqyljHmm5dAlC//jzrqKBk1apQ0adIkr9jVnawNFHp3Bn3MRL169dyzVxs1apTzZaUNDVXF1cdXPP7449K6devqhs/5c72oVdXxn//8xzVQ6DFt2jTp1KlT7LF4oW2BFStWyGuvveYQ9A4ldevWtQ3C6jdKgHraKD5evJ4A9URJ+BSgnnxqEkubmnfaaScH8d1330mbNm1ASVDgoYceck3vevzxj3+Ua6+9Nvbo5RsacgXR5gbdi2rjepyDvV0cNV4TV4DPu7hyvK4yAeqJuvApQD351BSZPXu2+yW7TTbZxOR1YW1o0CZXPRo2bCglJSV+gYmWWQHdq/3yyy/uF2bbtWsXaR3s7yIxcRICkQRoaIjExElZFWjQoIEcccQRsv/++8u2227r/hIyb9489+iHe+65RxYsWOCW1rNnT9Fnpepf1Hwdr7/+uvsSV4/f/va38sgjj1QZukuXLrLddtu557XuuOOOrsFCf4Nn6tSpcvfdd7sLmnroOfpncRswojR5lE70vvvuk+bNm/siIQ4CCCCAAAIIIIAAAghUITB//nw588wz3Rk0NCRfKrpv1MdM6PHVV1+J7tHiHtrQMH78eNEGem0Y33LLLd0FUI2re8MXX3zRhdYLok8//bQccsgheQ/F3i5vMl6AAAIIIIAAAtUIbLbZZu6X8+rXry+tWrXCCwEE/n8B/UXQ5cuXi94VpvR7pepw2N9VJ8TPEYguQENDdCvOzKBA6S09K5u63jFBLxp99NFH7se33XabnH/++d5WOWDAALn33ntdvOeff14OPvjgKmNXNdclS5ZI3759yy56XXjhhXLrrbfGmisXvWKx8SIEEEAAAQQQQAABBIILcMErOHHOAfRuB/qYCf2tvD333NM1kW/MUdX+TuOOGDFCzj77bDeENjvob2/le0cz9nYbkyFeiwACCCCAAAKVCdDQQF0gULkADQ1UBgKFFaChobD+jF5gAX0chN65QX9TRh8Poc808nHorc60g1UvYunFKb1Vl/7mzcYcP//8s2y11Vby008/id55Qv+/du3aeYfktqR5k/GCmALc8i8mHC+rVIB6ojB8ClBPPjWJRT1RAz4FuCWpT838Yt14441y2WWXuRfpHfJKmw3yi5Lf2Xo3jvvvv9+96OGHH5aTTjoprwDs7fLi4uSNFODzbiMBeXkFAeqJgvApQD351OSRE4V45MTkyZPdHabXP/T7hMaNG7s7Nbdt21Z+/etfiz6S+vDDD4/1vYDfSrEXjUdO2Ms5K06XAA0N6coHsymAwGGHHSYTJ050I8+ZM8c1IGzsMXbsWDn++ONdmKFDh8rw4cM3NqR7/bnnnit///vf3T+/+eab0qNHDy9xywfRi2L6FyQ9vv76a+ncubP3MQhoQ0Bvv1V6K119lIrero4DgbgC1FNcOV5XmQD1RF34FKCefGoSSxusSx9zwCMnkq2HHXbYQb744gupU6eO6G9fNWvWLPgE3nvvPfc4Cj3OOussGTlypNcx2dt55TQfjM878yXgFYB68sppPhj15LcE9O+jq1evllq1apm8LqwNDYsXL3ao2kxQUlLiF7iSaNrQ0KtXr8jjtGjRwt1p+tJLL3V54khGIM57g/1dMrlhFBsCNDTYyDOrrEJAGw5uvvlmd8a7774r3bp122ivPn36yLPPPuviTJs2TXbccceNjqkB7rrrLhk8eLCLpU0T/fr18xK3fBAuenknNRuQDaXZ1AdZOPUUhNVsUOrJbOqDLJx6CsJqNigXvAqT+vfff79sH3jsscfKuHHjEpnIsmXLpGHDhm6sQw89tGwP6Wtw9na+JImjAnzeUQc+Bagnn5rEop781kCcL239zqCw0Qrd0HDOOefIoEGDyhCWLl0qCxculE8//VReeeUVefnll2XdunXu59oY+8wzz4g2OHCEF4jz3mB/Fz4vjGBHgIYGO7lmpTkELr74YrnpppvcT300NPz444/SunVr18mqt4H64IMPvNnr3Rn0Lg160NDgjZVAgQTYUAaCNRqWejKa+EDLpp4CwRoNSz0ZTXygZXPBKxBsNWH1N9zuuOMOd9Y///lPdxvfJI7ly5e7xwnqQUNDEuKMsTECfN5tjB6vXV+AeqImfApQTz41xT2SmTs0FO4ODcOGDZOrrroqZ1L1jmInn3yyfPTRR+4cfQTFq6++yiMo/L4NKo0W573B/i6BxDCEGQEaGsykmoXmEih/NwX9DRZtRtiY429/+5tceOGFLoT+85AhQzYmXIXX6t0Z9C4NerzxxhvuLyy+D36Lx7eo3XhsKO3mPsTKqacQqnZjUk92cx9i5dRTCFW7MbnglXzuf/nlF7cHnDdvnvvttu+//z6xW/eWvzPEmWeeKffee69XAPZ2XjnNB+PzznwJeAWgnrxymg9GPfktgThf2vqdQWGjFfoODdU1NKiO1rx+L1Da1HDrrbeWfR9RWL3iHj3Oe4P9XXHXBKtLVoCGhmS9GS1lAjNnzpRtt91WVq1aJZ06dZJvvvlmo2eod2XQv0xssskmMmfOHG+3fPr555/dHBcsWCD169eXn376yT3f1ffBRS/fonbjsaG0m/sQK6eeQqjajUk92c19iJVTTyFU7cbkglfyudc7Mhx55JFuYG1G16b0pI6zzjpL7rvvPjfc6NGj3W/b+TzY2/nUJBafd9SATwHqyacmsagnvzUQ50tbvzMobLQsNDSo0Oeffy477bSTe/zElltuKbNmzXLfR6x/6C9FjhgxQl5//XWZO3eu1K1bVzp27CiHHXaY+7tvVY+rWLFihYwcOVLGjx/vxlu0aJE0atTIvWarrbaSAw88UI455hjp0KFDpUlbs2aNPPzww/LEE0/Ihx9+6L7X0Metbbfddu51+niNevXqFTbheYwe573B/i4PYE5FoBoBGhookaIVePrpp+WQQw7J+ds1P/zwg/t5aSfjLbfcIhdddFEFj1GjRslpp53m/ixKd6R+sO+4447ufL1NqV4ci3I8//zz0rNnz5wf4PqsLH2W64svvujCnXfeeXL77bdHCZ33OVz0ypuMF+QQYENJafgUoJ58ahKLeqIGfApQTz41icUFr+RroG/fvvLkk0+6gfVxgdqgXt1R3T5x2rRpbm+39dZb5wylF4cHDhzofr7FFlu45vrSx09UN37Un7O3iyrFeVEE+LyLosQ5UQWop6hSnBdFgHqKohT9nDhf2kaPnv4zs9LQoJIHH3xw2fcFb775pvTo0aMMWNehj1UrvdtzZfJNmjRxzQbamLD+8Z///EcOOOAA0UdcVHX8/ve/l5tvvnmDU2bPni1HHHGEfPLJJzlfrn9XfvbZZ6VLly7pLwyJ9zgW9neZSC2TzIgADQ0ZSRTTzF9AOwP19qHaCNC9e3fXKagXlebPny+TJ092nYn6z3rsvffe8vLLL29wx4PqLlStP6uLL75YbrrpJvfH48aNc2NHOfbbbz/Ri17amahz0TsxaLei3pXhrbfeknvuuUf0LwF6bLPNNu7PNt100yih8z6Hi155k/GCHAJsKCkNnwLUk09NYlFP1IBPAerJpyaxuOCVbA0sXLhQWrVqJStXrnSN6boni3JUt0/Un+sjJHr16uWa6PW35zbbbDP3POovv/xSHnnkkbKLzzVr1pQJEya4hnjfB3s736K24/F5Zzv/vldPPfkWtR2PevKbfxoa1srixYsdauPGjaWkpMQvcCXR9LsK/XujHlF+qbI0hH4Pod9H6HHjjTfKJZdcUha9/PcUekcG/Zk27i5btsz9Euadd97pvjupXbu2vPvuu9K1a9cKMyvf9Kt3EdPvLfROEPp3V2120Een/eMf/3BND+s3NOidGHbZZRf57rvv3Pctelcy/WVO/X5Gf3FTf2nztttuk+XLl7s7PejdG7S5Iu1HnPcG+7u0Z5X5ZUmAhoYsZYu55iWgH5Dffvttta/RpgO9zWfTpk03OLe6C1XlX6Bdj23btnXPXG3WrJm7hZP+hSDKoQ0NU6ZMqfZU/eDXi1/6jNdQBxe9Qsnai8uG0l7OQ66Yegqpay829WQv5yFXTD2F1LUXmwteyeZcG8f1Vrd6DB8+XIYOHRppAtXtE8v/vKqA2uRw//33lz3yItLgeZzE3i4PLE6tVoDPu2qJOCEPAeopDyxOrVaAeqqWKK8Ton5pu3btOlm4fFVesbNwsl7jX7J0qZtqo4YNyxoamtWvLSUlNYIsIW5DwyuvvOIaCvQ4/fTT3d8r9dAm3Z133ll0Ldq0q4+bWP+7D71jtD52Qs/Zfffd5Z133ilbmz5qQps5tOEh1x0YSk/Wx2Kv/4uXJ510kjz66KPSvn17mTRpknvExfqH3jV7n332cQ0Wl19+uVx33XVBbH0GjfreKD8m+zufGSCWdQEaGqxXQBGvXxsE9H9Tp06VGTNmuLsxaHel3vlAGw/0Fkz9+/d3d2/IdVR3oar861566SU56KCD3B+dffbZcvfdd0fW1Y5G/QuIzvWrr75yc9VnUtWvX991Pu6xxx5y4oknuvg1aoT5i1PpZLnoFTltnFiNABtKSsSnAPXkU5NY1BM14FOAevKpSSwueCVbA3vttZe7+53+ppneEU/3XlGO6vaJP/74ozzzzDNuf6cXa/Vxh/qbavqMY73gq78B17t3bzn11FPdxeJQB3u7ULI24/J5ZzPvoVZNPYWStRmXevKb96hf2i5YulJ2vfZlv4OnONoHfzpANmtYJ8gM4zY0fPzxx+5OCHocffTRMn78ePfPgwYNKvtu4u2333bfLVR26J0T9Bc99dC7NHTr1s39s/7CZukvVOpdGPTREVGPWbNmuceurVmzRvSR4H369Mn5Ur1rhDYV69/B58yZE3WIgp0X9b1RfoLs7wqWLgYuQgEaGoowqSwJgY0R4KLXxujx2vICbCipB58C1JNPTWJRT9SATwHqyacmsbjgRQ34FGBv51OTWHzeUQM+Bagnn5rEop781kDUL21paPDnHreh4ZtvvpHOnTu7ieidGvQXLvXo0qWLaB532GEH+eyzz3JOVJsYSpsdrr/+ernsssvcufo4Nm26XbVqleijJ8aMGSO1atWKtOC77rpLBg8e7H5RU3+5VBuHcx3PPvtsWcOD3mm7Xbt2kcYo1ElR3xvl58f+rlDZYtxiFKChoRizypoQ2AgBLnptBB4vrSDAhpKC8ClAPfnUJBb1RA34FKCefGoSiwte1IBPAfZ2PjWJxecdNeBTgHryqUks6slvDUT90paGBn/ucRsa9E5gv/71r91EjjnmGHnyySddM0LdunXdn5V/DEVls9VHSjRo0MA9WuK3v/2te9R16XHKKafI6NGj3b/qoyOOO+440cdm612vK3t0d+nrTjvtNNG7meV76CMv9NEXaT6ivjfKr4H9XZozytyyJkBDQ9YyxnwRCCzARa/AwIbCs6E0lOwElko9JYBsaAjqyVCyE1gq9ZQAsqEhuOBlKNkJLJW9XQLIhobg885QshNYKvWUALKhIagnv8mO+qUtDQ3+3OM2NJR/BPaZZ54p9957r8ydO1datWrlJnfppZfKDTfcUOVE9Vx9jT4O7bnnnis7V++ucPLJJ7vHRpQ/SkpKXBOFNjgMGDBAmjRpUuHnhx12mEycODFvnEmTJrmGiTQfUd8b5dfA/i7NGWVuWROgoSFrGWO+CAQW4KJXYGBD4dlQGkp2AkulnhJANjQE9WQo2QkslXpKANnQEFzwMpTsBJbK3i4BZEND8HlnKNkJLJV6SgDZ0BDUk99kR/3Sdu3adbJw+Sq/g6cg2tq1a2XJ0qVuJo0aNhT9Al+PZvVrS0lJjSAzjNvQMHz4cLnkkkvcnG666Sb5wx/+UKGhQR8hoY+SqOrI1dBQ+hp9LMXYsWNF5/jxxx/LmjVrysJtvvnm8tRTT0n37t3L/kwbI1544QVp3ry5aJNC1KNjx47ubhFpPqK+N8qvgf1dmjPK3LImQEND1jLGfBEILMBFr8DAhsKzoTSU7ASWSj0lgGxoCOrJULITWCr1lACyoSG44GUo2Qkslb1dAsiGhuDzzlCyE1gq9ZQAsqEhqCe/yY7zpa3fGRQ2mjY06N0J9GjcuHFZQ0PIWcVtaDjwwAPl5ZdfdlObOnWq7Lnnnnk9cmL16tVSv379Sh85Udl6lyxZ4hob9JES48ePd6doQ8T06dOlXr167t9POukkefTRR6VOnTqybNkyqVmzZki6RGPHeW+wv0s0RQxW5AI0NBR5glkeAvkKcNErXzHOzyXAhpLa8ClAPfnUJBb1RA34FKCefGoSiwte1IBPAfZ2PjWJxecdNeBTgHryqUks6slvDcT50tbvDAobLSsNDZ999pn86le/knXr1knbtm1lxowZUqtWLYfXpUsX0TzusMMOouflOt577z3Zfffd3Y/1Tg56R4eox5AhQ+T22293p7/44ouizRV63HzzzTJ06FD3z2+//bbsscceUUOm/rw47w32d6lPKxPMkAANDRlKFlNFIAkBLnoloWxjDDaUNvKc1Cqpp6SkbYxDPdnIc1KrpJ6SkrYxDhe8bOQ5qVWyt0tK2sY4fN7ZyHNSq6SekpK2MQ715DfPcb609TuDwkbLQkOD1vxee+0lH330kcO67bbb5Pzzzy+DGzRokNx9993u3995552ypoX1ZQcOHCgjR450f6yPlujWrVtk/H/+859y5JFHuvP1jgwnnnii++evvvpKtttuO9doccIJJ8iYMWMix0z7iXHeG+zv0p5V5pclARoaspQt5opAAgJc9EoA2cgQbCiNJDqhZVJPCUEbGYZ6MpLohJZJPSUEbWQYLngZSXRCy2RvlxC0kWH4vDOS6ISWST0lBG1kGOrJb6LjfGnrdwaFjZb2hoYvvvhCfve738mHH37ooHr27CkvvfSSbLLJJmVw06ZNk5133ll0LV27dpXXXnvNPT6j/KF3VTj00ENlzZo1ruFBGx9KD73bw3fffedi5zoGDx4sd911l/tx6eMuSs89/vjjZezYse5fb7nlFrnoootyxpk5c6a7k0NpQ0Rhs1/16HHeG+zv0pxR5pY1ARoaspYx5otAYAEuegUGNhSeDaWhZCewVOopAWRDQ1BPhpKdwFKppwSQDQ3BBS9DyU5gqeztEkA2NASfd4aSncBSqacEkA0NQT35TXacL239zqCw0Qrd0HDOOeeI3mGh9Fi2bJksXLhQPv30U3nllVdc84Le/UCPPffcU55++mlp3rz5BmgXX3yx3HTTTe7PO3XqJJdcconssssuovH0Nfq4iF9++UVq167tmhm0AaL0mDx5svTq1Uu23357Ofroo2W33XaT1q1bux9ro8Pjjz9e1rCgr9Pmiho1apS9/qeffnJ3e9DGCD323XdfOeWUU9wjMOrUqSMLFiyQTz75RJ5//nl59dVX3Rjjxo0rbOIjjB7nvcH+LgIspyAQUYCGhohQnIaAFQEuelnJdPh1sqEMb2xpBOrJUrbDr5V6Cm9saQTqyVK2w6+VC17hjS2NwN7OUrbDr5XPu/DGlkagnixlO/xaqSe/xnG+tPU7g8JGK3RDQ5TVt2jRQi644ALRpoVatWpV+hJdx3nnnSd///vfc4Zs0qSJa0w46KCDKpxT2tBQ3Vy23XZbmThxonTs2HGDU+fOnSvHHXecvP7669WFkdNOO00eeOCBas8r9Alx3hvs7wqdNcYvJgEaGoopm6wFAQ8CXPTygEgIJ8CGkkLwKUA9+dQkFvVEDfgUoJ58ahKLC17UgE8B9nY+NYnF5x014FOAevKpSSzqyW8NxPnS1u8MChstTQ0NJSUl0qhRI9HGg/bt28uuu+4q++yzj/Tp08fdWSHKoQ0FI0aMcI0FP/zwg7tDwlZbbeUeN6FNEdocsf6hj6F444035IUXXnCPg9C7MuhrV6xYIZtuuql7jMUxxxwjp556qotX1fHss8/KmDFj3GMptMlB7wrRtGlT6dy5s3Tv3l2OOOIIdweHLBxx3hvs77KQWeaYFQEaGrKSKeaJQEICXPRKCNrAMGwoDSQ5wSVSTwliGxiKejKQ5ASXSD0liG1gKC54GUhygktkb5cgtoGh+LwzkOQEl0g9JYhtYCjqyW+S43xp63cGhY1WiIaGwq6Y0aMKxHlvsL+Lqst5CFQvQEND9UacgYApAS56mUp30MWyoQzKay449WQu5UEXTD0F5TUXnHoyl/KgC+aCV1Bec8HZ25lLedAF83kXlNdccOrJXMqDLph68ssb50tbvzMobDQaGgrrn+bR47w32N+lOaPMLWsCNDRkLWPMF4HAAlz0CgxsKDwbSkPJTmCp1FMCyIaGoJ4MJTuBpVJPCSAbGoILXoaSncBS2dslgGxoCD7vDCU7gaVSTwkgGxqCevKb7Dhf2vqdQWGj0dBQWP80jx7nvcH+Ls0ZZW5ZE6ChIWsZY74IBBbgoldgYEPh2VAaSnYCS6WeEkA2NAT1ZCjZCSyVekoA2dAQXPAylOwElsreLgFkQ0PweWco2QkslXpKANnQENST32TH+dLW7wwKG42GhsL6p3n0OO8N9ndpzihzy5oADQ1ZyxjzRSCwABe9AgMbCs+G0lCyE1gq9ZQAsqEhqCdDyU5gqdRTAsiGhuCCl6FkJ7BU9nYJIBsags87Q8lOYKnUUwLIhoagnvwmO86Xtn5nUNhoNDQU1j/No8d5b7C/S3NGmVvWBGhoyFrGmC8CgQW46BUY2FB4NpSGkp3AUqmnBJANDUE9GUp2AkulnhJANjQEF7wMJTuBpbK3SwDZ0BB83hlKdgJLpZ4SQDY0BPXkN9lxvrT1O4PCRqOhobD+aR49znuD/V2aM8rcsiZAQ0PWMsZ8EQgswEWvwMCGwrOhNJTsBJZKPSWAbGgI6slQshNYKvWUALKhIbjgZSjZCSyVvV0CyIaG4PPOULITWCr1lACyoSGoJ7/JjvOlrd8ZFDYaDQ2F9U/z6HHeG+zv0pxR5pY1ARoaspYx5otAYAEuegUGNhSeDaWhZCewVOopAWRDQ1BPhpKdwFKppwSQDQ3BBS9DyU5gqeztEkA2NASfd4aSncBSqacEkA0NQT35TXacL239zqCw0WhoKKx/mkeP895gf5fmjDK3rAnQ0JC1jDFfBAILcNErMLCh8GwoDSU7gaVSTwkgGxqCejKU7ASWSj0lgGxoCC54GUp2Aktlb5cAsqEh+LwzlOwElko9JYBsaAjqyW+y43xp63cGhY1GQ0Nh/dM8epz3Bvu7NGeUuWVNgIaGrGWM+SIQWICLXoGBDYVnQ2ko2QkslXpKANnQENSToWQnsFTqKQFkQ0NwwctQshNYKnu7BJANDcHnnaFkJ7BU6ikBZENDUE9+kx3nS1u/MyhsNBoaCuuf5tHjvDfY36U5o8wtawI0NGQtY8wXgcACXPQKDGwoPBtKQ8lOYKnUUwLIhoagngwlO4GlUk8JIBsaggtehpKdwFLZ2yWAbGgIPu8MJTuBpVJPCSAbGoJ68pvsOF/a+p1BYaPR0FBY/zSPHue9wf4uzRllblkToKEhaxljvggEFuCiV2BgQ+HZUBpKdgJLpZ4SQDY0BPVkKNkJLJV6SgDZ0BBc8DKU7ASWyt4uAWRDQ/B5ZyjZCSyVekoA2dAQ1JPfZMf50tbvDAobjYaGwvqnefQ47w32d2nOKHPLmgANDVnLGPNFILAAF70CAxsKz4bSULITWCr1lACyoSGoJ0PJTmCp1FMCyIaG4IKXoWQnsFT2dgkgGxqCzztDyU5gqdRTAsiGhqCe/CZ7xowZsnLlSqlRo4Zss8027v8tHTQ0WMp29LWuW7dOvvrqK9H/r127tnTq1CnSi9nfRWLiJAQiCdDQEImJkxCwI8BFLzu5Dr1SNpShhW3Fp55s5Tv0aqmn0MK24lNPtvIderVc8AotbCs+eztb+Q69Wj7vQgvbik892cp36NVST36F9e8PS5YscUHbtWsnDRo08DtAyqPR0JDyBBVoeitWrJCZM2e60Rs2bCht27aNNBP2d5GYOAmBSAI0NERi4iQE7Ahw0ctOrkOvlA1laGFb8aknW/kOvVrqKbSwrfjUk618h14tF7xCC9uKz97OVr5Dr5bPu9DCtuJTT7byHXq11JNf4cWLF8ucOXPKvrht06aNqbs00NDgt56KJdqPP/4oCxYscMtp2bKlbLrpppGWxv4uEhMnIRBJgIaGSEychIAdAS562cl16JWyoQwtbCs+9WQr36FXSz2FFrYVn3qyle/Qq+WCV2hhW/HZ29nKd+jV8nkXWthWfOrJVr5Dr5Z68iusX+h//fXX7tb6euhvo+uXt/Xr1zfR2EBDg996ynq0NWvWyKJFi0QbGkoPfdyEPnYiysH+LooS5yAQTYCGhmhOnIWAGQEueplJdfA3pdyeAAAgAElEQVSFsqEMTmxqAOrJVLqDL5Z6Ck5sagDqyVS6gy+WC17BiU0NwN7OVLqDL5bPu+DEpgagnkylO/hiqSf/xPrICb1LQ2lTg45Qo0YNqVmzpv/BUhhx9erVbla1atVK4eyYUlICWv/a0FD+aNGihTRv3jzyFNjfRabiRASqFaChoVoiTkDAlgAXvWzlO+Rq2VCG1LUXm3qyl/OQK6aeQurai0092ct5yBVzwSukrr3Y7O3s5Tzkivm8C6lrLzb1ZC/nIVdMPYXRraypIcxI6YqqX2JrTelRr149E3elSFcG0jubJk2aSKtWrfKqCfZ36c0nM8ueAA0N2csZM0YgqAAXvYLymgrOhtJUuoMvlnoKTmxqAOrJVLqDL5Z6Ck5sagAueJlKd/DFsrcLTmxqAD7vTKU7+GKpp+DEpgagnsKlWx+/sHTpUlm8eLGsWrVqg99WDzdy4SLrmufNm+cmoL+NX1JSUrjJMHLBBfSuJPq4laZNm0rdunXzng/7u7zJeAECOQVoaKA4EECgggAXvSgIXwJsKH1JEkcFqCfqwKcA9eRTk1jUEzXgU4ALXj41icXejhrwKcDnnU9NYlFP1IBPAerJpyaxqCdqwKcA+zufmsSyLkBDg/UKYP0IrCfARS9KwpcAGwBfksShoYEa8C3Af598i9qORz3Zzr/v1XPBy7eo7Xjs7Wzn3/fq+bzzLWo7HvVkO/++V089+Ra1HY96sp1/36tnf+dblHiWBWhosJx91o5AJQJc9KIsfAmwAfAlSRwaGqgB3wL898m3qO141JPt/PtePRe8fIvajsfeznb+fa+ezzvforbjUU+28+979dSTb1Hb8agn2/n3vXr2d75FiWdZgIYGy9ln7QjQ0EANBBRgAxAQ12Bo6slg0gMumXoKiGswNPVkMOkBl8wFr4C4BkPT0GAw6QGXzOddQFyDoakng0kPuGTqKSCuwdDUk8GkB1wy+7uAuIQ2J0BDg7mUs2AEqhbgohcV4kuADYAvSeKoAPVEHfgUoJ58ahKLeqIGfApwwcunJrHY21EDPgX4vPOpSSzqiRrwKUA9+dQkFvVEDfgUYH/nU5NY1gVoaLBeAawfgfUEuOhFSfgSYAPgS5I4NDRQA74F+O+Tb1Hb8agn2/n3vXouePkWtR2PvZ3t/PtePZ93vkVtx6OebOff9+qpJ9+ituNRT7bz73v17O98ixLPsgANDZazz9oRqESAi16UhS8BNgC+JIlDQwM14FuA/z75FrUdj3qynX/fq+eCl29R2/HY29nOv+/V83nnW9R2POrJdv59r5568i1qOx71ZDv/vlfP/s63KPEsC9DQYDn7rB0BGhqogYACbAAC4hoMTT0ZTHrAJVNPAXENhqaeDCY94JK54BUQ12BoGhoMJj3gkvm8C4hrMDT1ZDDpAZdMPQXENRiaejKY9IBLZn8XEJfQ5gRoaDCXchaMQNUCXPSiQnwJsAHwJUkcFaCeqAOfAtSTT01iUU/UgE8BLnj51CQWeztqwKcAn3c+NYlFPVEDPgWoJ5+axKKeqAGfAuzvfGoSy7oADQ3WK4D1I7CeABe9KAlfAmwAfEkSh4YGasC3AP998i1qOx71ZDv/vlfPBS/forbjsbeznX/fq+fzzreo7XjUk+38+1499eRb1HY86sl2/n2vnv2db1HiWRagocFy9lk7ApUIcNGLsvAlwAbAlyRxaGigBnwL8N8n36K241FPtvPve/Vc8PItajseezvb+fe9ej7vfIvajkc92c6/79VTT75Fbcejnmzn3/fq2d/5FiWeZQEaGixnn7UjQEMDNRBQgA1AQFyDoakng0kPuGTqKSCuwdDUk8GkB1wyF7wC4hoMTUODwaQHXDKfdwFxDYamngwmPeCSqaeAuAZDU08Gkx5wyezvAuIS2pwADQ3mUs6CEahagIteVIgvATYAviSJowLUE3XgU4B68qlJLOqJGvApwAUvn5rEYm9HDfgU4PPOpyaxqCdqwKcA9eRTk1jUEzXgU4D9nU9NYlkXoKHBegWwfgTWE+CiFyXhS4ANgC9J4tDQQA34FuC/T75Fbcejnmzn3/fqueDlW9R2PPZ2tvPve/V83vkWtR2PerKdf9+rp558i9qORz3Zzr/v1bO/8y1KPMsCNDRYzj5rR6ASAS56URa+BNgA+JIkDg0N1IBvAf775FvUdjzqyXb+fa+eC16+RW3HY29nO/++V8/nnW9R2/GoJ9v597166sm3qO141JPt/PtePfs736LEsyxAQ4Pl7LN2BGhooAYCCrABCIhrMDT1ZDDpAZdMPQXENRiaejKY9IBL5oJXQFyDoWloMJj0gEvm8y4grsHQ1JPBpAdcMvUUENdgaOrJYNIDLpn9XUBcQpsToKHBXMpZMAJVC3DRiwrxJcAGwJckcVSAeqIOfApQTz41iUU9UQM+Bbjg5VOTWOztqAGfAnze+dQkFvVEDfgUoJ58ahKLeqIGfAqwv/OpSSzrAjQ0WK+AIl9/jRo1Iq2wZ8+eMnny5Ejnrn/SVVddJVdffXWk106aNEn222+/Ks+dP3++3H777fLUU0/JrFmz3LkdOnSQo446SoYMGSKbbbZZpLHinsRFr7hyvG59ATYA1IRPAerJpyaxqCdqwKcA9eRTk1hc8EqmBpLYJ5ZfyZgxY+TBBx+UTz/9VBYtWiQtW7aUffbZR84991zp3r17sEWztwtGazIwn3cm0x5s0dRTMFqTgaknk2kPtmjqKRitycDs70ymnUUHEqChIRAsYdMhkMSFKp8NDe+8845rXJg7d26lgK1atXKNDrvvvnswYC56BaM1F5gNgLmUB10w9RSU11xw6slcyoMumHoKymsuOBe8kkl5EvtEXYn+96Fv374yceLEShdWUlIiV155pQwbNizIwtnbBWE1G5TPO7OpD7Jw6ikIq9mg1JPZ1AdZOPUUhNVsUPZ3ZlPPwgMI0NAQAJWQ6REovVB1zjnnyKBBg3JOrEGDBtKxY8dYEy/f0DBt2rQqY+gYOlZlx3fffSe77rqrzJs3T2rVqiUXXXSR9OnTx536zDPPyK233iqrV6+WzTffXD744ANp06ZNrPlW9yIuelUnxM+jCrABiCrFeVEEqKcoSpwTVYB6iirFeVEEqKcoSpwTVYALXlGlNu68JPaJOsMTTzxRHnvsMTfZXr16uTvubbnllqL7xuuvv16mT5/ufjZixAgZMGDAxi2qklezt/NOajogn3em0+998dSTd1LTAakn0+n3vnjqyTup6YDs70ynn8V7FqChwTMo4dIlUHqhSn/jRRsPQhzlGxrWrVsXe4hTTjlFRo8e7V4/duxY6devX4VY+mfHH3+8+7P+/fvLqFGjYo9V1Qu56BWE1WRQNgAm0x5s0dRTMFqTgaknk2kPtmjqKRitycBc8Eom7UnsE1999VXZf//93YIOP/xwmTBhgtSsWbNsgfqoQW1onz17tjRt2lRmzJghzZo18wrA3s4rp/lgfN6ZLwGvANSTV07zwagn8yXgFYB68sppPhj7O/MlAIBHARoaPGISKn0CSVyo8tHQoI+YaN26taxdu1YOPvhgef755yvF7N27t7zwwguityadM2eObLHFFt7RuejlndRsQDYAZlMfZOHUUxBWs0GpJ7OpD7Jw6ikIq9mgXPBKJvVJ7BMPPfRQee6559zd92bOnFnpHfb07g16Fwc9hg8fLkOHDvUKwN7OK6f5YHzemS8BrwDUk1dO88GoJ/Ml4BWAevLKaT4Y+zvzJQCARwEaGjxiEip9AklcqPLR0DBy5EgZOHCgA9SLWqV3YlhftPwFL25Lmr56Y0YVBdgAUBE+Bagnn5rEop6oAZ8C1JNPTWJxwSuZGgi9T1yyZIk0b95cVq1aJdqUro0NlR368xYtWsjixYule/fu8tZbb3kFoKHBK6f5YHzemS8BrwDUk1dO88GoJ/Ml4BWAevLKaT4Y+zvzJQCARwEaGjxiEip9AqEvVOmKfTQ0lH/cxH/+85+cd17Qn+kzV/XQ1zz00EPe0bno5Z3UbEA2AGZTH2Th1FMQVrNBqSezqQ+ycOopCKvZoFzwSib1ofeJ5R83ccMNN8ill176/7H3JmBWFdf6/upmHgREEGRQUEBAEGQQQZQoakABUXEgzhEjDkjUYNSbRP3HJBI1iYoTopIoRiGCuQgiMSpyBWUQFZz4MQlBQAaRSYam+//U9nZfhu4++3RX7V3Du58nj8Kps2qt9/viZhXVVSUWpk7omz59enSSw44dO6RSpUraINDbaUNJIBHhfYcNdBLATzppEgs/4QGdBPCTTprEor/DAxDQR4ANDfpYEslCAoULVW3btpWCggJZsWJFdG+puqqhR48ectVVV8lpp51Wrsz33dBw5plnykcffSSbN2+O7kFV86qfyFGnL5R2H2qXLl1k/vz5Urt27ei7pT1qjPoJnq5du8qcOXPKlXtxX2bRSzvSYAPSAAQrvZHC8ZMRrMEGxU/BSm+kcPxkBGuwQVnwSkZ6033iqFGjZNiwYVExkyZNkoEDB5ZY2PDhw+WRRx6JPv/000+jHlLXQ2+niyRxFAHed/hAJwH8pJMmsfATHtBJAD/ppEks+js8AAF9BNjQoI8lkSwkULhQVVpqanFp7Nix0WaCsjz7bmgo6ftqc4Oa49xzzy12iNpgsW7dOjnuuONk0aJFpabRrl27aKFLfUed2JDtoxa1SntUzBNPPDEasnDhQjnmmGOynYLxEIgI7Ny5U959993o30899VSpWrUqZCBQZgL4qczo+GIxBPATttBJAD/ppEmspUuXSvv27SMQq1atkiZNmgDFAAHTfaI6kWHkyJFR5nPnzhW1gb2k58EHH5QRI0ZEH0+bNk3UiQ1xH3q7uKQYp4MA7zsdFIlRSAA/4QWdBPCTTprEwk94QCcB+judNIkVOgE2NITuAM/rr1GjhgwYMEB69+4trVu3lpo1a8r69etlxowZ8uSTT8rGjRsjAr169ZJ//etfZTreU21omDhxYvRTN2ojgLoSYs+ePfLll1/KuHHjouND1aNOhpg8ebL07dv3IOoqT3W8aLdu3eT9998vVRU1Rp3MoGpRd7Nm+8RZvCuMOWbMmOjuVx4IQAACEIAABCAAAQhAwDyBDRs2yJAhQ6KJ2NBgjrfpPvHGG2+Uxx9/PCrg888/j3rRkp4nnnhCbrjhhujjf/zjH3LBBRfELpzeLjYqBkIAAhCAAAQgAAEIQCBxAvR3iSNnQo8JsKHBY3EpTYqufiiOhToRQW0uWLBgQfTxww8/LDfffHPW2Aqvlyjpi0899ZQMHTo0+lhtdlC78g78SXW12SE/P19OOeWUop9oLyme+kn3mTNnRhsk8vLyss6XRa+skfEFCEAAAhCAAAQgAAEIJEKABa9EMBvvE6+55hp59tlno2JU/3f00UeXWJgap8ar5/nnn5fLLrssNgR6u9ioGAgBCEAAAhCAAAQgAIHECdDfJY6cCT0mwIYGj8WltMwEli1bFv20jDpRoUWLFqLuNDLxqJ+yeuaZZ6LQL7zwglx66aX7TZPkCQ0cS2pCYWIWR4Aj2vCFTgL4SSdNYuEnPKCTAH7SSZNYHElqhwfK2ycmdUJDNr3d0kcGypH1D7EDsK1ZVK0te1v2lfzmPxLJybE1y9Ty4n2XGnovJ8ZPXsqaWlH4KTX0Xk6Mn7yUNbWi6O9SQ8/EHhJgQ4OHolJSdgTOOeccmTp1avSl1atXR6co6H7UvanqOgr1XHvttTJ69Oj9pmjYsKGoEyOOO+44WbRoUanTt2vXTj799FNR31mzZo3uVEUtijVt2jSKu3jxYmnZsqX2OQgYBoHvv/++6MqVs846S6pVqxZG4VRphAB+MoI12KD4KVjpjRSOn4xgDTao2mDdqlWrqH6unEjXBuXpE++44w4ZOXJkVIDqBbt06VJiMQ8++KCMGDEi+nzatGny4x//WFvh+/Z2q26pKU1q5WqL7XWgw9uKdL9RpP2FIhWreF1qNsXxvsuGFmMzEcBPmQjxeTYE8FM2tBibiQB+ykSIz7MhQH+XDS3GQqB0AmxowCHBE1CLR2oRST1z5syRrl27ameyfft2qVmzZhT37LPPlilTpuw3h1rgmj9/vtSuXTs6/rS0R43ZsmVLlKfKV/fDhgbdRMONRwMQrvYmKsdPJqiGGxM/hau9icrxkwmq4cZkwcse7cvTJ44aNUqGDRsWFTNp0iQZOHBgiYUNHz5cHnnkkehztXG9bdu22iCwoaGcKGs2EDnxZyJdfipSvW45g7n/dd537mtoUwX4ySY13M8FP7mvoU0V4Ceb1HA/F/o79zWkAnsIsKHBHi3IJCUCt99+uzzwwAPR7KY2NOzYsUPUtRLqKW5DwxVXXBHdl6oedeqCOn2huEd9VniChPrOX//6V+3U2NCgHWmwAWkAgpXeSOH4yQjWYIPip2ClN1I4fjKCNdigLHjZI315+sS33npLevfuHRXzhz/8QdSJDSU96kSG6dOnS8WKFUX1jZUqVdIGgQ0NmlBWqi7S8VKRk64XOewYTUHdC8P7zj3NbM4YP9msjnu54Sf3NLM5Y/xkszru5UZ/555mZGwvATY02KsNmSVEoF+/fkUnJqgFn8aNG2ufed68eUUnPwwZMkSefvrp/eZQV1Bcd9110e+99NJLcvHFFxebg/ps8ODB0WdPPfWU/OxnP9OeKxsatCMNNiANQLDSGykcPxnBGmxQ/BSs9EYKx09GsAYblAUve6QvT5+4detWqVevnuzevVv69Okjr7/+erGFqc/r168fncDXvXt3mTVrllYA+/Z2y56/RZo34pSBEgHn54l8MUVkw+JSNMgRaX2OSI9hIk27ieTkaNXL9mC872xXyK388JNbetmeLX6yXSG38sNPbulle7b0d7YrRH4uEWBDg0tqkat2AsuXL5fWrVtHC03HHHOMLFmyRPscKuC1114rY8aMiWKrkxguu+yy/eZZu3ZttJEiPz8/ujNV3Z1a3KMWw9544w3Jzc2V1atXl3iSQ3mKYENDeejx3X0J0ADgB50E8JNOmsTCT3hAJwH8pJMmsVjwssMDOvpEdTKf2sigTl5Q8Zo0aXJQcftuWP/jH/8o6poLnQ+9XZY08/NFlvxLZNajIitmlv7lxl1Eetwk0rq/SIWKWU7k5nDed27qZmvW+MlWZdzMCz+5qZutWeMnW5VxMy/6Ozd1I2s7CbChwU5dyEoDgcmTJ0vfvn2jBaTinnXr1kWfL1iwIPr4oYcekltvvXW/oWPHjpWrr746+r27775b7rnnnv0+X7hwoVSrVk1atGhRYsb7nr6grpJQmyYKr5/Y90v7XjsxYcIEGTRo0H4x1e9ddNFF0e9deeWVonIz8bDoZYJqmDFpAMLU3VTV+MkU2TDj4qcwdTdVNX4yRTbMuCx4mdc9iT5RVbHvtRMDBgyQiRMnSoUKFYoK3LBhg3Tu3FlWrlwpderUkWXLlsmhhx6qFQC9XTlwfv2RyOxRIosmihTsLTlQnSNFTrpB5ITLRKocUo4J7f8q7zv7NXIpQ/zkklr254qf7NfIpQzxk0tq2Z8r/Z39GpGhOwTY0OCOVmSaJYFmzZrJnj175IILLoiO71S/VpsP1MLRO++8E13ZoP5dPT179pQ333xTqlSpst8smTY0qM/VFRKnnXZatDmiffv2cthhh0leXp588cUXMm7cuOg+VPWoxatJkyZJ//79i61k1apV0YLW+vXro00Yt912m6hjTtXz2muvRRsuVFx1JOmHH35Y7E/4ZImo2OEseumgSAxFgAYAH+gkgJ900iQWfsIDOgngJ500icWCl3kPJNEnFlahrgtUpzCoR/WMP//5z6VRo0aiNsb/7ne/k6VLl0afcZ2ged3LPMN3/xH54EmR+X8V2bWl5DBVaot0uUqk21CRWo3KPJ3NX+R9Z7M67uWGn9zTzOaM8ZPN6riXG35yTzObM6a/s1kdcnONABsaXFOMfGMTUAtVX331VcbxasODug5C/VTMgU+cDQ2FJziUNpHa5PDMM8/IueeeW2o+H3zwgQwcOFDUFRTFPeqEh1dffVW6deuWsa6yDmBDQ1nJ8b0DCdAA4AmdBPCTTprEwk94QCcB/KSTJrFY8DLvgST6xMIq1H8f1Ml7U6dOLbYwdZXgr3/964NOAtRFgd5OF0kR2blFZMHzIu8/IfLdqpID51YUaTfoh+soGrbXmED6oXjfpa+BTxngJ5/UTL8W/JS+Bj5lgJ98UjP9Wujv0teADPwhwIYGf7SkkgMIzJgxQ9T/Zs+eHR3fqU5j2LJli9SsWVOaNm0qPXr0iK5uUKc3lPRk2tDwzTffRKcnqDnU1RXqGouNGzdKQUGB1K1bVzp06CB9+vSRq666SmrVqhVLI5Xnww8/HG1cWLFiRfSd5s2bR5sh1E/0qM0RJh8WvUzSDSs2DUBYepuuFj+ZJhxWfPwUlt6mq8VPpgmHFZ8FL/N6J9EnHljFiy++GF0Z+PHHH8vmzZulQYMGcsopp8hNN91Uaj9aXhr0duUlWMz39+aJfPbqD9dRfP3D9ZUlPs17ifQYJtLiDJGcHAPJJBuS912yvH2fDT/5rnCy9eGnZHn7Pht+8l3hZOujv0uWN7P5TYANDX7rS3UQyJoAi15ZI+MLJRCgAcAaOgngJ500iYWf8IBOAvhJJ01iseCFB3QSoLfTSfOAWAUFIl/N+mFjw5evi0hByZPVby3S/UaR9heJVKpqMCmzoXnfmeUbWnT8FJriZuvFT2b5hhYdP4WmuNl66e/M8iV6WATY0BCW3lQLgYwEWPTKiIgBMQnQAMQExbBYBPBTLEwMikkAP8UExbBYBPBTLEwMikmABa+YoBgWiwC9XSxM5R+0YYnI+4+JfPSiSN7OkuPVqC9y4s9EulwjUsPsyYvlL+rgCLzvTFANNyZ+Cld7E5XjJxNUw42Jn8LV3kTl9HcmqBIzVAJsaAhVeeqGQAkEWPTCGroI0ADoIkkcRQA/4QOdBPCTTprEwk94QCcBFrx00iQWvV3CHti+UWTeMyJzRotsX1/y5BWriXQcLHLSjSL1WiScZNmn431XdnZ882AC+AlX6CSAn3TSJBZ+wgM6CdDf6aRJrNAJsKEhdAdQPwQOIMCiF5bQRYAGQBdJ4igC+Akf6CSAn3TSJBZ+wgM6CbDgpZMmsejtUvLAnp0iC8eLzH5MZP0XpSSRI3Ls2SI9bhI5srtITk5KCceblvddPE6MikcAP8XjxKh4BPBTPE6MikcAP8XjxKh4BOjv4nFiFATiEGBDQxxKjIFAQARY9ApIbMOl0gAYBhxYePwUmOCGy8VPhgEHFh4/BSa44XJZ8DIMOLDw9HYpC56fL7L03yKzHhVZPqP0ZBp1+mFjQ5tzRSpUTDnx4qfnfWelLM4mhZ+clc7KxPGTlbI4mxR+clY6KxOnv7NSFpJylAAbGhwVjrQhYIoAi16myIYXlwYgPM1NVoyfTNINLzZ+Ck9zkxXjJ5N0w4vNgld4mpusmN7OJN0sY6/5RGT2KJFFr4jk55X85dpHipw0VKTTFSJVDslyErPDed+Z5RtadPwUmuJm68VPZvmGFh0/haa42Xrp78zyJXpYBNjQEJbeVAuBjARY9MqIiAExCdAAxATFsFgE8FMsTAyKSQA/xQTFsFgE8FMsTAyKSYAFr5igGBaLAL1dLEzJDvputcicp0TmjRXZ9V3Jc1epJdL5SpFuQ0VqN0k2xxJm431nhQzeJIGfvJHSikLwkxUyeJMEfvJGSisKob+zQgaS8IQAGxo8EZIyIKCLAIteukgShwYAD+gkgJ900iQWfsIDOgngJ500icWCFx7QSYDeTidNzbF2bRVZ8ILI+4+LbF5ZcvDciiLHnf/DdRRHdNCcRHbheN9lx4vRpRPATzhEJwH8pJMmsfATHtBJgP5OJ01ihU6ADQ2hO4D6IXAAARa9sIQuAjQAukgSRxHAT/hAJwH8pJMmsfATHtBJgAUvnTSJRW/ngAf25ol8MVlk1iiR1fNKT7jZKSI9hom0OFMkNzfx4njfJY7c6wnxk9fyJl4cfkocudcT4iev5U28OPq7xJEzoccE2NDgsbiUBoGyEGDRqyzU+E5xBGgA8IVOAvhJJ01i4Sc8oJMAftJJk1gseOEBnQTo7XTSNByroEBk1Qcisx4V+WKKiBSUPGG9ViLdbxQ5/hKRSlUNJ/Z/4XnfJYY6iInwUxAyJ1YkfkoMdRAT4acgZE6sSPq7xFAzUQAE2NAQgMiUCIFsCLDolQ0txpZGgAYAf+gkgJ900iQWfsIDOgngJ500icWCFx7QSYDeTifNBGNtXCry/hM/XEmR933JE1evJ3LitSJdh4jUqGc8Qd53xhEHNQF+Ckpu48XiJ+OIg5oAPwUlt/Fi6e+MI2aCgAiwoSEgsSkVAnEIsOgVhxJj4hCgAYhDiTFxCeCnuKQYF4cAfopDiTFxCeCnuKQYF4cAC15xKDEmLgF6u7ikLB23Y5PIvGdE5jwtsm1dyUlWrCrS4RKR7jeJ1GtprBjed8bQBhkYPwUpu7Gi8ZMxtEEGxk9Bym6saPo7Y2gJHCABNjQEKDolQ6A0Aix64Q9dBGgAdJEkjiKAn/CBTgL4SSdNYuEnPKCTAAteOmkSi97OEw/k7RJZOEFk9mMi33xWelGt+oj0GCZy1MkiOTlaAfC+04oz+GD4KXgLaAWAn7TiDD4YfgreAloB0N9pxUmwwAmwoSFwA1A+BA4kwKIXntBFgAZAF0nisKEBD+gmwH+fdBMNOx5+Clt/3dWz4KWbaNjx6O0807+gQGTpv0VmjRJZ9nbpxR3R8YeNDW3PFalQSQsI3ndaMBLkfwngJ6ygkwB+0kmTWPgJD+gkQH+nkyaxQifAhobQHUD9EDiAAIteWEIXARoAXSSJw4YGPKCbAP990k007Hj4KWz9dVfPgpduomHHo7fzWKNR0VkAACAASURBVP+1i344sUGd3JC/p+RCazUROWmoSKcrRKrWLhcQ3nflwseXDyCAn7CETgL4SSdNYuEnPKCTAP2dTprECp0AGxpCdwD1Q4ANDXjAEAEaAENgAw2LnwIV3lDZ+MkQ2EDD4qdAhTdUNgtehsAGGpYNDQEIv2WNyJzRIvOeFdm5ueSCKx8i0vlKkW5DReo0LRMY3ndlwsaXSiCAn7CGTgL4SSdNYuEnPKCTAP2dTprECp0AGxpCdwD1Q4ANDXjAEAEaAENgAw2LnwIV3lDZ+MkQ2EDD4qdAhTdUNgtehsAGGpYNDQEJv2ubyEcvirz/mMi3K0ouPKeCyHEDRbrfJNK4U1aAeN9lhYvBGQjgJyyikwB+0kmTWPgJD+gkQH+nkyaxQifAhobQHUD9EGBDAx4wRIAGwBDYQMPip0CFN1Q2fjIENtCw+ClQ4Q2VzYKXIbCBhmVDQ4DC5+8V+eI1kVmjRP4zp3QAR50s0mOYSMsfi+TmZoTF+y4jIgZkQQA/ZQGLoRkJ4KeMiBiQBQH8lAUshmYkQH+XEREDIBCbABsaYqNiIATCIMCiVxg6J1ElDUASlMOZAz+Fo3USleKnJCiHMwd+CkfrJCplwSsJyuHMQW8XjtbFVrpqjsisR3/Y4FCQXzKMw1qKdL9BpMNgkUrVShzH+y5wP2kuHz9pBhp4OPwUuAE0l4+fNAMNPBz9XeAGoHytBNjQoBUnwSDgPgEWvdzX0JYKaABsUcKPPPCTHzraUgV+skUJP/LAT37oaEsVLHjZooQfedDb+aFjuavYtFzk/SdEFrwgsmd7yeGqHybSdYhI12tFatY/aBzvu3IrQYB9COAn7KCTAH7SSZNY+AkP6CRAf6eTJrFCJ8CGhtAdQP0QOIAAi15YQhcBGgBdJImjCOAnfKCTAH7SSZNY+AkP6CTAgpdOmsSit8MD+xH4/luRec+JfPCUyLa1JcOpUEWkw8Ui3W8SqX9s0Tjed/hJJwH8pJMmsfATHtBJAD/ppEks+js8AAF9BNjQoI8lkSDgBQEWvbyQ0YoiaACskMGbJPCTN1JaUQh+skIGb5LAT95IaUUhLHhZIYM3SdDbeSOl3kLydosseuWH6yi++bT02C3P+mFjQ/NT5fudO2X69OnR+LPOOkuqVSv5egq9CRPNRwL8+clHVdOrCT+lx97HmfGTj6qmVxP9XXrsmdk/Amxo8E9TKoJAuQiw6FUufHx5HwI0ANhBJwH8pJMmsfATHtBJAD/ppEksFrzwgE4C9HY6aXoYq6BAZNnbIrNGiSz9d+kFNjxedne5Tqb9p5oU5FRkQ4OHdki6JP78lDRxv+fDT37rm3R1+Clp4n7PR3/nt75UlywBNjQky5vZIGA9ARa9rJfImQRpAJyRyolE8ZMTMjmTJH5yRionEsVPTsjkTJIseDkjlROJ0ts5IZMdSa77TGT2YyILx4vs3V1iTt9XqivL6p8pR1/4/0m1QxvakTtZOEmAPz85KZu1SeMna6VxMjH85KRs1iZNf2etNCTmIAE2NDgoGilDwCQBFr1M0g0rNg1AWHqbrhY/mSYcVnz8FJbepqvFT6YJhxWfBa+w9DZdLb2dacIext+6TmTOaJF5z4h8/22JBRZUriE5J90ocvp/eQiBkpIgwJ+fkqAczhz4KRytk6gUPyVBOZw56O/C0ZpKzRNgQ4N5xswAAacIsOjllFxWJ0sDYLU8ziWHn5yTzOqE8ZPV8jiXHH5yTjKrE2bBy2p5nEuO3s45yexJePd2kY9eFHn/cZFNy4rPq/tNIj/+nT05k4lTBPjzk1NyWZ8sfrJeIqcSxE9OyWV9svR31ktEgg4RYEODQ2KRKgSSIMCiVxKUw5iDBiAMnZOqEj8lRTqMefBTGDonVSV+Sop0GPOw4BWGzklVSW+XFGmP58nfK/Ll6yKzR4msnF1UaEFOBckZ/rFInaYeF09pJgnw5yeTdMOLjZ/C09xkxfjJJN3wYtPfhac5FZsjwIYGc2yJDAEnCbDo5aRsViZNA2ClLM4mhZ+clc7KxPGTlbI4mxR+clY6KxNnwctKWZxNit7OWemsTHzn0vdk4+R7pNHmubK3zUCpePFYK/MkKTcI8OcnN3RyJUv85IpSbuSJn9zQyZUs6e9cUYo8XSDAhgYXVCJHCCRIgEWvBGF7PhUNgOcCJ1wefkoYuOfT4SfPBU64PPyUMHDPp2PBy3OBEy6P3i5h4J5PV/i+q75rvZxySk+pekRrzyumPJME+POTSbrhxcZP4WlusmL8ZJJueLHp78LTnIrNEWBDgzm2RIaAkwRY9HJSNiuTpgGwUhZnk8JPzkpnZeL4yUpZnE0KPzkrnZWJs+BlpSzOJkVv56x0VibO+85KWZxNCj85K52VieMnK2VxNin85Kx0ViZOf2elLCTlKAE2NDgqHGlDwBQBFr1MkQ0vLg1AeJqbrBg/maQbXmz8FJ7mJivGTybphhebBa/wNDdZMb2dSbrhxeZ9F57mJivGTybphhcbP4WnucmK8ZNJuuHFpr8LT3MqNkeADQ3m2BIZAk4SYNHLSdmsTJoGwEpZnE0KPzkrnZWJ4ycrZXE2KfzkrHRWJs6Cl5WyOJsUvZ2z0lmZOO87K2VxNin85Kx0ViaOn6yUxdmk8JOz0lmZOP2dlbKQlKME2NDgqHCkDQFTBFj0MkU2vLg0AOFpbrJi/GSSbnix8VN4mpusGD+ZpBtebBa8wtPcZMX0dibphheb9114mpusGD+ZpBtebPwUnuYmK8ZPJumGF5v+LjzNqdgcATY0mGNLZAg4SYBFLydlszJpGgArZXE2KfzkrHRWJo6frJTF2aTwk7PSWZk4C15WyuJsUvR2zkpnZeK876yUxdmk8JOz0lmZOH6yUhZnk8JPzkpnZeL0d1bKQlKOEmBDg6PCkTYETBFg0csU2fDi0gCEp7nJivGTSbrhxcZP4WlusmL8ZJJueLFZ8ApPc5MV09uZpBtebN534WlusmL8ZJJueLHxU3iam6wYP5mkG15s+rvwNKdicwTY0GCOLZEh4CQBFr2clM3KpGkArJTF2aTwk7PSWZk4frJSFmeTwk/OSmdl4ix4WSmLs0nR2zkrnZWJ876zUhZnk8JPzkpnZeL4yUpZnE0KPzkrnZWJ099ZKQtJOUqADQ2OCkfaEDBFgEUvU2TDi0sDEJ7mJivGTybphhcbP4WnucmK8ZNJuuHFZsErPM1NVkxvZ5JueLF534WnucmK8ZNJuuHFxk/haW6yYvxkkm54senvwtOcis0RYEODObZEhoCTBFj0clI2K5OmAbBSFmeTwk/OSmdl4vjJSlmcTQo/OSudlYmz4GWlLM4mRW/nrHRWJs77zkpZnE0KPzkrnZWJ4ycrZXE2KfzkrHRWJk5/Z6UsJOUoATY0OCocaUPAFAEWvUyRDS8uDUB4mpusGD+ZpBtebPwUnuYmK8ZPJumGF5sFr/A0N1kxvZ1JuuHF5n0XnuYmK8ZPJumGFxs/hae5yYrxk0m64cWmvwtPcyo2R4ANDebYEhkCThJg0ctJ2axMmgbASlmcTQo/OSudlYnjJytlcTYp/OSsdFYmzoKXlbI4mxS9nbPSWZk47zsrZXE2KfzkrHRWJo6frJTF2aTwk7PSWZk4/Z2VspCUowTY0OCocKQNAVMEWPQyRTa8uDQA4WlusmL8ZJJueLHxU3iam6wYP5mkG15sFrzC09xkxfR2JumGF5v3XXiam6wYP5mkG15s/BSe5iYrxk8m6YYXm/4uPM2p2BwBNjSYY0tkCDhJgEUvJ2WzMmkaACtlcTYp/OSsdFYmjp+slMXZpPCTs9JZmTgLXlbK4mxS9HbOSmdl4rzvrJTF2aTwk7PSWZk4frJSFmeTwk/OSmdl4vR3VspCUo4SYEODo8KRNgRMEWDRyxTZ8OLSAISnucmK8ZNJuuHFxk/haW6yYvxkkm54sVnwCk9zkxXT25mkG15s3nfhaW6yYvxkkm54sfFTeJqbrBg/maQbXmz6u/A0p2JzBNjQYI4tkSHgJAEWvZyUzcqkaQCslMXZpPCTs9JZmTh+slIWZ5PCT85KZ2XiLHhZKYuzSdHbOSudlYnzvrNSFmeTwk/OSmdl4vjJSlmcTQo/OSudlYnT31kpC0k5SoANDY4KR9oQMEWARS9TZMOLSwMQnuYmK8ZPJumGFxs/hae5yYrxk0m64cVmwSs8zU1WTG9nkm54sXnfhae5yYrxk0m64cXGT+FpbrJi/GSSbnix6e/C05yKzRFgQ4M5tkSGgJMEWPRyUjYrk6YBsFIWZ5PCT85KZ2Xi+MlKWZxNCj85K52VibPgZaUsziZFb+esdFYmzvvOSlmcTQo/OSudlYnjJytlcTYp/OSsdFYmTn9npSwk5SgBNjQ4KhxpxyOQk5MTa2CvXr3knXfeiTX2wEHfffedvPbaa/Lmm2/Khx9+KCtWrJAdO3ZInTp1pF27dtKvXz+55pprol+X9jRr1ky++uqrjDkcddRR0RymHha9TJENLy4NQHiam6wYP5mkG15s/BSe5iYrxk8m6YYXmwWvZDSfN2+eTJ06Vf7nf/5HPvvsM1m/fr1UqlRJGjVqJCeffHLUv/Xs2bPcydxzzz1y7733xorz9ttvy49+9KNYY+MOoreLS4pxcQjwvotDiTFxCeCnuKQYF4cAfopDiTFxCeCnuKQYF4cA/V0cSoyBQDwCbGiIx4lRjhIwvaHh9ddfl/POO0927dpVKqGGDRvKiy++KKeddlqJ49jQ4KjJSLtEAjQAmEMnAfykkyax8BMe0EkAP+mkSSwWvMx74NRTT5WZM2dmnOiKK66Qp59+WipXrpxxbEkD2NBQZnR80UICvO8sFMXhlPCTw+JZmDp+slAUh1PCTw6LZ2Hq9HcWikJKzhJgQ4Oz0pF4HAKFGxquv/56ueGGG0r8So0aNaR58+ZxQu435oUXXpDLL79ccnNz5cwzz5Q+ffpIhw4dotMY1E/DjBs3Tl5++eXoO9WrV5f33ntPOnbsWOw8hRsazj33XLnvvvtKzEUtqLVq1SrrXON+gZ/iiUuKcZkI0ABkIsTn2RDAT9nQYmwmAvgpEyE+z4YAfsqGFmMzEWDBKxOh8n/eokULWbp0aXQaw4UXXiinnHKKHHnkkbJ3716ZPXu2PPTQQ7J69epoosGDB0cb08v67LuhYeHChaWGUf2o6kt1PvR2OmkSi/cdHtBJAD/ppEks/IQHdBLATzppEov+Dg9AQB8BNjToY0kkCwkUbmi4++67RS0m6X7UZgV1NOhdd90VLYIV9zz66KNy8803Rx+pExreeuutYscVbmi48sorZezYsbpTjR2PRa/YqBiYgQANABbRSQA/6aRJLPyEB3QSwE86aRKLBS/zHlBXAqrTFy644AKpUKHCQRNu2LAhunZi8eLF0WczZswQdapDWZ59NzQUFBSUJUS5vkNvVy58fPkAArzvsIROAvhJJ01i4Sc8oJMAftJJk1j0d3gAAvoIsKFBH0siWUjA9IaGuCV37dpV1D2t6iSHdevWSb169Q76Khsa4tJknCsEaABcUcqNPPGTGzq5kiV+ckUpN/LET27o5EqWLHjZodRrr70m/fv3j5IZNmyYPPLII2VKjA0NZcLGlywlwPvOUmEcTQs/OSqcpWnjJ0uFcTQt/OSocJamTX9nqTCk5SQBNjQ4KRtJxyVgy4aGESNGyIMPPhilPWfOHFEbHA582NAQV1XGuUKABsAVpdzIEz+5oZMrWeInV5RyI0/85IZOrmTJgpcdSm3fvl1q1qwZJXP22WfLlClTypQYGxrKhI0vWUqA952lwjiaFn5yVDhL08ZPlgrjaFr4yVHhLE2b/s5SYUjLSQJsaHBSNpKOS8CWDQ3qygl19YR65s+fL506dTqoBDY0xFWVca4QoAFwRSk38sRPbujkSpb4yRWl3MgTP7mhkytZsuBlh1KbNm2Sww47LEpGndTw3//932VKjA0NZcLGlywlwPvOUmEcTQs/OSqcpWnjJ0uFcTQt/OSocJamTX9nqTCk5SQBNjQ4KRtJxyVQuKGhbdu2ou4sXbFiRXRPasOGDaVHjx5y1VVXyWmnnRY3XJnHdejQQT755BOpVKmSqDtZa9WqdVCswg0NzZs3jz5funSp7N27Vxo0aCAnnniiDB48WM4991wprKnMyWT4IvesmiIbXlwagPA0N1kxfjJJN7zY+Ck8zU1WjJ9M0g0vNgtedmg+adIkOf/886Nkbr/9dhk5cmSZEtt3Q8OZZ54pH330kWzevFnq1Kkjqkft06ePXHfddXLooYeWKX6mL9HbZSLE59kQ4H2XDS3GZiKAnzIR4vNsCOCnbGgxNhMB/JSJEJ9nQ4D+LhtajIVA6QTY0IBDvCYQ5y//Bw4cKGPHjpXatWsbYaGOJ+3Xr18UW/1z8uTJxc5TuKGhtCROPvlkefnll6Vx48ZlzlUtapX2rFmzJtpAoZ6FCxfKMcccU+a5+GLYBHbu3CnvvvtuBOHUU0+VqlWrhg2E6stFAD+VCx9fPoAAfsISOgngJ500iaU2Nbdv3z4CsWrVKmnSpAlQEiaQn58v3bt3j64KVM+8efOkc+fOZcpi3w0NJQVQmxtUP6o2r2f70NtlS4zx5SHA+6489PjugQTwE57QSQA/6aRJLPyEB3QSoL/TSZNYoRNgQ0PoDvC8/ho1asiAAQOkd+/e0rp16+ge1PXr18uMGTPkySeflI0bN0YEevXqJf/617+iExR0PuqoUnW9xFdffRWdDDF37lw54YQTip2iVatW0qZNGznrrLOkXbt20QYL9dM7s2fPlieeeCJa0FSPGqN+r6wbMOJs8ihMcMyYMVKvXj2dSIgFAQhAAAIQgAAEIAABCJRAQJ3mNmTIkOhTNjSkY5OHHnpIfvGLX0STq1MaXnnllTInojY0TJw4UdQmerVpvFGjRrJnzx758ssvZdy4cTJ9+vQotuoV1cb3vn37ZjUXvV1WuBgMAQhAAAIQgAAEIACBRAnQ3yWKm8k8J8CGBs8FDr28wuM8i+Owbt26aMFowYIF0ccPP/yw3HzzzdqQqesi1IkM06ZNi2Lefffdoha0SnpKy3Xr1q0yaNCgogWvW265Rf70pz+VKVcWvcqEjS9BAAIQgAAEIAABCEDAOAEWvIwjLnUCtfH9jDPOkLy8PDn88MOjE+vUP8v6lNbjqZhPPfWUDB06NAqvNjuon+DK5lQzeruyKsP3IAABCEAAAhCAAAQgYJ4A/Z15xswQDgE2NISjNZUWQ2DZsmXRyQ3qp2RatGgh6k4jXY+6C3X06NFROLWx4dVXX41+8qasz3fffSdHH320qFMf1MkT6p+VK1fOOhzHkmaNjC+UkQBHtJURHF8rlgB+whg6CeAnnTSJhZ/wgE4CHEmqk2Z2sT799FM55ZRT5Ntvv402FbzxxhvRtWmmH3UixzPPPBNN88ILL8ill14ae0p6u9ioGKiBAO87DRAJUUQAP2EGnQTwk06axMJPeEAnAfo7nTSJFToBNjSE7gDql3POOUemTp0akVi9enX0kzHlfe688065//77ozBqUUwthlWrVq28YeXGG2+Uxx9/PIrz3nvvSY8ePcod88AAalGsadOm0W8vXrxYWrZsqX0OAoZB4Pvvvy86VURdpaLj/wNhkKPK4gjgJ3yhkwB+0kmTWPgJD+gkoDZYq6vo1MOVEzrJlh5r+fLl0rNnT/n666+jTejqmolzzz03kQTUtYTqOgr1XHvttUWb4nVMTm+ngyIxCgnwvsMLOgngJ500iYWf8IBOAvhJJ01i0d/hAQjoI8CGBn0sieQogREjRsiDDz4YZT9nzhzp2rVruSoZOXKk3HHHHVGMTp06ydtvvy21atUqV8zCLz/22GNy0003Rb8cP368XHjhhVri7huERS/tSIMNSAMQrPRGCsdPRrAGGxQ/BSu9kcLxkxGswQZlwSt56dUmBrUJXZ3ep65wGDt2rFxxxRWJJbJ9+3apWbNmNN/ZZ58tU6ZM0TY3vZ02lAQSEd532EAnAfykkyax8BMe0EkAP+mkSSz6OzwAAX0E2NCgjyWRHCVw++23ywMPPBBlX94NDer0BHWKgnratGkj7777rtSrV08bmX3js6FBG1YCGSJAA2AIbKBh8VOgwhsqGz8ZAhtoWPwUqPCGymbByxDYEsKqO2179eoln332WTRi1KhRRf1cUpns2LEjulJQPWxoSIo685SFAO+7slDjOyURwE94QycB/KSTJrHwEx7QSYD+TidNYoVOgA0NoTuA+qVfv35FPwWjfoKlcePGZaLy/PPPy5VXXikFBQVy9NFHy8yZM7VcX7FvMup0BnVKg3r+53/+R04++eQy5Vral/gpHu1Igw1IAxCs9EYKx09GsAYbFD8FK72RwvGTEazBBmXBKznpv/vuOzn99NPlww8/jCZVVwb+8pe/TC6B/51p3rx5RacEDhkyRJ5++mltOdDbaUNJIE5owAOaCfDnJ81AAw+HnwI3gOby8ZNmoIGHo78L3ACUr5UAGxq04iRYcQTUfaR/+9vfZPbs2bJ27dromMKpU6fKMcccUzRc/USMWmxRP5li4i/pS1JG5da6dWvZvXt3lM+SJUvKJOLEiRPloosukr1790qTJk2izQzNmjUrU6ySvqQW3FSOGzdulOrVq8umTZukSpUqWudQwVj00o402IA0AMFKb6Rw/GQEa7BB8VOw0hspHD8ZwRpsUBa8kpFenYpw1llnyXvvvRdN+F//9V9y3333JTP5AbNce+21MmbMmOh31Sb5yy67TFse9HbaUBKIDQ14QDMB/vykGWjg4fBT4AbQXD5+0gw08HD0d4EbgPK1EmBDg1acBNuXQH5+vtx1113ypz/9KfqLfnVygXrUvaQLFy6Utm3bFg1/7bXXZMCAAVKxYkVZsWKFlpMNJk+eLH379o1iFvesW7cu+nzBggXRxw899JDceuut+w1V96deffXV0e/dfffdcs899xwUavr06dK/f/9oU8Thhx8eXTNx7LHHZmWGadOmRUedVqtWrdjvbdu2TS644AJRc6ln2LBh8sgjj2Q1R9zBLHrFJcW4TARoADIR4vNsCOCnbGgxNhMB/JSJEJ9nQwA/ZUOLsZkIsOCViVD5P1d9m+rfCnur4cOHy1/+8pesA2fqFVXPq/q7Fi1alBh79OjRct1110WfN2zYMNpgX3j9RNYJFfMFejsdFIlRSID3HV7QSQA/6aRJLPyEB3QSwE86aRKL/g4PQEAfATY06GNJpAMIDB06NDouU21kUIszJ510krz66qvFbmhQX1XXNHz11VfRYpL6C/vyPuqEhD179kQbAbp37x6dmKAWlNQ9qe+884489dRT0b+rp2fPnvLmm28edOJBpkWq999/X3r37i3qJ3wqVaokavzxxx9faurqBIc6dersN+ZHP/pRtMnj/PPPj3JRJzHUrFlT1KkMs2bNkieffFJWrlwZfUdtllC/V7du3fIiKvb7LHoZwRpkUBqAIGU3VjR+MoY2yMD4KUjZjRWNn4yhDTIwC17mZVf9oTphTz3qygnVf6pN9yU9lStXllatWh30caZeUX2urpA47bTToo307du3l8MOO0zy8vLkiy++kHHjxhVtqqhQoYJMmjQp2mih86G300mTWLzv8IBOAvhJJ01i4Sc8oJMAftJJk1j0d3gAAvoIsKFBH0si7UNAbRhQi0NqYWjEiBHR8Z3qpITc3NwSNzTcfvvt8uCDD0YnNaiND+V91AYGtUEi06MWtNQRnwduMlDfy7RIpU5suPfeezNNsd/nzz33nFx11VX7/Z7a0DBjxoyMcdQpDmrhq3HjxhnHlnUAi15lJcf3DiRAA4AndBLATzppEgs/4QGdBPCTTprEYsHLvAdK27xQ3OxHHXVUdIrggU+mXnHfz0urSm1yeOaZZ+Tcc8/VXjy9nXakQQfkfRe0/NqLx0/akQYdED8FLb/24vGTdqRBB6S/C1p+itdMgA0NmoES7gcCl1xyiYwfPz76SZQpU6YUYSltQ4P6KZlBgwZFpxOo/9CX91EbBNT/Zs+eLcuWLYtOY9iyZUt08kHTpk2lR48ecuWVV0anN5T0ZFqk0rWhYd68efLvf/87yvXLL7+Mct28ebNUr149un6jW7duMnjw4Oie12wX4LLlyKJXtsQYXxIBGgC8oZMAftJJk1j4CQ/oJICfdNIkFgte5j2QbT9V1g0N33zzjairFVWPp645VFcebty4MTrBUJ2216FDB+nTp0+02b1WrVpGCqe3M4I12KC874KV3kjh+MkI1mCD4qdgpTdSOH4ygjXYoPR3wUpP4QYIsKHBAFRCihx55JGyevVq+cc//iHnnXdeEZLSNjTMmTMnupZC/SX+tm3bwJgSARa9UgLv4bQ0AB6KmmJJ+ClF+B5OjZ88FDXFkvBTivA9nJoFLw9FTbEkersU4Xs4Ne87D0VNsST8lCJ8D6fGTx6KmmJJ+ClF+B5OTX/noaiUlBoBNjSkht7viatWrSp79uyR+fPnS8eOHWNtaFA/tdK5c2dRd5Tu3LnTb0AWV8eil8XiOJYaDYBjglmeLn6yXCDH0sNPjglmebr4yXKBHEuPBS/HBLM8XXo7ywVyLD3ed44JZnm6+MlygRxLDz85Jpjl6eInywVyLD36O8cEI12rCbChwWp53E1O3QOqrkyYNm2anHnmmbE2NKjjOAcMGCANGjSQNWvWuFu845mz6OW4gBalTwNgkRgepIKfPBDRohLwk0VieJAKfvJARItKYMHLIjE8SIXezgMRLSqB951FYniQCn7yQESLSsBPFonhQSr4yQMRLSqB/s4iMUjFeQJsaHBeQjsL6NKlS3RP6J///Ge5+eabY21ouOmmm+Txxx+X008/Xd588007CwsgKxa9AhA5oRJpABICHcg0+CkQoRMqEz8lBDqQafBTIEInVCYLeaGBMwAAIABJREFUXgmBDmQaertAhE6oTN53CYEOZBr8FIjQCZWJnxICHcg0+CkQoRMqk/4uIdBMEwQBNjQEIXPyRd51111y//33S8uWLeXzzz+X3NzcKAn1z5ycHFm4cKG0bdu2KLEvvvgium5CXTXxxz/+UW677bbkk2bGiACLXhhBFwEaAF0kiaMI4Cd8oJMAftJJk1j4CQ/oJMCCl06axKK3wwM6CfC+00mTWPgJD+gkgJ900iQWfsIDOgnQ3+mkSazQCbChIXQHGKpfXRmhNjOoPwBcd9118uijj0qFChWK3dDw9ttvy5VXXhn9RXrdunVl+fLlcsghhxjKjLCZCLDolYkQn8clQAMQlxTj4hDAT3EoMSYuAfwUlxTj4hDAT3EoMSYuARa84pJiXBwC9HZxKDEmLgHed3FJMS4OAfwUhxJj4hLAT3FJMS4OAfwUhxJj4hKgv4tLinEQyEyADQ2ZGTGijAT+9re/yVVXXRWdyHDkkUdK//79ZdSoUdGv1SYH9bz33nuyaNEiKSgoiDY7TJo0KRrHkx4BFr3SY+/bzDQAvimabj34KV3+vs2On3xTNN168FO6/H2bnQUv3xRNtx56u3T5+zY77zvfFE23HvyULn/fZsdPvimabj34KV3+vs1Of+ebotSTJgE2NKRJP4C5X3zxRbn++utl69at0UaGAx+1kUE9NWrUkOeee04GDRoUABW7S2TRy259XMqOBsAltezPFT/Zr5FLGeInl9SyP1f8ZL9GLmXIgpdLatmfK72d/Rq5lCHvO5fUsj9X/GS/Ri5liJ9cUsv+XPGT/Rq5lCH9nUtqkavtBNjQYLtCHuT3zTffyGOPPSaTJ0+WTz75RPLz84uqOvbYY2XAgAFyyy23SMOGDT2o1v0SWPRyX0NbKqABsEUJP/LAT37oaEsV+MkWJfzIAz/5oaMtVbDgZYsSfuRBb+eHjrZUwfvOFiX8yAM/+aGjLVXgJ1uU8CMP/OSHjrZUQX9nixLk4QMBNjT4oKJDNezZs0c2btwoe/fulcMOO0yqVq3qUPZhpMqiVxg6J1ElDUASlMOZAz+Fo3USleKnJCiHMwd+CkfrJCplwSsJyuHMQW8XjtZJVMr7LgnK4cyBn8LROolK8VMSlMOZAz+Fo3USldLfJUGZOUIhwIaGUJSmTgjEJMCiV0xQDMtIgAYgIyIGZEEAP2UBi6EZCeCnjIgYkAUB/JQFLIZmJMCCV0ZEDMiCAL1dFrAYmpEA77uMiBiQBQH8lAUshmYkgJ8yImJAFgTwUxawGJqRAP1dRkQMgEBsAmxoiI2KgRAIgwCLXmHonESVNABJUA5nDvwUjtZJVIqfkqAczhz4KRytk6iUBa8kKIczB71dOFonUSnvuyQohzMHfgpH6yQqxU9JUA5nDvwUjtZJVEp/lwRl5giFABsaQlE64TrV1RLLly+PZm3WrJlUrlx5vwx27dolv/nNb2T8+PGyYcMGad68uVx//fXR/3jSJcCiV7r8fZqdBsAnNdOvBT+lr4FPGeAnn9RMvxb8lL4GPmXAgpdPaqZfC71d+hr4lAHvO5/UTL8W/JS+Bj5lgJ98UjP9WvBT+hr4lAH9nU9qUkvaBNjQkLYCns4/YcIEueSSS6Ru3bqyatUqqVq16n6V9uvXT15//fXo9woKCqJ/5uTkyE033SQPP/ywp1TcKItFLzd0ciFLGgAXVHInR/zkjlYuZIqfXFDJnRzxkztauZApC14uqOROjvR27mjlQqa871xQyZ0c8ZM7WrmQKX5yQSV3csRP7mjlQqb0dy6oRI6uEGBDgytKOZbnkCFD5Nlnn5Wf/vSnMmbMmP2yVxsZzjnnnGgDwxFHHCGdO3eWefPmyZo1a6Lfe++99+Skk05yrGJ/0mXRyx8t066EBiBtBfyaHz/5pWfa1eCntBXwa3785JeeaVfDglfaCvg1P72dX3qmXQ3vu7QV8Gt+/OSXnmlXg5/SVsCv+fGTX3qmXQ39XdoKML9PBNjQ4JOaFtVywgknyCeffCJjx46Vyy+/fL/MBg0aJBMnTpSWLVvKnDlzpHbt2vLtt99Kjx49ZPHixXL11VcftAnCotK8T4VFL+8lTqxAGoDEUAcxEX4KQubEisRPiaEOYiL8FITMiRXJgldiqIOYiN4uCJkTK5L3XWKog5gIPwUhc2JF4qfEUAcxEX4KQubEiqS/Sww1EwVAgA0NAYicRomNGzeWtWvXHnTaQn5+fnQNxdatW6OrJdQVE4XP448/Hv362GOPlc8//zyNtJlTRFj0wga6CNAA6CJJHEUAP+EDnQTwk06axMJPeEAnARa8dNIkFr0dHtBJgPedTprEwk94QCcB/KSTJrHwEx7QSYD+TidNYoVOgA0NoTvAUP1VqlSRvLw8+fDDD6VDhw5FsyxYsCC6YkJdLbF06VJp1qxZ0WczZ86UXr16SY0aNaINDzzpEGDRKx3uPs5KA+CjqunVhJ/SY+/jzPjJR1XTqwk/pcfex5lZ8PJR1fRqordLj72PM/O+81HV9GrCT+mx93Fm/OSjqunVhJ/SY+/jzPR3PqpKTWkRYENDWuQ9n/eQQw6RHTt2yPTp06V3795F1apTGW655RZp0qSJrFy5cj8KH3/8sairKtRmCPUHB550CLDolQ53H2elAfBR1fRqwk/psfdxZvzko6rp1YSf0mPv48wsePmoano10dulx97HmXnf+ahqejXhp/TY+zgzfvJR1fRqwk/psfdxZvo7H1WlprQIsKEhLfKez9u+fXv57LPP5L777pM777yzqNozzzxT3nrrLRk8eLC88MIL+1F4++23o80PxW128ByXVeWx6GWVHE4nQwPgtHzWJY+frJPE6YTwk9PyWZc8frJOEqcTYsHLafmsS57ezjpJnE6I953T8lmXPH6yThKnE8JPTstnXfL4yTpJnE6I/s5p+UjeMgJsaLBMEF/SGTZsmDz22GNyxBFHyDvvvCMtW7aUqVOnSv/+/aMSn3/+efnJT36yX7mPPvqoDB8+XLp06SJz5szxBYVzdbDo5Zxk1iZMA2CtNE4mhp+clM3apPGTtdI4mRh+clI2a5NmwctaaZxMjN7OSdmsTZr3nbXSOJkYfnJSNmuTxk/WSuNkYvjJSdmsTZr+zlppSMxBAmxocFA0F1JevHixHH/88bJnz54o3fr168v69euloKBAGjduLEuWLImultj3UZsd1KaHq6++WsaMGeNCmV7myKKXl7KmUhQNQCrYvZ0UP3krbSqF4adUsHs7KX7yVtpUCmPBKxXs3k5Kb+ettKkUxvsuFezeToqfvJU2lcLwUyrYvZ0UP3krbSqF0d+lgp1JPSXAhgZPhbWhrL///e8yZMgQUX8IKHxq1aol//3f/y2nnnrqfimuW7dOjjrqqGgDxN/+9je59NJLbSghyBxY9ApSdiNF0wAYwRpsUPwUrPRGCsdPRrAGGxQ/BSu9kcJZ8DKCNdig9HbZSa9+AGPbrjw5pGql7L4YyGjed4EInVCZ+Ckh0IFMg58CETqhMvFTQqADmYb+LhChKTMRAmxoSARzuJOsWbNGXnvtNVm7dm10/cTAgQOlXr16BwGZNm2ajBs3Lvp9dfVEnTp1woWWcuUseqUsgEfT0wB4JKYFpeAnC0TwKAX85JGYFpSCnywQwaMUWPDySEwLSqG3iyfCN1t3ysQPV8v4eaukTcNa8tilneJ9MbBRvO8CE9xwufjJMODAwuOnwAQ3XC5+Mgw4sPD0d4EJTrlGCbChwShegkPAPQIsermnma0Z0wDYqoybeeEnN3WzNWv8ZKsybuaFn9zUzdasWfCyVRk386K3K1m3vL358s6X6+XleavkrS++kb35BdHgShVy5IO7zpC6NSq7KbrBrHnfGYQbYGj8FKDoBkvGTwbhBhgaPwUousGS6e8MwiV0cATY0BCc5BQMgdIJsOiFQ3QRoAHQRZI4igB+wgc6CeAnnTSJhZ/wgE4CLHjppEkseruDPbB8w/boJIZX5v9Hvtm6q1iT/KZfW/lpz+YY6AACvO+whE4C+EknTWLhJzygkwB+0kmTWPR3eAAC+giwoUEfSyJBwAsCLHp5IaMVRdAAWCGDN0ngJ2+ktKIQ/GSFDN4kgZ+8kdKKQljwskIGb5Kgt/tByh2782TqwrUyfu4qmbNiU0Z9z2zbQJ6+okvGcaEN4H0XmuJm68VPZvmGFh0/haa42Xrxk1m+oUWnvwtNceo1SYANDSbpEjsi8O2338oHH3wgy5Ytk61bt8revXszkrnrrrsyjmGAGQIsepnhGmJUGoAQVTdXM34yxzbEyPgpRNXN1YyfzLENMTILXiGqbq7mkHu7goIC+fg/38nLc1fJ5I+/lm278koFXa1SBTm7/RFycdem0rXZoZKTk2NOGEcj875zVDhL08ZPlgrjaFr4yVHhLE0bP1kqjKNp0d85KhxpW0mADQ1WyuJHUhs2bJDbbrtNXn75ZdmzZ0/sotTCQV5e6YsNsYMxMGsCIS96ZQ2LL5RKgAYAg+gkgJ900iQWfsIDOgngJ500icWCFx7QSSDE3m7T9t0yacHq6DSGL9dtzYizY9M60SaGfscfIYdUrZRxfMgDeN+FrL7+2vGTfqYhR8RPIauvv3b8pJ9pyBHp70JWn9p1E2BDg26ixIsIbN68Wbp37y6LFy8W9ZMR2T75+fnZfoXxmgiEuOilCR1hDiBAA4AldBLATzppEgs/4QGdBPCTTprEYsELD+gkEEpvtze/QGb+v/UyYd5/ZPpna2XP3tLXIOrWqCznndBYLurSVI5teIhO5F7H4n3ntbyJF4efEkfu9YT4yWt5Ey8OPyWO3OsJ6e+8lpfiEibAhoaEgYcy3Z133ikjR46Myj399NPl1ltvlc6dO0vdunUlNzc3I4YKFSpkHMMAMwRCWfQyQ4+o+xKgAcAPOgngJ500iYWf8IBOAvhJJ01iseCFB3QS8L23W7Vph0yYt0r+Mf8/8vV3O0tFp26QOLVl/eg0hjPaNJDKFTOvS+jUwodYvO98UNGeGvCTPVr4kAl+8kFFe2rAT/Zo4UMm9Hc+qEgNthBgQ4MtSniWR5s2baLTGfr27SuTJ0/m/kmH9PV90cshKZxPlQbAeQmtKgA/WSWH88ngJ+cltKoA/GSVHM4nw4KX8xJaVYCPvd3OPXvljU/Xyvh5q+S9JRsz8m5at5pc1LmpXNC5iTSqUy3jeAaUTID3He7QSQA/6aRJLPyEB3QSwE86aRKL/g4PQEAfATY06GNJpH0IVK9eXXbt2iVTpkyRPn36wMYhAj4uejmE36tUaQC8kjP1YvBT6hJ4lQB+8krO1IvBT6lL4FUCLHh5JWfqxfjU2y1a/V20ieHVBatly868Utmq0xf6tmsoF3dpKicdfZjk5uakroUPCfC+80FFe2rAT/Zo4UMm+MkHFe2pAT/Zo4UPmdDf+aAiNdhCgA0NtijhWR7169eXTZs2yfz586Vjx46eVed3OT4tevmtlP3V0QDYr5FLGeInl9SyP1f8ZL9GLmWIn1xSy/5cWfCyXyOXMnS9t/tuxx7558er5eW5q+TTr7dkRH9co1rRlRLndmgstatXyjieAdkR4H2XHS9Gl04AP+EQnQTwk06axMJPeEAnAfo7nTSJFToBNjSE7gBD9Z9++ukyY8YMmTRpkgwYMMDQLIQ1QcD1RS8TTIhZNgI0AGXjxreKJ4CfcIZOAvhJJ01i4Sc8oJMAC146aRLLxd4uP79AZi/bGJ3G8PqitbI7L79UIWtVrSjnndBYLuzSVNo1ro3oBgnwvjMIN8DQ+ClA0Q2WjJ8Mwg0wNH4KUHSDJdPfGYRL6OAIsKEhOMmTKfill16Sn/zkJzJo0CAZP358MpMyixYCLi56aSmcINoJ0ABoRxp0QPwUtPzai8dP2pEGHRA/BS2/9uJZ8NKONOiALvV2X2/+Xv4x/z8yYf4qWbXp+4y6ndziMLmoS1P58XENpWqlChnHM6D8BHjflZ8hEf6PAH7CDToJ4CedNImFn/CATgL0dzppEit0AmxoCN0BBusfPHhwtJlh5MiR8otf/MLgTITWScClRS+ddRNLPwEaAP1MQ46In0JWX3/t+Ek/05Aj4qeQ1ddfOwte+pmGHNH23k6dvvDm5+uiKyXe/X/rpaCgdLWOqF1VLuzcJDqNoWnd6iFLm0rtvO9Swe7tpPjJW2lTKQw/pYLd20nxk7fSplIY/V0q2JnUUwJsaPBU2LTLmjVrluTl5cldd90ls2fPlm7dukUnNrRu3VqqV8+88NCjR4+0Swh2ftsXvYIVxsHCaQAcFM3ilPGTxeI4mBp+clA0i1PGTxaL42BqLHg5KJrFKdva2y1etzXaxDBpwWrZtH13qQQrVciRs9o2lIu6NpWeLepJhdwci4n7nRrvO7/1Tbo6/JQ0cb/nw09+65t0dfgpaeJ+z0d/57e+VJcsATY0JMs7mNlyc3MlJ6dsCw3qe2ozBE86BGxd9EqHBrOWhwANQHno8d0DCeAnPKGTAH7SSZNY+AkP6CTAgpdOmsSyqbfbunOPTP54jbw8b5V8vGpzRnGObXBItInhvBMaS90alTOOZ4B5ArzvzDMOaQb8FJLa5mvFT+YZhzQDfgpJbfO10t+ZZ8wM4RBgQ0M4WidaqdrQUNZHbWjYu3dvWb/O98pJwKZFr3KWwtdTJkADkLIAnk2PnzwTNOVy8FPKAng2PX7yTNCUy2HBK2UBPJs+7d6uoKBA5q74NjqNYerCNfL9ntL7/EOqVJT+HRvJRV2aSocmtcv8QxKeyWhNObzvrJHCi0TwkxcyWlMEfrJGCi8SwU9eyGhNEfR31khBIh4QYEODByLaWMK///3vcqXVu3fvcn2fL5edQNqLXmXPnG/aRoAGwDZF3M4HP7mtn23Z4yfbFHE7H/zktn62Zc+Cl22KuJ1PWr3dN1t2yisfrpYJ81bJsg3bM0I8sXldubhLUzm7/RFSrXKFjOMZkA4B3nfpcPd1Vvzkq7Lp1IWf0uHu66z4yVdl06mL/i4d7szqJwE2NPipK1VBoMwE0lr0KnPCfNFaAjQA1krjZGL4yUnZrE0aP1krjZOJ4ScnZbM2aRa8rJXGycSS7O327M2Xt7/4RsbPWyVvf7le9uYXlMrs8EOqyAWdm0SnMTSvV8NJvqElzfsuNMXN1oufzPINLTp+Ck1xs/XiJ7N8Q4tOfxea4tRrkgAbGkzSJTYEHCSQ5KKXg3hIOQsCNABZwGJoRgL4KSMiBmRBAD9lAYuhGQngp4yIGJAFARa8soDF0IwEkujtlq7fFm1ieGX+atmwbVepOVXMzZHTWx8uF3dtKr1a1ZeKFcp+VWXG4hmgnQDvO+1Igw6In4KWX3vx+Ek70qAD4qeg5ddePP2ddqQEDJgAGxoCFp/SIVAcgSQWvSAfBgEagDB0TqpK/JQU6TDmwU9h6JxUlfgpKdJhzMOCVxg6J1Wlqd5u+648mbJwjYyfu0rmffVtxnKOrl8julLi/E5NpP4hVTKOZ4CdBHjf2amLq1nhJ1eVszNv/GSnLq5mhZ9cVc7OvOnv7NSFrNwkwIYGN3VzLuuPP/5Y3nzzTVm0aJFs2rQpyr9u3brSrl07OeOMM6RDhw7O1eRrwqYWvXzlRV0lE6ABwB06CeAnnTSJhZ/wgE4C+EknTWKx4IUHdBLQ2dsVFBTIglWbo00Mkz/+Wrbv3ltqqtUrV5B+xx8RXSnR+ahDJScnR2dpxEqBAO+7FKB7PCV+8ljcFErDTylA93hK/OSxuCmURn+XAnSm9JYAGxq8ldaOwj799FMZOnSozJo1q9SETj75ZHnyySelbdu2diQecBY6F70CxkjpIkIDgA10EsBPOmkSCz/hAZ0E8JNOmsRiwQsP6CSgo7dT10i8umC1vDx3lfy/b7ZlTK/TkXWiKyXOOb6R1KxSMeN4BrhDgPedO1q5kCl+ckEld3LET+5o5UKm+MkFldzJkf7OHa3I1H4CbGiwXyNnM3z77bflnHPOkV27don6aQ71VKhQQQ499NDo37/99lvZu/eHn+pQP61RpUoVmTp1qvzoRz/SVnPcnwLp1auXvPPOO+We9+9//7s899xz8sknn8jmzZulQYMGcsopp8iNN94o3bt3jxV/x44dMmrUKJkwYYIsXbo04te0adOI5c033yxHHXVUrDhlHaRj0ausc/M9vwjQAPilZ9rV4Ke0FfBrfvzkl55pV4Of0lbAr/lZ8EpWz6+++koeeeQRmTJliqxatSrqSY855hi56KKLoh6uevXqWhJ6/fXXZfTo0TJ37lxZv3691K9fX7p27So/+9nPpG/fvlrmKC5IWXu7vfkF8u7i9dEmhjc/Xyd5+T/08yU9h9WoLOd3ahydxtCywSHG6iFwugR436XL37fZ8ZNviqZbD35Kl79vs+Mn3xRNtx76u3T5M7tfBNjQ4Jee1lSzceNGadmyZfSX+rm5uXLFFVfItddeK507d5bKlStHee7Zs0fmz58vTz/9tPz1r3+V/Pz8aLOD+o+8uo5Cx5PUhgb1B51BgwZFGzKKexSD3/zmN3L33XeXWtaSJUvk7LPPjhgU99SqVUvGjRsn/fr104Gn2BhlXfQylhCBnSVAA+CsdFYmjp+slMXZpPCTs9JZmTh+slIWZ5NiwSs56SZPniyXXXaZbNmypdhJW7VqFW10aNGiRZmTUj2u2rTwzDPPlBhjyJAh8tRTT0V9s+4n295u5cYdMn7eKvnH/P/I2i07S00nN0ekV6v60WkMp7duIJUr6s9fNw/ilY8A77vy8ePb+xPATzhCJwH8pJMmsfATHtBJgP5OJ01ihU6ADQ2hO8BQ/eov7++77z6pVKmSTJw4MTpdoLRH/cTKwIEDJS8vT37961/LPffcoyWzwg0N119/vdxwww0lxqxRo4Y0b968zHMOHjxYXnrppej7p512mgwfPlwaNWokCxculN///vfRSQvqUQtVakGruGfr1q3SpUsXWbx4cfSx2gByySWXSLVq1USddvGHP/xBtm3bFv2U0HvvvScdO3Ysc76lfTHbRS8jSRDUCwI0AF7IaE0R+MkaKbxIBD95IaM1ReAna6TwIhEWvJKRccGCBaKuPVT//61Zs6bceeedUR+nfq36OrXpXj1qU8O8efPkkEPKduqAinv//fdHsU444QS5/fbboxMgVH/4xz/+UVQe6lHjVN+o+4nT2+3cs1emLVobncYwe9nGjCkcdVj16CSGCzo1kYa1q2YczwB/CPC+80dLGyrBTzao4E8O+MkfLW2oBD/ZoII/OdDf+aMllaRPgA0N6WvgZQbqJIaPPvoo+ov9P/3pT7FqvPXWW+Uvf/mLdOrUKVo00vEUbmhQJyPo2iRxYF5vvfWW9O7dO/rt/v37y6RJk6KrNQqfDRs2RCdTrFy5UurUqSPLli0runZj31hqE8hvf/vb6LfU4taIESP2m2rWrFmirsZQmz50XZFRHOM4i146tCGG/wRoAPzXOMkK8VOStP2fCz/5r3GSFeKnJGn7PxcLXslofOqpp8rMmTOlYsWK8u677x50PeADDzwQbT5QT1l7SbVR/bjjjov6N7VxXc2jNqsXPuqqQdXXqd5X5fH555+X6zSIbHo7dSXkotVb5OV5K+WfH30tW3fmlQq+SsVcObv9EdFGhm7N60quOp6BJzgCvO+Ck9xowfjJKN7gguOn4CQ3WjB+Moo3uOD0d8FJTsEGCbChwSDckEOrqyPU0Z3qL/vVIk2cZ8aMGdFPxdSuXVu+/fbbOF/JOCaJDQ3qigh1woRahFq+fLk0adLkoLzUT/moUxzUU9xmBXX9hrpH9bvvvpM2bdrIokWLij1ydOjQodEpD+qZM2dOdO+q7ocNDbqJhhuPBiBc7U1Ujp9MUA03Jn4KV3sTleMnE1TDjcmCl3ntVR/VrVu3aKLrrrtOnnzyyYMmVVdFtGvXLtpkoDalf/PNN9Hpg9k86oTAJ554IvrK7Nmz5aSTTjro6++//37RZgo1/rHHHstmioxjD+zt6jc+Sl5dsFpenvcf+XxN8Vdt7Bv0+Ca15cIuTWVAh0ZSu1p29WdMjgHOEeB955xkVieMn6yWx7nk8JNzklmdMH6yWh7nkqO/c04yEraYABsaLBbH5dTUT57s3r07+kt3dTpBnGf+/PnRX9BXrVpV1E+r6HhMb2hQ10TUq1cvqrVPnz7RxobiHvW52rCgNnl0795d1GkL+z7Tp0+XH//4x9FvqSNJf/nLXxYbZ98FrzSPJdWhDTH8J0AD4L/GSVaIn5Kk7f9c+Ml/jZOsED8lSdv/uVjwMq/xXXfdFV3npx7VXxVubjhwZtWXqZ5LPW+88YacddZZsZNTJyCoje5ff/21tG7dOtoYUdKjPv/yyy+lcePGsmrVKinsYWNPVsrAfTc0XP7wZHn/mwqyOy+/1NB1qleSgR0bR6cxtG1US0caxPCEAO87T4S0pAz8ZIkQnqSBnzwR0pIy8JMlQniSBv2dJ0JShhUE2NBghQz+JdGsWbNoMUbdPfrTn/40VoHPPPOMXHvttXLUUUdFJx3oeExvaNj3ugm1KHbHHXeUmLbasKA2LqiTHNSGjX1/wmff6yZK+ukdFVgdV6pOsFDfV8ekqlMtdD+c0KCbaLjxaADC1d5E5fjJBNVwY+KncLU3UTl+MkE13JgseJnXvvC6iRo1asjmzZuj/qy4R/VlPXr0iD5S/dq9994bOzl1zeAxxxwTjS/pFIjCYOrz0aNHR79U32vevHnseTIN3Le3a3z9WKlYq16xX8nJEenZol60ieHMtg2kaqX/u0Ix0xx8Hg4B3nfhaJ1EpfgpCcrhzIGfwtE6iUrxUxKUw5mD/i4cranUPAE2NJhnHOQMl19+uYwbNy66A/TDDz+UmjVrlsph+/bt0qlTJ1myZIn85Cc/keeff14Lt8INDW3bthX1UzIrVqyQChUqSMOPlL5jAAAgAElEQVSGDaPFqauuuiq65qKsz6hRo2TYsGHR1ydNmiQDBw4sMdTw4cPlkUceiT7/9NNPReVU+AwaNEheeeWV6Jfqug11rGlJT4cOHeSTTz6JTnxQR5/qftjQoJtouPFoAMLV3kTl+MkE1XBj4qdwtTdROX4yQTXcmCx4mdde9VEbNmwQ1Vd99NFHJU6o+rK6detGn1944YUyfvz42Mm99tpr0r9//2j8n//8Z/n5z39e4nfV57feemv0+ZQpU0RdaajrybShoXGdanJhlyYyqHMTaXJodV3TEsdTArzvPBU2pbLwU0rgPZ0WP3kqbEpl4aeUwHs6Lf2dp8JSVioE2NCQCnb/J505c6b06tUrOi6zY8eOok5fUP8s7lGLSEOGDIk2Pqjx6tSBnj17aoEU57hOtQlh7Nix0ckH2T7qRIaRI0dGX5s7d6506dKlxBAPPvigjBgxIvp82rRpRVdMqF+r+1Q/+OADUT8ltG3btlLT6NevX7TQpZ6dO3dKlSpVsk271PFsaNCKM+hgNABBy6+9ePykHWnQAfFT0PJrLx4/aUcadEAWvMzKr/ondT2ies455xxRGw9Ke9TGfLX5XvVr6sSGuM+TTz4p119/fTR8woQJojawl/T84x//iDZMqEd9T53YoOspbkND5Qq5ctZxDeTirk3l5GPqSW5ujq7piOM5Ad53nguccHn4KWHgnk+HnzwXOOHy8FPCwD2fjv7Oc4EpL1ECbGhIFHdYkw0dOjQ6OrNwU4H6CRh1P+nhhx8e/d66deuiv8T/+OOPIzDqBAX1nccff1wbKLVBYMCAAdK7d+/o7lK1ILV+/fpo04RaLNq4cWM0l9p88a9//Wu/ayDiJHHjjTcW5avuRVVzlPQ88cQTcsMNN0Qfq0WrCy64oGjocccdJ5999pk0aNBA1q5dW+rUF198cdFPB6mfLDrssMPipFo0Ri1qlfasWbNGTjzxxGjIwoULi45KzWoSBkPgfzfcvPvuuxELdbRv1apV4QKBMhNQfwGBn8qMjy8eQAA/YQmdBPCTTprEWrp0qbRv3z4Coa7wa9KkCVA0ElC9oOpH1aP6qpdeeqnU6Ko/U6fitWvXLuqN4j4PPPCA3H777dHw119/Xfr06VPiV9XnhacyqE3wt912W9xpJJveruevXpbLe3eUfu0byqHVK8Weg4EQKCTA+w4v6CSAn3TSJBZ+wgM6CeAnnTSJRX+HByCgjwAbGvSxJNIBBPLz8+UXv/iFPPzww9FmhZJOSyj8TB3DqRZ+cnNztbFUd6KWdH2D2lDRt29fWbBgQTSfyvPmm2/Oau5rrrlGnn322eg76uV09NFHl/h9NU6NV4+6UuOyyy4rGqvuV1X3pTZt2lRWrlxZag5XXHFF0ZUcZVnkjHNqRWECY8aMkXr1ir9nNStQDIYABCAAAQhAAAIQgAAEMhJQG5bV6XXqKcuf9TNOEPgAxfTII4+MKKhrEv/2t7+VSkSNVd9R/Zq6HjHu89vf/lZ+85vfRMP//e9/y+mnn17iV996661oA7561Pd+9atfxZ2mxB67uABPPz1G6tent4sNl4EQgAAEIAABCEAAAhAoJwH6u3IC5OsQ2IcAGxqwg3EC6gQGderCm2++KcuXL99vvubNm8sZZ5wRnVygTnBI+lGbCNSpCnv27JEWLVqIOgIom8fFExrY0JCNwoyFAAQgAAEIQAACEIBAcgRY8DLL2rcTGujtzPqF6BCAAAQgAAEIQAACECgPAfq78tDjuxDYnwAbGnBEogTUHVSbNm2K5qxbt27R/aWJJnHAZOru1KlTp0a/u3r1amnUqFHsdO644w4ZOXJkNH7u3LnSpUuXEr+rjg8dMWJE9Pm0adPkxz/+cdFYdSerun5DXZGxbdu2Uufv16+fTJkyJRqjjsCqUqVK7HzVwGyOJeXKiazQMvgAAhzRhiV0EsBPOmkSCz/hAZ0E8JNOmsTiSFKzHlD/f61WrVo0ieoDX3vttVInVFcWbt++XVS/Nnv27NjJqesNr7/++mj8hAkTZNCgQSV+V11HeOGFF0afq+9dd911seeht4uNioEaCPC+0wCREEUE8BNm0EkAP+mkSSz8hAd0EqC/00mTWKETYEND6A6g/miTgdpsoJ45c+ZI165dY1MZNWqUDBs2LBo/adIkGThwYInfHT58uDzyyCPR559++qm0bdu2aKxa4HrllVeiX3/77bclXpOhPlcnWXzyySdSv3796D5X3Y9aFFNXX6hn8eLF0rJlS91TEC8QAmoD0/Tp06NqzzrrLCs2MAWC3ssy8ZOXsqZWFH5KDb2XE+MnL2VNrSh1YlyrVq2i+blywowM6kq9jRs3Rn3VRx99VOIkqi9Tm/DVozYcjB8/PnZCaqNE//79o/F//vOfRV2vWNKjPr/11lujj9XG9bPPPjv2PJkG0ttlIsTn2RDgfZcNLcZmIoCfMhHi82wI4KdsaDE2EwH8lIkQn2dDgP4uG1qMhUDpBNjQgEOCJ3D77bfLAw88EHHIdkPDvved/uEPfxB1YkNJjzqRQf3lbsWKFWXHjh1SqVKloqHqflV1X6p61E/+qJ8AKu7Jy8uLNjuonxI69dRTZcaMGdr1Y9FLO9JgA9IABCu9kcLxkxGswQbFT8FKb6Rw/GQEa7BBWfAyL73qo2bOnBmdjrd58+aoPyvuUX1Zjx49oo9Uv3bvvffGTk5dbXjMMcdE49WJC+rkhZIe9fno0aOjj9X31LWMuh56O10kiaMI8L7DBzoJ4CedNImFn/CATgL4SSdNYtHf4QEI6CPAhgZ9LIlUAoH8/PzoKM8333xT1BUG+1450a5dOznjjDNEXaNQoUKFVBjue4WDWvBp3Lhx7Dy2bt0q6id8du/eLX369JHXX3+92O+qz9WJClu2bJHu3bvLrFmz9hunNjoUXkFx//33yy9/+cti47z//vvR99Vz5513yu9///vYucYdyKJXXFKMy0SABiATIT7PhgB+yoYWYzMRwE+ZCPF5NgTwUza0GJuJAAtemQiV//O77rpL1GZ09aj+qlu3bsUGVX2Z6rnU88Ybb0QnjsV9CgoKpEmTJvL1119L69at5fPPPy/xq23atJEvvvgi6kPVqRw5OTlxp8k4jt4uIyIGZEGA910WsBiakQB+yoiIAVkQwE9ZwGJoRgL4KSMiBmRBgP4uC1gMhUAGAmxowCJGCUydOlVuvPFGWblyZdE8anFHPfsu1KgrDtT1DWpzQZLP8uXLowUmteFA/QTNkiVLsp5eHQmqNjKon+xR8dTC1YHPSy+9JIMHD45++49//GN0zcW+j5r/8MMPl++++07Ugpa6kqK4hayhQ4fKU089FX0129Mk4hbGoldcUozLRIAGIBMhPs+GAH7KhhZjMxHAT5kI8Xk2BPBTNrQYm4kAC16ZCJX/c9VHFW5iKOn0BLUpX22+VxsR1Al56qq/fU/Yi5PFDTfcIE888UQ0tKRT+PbdsK7GP/bYY3FCxx5DbxcbFQNjEOB9FwMSQ2ITwE+xUTEwBgH8FAMSQ2ITwE+xUTEwBgH6uxiQGAKBmATY0BATFMOyJ6A2KAwfPjz6YuEmBrVxoUGDBtHvrVu3LvoJlMJH/QX+ww8/LDfddFP2kxXzjcmTJ0vfvn1LPEJUza8+X7BgQfTthx56qOju0sJwY8eOlauvvjr65d133y333HPPQTPte+3EgAEDZOLEifudNrFhwwbp3LlztKlDLYapY0QPPfTQg+Lse+1EcZse1CKYOh5VXTvRq1cveeedd7RwOjAIi15GsAYZlAYgSNmNFY2fjKENMjB+ClJ2Y0XjJ2NogwzMglcyshdeO6E2pb/77rtFp+AVzq6uJFRXE5bUB6pe7LTTTos+v/LKK0X1jQc+ixcvlrZt28revXulS5cu0TzVqlUrGqb+26HymDdvXtSzfvbZZ9KyZUutAOjttOIMPhjvu+AtoBUAftKKM/hg+Cl4C2gFgJ+04gw+GP1d8BYAgEYCbGjQCJNQ/0dg7ty50X2javGmZs2a0VGdP/3pT4s2MxSOVJsKnn32WVHHearrG9S1E+o6hq5du5YbZ7NmzWTPnj1ywQUXRAtU6tdqAUltMFALUOqkA/Xv6unZs2d0JUaVKlX2mzfOhgb1BXX6gjqFQT1qYevnP/+5NGrUKLpi43e/+50sXbo0+kzN+bOf/azY2lT9aqFLLXypR4275JJLopzffvvt6HqJbdu2Rb9WjDp27FhuRsUFYNHLCNYgg9IABCm7saLxkzG0QQbGT0HKbqxo/GQMbZCBWfBKRna1qf3kk08W9f9f1a+qayhUH6d+rfq60aNHR4m0atUq2nBwyCGH7JdYnA0N6guqD1a9rnpOOOGE6GpBdTKg6g9HjhxZtLme6wST0Z1ZykeA9135+PHt/QngJxyhkwB+0kmTWPgJD+gkQH+nkyaxQifAhobQHWCofvUX8ePHj5datWrJzJkzpX379qXOtGjRomhTgfpL/QsvvLBoc0B50lMbGL766quMIdSGhzFjxkSnJxz4xN3QoP6gM2jQIFFXbBT35Obmyq9//etiT3jYd7y68kJdYaFedMU9iue4ceOMXs3BhoaMlmFATAI0ADFBMSwWAfwUCxODYhLATzFBMSwWAfwUCxODYhJgwSsmKA3D1Il+l112mWzZsqXYaGozw5QpU6RFixYHfR53Q4O6uuLaa6+NNvGX9FxzzTXRBgrVM+p+6O10Ew07Hu+7sPXXXT1+0k007Hj4KWz9dVePn3QTDTse/V3Y+lO9XgJsaNDLk2j/S0CdTqBOX/jtb38b/bRLnEedQPCrX/1KGjZsKF9//XWcr5Q6ZsaMGaL+p65qUNc8qNMY1GKV+gkcdfWFOkFCHQ+qTm8o6Ym7oaHw+y+++GJ03OjHH38smzdvjk6kOOWUU6JrNEqbZ9/5t2/fHt2dOmHCBFEbHHbv3h3lqzY6qCs8jjrqqHKzKS0Ai17x8E6Yt0q++36PXNWjmVSsoH/xMV4Wdo+iAbBbH9eyw0+uKWZ3vvjJbn1cyw4/uaaY3fmy4JWsPmoDvLr2UG1cUH1Q5cqVow0MapO96uGqV69ebEJxNzQUflltfFebFtRJhqovrVevXnQq4XXXXRddg2jqobczRTbMuLzvwtTdVNX4yRTZMOPipzB1N1U1fjJFNsy49Hdh6k7VZgiwocEM1+CjqmsR1F/Ev/fee3LSSSfF4vH+++9HmwzUtQ/qDw486RBg0Ssz93VbdsoZD82QrbvypH3j2vKH89tLu8a1M38xsBE0AIEJbrhc/GQYcGDh8VNgghsuFz8ZBhxYeBa8AhPccLn0doYBBxae911gghsuFz8ZBhxYePwUmOCGy8VPhgEHFp7+LjDBKdcoATY0GMUbbvDmzZvLypUro9MRTjzxxFggPvjgg+gUA3UCwfLly2N9h0H6CbDolZnp9S/Ml9cXrS0aWCE3R4b0bC4/P6OVVKtcIXOAQEbQAAQidEJl4qeEQAcyDX4KROiEysRPCYEOZBoWvAIROqEy6e0SAh3INLzvAhE6oTLxU0KgA5kGPwUidEJl4qeEQAcyDf1dIEJTZiIE2NCQCObwJhkyZIg899xzMnLkSPnFL34RC8ADDzwgv/zlL+Xqq6+WZ555JtZ3GKSfAItepTP9fM0W6fvwzGIHNa1bTX43sL2c2qq+fmEcjEgD4KBoFqeMnywWx8HU8JODolmcMn6yWBwHU2PBy0HRLE6Z3s5icRxMjfedg6JZnDJ+slgcB1PDTw6KZnHK+MlicRxMjf7OQdFI2VoCbGiwVhq3E/viiy+kc+fOUrVqVVEnL6h7SEt7lixZIt26dZNdu3ZF94q2adPGbQAOZ8+iV2bx5q3YJHdMXChLvtlW7ODzTmgsvzqnjRxWs0rmYB6PoAHwWNwUSsNPKUD3eEr85LG4KZSGn1KA7vGULHh5LG4KpdHbpQDd4yl533ksbgql4acUoHs8JX7yWNwUSsNPKUD3eEr6O4/FpbTECbChIXHk4Uw4ZcoUufTSS6VixYpyzz33yOWXXy61a9feD8CWLVvk+eefjz7Py8uL/r1fv37hQLKwUha94omyK2+vPPnOMnns7SWye2/+QV86tHol+dU5beX8To0lJycnXlDPRtEAeCZoyuXgp5QF8Gx6/OSZoCmXg59SFsCz6Vnw8kzQlMuht0tZAM+m533nmaApl4OfUhbAs+nxk2eCplwOfkpZAM+mp7/zTFDKSZUAGxpSxe/v5GeddVZU3MqVK2Xx4sXRX+jm5uZGJzUcfvjh0a/XrVsn6mSG/Pwf/jK4VatW0rRp0xKhqO+88cYb/kKzpDIWvbITQp3ScNfEhTJnxaZiv9izRT353Xnt5KjDamQX2IPRNAAeiGhRCfjJIjE8SAU/eSCiRSXgJ4vE8CAVFrw8ENGiEujtLBLDg1R433kgokUl4CeLxPAgFfzkgYgWlYCfLBLDg1To7zwQkRKsIcCGBmuk8CsRtXmh8KfSCwoKYhVX0nj1+yqG+ufevXtjxWJQ2Qmw6JU9u/z8Ahk/b5X8furnsmVn3kEBqlTMlZ+f0UqGnNJcKlXIzX4CR79BA+CocJamjZ8sFcbRtPCTo8JZmjZ+slQYR9NiwctR4SxNm97OUmEcTYv3naPCWZo2frJUGEfTwk+OCmdp2vjJUmEcTYv+zlHhSNtKAmxosFIW95Pq2bOnkWP2Z86c6T4cyytg0avsAn2zdafcO/kzmfLJmmKDtDmiltx/fnvp0LRO2Sdx6Js0AA6J5UCq+MkBkRxKET85JJYDqeInB0RyKEUWvBwSy4FU6e0cEMmhFHnfOSSWA6niJwdEcihF/OSQWA6kip8cEMmhFOnvHBKLVK0nwIYG6yUiQQgkS4BFr/LzfvOzdfKbfy6Sr7/beVCw3ByRK3s0k9vOOlZqVqlY/sksjkADYLE4DqaGnxwUzeKU8ZPF4jiYGn5yUDSLU2bBy2JxHEyN3s5B0SxOmfedxeI4mBp+clA0i1PGTxaL42Bq+MlB0SxOmf7OYnFIzTkCbGhwTjIShoBZAix66eG7bVeePDT9Sxk7a4UUd+tKo9pV5b7z2snprRvomdDCKDQAForicEr4yWHxLEwdP1koisMp4SeHxbMwdRa8LBTF4ZTo7RwWz8LUed9ZKIrDKeEnh8WzMHX8ZKEoDqeEnxwWz8LU6e8sFIWUnCXAhgZnpSNxCJghwKKXXq4frdosd7zyiXyxdmuxgc85/gi5u39bOfyQqnontiAaDYAFIniUAn7ySEwLSsFPFojgUQr4ySMxLSiFBS8LRPAoBXo7j8S0oBTedxaI4FEK+MkjMS0oBT9ZIIJHKeAnj8S0oBT6OwtEIAVvCLChwRsp3Stkz549MmvWLNmwYYM0b95cOnXq5F4RHmbMopd+UffszZcxM5fLX95cLLvy8g+aoFbVinLn2W3k4i5NJVfdSeHJQwPgiZCWlIGfLBHCkzTwkydCWlIGfrJECE/SYMHLEyEtKYPezhIhPEmD950nQlpSBn6yRAhP0sBPnghpSRn4yRIhPEmD/s4TISnDCgJsaLBCBv+SWLlypTz55JNRYbfffrvUqVNnvyLnzJkjgwYNktWrVxf9fteuXWXChAnStGlT/4A4VBGLXubEWrFhu/zXqwvlvSUbi53kxOZ15ffntZcWh9c0l0SCkWkAEoQdwFT4KQCREywRPyUIO4Cp8FMAIidYIgteCcIOYCp6uwBETrBE3ncJwg5gKvwUgMgJloifEoQdwFT4KQCREyyR/i5B2EzlPQE2NHgvcToFPvzww3LLLbdIhw4dZMGCBfslsXXrVjn22GNl3bp1UlBQUPRZTk6OHHfccfLhhx9KxYoV00mcWYVFL7MmUJ6f+OFq+e2Uz2Tzjj0HTVa5Qq7cdHoLGdrrGKlcMddsMoaj0wAYBhxYePwUmOCGy8VPhgEHFh4/BSa44XJZ8DIMOLDw9HaBCW64XN53hgEHFh4/BSa44XLxk2HAgYXHT4EJbrhc+jvDgAkfFAE2NAQld3LFnnPOOTJt2jT59a9/Lffcc89+Ez/00EMyYsQIURsYrr/+eundu7e88cYbMnr06Oj31D+vueaa5JJlpv0IsOiVjCE2btsl9035XCYt+L9TSvadueXhNeUP57eXLs3qJpOQgVloAAxADTgkfgpYfAOl4ycDUAMOiZ8CFt9A6Sx4GYAacEh6u4DFN1A67zsDUAMOiZ8CFt9A6fjJANSAQ+KngMU3UDr9nQGohAyWABsagpXebOFt2rSRxYsXyz//+U/p16/ffpN169ZN5s2bJwMHDvz/2TsTsK3Kqt8v5kEEBEQBRRBHBk1B9EMTsFJCEcEBNQtLHCrLnHIKAcfC6kPNGRMTDM0ZKCQVEQUVFBPnEeGQgEiAqIgM57p3530PyDvs52HdD+u+79++rnN95bP32mv9/v/Obq3Wu7c8+OCD5b8df/zx2b/v06eP/P3vf/ebINErJcDQq7TmeOadT7LPUCxY9mWFNz7loLby6z57SeP6dUqbmMLdaAAUIBKinAB+wgyaBPCTJk1i4Sc8oEmAgZcmTWLR2+EBTQI87zRpEgs/4QFNAvhJkyax8BMe0CRAf6dJk1ipE2ChIXUHeKq/efPmsnz5cpk1a5bsv//+5XdZuXKluN/Wr1+/2bLDQw89JMcdd5y0atVKFi6s+K/WPaVL2I0IMPQqvR2+WLNWrn/iXRn97Ieybv3//wxLWSYtt60nV/TvJH06typ9cltwRxqALYDHpZsRwE+YQpMAftKkSSz8hAc0CTDw0qRJLHo7PKBJgOedJk1i4Sc8oEkAP2nSJBZ+wgOaBOjvNGkSK3UCLDSk7gBP9detW1fWrVsnL7zwgnTr1q38Lu4zFH379pXatWvLsmXLpFGjRuW/ueUH9/YGd+3q1as9ZUbY6ggw9KqOkL/fX1u4Qi55aK7MXbiiwpsc3nEHuaJ/Z9mxSX1/SShGpgFQhEkowU+YQJMAftKkSSz8hAc0CTDw0qRJLHo7PKBJgOedJk1i4Sc8oEkAP2nSJBZ+wgOaBOjvNGkSK3UCLDSk7gBP9W+//fbZwsLDDz8sRx99dPldLr74Yhk5cqR07do1e3vDxof7DEX37t1l2223lRUrKv4fdD2lS9iNCDD02rp2WLtuvYyZMU/+MOUd+fLrdZsl06hebbmoz57ygwN3kZo1a2zdZKu5Ow2AaXmCSw4/BSeZ6YTxk2l5gksOPwUnmemEGXiZlie45OjtgpPMdMI870zLE1xy+Ck4yUwnjJ9MyxNccvgpOMlMJ0x/Z1oekguMAAsNgQkWSrq9evWS6dOny+DBg+XPf/5zlrb7zMRuu+0mH330kZx33nly3XXXbVLOo48+KgMGDJDdd99d3n777VBKjS5Phl42JF2w7AsZ+uhr8vTbn1SY0P5tm8q1A/eRPXfc1kbCFWRBA2BWmiATw09BymY2afxkVpogE8NPQcpmNmkGXmalCTIxersgZTObNM87s9IEmRh+ClI2s0njJ7PSBJkYfgpSNrNJ09+ZlYbEAiTAQkOAooWQ8qhRo7KlhZo1a8pFF10k3/72t+Wee+6Rv/71r1KjRg2ZOXNm9jaGjY+hQ4fK1VdfLb1795Ynn3wyhDKjzJGhlx1ZN2zYIBNe/ViumPC6LF21ZrPEatesIWf17CBnH7ab1K9Ty07i/y8TGgBzkgSdEH4KWj5zyeMnc5IEnRB+Clo+c8kz8DInSdAJ0dsFLZ+55HnemZMk6ITwU9DymUseP5mTJOiE8FPQ8plLnv7OnCQkFDABFhoCFs9y6qtXr5b99tsve9OCW2AoO9z/QHvkkUfKhAkTNku/S5cu8sYbb4j7LIVbbODYOgQYem0d7lXddfkXa+Sav78p98/+PxWe1r7FNnLNgC7yPx2am0qeBsCUHMEng5+Cl9BUAfjJlBzBJ4OfgpfQVAEMvEzJEXwy9HbBS2iqAJ53puQIPhn8FLyEpgrAT6bkCD4Z/BS8hKYKoL8zJQfJBE6AhYbABbSc/scffyw//elPZdKkSbJu3TqpXbu2HH/88XLzzTdLkyZNNkn92WeflUMPPTRbfpg6dWr2rzm2DgGGXluHe567znh/qVz28Gvy4dLPKzx9ULed5ZK+e0nThnXzhPN+Dg2Ad8RJ3QA/JSW392Lxk3fESd0APyUlt/diGXh5R5zUDejtkpLbe7E877wjTuoG+Ckpub0Xi5+8I07qBvgpKbm9F0t/5x0xN0iIAAsNCYm9tUp1/yVg6dKl0qJFC2nQoEGFabz//vsyb9687LfDDjtsk7c6bK28U70vQy/byq/+ep386an35NZp78va9Rs2S7ZFo7pyeb9O0m+fVlv9P0c0ALa9FFp2+Ck0xWzni59s6xNadvgpNMVs58vAy7Y+oWVHbxeaYrbz5XlnW5/QssNPoSlmO1/8ZFuf0LLDT6EpZjtf+jvb+pBdWARYaAhLL7KFgHcCDL28I1a5wduLPpOLH3pV5sxfXmG83ntuL1ce01l22q6hyv2KCUIDUAw1rqmMAH7CG5oE8JMmTWLhJzygSYCBlyZNYtHb4QFNAjzvNGkSCz/hAU0C+EmTJrHwEx7QJEB/p0mTWKkTYKEhdQdQPwS+QYChVziWWLd+g4x74SMZOfltWfXV2s0Sb1Cnlpx/+B5yao92UrtWzZIXRgNQcuRR3xA/RS1vyYvDTyVHHvUN8VPU8pa8OAZeJUce9Q3p7aKWt+TF8bwrOfKob4ifopa35MXhp5Ijj/qG+ClqeUteHP1dyZFzw4gJsNAQsbhWSvvss8/koYcekpkzZ8qiRYvkiy++kNGjR0vbtm3LU1y8eLGsWLFC6tWrJ7vssouV1JPMg6FXeLJ/vOJLufzR1+WfbyyuMPkubZrItQO7SOc2TUpaHA1ASXFHfzP8FL3EJS0QP5UUd/Q3w0/RS1zSAhl4lRR39Dejt4te4mklXwsAACAASURBVJIWyPOupLijvxl+il7ikhaIn0qKO/qb4afoJS5pgfR3JcXNzSInwEJD5AJv7fJuvfVWueSSS2TlypVZKhs2bJAaNWrI3LlzpWPHjuXpjR07VgYPHpwtNCxcuFC22267rZ16svdn6BWm9O4/W4+/vihbbFjy2VebFVGrZg0Zckh7+dV395AGdWuVpEgagJJgTuYm+CkZqUtSKH4qCeZkboKfkpG6JIUy8CoJ5mRuQm+XjNQlKZTnXUkwJ3MT/JSM1CUpFD+VBHMyN8FPyUhdkkLp70qCmZskQoCFhkSE3hplXnnllTJ8+PBsiaFOnTrSqVMneeWVVypcaFi/fr20adNGlixZIrfddpsMGTJka6TMPUWEoVfYNli5+msZOfktGfv8/AoL2blZA7n6mC5y6B7bey+UBsA74qRugJ+Sktt7sfjJO+KkboCfkpLbe7EMvLwjTuoG9HZJye29WJ533hEndQP8lJTc3ovFT94RJ3UD/JSU3N6Lpb/zjpgbJESAhYaExC5lqW5xoWvXrtktTzzxRLnxxhulWbNmUrNmzQoXGtx5v/zlL+VPf/qTHH/88XLfffeVMl3utREBhl5x2GH2vGVy8UNz5b0lqyosaMB+beQ3R+4tzRvV81YwDYA3tEkGxk9Jyu6taPzkDW2SgfFTkrJ7K5qBlze0SQamt0tSdm9F87zzhjbJwPgpSdm9FY2fvKFNMjB+SlJ2b0XT33lDS+AECbDQkKDopSj5Jz/5iYwZM0YOOuggee6557IlBndUtdAwfvx4Ofnkk2XPPfeUN998sxRpco8KCDD0iscWX61dJ7c+/YHcNPU9WbNu/WaFbdewjvzmyI4ycP825f8Z1ayeBkCTJrHwEx7QJICfNGkSCz/hAU0CDLw0aRKL3g4PaBLgeadJk1j4CQ9oEsBPmjSJhZ/wgCYB+jtNmsRKnQALDak7wFP9HTp0kHnz5snYsWPlpJNOKr9LVQsNzz//vPTo0UMaNWokK1eu9JQZYasjwNCrOkLh/e7e0nDpQ3PlxXnLKkz+kN1ayNUDOssuzbdRLY4GQBVn8sHwU/IWUAWAn1RxJh8MPyVvAVUADLxUcSYfjN4ueQuoAuB5p4oz+WD4KXkLqALAT6o4kw+Gn5K3gCoA+jtVnARLnAALDYkbwFf5DRs2lK+++kpmz54t++23X/ltqlpo+Ne//pWdW6dOnexajq1DgKHX1uHu+67r12+Q+2YvkGv+/qZ8tnrtZrerV7um/Oq7e8iQb7eXOrVqqqRDA6CCkSD/jwB+wgqaBPCTJk1i4Sc8oEmAgZcmTWLR2+EBTQI87zRpEgs/4QFNAvhJkyax8BMe0CRAf6dJk1ipE2ChIXUHeKq/adOm8tlnn8kTTzwhvXv3Lr9LVQsNU6ZMkT59+sj2228vixcv9pQZYasjwNCrOkJh/75k5WoZMfENmfTqxxUWsnerxvLbgV1k352bbnGhNABbjJAAGxHAT9hBkwB+0qRJLPyEBzQJMPDSpEksejs8oEmA550mTWLhJzygSQA/adIkFn7CA5oE6O80aRIrdQIsNKTuAE/1d+nSRd544w255ZZb5Iwzzii/S1ULDRdffLGMHDlSDj74YJk+fbqnzAhbHQGGXtURiuP3J95YLJc/+pr8e8XqzQqqWUNkcI92cv7he0qjerWLLpgGoGh0XFgBAfyELTQJ4CdNmsTCT3hAkwADL02axKK3wwOaBHjeadIkFn7CA5oE8JMmTWLhJzygSYD+TpMmsVInwEJD6g7wVP+vfvUrueGGG2T//ffPPjtRdlS20PDxxx9Lp06dZMWKFTJs2DC5/PLLPWVG2OoIMPSqjlA8v6/6aq38YcrbMmbGPNmwYfO6WjepL1cN6CyH7bVDUUXTABSFjYsqIYCfsIYmAfykSZNY+AkPaBJg4KVJk1j0dnhAkwDPO02axMJPeECTAH7SpEks/IQHNAnQ32nSJFbqBFhoSN0Bnup3/x+1W1BYt26dXHnllXLppZdmd6pooeG9996TY489VubOnSsNGzaUDz74QFq2bOkpM8JWR4ChV3WE4vv9lQXL5eIHX5W3Fn1WYXFH7tNKhvXrKC23rV9Q8TQABeHi5GoI4CcsokkAP2nSJBZ+wgOaBBh4adIkFr0dHtAkwPNOkyax8BMe0CSAnzRpEgs/4QFNAvR3mjSJlToBFhpSd4DH+n/3u9/JJZdcIjVq1JCDDjooW1q44IILsn9/xRVXSJ06deS5556Tf/zjH9nigzu++YkKj+kRuhICDL3StMbX69bL6Okfyqgn3pGv1q7fDELj+rXl0r57ywnddpaa7psUOQ4agByQOCU3AfyUGxUn5iCAn3JA4pTcBPBTblScmIMAA68ckDglNwF6u9yoODEHAZ53OSBxSm4C+Ck3Kk7MQQA/5YDEKbkJ4KfcqDgxBwH6uxyQOAUCOQmw0JATFKcVR+Daa6/NPiGxdu3abJGhomPDhg1Sq1Yt+e1vfyvnn39+cTfiKjUCDL3UUAYZaN7Sz+WyR+bKc+99WmH+3ds3k2sGdJHdWjaqtj4agGoRcUIBBPBTAbA4tVoC+KlaRJxQAAH8VAAsTq2WAAOvahFxQgEE6O0KgMWp1RLgeVctIk4ogAB+KgAWp1ZLAD9Vi4gTCiCAnwqAxanVEqC/qxYRJ0AgNwEWGnKj4sRiCbz22mty3XXXyaRJk2TZsmWbhGnUqJF8//vfz97k8K1vfavYW3CdIgGGXoowAw3lloweenmhXDnpDVn+xdebVVG3Vk05+7Dd5KyeHaRu7ZqVVkkDEKgBjKaNn4wKE2ha+ClQ4YymjZ+MChNoWgy8AhXOaNr0dkaFCTQtnneBCmc0bfxkVJhA08JPgQpnNG38ZFSYQNOivwtUONI2SYCFBpOyxJvUBx98IEuWLMk+MdG8eXPZbbfdpHbt2vEWHGBlDL0CFM1Typ+u+kqumvSmPDxnYYV32L1lI/ntsV2k6y7NKvydBsCTMImGxU+JCu+pbPzkCWyiYfFTosJ7KpuBlyewiYalt0tUeE9l87zzBDbRsPgpUeE9lY2fPIFNNCx+SlR4T2XT33kCS9gkCbDQkKTstot+6aWXpGvXrraTjDg7hl4Ri1tkac+880n2GYoFy76sMMIpB7WVX/fZSxrXr7PJ7zQARQLnsgoJ4CeMoUkAP2nSJBZ+wgOaBBh4adIkFr0dHtAkwPNOkyax8BMe0CSAnzRpEgs/4QFNAvR3mjSJlToBFhpSd4Ch+mfMmCFXXnml/POf/5S1a9cayiytVBh6paV33mq/WLNWrn/iXRn97Ieybv2GzS5ruW09uaJ/J+nTuVX5bzQAeelyXh4C+CkPJc7JSwA/5SXFeXkI4Kc8lDgnLwEGXnlJcV4eAvR2eShxTl4CPO/ykuK8PATwUx5KnJOXAH7KS4rz8hDAT3kocU5eAvR3eUlxHgSqJ8BCQ/WMOMMzgSeffFKuuuoqeeaZZ8rv5D5JwbF1CDD02jrcQ7nrawtXyCUPzZW5C1dUmPLhHXeQK/p3lh2b1BcagFBUDSNP/BSGTqFkiZ9CUSqMPPFTGDqFkiUDr1CUCiNPerswdAolS553oSgVRp74KQydQskSP4WiVBh54qcwdAolS/q7UJQizxAIsNAQgkqB5LhhwwZ5+OGH5YknnpAFCxZInTp1pF27dnLcccdJjx49Nqvi6aeflksvvVReeOGF7Dd3vTsOP/xwmTx5ciBVx5cmQ6/4NNWuaO269TJmxjz5w5R35MuvN18+alSvtlzUZ08ZuG9LeeKf/yz/z3WDBg20UyFeQgRoKBMSuwSl4qcSQE7oFvgpIbFLUCoDrxJATugW9HYJiV2CUnnelQByQrfATwmJXYJS8VMJICd0C/yUkNglKJX+rgSQuUUyBFhoSEZqv4V+9NFH0r9/f5k7d26FNzr++ONl3LhxUqtWLfn0009lyJAh8thjj2XnukWGGjVqyNFHHy2XXXaZdOvWzW+yRK+SAEMvDJKXwIJlX8hvHnlNpr3zSYWXfGunxnJE82XSuuF/F5VYaMhLlvMqIkBDiS80CeAnTZrEwk94QJMAAy9NmsSit8MDmgR43mnSJBZ+wgOaBPCTJk1i4Sc8oEmA/k6TJrFSJ8BCQ+oOUKh/zZo10rVrV3n99dcrjeYWFs4//3z5xS9+IT179hS3AOEWGdyCwwknnJC9qaFTp04K2RBiSwkw9NpSgmld7/5zPOHVj+WKCa/L0lVrNiu+Zo0N8t3WG2Tkqb2l6baN0oJDtaoEaChVcSYfDD8lbwFVAPhJFWfywRh4JW8BVQD0dqo4kw/G8y55C6gCwE+qOJMPhp+St4AqAPykijP5YPR3yVsAAIoEWGhQhJlqqLvuuktOO+207C0Lu+yyi/zmN7+RLl26SN26deXNN9+U6667TubMmSPbbLONfOtb35LnnnsuQ3XsscfKNddcI7vvvvtWQXfRRRfJyJEjy+89depU6dWrV8G5uE9n9O7du6Dr3FKHu+6bh/tEh1v2qO5wnOfNm1fdaUX9ztCrKGzJX7T8izVyzd/flPtn/58KWezSrIH89th95X86NE+eFQCKI0BDWRw3rqqYAH7CGZoE8JMmTWIx8PLvAddHTZgwIevHXn31VVm4cKGsX79eWrRokb0t8MQTT8w+m1i7du0tSqaQPnHYsGEyfPjwLbpfRRfT26kjTTogz7uk5VcvHj+pI006IH5KWn714vGTOtKkA9LfJS0/xSsTYKFBGWiK4fr16yeTJk2SnXfeOXtLQ6NGm/4VthsOHXrooTJjxowMj3srw5133ik/+tGPthquV155RQ444ABZu3ZteQ6lXGg444wz5LbbbtusfhYatpoluLESgRnvL5XLHn5NPlz6+WYRa9WsIdMu7CU7bddQ6W6ESYkADWVKavuvFT/5Z5zSHfBTSmr7r5WBl1/GQ4cOlauvvjp7W2BVh+sVH3jgAWnbtm3RCbHQUDQ6LjRKgOedUWECTQs/BSqc0bTxk1FhAk0LPwUqnNG06e+MCkNaQRJgoSFI2Wwl7YY87q9arr/+ejn77LMrTO6pp56S7373u9lbHAYPHix//vOft1oRbsHioIMOklmzZknLli1lyZIlWS7FLjR8/vnn8uGHH1Zbj2Mzbdq07Dz3looePXpsdk3ZQkP//v3lqquuqjSme/vFHnvsUe09izmBv+IphhrXbExg9dfr5E9PvSe3Tntf1q7//8Pi0w5pL0OP6ggsCBRFgIayKGxcVAkB/IQ1NAngJ02axGLg5dcDQ4YMyZbr3dsDBwwYIN/5zneyNwbWr18/e7vgDTfckPWJ7nD//OWXX95sYT9vhhsvNLj+1y1JVHa4vtT9P+2D3k6baNrxeN6lrb929fhJm2ja8fBT2vprV4+ftImmHY/+Lm39qV6XAAsNujyTjOaGQatXr5Ynn3yy0k82LF26NBvQuIUG93rPvn37bjVWo0aNknPPPVf22muvbIh17bXXZrkUu9CQp5Dly5fLjjvuKF999ZXstttu4h5kFR1lCw1u6WPMmDF5Qqufw9BLHWmyAf/10Sdyzj0vyLxVNaR1k/ryz/N6yjb1tuzVvcnCpHChocQEmgTwkyZNYuEnPKBJgIGXJs3NY7nPDjZv3lx++tOfyrbbbrvZCevWrZOTTz5Z7r///uy3ESNGyOWXX15UUhsvNPjsNatKjt6uKOm4qBICPO+whiYB/KRJk1j4CQ9oEsBPmjSJRX+HByCgR4CFBj2WyUaqWbNmtqgwd+5c6dix8r++Ljtvzpw5ss8++2wVXvPnz5dOnTrJqlWrsm+musGSG1K5w+eQyX1e4qyzzqp2KMZCw1axBTf1RMA1AJMfnyLPLa4hR/TYX77XZSdPdyJsCgRoKFNQuXQ14qfSsU7hTvgpBZVLVyMDr9KxruxOn376qbRu3VrWrFkjXbp0kVdffbWopFhoKAobFxkmwPPOsDgBpoafAhTNcMr4ybA4AaaGnwIUzXDK9HeGxSG14Aiw0BCcZPYSLnShobrFB58V9uvXTyZOnJh99sK9AWH48OElWWg4+OCDZcaMGdnixwcffCBucaGig4UGn+oTu9QEaABKTTzu++GnuPUtdXX4qdTE474ffopb31JXx8Cr1MQrvp/7PMTs2bOlYcOG4j4xWMzBQkMx1LjGMgGed5bVCS83/BSeZpYzxk+W1QkvN/wUnmaWM6a/s6wOuYVGgIWG0BQzmG8oCw3utaGDBg2SZs2aydtvvy0tWrQoyULD+++/n31mwh2HHnqoTJs2rVIVWWgwaHBSKpoADUDR6LiwAgL4CVtoEsBPmjSJhZ/wgCYBBl6aNIuP5d4o6Bbx3WcpVq5cWVQgFhqKwsZFhgnwvDMsToCp4acARTOcMn4yLE6AqeGnAEUznDL9nWFxSC04Aiw0BCeZvYTLFhrcd0hbtmxZaYLubQjuDQXVnecCFPud0spuvnz5ctl7771l0aJFcscdd8iQIUOyU0vxhoZhw4bJFVdckd3vzjvvlJ/85CeVMipbaGjfvr00btxY3DKE+47rDjvsIN27d5eTTjpJ+vfvn3H0dfCdVV9k04tLA5Ce5j4rxk8+6aYXGz+lp7nPivGTT7rpxWbgtfU1X7JkibRp00bWrl2b9WAvvPBCUUltvNDQo0cPcX2W60fdWx9c39erV6+sN95jjz2Kip/nInq7PJQ4Jy8Bnnd5SXFeHgL4KQ8lzslLAD/lJcV5eQjgpzyUOCcvAfq7vKQ4DwLVE2ChoXpGnFENgbKFBk1Q7n/E1zzOOOOMbJHBffph+vTp5QsBvhcaNmzYkL2dwX1mokGDBrJ48eLsr3wqO8oWGqqq3dVw3333ZUO2Yg431Krq+Pjjj7PBnTvcXyV16NChmNtwDQRk9erV8swzz2Qk3NtJ6tevDxUIFE0APxWNjgsrIICfsIUmAfykSZNYbqG5S5cuGYgFCxbITjvtBJQSE7jwwgvl97//fXZX93/PP//8ojLYeKGhsgCulx46dKi4Jfhiltbp7YqShouKJMDzrkhwXFYhAfyEMTQJ4CdNmsTCT3hAkwD9nSZNYqVOgIWG1B2gUL8bwmgebpCjudDgFhh69uwptWrVkjlz5kjnzp3L0/W90ODu7f6HXHecfPLJMm7cuCpRub/OcW+SOPzww7M8mzRpIu7tEjNnzpRbbrklG2q6w53j/pn7vdCjkEHZ6NGjs09zcEAAAhCAAAQgAAEIQAAC/gksXbq0/G1yLDT45/3NO7i3MRxyyCHZ2xncMon7VKF7o0Ixh1tocD3gwIEDs5i77rqr1K5dW+bPny8TJ06Uv/zlL/L1119noS+55BK55pprCr4NvV3ByLgAAhCAAAQgAAEIQAACJSNAf1cy1NwoAQIsNCQgsu8Sp02bpn4Lt4CgcaxZs0b23Xdfeeutt8T9pc3IkSM3Cet7oaHszRDuppMnT5YjjjiiyrLc8kLTpk0rPOezzz6T4447TqZMmZL9fu6558of//jHgjEx9CoYGRdAAAIQgAAEIAABCECgJAQYeJUEc4U3cW/T69atW/ZpCNczPfHEE3LYYYcVndDnn38udevWlTp16lQY48UXX8wW2VesWJHdzy3fu961kIPerhBanAsBCEAAAhCAAAQgAIHSEqC/Ky1v7hY3ARYa4tY3+erKFhbatm0rb7zxhmyzzTabMPG50OBeT9WqVavsDQutW7fO/hLHvSViSw437HJ/2bNs2bKsFvd/3ZCskIPXkhZCi3O3hACvaNsSelz7TQL4CU9oEsBPmjSJhZ/wgCYBXkn6X5qF/A/1lfG/66675NRTT80lj1se7927t7z00kvZ+b/73e/k17/+da5rt+SksWPHyg9/+MMsxJAhQ7LPJBZy0NsVQotzt5QAz7stJcj1GxPAT/hBkwB+0qRJLPyEBzQJ0N9p0iRW6gRYaEjdARHX797K4P7Cxb2l4dFHH5Wjjz56s2p9LjTcf//9MmjQoOyeFb0dolj0P//5z+Xmm2/OLn/uueekR48exYaq8Do3FNt5552z39555x3ZfffdVeMTLB0CX375ZfkbRdxfnzVo0CCd4qlUnQB+UkeadED8lLT86sXjJ3WkSQd89913xX2Gzh0pf3KilAsNbmjdt29fmTp1asb9ggsukOuuu64kPnSftmjevLmsXLky67tc/6V50Ntp0iQWzzs8oEkAP2nSJBZ+wgOaBPCTJk1i0d/hAQjoEWChQY8lkYwROPPMM+X222/P3mhw9dVXV5jdAw88IA8++GD229ChQ6Vjx47Zv+7Xr99mb3MotLyjjjpKJk2alF02d+5c6dy5c6EhKjz/pptukrPPPjv7zS1NHH/88Spxy4Iw9FLFmXQwGoCk5VcvHj+pI006IH5KWn714vGTOtKkAzLw+q/8bjl9Sw/3trwmTZpUGcYtFAwcOFAmTJiQnVfMWxK2NM8DDjhAZs+eLQ0bNhT3mQrNg95OkyaxeN7hAU0C+EmTJrHwEx7QJICfNGkSi/4OD0BAjwALDXosiWSMgHu96N13311UVh9++KG0a9euqGvdRUuWLJE2bdqIG5Dtv//+5a8uLTrgRhe6tzO4tzS4g4UGDaLE8EWABsAX2TTj4qc0dfdVNX7yRTbNuPgpTd19Vc3AyxfZzeOuX79efvCDH8j48eOzH93b9e69916pWbNm6ZIQke7du8usWbNYaCgpdW5WDAGed8VQ45rKCOAnvKFJAD9p0iQWfsIDmgTo7zRpEit1Aiw0pO6AiOvfmgsNo0aNknPPPTej6/71Oeeco0bavZ3BvaXBHc8++6wcfPDBarFdIP6KRxVn0sFoAJKWX714/KSONOmA+Clp+dWLx0/qSJMOyMCrdPKffvrpMnr06OyG7g19Dz30kNSuXbt0CYhkC/AtWrSQFStWyG677SZOf82D3k6TJrF43uEBTQL4SZMmsfATHtAkgJ80aRKL/g4PQECPAAsNeiyJFCCB4cOHy4gRI7LM3TdTe/XqpVKFeyvDnDlzpE6dOrJw4ULZfvvtVeK6QVeHDh3k008/zf6CZ9myZVKvXj2V2GVBGHqp4kw6GA1A0vKrF4+f1JEmHRA/JS2/evH4SR1p0gEZeJVG/vPOO0/+93//N7vZd77znexTgdp9VZ5Kxo0bJ6ecckp26mmnnVa+YJHn2jzn0NvlocQ5eQnwvMtLivPyEMBPeShxTl4C+CkvKc7LQwA/5aHEOXkJ0N/lJcV5EKieAAsN1TPijIgJ5FloGDNmjPz4xz/OKAwbNkzcNVUdr7/+unTu3Dk7xf2lz2OPPZaL4OTJk6Vnz57SoEGDCs9ftWqVHHvssTJlypTs91/84hdyww035IpdyEkMvQqhxblVEaABwB+aBPCTJk1i4Sc8oEkAP2nSJBYDL/8e2LgH7NGjR9ZfbbPNNgXdeN68edK+ffvsGtfDPf3005tc/5///Ef+9a9/Vbkw/+KLL8oRRxwhy5cvlxo1amSfnejatWtBeVR3Mr1ddYT4vRACPO8KocW51RHAT9UR4vdCCOCnQmhxbnUE8FN1hPi9EAL0d4XQ4lwIVE2AhQYckjQBHwsNv/71r+W6667LuD7wwAPZEkKew70dYu7cuTJw4EA55JBDsjcxNGrUKHv96IwZM+TWW2+V+fPnZ6H23HPP7J81a9YsT+iCzmHoVRAuTq6CAA0A9tAkgJ80aRILP+EBTQL4SZMmsRh4+fXAjTfeKL/85S+zm7Rp00buu+8+adKkSZU3db2Xe/Pexkd1Cw1lv++zzz5yzDHHZIsKrVq1klq1amU93cSJE+Wee+6RNWvWZGEvvPBCGTlypHrx9HbqSJMOyPMuafnVi8dP6kiTDoifkpZfvXj8pI406YD0d0nLT/HKBFhoUAZKuLAIaC80rF+/XnbeeWf597//Ldttt50sWrRI6tatmwuKW2iYNm1atee6vwByryZ1AzgfB0MvH1TTjEkDkKbuvqrGT77IphkXP6Wpu6+q8ZMvsmnGZeDlV/e8PdfGWXz44YfSrl27TRLLu9BQXTVuwWHo0KFy+eWXZ29p0D7o7bSJph2P513a+mtXj5+0iaYdDz+lrb929fhJm2ja8ejv0taf6nUJsNCgy5NogRHQXmj45z//KYcffnhG4ayzzpJbbrklN5HZs2fLk08+KTNnzpS3335bli5dmr1+tGHDhtK6dWs58MAD5aSTTsri+xh2lSXK0Cu3ZJxYDQEaACyiSQA/adIkFn7CA5oE8JMmTWIx8PLrgVItNLg3L7hPD7rezn1aYuHChVl/t3r16uyNEO6tDy6XIUOGbLYsoUmA3k6TJrF43uEBTQL4SZMmsfATHtAkgJ80aRKL/g4PQECPAAsNeiyJBIEoCDD0ikJGE0XQAJiQIZok8FM0UpooBD+ZkCGaJPBTNFKaKISBlwkZokmC3i4aKU0UwvPOhAzRJIGfopHSRCH4yYQM0SSBn6KR0kQh9HcmZCCJSAiw0BCJkJQBAS0CDL20SBKHBgAPaBLAT5o0iYWf8IAmAfykSZNYDLzwgCYBejtNmsTieYcHNAngJ02axMJPeECTAH7SpEks+js8AAE9Aiw06LEkEgSiIMDQKwoZTRRBA2BChmiSwE/RSGmiEPxkQoZoksBP0UhpohAGXiZkiCYJertopDRRCM87EzJEkwR+ikZKE4XgJxMyRJMEfopGShOF0N+ZkIEkIiHAQkMkQlIGBLQIMPTSIkkcGgA8oEkAP2nSJBZ+wgOaBPCTJk1iMfDCA5oE6O00aRKL5x0e0CSAnzRpEgs/4QFNAvhJkyax6O/wAAT0CLDQoMeSSBCIggBDryhkNFEEDYAJGaJJAj9FI6WJQvCTCRmiSQI/RSOliUIYeJmQIZok6O2ikdJEITzvTMgQTRL4KRopTRSCn0zIEE0S+CkaKU0UQn9nQgaSiIQACw2RCEkZENAiwNBLiyRxaADwgCYB+ui7dwAAIABJREFU/KRJk1j4CQ9oEsBPmjSJxcALD2gSoLfTpEksnnd4QJMAftKkSSz8hAc0CeAnTZrEor/DAxDQI8BCgx5LIkEgCgIMvaKQ0UQRNAAmZIgmCfwUjZQmCsFPJmSIJgn8FI2UJgph4GVChmiSoLeLRkoThfC8MyFDNEngp2ikNFEIfjIhQzRJ4KdopDRRCP2dCRlIIhICLDREIiRlQECLAEMvLZLEoQHAA5oE8JMmTWLhJzygSQA/adIkFgMvPKBJgN5OkyaxeN7hAU0C+EmTJrHwEx7QJICfNGkSi/4OD0BAjwALDXosiQSBKAgw9IpCRhNF0ACYkCGaJPBTNFKaKAQ/mZAhmiTwUzRSmiiEgZcJGaJJgt4uGilNFMLzzoQM0SSBn6KR0kQh+MmEDNEkgZ+ikdJEIfR3JmQgiUgIsNAQiZCUAQEtAgy9tEgShwYAD2gSwE+aNImFn/CAJgH8pEmTWAy88IAmAXo7TZrE4nmHBzQJ4CdNmsTCT3hAkwB+0qRJLPo7PAABPQIsNOixJBIEoiDA0CsKGU0UQQNgQoZoksBP0UhpohD8ZEKGaJLAT9FIaaIQBl4mZIgmCXq7aKQ0UQjPOxMyRJMEfopGShOF4CcTMkSTBH6KRkoThdDfmZCBJCIhwEJDJEJSBgS0CDD00iJJHBoAPKBJAD9p0iQWfsIDmgTwkyZNYjHwwgOaBOjtNGkSi+cdHtAkgJ80aRILP+EBTQL4SZMmsejv8AAE9Aiw0KDHkkgQiIIAQ68oZDRRBA2ACRmiSQI/RSOliULwkwkZokkCP0UjpYlCGHiZkCGaJOjtopHSRCE870zIEE0S+CkaKU0Ugp9MyBBNEvgpGilNFEJ/Z0IGkoiEAAsNkQhJGRDQIsDQS4skcWgA8IAmAfykSZNY+AkPaBLAT5o0icXACw9oEqC306RJLJ53eECTAH7SpEks/IQHNAngJ02axKK/wwMQ0CPAQoMeSyJBIAoCDL2ikNFEETQAJmSIJgn8FI2UJgrBTyZkiCYJ/BSNlCYKYeBlQoZokqC3i0ZKE4XwvDMhQzRJ4KdopDRRCH4yIUM0SeCnaKQ0UQj9nQkZSCISAiw0RCIkZUBAiwBDLy2SxKEBwAOaBPCTJk1i4Sc8oEkAP2nSJBYDLzygSYDeTpMmsXje4QFNAvhJkyax8BMe0CSAnzRpEov+Dg9AQI8ACw16LIkEgSgIMPSKQkYTRdAAmJAhmiTwUzRSmigEP5mQIZok8FM0UpoohIGXCRmiSYLeLhopTRTC886EDNEkgZ+ikdJEIfjJhAzRJIGfopHSRCH0dyZkIIlICLDQEImQlAEBLQIMvbRIEocGAA9oEsBPmjSJhZ/wgCYB/KRJk1gMvPCAJgF6O02axOJ5hwc0CeAnTZrEwk94QJMAftKkSSz6OzwAAT0CLDTosSQSBKIgwNArChlNFEEDYEKGaJLAT9FIaaIQ/GRChmiSwE/RSGmiEAZeJmSIJgl6u2ikNFEIzzsTMkSTBH6KRkoTheAnEzJEkwR+ikZKE4XQ35mQgSQiIcBCQyRCUgYEtAgw9NIiSRwaADygSQA/adIkFn7CA5oE8JMmTWIx8MIDmgTo7TRpEovnHR7QJICfNGkSCz/hAU0C+EmTJrHo7/AABPQIsNCgx5JIEIiCAEOvKGQ0UQQNgAkZokkCP0UjpYlC8JMJGaJJAj9FI6WJQhh4mZAhmiTo7aKR0kQhPO9MyBBNEvgpGilNFIKfTMgQTRL4KRopTRRCf2dCBpKIhAALDZEISRkQ0CLA0EuLJHFoAPCAJgH8pEmTWPgJD2gSwE+aNInFwAsPaBKgt9OkSSyed3hAkwB+0qRJLPyEBzQJ4CdNmsSiv8MDENAjwEKDHksiQSAKAgy9opDRRBE0ACZkiCYJ/BSNlCYKwU8mZIgmCfwUjZQmCmHgZUKGaJKgt4tGShOF8LwzIUM0SeCnaKQ0UQh+MiFDNEngp2ikNFEI/Z0JGUgiEgIsNEQiJGVAQIsAQy8tksShAcADmgTwkyZNYuEnPKBJAD9p0iQWAy88oEmA3k6TJrF43uEBTQL4SZMmsfATHtAkgJ80aRKL/g4PQECPAAsNeiyJBIEoCDD0ikJGE0XQAJiQIZok8FM0UpooBD+ZkCGaJPBTNFKaKISBlwkZokmC3i4aKU0UwvPOhAzRJIGfopHSRCH4yYQM0SSBn6KR0kQh9HcmZCCJSAiw0BCJkJQBAS0CDL20SBKHBgAPaBLAT5o0iYWf8IAmAfykSZNYDLzwgCYBejtNmsTieYcHNAngJ02axMJPeECTAH7SpEks+js8AAE9Aiw06LEkEgSiIMDQKwoZTRRBA2BChmiSwE/RSGmiEPxkQoZoksBP0UhpohAGXiZkiCYJertopDRRCM87EzJEkwR+ikZKE4XgJxMyRJMEfopGShOF0N+ZkIEkIiHAQkMkQlIGBLQIMPTSIkkcGgA8oEkAP2nSJBZ+wgOaBPCTJk1iMfDCA5oE6O00aRKL5x0e0CSAnzRpEgs/4QFNAvhJkyax6O/wAAT0CLDQoMeSSBCIggBDryhkNFEEDYAJGaJJAj9FI6WJQvCTCRmiSQI/RSOliUIYeJmQIZok6O2ikdJEITzvTMgQTRL4KRopTRSCn0zIEE0S+CkaKU0UQn9nQgaSiIQACw2RCEkZENAiwNBLiyRxaADwgCYB/KRJk1j4CQ9oEsBPmjSJxcALD2gSoLfTpEksnnd4QJMAftKkSSz8hAc0CeAnTZrEor/DAxDQI8BCgx5LIkEgCgIMvaKQ0UQRNAAmZIgmCfwUjZQmCsFPJmSIJgn8FI2UJgph4GVChmiSoLeLRkoThfC8MyFDNEngp2ikNFEIfjIhQzRJ4KdopDRRCP2dCRlIIhICLDREIiRlQECLAEMvLZLEoQHAA5oE8JMmTWLhJzygSQA/adIkFgMvPKBJgN5OkyaxeN7hAU0C+EmTJrHwEx7QJICfNGkSi/4OD0BAjwALDXosiQSBKAgw9IpCRhNF0ACYkCGaJPBTNFKaKAQ/mZAhmiTwUzRSmiiEgZcJGaJJgt4uGilNFMLzzoQM0SSBn6KR0kQh+MmEDNEkgZ+ikdJEIfR3JmQgiUgIsNAQiZCUAQEtAgy9tEgShwYAD2gSwE+aNImFn/CAJgH8pEmTWAy88IAmAXo7TZrE4nmHBzQJ4CdNmsTCT3hAkwB+0qRJLPo7PAABPQIsNOixJBIEoiDA0CsKGU0UQQNgQoZoksBP0UhpohD8ZEKGaJLAT9FIaaIQBl4mZIgmCXq7aKQ0UQjPOxMyRJMEfopGShOF4CcTMkSTBH6KRkoThdDfmZCBJCIhwEJDJEJSBgS0CDD00iJJHBoAPKBJAD9p0iQWfsIDmgTwkyZNYjHwwgOaBOjtNGkSi+cdHtAkgJ80aRILP+EBTQL4SZMmsejv8AAE9Aiw0KDHkkgQiIIAQ68oZDRRBA2ACRmiSQI/RSOliULwkwkZokkCP0UjpYlCGHiZkCGaJOjtopHSRCE870zIEE0S+CkaKU0Ugp9MyBBNEvgpGilNFEJ/Z0IGkoiEAAsNkQhJGRDQIsDQS4skcWgA8IAmAfykSZNY+AkPaBLAT5o0icXACw9oEqC306RJLJ53eECTAH7SpEks/IQHNAngJ02axKK/wwMQ0CPAQoMeSyJBIAoCDL2ikNFEETQAJmSIJgn8FI2UJgrBTyZkiCYJ/BSNlCYKYeBlQoZokqC3i0ZKE4XwvDMhQzRJ4KdopDRRCH4yIUM0SeCnaKQ0UQj9nQkZSCISAiw0RCIkZUBAiwBDLy2SxKEBwAOaBPCTJk1i4Sc8oEkAP2nSJBYDLzygSYDeTpMmsXje4QFNAvhJkyax8BMe0CSAnzRpEov+Dg9AQI8ACw16LIkEgSgIMPSKQkYTRdAAmJAhmiTwUzRSmigEP5mQIZok8FM0UpoohIGXCRmiSYLeLhopTRTC886EDNEkgZ+ikdJEIfjJhAzRJIGfopHSRCH0dyZkIIlICLDQEImQlAEBLQIMvbRIEocGAA9oEsBPmjSJhZ/wgCYB/KRJk1gMvPCAJgF6O02axOJ5hwc0CeAnTZrEwk94QJMAftKkSSz6OzwAAT0CLDTosSQSBKIgwNArChlNFEEDYEKGaJLAT9FIaaIQ/GRChmiSwE/RSGmiEAZeJmSIJgl6u2ikNFEIzzsTMkSTBH6KRkoTheAnEzJEkwR+ikZKE4XQ35mQgSQiIcBCQyRCUgYEtAgw9NIiSRwaADygSQA/adIkFn7CA5oE8JMmTWIx8MIDmgTo7TRpEovnHR7QJICfNGkSCz/hAU0C+EmTJrHo7/AABPQIsNCgx5JIEIiCAEOvKGQ0UQQNgAkZokkCP0UjpYlC8JMJGaJJAj9FI6WJQhh4mZAhmiTo7aKR0kQhPO9MyBBNEvgpGilNFIKfTMgQTRL4KRopTRRCf2dCBpKIhAALDZEISRkQ0CLA0EuLJHFoAPCAJgH8pEmTWPgJD2gSwE+aNInFwAsPaBKgt9OkSSyed3hAkwB+0qRJLPyEBzQJ4CdNmsSiv8MDENAjwEKDHksiBUbgoosukpEjR5ZnPXXqVOnVq1dRVQwfPlxGjBiR69o891m6dKnccMMN8sgjj8i8efOyuO3atZNjjjlGzjnnHGnevHmuexVzEkOvYqhxTUUEaADwhSYB/KRJk1j4CQ9oEsBPmjSJxcDLvwdczzdt2rRcN9qwYUOu86o7acaMGXLzzTfL9OnTZfHixdK0aVPZd9995dRTT5WTTjqpusuL/p3ermh0XFgBAZ532EKTAH7SpEks/IQHNAngJ02axKK/wwMQ0CPAQoMeSyIFROCVV16RAw44QNauXVuedZ5Fg8pK1FxoeOGFF7LFhUWLFlV4u1atWmWLDt27d/dCnKGXF6xJBqUBSFJ2b0XjJ29okwyMn5KU3VvR+Mkb2iQDM/DyL3upFxpcr3jllVfK+vXrKyzuyCOPlAceeEDq16+vXjy9nTrSpAPyvEtafvXi8ZM60qQD4qek5VcvHj+pI006IP1d0vJTvDIBFhqUgRLOPgE3SDrooINk1qxZ0rJlS1myZEmWtNZCw9y5c6uE0L59e9lmm20qPGfBggXStWtX+eSTT6R27dpy3nnnyVFHHZWdO3HiRPnjH/+YLWG4vF966SXZaaed1IEz9FJHmmxAGoBkpfdSOH7ygjXZoPgpWem9FI6fvGBNNigDL//Sly00dOvWTe66664qb9i5c+ctSui2226Ts846K4vRoUMHufTSS6VLly7y73//W66//vqsB3WHe0vDvffeu0X3quhiejt1pEkH5HmXtPzqxeMndaRJB8RPScuvXjx+UkeadED6u6Tlp3hlAiw0KAMlnH0Co0aNknPPPVf22msvGTBggFx77bVZ0loLDVvyWtIf/ehHcs8992T53H///XL88cdvAtT9s0GDBmX/bPDgwTJmzBh14Ay91JEmG5AGIFnpvRSOn7xgTTYofkpWei+F4ycvWJMNysDLv/RlCw09e/aUp59+2tsNly1bJrvuuqusWLFC2rZtmy2kt2jRovx+69aty/rRCRMmbHE/WlkR9Hbe5E0yMM+7JGX3VjR+8oY2ycD4KUnZvRWNn7yhTTIw/V2SslO0JwIsNHgCS1ibBObPny+dOnWSVatWZcMrt8QwYsSILR4gbfzJiWIXGtwnJtq0aZO9ivSII46QyZMnVwixT58+8vjjj0vNmjVl4cKFsuOOO6rCZuilijPpYDQAScuvXjx+UkeadED8lLT86sXjJ3WkSQdk4OVf/lItNIwcOVIuuuiirKC//vWvcuKJJ25WnOu92rVrJ265oW/fvjJp0iRVAPR2qjiTD8bzLnkLqALAT6o4kw+Gn5K3gCoA/KSKM/lg9HfJWwAAigRYaFCESSj7BPr165d9uqHs7QYbLyJs7Tc03H777XLmmWdmEMePH1/+JoZvUnW/uVeSusO9wvSMM85QBc/QSxVn0sFoAJKWX714/KSONOmA+Clp+dWLx0/qSJMOyMDLv/ylWmjo0aOHzJw5Uxo3bpx9UrBu3boVFle2sF6vXr3svG233VYNAr2dGkoCiQjPO2ygSQA/adIkFn7CA5oE8JMmTWLR3+EBCOgRYKFBjyWRjBMo+1xDs2bN5O23385e92lpoWHjz018/PHHlb55wf3WunXrjLa75u6771Ylz9BLFWfSwWgAkpZfvXj8pI406YD4KWn51YvHT+pIkw7IwMu//KVYaFizZo00bNgwe/NCVW/fc9W6TyBeeumlWeFPPfWU9O7dWw0CvZ0aSgKx0IAHlAnw35+UgSYeDj8lbgDl8vGTMtDEw9HfJW4AylclwEKDKk6CWSWwfPly2XvvvcV91uGOO+6QIUOGZKn6WGj43ve+J6+88oq4ezZt2lQ6duwo7q9u3NsXtttuu0oRdevWLfuuapMmTbJrqzrcOStXrpQDDjhAXnzxRVXsDL1UcSYdjAYgafnVi8dP6kiTDoifkpZfvXj8pI406YAMvPzLX7bQsMMOO8guu+ySLbuvXr06W3jv2rWrHHvssdkb8erUqVN0Mq+99pp06dIlu/6cc86RUaNGVRrr4YcfloEDB2a/33TTTfKzn/2s6Pt+80J6OzWUBGKhAQ8oE+C/PykDTTwcfkrcAMrl4ydloImHo79L3ACUr0qAhQZVnASzSsB9lsEtMhx88MEyffp0qVGjRpaqj4WGyhi45YYxY8ZI//79Kzxlxx13lMWLF0unTp3EDcCqOjp37iyvv/569hYH98aGQg431KrqcPG6d++enTJ37lzp0KFDIeE5FwLlBNxg+Jlnnsn+/aGHHir169eHDgSKJoCfikbHhRUQwE/YQpMAftKkSaz333+//H8IX7Bggey0005AUSZQttBQVVi3lP7AAw9kS/HFHJMnT5bvf//72aXXXXedXHDBBZWGmT17drao7o6LL744e2ND3oPeLi8pztMgwPNOgyIxygjgJ7ygSQA/adIkFn7CA5oE6O80aRIrdQIsNKTugATqdwsMPXv2lFq1asmcOXPELQOUHZoLDQ899JAcc8wx2TKA+yTE119/nf21z7hx42TKlCnZLV0OEyZMKB9ubYx/m222kS+++EIOPPBAef7556tUxp3j3szQqFEj+eyzzwpSsWyZI89Fo0ePzv5SiQMCEIAABCAAAQhAAAIQ8E9g6dKl5W+TY6HBD+/DDjtMatasKX379pV9991XmjdvnvVUL7/8stx2223y5ptvZjd2b3BwPVfbtm0LTuRvf/ubnHDCCdl1t9xyi5x11lmVxnD3cwsU7jj77LPlxhtvzH0/ervcqDgRAhCAAAQgAAEIQAACJSdAf1dy5NwwYgIsNEQsLqWJuG+XuiHVW2+9JRdeeKGMHDlyEyxaCw1ln5eojLkbjJUNsdyyg9vM++Zfq7tlh/Xr18u3v/3t8r9qryye+2t3t6jhrlm7dm1BUjP0KggXJ0MAAhCAAAQgAAEIQKBkBBh4+UddVe/mltJPP/10ufvuu7NEBgwYIG5xvdDjnnvukR/96EfZZXfeeaf85Cc/qTTEBx98UP5WvNNOO03cUnneg94uLynOgwAEIAABCEAAAhCAQOkJ0N+Vnjl3jJcACw3xaktlG31Swv1VzRtvvCHuLQgbH1oLDXlgDxkyJBtmuWPs2LHygx/8YJPLSvWGBl5LmkctztEgwCvaNCgSo4wAfsILmgTwkyZNYuEnPKBJgFeS/pdmIf9DfWX877rrLjn11FMLlsctjLu3+rm37bnD9U9t2rQpKE6p3tBAb1eQLJy8hQR43m0hQC7fhAB+whCaBPCTJk1i4Sc8oEmA/k6TJrFSJ8BCQ+oOiLh+91YG93YG95aGRx99VI4++ujNqi3lQsOsWbOyz1G4w/3Vz+23375JPjvuuKMsXrxYOnXqJK+99lqVyrgB2+uvvy7umo8//lhVRTcU23nnnbOY77zzjuy+++6q8QmWDoEvv/yy/HMrhx9+uDRo0CCd4qlUnQB+UkeadED8lLT86sXjJ3WkSQd89913ZY899sgYpPzJia250ODYX3fddfLrX/8608F9QvDkk08uyJeTJ08u/8ygi3XBBRdUev3s2bPlgAMOyH6/+OKL5dprry3oXlWdTG+nhpJAIsLzDhtoEsBPmjSJhZ/wgCYB/KRJk1j0d3gAAnoEWGjQY0kkYwTOPPPMbGlg1113lauvvrrC7B544AF58MEHs9+GDh1a/u3Sfv36bfY2hy0t7/PPP5dGjRplYdz3WidNmrRJyG7duslLL70kTZo0Efca1KoOd87KlSuzwZf7rqvmwdBLk2basWgA0tZfu3r8pE007Xj4KW39tavHT9pE047HwOu/+rvl9C09WrVqlfVWxRyuVzvqqKOyS91nC93nCws53IJ6ly5dskvOOeccGTVqVKWXP/zwwzJw4MDs95tuukl+9rOfFXKrKs+lt1NDSSAWGvCAMgH++5My0MTD4afEDaBcPn5SBpp4OPq7xA1A+aoEWGhQxUkwSwTc60XLvn1aaF4ffvihtGvXrtDLqjz/iy++KF+SqGihwX1j1X1r1R3urQvu7QsVHe631q1bZz+5a4qtsbJkGXqpyp50MBqApOVXLx4/qSNNOiB+Slp+9eLxkzrSpAMy8LIh/9///nc58sgjs2SKWWhwbwls2LChrFu3To444ghxb2yo7HBvZLj00kuzn5966inp3bu3GgR6OzWUBGKhAQ8oE+C/PykDTTwcfkrcAMrl4ydloImHo79L3ACUr0qAhQZVnASzRMDaQsPGrxIdMmSI3HHHHZvgcm+TcG+VcMf48eNl0KBBFeJ0v5100knZb7fddpucccYZqtgZeqniTDoYDUDS8qsXj5/UkSYdED8lLb968fhJHWnSARl42ZD/97//fflbGcaOHSs/+MEPCk6sR48eMnPmTGncuLF88sknUrdu3Qpj9OnTRx5//HGpV69edt62225b8L0qu4DeTg0lgVhowAPKBPjvT8pAEw+HnxI3gHL5+EkZaOLh6O8SNwDlqxJgoUEVJ8FCIzB8+HAZMWJElvbUqVOlV69e3ko4/fTTZfTo0Vl89yaGU045ZZN7LVq0SNq0aSPr16+v8q94ygZeNWvWlIULF1b6JodiC2HoVSw5rvsmARoAPKFJAD9p0iQWfsIDmgTwkyZNYjHw2voeWLt2reyzzz7y5ptvZsnMnz9fdt5554ITc292uOiii7Lr/vrXv8qJJ564WQzXe7k3A7o3OVT0Fr+Cb/qNC+jttpQg129MgOcdftAkgJ80aRILP+EBTQL4SZMmsejv8AAE9Aiw0KDHkkgBEsiz0DBmzBj58Y9/nFU3bNgwcddsfMydO1caNGggu+22W6UENn77gvuUxHvvvVf++YmNL9r4sxN/+9vf5LjjjtskpvtnJ5xwQvbPBg8eLC437YOhlzbRdOPRAKSrvY/K8ZMPqunGxE/pau+jcvzkg2q6MRl4+dXeLbHvt99+0rRp0wpv9PXXX4tbRC/7rF+/fv3kscce2+zcefPmSfv27bN/3rNnT3n66ac3O2fZsmWy6667yooVK2SXXXaRl156SZo3b15+nltiGDBggEyYMCH7Zz4W7Ont/Popteg871JT3G+9+Mkv39Si46fUFPdbL37yyze16PR3qSlOvT4JsNDgky6xzRPQWGhwSwXuExLuW6ff//73pUuXLtmgyv1lz1tvvSXjxo2TKVOmZCxq1aolDz/8sLjBWEXHggULpGvXrtmrRmvXri3nn3++HHXUUdmpEydOlD/84Q9Z3O23315efvll2WmnndQZM/RSR5psQBqAZKX3Ujh+8oI12aD4KVnpvRSOn7xgTTYoAy+/0rvPEj744INy9NFHZ2/n23PPPbNPQqxatSpbOHCL6G+88UaWRMuWLeX5558vX1zYOLM8Cw3ufPeJwLPOOiu7tEOHDnLZZZdl/eK///1vGTVqVLbE4A73ScF7771XvXh6O3WkSQfkeZe0/OrF4yd1pEkHxE9Jy69ePH5SR5p0QPq7pOWneGUCLDQoAyVcWAS0FhrK3uBQVfVuyeHOO++U/v37VwnphRdekGOOOUbcJygqOtwbHh555BE58MADvcBm6OUFa5JBaQCSlN1b0fjJG9okA+OnJGX3VjR+8oY2ycAMvPzK7hYayt6+UNWd3NLB+PHjpWPHjhWelnehwV3s3vJ35ZVXyoYNGyqM5T414ZYs6tevr148vZ060qQD8rxLWn714vGTOtKkA+KnpOVXLx4/qSNNOiD9XdLyU7wyARYalIESLiwCGgsNS5Ysyd6eMHPmTJkzZ44sXrxYPv3002xg1axZM9l3332lT58+4oZn7q9/8hxLly6V66+/PltccMMyd7hXmrpliF/96lebvKo0T7xCzmHoVQgtzq2KAA0A/tAkgJ80aRILP+EBTQL4SZMmsRh4+fXAm2++KY8//njWu7k3Mbg347lPQ9SrV0922GEH6datW/bZP/cpCPd2vcqOQhYaXIwZM2bITTfdJNOnT8/6RffJC9cnusV493YGXwe9nS+yacbleZem7r6qxk++yKYZFz+lqbuvqvGTL7JpxqW/S1N3qvZDgIUGP1yJCoFgCTD0ClY6c4nTAJiTJOiE8FPQ8plLHj+ZkyTohPBT0PKZS56BlzlJgk6I3i5o+cwlz/POnCRBJ4SfgpbPXPL4yZwkQSeEn4KWz1zy9HfmJCGhgAmw0BCweKQOAR8EGHr5oJpmTBqANHX3VTV+8kU2zbj4KU3dfVWNn3yRTTMuA680dfdVNb2dL7JpxuV5l6buvqrGT77IphkXP6Wpu6+q8ZMvsmnGpb9LU3eq9kOAhQY/XIkKgWAJMPQKVjpzidMAmJMk6ITwU9DymUseP5mTJOiE8FPQ8plLnoGXOUmCTojeLmj5zCXP8877i3ZfAAAgAElEQVScJEEnhJ+Cls9c8vjJnCRBJ4SfgpbPXPL0d+YkIaGACbDQELB4pA4BHwQYevmgmmZMGoA0dfdVNX7yRTbNuPgpTd19VY2ffJFNMy4DrzR191U1vZ0vsmnG5XmXpu6+qsZPvsimGRc/pam7r6rxky+yacalv0tTd6r2Q4CFBj9ciQqBYAkw9ApWOnOJ0wCYkyTohPBT0PKZSx4/mZMk6ITwU9DymUuegZc5SYJOiN4uaPnMJc/zzpwkQSeEn4KWz1zy+MmcJEEnhJ+Cls9c8vR35iQhoYAJsNAQsHikDgEfBBh6+aCaZkwagDR191U1fvJFNs24+ClN3X1VjZ98kU0zLgOvNHX3VTW9nS+yacbleZem7r6qxk++yKYZFz+lqbuvqvGTL7JpxqW/S1N3qvZDgIUGP1yJCoFgCTD0ClY6c4nTAJiTJOiE8FPQ8plLHj+ZkyTohPBT0PKZS56BlzlJgk6I3i5o+cwlz/POnCRBJ4SfgpbPXPL4yZwkQSeEn4KWz1zy9HfmJCGhgAmw0BCweKQOAR8EGHr5oJpmTBqANHX3VTV+8kU2zbj4KU3dfVWNn3yRTTMuA680dfdVNb2dL7JpxuV5l6buvqrGT77IphkXP6Wpu6+q8ZMvsmnGpb9LU3eq9kOAhQY/XIkKgWAJMPQKVjpzidMAmJMk6ITwU9DymUseP5mTJOiE8FPQ8plLnoGXOUmCTojeLmj5zCXP886cJEEnhJ+Cls9c8vjJnCRBJ4SfgpbPXPL0d+YkIaGACbDQELB4pA4BHwQYevmgmmZMGoA0dfdVNX7yRTbNuPgpTd19VY2ffJFNMy4DrzR191U1vZ0vsmnG5XmXpu6+qsZPvsimGRc/pam7r6rxky+yacalv0tTd6r2Q4CFBj9ciQqBYAkw9ApWOnOJ0wCYkyTohPBT0PKZSx4/mZMk6ITwU9DymUuegZc5SYJOiN4uaPnMJc/zzpwkQSeEn4KWz1zy+MmcJEEnhJ+Cls9c8vR35iQhoYAJsNAQsHikDgEfBBh6+aCaZkwagDR191U1fvJFNs24+ClN3X1VjZ98kU0zLgOvNHX3VTW9nS+yacbleZem7r6qxk++yKYZFz+lqbuvqvGTL7JpxqW/S1N3qvZDgIUGP1yJCoFgCTD0ClY6c4nTAJiTJOiE8FPQ8plLHj+ZkyTohPBT0PKZS56BlzlJgk6I3i5o+cwlz/POnCRBJ4SfgpbPXPL4yZwkQSeEn4KWz1zy9HfmJCGhgAmw0BCweKQOAR8EGHr5oJpmTBqANHX3VTV+8kU2zbj4KU3dfVWNn3yRTTMuA680dfdVNb2dL7JpxuV5l6buvqrGT77IphkXP6Wpu6+q8ZMvsmnGpb9LU3eq9kOAhQY/XIkKgWAJMPQKVjpzidMAmJMk6ITwU9DymUseP5mTJOiE8FPQ8plLnoGXOUmCTojeLmj5zCXP886cJEEnhJ+Cls9c8vjJnCRBJ4SfgpbPXPL0d+YkIaGACbDQELB4pA4BHwQYevmgmmZMGoA0dfdVNX7yRTbNuPgpTd19VY2ffJFNMy4DrzR191U1vZ0vsmnG5XmXpu6+qsZPvsimGRc/pam7r6rxky+yacalv0tTd6r2Q4CFBj9ciQqBYAkw9ApWOnOJ0wCYkyTohPBT0PKZSx4/mZMk6ITwU9DymUuegZc5SYJOiN4uaPnMJc/zzpwkQSeEn4KWz1zy+MmcJEEnhJ+Cls9c8vR35iQhoYAJsNAQsHikDgEfBBh6+aCaZkwagDR191U1fvJFNs24+ClN3X1VjZ98kU0zLgOvNHX3VTW9nS+yacbleZem7r6qxk++yKYZFz+lqbuvqvGTL7JpxqW/S1N3qvZDgIUGP1yJCoFgCTD0ClY6c4nTAJiTJOiE8FPQ8plLHj+ZkyTohPBT0PKZS56BlzlJgk6I3i5o+cwlz/POnCRBJ4SfgpbPXPL4yZwkQSeEn4KWz1zy9HfmJCGhgAmw0BCweKQOAR8EGHr5oJpmTBqANHX3VTV+8kU2zbj4KU3dfVWNn3yRTTMuA680dfdVNb2dL7JpxuV5l6buvqrGT77IphkXP6Wpu6+q8ZMvsmnGpb9LU3eq9kOAhQY/XIkKgWAJMPQKVjpzidMAmJMk6ITwU9DymUseP5mTJOiE8FPQ8plLnoGXOUmCTojeLmj5zCXP886cJEEnhJ+Cls9c8vjJnCRBJ4SfgpbPXPL0d+YkIaGACbDQELB4pA4BHwQYevmgmmZMGoA0dfdVNX7yRTbNuPgpTd19VY2ffJFNMy4DrzR191U1vZ0vsmnG5XmXpu6+qsZPvsimGRc/pam7r6rxky+yacalv0tTd6r2Q4CFBj9ciQqBYAkw9ApWOnOJ0wCYkyTohPBT0PKZSx4/mZMk6ITwU9DymUuegZc5SYJOiN4uaPnMJc/zzpwkQSeEn4KWz1zy+MmcJEEnhJ+Cls9c8vR35iQhoYAJsNAQsHikDgEfBBh6+aCaZkwagDR191U1fvJFNs24+ClN3X1VjZ98kU0zLgOvNHX3VTW9nS+yacbleZem7r6qxk++yKYZFz+lqbuvqvGTL7JpxqW/S1N3qvZDgIUGP1yJCoFgCTD0ClY6c4nTAJiTJOiE8FPQ8plLHj+ZkyTohPBT0PKZS56BlzlJgk6I3i5o+cwlz/POnCRBJ4SfgpbPXPL4yZwkQSeEn4KWz1zy9HfmJCGhgAmw0BCweKQOAR8EGHr5oJpmTBqANHX3VTV+8kU2zbj4KU3dfVWNn3yRTTMuA680dfdVNb2dL7JpxuV5l6buvqrGT77IphkXP6Wpu6+q8ZMvsmnGpb9LU3eq9kOAhQY/XIkKgWAJMPQKVjpzidMAmJMk6ITwU9DymUseP5mTJOiE8FPQ8plLnoGXOUmCTojeLmj5zCXP886cJEEnhJ+Cls9c8vjJnCRBJ4SfgpbPXPL0d+YkIaGACbDQELB4pA4BHwQYevmgmmZMGoA0dfdVNX7yRTbNuPgpTd19VY2ffJFNMy4DrzR191U1vZ0vsmnG5XmXpu6+qsZPvsimGRc/pam7r6rxky+yacalv0tTd6r2Q4CFBj9ciQqBYAkw9ApWOnOJ0wCYkyTohPBT0PKZSx4/mZMk6ITwU9DymUuegZc5SYJOiN4uaPnMJc/zzpwkQSeEn4KWz1zy+MmcJEEnhJ+Cls9c8vR35iQhoYAJsNAQsHikDgEfBBh6+aCaZkwagDR191U1fvJFNs24+ClN3X1VjZ98kU0zLgOvNHX3VTW9nS+yacbleZem7r6qxk++yKYZFz+lqbuvqvGTL7JpxqW/S1N3qvZDgIUGP1yJCoFgCTD0ClY6c4nTAJiTJOiE8FPQ8plLHj+ZkyTohPBT0PKZS56BlzlJgk6I3i5o+cwlz/POnCRBJ4SfgpbPXPL4yZwkQSeEn4KWz1zy9HfmJCGhgAmw0BCweKQOAR8EGHr5oJpmTBqANHX3VTV+8kU2zbj4KU3dfVWNn3yRTTMuA680dfdVNb2dL7JpxuV5l6buvqrGT77IphkXP6Wpu6+q8ZMvsmnGpb9LU3eq9kOAhQY/XIkKgWAJMPQKVjpzidMAmJMk6ITwU9DymUseP5mTJOiE8FPQ8plLnoGXOUmCTojeLmj5zCXP886cJEEnhJ+Cls9c8vjJnCRBJ4SfgpbPXPL0d+YkIaGACbDQELB4pA4BHwQYevmgmmZMGoA0dfdVNX7yRTbNuPgpTd19VY2ffJFNMy4DrzR191U1vZ0vsmnG5XmXpu6+qsZPvsimGRc/pam7r6rxky+yacalv0tTd6r2Q4CFBj9ciQqBYAkw9ApWOnOJ0wCYkyTohPBT0PKZSx4/mZMk6ITwU9DymUuegZc5SYJOiN4uaPnMJc/zzpwkQSeEn4KWz1zy+MmcJEEnhJ+Cls9c8vR35iQhoYAJsNAQsHikDgEfBBh6+aCaZkwagDR191U1fvJFNs24+ClN3X1VjZ98kU0zLgOvNHX3VTW9nS+yacbleZem7r6qxk++yKYZFz+lqbuvqvGTL7JpxqW/S1N3qvZDgIUGP1yJCoFgCTD0ClY6c4nTAJiTJOiE8FPQ8plLHj+ZkyTohPBT0PKZS56BlzlJgk6I3i5o+cwlz/POnCRBJ4SfgpbPXPL4yZwkQSeEn4KWz1zy9HfmJCGhgAmw0BCweKQOAR8EGHr5oJpmTBqANHX3VTV+8kU2zbj4KU3dfVWNn3yRTTMuA680dfdVNb2dL7JpxuV5l6buvqrGT77IphkXP6Wpu6+q8ZMvsmnGpb9LU3eq9kOAhQY/XIkKgWAJMPQKVjpzidMAmJMk6ITwU9DymUseP5mTJOiE8FPQ8plLnoGXOUmCTojeLmj5zCXP886cJEEnhJ+Cls9c8vjJnCRBJ4SfgpbPXPL0d+YkIaGACbDQELB4pA4BHwQYevmgmmZMGoA0dfdVNX7yRTbNuPgpTd19VY2ffJFNMy4DrzR191U1vZ0vsmnG5XmXpu6+qsZPvsimGRc/pam7r6rxky+yacalv0tTd6r2Q4CFBj9ciQqBYAkw9ApWOnOJ0wCYkyTohPBT0PKZSx4/mZMk6ITwU9DymUuegZc5SYJOiN4uaPnMJc/zzpwkQSeEn4KWz1zy+MmcJEEnhJ+Cls9c8vR35iQhoYAJsNAQsHikDgEfBBh6+aCaZkwagDR191U1fvJFNs24+ClN3X1VjZ98kU0zLgOvNHX3VTW9nS+yacbleZem7r6qxk++yKYZFz+lqbuvqvGTL7JpxqW/S1N3qvZDgIUGP1yJCoFgCTD0ClY6c4nTAJiTJOiE8FPQ8plLHj+ZkyTohPBT0PKZS56BlzlJgk6I3i5o+cwlz/POnCRBJ4SfgpbPXPL4yZwkQSeEn4KWz1zy9HfmJCGhgAmw0BCweKQOAR8EGHr5oJpmTBqANHX3VTV+8kU2zbj4KU3dfVWNn3yRTTMuA680dfdVNb2dL7JpxuV5l6buvqrGT77IphkXP6Wpu6+q8ZMvsmnGpb9LU3eq9kOAhQY/XIkKgWAJMPQKVjpzidMAmJMk6ITwU9DymUseP5mTJOiE8FPQ8plLnoGXOUmCTojeLmj5zCXP886cJEEnhJ+Cls9c8vjJnCRBJ4SfgpbPXPL0d+YkIaGACbDQELB4pA4BHwQYevmgmmZMGoA0dfdVNX7yRTbNuPgpTd19VY2ffJFNMy4DrzR191U1vZ0vsmnG5XmXpu6+qsZPvsimGRc/pam7r6rxky+yacalv0tTd6r2Q4CFBj9ciQqBYAkw9ApWOnOJ0wCYkyTohPBT0PKZSx4/mZMk6ITwU9DymUuegZc5SYJOiN4uaPnMJc/zzpwkQSeEn4KWz1zy+MmcJEEnhJ+Cls9c8vR35iQhoYAJsNAQsHikvmUELrroIhk5cmR5kKlTp0qvXr2KCrpixQqZOHGiPPHEE/Lyyy/LvHnz5IsvvpCmTZtK586d5aijjpLTTjst+/dVHe3atZOPPvqo2hx22WWX7B4+DoZePqimGZMGIE3dfVWNn3yRTTMufkpTd19V4ydfZNOMy8DLr+7Dhw+XESNGFHSTYcOGibuu0OPpp5+W3r1757qs2HtUF5zerjpC/F4IAZ53hdDi3OoI4KfqCPF7IQTwUyG0OLc6AvipOkL8XggB+rtCaHEuBKomwEIDDkmSwCuvvCIHHHCArF27trz+Yhca/vGPf8iAAQPkq6++qpLljjvuKPfee2+VQy0WGpK0Y7RF0wBEK+1WKQw/bRXs0d4UP0Ur7VYpDD9tFezR3pSBl19pi1locD3cSSedVHBiLDQUjIwLjBPgeWdcoMDSw0+BCWY8XfxkXKDA0sNPgQlmPF36O+MCkV5QBFhoCEouktUgsH79ejnooINk1qxZ0rJlS1myZEkWttiFhrFjx8oPf/hDqVmzpnzve9+TPn36yL777pu9jcH9Rcy4cePkvvvuy+7RsGFDee655+Rb3/pWhaWULTT0799frrrqqkrLrVu3ruyxxx4aODaLwV/xeMGaZFAagCRl91Y0fvKGNsnA+ClJ2b0VjZ+8oU0yMAMvv7K73q+s/6vsTuvWrZNDDz1UVq5cKY0bN5ZFixZJgwYNCk5s44WGP//5z9lCfWWH60vd/9M+6O20iaYdj+dd2vprV4+ftImmHQ8/pa2/dvX4SZto2vHo79LWn+p1CbDQoMuTaAEQGDVqlJx77rmy1157ZW9WuPbaa7Osi11ocMsK7tpLL71U2rZtWyGBG2+8UX75y19mv7nXjj711FMVnle20DB48GAZM2bMVqHJ0GurYI/ypjQAUcq61YrCT1sNfZQ3xk9RyrrVisJPWw19lDdm4LX1ZXVv4Ovbt2+WiPts4OjRo4tKauOFhmJ7zaJuvNFF9HZbSpDrNybA8w4/aBLAT5o0iYWf8IAmAfykSZNY9Hd4AAJ6BFho0GNJpAAIzJ8/Xzp16iSrVq0SN2Byg6Wyb6j6HjK5v8iZPXt29iaHxYsXS4sWLTYjxkJDACYixdwEaAByo+LEHATwUw5InJKbAH7KjYoTcxDATzkgcUpuAgy8cqPydqL7vMT48eOz+NOmTcve1lDMwUJDMdS4xjIBnneW1QkvN/wUnmaWM8ZPltUJLzf8FJ5mljOmv7OsDrmFRoCFhtAUI98tItCvXz+ZOHGilL0BYeNvqPpeaLjwwgvl97//fZb/iy++WOErR1lo2CJ5udgYARoAY4IEng5+ClxAY+njJ2OCBJ4OfgpcQGPpM/DauoK4z0zsuOOO4v5z3b59e3n//felRo0aRSXFQkNR2LjIMAGed4bFCTA1/BSgaIZTxk+GxQkwNfwUoGiGU6a/MywOqQVHgIWG4CQj4WIJ3H///TJo0CBp1qyZvP3229kbEkq50OA+OeE+PeGOl156Sfbff//NSmGhoVh1uc4iARoAi6qEmxN+Clc7i5njJ4uqhJsTfgpXO4uZM/DauqrceeedMmTIkCyJyy+/vPxtfsVkxUJDMdS4xjIBnneW1QkvN/wUnmaWM8ZPltUJLzf8FJ5mljOmv7OsDrmFRoCFhtAUI9+iCCxfvlz23ntvWbRokdxxxx3lQ6pSLjTsu+++8uqrr0qdOnVk6dKl0rhx481qKVtocH8N5H53fxG0bt062WGHHaR79+7iXn/av3//ov9KKA88vrOahxLn5CFAA5CHEufkJYCf8pLivDwE8FMeSpyTlwB+ykuK8/IQYOCVh5K/c3r27CnPPPNMdoP33ntPOnToUPTNNl5o6NGjh7g+y/WjDRs2FNf39erVS37605/KHnvsUfQ9qruQ3q46QvxeCAGed4XQ4tzqCOCn6gjxeyEE8FMhtDi3OgL4qTpC/F4IAfq7QmhxLgSqJsBCAw5JgsAZZ5yRLTIcfPDBMn369PKFgFItNEyaNEmOOuqojLX7vxMmTKiQe9lCQ1WiuBruu+8+adOmTVHauaFWVcfHH3+cLU+4Y+7cuVs0xCsqQS6KhsDq1avLB8Lu28P169ePpjYKKT0B/FR65jHfET/FrG7pa8NPpWce8x3dQnOXLl2yEhcsWCA77bRTzOWaqm3evHmy6667yoYNG7K+8dlnn92i/DZeaKgsUM2aNWXo0KEybNiwopbW6e22SCIuLpAAz7sCgXF6lQTwEwbRJICfNGkSCz/hAU0C9HeaNImVOgEWGlJ3QAL1uwUG95c2tWrVkjlz5kjnzp3Lqy7FQsOyZcuyz0t89NFHWQ6zZs2S/fbbr0Ly7q9z3JskDj/88CzPJk2aiHu7xMyZM+WWW27JhprucOe4f+Z+L/Qo5Buwo0ePzj7NwQEBCEAAAhCAAAQgAAEI+Cfg3uRW9skDFhr88974DldeeWX2mQl33H777XL66advUQJuoeHkk0+WgQMHyiGHHJItS9SuXVvmz58vEydOlL/85S/y9ddfZ/e45JJL5Jprrin4fvR2BSPjAghAAAIQgAAEIAABCJSMAP1dyVBzowQIsNCQgMgpl7hmzRpxn3p466235MILL5SRI0dugsP3QoP7XIR7I8PkyZOz+7q/vHH3rOxwywtNmzat8OfPPvtMjjvuOJkyZUr2+7nnnit//OMfC5aXoVfByLgAAhCAAAQgAAEIQAACJSHAwKskmCu8yZ577invvPNO9lYx92mIYpbHNw78+eefS926dbNPDlZ0vPjii9ki+4oVK7K3M7jle9e7FnLQ2xVCi3MhAAEIQAACEIAABCBQWgL0d6Xlzd3iJsBCQ9z6Jl9d2cJC27Zt5Y033pBtttlmEya+FxrOPPPM7K973OEWGx555JHsLQ3FHm7Y5f6yx731wdXi/q8bkhVy8FrSQmhx7pYQ4BVtW0KPa79JAD/hCU0C+EmTJrHwEx7QJMArSf9Ls5D/ob4y/nfddZeceuqpueR5/vnn5X/+53+ycwcNGiTjx4/Pdd2WnjR27Fj54Q9/mIVxb+Zwn0ks5KC3K4QW524pAZ53W0qQ6zcmgJ/wgyYB/KRJk1j4CQ9oEqC/06RJrNQJsNCQugMirt+9lcH9hYt7S8Ojjz4qRx999GbV+lxocK8N/e1vf5vd89vf/rY8/vjj0qBBgy0m/vOf/1xuvvnmLM5zzz0nPXr02OKYGwdwQ7Gdd945+0fuL5R233131fgES4fAl19+Wf5GEffXZxr+T4celX6TAH7CE5oE8JMmTWLhJzygSeDdd98V9xk6d6T8yYlSLzT87Gc/yz7x545JkyZJ3759NWWtNNbatWulefPmsnLlyqzvcv2X5kFvp0mTWDzv8IAmAfykSZNY+AkPaBLAT5o0iUV/hwcgoEeAhQY9lkQyRqDs7QjujQZXX311hdk98MAD8uCDD2a/DR06VDp27Jj96379+m32NodCyvvd734nF198cXbJ/vvvL1OnTpXGjRsXEqLSc2+66SY5++yzs9/vv/9+Of7441XilgVh6KWKM+lgNABJy69ePH5SR5p0QPyUtPzqxeMndaRJB2Tg9V/53XL6lh6tWrXK9dkItwDvznVvv9thhx1k4cKFW/RWvULzPuCAA2T27NnSsGFDcZ+p0Dzo7TRpEovnHR7QJICfNGkSCz/hAU0C+EmTJrHo7/AABPQIsNCgx5JIxgi414vefffdRWX14YcfSrt27Yq61r09wb1FwR177723PPPMM9KiRYuiYlV00cbxWWhQw0ogDwRoADxATTgkfkpYfA+l4ycPUBMOiZ8SFt9D6Qy8PECtJuRDDz0kxx57bHbWeeedJ3/4wx9KmkT37t1l1qxZLDSUlDo3K4YAz7tiqHFNZQTwE97QJICfNGkSCz/hAU0C9HeaNImVOgEWGlJ3QMT1b42FhnvuuUcGDx4sGzZsEPdmiOnTp0vr1q1VKbu3M7i3NLjj2WeflYMPPlg1Pn/Fo4oz6WA0AEnLr148flJHmnRA/JS0/OrF4yd1pEkHZOBVevmPOeaY7BOF7njllVeyzxaW6nCfnHDL7ytWrJDddttNnP6aB72dJk1i8bzDA5oE8JMmTWLhJzygSQA/adIkFv0dHoCAHgEWGvRYEilAAsOHD5cRI0ZkmbvPQvTq1avoKtxf9pxwwgmybt062WmnnbJlhmLf8lBZEm7Q1aFDB/n000+zv+Bxr0WtV69e0TlXdCFDL1WcSQejAUhafvXi8ZM60qQD4qek5VcvHj+pI006IAOv0srv+ir3uYmvv/46W2RwCw2lPMaNGyennHJKdsvTTjtNRo8erXp7ejtVnMkH43mXvAVUAeAnVZzJB8NPyVtAFQB+UsWZfDD6u+QtAABFAiw0KMIkVHgE8iw0jBkzRn784x9nxQ0bNkzcNd88pkyZIv369RP3/dWWLVtmn5nYc889CwIyefJk6dmzpzRo0KDC61atWpW9CtXdyx2/+MUv5IYbbijoHnlOZuiVhxLn5CFAA5CHEufkJYCf8pLivDwE8FMeSpyTlwB+ykuK8/IQYOCVh5LeOX/605+yvsod7lMT7pMTeY558+ZJ+/bts1NdD/f0009vctl//vMf+de//lXlwvyLL74oRxxxhCxfvlxq1KiRfXaia9eueW6f+xx6u9yoODEHAZ53OSBxSm4C+Ck3Kk7MQQA/5YDEKbkJ4KfcqDgxBwH6uxyQOAUCOQmw0JATFKfFSUBjoeH555+X73znO/LFF19InTp1xC1A7LPPPlUCc29waNq06SbnuLdDzJ07VwYOHCiHHHJI9iaGRo0aZa8fnTFjhtx6660yf/787Bq3LOH+WbNmzdSFYeiljjTZgDQAyUrvpXD85AVrskHxU7LSeykcP3nBmmxQBl6llb579+7ZIkHt2rXF9UE77LBDrgSqW2go+931he6TFm5Rwb0JolatWllPN3HiRHGfK3QL8e648MILZeTIkbnuXchJ9HaF0OLc6gjwvKuOEL8XQgA/FUKLc6sjgJ+qI8TvhRDAT4XQ4tzqCNDfVUeI3yGQnwALDflZcWaEBDQWGjaOkRfRXXfdJaeeeuomp7uFhmnTplUbwv0FkHs1aZs2bao9t5gTGHoVQ41rKiJAA4AvNAngJ02axMJPeECTAH7SpEksBl6l88Bbb70le++9d3bDvn37yqRJk3LfPO9CQ3UB3YLD0KFD5fLLL8/e0qB90NtpE007Hs+7tPXXrh4/aRNNOx5+Slt/7erxkzbRtOPR36WtP9XrEmChQZcn0QIjYGmhYfbs2fLkk0/KzJkz5e2335alS5dmrx9t2LChtG7dWg488EA56aST5PDDD/cy7CqTjqFXYCY2nC4NgGFxAkwNPwUomuGU8ZNhcQJMDT8FKJrhlBl4lU6cyy67TK655prshuPHj5dBgwblvnl1Cw3uzQuPPfZY1tu5T0ssXLgw6+9Wr14tTZo0yd645xbahwwZIu3atct930JPpLcrlBjnV0WA5x3+0CSAnzRpEgs/4QFNAvhJkyax6O/wAAT0CGK6nFMAACAASURBVLDQoMeSSBCIggBDryhkNFEEDYAJGaJJAj9FI6WJQvCTCRmiSQI/RSOliUIYeJmQIZok6O2ikdJEITzvTMgQTRL4KRopTRSCn0zIEE0S+CkaKU0UQn9nQgaSiIQACw2RCEkZENAiwNBLiyRxaADwgCYB/KRJk1j4CQ9oEsBPmjSJxcALD2gSoLfTpEksnnd4QJMAftKkSSz8hAc0CeAnTZrEor/DAxDQI8BCgx5LIkEgCgIMvaKQ0UQRNAAmZIgmCfwUjZQmCsFPJmSIJgn8FI2UJgph4GVChmiSoLeLRkoThfC8MyFDNEngp2ikNFEIfjIhQzRJ4KdopDRRCP2dCRlIIhICLDREIiRlQECLAEMvLZLEoQHAA5oE8JMmTWLhJzygSQA/adIkFgMvPKBJgN5OkyaxeN7hAU0C+EmTJrHwEx7QJICfNGkSi/4OD0BAjwALDXosiQSBKAgw9IpCRhNF0ACYkCGaJPBTNFKaKAQ/mZAhmiTwUzRSmiiEgZcJGaJJgt4uGilNFMLzzoQM0SSBn6KR0kQh+MmEDNEkgZ+ikdJEIfR3JmQgiUgIsNAQiZCUAQEtAgy9tEgShwYAD2gSwE+aNImFn/CAJgH8pEmTWAy88IAmAXo7TZrE4nmHBzQJ4CdNmsTCT3hAkwB+0qRJLPo7PAABPQIsNOixJBIEoiDA0CsKGU0UQQNgQoZoksBP0UhpohD8ZEKGaJLAT9FIaaIQBl4mZIgmCXq7aKQ0UQjPOxMyRJMEfopGShOF4CcTMkSTBH6KRkoThdDfmZCBJCIhwEJDJEJSBgS0CDD00iJJHBoAPKBJAD9p0iQWfsIDmgTwkyZNYjHwwgOaBOjtNGkSi+cdHtAkgJ80aRILP+EBTQL4SZMmsejv8AAE9Aiw0KDHkkgQiIIAQ68oZDRRBA2ACRmiSQI/RSOliULwkwkZokkCP0UjpYlCGHiZkCGaJOjtopHSRCE870zIEE0S+CkaKU0Ugp9MyBBNEvgpGilNFEJ/Z0IGkoiEAAsNkQhJGRDQIsDQS4skcWgA8IAmAfykSZNY+AkPaBLAT5o0icXACw9oEqC306RJLJ53eECTAH7SpEks/IQHNAngJ02axKK/wwMQ0CPAQoMeSyJBIAoCDL2ikNFEETQAJmSIJgn8FI2UJgrBTyZkiCYJ/BSNlCYKYeBlQoZokqC3i0ZKE4XwvDMhQzRJ4KdopDRRCH4yIUM0SeCnaKQ0UQj9nQkZSCISAiw0RCIkZUBAiwBDLy2SxKEBwAOaBPCTJk1i4Sc8oEkAP2nSJBYDLzygSYDeTpMmsXje4QFNAvhJkyax8BMe0CSAnzRpEov+Dg9AQI8ACw16LIkEgSgIMPSKQkYTRdAAmJAhmiTwUzRSmigEP5mQIZok8FM0UpoohIGXCRmiSYLeLhopTRTC886EDNEkgZ+ikdJEIfjJhAzRJIGfopHSRCH0dyZkIIlICLDQEImQlAEBLQIMvbRIEocGAA9oEsBPmjSJhZ/wgCYB/KRJk1gMvPCAJgF6O02axOJ5hwc0CeAnTZrEwk94QJMAftKkSSz6OzwAAT0CLDTosSQSBKIgwNArChlNFEEDYEKGaJLAT9FIaaIQ/GRChmiSwE/RSGmiEAZeJmSIJgl6u2ikNFEIzzsTMkSTBH6KRkoTheAnEzJEkwR+ikZKE4XQ35mQgSQiIcBCQyRCUgYEtAgw9NIiSRwaADygSQA/adIkFn7CA5oE8JMmTWIx8MIDmgTo7TRpEovnHR7QJICfNGkSCz/hAU0C+EmTJrHo7/AABPQIsNCgx5JIEIiCAEOvKGQ0UQQNgAkZokkCP0UjpYlC8JMJGaJJAj9FI6WJQhh4mZAhmiTo7aKR0kQhPO9MyBBNEvgpGilNFIKfTMgQTRL4KRopTRRCf2dCBpKIhAALDZEISRkQ0CLA0EuLJHFoAPCAJgH8pEmTWPgJD2gSwE+aNInFwAsPaBKgt9OkSSyed3hAkwB+0qRJLPyEBzQJ4CdNmsSiv8MDENAjwEKDHksiQSAKAgy9opDRRBE0ACZkiCYJ/BSNlCYKwU8mZIgmCfwUjZQmCmHgZUKGaJKgt4tGShOF8LwzIUM0SeCnaKQ0UQh+MiFDNEngp2ikNFEI/Z0JGUgiEgIsNEQiJGVAQIsAQy8tksShAcADmgTwkyZNYuEnPKBJAD9p0iQWAy88oEmA3k6TJrF43uEBTQL4SZMmsfATHtAkgJ80aRKL/g4PQECPAAsNeiyJBIEoCDD0ikJGE0XQAJiQIZok8FM0UpooBD+ZkCGaJPBTNFKaKISBlwkZokmC3i4aKU0UwvPOhAzRJIGfopHSRCH4yYQM0SSBn6KR0kQh9HcmZCCJSAiw0BCJkJQBAS0CDL20SBKHBgAPaBLAT5o0iYWf8IAmAfykSZNYDLzwgCYBejtNmsTieYcHNAngJ02axMJPeECTAH7SpEks+js8AAE9Aiw06LEkEgSiIMDQKwoZTRRBA2BChmiSwE/RSGmiEPxkQoZoksBP0UhpohAGXiZkiCYJertopDRRCM87EzJEkwR+ikZKE4XgJxMyRJMEfopGShOF0N+ZkIEkIiHAQkMkQlIGBLQIMPTSIkkcGgA8oEkAP2nSJBZ+wgOaBPCTJk1iMfDCA5oE6O00aRKL5x0e0CSAnzRpEgs/4QFNAvhJkyax6O/wAAT0CLDQoMeSSBCIggBDryhkNFEEDYAJGaJJAj9FI6WJQvCTCRmiSQI/RSOliUIYeJmQIZok6O2ikdJEITzvTMgQTRL4KRopTRSCn0zIEE0S+CkaKU0UQn9nQgaSiIQACw2RCEkZENAiwNBLiyRxaADwgCYB/KRJk1j4CQ9oEsBPmjSJxcALD2gSoLfTpEksnnd4QJMAftKkSSz8hAc0CeAnTZrEor/DAxDQI8BCgx5LIkEgCgIMvaKQ0UQRNAAmZIgmCfwUjZQmCsFPJmSIJgn8FI2UJgph4GVChmiSoLeLRkoThfC8MyFDNEngp2ikNFEIfjIhQzRJ4KdopDRRCP2dCRlIIhICLDREIiRlQECLAEMvLZLEoQHAA5oE8JMmTWLhJzygSQA/adIkFgMvPKBJgN5OkyaxeN7hAU0C+EmTJrHwEx7QJICfNGkSi/4OD0BAjwALDf+3vTuBt7HaHz/+zZCQoRwRIo6LEw2mDNEh3SJDAy6lUtfQgFQ3TroKTSQNDhoo1C1cY906lAY0GrpIUYRCyZV5Sir+r+/6/855Hcfex977rL3P86zn87xe93XvsZ9nPWu9v9979llrf/d67FnSEgJOCLDo5UQYPTEIJgCeCIMznSCfnAmlJwZCPnkiDM50gnxyJpSeGAgLXp4IgzOdYG7nTCg9MRDe7zwRBmc6QT45E0pPDIR88kQYnOkE+eRMKD0xEOZ3nggDnXBEgIIGRwLJMBCwJcCily1J2mECQA7YFCCfbGrSFvlEDtgUIJ9satIWC17kgE0B5nY2NWmL9ztywKYA+WRTk7bIJ3LApgD5ZFOTtpjfkQMI2BOgoMGeJS0h4IQAi15OhNETg2AC4IkwONMJ8smZUHpiIOSTJ8LgTCfIJ2dC6YmBsODliTA40wnmds6E0hMD4f3OE2FwphPkkzOh9MRAyCdPhMGZTpBPzoTSEwNhfueJMNAJRwQoaHAkkAwDAVsCLHrZkqQdJgDkgE0B8smmJm2RT+SATQHyyaYmbbHgRQ7YFGBuZ1OTtni/IwdsCpBPNjVpi3wiB2wKkE82NWmL+R05gIA9AQoa7FnSEgJOCLDo5UQYPTEIJgCeCIMznSCfnAmlJwZCPnkiDM50gnxyJpSeGAgLXp4IgzOdYG7nTCg9MRDe7zwRBmc6QT45E0pPDIR88kQYnOkE+eRMKD0xEOZ3nggDnXBEgIIGRwLJMBCwJcCily1J2mECQA7YFCCfbGrSFvlEDtgUIJ9satIWC17kgE0B5nY2NWmL9ztywKYA+WRTk7bIJ3LApgD5ZFOTtpjfkQMI2BOgoMGeJS0h4IQAi15OhNETg2AC4IkwONMJ8smZUHpiIOSTJ8LgTCfIJ2dC6YmBsODliTA40wnmds6E0hMD4f3OE2FwphPkkzOh9MRAyCdPhMGZTpBPzoTSEwNhfueJMNAJRwQoaHAkkAwDAVsCLHrZkqQdJgDkgE0B8smmJm2RT+SATQHyyaYmbbHgRQ7YFGBuZ1OTtni/IwdsCpBPNjVpi3wiB2wKkE82NWmL+R05gIA9AQoa7FnSEgJOCLDo5UQYPTEIJgCeCIMznSCfnAmlJwZCPnkiDM50gnxyJpSeGAgLXp4IgzOdYG7nTCg9MRDe7zwRBmc6QT45E0pPDIR88kQYnOkE+eRMKD0xEOZ3nggDnXBEgIIGRwLJMBCwJcCily1J2mECQA7YFCCfbGrSFvlEDtgUIJ9satIWC17kgE0B5nY2NWmL9ztywKYA+WRTk7bIJ3LApgD5ZFOTtpjfkQMI2BOgoMGeJS0h4IQAi15OhNETg2AC4IkwONMJ8smZUHpiIOSTJ8LgTCfIJ2dC6YmBsODliTA40wnmds6E0hMD4f3OE2FwphPkkzOh9MRAyCdPhMGZTpBPzoTSEwNhfueJMNAJRwQoaHAkkAwDAVsCLHrZkqQdJgDkgE0B8smmJm2RT+SATQHyyaYmbbHgRQ7YFGBuZ1OTtni/IwdsCpBPNjVpi3wiB2wKkE82NWmL+R05gIA9AQoa7FnSEgJOCLDo5UQYPTEIJgCeCIMznSCfnAmlJwZCPnkiDM50gnxyJpSeGAgLXp4IgzOdYG7nTCg9MRDe7zwRBmc6QT45E0pPDIR88kQYnOkE+eRMKD0xEOZ3nggDnXBEgIIGRwLJMBCwJcCily1J2mECQA7YFCCfbGrSFvlEDtgUIJ9satIWC17kgE0B5nY2NWmL9ztywKYA+WRTk7bIJ3LApgD5ZFOTtpjfkQMI2BOgoMGeJS0h4IQAi15OhNETg2AC4IkwONMJ8smZUHpiIOSTJ8LgTCfIJ2dC6YmBsODliTA40wnmds6E0hMD4f3OE2FwphPkkzOh9MRAyCdPhMGZTpBPzoTSEwNhfueJMNAJRwQoaHAkkAwDAVsCLHrZkqQdJgDkgE0B8smmJm2RT+SATQHyyaYmbbHgRQ7YFGBuZ1OTtni/IwdsCpBPNjVpi3wiB2wKkE82NWmL+R05gIA9AQoa7FnSEgJOCLDo5UQYPTEIJgCeCIMznSCfnAmlJwZCPnkiDM50gnxyJpSeGAgLXp4IgzOdYG7nTCg9MRDe7zwRBmc6QT45E0pPDIR88kQYnOkE+eRMKD0xEOZ3nggDnXBEgIIGRwLJMBCwJcCily1J2mECQA7YFCCfbGrSFvlEDtgUIJ9satIWC17kgE0B5nY2NWmL9ztywKYA+WRTk7bIJ3LApgD5ZFOTtpjfkQMI2BOgoMGeJS35SCAtLU1GjhyZ1eMFCxZIixYt8jyCqVOnyqRJk2TVqlWyZ88eKVeunDRv3lz69OkjTZo0iaj9Q4cOydixY2XGjBmyYcMG+e233+Scc86Rtm3byl133SVVqlSJqJ1YT2LRK1Y5rsspwASAnLApQD7Z1KQt8okcsClAPtnUpC0WvHLPgQMHDsjy5ctl6dKl5j/Lli2TH374wVyk86TM/x1pJn399dcyZswYef/992Xr1q1y+umnS61ataRbt27Ss2dPKVSoUKRNnfQ8G3PFk94kxwnM7aIV4/zcBHi/Iz9sCpBPNjVpi3wiB2wKkE82NWmL+R05gIA9AQoa7FnSkk8EVq5cKQ0bNpQ//vgjq8d5LWjQP3Q6deokc+fODalQoEABeeihh2TIkCG5Kq1fv16uuuoq0Te6UEfJkiXl9ddfl3bt2sVNm0WvuNEGrmEmAIELeVwHTD7FlTdwjZNPgQt5XAdMPsWVN3CNs+CVe8hbtmwpCxcuDHlStAUNEyZMkL59+8qRI0dCtnfxxRdLRkaGJCUl5SkPbc0VY+kEc7tY1LgmnADvd+SGTQHyyaYmbZFP5IBNAfLJpiZtMb8jBxCwJ0BBgz1LWvKBwNGjR6Vx48bmmzxnnXWWbN++3fQ6rwUN119/vUybNs20pYts/fv3lwoVKshXX30ljz/+uNlpQY8XX3xRevfuHVJq//790qBBA1m3bp15vVevXtK1a1cpWrSo6d/w4cNFv5FUrFgx+fTTT+Wiiy6KiziLXnFhDWSjTAACGfa4DZp8ihttIBsmnwIZ9rgNmnyKG20gG2bBK/ew6656ixYtMiedeeaZZv702WefmXlSNAUNWojevn170fmh7qr3z3/+Uxo1aiS7du0SLXSYPXu2uUezZs1MAUXBggVjzkcbc8VYb87cLlY5rgslwPsdeWFTgHyyqUlb5BM5YFOAfLKpSVvM78gBBOwJUNBgz5KWfCDw7LPPyj333GO2Eb322mtNkYAeeSlo+PDDD6VVq1amHV0UmzNnznELXjt27JD69evL5s2bpXTp0rJx40Y544wzTtDSHRweeeQR8+/6OIwBAwYcd44u1KWmppqdJfS/w30zKa9hYNErr4JcnynABIBcsClAPtnUpC3yiRywKUA+2dSkLRa8cs+B8ePHS4kSJcyOe9WrVzcnn3vuubJp06aICxp+//13Mx/UeZnugKePsEhOTj7uxvrIwOeee878mz5S8JZbbokpOW3NFWO6uYgwt4tVjutCCfB+R17YFCCfbGrSFvlEDtgUIJ9satIW8ztyAAF7AhQ02LOkJY8LaEFB7dq1zbd3tBhAixiGDRtmep2XggZ9RMS8efPM81W///57qVSp0gkSunuDfjNHj1DFCrqoVrZsWdm7d6+kpKSIPstVH1OR87j99tvNLg966DNjdSHP9sGil23R4LbHBCC4sY/HyMmneKgGt03yKbixj8fIyad4qAa3TRa8oo99tAUN06dPly5dupgbaYH7/ffff8JNDx06ZOZ1u3fvlvPOO09Wr14dfcdEzOME8zpXjOnG/3cRc7u86HFtTgHe78gJmwLkk01N2iKfyAGbAuSTTU3aYn5HDiBgT4CCBnuWtORxAd094e2335bu3bvL5MmTZejQoXkuaNDHROgzVfW5q61btzaLVaEOfV0LFvbt2ydNmjQx26JmP+bPny9XXnml+acRI0ZIWlpayHYWL15srtdj0KBB5nEWtg8WvWyLBrc9JgDBjX08Rk4+xUM1uG2ST8GNfTxGTj7FQzW4bbLgFX3soy1ouOGGG2Tq1KnmRj///LOUL18+5E2zF5OvXbtWatSoEVXnbM0Vo7ppjpOZ2+VFj2tzCvB+R07YFCCfbGrSFvlEDtgUIJ9satIW8ztyAAF7AhQ02LOkJQ8LZH4LR5+zqotRWoRgo6Ah+xai4b7dk8miBQtauKA7Oeg3fgoXLpwllv1xE59//rk0btw4pKY+bqJUqVLm+ksvvTTr+bE26Vn0sqkZ7LaYAAQ7/rZHTz7ZFg12e+RTsONve/Tkk23RYLfHglf08Y+2oKFy5cqyZcsWqVmzpnz77bdhb6hFD1r8oMfEiRPl1ltvjapztuaKUd00x8nM7fKix7U5BXi/IydsCpBPNjVpi3wiB2wKkE82NWmL+R05gIA9AQoa7FnSkkcF9uzZYx7jsG3bNpkwYYL07NnT9NRGQcPYsWOlX79+pr05c+bINddcE1ahf//+kp6ebl7XLUt169LMo1OnTjJr1izzo25rWrp06bDtXHjhhbJq1Sqz48P27dutq7PoZZ00sA0yAQhs6OMycPIpLqyBbZR8Cmzo4zJw8ikurIFtlAWv6EMfTUGDPn6wRIkS5iZXX321vPHGG2FvuGLFCqlXr555fcCAAebRgdEctuaK0dwz57nM7fKix7U5BXi/IydsCpBPNjVpi3wiB2wKkE82NWmL+R05gIA9AQoa7FnSkkcFevfubQoZLrnkEvn444/llFNOMT21UdCgz1t94oknTHvLli2TBg0ahFUYNWqUWQjT45133sl6xIT+rDsyLFmyRIoXLy66yJbb0a5dO8nIyDCnHD58WIoUKRKVvC5q5Xbot5WaNm1qTnnvvfekSpUqUbXPyQhkCvz2228mr/Vo1KhR1LmKJALZBcgn8sGmAPlkU5O2yCdywKbApk2b5K9//atp8vvvvxf9sJ4jd4FoChp0RwYtdtejT58+okUH4Y4dO3aYInI9unbtmvWYikjjYWuumNv9mNtFGg3OsyHA+50NRdpgvYAciIcAv5/ioRrcNsmn4MY+HiNnfhcPVdoMqgAFDUGNfEDGrQUMqampUrBgQdFv2NSpUydr5DYKGnQR7LnnnjNtfvPNN1KrVq2wss8//7zceeed5vWZM2dKx44ds86tXbu2rFmzRsqVK2d2ksjt6NKli+gjNPTQRbYyZcpEFc3Mgo6oLuJkBBBAAAEEEEAAAQQQSKjA0qVLpWHDhgm9px9vFk1BgxahX3zxxWaYaWlpMmLEiLBD1m/nFStWzLyuReVvvfVWVDy25oq53ZS5XVQh4WQEEEAAAQQQQAABBPJNgPldvtFzY0cEKGhwJJAM40SBI0eOiD6eQb+FE2qLUBsFDT169DDPU9Vjw4YNUq1atbCh0PP0fD3+9a9/yY033ph1bnJysmzcuFHOOecc2bx5c67hvPnmm831euhuCpUqVYoq/Cx6RcXFyQgggAACCCCAAAII5IuAfoCuH6Rz5C4QTUGDFrxfeumlpsEHH3xQHn744bCNHz161BTG69GqVSt5//33owqFrblibjdlbhdVSDgZAQQQQAABBBBAAIF8E2B+l2/03NgRAQoaHAkkwzhRILNgoXLlymb3A32cQ/bDRkGDrW/dJHKHhpNtS6pb22Yu8n322WemyIIDgVgEfv7556xvwGkF6tlnnx1LM1yDgBEgn0gEmwLkk01N2iKfyAGbAtkf/6bPW61evbrN5hPSlo0P2SdNmiS33HJLRP2NpqDBtR0amNtFlCKcZEmA9ztLkDTD/I4csC7A7yfrpIFukHwKdPitD96F+Z11FBpEIEYBChpihOMybwvorgy6O4Pu0vDmm29Khw4dTuiwjYIGW89Fbdy4sSxZssQUXRw4cCBXXP2WVkZGhjnn8OHDUqRIEavB0EWxzCKGWHaAsNoZGvO1ALnk6/B5rvPkk+dC4usOkU++Dp/nOk8+eS4kvu6QC/nk5YIGnSempKSYHNHi9LFjx4bNF328X9myZc3rXbt2lalTp0aVW7bmilHdNMfJLuRTXsbPtXYFyCe7nkFvjXwKegbYHT/5ZNcz6K2RT0HPALvjJ5/setJasAUoaAh2/J0d/W233Sbjx483j4B47LHHQo5z5syZMmvWLPOabjd63nnnmf/dvn37E3ZzCAelC2D9+vUzL8+ZM0euueaasKb9+/eX9PR08/rq1auz7qc/d+rUKasvu3fvltKlS4dtRws1Vq1aZRbXtm/fbj2GvMlaJw1sg+RSYEMfl4GTT3FhDWyj5FNgQx+XgZNPcWENbKMu5JMWDeT10J29SpUqFVEz0ezQsH//filZsqRp9+qrr5Y33ngj7D1WrFgh9erVM6+HeoThyTpna654svvk9roL+ZSX8XOtXQHyya5n0Fsjn4KeAXbHTz7Z9Qx6a+RT0DPA7vjJJ7uetBZsAQoagh1/Z0ev25O+8sorMY1PH7mgi2KRHB9++KF5nqoew4cPF/0WTrjjyiuvlPnz50uhQoXk0KFDUrhw4axTH3roIXnkkUfMz59//rnojg2hjj/++MMUOxw8eNA8FmLRokWRdDOqc3iTjYqLk3MRIJdID5sC5JNNTdoin8gBmwLkk01N2iKfos+BaAoatHV9JKHuRFezZk3JrfhCd2S44YYbTIcmTpwot956a1SdszVXjOqmOU4mn/Kix7U5BcgncsKmAPlkU5O2yCdywKYA+WRTk7bIJ3IAAXsCFDTYs6QlDwkkqqBBv+GTlJRkHm3RunVrmTdvXkgFfV13VNi3b580adJEPvvss+PO00IHLXjQY8SIEZKWlhayncWLF5vr9Rg0aJA8/vjj1tV5k7VOGtgGyaXAhj4uAyef4sIa2EbJp8CGPi4DJ5/iwhrYRsmn6EMfbUGDFilkPj5Cn5Fcvnz5kDe9/fbb5cUXXzSvrV27VmrUqBFV52zNFaO6aY6Tyae86HFtTgHyiZywKUA+2dSkLfKJHLApQD7Z1KQt8okcQMCeAAUN9ixpyWcCQ4cOlWHDhpleL1iwQFq0aBHTCK666ipTyKA7L+juDpUqVTqhnWnTpsn1119v/n3kyJFmy9LshxY8nHXWWbJ3717zTFd9JEWoZ89mX1RbunSpNGzYMKY+53YRb7LWSQPbILkU2NDHZeDkU1xYA9so+RTY0Mdl4ORTXFgD2yj5FH3ooy1omD59unTp0sXcKNwue7qjns7r9HGA+mhCnZ/FctiYK8Zy38xryKe86HFtTgHyiZywKUA+2dSkLfKJHLApQD7Z1KQt8okcQMCeAAUN9ixpyWcCkRQ0TJ48OWtr0SFDhohek/PIvpVohw4dZPbs2VKwYMGs03bs2CH169eXzZs3m8dFbNy4Uc4444wT2sn+2IlQRQ/6KAp9zIQ+diI1NVUWLlwYF3HeZOPCGshGyaVAhj1ugyaf4kYbyIbJp0CGPW6DJp/iRhvIhsmn6MMebUHD77//LrVq1TLzspIlS8ry5cslOTn5uBv36dNHnnvuOfNvkyZNEt0BMOeRyLli9Cr//wryKVY5rgslQD6RFzYFyCebmrRFPpEDNgXIJ5uatEU+kQMI2BOgoMGeJS35TMBWQYMOW3df0F0Y9GjZsqXcfffdUqFCBfnqq6/ksccekw0bNpjXdMvS3r17h5TSLUkbNGgg69atM6/reV27dpWiRYuaHST08RIHDhwwP+sjKy666KK4iPMmGxfWQDZKLgUy7HEbNPkUN9pANkw+BTLscRs0xJzMOQAAIABJREFU+RQ32kA2TD7lHvb169fLJ598ctxJ9913n+zcuVPKlCkjo0aNOu41fSxgqEdKzJ07V9q3by9Hjx6VcuXKyeDBg+Xiiy82OzJMmDBBZs2aZdpp1qyZKSTPXrCeeYNIChpszRVj/T8D+RSrHNeFEiCfyAubAuSTTU3aIp/IAZsC5JNNTdoin8gBBOwJUNBgz5KWfCZgs6Dh119/lU6dOokujIU6ChQoIA8++GDIHR6yn68LdLot6XfffReyHf0G0euvvy7t2rWLmzZvsnGjDVzD5FLgQh7XAZNPceUNXOPkU+BCHtcBk09x5Q1c4+RT7iHPXkQQSXLk9mhBLVzo27ev6OP/Qh1a4JCRkSFJSUkhX4+0oMHWXDGS8eY8h3yKRY1rwgmQT+SGTQHyyaYmbZFP5IBNAfLJpiZtkU/kAAL2BChosGdJSz4TsFnQkDn0KVOmiC5sffnll7Jnzx7zbZ/mzZubhbImTZpEJHTw4EEZN26czJgxQ7TAQRfYzjnnHFPo0L9/f6lSpUpE7XASAggggAACCCCAAAIIIOCSgM2CBnX5+uuvJT09XT744APZunWrFC9eXFJSUqRbt27Ss2dPKVSoUFi+SAsabM4VXYolY0EAAQQQQAABBBBAAAEEEEAgUgEKGiKV4jwEEEAAAQQQQAABBBBAAAEEEEAAAQQQQAABBBBAAAEEEEAAAQQQSJgABQ0Jo+ZGCCCAAAIIIIAAAggggAACCCCAAAIIIIAAAggggAACCCCAAAIIIBCpAAUNkUpxHgIIIIAAAggggAACCCCAAAIIIIAAAggggAACCCCAAAIIIIAAAggkTICChoRRcyMEEEAAAQQQQAABBBBAAAEEEEAAAQQQQAABBBBAAAEEEEAAAQQQiFSAgoZIpTgPAQQQQAABBBBAAAEEEEAAAQQQQAABBBBAAAEEEEAAAQQQQAABBBImQEFDwqi5EQIIIIAAAggggAACCCCAAAIIIIAAAggggAACCCCAAAIIIIAAAghEKkBBQ6RSnIcAAggggAACCCCAAAIIIIAAAggggAACCCCAAAIIIIAAAggggAACCROgoCFh1NwIAQQQQAABBBBAAAEEEEAAAQQQQAABBBBAAAEEEEAAAQQQQAABBCIVoKAhUinOQwABBBBAAAEEEEAAAQQQQAABBBBAAAEEEEAAAQQQQAABBBBAAIGECVDQkDBqboSA9wU2bdok6enpkpGRIVu2bJEiRYpIcnKy/O1vf5M+ffpIsWLFvD8IepivAl988YXMnTtXPvnkE1mzZo388ssvUrhwYalQoYJccskl0qNHD2nWrFm+9pGb+18gLS1NRo4cmTWQBQsWSIsWLfw/MEaQMIHNmzfLyy+/bN7v9L1v//79UrZsWTn33HOlZcuW5n2vTp06CesPN/KnwJEjR+TVV1+VGTNmyKpVq2TXrl3mPa9ixYrStGlT6dWrl/lvjmALbN++XZYuXWr+s2zZMvOfnTt3GpTu3bvL5MmTowKaN2+ejB8/3rSjf2fp766GDRtK7969pU2bNlG1xcluCzC3czu+iRgdc7tEKHMPFWB+Rx7kVYD5XV4FuV4FmN+RBycTYG53MiFeRyC+AhQ0xNeX1hHwjcBbb70lN954o+zbty9kn2vUqGE++KlevbpvxkRHEytw6aWXyscff3zSm958880yYcIEOfXUU096LicgkFNg5cqV5oObP/74I+slChrIk2gExowZI4MGDZKDBw+Gvax///7y7LPPRtMs5wZMQD8obNu2raxevTrXkffr109Gjx4tp5xySsCEGG6mQG6xj6ag4ejRo6ZoQYuxwh09e/aUF198UQoUKEAAAi7A3C7gCWBh+MztLCDSREQCzO8iYuKkXASY35EeNgSY39lQdL8N5nbux5gReluAggZvx4feIZAQgRUrVphvz//6669y+umnmw969Buq+vO0adPMh896aFGDfkujRIkSCekXN/GXgBa7bNiwwezG0LlzZ2nevLlUrlxZ/vzzT/n888/lqaeekp9++skM6vrrr5cpU6b4a4D0Nt8F9MOcxo0bm2+lnnXWWaKV0XpQ0JDvofFNBx599FF58MEHs97T9Bv0WiBTqlQp841pfT+cM2eONGrUSJ5++mnfjIuOJlbg999/l7p162YVM1xwwQVy7733Ss2aNc1uH7pLkb7nZRbNDB8+XO6///7EdpK7eUYg+6KX/l1Uq1YtmT9/vulfNAUN+vf5iBEjzHWafwMHDjQ7qenfXrprkf7+0kPPe/zxxz0zfjqSeAHmdok3d/GOzO1cjKr3xsT8znsx8VuPmN/5LWLe7C/zO2/GxYu9Ym7nxajQpyAJUNAQpGgzVgTCCGR++6JQoULy0UcfSZMmTY4788knnzSLpnoMGTJEhg4diiUCJwi0a9dOdPeFjh07SsGCBU94fceOHaZwZt26dea1RYsWieYeBwKRCug35u+55x7zYdC1114r+iGhHhQ0RCoY7PM++OADufzyyw2C/q566aWXzOMBQh261SS7yAQ7X3Ib/cyZM03hnh76N5PuTpTzfe+///2veU0Xx0qXLm0eDaB/Z3EET0D/dtbCKf1PuXLl5IcffpCqVasaiEgLGvRvp9q1a5vdiRo0aGD+Xi9atGgW5qFDhyQ1NdUUHmueffPNN+yqFrxUyxoxc7sAB9/i0JnbWcSkqbACzO9IjrwIML/Lix7XZhdgfkc+RCrA3C5SKc5DID4CFDTEx5VWEfCNgD7PV7+Jqsdtt90mL7zwwgl916p5fZa4Lo7qorx+Kzrch0C+GTgdzReBt99+W9q3b2/urdtwp6en50s/uKn/BPSZmPphzoEDB2ThwoWmiGHYsGFmIBQ0+C+eie6xvo9pIcx3330nF154YdaHfonuB/dzQ0B3Y3jmmWfMYP7zn/9kva/lHN11111ndvzQY9WqVXL++ee7AcAo8iQQS0HDnXfeKc8//7y5r+56pbsV5TwWL16cVZSs548bNy5P/eRifwowt/Nn3Pzaa+Z2fo2cN/rN/M4bcfBrL5jf+TVy3uw38ztvxsUPvWJu54co0UeXBChocCmajAWBGAQeeOCBrG8560JoZnFDzqZ0i1vdwlaPd999V6644ooY7sYlQRfQ7bf1sSZ6XHXVVZKRkRF0EsYfoYAWwuiiaea3WXWnGAoaIsTjNHnnnXekTZs2RkIfd6OPveFAIFaBvn37Zn1Y/PXXX5tiq1DHgAEDZNSoUeYl/eZ8/fr1Y70l1zkkEO2i17Fjx6RSpUqydetWU5ilBcbhDn197dq1UrFiRdmyZYvk9oxXh0gZSjYB5nakQyIFmNslUtu9ezG/cy+miRwR87tEart/L+Z37sc4XiNkbhcvWdpFILQABQ1kBgIBF8jckrR48eKyZ8+esNsh67fBmjZtarQeeuihrA8SA87H8KMU2LVrl5QpU8ZcpQsY+s1WDgROJjB9+nTp0qWLnHnmmeaDmqSkJPPoGwoaTibH65kCPXr0kIkTJ5oP9/bu3SslSpQwL+nvpJ07d5rfS5pfHAhEIjBmzBi56667zKmR7NCgead/Y5UsWTKS5jnHcYFoF702btwoycnJRiXcbmqZZPr6+PHjzY96XeajLRwnZXjZBJjbkQ6JFGBul0htt+7F/M6teObHaJjf5Ye6u/dkfudubOM9MuZ28RamfQSOF6CggYxAIOACZcuWlR07dpgtuFeuXBlWY/fu3Vkf9uhzo3UCyoFAtAK69bZuwa3HwIED5Yknnoi2Cc4PmIB+CJiSkiLbtm2TCRMmSM+ePY0ABQ0BS4Q8Dle/Qb9mzRrz4Z5+yKe7NAwfPlz02/WZR40aNaRXr17mcThFihTJ4x253GUB/btJP2Det2+fXHLJJbJo0SIpWLDgcUNesWKFeSzAkSNHpFu3bvLaa6+5TMLYohCIdtEr+5bu+qiTu+++O+zd9HXdMlcP3QVLd8PiCJYAc7tgxTu/R8vcLr8j4M/7M7/zZ9y81mvmd16LiL/7w/zO3/HLz94zt8tPfe4dRAEKGoIYdcaMwP8JHD58WIoWLWp+atu2rdnOPbdDHxWg20rqAr3u2MCBQDQC+ozDJk2aiD7bVw+2345GL7jn9u7d2xQy6IeGH3/8cdb22RQ0BDcnoh25/u4pXLiw6H83bNjQ/B5KT08P24zuRqQfBJYuXTraW3F+gAR0ZwZ9dMmhQ4ekbt265kNmLYo5cOCAfPrpp/LUU0/J/v37pV69ejJ37lwpV65cgHQYam4C0S56vfDCC3LHHXeYJmfMmCGdOnUK2/zMmTNFC4/10Ot0xwaO4AgwtwtOrL0wUuZ2XoiCP/vA/M6fcfNSr5nfeSka7vSF+Z07sUzkSJjbJVKbeyEgQkEDWYBAgAV++eUXOeuss4yAbuc+bdq0XDV0MX779u1Sp04d+eqrrwIsx9BjEdAPd+677z5zqe7SMGvWrFia4ZoACWgBQ2pqqvnms37bWX/3ZB4UNAQoEfI41Ow7DJ122mmiH/icffbZ8uSTT5pvL+u/LVu2TNLS0mTx4sXmbtdee63Mnj07j3fmctcFvv32W1O48PLLL8uxY8eOG67+zTRo0CCz60exYsVcp2B8UQhEu+ilv6t0Vys95s2bJ61btw57N309c1eGUaNGyT/+8Y8oesapfhdgbuf3CPqr/8zt/BUvr/SW+Z1XIuHvfjC/83f8vNx75ndejo43+8bczptxoVfuClDQ4G5sGRkCJxXYsmWLVK5c2Zx30003yauvvprrNXquXqPbLK9fv/6k7XMCApkCuh335ZdfLn/88YcpotGCmMxiGpQQCCWg27Tro3B0QjlgwAAZOXLkcadR0EDeRCrw448/yjnnnJN1un64vHz5cqlZs+ZxTfz6669m94Yvv/zS/LsWNzRq1CjS23BewAT0d5T+HnrppZdEP0QMdTRo0EAefPBB6dChQ8B0GG5uAtEuej3yyCPy0EMPmSY/+OADueyyy8I2/+GHH0qrVq3M63rd4MGDCUaABJjbBSjY+TxU5nb5HACf3p75nU8D58FuM7/zYFAc6BLzOweCmA9DYG6XD+jcMtACFDQEOvwMPugCfIsn6BmQmPGvXr1amjdvLlpFr9+Efvfdd+XSSy9NzM25i28FMgsWtJBqzZo1Urx48ePGQkGDb0Ob8I7r8zD1meKZx1133SWjR48O2Q991ES7du3Ma/fcc488/fTTCe8vN/S+gD5+q02bNuYxOLqDjH4L/tZbb5Vq1aqZHUCWLFkiDz/8sHzyySfmMTn6Tfl7773X+wOjhwkRiHbRix0aEhIWJ27C3M6JMHp+EMztPB8iz3aQ+Z1nQ+O7jjG/813IPN9h5neeD5FnO8jczrOhoWOOClDQ4GhgGRYCkQjwnNVIlDgnLwLff/+9NGvWTLZu3Wo+9NHHTFx99dV5aZJrAyCguzLo7gxaIf/mm2+G/HYzBQ0BSARLQ/ztt99MMVXm8fbbb0vbtm1Dtq7viyVKlDC7yejvLv3AmgOBnAK6a4wWKegxefJk6d69+wlImkNXXHGFLFiwQAoUKGB2BdHfaxwIRLvo9cILL8gdd9xh4GbMmCGdOnUKizhz5kzp3LmzeV2vu+222wAPkABzuwAFO5+Gytwun+AduC3zOweC6KEhML/zUDAc6QrzO0cCmQ/DYG6XD+jcMtACFDQEOvwMHgGRpKQk2blzp1lkX7lyZViS7M+o04XS6dOnw4dArgJaxKA7M2zcuNF8Q1U/9Ln55ptRQ+CkAvoBzPjx4823nR977LGQ5+uHNlogo4du6X7eeeeZ/92+ffsTdnM46Q05wXkBfcRN5mMB9JESF1xwQdgxn3322bJt2zbzSApdfOVAILvAsWPHzN9Ou3btkho1asjatWvDAn366aemMEaPu+++W5555hkwEZBoF720CEvf2/TQHNJcCnfo65m7geiOM1dddRXiARNgbhewgCdwuMztEojt4K2Y3zkY1HweEvO7fA6AQ7dnfudQMPNhKMzt8gGdWwZagIKGQIefwSMgZut//Qaqbue+Z88eKVSoUEiWzz//XJo2bWpe0+f4Dhs2DD4EwgroFoCpqanmUQF6jB07Vvr06YMYAhEJ3HLLLfLKK69EdG7Ok/SbY+eee25M13KRuwItW7aUhQsXmgHqN+Xr1q0bdrCZi2O1a9eWr7/+2l0URhaTgBa7aNGLHl26dJFp06aFbSf7t6Vbt24t8+bNi+meXOSWQLSLXloYmpycbBD0AyHdeSHckfmBkb6u11WtWtUtPEZzUgHmdicl4oQYBJjbxYDGJccJML8jIWwLML+zLRrc9pjfBTf2NkbO3M6GIm0gELkABQ2RW3EmAk4KPPDAAzJ8+HAztsWLF0ujRo1CjnPEiBEyaNAg89q7775rtlHmQCCUwN69e+Wyyy4zHxrqobmTlpYGFgIRC7DgFTEVJ0YoMGTIEHn44YfN2bq7R8eOHUNeuW/fPildurTotzT0fU7f7zgQyC6Q/Zm9mkeaT+GO/fv3S8mSJc3L7dq1k7feegtMBKLeoUF/H1WqVMk8vqtWrVryzTffhFVMSUkxO8tUrFhRtmzZYnbI4giWAHO7YMU7EaNlbpcIZffvwfzO/RgneoTM7xIt7u79mN+5G9tEjCzaggbmdomICvdwWYCCBpejy9gQiEBg6dKlWUUM4b71dfToUalTp45ZQNUPerZv3y6FCxeOoHVOCZrAoUOHzIeAus22Hv/85z/l0UcfDRoD402AwNChQ7N2itFn1Ldo0SIBd+UWfhVYtWqVebSSHt26dZPXXnst5FB0ZxBdcNXjkUcekcGDB/t1yPQ7TgL6N9EZZ5whWvxSoUIF2bRpU9jdrbI/KqBfv36Snp4ep17RrJ8Eol300rHdeeed8vzzz5th6q5pjRs3PmHIWpjcpEkT8+96/rhx4/zEQl8tCTC3swRJM0aAuR2JkEgB5neJ1Pb/vZjf+T+GXhkB8zuvRMKf/WBu58+40Wv/ClDQ4N/Y0XMErAlkbk2qj5v46KOPshZDM2/w5JNPysCBA82PWgWtE00OBHIKHDlyxDzjef78+eal/v37y7PPPgsUAnERYMErLqxON6rPktct/wsUKGB+T7Vq1eq48epWkw0bNpQff/xRTj31VLNdu37LmQOBnAI33HCDTJ061fyz/i7Sv41yHrt375ZmzZplPXqJ3a3Io0yBWBa91q1bJ+edd578+eef0qBBA/P3etGiRbNQf/31V/MYuS+++MIU2Ogjv/7yl7+AHlAB5nYBDbzlYTO3swxKcycVYH53UiJOyCHA/I6UsCXA/M6WZPDaYW4XvJgz4vwVoKAhf/25OwKeEFixYoVccskloouhp59+uuhWpfo8Ov1Znw09fvx4088aNWqYhdISJUp4ot90wlsCuvX27NmzTaf0kRNazJDbVsf6gaHmFAcCsQiw4BWLWrCv0Q8E9bFKe/bskdNOO03uvvtu0UUw/VBQv9Gqj1/SYgY9nnjiiaxCvmCrMfpQArqlf/369c03V/XQYr7u3btLtWrV5PDhw+YRXvoeuHnzZvO6Fs+8//77YAZU4JNPPpH169dnjV63tR0wYID5Wf/+7tmz53EymbvE5OTSR7/pY7z0qFu3rnmcV3JysmzYsMH8ztK/5/XQ8x5//PGAajNsFWBuRx7YEGBuZ0ORNqIRYH4XjRbnqgDzO/LAlgDzO1uS7rfD3M79GDNCbwtQ0ODt+NA7BBImoM91vvHGG80WyqEO/eA5IyNDqlevnrA+cSN/CUT7nOYqVaqY50hzIBCLAAtesahxjU4+O3XqJP/73/9CYujvMX1Ujj5uggOB3AS0QOH6668X/XA6t0ML/GbOnGkeU8ERTIFonxuuz1UNdeh2uL169ZKJEyeGhezRo4cpRNadaDiCLcDcLtjxtzF65nY2FGkjGgHmd9FocW6mAPM7csGWAPM7W5Jut8Pczu34MjrvC1DQ4P0Y0UMEEiagz4EePXq0KVzI3HJbCxg6d+4sffv2lWLFiiWsL9zIfwIsevkvZn7uMQtefo5e/vZ9586dMmbMGHnjjTfk+++/F91S+eyzz5YWLVpIv379zDefORCIREBz6eWXXzaPMlm9erXZ/UO3+y9fvrx5fIluXdqhQ4dcdyuK5D6c428BW4temQpz5841RQvLli0zBTVJSUkm32677TZp06aNv7HovVUB5nZWOQPXGHO7wIU83wfM/C7fQ+DbDjC/823oPNdx5neeC4nnOsTcznMhoUMBE6CgIWABZ7gIIIAAAggggAACCCCAAAIIIIAAAggggAACCCCAAAIIIIAAAgj4QYCCBj9EiT4igAACCCCAAAIIIIAAAggggAACCCCAAAIIIIAAAggggAACCCAQMAEKGgIWcIaLAAIIIIAAAggggAACCCCAAAIIIIAAAggggAACCCCAAAIIIICAHwQoaPBDlOgjAggggAACCCCAAAIIIIAAAggggAACCCCAAAIIIIAAAggggAACAROgoCFgAWe4CCCAAAIIIIAAAggggAACCCCAAAIIIIAAAggggAACCCCAAAII+EGAggY/RIk+IoAAAggggAACCCCAAAIIIIAAAggggAACCCCAAAIIIIAAAgggEDABChoCFnCGiwACCCCAAAIIIIAAAggggAACCCCAAAIIIIAAAggggAACCCCAgB8EKGjwQ5ToIwIIIIAAAggggAACCCCAAAIIIIAAAggggAACCCCAAAIIIIAAAgEToKAhYAFnuAgggAACCCCAAAIIIIAAAggggAACCCCAAAIIIIAAAggggAACCPhBgIIGP0SJPiKAAAIIIIAAAggggAACCCCAAAIIIIAAAggggAACCCCAAAIIIBAwAQoaAhZwhosAAggggAACCCCAAAIIIIAAAggggAACCCCAAAIIIIAAAggggIAfBCho8EOU6CMCCCCAAAIIIIAAAggggAACCCCAAAIIIIAAAggggAACCCCAAAIBE6CgIWABZ7gIIIAAAggggAACCCCAAAIIIIAAAggggAACCCCAAAIIIIAAAgj4QYCCBj9EiT4igAACCCCAAAIIIIAAAggggAACCCCAAAIIIIAAAggggAACCCAQMAEKGgIWcIaLAAIIIIAAAggggAACCCCAAAIIIIAAAggggAACCCCAAAIIIICAHwQoaPBDlOgjAggggAACCCCAAAIIIIAAAggggAACCCCAAAIIIIAAAggggAACAROgoCFgAWe4CCCAAAIIIIAAAggggAACCCCAAAIIIIAAAggggAACCCCAAAII+EGAggY/RIk+IoAAAggggAACCCCAAAIIIIAAAggggAACCCCAAAIIIIAAAgggEDABChoCFnCGiwACCCCAAAL+EBg6dKgMGzbMdPbYsWP+6DS9RAABBBBAAAEEEEAAAQQQOEGA+R1JgQACCCCAAAIIxC5AQUPsdlyJAAIIIIAAAggcJ/DDDz9I1apV86yiBQwseOWZkQYQQAABBBBAAAEEEEAAgZgFmN/FTMeFCCCAAAIIIICAVQEKGqxy0hgCCCCAAAIIBFmABa8gR5+xI4AAAggggAACCCCAgEsCzO9ciiZjQQABBBBAAAE/C1DQ4Ofo0XcEEEAAAQQQ8JTA77//LmvXrg3bp/PPP9+81qBBA5k0aVLY8+rUqeOpcdEZBBBAAAEEEEAAAQQQQCBoAszvghZxxosAAggggAACXhWgoMGrkaFfCCCAAAIIIOCcwCmnnGLGlJqaKgsXLnRufAwIAQQQQAABBBBAAAEEEAiKAPO7oESacSKAAAIIIIBAfgtQ0JDfEeD+CCCAAAIIIBAYARa8AhNqBooAAggggAACCCCAAAKOCzC/czzADA8BBBBAAAEEPCNAQYNnQkFHEEAAAQQQQMB1gWgWvIYOHSrDhg0zJMeOHTuB5txzz5VNmzZJ9+7dZfLkybJ8+XJ56qmn5KOPPpIdO3ZIxYoVpUOHDvLAAw9IUlJS1vWfffaZPPPMM7JkyRLZvn27Oa9Tp04yePBgKVGiRK4h+PPPP+W1116TGTNmmPvt3LlTTj/9dElJSZHrrrtO7rjjDilatKjrYWR8CCCAAAIIIIAAAggggIAwvyMJEEAAAQQQQACBxAhQ0JAYZ+6CAAIIIIAAAgjEbcGrVatW0rNnTzly5MgJyjVq1JBFixZJ+fLlZdSoUTJw4MCQBRL16tUz52mBQqhj8+bNpkDiyy+/DBvJ6tWrS0ZGhug9ORBAAAEEEEAAAQQQQAABlwXiVdDA/M7lrGFsCCCAAAIIIBCLAAUNsahxDQIIIIAAAgggEINAPBa8LrroIlmzZo1oMcF9990n559/vuzfv18mTpxodlPQo1u3bmYHhY4dO0rjxo2lX79+UrNmTbOTQ3p6usydO9ecl5aWJiNGjDhhZLoTQ926dWXLli1SpEgR6dWrl6SmporuEnHgwAGZP3++jB49Wg4dOiTVqlUzuzeUKlUqBiEuQQABBBBAAAEEEEAAAQT8IcD8zh9xopcIIIAAAggg4H8BChr8H0NGgAACCCCAAAI+EYjHgpcOvWnTpvLee+9JsWLFjpPo3LmzzJw5UwoWLGgKDFq2bCn//ve/zc+Zhz5GolmzZrJ48WIpU6aMbNu2TQoVKnRcO1oQMWXKFKlSpYosWLBAqlateoL4ihUrpHnz5nLw4EHzmIvHHnvMJ1GhmwgggAACCCCAAAIIIIBA9ALM76I34woEEEAAAQQQQCAWAQoaYlHjGgQQQAABBBBAIAaBeCx4aZurV6+WlJSUE3qkxQeXXXaZ+XctdtAdFs4888wTzps0aZL8/e9/N/+uj5S44IILss754YcfzO4PWvjw1ltvSbt27cKOXHd4GDlypFSoUEF++umnGIS4BAEEEEAAAQQQQAABBBDwhwDzO3/EiV4igAACCCCAgP8FKGjwfwwZAQIIIIAAAgj4RCAeC14XXnihrFy5MqS6Z1FXAAACe0lEQVTArl27zK4Lelx99dXyxhtvhDxPHxFRv35989qcOXPkmmuuyTpv3Lhx0rdvX1MQsW/fvuN2d8jZWEZGRlbBw6ZNm6Ry5co+iQzdRAABBBBAAAEEEEAAAQSiE2B+F50XZyOAAAIIIIAAArEKUNAQqxzXIYAAAggggAACUQrEY8FLHysxffr0kD05evRoVgHCgAEDzO4JoY6NGzdKcnKyeenVV1+Vm266Keu0W2+9VSZPnhzlSEWWLFkiF198cdTXcQECCCCAAAIIIIAAAggg4AcB5nd+iBJ9RAABBBBAAAEXBChocCGKjAEBBBBAAAEEfCEQjwWv7t2751pwkHnPIUOGyNChQ0M66WMlqlatal7Tx0/ccsstWee1bdtW5s6dG7WvPu6iRYsWUV/HBQgggAACCCCAAAIIIICAHwSY3/khSvQRAQQQQAABBFwQoKDBhSgyBgQQQAABBBDwhYAfF7xat24t7777riQlJYkWKUR6aIFE8eLFIz2d8xBAAAEEEEAAAQQQQAABXwkwv/NVuOgsAggggAACCPhYgIIGHwePriOAAAIIIICAvwT8uODVrVs3mTJlihQpUkQOHjyY9QgLf8nTWwQQQAABBBBAAAEEEEDArgDzO7uetIYAAggggAACCIQToKCB3EAAAQQQQAABBBIk4McFr1GjRsmAAQOM0OLFi6VRo0YJ0uI2CCCAAAIIIIAAAggggIB3BZjfeTc29AwBBBBAAAEE3BKgoMGteDIaBBBAAAEEEPCwgB8XvNauXSspKSly7Ngx6dq1q0ydOtXDwnQNAQQQQAABBBBAAAEEEEiMAPO7xDhzFwQQQAABBBBA4P8B2B347B4WMfkAAAAASUVORK5CYII=\" width=\"1050\">"
      ],
      "text/plain": [
       "<IPython.core.display.HTML object>"
      ]
     },
     "metadata": {},
     "output_type": "display_data"
    }
   ],
   "source": [
    "#  Define display interaction widgets\n",
    "a1=ipywidgets.FloatSlider(description='Dose(t)',\n",
    "                        min=-10.0,max=10.0,step=.01,layout=ipywidgets.Layout(width='95%'))\n",
    "\n",
    "nudge_text=ipywidgets.Text(description=\"Next Step\",value='Predict Response(t+1)  ')   \n",
    "y_text=ipywidgets.Text(description='Response(t+1) ',value='  ',style={'description_width':'initial'})\n",
    "#  Define data storage vectors for plotting\n",
    "t_data=np.linspace(0,10,11)\n",
    "y_data=np.zeros(11)\n",
    "y_data.fill(np.nan)\n",
    "x_data=np.zeros(11)\n",
    "x_data.fill(np.nan)\n",
    "u_data=np.zeros(11)\n",
    "u_data.fill(np.nan)\n",
    "t=0;\n",
    "x=x_0;      # Initialize state\n",
    "x_data[0]=x\n",
    "threshold=.25\n",
    "ref=5\n",
    "u_upper_limit=10\n",
    "u_lower_limit=-10\n",
    "y_str_upper=' (is more than '+'{:.4}'.format(str(ref+threshold)) +')'\n",
    "y_str_lower=' (is less than '+'{:.4}'.format(str(ref-threshold))+')'\n",
    "# \"Predict y (t+1)\": for given input u and state x\n",
    "def on_pred_clicked(b):\n",
    "    global x\n",
    "    u=a1.value\n",
    "    y_pred=C*x+D*u\n",
    "    y_str='{:.4}'.format(str(C*x+D*u))\n",
    "    exec_button.disabled=True    # disable exec button\n",
    "    if y_pred > ref+threshold:       # Prediction too high\n",
    "        if u <= u_lower_limit:\n",
    "            nudge_text.value='Hit lower tox limit'\n",
    "        else:  \n",
    "            nudge_text.value='Reduce dose(t) and Predict'\n",
    "            y_text.value = y_str+y_str_upper  \n",
    "    elif y_pred < ref-threshold:     # prediction too low\n",
    "        if u >= u_upper_limit:\n",
    "            nudge_text.value='Hit upper tox limit'\n",
    "        else: \n",
    "            nudge_text.value ='Increase dose(t) and Predict'\n",
    "            y_text.value=y_str+y_str_lower\n",
    "    else:                       # pediction in range\n",
    "        y_text.value=y_str + ' (in range)'\n",
    "        nudge_text.value ='Administer dose(t)'\n",
    "        exec_button.disabled=False      # enable exec button\n",
    "        pred_button.disabled=True       # disable predict button\n",
    "\n",
    "           \n",
    "# \"Execute u (t)\": for given input u, computes y and propagates state x using u\n",
    "def on_exec_clicked(b):\n",
    "    global x,t\n",
    "    u=a1.value\n",
    "    u_data[t]=u\n",
    "    y=C*x+D*u\n",
    "    y_data[t+1]=y\n",
    "     \n",
    "    y_text.value='{:.4}'.format(str(y))\n",
    "    x_data[t+1]=x\n",
    "    x=A*x+B*u # propagate state\n",
    "    t=t+1\n",
    "    plot_progress()\n",
    "    nudge_text.value='Predict Response(t+1)'\n",
    "    pred_button.disabled=False         # Enable predict button   \n",
    "    exec_button.disabled=True          # Disable exec button\n",
    "    \n",
    "# plot data progress\n",
    "def plot_progress():\n",
    "    global t_data,x_data,y_data,u_data,y_line,u_line,x_line,fig2,ax2,ax3\n",
    "    y_line.set_ydata(y_data)\n",
    "    u_line.set_ydata(u_data)\n",
    "    x_line.set_ydata(x_data)\n",
    "    \n",
    "exec_button=ipywidgets.Button(description=\"Administer Dose(t)\",disabled=True,\n",
    "                              layout=ipywidgets.Layout(width='42%'))\n",
    "exec_button.on_click(on_exec_clicked)\n",
    "pred_button=ipywidgets.Button(description=\"Predict Response(t+1)\",disabled=False,\n",
    "                              layout=ipywidgets.Layout(width='42%'))\n",
    "pred_button.on_click(on_pred_clicked)\n",
    "\n",
    "#  Layout action buttons and info boxes\n",
    "action_box=ipywidgets.HBox([pred_button,exec_button],\n",
    "                          layout=ipywidgets.Layout(justify_content='center'))\n",
    "info_box=ipywidgets.HBox([y_text,nudge_text],\n",
    "                        layout=ipywidgets.Layout(justify_content='center'))\n",
    "y_text.disabled=True;\n",
    "display(a1)\n",
    "display(info_box)\n",
    "display(action_box)\n",
    "\n",
    "fig1=plt.figure(1,figsize=(10.5,3.5))\n",
    "ax2=fig1.add_subplot(1,2,1)\n",
    "y_line, = ax2.plot(t_data,y_data)\n",
    "plt.grid(True)\n",
    "plt.xlim(0,10)\n",
    "plt.ylim(4,6)\n",
    "plt.xlabel('Time')\n",
    "plt.ylabel('Response')\n",
    "ax3=fig1.add_subplot(1,2,2)\n",
    "u_line,  = ax3.plot(t_data,u_data)\n",
    "x_line,  = ax3.plot(t_data,x_data)\n",
    "plt.legend((x_line,u_line),('State x','Dose'))\n",
    "plt.grid(True)\n",
    "plt.xlim(0,10)\n",
    "plt.ylim(-10,10)\n",
    "plt.xlabel('Time');\n"
   ]
  },
  {
   "cell_type": "markdown",
   "metadata": {},
   "source": [
    "Assuming you have been dilligent about bringing prediction close to the target at each time point, you will see below \n",
    "that while the output remains tightly regulated, both inputs $u(t)$ and state $x(t)$ are oscillating and blowing up! \n",
    "\n",
    "So, with prefect prediction and output control, this system always blows up. \n",
    "\n",
    "One is reminded of the adage \"Be careful what you wish for\" and \"Unintended consequences\".  It is remarkable that this happens with a trivially simple, stable, eniterly deterministic and predictable linear dynamical system."
   ]
  },
  {
   "cell_type": "code",
   "execution_count": null,
   "metadata": {
    "scrolled": false
   },
   "outputs": [],
   "source": [
    "print('Saved y(t) values:',y_data)\n",
    "print('Saved u(t) values:',u_data)\n",
    "fig4=plt.figure(3,figsize=(11,6))\n",
    "plt.plot(t_data,y_data)\n",
    "plt.grid(True)\n",
    "plt.xlim(0,10)\n",
    "plt.ylim(0,10)\n",
    "plt.xlabel('Time')\n",
    "plt.ylabel('Response');\n",
    "#fig4.canvas.draw()\n",
    "fig5=plt.figure(4,figsize=(11,6))\n",
    "u_line, = plt.plot(t_data,u_data)\n",
    "x_line, = plt.plot(t_data,x_data)\n",
    "plt.legend((x_line,u_line),('State x','Dose'))\n",
    "plt.grid(True)\n",
    "plt.xlim(0,10)\n",
    "plt.xlabel('Time')\n",
    "plt.ylabel('Value');\n",
    "#fig5.canvas.draw()"
   ]
  },
  {
   "cell_type": "markdown",
   "metadata": {},
   "source": [
    "### A Dose of Reality\n",
    "\n",
    "Let us move from the ideal situation to a more realistic scenario.\n",
    "\n",
    "+ Unknown or approximate model\n",
    "\n",
    "    Human decision makers often use immediate aggregate cause-effect heuristics. If the blood glucose shot up, it was most likely the glass of wine with the last meal. If the stock market lost one percent, it was because of the latest news on trade war.\n",
    "    \n",
    "\n",
    "+ Many decision variables affect observations\n",
    "   \n",
    "  When multiple decision variables are involved, humans focus on one assumed dominant variable. The mental burden of untangling multiple causes is too large. Doing so for a dynamic system with continuous variables is clearly just too complex for humans.\n",
    "  \n",
    "\n",
    "+ Too many extraneous conditions and variables affect observations\n",
    "\n",
    "   Given the simplfied cause-effect heuristic, the apparent variability of observations becomes large. You often hear that the variablity is due to inherent random behavior that can only be untangeled by averaging over many experiments and observations. To the poor patient, the averaging is of little comfort. Loss of agency and hope for the patient leads do resignation and even depression.  Apparent variability also occurs in machine learned models when the representations are poorly chosen in dynamic systems. \n",
    "   \n",
    "\n",
    "+ Can not directly measure what you need to really maintain or control\n",
    "   \n",
    "   In metabolic syndrome, you need to arrest or reduce organ damage, mental depression and other co-morbidity.  However, blood prick glucose measurement or readings from CGM need to be translated to what you need to be concerend with.  Your camera sensor output on an autonomous car will give you a partial and possibly misleading view of the environment, leading to accidents. \n",
    "   \n",
    "We will go over each of these aspects and see how it manifests in simulated examples.  \n",
    "\n",
    "Again, no need to take my word on it. You will be the decision maker  in the simulated examples!\n",
    "  \n",
    "      \n",
    "\n"
   ]
  },
  {
   "cell_type": "code",
   "execution_count": null,
   "metadata": {
    "scrolled": true
   },
   "outputs": [],
   "source": []
  }
 ],
 "metadata": {
  "kernelspec": {
   "display_name": "Python 3",
   "language": "python",
   "name": "python3"
  },
  "language_info": {
   "codemirror_mode": {
    "name": "ipython",
    "version": 3
   },
   "file_extension": ".py",
   "mimetype": "text/x-python",
   "name": "python",
   "nbconvert_exporter": "python",
   "pygments_lexer": "ipython3",
   "version": "3.7.3"
  },
  "widgets": {
   "application/vnd.jupyter.widget-state+json": {
    "state": {
     "028bd2cd91d545fe8c9205a00ecc321b": {
      "model_module": "@jupyter-widgets/controls",
      "model_module_version": "1.4.0",
      "model_name": "ButtonStyleModel",
      "state": {}
     },
     "03e0cd42451847e98fa4c78e82f62d00": {
      "model_module": "@jupyter-widgets/controls",
      "model_module_version": "1.4.0",
      "model_name": "TextModel",
      "state": {
       "description": "Next Step",
       "layout": "IPY_MODEL_a38c6408e8d74800a029a5e9f03df1c0",
       "style": "IPY_MODEL_c010b7152eeb4945894a5c0b4aa8d0e4",
       "value": "Predict Response(t+1)"
      }
     },
     "075d19d2bf5d4d40b57d0af7b5473514": {
      "model_module": "@jupyter-widgets/controls",
      "model_module_version": "1.4.0",
      "model_name": "HBoxModel",
      "state": {
       "children": [
        "IPY_MODEL_9e7bd315932c4f2da52faa1fd3998f3f",
        "IPY_MODEL_2b0fa78cc9e74364ad1dc5b54d82b1a0"
       ],
       "layout": "IPY_MODEL_ecb7076df28b45d99581b461934ba6d1"
      }
     },
     "0b15758c582e40ca8d5fed687c2d7cc5": {
      "model_module": "@jupyter-widgets/controls",
      "model_module_version": "1.4.0",
      "model_name": "DescriptionStyleModel",
      "state": {
       "description_width": "initial"
      }
     },
     "0b39633dfe9c4696ae1e7a9ad6fc8ce7": {
      "model_module": "@jupyter-widgets/base",
      "model_module_version": "1.1.0",
      "model_name": "LayoutModel",
      "state": {
       "width": "95%"
      }
     },
     "0bd80c197c53424a8496da2bd7e0c7ee": {
      "model_module": "@jupyter-widgets/controls",
      "model_module_version": "1.4.0",
      "model_name": "DescriptionStyleModel",
      "state": {
       "description_width": ""
      }
     },
     "0c04bfdd8cfe4b1f8288ceb3b479473a": {
      "model_module": "@jupyter-widgets/controls",
      "model_module_version": "1.4.0",
      "model_name": "ButtonModel",
      "state": {
       "description": "Predict Response(t+1)",
       "layout": "IPY_MODEL_4f66b33320d34c768befc72938473b1d",
       "style": "IPY_MODEL_028bd2cd91d545fe8c9205a00ecc321b"
      }
     },
     "0fa6cd9902614b48a0b705b91b8eee11": {
      "model_module": "@jupyter-widgets/base",
      "model_module_version": "1.1.0",
      "model_name": "LayoutModel",
      "state": {}
     },
     "11578dd36a6543ceadc51fbc421dfddb": {
      "model_module": "@jupyter-widgets/base",
      "model_module_version": "1.1.0",
      "model_name": "LayoutModel",
      "state": {
       "width": "95%"
      }
     },
     "13b4d94902704b9a9b87fbd0dba916e7": {
      "model_module": "@jupyter-widgets/controls",
      "model_module_version": "1.4.0",
      "model_name": "ButtonStyleModel",
      "state": {}
     },
     "1a031a64af954efaa80368c61daa9e6b": {
      "model_module": "@jupyter-widgets/controls",
      "model_module_version": "1.4.0",
      "model_name": "FloatSliderModel",
      "state": {
       "description": "Dose(t)",
       "layout": "IPY_MODEL_b33631432e254b3982521671ebb0f71e",
       "max": 10,
       "min": -10,
       "step": 0.01,
       "style": "IPY_MODEL_54aca4b6bc304a33912aa03f2bd2dc3f",
       "value": -10
      }
     },
     "1aa56fd36cad4c4fb404c0c9899988a2": {
      "model_module": "@jupyter-widgets/base",
      "model_module_version": "1.1.0",
      "model_name": "LayoutModel",
      "state": {
       "justify_content": "center"
      }
     },
     "1c4c9ec2fbbc4b46ad38a4a76d51bbe1": {
      "model_module": "@jupyter-widgets/controls",
      "model_module_version": "1.4.0",
      "model_name": "HBoxModel",
      "state": {
       "children": [
        "IPY_MODEL_d036e8573f03408da42d8d5534c250ae",
        "IPY_MODEL_4737425401214705bf3400961d0cd709"
       ],
       "layout": "IPY_MODEL_2cfb865ac50d4141b32e3cd98f8c3e2f"
      }
     },
     "2172a36b7bcb49d284b831f99b3ee9c5": {
      "model_module": "@jupyter-widgets/controls",
      "model_module_version": "1.4.0",
      "model_name": "ButtonStyleModel",
      "state": {}
     },
     "2252216b11674301a1dc6d6793999617": {
      "model_module": "@jupyter-widgets/controls",
      "model_module_version": "1.4.0",
      "model_name": "TextModel",
      "state": {
       "description": "Next Step",
       "layout": "IPY_MODEL_eff92387c36f4c4b8cca66708946cf10",
       "style": "IPY_MODEL_0bd80c197c53424a8496da2bd7e0c7ee",
       "value": "Predict Response(t+1)"
      }
     },
     "23e43d5663aa45b1837a11cc6423dc86": {
      "model_module": "@jupyter-widgets/controls",
      "model_module_version": "1.4.0",
      "model_name": "ButtonModel",
      "state": {
       "description": "Predict Response(t+1)",
       "layout": "IPY_MODEL_cfad5f40eb6f46cd8b3581b426a7ae98",
       "style": "IPY_MODEL_ae4991a3f97c4b409a66d7a43f6482f6"
      }
     },
     "26a812405eea4253a93b39eefb7b86e9": {
      "model_module": "@jupyter-widgets/controls",
      "model_module_version": "1.4.0",
      "model_name": "ButtonStyleModel",
      "state": {}
     },
     "2b0fa78cc9e74364ad1dc5b54d82b1a0": {
      "model_module": "@jupyter-widgets/controls",
      "model_module_version": "1.4.0",
      "model_name": "TextModel",
      "state": {
       "description": "Next Step",
       "layout": "IPY_MODEL_f38acae4f32d4ee9a1344e90b97aca43",
       "style": "IPY_MODEL_32c674279a26479d85aa368bd4d400c5",
       "value": "Hit lower tox limit"
      }
     },
     "2c9e5853c1974f9f9569e2320606b35b": {
      "model_module": "@jupyter-widgets/controls",
      "model_module_version": "1.4.0",
      "model_name": "FloatSliderModel",
      "state": {
       "description": "Dose(t)",
       "layout": "IPY_MODEL_5dc86fa408124542aba9db2b2a063a10",
       "max": 10,
       "min": -10,
       "step": 0.01,
       "style": "IPY_MODEL_b3d7ba76564d488bb4b95b202cdceb96",
       "value": 1.43
      }
     },
     "2cfb865ac50d4141b32e3cd98f8c3e2f": {
      "model_module": "@jupyter-widgets/base",
      "model_module_version": "1.1.0",
      "model_name": "LayoutModel",
      "state": {
       "justify_content": "center"
      }
     },
     "2eedc88b87be4cc598862ac1d2e6f0b9": {
      "model_module": "@jupyter-widgets/base",
      "model_module_version": "1.1.0",
      "model_name": "LayoutModel",
      "state": {
       "width": "42%"
      }
     },
     "32c674279a26479d85aa368bd4d400c5": {
      "model_module": "@jupyter-widgets/controls",
      "model_module_version": "1.4.0",
      "model_name": "DescriptionStyleModel",
      "state": {
       "description_width": ""
      }
     },
     "37cbf8c6252f4ceba02012dd144ab6c2": {
      "model_module": "@jupyter-widgets/controls",
      "model_module_version": "1.4.0",
      "model_name": "HBoxModel",
      "state": {
       "children": [
        "IPY_MODEL_e8d2bfa31b2345d9b6770adc27d9e13b",
        "IPY_MODEL_2252216b11674301a1dc6d6793999617"
       ],
       "layout": "IPY_MODEL_8f102acff5d94b9db39321529daa7463"
      }
     },
     "38dd512af98346688253ae2c692b679f": {
      "model_module": "@jupyter-widgets/controls",
      "model_module_version": "1.4.0",
      "model_name": "HBoxModel",
      "state": {
       "children": [
        "IPY_MODEL_0c04bfdd8cfe4b1f8288ceb3b479473a",
        "IPY_MODEL_67dc0b4592a54b44b5fa1c0a144d8bfd"
       ],
       "layout": "IPY_MODEL_e8599bd2a44349adb56784521e651176"
      }
     },
     "391db06aff1f48dc9239e3afadae891b": {
      "model_module": "@jupyter-widgets/controls",
      "model_module_version": "1.4.0",
      "model_name": "HBoxModel",
      "state": {
       "children": [
        "IPY_MODEL_414c94a7421448998be5e05fe7fdf784",
        "IPY_MODEL_963c2a580dda400e9d632821f46e338c"
       ],
       "layout": "IPY_MODEL_87dbbd26f1d64a4eb8f392affd5b80c0"
      }
     },
     "3ba5003d35e9476fb93f2752326b1e1c": {
      "model_module": "@jupyter-widgets/controls",
      "model_module_version": "1.4.0",
      "model_name": "DescriptionStyleModel",
      "state": {
       "description_width": "initial"
      }
     },
     "3bcf9f46ff2449369608dfa3b874e388": {
      "model_module": "@jupyter-widgets/base",
      "model_module_version": "1.1.0",
      "model_name": "LayoutModel",
      "state": {}
     },
     "40981a7a083f4622ba7768ab2b273685": {
      "model_module": "@jupyter-widgets/controls",
      "model_module_version": "1.4.0",
      "model_name": "DescriptionStyleModel",
      "state": {
       "description_width": "initial"
      }
     },
     "414c94a7421448998be5e05fe7fdf784": {
      "model_module": "@jupyter-widgets/controls",
      "model_module_version": "1.4.0",
      "model_name": "ButtonModel",
      "state": {
       "description": "Predict Response(t+1)",
       "layout": "IPY_MODEL_e82ec4c293a0420586df3c59390abade",
       "style": "IPY_MODEL_2172a36b7bcb49d284b831f99b3ee9c5"
      }
     },
     "4737425401214705bf3400961d0cd709": {
      "model_module": "@jupyter-widgets/controls",
      "model_module_version": "1.4.0",
      "model_name": "ButtonModel",
      "state": {
       "description": "Administer Dose(t)",
       "disabled": true,
       "layout": "IPY_MODEL_bd6ee27849ac42cc82371d07c9d643b6",
       "style": "IPY_MODEL_eb9c5f8672ff4fd18894ebc109c60eda"
      }
     },
     "49993292fef14d3b87f61e4c57a29f80": {
      "model_module": "@jupyter-widgets/base",
      "model_module_version": "1.1.0",
      "model_name": "LayoutModel",
      "state": {}
     },
     "4ac0edac95fa4ddc957eeb4bca8fa1f4": {
      "model_module": "@jupyter-widgets/base",
      "model_module_version": "1.1.0",
      "model_name": "LayoutModel",
      "state": {
       "width": "42%"
      }
     },
     "4b16627cd21b49a991717349dcc0f39e": {
      "model_module": "@jupyter-widgets/controls",
      "model_module_version": "1.4.0",
      "model_name": "HBoxModel",
      "state": {
       "children": [
        "IPY_MODEL_edb82dc7e54b442f932c1af931fdffb4",
        "IPY_MODEL_e1988a5aa4dc4bc2a507e12e6beb3a31"
       ],
       "layout": "IPY_MODEL_b9169c4237734f928f4b01df729c2263"
      }
     },
     "4f66b33320d34c768befc72938473b1d": {
      "model_module": "@jupyter-widgets/base",
      "model_module_version": "1.1.0",
      "model_name": "LayoutModel",
      "state": {
       "width": "42%"
      }
     },
     "54aca4b6bc304a33912aa03f2bd2dc3f": {
      "model_module": "@jupyter-widgets/controls",
      "model_module_version": "1.4.0",
      "model_name": "SliderStyleModel",
      "state": {
       "description_width": ""
      }
     },
     "56818f00b59e4500996159b0e78eb2be": {
      "model_module": "@jupyter-widgets/controls",
      "model_module_version": "1.4.0",
      "model_name": "HBoxModel",
      "state": {
       "children": [
        "IPY_MODEL_d005af7968254de89a6df51708ebb703",
        "IPY_MODEL_f35c730f044b47d2a2634f4c6abd2191"
       ],
       "layout": "IPY_MODEL_c1be487cd0884ceb962a5afadfb02e64"
      }
     },
     "56d1312a2eef45698d78113e8c83fddd": {
      "model_module": "@jupyter-widgets/controls",
      "model_module_version": "1.4.0",
      "model_name": "DescriptionStyleModel",
      "state": {
       "description_width": ""
      }
     },
     "573a17478f7047c1a7c748c1b5866466": {
      "model_module": "@jupyter-widgets/controls",
      "model_module_version": "1.4.0",
      "model_name": "FloatSliderModel",
      "state": {
       "description": "Dose(t)",
       "layout": "IPY_MODEL_11578dd36a6543ceadc51fbc421dfddb",
       "max": 10,
       "min": -10,
       "step": 0.01,
       "style": "IPY_MODEL_b48170f32c8e4f8ba81197998816d855",
       "value": 1.15
      }
     },
     "5c47f2ccf8d946f68316cdabf568ffa7": {
      "model_module": "@jupyter-widgets/controls",
      "model_module_version": "1.4.0",
      "model_name": "DescriptionStyleModel",
      "state": {
       "description_width": ""
      }
     },
     "5dc86fa408124542aba9db2b2a063a10": {
      "model_module": "@jupyter-widgets/base",
      "model_module_version": "1.1.0",
      "model_name": "LayoutModel",
      "state": {
       "width": "95%"
      }
     },
     "67dc0b4592a54b44b5fa1c0a144d8bfd": {
      "model_module": "@jupyter-widgets/controls",
      "model_module_version": "1.4.0",
      "model_name": "ButtonModel",
      "state": {
       "description": "Administer Dose(t)",
       "disabled": true,
       "layout": "IPY_MODEL_f89aa0d3d86744c19422f1dd7f6d84aa",
       "style": "IPY_MODEL_775ca751112f435a878f0e2446969fdb"
      }
     },
     "67e28e2a37664868922fe99736ea2eab": {
      "model_module": "@jupyter-widgets/controls",
      "model_module_version": "1.4.0",
      "model_name": "TextModel",
      "state": {
       "description": "Next Step",
       "layout": "IPY_MODEL_c4185a4c21b54d7a9d896832eee1f16f",
       "style": "IPY_MODEL_5c47f2ccf8d946f68316cdabf568ffa7",
       "value": "Predict Response(t+1)"
      }
     },
     "6e88d1ff7f8247aca898c7dbf18e326c": {
      "model_module": "@jupyter-widgets/controls",
      "model_module_version": "1.4.0",
      "model_name": "TextModel",
      "state": {
       "description": "Response(t+1) ",
       "disabled": true,
       "layout": "IPY_MODEL_0fa6cd9902614b48a0b705b91b8eee11",
       "style": "IPY_MODEL_3ba5003d35e9476fb93f2752326b1e1c",
       "value": "4.77"
      }
     },
     "775ca751112f435a878f0e2446969fdb": {
      "model_module": "@jupyter-widgets/controls",
      "model_module_version": "1.4.0",
      "model_name": "ButtonStyleModel",
      "state": {}
     },
     "777ad53eb4214d3f983b387a974785c2": {
      "model_module": "@jupyter-widgets/base",
      "model_module_version": "1.1.0",
      "model_name": "LayoutModel",
      "state": {
       "width": "95%"
      }
     },
     "79ea289926794028b2f85f7b10c97b87": {
      "model_module": "@jupyter-widgets/controls",
      "model_module_version": "1.4.0",
      "model_name": "TextModel",
      "state": {
       "description": "Response(t+1) ",
       "layout": "IPY_MODEL_f74717e57cb0445fb910baef614e652b",
       "style": "IPY_MODEL_a934bebe06a942ceae4e1ff38802d1a2",
       "value": "  "
      }
     },
     "7bf91f7803bb4378b74c0f83f9d73ead": {
      "model_module": "@jupyter-widgets/controls",
      "model_module_version": "1.4.0",
      "model_name": "SliderStyleModel",
      "state": {
       "description_width": ""
      }
     },
     "83864197013c422ea3576d42305a9a2c": {
      "model_module": "@jupyter-widgets/base",
      "model_module_version": "1.1.0",
      "model_name": "LayoutModel",
      "state": {
       "width": "42%"
      }
     },
     "85c9ac5d91594a188659377ed06c304d": {
      "model_module": "@jupyter-widgets/base",
      "model_module_version": "1.1.0",
      "model_name": "LayoutModel",
      "state": {}
     },
     "87dbbd26f1d64a4eb8f392affd5b80c0": {
      "model_module": "@jupyter-widgets/base",
      "model_module_version": "1.1.0",
      "model_name": "LayoutModel",
      "state": {
       "justify_content": "center"
      }
     },
     "8db8764066f64d2383835cf8ba85a769": {
      "model_module": "@jupyter-widgets/controls",
      "model_module_version": "1.4.0",
      "model_name": "TextModel",
      "state": {
       "description": "Response(t+1) ",
       "disabled": true,
       "layout": "IPY_MODEL_a9d1b9a1d00f4a888612a3c609f0d10c",
       "style": "IPY_MODEL_40981a7a083f4622ba7768ab2b273685",
       "value": "4.90"
      }
     },
     "8f102acff5d94b9db39321529daa7463": {
      "model_module": "@jupyter-widgets/base",
      "model_module_version": "1.1.0",
      "model_name": "LayoutModel",
      "state": {
       "justify_content": "center"
      }
     },
     "8ffea09a11154986b0e8f0626a62f963": {
      "model_module": "@jupyter-widgets/controls",
      "model_module_version": "1.4.0",
      "model_name": "ButtonStyleModel",
      "state": {}
     },
     "935596d0f09c4302bb0aaca9fd8bf65a": {
      "model_module": "@jupyter-widgets/controls",
      "model_module_version": "1.4.0",
      "model_name": "HBoxModel",
      "state": {
       "children": [
        "IPY_MODEL_8db8764066f64d2383835cf8ba85a769",
        "IPY_MODEL_03e0cd42451847e98fa4c78e82f62d00"
       ],
       "layout": "IPY_MODEL_c7f4ac54e5384278a6891dd179d933c1"
      }
     },
     "936a663750bc43788789e099b30648f3": {
      "model_module": "@jupyter-widgets/base",
      "model_module_version": "1.1.0",
      "model_name": "LayoutModel",
      "state": {
       "width": "95%"
      }
     },
     "941823acf8ef46928c5438b430a3a8f4": {
      "model_module": "@jupyter-widgets/base",
      "model_module_version": "1.1.0",
      "model_name": "LayoutModel",
      "state": {}
     },
     "963c2a580dda400e9d632821f46e338c": {
      "model_module": "@jupyter-widgets/controls",
      "model_module_version": "1.4.0",
      "model_name": "ButtonModel",
      "state": {
       "description": "Administer Dose(t)",
       "disabled": true,
       "layout": "IPY_MODEL_2eedc88b87be4cc598862ac1d2e6f0b9",
       "style": "IPY_MODEL_13b4d94902704b9a9b87fbd0dba916e7"
      }
     },
     "968f7d4a292b49a8b6db3c7cea2bbfdf": {
      "model_module": "@jupyter-widgets/controls",
      "model_module_version": "1.4.0",
      "model_name": "DescriptionStyleModel",
      "state": {
       "description_width": ""
      }
     },
     "97012c8f2c76466aa94b3365fbeffb7f": {
      "model_module": "@jupyter-widgets/controls",
      "model_module_version": "1.4.0",
      "model_name": "ButtonStyleModel",
      "state": {}
     },
     "99a4482343a348cb8533af40674e5ebb": {
      "model_module": "@jupyter-widgets/controls",
      "model_module_version": "1.4.0",
      "model_name": "HBoxModel",
      "state": {
       "children": [
        "IPY_MODEL_6e88d1ff7f8247aca898c7dbf18e326c",
        "IPY_MODEL_67e28e2a37664868922fe99736ea2eab"
       ],
       "layout": "IPY_MODEL_1aa56fd36cad4c4fb404c0c9899988a2"
      }
     },
     "9e7bd315932c4f2da52faa1fd3998f3f": {
      "model_module": "@jupyter-widgets/controls",
      "model_module_version": "1.4.0",
      "model_name": "TextModel",
      "state": {
       "description": "Response(t+1) ",
       "disabled": true,
       "layout": "IPY_MODEL_3bcf9f46ff2449369608dfa3b874e388",
       "style": "IPY_MODEL_b153ae626c134e53bdc3384949b42132",
       "value": "6.93 (is more than 5.25)"
      }
     },
     "a18b1641358745289aec13347974280e": {
      "model_module": "@jupyter-widgets/controls",
      "model_module_version": "1.4.0",
      "model_name": "FloatSliderModel",
      "state": {
       "description": "Dose(t)",
       "layout": "IPY_MODEL_0b39633dfe9c4696ae1e7a9ad6fc8ce7",
       "max": 10,
       "min": -10,
       "step": 0.01,
       "style": "IPY_MODEL_a7df32eb62ae43b8afb786966e677103"
      }
     },
     "a38c6408e8d74800a029a5e9f03df1c0": {
      "model_module": "@jupyter-widgets/base",
      "model_module_version": "1.1.0",
      "model_name": "LayoutModel",
      "state": {}
     },
     "a5a97e4aaae248c6949af7cff7201e2a": {
      "model_module": "@jupyter-widgets/controls",
      "model_module_version": "1.4.0",
      "model_name": "TextModel",
      "state": {
       "description": "Next Step",
       "layout": "IPY_MODEL_85c9ac5d91594a188659377ed06c304d",
       "style": "IPY_MODEL_56d1312a2eef45698d78113e8c83fddd",
       "value": "Predict Response(t+1)  "
      }
     },
     "a7df32eb62ae43b8afb786966e677103": {
      "model_module": "@jupyter-widgets/controls",
      "model_module_version": "1.4.0",
      "model_name": "SliderStyleModel",
      "state": {
       "description_width": ""
      }
     },
     "a934bebe06a942ceae4e1ff38802d1a2": {
      "model_module": "@jupyter-widgets/controls",
      "model_module_version": "1.4.0",
      "model_name": "DescriptionStyleModel",
      "state": {
       "description_width": "initial"
      }
     },
     "a9d1b9a1d00f4a888612a3c609f0d10c": {
      "model_module": "@jupyter-widgets/base",
      "model_module_version": "1.1.0",
      "model_name": "LayoutModel",
      "state": {}
     },
     "ae4991a3f97c4b409a66d7a43f6482f6": {
      "model_module": "@jupyter-widgets/controls",
      "model_module_version": "1.4.0",
      "model_name": "ButtonStyleModel",
      "state": {}
     },
     "b153ae626c134e53bdc3384949b42132": {
      "model_module": "@jupyter-widgets/controls",
      "model_module_version": "1.4.0",
      "model_name": "DescriptionStyleModel",
      "state": {
       "description_width": "initial"
      }
     },
     "b199436d11cb4fe293f47852a0a28e7e": {
      "model_module": "@jupyter-widgets/base",
      "model_module_version": "1.1.0",
      "model_name": "LayoutModel",
      "state": {}
     },
     "b33631432e254b3982521671ebb0f71e": {
      "model_module": "@jupyter-widgets/base",
      "model_module_version": "1.1.0",
      "model_name": "LayoutModel",
      "state": {
       "width": "95%"
      }
     },
     "b3d7ba76564d488bb4b95b202cdceb96": {
      "model_module": "@jupyter-widgets/controls",
      "model_module_version": "1.4.0",
      "model_name": "SliderStyleModel",
      "state": {
       "description_width": ""
      }
     },
     "b48170f32c8e4f8ba81197998816d855": {
      "model_module": "@jupyter-widgets/controls",
      "model_module_version": "1.4.0",
      "model_name": "SliderStyleModel",
      "state": {
       "description_width": ""
      }
     },
     "b8839f8119d7447ba267cf5ca1b238c7": {
      "model_module": "@jupyter-widgets/controls",
      "model_module_version": "1.4.0",
      "model_name": "DescriptionStyleModel",
      "state": {
       "description_width": "initial"
      }
     },
     "b9169c4237734f928f4b01df729c2263": {
      "model_module": "@jupyter-widgets/base",
      "model_module_version": "1.1.0",
      "model_name": "LayoutModel",
      "state": {
       "justify_content": "center"
      }
     },
     "bc77b2a7fca5429cbfe7763d03d494f6": {
      "model_module": "@jupyter-widgets/base",
      "model_module_version": "1.1.0",
      "model_name": "LayoutModel",
      "state": {
       "width": "42%"
      }
     },
     "bd6ee27849ac42cc82371d07c9d643b6": {
      "model_module": "@jupyter-widgets/base",
      "model_module_version": "1.1.0",
      "model_name": "LayoutModel",
      "state": {
       "width": "42%"
      }
     },
     "c010b7152eeb4945894a5c0b4aa8d0e4": {
      "model_module": "@jupyter-widgets/controls",
      "model_module_version": "1.4.0",
      "model_name": "DescriptionStyleModel",
      "state": {
       "description_width": ""
      }
     },
     "c1be487cd0884ceb962a5afadfb02e64": {
      "model_module": "@jupyter-widgets/base",
      "model_module_version": "1.1.0",
      "model_name": "LayoutModel",
      "state": {
       "justify_content": "center"
      }
     },
     "c2a423067a3041e38c191180138701a5": {
      "model_module": "@jupyter-widgets/controls",
      "model_module_version": "1.4.0",
      "model_name": "ButtonStyleModel",
      "state": {}
     },
     "c4185a4c21b54d7a9d896832eee1f16f": {
      "model_module": "@jupyter-widgets/base",
      "model_module_version": "1.1.0",
      "model_name": "LayoutModel",
      "state": {}
     },
     "c7f4ac54e5384278a6891dd179d933c1": {
      "model_module": "@jupyter-widgets/base",
      "model_module_version": "1.1.0",
      "model_name": "LayoutModel",
      "state": {
       "justify_content": "center"
      }
     },
     "c8b7c46ea4ca42ba901cde11629f9cba": {
      "model_module": "@jupyter-widgets/controls",
      "model_module_version": "1.4.0",
      "model_name": "FloatSliderModel",
      "state": {
       "description": "Dose(t)",
       "layout": "IPY_MODEL_777ad53eb4214d3f983b387a974785c2",
       "max": 10,
       "min": -10,
       "step": 0.01,
       "style": "IPY_MODEL_d16f3954aba24bcc8c0abbd483b2cdd1",
       "value": 1.82
      }
     },
     "cbd9c89c22a8451a88de5437adcff7d6": {
      "model_module": "@jupyter-widgets/base",
      "model_module_version": "1.1.0",
      "model_name": "LayoutModel",
      "state": {
       "justify_content": "center"
      }
     },
     "cfad5f40eb6f46cd8b3581b426a7ae98": {
      "model_module": "@jupyter-widgets/base",
      "model_module_version": "1.1.0",
      "model_name": "LayoutModel",
      "state": {
       "width": "42%"
      }
     },
     "d005af7968254de89a6df51708ebb703": {
      "model_module": "@jupyter-widgets/controls",
      "model_module_version": "1.4.0",
      "model_name": "TextModel",
      "state": {
       "description": "Response(t+1) ",
       "disabled": true,
       "layout": "IPY_MODEL_b199436d11cb4fe293f47852a0a28e7e",
       "style": "IPY_MODEL_b8839f8119d7447ba267cf5ca1b238c7",
       "value": "  "
      }
     },
     "d036e8573f03408da42d8d5534c250ae": {
      "model_module": "@jupyter-widgets/controls",
      "model_module_version": "1.4.0",
      "model_name": "ButtonModel",
      "state": {
       "description": "Predict Response(t+1)",
       "layout": "IPY_MODEL_e2b66103361443278160b338941a31ac",
       "style": "IPY_MODEL_8ffea09a11154986b0e8f0626a62f963"
      }
     },
     "d16f3954aba24bcc8c0abbd483b2cdd1": {
      "model_module": "@jupyter-widgets/controls",
      "model_module_version": "1.4.0",
      "model_name": "SliderStyleModel",
      "state": {
       "description_width": ""
      }
     },
     "e1988a5aa4dc4bc2a507e12e6beb3a31": {
      "model_module": "@jupyter-widgets/controls",
      "model_module_version": "1.4.0",
      "model_name": "ButtonModel",
      "state": {
       "description": "Administer Dose(t)",
       "disabled": true,
       "layout": "IPY_MODEL_bc77b2a7fca5429cbfe7763d03d494f6",
       "style": "IPY_MODEL_97012c8f2c76466aa94b3365fbeffb7f"
      }
     },
     "e2b66103361443278160b338941a31ac": {
      "model_module": "@jupyter-widgets/base",
      "model_module_version": "1.1.0",
      "model_name": "LayoutModel",
      "state": {
       "width": "42%"
      }
     },
     "e333dd4c32264784873156309ad57cdd": {
      "model_module": "@jupyter-widgets/controls",
      "model_module_version": "1.4.0",
      "model_name": "ButtonModel",
      "state": {
       "description": "Administer Dose(t)",
       "disabled": true,
       "layout": "IPY_MODEL_4ac0edac95fa4ddc957eeb4bca8fa1f4",
       "style": "IPY_MODEL_26a812405eea4253a93b39eefb7b86e9"
      }
     },
     "e3620dccb9144eb681a161f8e357b5ac": {
      "model_module": "@jupyter-widgets/controls",
      "model_module_version": "1.4.0",
      "model_name": "FloatSliderModel",
      "state": {
       "description": "Dose(t)",
       "layout": "IPY_MODEL_936a663750bc43788789e099b30648f3",
       "max": 10,
       "min": -10,
       "step": 0.01,
       "style": "IPY_MODEL_7bf91f7803bb4378b74c0f83f9d73ead"
      }
     },
     "e82ec4c293a0420586df3c59390abade": {
      "model_module": "@jupyter-widgets/base",
      "model_module_version": "1.1.0",
      "model_name": "LayoutModel",
      "state": {
       "width": "42%"
      }
     },
     "e8599bd2a44349adb56784521e651176": {
      "model_module": "@jupyter-widgets/base",
      "model_module_version": "1.1.0",
      "model_name": "LayoutModel",
      "state": {
       "justify_content": "center"
      }
     },
     "e8d2bfa31b2345d9b6770adc27d9e13b": {
      "model_module": "@jupyter-widgets/controls",
      "model_module_version": "1.4.0",
      "model_name": "TextModel",
      "state": {
       "description": "Response(t+1) ",
       "disabled": true,
       "layout": "IPY_MODEL_49993292fef14d3b87f61e4c57a29f80",
       "style": "IPY_MODEL_0b15758c582e40ca8d5fed687c2d7cc5",
       "value": "4.86"
      }
     },
     "e94177a434e8442789604220fb18a082": {
      "model_module": "@jupyter-widgets/controls",
      "model_module_version": "1.4.0",
      "model_name": "HBoxModel",
      "state": {
       "children": [
        "IPY_MODEL_23e43d5663aa45b1837a11cc6423dc86",
        "IPY_MODEL_e333dd4c32264784873156309ad57cdd"
       ],
       "layout": "IPY_MODEL_cbd9c89c22a8451a88de5437adcff7d6"
      }
     },
     "eb9c5f8672ff4fd18894ebc109c60eda": {
      "model_module": "@jupyter-widgets/controls",
      "model_module_version": "1.4.0",
      "model_name": "ButtonStyleModel",
      "state": {}
     },
     "ecb7076df28b45d99581b461934ba6d1": {
      "model_module": "@jupyter-widgets/base",
      "model_module_version": "1.1.0",
      "model_name": "LayoutModel",
      "state": {
       "justify_content": "center"
      }
     },
     "edb82dc7e54b442f932c1af931fdffb4": {
      "model_module": "@jupyter-widgets/controls",
      "model_module_version": "1.4.0",
      "model_name": "ButtonModel",
      "state": {
       "description": "Predict Response(t+1)",
       "layout": "IPY_MODEL_83864197013c422ea3576d42305a9a2c",
       "style": "IPY_MODEL_c2a423067a3041e38c191180138701a5"
      }
     },
     "eff92387c36f4c4b8cca66708946cf10": {
      "model_module": "@jupyter-widgets/base",
      "model_module_version": "1.1.0",
      "model_name": "LayoutModel",
      "state": {}
     },
     "f35c730f044b47d2a2634f4c6abd2191": {
      "model_module": "@jupyter-widgets/controls",
      "model_module_version": "1.4.0",
      "model_name": "TextModel",
      "state": {
       "description": "Next Step",
       "layout": "IPY_MODEL_941823acf8ef46928c5438b430a3a8f4",
       "style": "IPY_MODEL_968f7d4a292b49a8b6db3c7cea2bbfdf",
       "value": "Predict Response(t+1)  "
      }
     },
     "f38acae4f32d4ee9a1344e90b97aca43": {
      "model_module": "@jupyter-widgets/base",
      "model_module_version": "1.1.0",
      "model_name": "LayoutModel",
      "state": {}
     },
     "f74717e57cb0445fb910baef614e652b": {
      "model_module": "@jupyter-widgets/base",
      "model_module_version": "1.1.0",
      "model_name": "LayoutModel",
      "state": {}
     },
     "f89aa0d3d86744c19422f1dd7f6d84aa": {
      "model_module": "@jupyter-widgets/base",
      "model_module_version": "1.1.0",
      "model_name": "LayoutModel",
      "state": {
       "width": "42%"
      }
     }
    },
    "version_major": 2,
    "version_minor": 0
   }
  }
 },
 "nbformat": 4,
 "nbformat_minor": 2
}
