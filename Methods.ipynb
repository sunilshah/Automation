{
 "cells": [
  {
   "cell_type": "markdown",
   "metadata": {},
   "source": [
    "#  Poor Control Inspite of Perfect Prediction  \n",
    "\n",
    "It seems logical that if you want to control something, you need to measure it and predict it. \n",
    "\n",
    "For example, if you want to achieve a particular health condition target like blood glucose level, measuring it, predicting its response to nutrition, exercise and medication seems sufficient. Once you can predict the response well, then achieving your goal of controlling it appears a matter of diligent execution. \n",
    "\n",
    "We all know from personal experience, that it is easier said than done. The problem is more fundamental than lack of will power or diligence.\n",
    "\n",
    "I want to systematically explore surprises that occur along the way. In doing so, I want to point out method (or protocol) pitfalls relating to human decisions. Sometimes, these pitfalls are present in computer automated processes.   \n",
    "\n",
    "Although I described a medical dose-response problem, the method pitfalls apply equally well to non-living processes.\n",
    "\n",
    "You will be making interactive decisions on a simulated example. Because this notebook uses interactions with you, the user, you should run each code cell manually rather than with `Run All` menu item or the `Run` button above."
   ]
  },
  {
   "cell_type": "code",
   "execution_count": 1,
   "metadata": {
    "scrolled": true
   },
   "outputs": [],
   "source": [
    "%matplotlib notebook\n",
    "import numpy as np\n",
    "import matplotlib.pyplot as plt\n",
    "from matplotlib import animation,rc\n",
    "#from IPython.display import HTML\n",
    "import ipywidgets"
   ]
  },
  {
   "cell_type": "markdown",
   "metadata": {},
   "source": [
    "###  Predict and Control\n",
    "\n",
    "In the simplest interactive problem below, you can first predict what the output will be when you choose a particular value for the input decision variable using the slider (like a medication dose).  Choose the best value you deem appropriate until the prediction hits the target reference and then execute the decision using the execute button. \n",
    "\n",
    "Your goal is to make the output equal to the fixed known target reference value. "
   ]
  },
  {
   "cell_type": "markdown",
   "metadata": {},
   "source": [
    "#### Perfect Prediction of Output to be Controlled\n",
    "\n",
    "Constant $A,B,C,D$  define a state space system. In discrete time, \n",
    "\n",
    "$$\\begin {align} x(t+1)=A*x(t)+B*u(t) \\\\ y(t)=C*x(t)+D*u(t) \\end {align}$$\n",
    "\n",
    "Initial state $x(0)=x_0$ is randomly chosen with a mean value of 5.  We assume further that there is no noise or disturbance in the system and the constants $A,B,C,D$ are known exactly.\n",
    "\n",
    "You will be able to predict perfectly because there is no noise and you have access to an exact determiniatic simulation. If you predict based upon an input value, you will get exactly the predicted output upon execution. You can keep changing the input until you hit the target output for the predicted value. \n",
    "\n",
    "This is a very ideal situation intended to illustrate a particular class of problems in controlling dynamical system. The dynamic system is first order, stable, with a time constant of about 2.8 and a steady state gain of 9.33. For the dose-response problem, it corresponds to a one compartment system operating in its linear (small signal) regime. "
   ]
  },
  {
   "cell_type": "code",
   "execution_count": 2,
   "metadata": {
    "scrolled": true
   },
   "outputs": [
    {
     "name": "stdout",
     "output_type": "stream",
     "text": [
      "Initial State x(0) =  5.36028806642055\n"
     ]
    }
   ],
   "source": [
    "#initialize a non-minimum phase stable state space system\n",
    "A=0.7;B=2.5;C=1;D=1;\n",
    "x_0=np.random.randn()*1+5;\n",
    "# x_0 can also be a fixed deterministic value\n",
    "#   x_0 = 6.0\n",
    "print(\"Initial State x(0) = \", x_0)\n"
   ]
  },
  {
   "cell_type": "markdown",
   "metadata": {},
   "source": [
    "###  Interactive Prediction and Control\n",
    "\n",
    "Now, let us see what happens when you adjust the input dose $u(t)$ to make the output response $y(t)$ close to ref = 5.0.  \n",
    "\n",
    "Before you actually execute the decision with a particular value of input dose u(t), you can move the slider input, then hit the `Predict Response(t+1)` button to see the predicted y.  Prediction does not propagate the state, it merely uses the current state and the input to compute the predicted y(t+1). When you are satisfied with the value u(t), you can commit and hit the `Administer Dose(t)` button, which results in propagation of the state space recursion. The actual response will be exactly equal to the predicted value.\n",
    "\n",
    "The `Next Step` will give you hints for next step such as to increase or decrease the trial input Dose u(t).  Highlighted buttons are available for interaction.  When the predicted output response y(t+1) is within range, it will allow you to administer the Dose. For the very first time, $t=1$, you need not bring the response within range to administer the dose. \n",
    " \n",
    "First, we lay out the interaction and propagation of the system. Then we display the progress of your interaction with this dynamical system."
   ]
  },
  {
   "cell_type": "code",
   "execution_count": 3,
   "metadata": {
    "scrolled": false
   },
   "outputs": [
    {
     "data": {
      "application/vnd.jupyter.widget-view+json": {
       "model_id": "4763a37985c14ae69805f7acfe9e0a63",
       "version_major": 2,
       "version_minor": 0
      },
      "text/plain": [
       "FloatSlider(value=0.0, description='Dose(t)', layout=Layout(width='95%'), max=10.0, min=-10.0, step=0.01)"
      ]
     },
     "metadata": {},
     "output_type": "display_data"
    },
    {
     "data": {
      "application/vnd.jupyter.widget-view+json": {
       "model_id": "72bfe74783814ddd9736d2aaa010bf20",
       "version_major": 2,
       "version_minor": 0
      },
      "text/plain": [
       "HBox(children=(Text(value='  ', description='Response(t+1) ', disabled=True, style=DescriptionStyle(descriptio…"
      ]
     },
     "metadata": {},
     "output_type": "display_data"
    },
    {
     "data": {
      "application/vnd.jupyter.widget-view+json": {
       "model_id": "29ffeb9cbd8445c2b8fc173a79833169",
       "version_major": 2,
       "version_minor": 0
      },
      "text/plain": [
       "HBox(children=(Button(description='Predict Response(t+1)', layout=Layout(width='42%'), style=ButtonStyle()), B…"
      ]
     },
     "metadata": {},
     "output_type": "display_data"
    },
    {
     "data": {
      "application/javascript": [
       "/* Put everything inside the global mpl namespace */\n",
       "window.mpl = {};\n",
       "\n",
       "\n",
       "mpl.get_websocket_type = function() {\n",
       "    if (typeof(WebSocket) !== 'undefined') {\n",
       "        return WebSocket;\n",
       "    } else if (typeof(MozWebSocket) !== 'undefined') {\n",
       "        return MozWebSocket;\n",
       "    } else {\n",
       "        alert('Your browser does not have WebSocket support. ' +\n",
       "              'Please try Chrome, Safari or Firefox ≥ 6. ' +\n",
       "              'Firefox 4 and 5 are also supported but you ' +\n",
       "              'have to enable WebSockets in about:config.');\n",
       "    };\n",
       "}\n",
       "\n",
       "mpl.figure = function(figure_id, websocket, ondownload, parent_element) {\n",
       "    this.id = figure_id;\n",
       "\n",
       "    this.ws = websocket;\n",
       "\n",
       "    this.supports_binary = (this.ws.binaryType != undefined);\n",
       "\n",
       "    if (!this.supports_binary) {\n",
       "        var warnings = document.getElementById(\"mpl-warnings\");\n",
       "        if (warnings) {\n",
       "            warnings.style.display = 'block';\n",
       "            warnings.textContent = (\n",
       "                \"This browser does not support binary websocket messages. \" +\n",
       "                    \"Performance may be slow.\");\n",
       "        }\n",
       "    }\n",
       "\n",
       "    this.imageObj = new Image();\n",
       "\n",
       "    this.context = undefined;\n",
       "    this.message = undefined;\n",
       "    this.canvas = undefined;\n",
       "    this.rubberband_canvas = undefined;\n",
       "    this.rubberband_context = undefined;\n",
       "    this.format_dropdown = undefined;\n",
       "\n",
       "    this.image_mode = 'full';\n",
       "\n",
       "    this.root = $('<div/>');\n",
       "    this._root_extra_style(this.root)\n",
       "    this.root.attr('style', 'display: inline-block');\n",
       "\n",
       "    $(parent_element).append(this.root);\n",
       "\n",
       "    this._init_header(this);\n",
       "    this._init_canvas(this);\n",
       "    this._init_toolbar(this);\n",
       "\n",
       "    var fig = this;\n",
       "\n",
       "    this.waiting = false;\n",
       "\n",
       "    this.ws.onopen =  function () {\n",
       "            fig.send_message(\"supports_binary\", {value: fig.supports_binary});\n",
       "            fig.send_message(\"send_image_mode\", {});\n",
       "            if (mpl.ratio != 1) {\n",
       "                fig.send_message(\"set_dpi_ratio\", {'dpi_ratio': mpl.ratio});\n",
       "            }\n",
       "            fig.send_message(\"refresh\", {});\n",
       "        }\n",
       "\n",
       "    this.imageObj.onload = function() {\n",
       "            if (fig.image_mode == 'full') {\n",
       "                // Full images could contain transparency (where diff images\n",
       "                // almost always do), so we need to clear the canvas so that\n",
       "                // there is no ghosting.\n",
       "                fig.context.clearRect(0, 0, fig.canvas.width, fig.canvas.height);\n",
       "            }\n",
       "            fig.context.drawImage(fig.imageObj, 0, 0);\n",
       "        };\n",
       "\n",
       "    this.imageObj.onunload = function() {\n",
       "        fig.ws.close();\n",
       "    }\n",
       "\n",
       "    this.ws.onmessage = this._make_on_message_function(this);\n",
       "\n",
       "    this.ondownload = ondownload;\n",
       "}\n",
       "\n",
       "mpl.figure.prototype._init_header = function() {\n",
       "    var titlebar = $(\n",
       "        '<div class=\"ui-dialog-titlebar ui-widget-header ui-corner-all ' +\n",
       "        'ui-helper-clearfix\"/>');\n",
       "    var titletext = $(\n",
       "        '<div class=\"ui-dialog-title\" style=\"width: 100%; ' +\n",
       "        'text-align: center; padding: 3px;\"/>');\n",
       "    titlebar.append(titletext)\n",
       "    this.root.append(titlebar);\n",
       "    this.header = titletext[0];\n",
       "}\n",
       "\n",
       "\n",
       "\n",
       "mpl.figure.prototype._canvas_extra_style = function(canvas_div) {\n",
       "\n",
       "}\n",
       "\n",
       "\n",
       "mpl.figure.prototype._root_extra_style = function(canvas_div) {\n",
       "\n",
       "}\n",
       "\n",
       "mpl.figure.prototype._init_canvas = function() {\n",
       "    var fig = this;\n",
       "\n",
       "    var canvas_div = $('<div/>');\n",
       "\n",
       "    canvas_div.attr('style', 'position: relative; clear: both; outline: 0');\n",
       "\n",
       "    function canvas_keyboard_event(event) {\n",
       "        return fig.key_event(event, event['data']);\n",
       "    }\n",
       "\n",
       "    canvas_div.keydown('key_press', canvas_keyboard_event);\n",
       "    canvas_div.keyup('key_release', canvas_keyboard_event);\n",
       "    this.canvas_div = canvas_div\n",
       "    this._canvas_extra_style(canvas_div)\n",
       "    this.root.append(canvas_div);\n",
       "\n",
       "    var canvas = $('<canvas/>');\n",
       "    canvas.addClass('mpl-canvas');\n",
       "    canvas.attr('style', \"left: 0; top: 0; z-index: 0; outline: 0\")\n",
       "\n",
       "    this.canvas = canvas[0];\n",
       "    this.context = canvas[0].getContext(\"2d\");\n",
       "\n",
       "    var backingStore = this.context.backingStorePixelRatio ||\n",
       "\tthis.context.webkitBackingStorePixelRatio ||\n",
       "\tthis.context.mozBackingStorePixelRatio ||\n",
       "\tthis.context.msBackingStorePixelRatio ||\n",
       "\tthis.context.oBackingStorePixelRatio ||\n",
       "\tthis.context.backingStorePixelRatio || 1;\n",
       "\n",
       "    mpl.ratio = (window.devicePixelRatio || 1) / backingStore;\n",
       "\n",
       "    var rubberband = $('<canvas/>');\n",
       "    rubberband.attr('style', \"position: absolute; left: 0; top: 0; z-index: 1;\")\n",
       "\n",
       "    var pass_mouse_events = true;\n",
       "\n",
       "    canvas_div.resizable({\n",
       "        start: function(event, ui) {\n",
       "            pass_mouse_events = false;\n",
       "        },\n",
       "        resize: function(event, ui) {\n",
       "            fig.request_resize(ui.size.width, ui.size.height);\n",
       "        },\n",
       "        stop: function(event, ui) {\n",
       "            pass_mouse_events = true;\n",
       "            fig.request_resize(ui.size.width, ui.size.height);\n",
       "        },\n",
       "    });\n",
       "\n",
       "    function mouse_event_fn(event) {\n",
       "        if (pass_mouse_events)\n",
       "            return fig.mouse_event(event, event['data']);\n",
       "    }\n",
       "\n",
       "    rubberband.mousedown('button_press', mouse_event_fn);\n",
       "    rubberband.mouseup('button_release', mouse_event_fn);\n",
       "    // Throttle sequential mouse events to 1 every 20ms.\n",
       "    rubberband.mousemove('motion_notify', mouse_event_fn);\n",
       "\n",
       "    rubberband.mouseenter('figure_enter', mouse_event_fn);\n",
       "    rubberband.mouseleave('figure_leave', mouse_event_fn);\n",
       "\n",
       "    canvas_div.on(\"wheel\", function (event) {\n",
       "        event = event.originalEvent;\n",
       "        event['data'] = 'scroll'\n",
       "        if (event.deltaY < 0) {\n",
       "            event.step = 1;\n",
       "        } else {\n",
       "            event.step = -1;\n",
       "        }\n",
       "        mouse_event_fn(event);\n",
       "    });\n",
       "\n",
       "    canvas_div.append(canvas);\n",
       "    canvas_div.append(rubberband);\n",
       "\n",
       "    this.rubberband = rubberband;\n",
       "    this.rubberband_canvas = rubberband[0];\n",
       "    this.rubberband_context = rubberband[0].getContext(\"2d\");\n",
       "    this.rubberband_context.strokeStyle = \"#000000\";\n",
       "\n",
       "    this._resize_canvas = function(width, height) {\n",
       "        // Keep the size of the canvas, canvas container, and rubber band\n",
       "        // canvas in synch.\n",
       "        canvas_div.css('width', width)\n",
       "        canvas_div.css('height', height)\n",
       "\n",
       "        canvas.attr('width', width * mpl.ratio);\n",
       "        canvas.attr('height', height * mpl.ratio);\n",
       "        canvas.attr('style', 'width: ' + width + 'px; height: ' + height + 'px;');\n",
       "\n",
       "        rubberband.attr('width', width);\n",
       "        rubberband.attr('height', height);\n",
       "    }\n",
       "\n",
       "    // Set the figure to an initial 600x600px, this will subsequently be updated\n",
       "    // upon first draw.\n",
       "    this._resize_canvas(600, 600);\n",
       "\n",
       "    // Disable right mouse context menu.\n",
       "    $(this.rubberband_canvas).bind(\"contextmenu\",function(e){\n",
       "        return false;\n",
       "    });\n",
       "\n",
       "    function set_focus () {\n",
       "        canvas.focus();\n",
       "        canvas_div.focus();\n",
       "    }\n",
       "\n",
       "    window.setTimeout(set_focus, 100);\n",
       "}\n",
       "\n",
       "mpl.figure.prototype._init_toolbar = function() {\n",
       "    var fig = this;\n",
       "\n",
       "    var nav_element = $('<div/>');\n",
       "    nav_element.attr('style', 'width: 100%');\n",
       "    this.root.append(nav_element);\n",
       "\n",
       "    // Define a callback function for later on.\n",
       "    function toolbar_event(event) {\n",
       "        return fig.toolbar_button_onclick(event['data']);\n",
       "    }\n",
       "    function toolbar_mouse_event(event) {\n",
       "        return fig.toolbar_button_onmouseover(event['data']);\n",
       "    }\n",
       "\n",
       "    for(var toolbar_ind in mpl.toolbar_items) {\n",
       "        var name = mpl.toolbar_items[toolbar_ind][0];\n",
       "        var tooltip = mpl.toolbar_items[toolbar_ind][1];\n",
       "        var image = mpl.toolbar_items[toolbar_ind][2];\n",
       "        var method_name = mpl.toolbar_items[toolbar_ind][3];\n",
       "\n",
       "        if (!name) {\n",
       "            // put a spacer in here.\n",
       "            continue;\n",
       "        }\n",
       "        var button = $('<button/>');\n",
       "        button.addClass('ui-button ui-widget ui-state-default ui-corner-all ' +\n",
       "                        'ui-button-icon-only');\n",
       "        button.attr('role', 'button');\n",
       "        button.attr('aria-disabled', 'false');\n",
       "        button.click(method_name, toolbar_event);\n",
       "        button.mouseover(tooltip, toolbar_mouse_event);\n",
       "\n",
       "        var icon_img = $('<span/>');\n",
       "        icon_img.addClass('ui-button-icon-primary ui-icon');\n",
       "        icon_img.addClass(image);\n",
       "        icon_img.addClass('ui-corner-all');\n",
       "\n",
       "        var tooltip_span = $('<span/>');\n",
       "        tooltip_span.addClass('ui-button-text');\n",
       "        tooltip_span.html(tooltip);\n",
       "\n",
       "        button.append(icon_img);\n",
       "        button.append(tooltip_span);\n",
       "\n",
       "        nav_element.append(button);\n",
       "    }\n",
       "\n",
       "    var fmt_picker_span = $('<span/>');\n",
       "\n",
       "    var fmt_picker = $('<select/>');\n",
       "    fmt_picker.addClass('mpl-toolbar-option ui-widget ui-widget-content');\n",
       "    fmt_picker_span.append(fmt_picker);\n",
       "    nav_element.append(fmt_picker_span);\n",
       "    this.format_dropdown = fmt_picker[0];\n",
       "\n",
       "    for (var ind in mpl.extensions) {\n",
       "        var fmt = mpl.extensions[ind];\n",
       "        var option = $(\n",
       "            '<option/>', {selected: fmt === mpl.default_extension}).html(fmt);\n",
       "        fmt_picker.append(option);\n",
       "    }\n",
       "\n",
       "    // Add hover states to the ui-buttons\n",
       "    $( \".ui-button\" ).hover(\n",
       "        function() { $(this).addClass(\"ui-state-hover\");},\n",
       "        function() { $(this).removeClass(\"ui-state-hover\");}\n",
       "    );\n",
       "\n",
       "    var status_bar = $('<span class=\"mpl-message\"/>');\n",
       "    nav_element.append(status_bar);\n",
       "    this.message = status_bar[0];\n",
       "}\n",
       "\n",
       "mpl.figure.prototype.request_resize = function(x_pixels, y_pixels) {\n",
       "    // Request matplotlib to resize the figure. Matplotlib will then trigger a resize in the client,\n",
       "    // which will in turn request a refresh of the image.\n",
       "    this.send_message('resize', {'width': x_pixels, 'height': y_pixels});\n",
       "}\n",
       "\n",
       "mpl.figure.prototype.send_message = function(type, properties) {\n",
       "    properties['type'] = type;\n",
       "    properties['figure_id'] = this.id;\n",
       "    this.ws.send(JSON.stringify(properties));\n",
       "}\n",
       "\n",
       "mpl.figure.prototype.send_draw_message = function() {\n",
       "    if (!this.waiting) {\n",
       "        this.waiting = true;\n",
       "        this.ws.send(JSON.stringify({type: \"draw\", figure_id: this.id}));\n",
       "    }\n",
       "}\n",
       "\n",
       "\n",
       "mpl.figure.prototype.handle_save = function(fig, msg) {\n",
       "    var format_dropdown = fig.format_dropdown;\n",
       "    var format = format_dropdown.options[format_dropdown.selectedIndex].value;\n",
       "    fig.ondownload(fig, format);\n",
       "}\n",
       "\n",
       "\n",
       "mpl.figure.prototype.handle_resize = function(fig, msg) {\n",
       "    var size = msg['size'];\n",
       "    if (size[0] != fig.canvas.width || size[1] != fig.canvas.height) {\n",
       "        fig._resize_canvas(size[0], size[1]);\n",
       "        fig.send_message(\"refresh\", {});\n",
       "    };\n",
       "}\n",
       "\n",
       "mpl.figure.prototype.handle_rubberband = function(fig, msg) {\n",
       "    var x0 = msg['x0'] / mpl.ratio;\n",
       "    var y0 = (fig.canvas.height - msg['y0']) / mpl.ratio;\n",
       "    var x1 = msg['x1'] / mpl.ratio;\n",
       "    var y1 = (fig.canvas.height - msg['y1']) / mpl.ratio;\n",
       "    x0 = Math.floor(x0) + 0.5;\n",
       "    y0 = Math.floor(y0) + 0.5;\n",
       "    x1 = Math.floor(x1) + 0.5;\n",
       "    y1 = Math.floor(y1) + 0.5;\n",
       "    var min_x = Math.min(x0, x1);\n",
       "    var min_y = Math.min(y0, y1);\n",
       "    var width = Math.abs(x1 - x0);\n",
       "    var height = Math.abs(y1 - y0);\n",
       "\n",
       "    fig.rubberband_context.clearRect(\n",
       "        0, 0, fig.canvas.width, fig.canvas.height);\n",
       "\n",
       "    fig.rubberband_context.strokeRect(min_x, min_y, width, height);\n",
       "}\n",
       "\n",
       "mpl.figure.prototype.handle_figure_label = function(fig, msg) {\n",
       "    // Updates the figure title.\n",
       "    fig.header.textContent = msg['label'];\n",
       "}\n",
       "\n",
       "mpl.figure.prototype.handle_cursor = function(fig, msg) {\n",
       "    var cursor = msg['cursor'];\n",
       "    switch(cursor)\n",
       "    {\n",
       "    case 0:\n",
       "        cursor = 'pointer';\n",
       "        break;\n",
       "    case 1:\n",
       "        cursor = 'default';\n",
       "        break;\n",
       "    case 2:\n",
       "        cursor = 'crosshair';\n",
       "        break;\n",
       "    case 3:\n",
       "        cursor = 'move';\n",
       "        break;\n",
       "    }\n",
       "    fig.rubberband_canvas.style.cursor = cursor;\n",
       "}\n",
       "\n",
       "mpl.figure.prototype.handle_message = function(fig, msg) {\n",
       "    fig.message.textContent = msg['message'];\n",
       "}\n",
       "\n",
       "mpl.figure.prototype.handle_draw = function(fig, msg) {\n",
       "    // Request the server to send over a new figure.\n",
       "    fig.send_draw_message();\n",
       "}\n",
       "\n",
       "mpl.figure.prototype.handle_image_mode = function(fig, msg) {\n",
       "    fig.image_mode = msg['mode'];\n",
       "}\n",
       "\n",
       "mpl.figure.prototype.updated_canvas_event = function() {\n",
       "    // Called whenever the canvas gets updated.\n",
       "    this.send_message(\"ack\", {});\n",
       "}\n",
       "\n",
       "// A function to construct a web socket function for onmessage handling.\n",
       "// Called in the figure constructor.\n",
       "mpl.figure.prototype._make_on_message_function = function(fig) {\n",
       "    return function socket_on_message(evt) {\n",
       "        if (evt.data instanceof Blob) {\n",
       "            /* FIXME: We get \"Resource interpreted as Image but\n",
       "             * transferred with MIME type text/plain:\" errors on\n",
       "             * Chrome.  But how to set the MIME type?  It doesn't seem\n",
       "             * to be part of the websocket stream */\n",
       "            evt.data.type = \"image/png\";\n",
       "\n",
       "            /* Free the memory for the previous frames */\n",
       "            if (fig.imageObj.src) {\n",
       "                (window.URL || window.webkitURL).revokeObjectURL(\n",
       "                    fig.imageObj.src);\n",
       "            }\n",
       "\n",
       "            fig.imageObj.src = (window.URL || window.webkitURL).createObjectURL(\n",
       "                evt.data);\n",
       "            fig.updated_canvas_event();\n",
       "            fig.waiting = false;\n",
       "            return;\n",
       "        }\n",
       "        else if (typeof evt.data === 'string' && evt.data.slice(0, 21) == \"data:image/png;base64\") {\n",
       "            fig.imageObj.src = evt.data;\n",
       "            fig.updated_canvas_event();\n",
       "            fig.waiting = false;\n",
       "            return;\n",
       "        }\n",
       "\n",
       "        var msg = JSON.parse(evt.data);\n",
       "        var msg_type = msg['type'];\n",
       "\n",
       "        // Call the  \"handle_{type}\" callback, which takes\n",
       "        // the figure and JSON message as its only arguments.\n",
       "        try {\n",
       "            var callback = fig[\"handle_\" + msg_type];\n",
       "        } catch (e) {\n",
       "            console.log(\"No handler for the '\" + msg_type + \"' message type: \", msg);\n",
       "            return;\n",
       "        }\n",
       "\n",
       "        if (callback) {\n",
       "            try {\n",
       "                // console.log(\"Handling '\" + msg_type + \"' message: \", msg);\n",
       "                callback(fig, msg);\n",
       "            } catch (e) {\n",
       "                console.log(\"Exception inside the 'handler_\" + msg_type + \"' callback:\", e, e.stack, msg);\n",
       "            }\n",
       "        }\n",
       "    };\n",
       "}\n",
       "\n",
       "// from http://stackoverflow.com/questions/1114465/getting-mouse-location-in-canvas\n",
       "mpl.findpos = function(e) {\n",
       "    //this section is from http://www.quirksmode.org/js/events_properties.html\n",
       "    var targ;\n",
       "    if (!e)\n",
       "        e = window.event;\n",
       "    if (e.target)\n",
       "        targ = e.target;\n",
       "    else if (e.srcElement)\n",
       "        targ = e.srcElement;\n",
       "    if (targ.nodeType == 3) // defeat Safari bug\n",
       "        targ = targ.parentNode;\n",
       "\n",
       "    // jQuery normalizes the pageX and pageY\n",
       "    // pageX,Y are the mouse positions relative to the document\n",
       "    // offset() returns the position of the element relative to the document\n",
       "    var x = e.pageX - $(targ).offset().left;\n",
       "    var y = e.pageY - $(targ).offset().top;\n",
       "\n",
       "    return {\"x\": x, \"y\": y};\n",
       "};\n",
       "\n",
       "/*\n",
       " * return a copy of an object with only non-object keys\n",
       " * we need this to avoid circular references\n",
       " * http://stackoverflow.com/a/24161582/3208463\n",
       " */\n",
       "function simpleKeys (original) {\n",
       "  return Object.keys(original).reduce(function (obj, key) {\n",
       "    if (typeof original[key] !== 'object')\n",
       "        obj[key] = original[key]\n",
       "    return obj;\n",
       "  }, {});\n",
       "}\n",
       "\n",
       "mpl.figure.prototype.mouse_event = function(event, name) {\n",
       "    var canvas_pos = mpl.findpos(event)\n",
       "\n",
       "    if (name === 'button_press')\n",
       "    {\n",
       "        this.canvas.focus();\n",
       "        this.canvas_div.focus();\n",
       "    }\n",
       "\n",
       "    var x = canvas_pos.x * mpl.ratio;\n",
       "    var y = canvas_pos.y * mpl.ratio;\n",
       "\n",
       "    this.send_message(name, {x: x, y: y, button: event.button,\n",
       "                             step: event.step,\n",
       "                             guiEvent: simpleKeys(event)});\n",
       "\n",
       "    /* This prevents the web browser from automatically changing to\n",
       "     * the text insertion cursor when the button is pressed.  We want\n",
       "     * to control all of the cursor setting manually through the\n",
       "     * 'cursor' event from matplotlib */\n",
       "    event.preventDefault();\n",
       "    return false;\n",
       "}\n",
       "\n",
       "mpl.figure.prototype._key_event_extra = function(event, name) {\n",
       "    // Handle any extra behaviour associated with a key event\n",
       "}\n",
       "\n",
       "mpl.figure.prototype.key_event = function(event, name) {\n",
       "\n",
       "    // Prevent repeat events\n",
       "    if (name == 'key_press')\n",
       "    {\n",
       "        if (event.which === this._key)\n",
       "            return;\n",
       "        else\n",
       "            this._key = event.which;\n",
       "    }\n",
       "    if (name == 'key_release')\n",
       "        this._key = null;\n",
       "\n",
       "    var value = '';\n",
       "    if (event.ctrlKey && event.which != 17)\n",
       "        value += \"ctrl+\";\n",
       "    if (event.altKey && event.which != 18)\n",
       "        value += \"alt+\";\n",
       "    if (event.shiftKey && event.which != 16)\n",
       "        value += \"shift+\";\n",
       "\n",
       "    value += 'k';\n",
       "    value += event.which.toString();\n",
       "\n",
       "    this._key_event_extra(event, name);\n",
       "\n",
       "    this.send_message(name, {key: value,\n",
       "                             guiEvent: simpleKeys(event)});\n",
       "    return false;\n",
       "}\n",
       "\n",
       "mpl.figure.prototype.toolbar_button_onclick = function(name) {\n",
       "    if (name == 'download') {\n",
       "        this.handle_save(this, null);\n",
       "    } else {\n",
       "        this.send_message(\"toolbar_button\", {name: name});\n",
       "    }\n",
       "};\n",
       "\n",
       "mpl.figure.prototype.toolbar_button_onmouseover = function(tooltip) {\n",
       "    this.message.textContent = tooltip;\n",
       "};\n",
       "mpl.toolbar_items = [[\"Home\", \"Reset original view\", \"fa fa-home icon-home\", \"home\"], [\"Back\", \"Back to previous view\", \"fa fa-arrow-left icon-arrow-left\", \"back\"], [\"Forward\", \"Forward to next view\", \"fa fa-arrow-right icon-arrow-right\", \"forward\"], [\"\", \"\", \"\", \"\"], [\"Pan\", \"Pan axes with left mouse, zoom with right\", \"fa fa-arrows icon-move\", \"pan\"], [\"Zoom\", \"Zoom to rectangle\", \"fa fa-square-o icon-check-empty\", \"zoom\"], [\"\", \"\", \"\", \"\"], [\"Download\", \"Download plot\", \"fa fa-floppy-o icon-save\", \"download\"]];\n",
       "\n",
       "mpl.extensions = [\"eps\", \"pdf\", \"png\", \"ps\", \"raw\", \"svg\"];\n",
       "\n",
       "mpl.default_extension = \"png\";var comm_websocket_adapter = function(comm) {\n",
       "    // Create a \"websocket\"-like object which calls the given IPython comm\n",
       "    // object with the appropriate methods. Currently this is a non binary\n",
       "    // socket, so there is still some room for performance tuning.\n",
       "    var ws = {};\n",
       "\n",
       "    ws.close = function() {\n",
       "        comm.close()\n",
       "    };\n",
       "    ws.send = function(m) {\n",
       "        //console.log('sending', m);\n",
       "        comm.send(m);\n",
       "    };\n",
       "    // Register the callback with on_msg.\n",
       "    comm.on_msg(function(msg) {\n",
       "        //console.log('receiving', msg['content']['data'], msg);\n",
       "        // Pass the mpl event to the overridden (by mpl) onmessage function.\n",
       "        ws.onmessage(msg['content']['data'])\n",
       "    });\n",
       "    return ws;\n",
       "}\n",
       "\n",
       "mpl.mpl_figure_comm = function(comm, msg) {\n",
       "    // This is the function which gets called when the mpl process\n",
       "    // starts-up an IPython Comm through the \"matplotlib\" channel.\n",
       "\n",
       "    var id = msg.content.data.id;\n",
       "    // Get hold of the div created by the display call when the Comm\n",
       "    // socket was opened in Python.\n",
       "    var element = $(\"#\" + id);\n",
       "    var ws_proxy = comm_websocket_adapter(comm)\n",
       "\n",
       "    function ondownload(figure, format) {\n",
       "        window.open(figure.imageObj.src);\n",
       "    }\n",
       "\n",
       "    var fig = new mpl.figure(id, ws_proxy,\n",
       "                           ondownload,\n",
       "                           element.get(0));\n",
       "\n",
       "    // Call onopen now - mpl needs it, as it is assuming we've passed it a real\n",
       "    // web socket which is closed, not our websocket->open comm proxy.\n",
       "    ws_proxy.onopen();\n",
       "\n",
       "    fig.parent_element = element.get(0);\n",
       "    fig.cell_info = mpl.find_output_cell(\"<div id='\" + id + \"'></div>\");\n",
       "    if (!fig.cell_info) {\n",
       "        console.error(\"Failed to find cell for figure\", id, fig);\n",
       "        return;\n",
       "    }\n",
       "\n",
       "    var output_index = fig.cell_info[2]\n",
       "    var cell = fig.cell_info[0];\n",
       "\n",
       "};\n",
       "\n",
       "mpl.figure.prototype.handle_close = function(fig, msg) {\n",
       "    var width = fig.canvas.width/mpl.ratio\n",
       "    fig.root.unbind('remove')\n",
       "\n",
       "    // Update the output cell to use the data from the current canvas.\n",
       "    fig.push_to_output();\n",
       "    var dataURL = fig.canvas.toDataURL();\n",
       "    // Re-enable the keyboard manager in IPython - without this line, in FF,\n",
       "    // the notebook keyboard shortcuts fail.\n",
       "    IPython.keyboard_manager.enable()\n",
       "    $(fig.parent_element).html('<img src=\"' + dataURL + '\" width=\"' + width + '\">');\n",
       "    fig.close_ws(fig, msg);\n",
       "}\n",
       "\n",
       "mpl.figure.prototype.close_ws = function(fig, msg){\n",
       "    fig.send_message('closing', msg);\n",
       "    // fig.ws.close()\n",
       "}\n",
       "\n",
       "mpl.figure.prototype.push_to_output = function(remove_interactive) {\n",
       "    // Turn the data on the canvas into data in the output cell.\n",
       "    var width = this.canvas.width/mpl.ratio\n",
       "    var dataURL = this.canvas.toDataURL();\n",
       "    this.cell_info[1]['text/html'] = '<img src=\"' + dataURL + '\" width=\"' + width + '\">';\n",
       "}\n",
       "\n",
       "mpl.figure.prototype.updated_canvas_event = function() {\n",
       "    // Tell IPython that the notebook contents must change.\n",
       "    IPython.notebook.set_dirty(true);\n",
       "    this.send_message(\"ack\", {});\n",
       "    var fig = this;\n",
       "    // Wait a second, then push the new image to the DOM so\n",
       "    // that it is saved nicely (might be nice to debounce this).\n",
       "    setTimeout(function () { fig.push_to_output() }, 1000);\n",
       "}\n",
       "\n",
       "mpl.figure.prototype._init_toolbar = function() {\n",
       "    var fig = this;\n",
       "\n",
       "    var nav_element = $('<div/>');\n",
       "    nav_element.attr('style', 'width: 100%');\n",
       "    this.root.append(nav_element);\n",
       "\n",
       "    // Define a callback function for later on.\n",
       "    function toolbar_event(event) {\n",
       "        return fig.toolbar_button_onclick(event['data']);\n",
       "    }\n",
       "    function toolbar_mouse_event(event) {\n",
       "        return fig.toolbar_button_onmouseover(event['data']);\n",
       "    }\n",
       "\n",
       "    for(var toolbar_ind in mpl.toolbar_items){\n",
       "        var name = mpl.toolbar_items[toolbar_ind][0];\n",
       "        var tooltip = mpl.toolbar_items[toolbar_ind][1];\n",
       "        var image = mpl.toolbar_items[toolbar_ind][2];\n",
       "        var method_name = mpl.toolbar_items[toolbar_ind][3];\n",
       "\n",
       "        if (!name) { continue; };\n",
       "\n",
       "        var button = $('<button class=\"btn btn-default\" href=\"#\" title=\"' + name + '\"><i class=\"fa ' + image + ' fa-lg\"></i></button>');\n",
       "        button.click(method_name, toolbar_event);\n",
       "        button.mouseover(tooltip, toolbar_mouse_event);\n",
       "        nav_element.append(button);\n",
       "    }\n",
       "\n",
       "    // Add the status bar.\n",
       "    var status_bar = $('<span class=\"mpl-message\" style=\"text-align:right; float: right;\"/>');\n",
       "    nav_element.append(status_bar);\n",
       "    this.message = status_bar[0];\n",
       "\n",
       "    // Add the close button to the window.\n",
       "    var buttongrp = $('<div class=\"btn-group inline pull-right\"></div>');\n",
       "    var button = $('<button class=\"btn btn-mini btn-primary\" href=\"#\" title=\"Stop Interaction\"><i class=\"fa fa-power-off icon-remove icon-large\"></i></button>');\n",
       "    button.click(function (evt) { fig.handle_close(fig, {}); } );\n",
       "    button.mouseover('Stop Interaction', toolbar_mouse_event);\n",
       "    buttongrp.append(button);\n",
       "    var titlebar = this.root.find($('.ui-dialog-titlebar'));\n",
       "    titlebar.prepend(buttongrp);\n",
       "}\n",
       "\n",
       "mpl.figure.prototype._root_extra_style = function(el){\n",
       "    var fig = this\n",
       "    el.on(\"remove\", function(){\n",
       "\tfig.close_ws(fig, {});\n",
       "    });\n",
       "}\n",
       "\n",
       "mpl.figure.prototype._canvas_extra_style = function(el){\n",
       "    // this is important to make the div 'focusable\n",
       "    el.attr('tabindex', 0)\n",
       "    // reach out to IPython and tell the keyboard manager to turn it's self\n",
       "    // off when our div gets focus\n",
       "\n",
       "    // location in version 3\n",
       "    if (IPython.notebook.keyboard_manager) {\n",
       "        IPython.notebook.keyboard_manager.register_events(el);\n",
       "    }\n",
       "    else {\n",
       "        // location in version 2\n",
       "        IPython.keyboard_manager.register_events(el);\n",
       "    }\n",
       "\n",
       "}\n",
       "\n",
       "mpl.figure.prototype._key_event_extra = function(event, name) {\n",
       "    var manager = IPython.notebook.keyboard_manager;\n",
       "    if (!manager)\n",
       "        manager = IPython.keyboard_manager;\n",
       "\n",
       "    // Check for shift+enter\n",
       "    if (event.shiftKey && event.which == 13) {\n",
       "        this.canvas_div.blur();\n",
       "        event.shiftKey = false;\n",
       "        // Send a \"J\" for go to next cell\n",
       "        event.which = 74;\n",
       "        event.keyCode = 74;\n",
       "        manager.command_mode();\n",
       "        manager.handle_keydown(event);\n",
       "    }\n",
       "}\n",
       "\n",
       "mpl.figure.prototype.handle_save = function(fig, msg) {\n",
       "    fig.ondownload(fig, null);\n",
       "}\n",
       "\n",
       "\n",
       "mpl.find_output_cell = function(html_output) {\n",
       "    // Return the cell and output element which can be found *uniquely* in the notebook.\n",
       "    // Note - this is a bit hacky, but it is done because the \"notebook_saving.Notebook\"\n",
       "    // IPython event is triggered only after the cells have been serialised, which for\n",
       "    // our purposes (turning an active figure into a static one), is too late.\n",
       "    var cells = IPython.notebook.get_cells();\n",
       "    var ncells = cells.length;\n",
       "    for (var i=0; i<ncells; i++) {\n",
       "        var cell = cells[i];\n",
       "        if (cell.cell_type === 'code'){\n",
       "            for (var j=0; j<cell.output_area.outputs.length; j++) {\n",
       "                var data = cell.output_area.outputs[j];\n",
       "                if (data.data) {\n",
       "                    // IPython >= 3 moved mimebundle to data attribute of output\n",
       "                    data = data.data;\n",
       "                }\n",
       "                if (data['text/html'] == html_output) {\n",
       "                    return [cell, data, j];\n",
       "                }\n",
       "            }\n",
       "        }\n",
       "    }\n",
       "}\n",
       "\n",
       "// Register the function which deals with the matplotlib target/channel.\n",
       "// The kernel may be null if the page has been refreshed.\n",
       "if (IPython.notebook.kernel != null) {\n",
       "    IPython.notebook.kernel.comm_manager.register_target('matplotlib', mpl.mpl_figure_comm);\n",
       "}\n"
      ],
      "text/plain": [
       "<IPython.core.display.Javascript object>"
      ]
     },
     "metadata": {},
     "output_type": "display_data"
    },
    {
     "data": {
      "text/html": [
       "<img src=\"data:image/png;base64,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\" width=\"1050\">"
      ],
      "text/plain": [
       "<IPython.core.display.HTML object>"
      ]
     },
     "metadata": {},
     "output_type": "display_data"
    }
   ],
   "source": [
    "#  Define display interaction widgets\n",
    "a1=ipywidgets.FloatSlider(description='Dose(t)',min=-10.0,max=10.0,\n",
    "                          step=.01,layout=ipywidgets.Layout(width='95%'))\n",
    "nudge_text=ipywidgets.Text(description=\"Next Step\",\n",
    "                           value='Predict Response(t+1)  ')   \n",
    "y_text=ipywidgets.Text(description='Response(t+1) ',value='  '\n",
    "                       ,style={'description_width':'initial'})\n",
    "#  Define data storage vectors for plotting\n",
    "nT=11;\n",
    "t_data=np.linspace(0,nT-1,nT)   # time\n",
    "y_data=np.zeros(nT)             # output response\n",
    "y_data.fill(np.nan)\n",
    "x_data=np.zeros(nT)             # states\n",
    "x_data.fill(np.nan)\n",
    "u_data=np.zeros(nT)             # input\n",
    "u_data.fill(np.nan)\n",
    "y_limits=np.zeros(nT)           \n",
    "y_limits[0:2].fill(np.nan)  # index t=0,1 no limits\n",
    "t=0;\n",
    "x=x_0;      # Initialize state\n",
    "x_data[0]=x\n",
    "threshold=.25   # absolute error needs to be less than this   \n",
    "ref=5\n",
    "u_upper_limit=10\n",
    "u_lower_limit=-10\n",
    "y_str_upper=' (is more than '+'{:.4}'.format(str(ref+threshold)) +')'\n",
    "y_str_lower=' (is less than '+'{:.4}'.format(str(ref-threshold))+')'\n",
    "# \"Predict y (t+1)\": for given input u and state x\n",
    "def on_pred_clicked(b):\n",
    "    global x,t\n",
    "    u=a1.value\n",
    "    y_pred=C*x+D*u\n",
    "    y_str='{:.4}'.format(str(C*x+D*u))\n",
    "    exec_button.disabled=True    # disable exec button \n",
    "    if y_pred > ref+threshold:       # Prediction too high\n",
    "        if u <= u_lower_limit:\n",
    "            nudge_text.value='Hit lower tox limit'\n",
    "        else:  \n",
    "            nudge_text.value='Reduce dose(t) and Predict'\n",
    "            y_text.value = y_str+y_str_upper  \n",
    "    elif y_pred < ref-threshold:     # prediction too low\n",
    "        if u >= u_upper_limit:\n",
    "            nudge_text.value='Hit upper tox limit'\n",
    "        else: \n",
    "            nudge_text.value ='Increase dose(t) and Predict'\n",
    "            y_text.value=y_str+y_str_lower\n",
    "    else:                       # pediction in range\n",
    "        y_text.value=y_str + ' (in range)'\n",
    "        nudge_text.value ='Administer dose(t)'\n",
    "        exec_button.disabled=False      # enable exec button\n",
    "        pred_button.disabled=True       # disable predict button\n",
    "    if t==0:\n",
    "        exec_button.disabled=False          #   Do not restrict to strict prediction\n",
    "        pred_button.disabled=False          #  \n",
    "           \n",
    "# \"Execute u (t)\": for given input u, computes y and propagates state x using u\n",
    "def on_exec_clicked(b):\n",
    "    global x,t,nT\n",
    "    if t+1 <= nT-1:\n",
    "        u=a1.value\n",
    "        u_data[t]=u\n",
    "        y=C*x+D*u\n",
    "        y_data[t+1]=y\n",
    "     \n",
    "        y_text.value='{:.4}'.format(str(y))\n",
    "        x_data[t+1]=x\n",
    "        x=A*x+B*u # propagate state\n",
    "        t=t+1\n",
    "        plot_progress()\n",
    "        nudge_text.value='Predict Response(t+1)'\n",
    "        pred_button.disabled=False         # Enable predict button   \n",
    "        exec_button.disabled=True          # Disable exec button\n",
    "    else:\n",
    "        nudge_text.value='Successful Completion'\n",
    "        pred_button.disabled=True\n",
    "        exec_button.disabled=True\n",
    "# plot data progress\n",
    "def plot_progress():\n",
    "    global t_data,x_data,y_data,u_data,y_line,u_line,x_line\n",
    "    y_line.set_ydata(y_data)\n",
    "    u_line.set_ydata(u_data)\n",
    "    x_line.set_ydata(x_data)\n",
    "    \n",
    "exec_button=ipywidgets.Button(description=\"Administer Dose(t)\",disabled=True,\n",
    "                              layout=ipywidgets.Layout(width='42%'))\n",
    "exec_button.on_click(on_exec_clicked)\n",
    "pred_button=ipywidgets.Button(description=\"Predict Response(t+1)\",disabled=False,\n",
    "                              layout=ipywidgets.Layout(width='42%'))\n",
    "pred_button.on_click(on_pred_clicked)\n",
    "\n",
    "#  Layout action buttons and info boxes\n",
    "action_box=ipywidgets.HBox([pred_button,exec_button],\n",
    "                          layout=ipywidgets.Layout(justify_content='center'))\n",
    "info_box=ipywidgets.HBox([y_text,nudge_text],\n",
    "                        layout=ipywidgets.Layout(justify_content='center'))\n",
    "y_text.disabled=True;\n",
    "display(a1)\n",
    "display(info_box)\n",
    "display(action_box)\n",
    "fig1=plt.figure(1,figsize=(10.5,3.5))\n",
    "ax1=fig1.add_subplot(1,2,1)\n",
    "y_line,yl2,yl3 = ax1.plot(t_data,y_data,'b',\n",
    "                          t_data,y_limits+ref+threshold,'r',\n",
    "                          t_data,y_limits+ref-threshold,'r')\n",
    "plt.grid(True)\n",
    "plt.xlim(0,10)\n",
    "plt.ylim(4,6)\n",
    "plt.xlabel('Time')\n",
    "plt.ylabel('Response')\n",
    "ax2=fig1.add_subplot(1,2,2)\n",
    "u_line,  = ax2.plot(t_data,u_data)\n",
    "x_line,  = ax2.plot(t_data,x_data)\n",
    "plt.legend((x_line,u_line),('State x','Dose'))\n",
    "plt.grid(True)\n",
    "plt.xlim(0,10)\n",
    "plt.ylim(-10,10)\n",
    "plt.xlabel('Time');\n"
   ]
  },
  {
   "cell_type": "markdown",
   "metadata": {},
   "source": [
    "If you have been dilligent about bringing prediction close to the target at each time point, you will see \n",
    "that while the output remains tightly regulated, both inputs $u(t)$ and state $x(t)$ are oscillating and blowing up! \n",
    "\n",
    "So, with prefect prediction and output control, this system often blows up in attempting to control it tightly.\n",
    "\n",
    "On the other hand, for some initial states, if you happen to do just enough to get the response in the range an not move the input much you will successfully complete the ten steps. You can go back to the code cell that assinged the initial state and excute the subsequent code cells to get a better sense of the issue.\n",
    "\n",
    "One is reminded of the adage \"Be careful what you wish for\" and \"Unintended consequences\".  It is remarkable that this happens with a trivially simple, stable, eniterly deterministic and predictable linear dynamical system."
   ]
  },
  {
   "cell_type": "code",
   "execution_count": 4,
   "metadata": {
    "scrolled": false
   },
   "outputs": [
    {
     "name": "stdout",
     "output_type": "stream",
     "text": [
      "Saved y(t) values: [       nan 5.19028807 4.78720165 5.12904115 4.90032881 4.98223016\n",
      " 4.81956112        nan        nan        nan        nan]\n",
      "Saved u(t) values: [-0.17  1.46 -0.85  2.84 -3.56  7.74   nan   nan   nan   nan   nan]\n"
     ]
    },
    {
     "data": {
      "application/javascript": [
       "/* Put everything inside the global mpl namespace */\n",
       "window.mpl = {};\n",
       "\n",
       "\n",
       "mpl.get_websocket_type = function() {\n",
       "    if (typeof(WebSocket) !== 'undefined') {\n",
       "        return WebSocket;\n",
       "    } else if (typeof(MozWebSocket) !== 'undefined') {\n",
       "        return MozWebSocket;\n",
       "    } else {\n",
       "        alert('Your browser does not have WebSocket support. ' +\n",
       "              'Please try Chrome, Safari or Firefox ≥ 6. ' +\n",
       "              'Firefox 4 and 5 are also supported but you ' +\n",
       "              'have to enable WebSockets in about:config.');\n",
       "    };\n",
       "}\n",
       "\n",
       "mpl.figure = function(figure_id, websocket, ondownload, parent_element) {\n",
       "    this.id = figure_id;\n",
       "\n",
       "    this.ws = websocket;\n",
       "\n",
       "    this.supports_binary = (this.ws.binaryType != undefined);\n",
       "\n",
       "    if (!this.supports_binary) {\n",
       "        var warnings = document.getElementById(\"mpl-warnings\");\n",
       "        if (warnings) {\n",
       "            warnings.style.display = 'block';\n",
       "            warnings.textContent = (\n",
       "                \"This browser does not support binary websocket messages. \" +\n",
       "                    \"Performance may be slow.\");\n",
       "        }\n",
       "    }\n",
       "\n",
       "    this.imageObj = new Image();\n",
       "\n",
       "    this.context = undefined;\n",
       "    this.message = undefined;\n",
       "    this.canvas = undefined;\n",
       "    this.rubberband_canvas = undefined;\n",
       "    this.rubberband_context = undefined;\n",
       "    this.format_dropdown = undefined;\n",
       "\n",
       "    this.image_mode = 'full';\n",
       "\n",
       "    this.root = $('<div/>');\n",
       "    this._root_extra_style(this.root)\n",
       "    this.root.attr('style', 'display: inline-block');\n",
       "\n",
       "    $(parent_element).append(this.root);\n",
       "\n",
       "    this._init_header(this);\n",
       "    this._init_canvas(this);\n",
       "    this._init_toolbar(this);\n",
       "\n",
       "    var fig = this;\n",
       "\n",
       "    this.waiting = false;\n",
       "\n",
       "    this.ws.onopen =  function () {\n",
       "            fig.send_message(\"supports_binary\", {value: fig.supports_binary});\n",
       "            fig.send_message(\"send_image_mode\", {});\n",
       "            if (mpl.ratio != 1) {\n",
       "                fig.send_message(\"set_dpi_ratio\", {'dpi_ratio': mpl.ratio});\n",
       "            }\n",
       "            fig.send_message(\"refresh\", {});\n",
       "        }\n",
       "\n",
       "    this.imageObj.onload = function() {\n",
       "            if (fig.image_mode == 'full') {\n",
       "                // Full images could contain transparency (where diff images\n",
       "                // almost always do), so we need to clear the canvas so that\n",
       "                // there is no ghosting.\n",
       "                fig.context.clearRect(0, 0, fig.canvas.width, fig.canvas.height);\n",
       "            }\n",
       "            fig.context.drawImage(fig.imageObj, 0, 0);\n",
       "        };\n",
       "\n",
       "    this.imageObj.onunload = function() {\n",
       "        fig.ws.close();\n",
       "    }\n",
       "\n",
       "    this.ws.onmessage = this._make_on_message_function(this);\n",
       "\n",
       "    this.ondownload = ondownload;\n",
       "}\n",
       "\n",
       "mpl.figure.prototype._init_header = function() {\n",
       "    var titlebar = $(\n",
       "        '<div class=\"ui-dialog-titlebar ui-widget-header ui-corner-all ' +\n",
       "        'ui-helper-clearfix\"/>');\n",
       "    var titletext = $(\n",
       "        '<div class=\"ui-dialog-title\" style=\"width: 100%; ' +\n",
       "        'text-align: center; padding: 3px;\"/>');\n",
       "    titlebar.append(titletext)\n",
       "    this.root.append(titlebar);\n",
       "    this.header = titletext[0];\n",
       "}\n",
       "\n",
       "\n",
       "\n",
       "mpl.figure.prototype._canvas_extra_style = function(canvas_div) {\n",
       "\n",
       "}\n",
       "\n",
       "\n",
       "mpl.figure.prototype._root_extra_style = function(canvas_div) {\n",
       "\n",
       "}\n",
       "\n",
       "mpl.figure.prototype._init_canvas = function() {\n",
       "    var fig = this;\n",
       "\n",
       "    var canvas_div = $('<div/>');\n",
       "\n",
       "    canvas_div.attr('style', 'position: relative; clear: both; outline: 0');\n",
       "\n",
       "    function canvas_keyboard_event(event) {\n",
       "        return fig.key_event(event, event['data']);\n",
       "    }\n",
       "\n",
       "    canvas_div.keydown('key_press', canvas_keyboard_event);\n",
       "    canvas_div.keyup('key_release', canvas_keyboard_event);\n",
       "    this.canvas_div = canvas_div\n",
       "    this._canvas_extra_style(canvas_div)\n",
       "    this.root.append(canvas_div);\n",
       "\n",
       "    var canvas = $('<canvas/>');\n",
       "    canvas.addClass('mpl-canvas');\n",
       "    canvas.attr('style', \"left: 0; top: 0; z-index: 0; outline: 0\")\n",
       "\n",
       "    this.canvas = canvas[0];\n",
       "    this.context = canvas[0].getContext(\"2d\");\n",
       "\n",
       "    var backingStore = this.context.backingStorePixelRatio ||\n",
       "\tthis.context.webkitBackingStorePixelRatio ||\n",
       "\tthis.context.mozBackingStorePixelRatio ||\n",
       "\tthis.context.msBackingStorePixelRatio ||\n",
       "\tthis.context.oBackingStorePixelRatio ||\n",
       "\tthis.context.backingStorePixelRatio || 1;\n",
       "\n",
       "    mpl.ratio = (window.devicePixelRatio || 1) / backingStore;\n",
       "\n",
       "    var rubberband = $('<canvas/>');\n",
       "    rubberband.attr('style', \"position: absolute; left: 0; top: 0; z-index: 1;\")\n",
       "\n",
       "    var pass_mouse_events = true;\n",
       "\n",
       "    canvas_div.resizable({\n",
       "        start: function(event, ui) {\n",
       "            pass_mouse_events = false;\n",
       "        },\n",
       "        resize: function(event, ui) {\n",
       "            fig.request_resize(ui.size.width, ui.size.height);\n",
       "        },\n",
       "        stop: function(event, ui) {\n",
       "            pass_mouse_events = true;\n",
       "            fig.request_resize(ui.size.width, ui.size.height);\n",
       "        },\n",
       "    });\n",
       "\n",
       "    function mouse_event_fn(event) {\n",
       "        if (pass_mouse_events)\n",
       "            return fig.mouse_event(event, event['data']);\n",
       "    }\n",
       "\n",
       "    rubberband.mousedown('button_press', mouse_event_fn);\n",
       "    rubberband.mouseup('button_release', mouse_event_fn);\n",
       "    // Throttle sequential mouse events to 1 every 20ms.\n",
       "    rubberband.mousemove('motion_notify', mouse_event_fn);\n",
       "\n",
       "    rubberband.mouseenter('figure_enter', mouse_event_fn);\n",
       "    rubberband.mouseleave('figure_leave', mouse_event_fn);\n",
       "\n",
       "    canvas_div.on(\"wheel\", function (event) {\n",
       "        event = event.originalEvent;\n",
       "        event['data'] = 'scroll'\n",
       "        if (event.deltaY < 0) {\n",
       "            event.step = 1;\n",
       "        } else {\n",
       "            event.step = -1;\n",
       "        }\n",
       "        mouse_event_fn(event);\n",
       "    });\n",
       "\n",
       "    canvas_div.append(canvas);\n",
       "    canvas_div.append(rubberband);\n",
       "\n",
       "    this.rubberband = rubberband;\n",
       "    this.rubberband_canvas = rubberband[0];\n",
       "    this.rubberband_context = rubberband[0].getContext(\"2d\");\n",
       "    this.rubberband_context.strokeStyle = \"#000000\";\n",
       "\n",
       "    this._resize_canvas = function(width, height) {\n",
       "        // Keep the size of the canvas, canvas container, and rubber band\n",
       "        // canvas in synch.\n",
       "        canvas_div.css('width', width)\n",
       "        canvas_div.css('height', height)\n",
       "\n",
       "        canvas.attr('width', width * mpl.ratio);\n",
       "        canvas.attr('height', height * mpl.ratio);\n",
       "        canvas.attr('style', 'width: ' + width + 'px; height: ' + height + 'px;');\n",
       "\n",
       "        rubberband.attr('width', width);\n",
       "        rubberband.attr('height', height);\n",
       "    }\n",
       "\n",
       "    // Set the figure to an initial 600x600px, this will subsequently be updated\n",
       "    // upon first draw.\n",
       "    this._resize_canvas(600, 600);\n",
       "\n",
       "    // Disable right mouse context menu.\n",
       "    $(this.rubberband_canvas).bind(\"contextmenu\",function(e){\n",
       "        return false;\n",
       "    });\n",
       "\n",
       "    function set_focus () {\n",
       "        canvas.focus();\n",
       "        canvas_div.focus();\n",
       "    }\n",
       "\n",
       "    window.setTimeout(set_focus, 100);\n",
       "}\n",
       "\n",
       "mpl.figure.prototype._init_toolbar = function() {\n",
       "    var fig = this;\n",
       "\n",
       "    var nav_element = $('<div/>');\n",
       "    nav_element.attr('style', 'width: 100%');\n",
       "    this.root.append(nav_element);\n",
       "\n",
       "    // Define a callback function for later on.\n",
       "    function toolbar_event(event) {\n",
       "        return fig.toolbar_button_onclick(event['data']);\n",
       "    }\n",
       "    function toolbar_mouse_event(event) {\n",
       "        return fig.toolbar_button_onmouseover(event['data']);\n",
       "    }\n",
       "\n",
       "    for(var toolbar_ind in mpl.toolbar_items) {\n",
       "        var name = mpl.toolbar_items[toolbar_ind][0];\n",
       "        var tooltip = mpl.toolbar_items[toolbar_ind][1];\n",
       "        var image = mpl.toolbar_items[toolbar_ind][2];\n",
       "        var method_name = mpl.toolbar_items[toolbar_ind][3];\n",
       "\n",
       "        if (!name) {\n",
       "            // put a spacer in here.\n",
       "            continue;\n",
       "        }\n",
       "        var button = $('<button/>');\n",
       "        button.addClass('ui-button ui-widget ui-state-default ui-corner-all ' +\n",
       "                        'ui-button-icon-only');\n",
       "        button.attr('role', 'button');\n",
       "        button.attr('aria-disabled', 'false');\n",
       "        button.click(method_name, toolbar_event);\n",
       "        button.mouseover(tooltip, toolbar_mouse_event);\n",
       "\n",
       "        var icon_img = $('<span/>');\n",
       "        icon_img.addClass('ui-button-icon-primary ui-icon');\n",
       "        icon_img.addClass(image);\n",
       "        icon_img.addClass('ui-corner-all');\n",
       "\n",
       "        var tooltip_span = $('<span/>');\n",
       "        tooltip_span.addClass('ui-button-text');\n",
       "        tooltip_span.html(tooltip);\n",
       "\n",
       "        button.append(icon_img);\n",
       "        button.append(tooltip_span);\n",
       "\n",
       "        nav_element.append(button);\n",
       "    }\n",
       "\n",
       "    var fmt_picker_span = $('<span/>');\n",
       "\n",
       "    var fmt_picker = $('<select/>');\n",
       "    fmt_picker.addClass('mpl-toolbar-option ui-widget ui-widget-content');\n",
       "    fmt_picker_span.append(fmt_picker);\n",
       "    nav_element.append(fmt_picker_span);\n",
       "    this.format_dropdown = fmt_picker[0];\n",
       "\n",
       "    for (var ind in mpl.extensions) {\n",
       "        var fmt = mpl.extensions[ind];\n",
       "        var option = $(\n",
       "            '<option/>', {selected: fmt === mpl.default_extension}).html(fmt);\n",
       "        fmt_picker.append(option);\n",
       "    }\n",
       "\n",
       "    // Add hover states to the ui-buttons\n",
       "    $( \".ui-button\" ).hover(\n",
       "        function() { $(this).addClass(\"ui-state-hover\");},\n",
       "        function() { $(this).removeClass(\"ui-state-hover\");}\n",
       "    );\n",
       "\n",
       "    var status_bar = $('<span class=\"mpl-message\"/>');\n",
       "    nav_element.append(status_bar);\n",
       "    this.message = status_bar[0];\n",
       "}\n",
       "\n",
       "mpl.figure.prototype.request_resize = function(x_pixels, y_pixels) {\n",
       "    // Request matplotlib to resize the figure. Matplotlib will then trigger a resize in the client,\n",
       "    // which will in turn request a refresh of the image.\n",
       "    this.send_message('resize', {'width': x_pixels, 'height': y_pixels});\n",
       "}\n",
       "\n",
       "mpl.figure.prototype.send_message = function(type, properties) {\n",
       "    properties['type'] = type;\n",
       "    properties['figure_id'] = this.id;\n",
       "    this.ws.send(JSON.stringify(properties));\n",
       "}\n",
       "\n",
       "mpl.figure.prototype.send_draw_message = function() {\n",
       "    if (!this.waiting) {\n",
       "        this.waiting = true;\n",
       "        this.ws.send(JSON.stringify({type: \"draw\", figure_id: this.id}));\n",
       "    }\n",
       "}\n",
       "\n",
       "\n",
       "mpl.figure.prototype.handle_save = function(fig, msg) {\n",
       "    var format_dropdown = fig.format_dropdown;\n",
       "    var format = format_dropdown.options[format_dropdown.selectedIndex].value;\n",
       "    fig.ondownload(fig, format);\n",
       "}\n",
       "\n",
       "\n",
       "mpl.figure.prototype.handle_resize = function(fig, msg) {\n",
       "    var size = msg['size'];\n",
       "    if (size[0] != fig.canvas.width || size[1] != fig.canvas.height) {\n",
       "        fig._resize_canvas(size[0], size[1]);\n",
       "        fig.send_message(\"refresh\", {});\n",
       "    };\n",
       "}\n",
       "\n",
       "mpl.figure.prototype.handle_rubberband = function(fig, msg) {\n",
       "    var x0 = msg['x0'] / mpl.ratio;\n",
       "    var y0 = (fig.canvas.height - msg['y0']) / mpl.ratio;\n",
       "    var x1 = msg['x1'] / mpl.ratio;\n",
       "    var y1 = (fig.canvas.height - msg['y1']) / mpl.ratio;\n",
       "    x0 = Math.floor(x0) + 0.5;\n",
       "    y0 = Math.floor(y0) + 0.5;\n",
       "    x1 = Math.floor(x1) + 0.5;\n",
       "    y1 = Math.floor(y1) + 0.5;\n",
       "    var min_x = Math.min(x0, x1);\n",
       "    var min_y = Math.min(y0, y1);\n",
       "    var width = Math.abs(x1 - x0);\n",
       "    var height = Math.abs(y1 - y0);\n",
       "\n",
       "    fig.rubberband_context.clearRect(\n",
       "        0, 0, fig.canvas.width, fig.canvas.height);\n",
       "\n",
       "    fig.rubberband_context.strokeRect(min_x, min_y, width, height);\n",
       "}\n",
       "\n",
       "mpl.figure.prototype.handle_figure_label = function(fig, msg) {\n",
       "    // Updates the figure title.\n",
       "    fig.header.textContent = msg['label'];\n",
       "}\n",
       "\n",
       "mpl.figure.prototype.handle_cursor = function(fig, msg) {\n",
       "    var cursor = msg['cursor'];\n",
       "    switch(cursor)\n",
       "    {\n",
       "    case 0:\n",
       "        cursor = 'pointer';\n",
       "        break;\n",
       "    case 1:\n",
       "        cursor = 'default';\n",
       "        break;\n",
       "    case 2:\n",
       "        cursor = 'crosshair';\n",
       "        break;\n",
       "    case 3:\n",
       "        cursor = 'move';\n",
       "        break;\n",
       "    }\n",
       "    fig.rubberband_canvas.style.cursor = cursor;\n",
       "}\n",
       "\n",
       "mpl.figure.prototype.handle_message = function(fig, msg) {\n",
       "    fig.message.textContent = msg['message'];\n",
       "}\n",
       "\n",
       "mpl.figure.prototype.handle_draw = function(fig, msg) {\n",
       "    // Request the server to send over a new figure.\n",
       "    fig.send_draw_message();\n",
       "}\n",
       "\n",
       "mpl.figure.prototype.handle_image_mode = function(fig, msg) {\n",
       "    fig.image_mode = msg['mode'];\n",
       "}\n",
       "\n",
       "mpl.figure.prototype.updated_canvas_event = function() {\n",
       "    // Called whenever the canvas gets updated.\n",
       "    this.send_message(\"ack\", {});\n",
       "}\n",
       "\n",
       "// A function to construct a web socket function for onmessage handling.\n",
       "// Called in the figure constructor.\n",
       "mpl.figure.prototype._make_on_message_function = function(fig) {\n",
       "    return function socket_on_message(evt) {\n",
       "        if (evt.data instanceof Blob) {\n",
       "            /* FIXME: We get \"Resource interpreted as Image but\n",
       "             * transferred with MIME type text/plain:\" errors on\n",
       "             * Chrome.  But how to set the MIME type?  It doesn't seem\n",
       "             * to be part of the websocket stream */\n",
       "            evt.data.type = \"image/png\";\n",
       "\n",
       "            /* Free the memory for the previous frames */\n",
       "            if (fig.imageObj.src) {\n",
       "                (window.URL || window.webkitURL).revokeObjectURL(\n",
       "                    fig.imageObj.src);\n",
       "            }\n",
       "\n",
       "            fig.imageObj.src = (window.URL || window.webkitURL).createObjectURL(\n",
       "                evt.data);\n",
       "            fig.updated_canvas_event();\n",
       "            fig.waiting = false;\n",
       "            return;\n",
       "        }\n",
       "        else if (typeof evt.data === 'string' && evt.data.slice(0, 21) == \"data:image/png;base64\") {\n",
       "            fig.imageObj.src = evt.data;\n",
       "            fig.updated_canvas_event();\n",
       "            fig.waiting = false;\n",
       "            return;\n",
       "        }\n",
       "\n",
       "        var msg = JSON.parse(evt.data);\n",
       "        var msg_type = msg['type'];\n",
       "\n",
       "        // Call the  \"handle_{type}\" callback, which takes\n",
       "        // the figure and JSON message as its only arguments.\n",
       "        try {\n",
       "            var callback = fig[\"handle_\" + msg_type];\n",
       "        } catch (e) {\n",
       "            console.log(\"No handler for the '\" + msg_type + \"' message type: \", msg);\n",
       "            return;\n",
       "        }\n",
       "\n",
       "        if (callback) {\n",
       "            try {\n",
       "                // console.log(\"Handling '\" + msg_type + \"' message: \", msg);\n",
       "                callback(fig, msg);\n",
       "            } catch (e) {\n",
       "                console.log(\"Exception inside the 'handler_\" + msg_type + \"' callback:\", e, e.stack, msg);\n",
       "            }\n",
       "        }\n",
       "    };\n",
       "}\n",
       "\n",
       "// from http://stackoverflow.com/questions/1114465/getting-mouse-location-in-canvas\n",
       "mpl.findpos = function(e) {\n",
       "    //this section is from http://www.quirksmode.org/js/events_properties.html\n",
       "    var targ;\n",
       "    if (!e)\n",
       "        e = window.event;\n",
       "    if (e.target)\n",
       "        targ = e.target;\n",
       "    else if (e.srcElement)\n",
       "        targ = e.srcElement;\n",
       "    if (targ.nodeType == 3) // defeat Safari bug\n",
       "        targ = targ.parentNode;\n",
       "\n",
       "    // jQuery normalizes the pageX and pageY\n",
       "    // pageX,Y are the mouse positions relative to the document\n",
       "    // offset() returns the position of the element relative to the document\n",
       "    var x = e.pageX - $(targ).offset().left;\n",
       "    var y = e.pageY - $(targ).offset().top;\n",
       "\n",
       "    return {\"x\": x, \"y\": y};\n",
       "};\n",
       "\n",
       "/*\n",
       " * return a copy of an object with only non-object keys\n",
       " * we need this to avoid circular references\n",
       " * http://stackoverflow.com/a/24161582/3208463\n",
       " */\n",
       "function simpleKeys (original) {\n",
       "  return Object.keys(original).reduce(function (obj, key) {\n",
       "    if (typeof original[key] !== 'object')\n",
       "        obj[key] = original[key]\n",
       "    return obj;\n",
       "  }, {});\n",
       "}\n",
       "\n",
       "mpl.figure.prototype.mouse_event = function(event, name) {\n",
       "    var canvas_pos = mpl.findpos(event)\n",
       "\n",
       "    if (name === 'button_press')\n",
       "    {\n",
       "        this.canvas.focus();\n",
       "        this.canvas_div.focus();\n",
       "    }\n",
       "\n",
       "    var x = canvas_pos.x * mpl.ratio;\n",
       "    var y = canvas_pos.y * mpl.ratio;\n",
       "\n",
       "    this.send_message(name, {x: x, y: y, button: event.button,\n",
       "                             step: event.step,\n",
       "                             guiEvent: simpleKeys(event)});\n",
       "\n",
       "    /* This prevents the web browser from automatically changing to\n",
       "     * the text insertion cursor when the button is pressed.  We want\n",
       "     * to control all of the cursor setting manually through the\n",
       "     * 'cursor' event from matplotlib */\n",
       "    event.preventDefault();\n",
       "    return false;\n",
       "}\n",
       "\n",
       "mpl.figure.prototype._key_event_extra = function(event, name) {\n",
       "    // Handle any extra behaviour associated with a key event\n",
       "}\n",
       "\n",
       "mpl.figure.prototype.key_event = function(event, name) {\n",
       "\n",
       "    // Prevent repeat events\n",
       "    if (name == 'key_press')\n",
       "    {\n",
       "        if (event.which === this._key)\n",
       "            return;\n",
       "        else\n",
       "            this._key = event.which;\n",
       "    }\n",
       "    if (name == 'key_release')\n",
       "        this._key = null;\n",
       "\n",
       "    var value = '';\n",
       "    if (event.ctrlKey && event.which != 17)\n",
       "        value += \"ctrl+\";\n",
       "    if (event.altKey && event.which != 18)\n",
       "        value += \"alt+\";\n",
       "    if (event.shiftKey && event.which != 16)\n",
       "        value += \"shift+\";\n",
       "\n",
       "    value += 'k';\n",
       "    value += event.which.toString();\n",
       "\n",
       "    this._key_event_extra(event, name);\n",
       "\n",
       "    this.send_message(name, {key: value,\n",
       "                             guiEvent: simpleKeys(event)});\n",
       "    return false;\n",
       "}\n",
       "\n",
       "mpl.figure.prototype.toolbar_button_onclick = function(name) {\n",
       "    if (name == 'download') {\n",
       "        this.handle_save(this, null);\n",
       "    } else {\n",
       "        this.send_message(\"toolbar_button\", {name: name});\n",
       "    }\n",
       "};\n",
       "\n",
       "mpl.figure.prototype.toolbar_button_onmouseover = function(tooltip) {\n",
       "    this.message.textContent = tooltip;\n",
       "};\n",
       "mpl.toolbar_items = [[\"Home\", \"Reset original view\", \"fa fa-home icon-home\", \"home\"], [\"Back\", \"Back to previous view\", \"fa fa-arrow-left icon-arrow-left\", \"back\"], [\"Forward\", \"Forward to next view\", \"fa fa-arrow-right icon-arrow-right\", \"forward\"], [\"\", \"\", \"\", \"\"], [\"Pan\", \"Pan axes with left mouse, zoom with right\", \"fa fa-arrows icon-move\", \"pan\"], [\"Zoom\", \"Zoom to rectangle\", \"fa fa-square-o icon-check-empty\", \"zoom\"], [\"\", \"\", \"\", \"\"], [\"Download\", \"Download plot\", \"fa fa-floppy-o icon-save\", \"download\"]];\n",
       "\n",
       "mpl.extensions = [\"eps\", \"pdf\", \"png\", \"ps\", \"raw\", \"svg\"];\n",
       "\n",
       "mpl.default_extension = \"png\";var comm_websocket_adapter = function(comm) {\n",
       "    // Create a \"websocket\"-like object which calls the given IPython comm\n",
       "    // object with the appropriate methods. Currently this is a non binary\n",
       "    // socket, so there is still some room for performance tuning.\n",
       "    var ws = {};\n",
       "\n",
       "    ws.close = function() {\n",
       "        comm.close()\n",
       "    };\n",
       "    ws.send = function(m) {\n",
       "        //console.log('sending', m);\n",
       "        comm.send(m);\n",
       "    };\n",
       "    // Register the callback with on_msg.\n",
       "    comm.on_msg(function(msg) {\n",
       "        //console.log('receiving', msg['content']['data'], msg);\n",
       "        // Pass the mpl event to the overridden (by mpl) onmessage function.\n",
       "        ws.onmessage(msg['content']['data'])\n",
       "    });\n",
       "    return ws;\n",
       "}\n",
       "\n",
       "mpl.mpl_figure_comm = function(comm, msg) {\n",
       "    // This is the function which gets called when the mpl process\n",
       "    // starts-up an IPython Comm through the \"matplotlib\" channel.\n",
       "\n",
       "    var id = msg.content.data.id;\n",
       "    // Get hold of the div created by the display call when the Comm\n",
       "    // socket was opened in Python.\n",
       "    var element = $(\"#\" + id);\n",
       "    var ws_proxy = comm_websocket_adapter(comm)\n",
       "\n",
       "    function ondownload(figure, format) {\n",
       "        window.open(figure.imageObj.src);\n",
       "    }\n",
       "\n",
       "    var fig = new mpl.figure(id, ws_proxy,\n",
       "                           ondownload,\n",
       "                           element.get(0));\n",
       "\n",
       "    // Call onopen now - mpl needs it, as it is assuming we've passed it a real\n",
       "    // web socket which is closed, not our websocket->open comm proxy.\n",
       "    ws_proxy.onopen();\n",
       "\n",
       "    fig.parent_element = element.get(0);\n",
       "    fig.cell_info = mpl.find_output_cell(\"<div id='\" + id + \"'></div>\");\n",
       "    if (!fig.cell_info) {\n",
       "        console.error(\"Failed to find cell for figure\", id, fig);\n",
       "        return;\n",
       "    }\n",
       "\n",
       "    var output_index = fig.cell_info[2]\n",
       "    var cell = fig.cell_info[0];\n",
       "\n",
       "};\n",
       "\n",
       "mpl.figure.prototype.handle_close = function(fig, msg) {\n",
       "    var width = fig.canvas.width/mpl.ratio\n",
       "    fig.root.unbind('remove')\n",
       "\n",
       "    // Update the output cell to use the data from the current canvas.\n",
       "    fig.push_to_output();\n",
       "    var dataURL = fig.canvas.toDataURL();\n",
       "    // Re-enable the keyboard manager in IPython - without this line, in FF,\n",
       "    // the notebook keyboard shortcuts fail.\n",
       "    IPython.keyboard_manager.enable()\n",
       "    $(fig.parent_element).html('<img src=\"' + dataURL + '\" width=\"' + width + '\">');\n",
       "    fig.close_ws(fig, msg);\n",
       "}\n",
       "\n",
       "mpl.figure.prototype.close_ws = function(fig, msg){\n",
       "    fig.send_message('closing', msg);\n",
       "    // fig.ws.close()\n",
       "}\n",
       "\n",
       "mpl.figure.prototype.push_to_output = function(remove_interactive) {\n",
       "    // Turn the data on the canvas into data in the output cell.\n",
       "    var width = this.canvas.width/mpl.ratio\n",
       "    var dataURL = this.canvas.toDataURL();\n",
       "    this.cell_info[1]['text/html'] = '<img src=\"' + dataURL + '\" width=\"' + width + '\">';\n",
       "}\n",
       "\n",
       "mpl.figure.prototype.updated_canvas_event = function() {\n",
       "    // Tell IPython that the notebook contents must change.\n",
       "    IPython.notebook.set_dirty(true);\n",
       "    this.send_message(\"ack\", {});\n",
       "    var fig = this;\n",
       "    // Wait a second, then push the new image to the DOM so\n",
       "    // that it is saved nicely (might be nice to debounce this).\n",
       "    setTimeout(function () { fig.push_to_output() }, 1000);\n",
       "}\n",
       "\n",
       "mpl.figure.prototype._init_toolbar = function() {\n",
       "    var fig = this;\n",
       "\n",
       "    var nav_element = $('<div/>');\n",
       "    nav_element.attr('style', 'width: 100%');\n",
       "    this.root.append(nav_element);\n",
       "\n",
       "    // Define a callback function for later on.\n",
       "    function toolbar_event(event) {\n",
       "        return fig.toolbar_button_onclick(event['data']);\n",
       "    }\n",
       "    function toolbar_mouse_event(event) {\n",
       "        return fig.toolbar_button_onmouseover(event['data']);\n",
       "    }\n",
       "\n",
       "    for(var toolbar_ind in mpl.toolbar_items){\n",
       "        var name = mpl.toolbar_items[toolbar_ind][0];\n",
       "        var tooltip = mpl.toolbar_items[toolbar_ind][1];\n",
       "        var image = mpl.toolbar_items[toolbar_ind][2];\n",
       "        var method_name = mpl.toolbar_items[toolbar_ind][3];\n",
       "\n",
       "        if (!name) { continue; };\n",
       "\n",
       "        var button = $('<button class=\"btn btn-default\" href=\"#\" title=\"' + name + '\"><i class=\"fa ' + image + ' fa-lg\"></i></button>');\n",
       "        button.click(method_name, toolbar_event);\n",
       "        button.mouseover(tooltip, toolbar_mouse_event);\n",
       "        nav_element.append(button);\n",
       "    }\n",
       "\n",
       "    // Add the status bar.\n",
       "    var status_bar = $('<span class=\"mpl-message\" style=\"text-align:right; float: right;\"/>');\n",
       "    nav_element.append(status_bar);\n",
       "    this.message = status_bar[0];\n",
       "\n",
       "    // Add the close button to the window.\n",
       "    var buttongrp = $('<div class=\"btn-group inline pull-right\"></div>');\n",
       "    var button = $('<button class=\"btn btn-mini btn-primary\" href=\"#\" title=\"Stop Interaction\"><i class=\"fa fa-power-off icon-remove icon-large\"></i></button>');\n",
       "    button.click(function (evt) { fig.handle_close(fig, {}); } );\n",
       "    button.mouseover('Stop Interaction', toolbar_mouse_event);\n",
       "    buttongrp.append(button);\n",
       "    var titlebar = this.root.find($('.ui-dialog-titlebar'));\n",
       "    titlebar.prepend(buttongrp);\n",
       "}\n",
       "\n",
       "mpl.figure.prototype._root_extra_style = function(el){\n",
       "    var fig = this\n",
       "    el.on(\"remove\", function(){\n",
       "\tfig.close_ws(fig, {});\n",
       "    });\n",
       "}\n",
       "\n",
       "mpl.figure.prototype._canvas_extra_style = function(el){\n",
       "    // this is important to make the div 'focusable\n",
       "    el.attr('tabindex', 0)\n",
       "    // reach out to IPython and tell the keyboard manager to turn it's self\n",
       "    // off when our div gets focus\n",
       "\n",
       "    // location in version 3\n",
       "    if (IPython.notebook.keyboard_manager) {\n",
       "        IPython.notebook.keyboard_manager.register_events(el);\n",
       "    }\n",
       "    else {\n",
       "        // location in version 2\n",
       "        IPython.keyboard_manager.register_events(el);\n",
       "    }\n",
       "\n",
       "}\n",
       "\n",
       "mpl.figure.prototype._key_event_extra = function(event, name) {\n",
       "    var manager = IPython.notebook.keyboard_manager;\n",
       "    if (!manager)\n",
       "        manager = IPython.keyboard_manager;\n",
       "\n",
       "    // Check for shift+enter\n",
       "    if (event.shiftKey && event.which == 13) {\n",
       "        this.canvas_div.blur();\n",
       "        event.shiftKey = false;\n",
       "        // Send a \"J\" for go to next cell\n",
       "        event.which = 74;\n",
       "        event.keyCode = 74;\n",
       "        manager.command_mode();\n",
       "        manager.handle_keydown(event);\n",
       "    }\n",
       "}\n",
       "\n",
       "mpl.figure.prototype.handle_save = function(fig, msg) {\n",
       "    fig.ondownload(fig, null);\n",
       "}\n",
       "\n",
       "\n",
       "mpl.find_output_cell = function(html_output) {\n",
       "    // Return the cell and output element which can be found *uniquely* in the notebook.\n",
       "    // Note - this is a bit hacky, but it is done because the \"notebook_saving.Notebook\"\n",
       "    // IPython event is triggered only after the cells have been serialised, which for\n",
       "    // our purposes (turning an active figure into a static one), is too late.\n",
       "    var cells = IPython.notebook.get_cells();\n",
       "    var ncells = cells.length;\n",
       "    for (var i=0; i<ncells; i++) {\n",
       "        var cell = cells[i];\n",
       "        if (cell.cell_type === 'code'){\n",
       "            for (var j=0; j<cell.output_area.outputs.length; j++) {\n",
       "                var data = cell.output_area.outputs[j];\n",
       "                if (data.data) {\n",
       "                    // IPython >= 3 moved mimebundle to data attribute of output\n",
       "                    data = data.data;\n",
       "                }\n",
       "                if (data['text/html'] == html_output) {\n",
       "                    return [cell, data, j];\n",
       "                }\n",
       "            }\n",
       "        }\n",
       "    }\n",
       "}\n",
       "\n",
       "// Register the function which deals with the matplotlib target/channel.\n",
       "// The kernel may be null if the page has been refreshed.\n",
       "if (IPython.notebook.kernel != null) {\n",
       "    IPython.notebook.kernel.comm_manager.register_target('matplotlib', mpl.mpl_figure_comm);\n",
       "}\n"
      ],
      "text/plain": [
       "<IPython.core.display.Javascript object>"
      ]
     },
     "metadata": {},
     "output_type": "display_data"
    },
    {
     "data": {
      "text/html": [
       "<img src=\"data:image/png;base64,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\" width=\"1100\">"
      ],
      "text/plain": [
       "<IPython.core.display.HTML object>"
      ]
     },
     "metadata": {},
     "output_type": "display_data"
    },
    {
     "data": {
      "application/javascript": [
       "/* Put everything inside the global mpl namespace */\n",
       "window.mpl = {};\n",
       "\n",
       "\n",
       "mpl.get_websocket_type = function() {\n",
       "    if (typeof(WebSocket) !== 'undefined') {\n",
       "        return WebSocket;\n",
       "    } else if (typeof(MozWebSocket) !== 'undefined') {\n",
       "        return MozWebSocket;\n",
       "    } else {\n",
       "        alert('Your browser does not have WebSocket support. ' +\n",
       "              'Please try Chrome, Safari or Firefox ≥ 6. ' +\n",
       "              'Firefox 4 and 5 are also supported but you ' +\n",
       "              'have to enable WebSockets in about:config.');\n",
       "    };\n",
       "}\n",
       "\n",
       "mpl.figure = function(figure_id, websocket, ondownload, parent_element) {\n",
       "    this.id = figure_id;\n",
       "\n",
       "    this.ws = websocket;\n",
       "\n",
       "    this.supports_binary = (this.ws.binaryType != undefined);\n",
       "\n",
       "    if (!this.supports_binary) {\n",
       "        var warnings = document.getElementById(\"mpl-warnings\");\n",
       "        if (warnings) {\n",
       "            warnings.style.display = 'block';\n",
       "            warnings.textContent = (\n",
       "                \"This browser does not support binary websocket messages. \" +\n",
       "                    \"Performance may be slow.\");\n",
       "        }\n",
       "    }\n",
       "\n",
       "    this.imageObj = new Image();\n",
       "\n",
       "    this.context = undefined;\n",
       "    this.message = undefined;\n",
       "    this.canvas = undefined;\n",
       "    this.rubberband_canvas = undefined;\n",
       "    this.rubberband_context = undefined;\n",
       "    this.format_dropdown = undefined;\n",
       "\n",
       "    this.image_mode = 'full';\n",
       "\n",
       "    this.root = $('<div/>');\n",
       "    this._root_extra_style(this.root)\n",
       "    this.root.attr('style', 'display: inline-block');\n",
       "\n",
       "    $(parent_element).append(this.root);\n",
       "\n",
       "    this._init_header(this);\n",
       "    this._init_canvas(this);\n",
       "    this._init_toolbar(this);\n",
       "\n",
       "    var fig = this;\n",
       "\n",
       "    this.waiting = false;\n",
       "\n",
       "    this.ws.onopen =  function () {\n",
       "            fig.send_message(\"supports_binary\", {value: fig.supports_binary});\n",
       "            fig.send_message(\"send_image_mode\", {});\n",
       "            if (mpl.ratio != 1) {\n",
       "                fig.send_message(\"set_dpi_ratio\", {'dpi_ratio': mpl.ratio});\n",
       "            }\n",
       "            fig.send_message(\"refresh\", {});\n",
       "        }\n",
       "\n",
       "    this.imageObj.onload = function() {\n",
       "            if (fig.image_mode == 'full') {\n",
       "                // Full images could contain transparency (where diff images\n",
       "                // almost always do), so we need to clear the canvas so that\n",
       "                // there is no ghosting.\n",
       "                fig.context.clearRect(0, 0, fig.canvas.width, fig.canvas.height);\n",
       "            }\n",
       "            fig.context.drawImage(fig.imageObj, 0, 0);\n",
       "        };\n",
       "\n",
       "    this.imageObj.onunload = function() {\n",
       "        fig.ws.close();\n",
       "    }\n",
       "\n",
       "    this.ws.onmessage = this._make_on_message_function(this);\n",
       "\n",
       "    this.ondownload = ondownload;\n",
       "}\n",
       "\n",
       "mpl.figure.prototype._init_header = function() {\n",
       "    var titlebar = $(\n",
       "        '<div class=\"ui-dialog-titlebar ui-widget-header ui-corner-all ' +\n",
       "        'ui-helper-clearfix\"/>');\n",
       "    var titletext = $(\n",
       "        '<div class=\"ui-dialog-title\" style=\"width: 100%; ' +\n",
       "        'text-align: center; padding: 3px;\"/>');\n",
       "    titlebar.append(titletext)\n",
       "    this.root.append(titlebar);\n",
       "    this.header = titletext[0];\n",
       "}\n",
       "\n",
       "\n",
       "\n",
       "mpl.figure.prototype._canvas_extra_style = function(canvas_div) {\n",
       "\n",
       "}\n",
       "\n",
       "\n",
       "mpl.figure.prototype._root_extra_style = function(canvas_div) {\n",
       "\n",
       "}\n",
       "\n",
       "mpl.figure.prototype._init_canvas = function() {\n",
       "    var fig = this;\n",
       "\n",
       "    var canvas_div = $('<div/>');\n",
       "\n",
       "    canvas_div.attr('style', 'position: relative; clear: both; outline: 0');\n",
       "\n",
       "    function canvas_keyboard_event(event) {\n",
       "        return fig.key_event(event, event['data']);\n",
       "    }\n",
       "\n",
       "    canvas_div.keydown('key_press', canvas_keyboard_event);\n",
       "    canvas_div.keyup('key_release', canvas_keyboard_event);\n",
       "    this.canvas_div = canvas_div\n",
       "    this._canvas_extra_style(canvas_div)\n",
       "    this.root.append(canvas_div);\n",
       "\n",
       "    var canvas = $('<canvas/>');\n",
       "    canvas.addClass('mpl-canvas');\n",
       "    canvas.attr('style', \"left: 0; top: 0; z-index: 0; outline: 0\")\n",
       "\n",
       "    this.canvas = canvas[0];\n",
       "    this.context = canvas[0].getContext(\"2d\");\n",
       "\n",
       "    var backingStore = this.context.backingStorePixelRatio ||\n",
       "\tthis.context.webkitBackingStorePixelRatio ||\n",
       "\tthis.context.mozBackingStorePixelRatio ||\n",
       "\tthis.context.msBackingStorePixelRatio ||\n",
       "\tthis.context.oBackingStorePixelRatio ||\n",
       "\tthis.context.backingStorePixelRatio || 1;\n",
       "\n",
       "    mpl.ratio = (window.devicePixelRatio || 1) / backingStore;\n",
       "\n",
       "    var rubberband = $('<canvas/>');\n",
       "    rubberband.attr('style', \"position: absolute; left: 0; top: 0; z-index: 1;\")\n",
       "\n",
       "    var pass_mouse_events = true;\n",
       "\n",
       "    canvas_div.resizable({\n",
       "        start: function(event, ui) {\n",
       "            pass_mouse_events = false;\n",
       "        },\n",
       "        resize: function(event, ui) {\n",
       "            fig.request_resize(ui.size.width, ui.size.height);\n",
       "        },\n",
       "        stop: function(event, ui) {\n",
       "            pass_mouse_events = true;\n",
       "            fig.request_resize(ui.size.width, ui.size.height);\n",
       "        },\n",
       "    });\n",
       "\n",
       "    function mouse_event_fn(event) {\n",
       "        if (pass_mouse_events)\n",
       "            return fig.mouse_event(event, event['data']);\n",
       "    }\n",
       "\n",
       "    rubberband.mousedown('button_press', mouse_event_fn);\n",
       "    rubberband.mouseup('button_release', mouse_event_fn);\n",
       "    // Throttle sequential mouse events to 1 every 20ms.\n",
       "    rubberband.mousemove('motion_notify', mouse_event_fn);\n",
       "\n",
       "    rubberband.mouseenter('figure_enter', mouse_event_fn);\n",
       "    rubberband.mouseleave('figure_leave', mouse_event_fn);\n",
       "\n",
       "    canvas_div.on(\"wheel\", function (event) {\n",
       "        event = event.originalEvent;\n",
       "        event['data'] = 'scroll'\n",
       "        if (event.deltaY < 0) {\n",
       "            event.step = 1;\n",
       "        } else {\n",
       "            event.step = -1;\n",
       "        }\n",
       "        mouse_event_fn(event);\n",
       "    });\n",
       "\n",
       "    canvas_div.append(canvas);\n",
       "    canvas_div.append(rubberband);\n",
       "\n",
       "    this.rubberband = rubberband;\n",
       "    this.rubberband_canvas = rubberband[0];\n",
       "    this.rubberband_context = rubberband[0].getContext(\"2d\");\n",
       "    this.rubberband_context.strokeStyle = \"#000000\";\n",
       "\n",
       "    this._resize_canvas = function(width, height) {\n",
       "        // Keep the size of the canvas, canvas container, and rubber band\n",
       "        // canvas in synch.\n",
       "        canvas_div.css('width', width)\n",
       "        canvas_div.css('height', height)\n",
       "\n",
       "        canvas.attr('width', width * mpl.ratio);\n",
       "        canvas.attr('height', height * mpl.ratio);\n",
       "        canvas.attr('style', 'width: ' + width + 'px; height: ' + height + 'px;');\n",
       "\n",
       "        rubberband.attr('width', width);\n",
       "        rubberband.attr('height', height);\n",
       "    }\n",
       "\n",
       "    // Set the figure to an initial 600x600px, this will subsequently be updated\n",
       "    // upon first draw.\n",
       "    this._resize_canvas(600, 600);\n",
       "\n",
       "    // Disable right mouse context menu.\n",
       "    $(this.rubberband_canvas).bind(\"contextmenu\",function(e){\n",
       "        return false;\n",
       "    });\n",
       "\n",
       "    function set_focus () {\n",
       "        canvas.focus();\n",
       "        canvas_div.focus();\n",
       "    }\n",
       "\n",
       "    window.setTimeout(set_focus, 100);\n",
       "}\n",
       "\n",
       "mpl.figure.prototype._init_toolbar = function() {\n",
       "    var fig = this;\n",
       "\n",
       "    var nav_element = $('<div/>');\n",
       "    nav_element.attr('style', 'width: 100%');\n",
       "    this.root.append(nav_element);\n",
       "\n",
       "    // Define a callback function for later on.\n",
       "    function toolbar_event(event) {\n",
       "        return fig.toolbar_button_onclick(event['data']);\n",
       "    }\n",
       "    function toolbar_mouse_event(event) {\n",
       "        return fig.toolbar_button_onmouseover(event['data']);\n",
       "    }\n",
       "\n",
       "    for(var toolbar_ind in mpl.toolbar_items) {\n",
       "        var name = mpl.toolbar_items[toolbar_ind][0];\n",
       "        var tooltip = mpl.toolbar_items[toolbar_ind][1];\n",
       "        var image = mpl.toolbar_items[toolbar_ind][2];\n",
       "        var method_name = mpl.toolbar_items[toolbar_ind][3];\n",
       "\n",
       "        if (!name) {\n",
       "            // put a spacer in here.\n",
       "            continue;\n",
       "        }\n",
       "        var button = $('<button/>');\n",
       "        button.addClass('ui-button ui-widget ui-state-default ui-corner-all ' +\n",
       "                        'ui-button-icon-only');\n",
       "        button.attr('role', 'button');\n",
       "        button.attr('aria-disabled', 'false');\n",
       "        button.click(method_name, toolbar_event);\n",
       "        button.mouseover(tooltip, toolbar_mouse_event);\n",
       "\n",
       "        var icon_img = $('<span/>');\n",
       "        icon_img.addClass('ui-button-icon-primary ui-icon');\n",
       "        icon_img.addClass(image);\n",
       "        icon_img.addClass('ui-corner-all');\n",
       "\n",
       "        var tooltip_span = $('<span/>');\n",
       "        tooltip_span.addClass('ui-button-text');\n",
       "        tooltip_span.html(tooltip);\n",
       "\n",
       "        button.append(icon_img);\n",
       "        button.append(tooltip_span);\n",
       "\n",
       "        nav_element.append(button);\n",
       "    }\n",
       "\n",
       "    var fmt_picker_span = $('<span/>');\n",
       "\n",
       "    var fmt_picker = $('<select/>');\n",
       "    fmt_picker.addClass('mpl-toolbar-option ui-widget ui-widget-content');\n",
       "    fmt_picker_span.append(fmt_picker);\n",
       "    nav_element.append(fmt_picker_span);\n",
       "    this.format_dropdown = fmt_picker[0];\n",
       "\n",
       "    for (var ind in mpl.extensions) {\n",
       "        var fmt = mpl.extensions[ind];\n",
       "        var option = $(\n",
       "            '<option/>', {selected: fmt === mpl.default_extension}).html(fmt);\n",
       "        fmt_picker.append(option);\n",
       "    }\n",
       "\n",
       "    // Add hover states to the ui-buttons\n",
       "    $( \".ui-button\" ).hover(\n",
       "        function() { $(this).addClass(\"ui-state-hover\");},\n",
       "        function() { $(this).removeClass(\"ui-state-hover\");}\n",
       "    );\n",
       "\n",
       "    var status_bar = $('<span class=\"mpl-message\"/>');\n",
       "    nav_element.append(status_bar);\n",
       "    this.message = status_bar[0];\n",
       "}\n",
       "\n",
       "mpl.figure.prototype.request_resize = function(x_pixels, y_pixels) {\n",
       "    // Request matplotlib to resize the figure. Matplotlib will then trigger a resize in the client,\n",
       "    // which will in turn request a refresh of the image.\n",
       "    this.send_message('resize', {'width': x_pixels, 'height': y_pixels});\n",
       "}\n",
       "\n",
       "mpl.figure.prototype.send_message = function(type, properties) {\n",
       "    properties['type'] = type;\n",
       "    properties['figure_id'] = this.id;\n",
       "    this.ws.send(JSON.stringify(properties));\n",
       "}\n",
       "\n",
       "mpl.figure.prototype.send_draw_message = function() {\n",
       "    if (!this.waiting) {\n",
       "        this.waiting = true;\n",
       "        this.ws.send(JSON.stringify({type: \"draw\", figure_id: this.id}));\n",
       "    }\n",
       "}\n",
       "\n",
       "\n",
       "mpl.figure.prototype.handle_save = function(fig, msg) {\n",
       "    var format_dropdown = fig.format_dropdown;\n",
       "    var format = format_dropdown.options[format_dropdown.selectedIndex].value;\n",
       "    fig.ondownload(fig, format);\n",
       "}\n",
       "\n",
       "\n",
       "mpl.figure.prototype.handle_resize = function(fig, msg) {\n",
       "    var size = msg['size'];\n",
       "    if (size[0] != fig.canvas.width || size[1] != fig.canvas.height) {\n",
       "        fig._resize_canvas(size[0], size[1]);\n",
       "        fig.send_message(\"refresh\", {});\n",
       "    };\n",
       "}\n",
       "\n",
       "mpl.figure.prototype.handle_rubberband = function(fig, msg) {\n",
       "    var x0 = msg['x0'] / mpl.ratio;\n",
       "    var y0 = (fig.canvas.height - msg['y0']) / mpl.ratio;\n",
       "    var x1 = msg['x1'] / mpl.ratio;\n",
       "    var y1 = (fig.canvas.height - msg['y1']) / mpl.ratio;\n",
       "    x0 = Math.floor(x0) + 0.5;\n",
       "    y0 = Math.floor(y0) + 0.5;\n",
       "    x1 = Math.floor(x1) + 0.5;\n",
       "    y1 = Math.floor(y1) + 0.5;\n",
       "    var min_x = Math.min(x0, x1);\n",
       "    var min_y = Math.min(y0, y1);\n",
       "    var width = Math.abs(x1 - x0);\n",
       "    var height = Math.abs(y1 - y0);\n",
       "\n",
       "    fig.rubberband_context.clearRect(\n",
       "        0, 0, fig.canvas.width, fig.canvas.height);\n",
       "\n",
       "    fig.rubberband_context.strokeRect(min_x, min_y, width, height);\n",
       "}\n",
       "\n",
       "mpl.figure.prototype.handle_figure_label = function(fig, msg) {\n",
       "    // Updates the figure title.\n",
       "    fig.header.textContent = msg['label'];\n",
       "}\n",
       "\n",
       "mpl.figure.prototype.handle_cursor = function(fig, msg) {\n",
       "    var cursor = msg['cursor'];\n",
       "    switch(cursor)\n",
       "    {\n",
       "    case 0:\n",
       "        cursor = 'pointer';\n",
       "        break;\n",
       "    case 1:\n",
       "        cursor = 'default';\n",
       "        break;\n",
       "    case 2:\n",
       "        cursor = 'crosshair';\n",
       "        break;\n",
       "    case 3:\n",
       "        cursor = 'move';\n",
       "        break;\n",
       "    }\n",
       "    fig.rubberband_canvas.style.cursor = cursor;\n",
       "}\n",
       "\n",
       "mpl.figure.prototype.handle_message = function(fig, msg) {\n",
       "    fig.message.textContent = msg['message'];\n",
       "}\n",
       "\n",
       "mpl.figure.prototype.handle_draw = function(fig, msg) {\n",
       "    // Request the server to send over a new figure.\n",
       "    fig.send_draw_message();\n",
       "}\n",
       "\n",
       "mpl.figure.prototype.handle_image_mode = function(fig, msg) {\n",
       "    fig.image_mode = msg['mode'];\n",
       "}\n",
       "\n",
       "mpl.figure.prototype.updated_canvas_event = function() {\n",
       "    // Called whenever the canvas gets updated.\n",
       "    this.send_message(\"ack\", {});\n",
       "}\n",
       "\n",
       "// A function to construct a web socket function for onmessage handling.\n",
       "// Called in the figure constructor.\n",
       "mpl.figure.prototype._make_on_message_function = function(fig) {\n",
       "    return function socket_on_message(evt) {\n",
       "        if (evt.data instanceof Blob) {\n",
       "            /* FIXME: We get \"Resource interpreted as Image but\n",
       "             * transferred with MIME type text/plain:\" errors on\n",
       "             * Chrome.  But how to set the MIME type?  It doesn't seem\n",
       "             * to be part of the websocket stream */\n",
       "            evt.data.type = \"image/png\";\n",
       "\n",
       "            /* Free the memory for the previous frames */\n",
       "            if (fig.imageObj.src) {\n",
       "                (window.URL || window.webkitURL).revokeObjectURL(\n",
       "                    fig.imageObj.src);\n",
       "            }\n",
       "\n",
       "            fig.imageObj.src = (window.URL || window.webkitURL).createObjectURL(\n",
       "                evt.data);\n",
       "            fig.updated_canvas_event();\n",
       "            fig.waiting = false;\n",
       "            return;\n",
       "        }\n",
       "        else if (typeof evt.data === 'string' && evt.data.slice(0, 21) == \"data:image/png;base64\") {\n",
       "            fig.imageObj.src = evt.data;\n",
       "            fig.updated_canvas_event();\n",
       "            fig.waiting = false;\n",
       "            return;\n",
       "        }\n",
       "\n",
       "        var msg = JSON.parse(evt.data);\n",
       "        var msg_type = msg['type'];\n",
       "\n",
       "        // Call the  \"handle_{type}\" callback, which takes\n",
       "        // the figure and JSON message as its only arguments.\n",
       "        try {\n",
       "            var callback = fig[\"handle_\" + msg_type];\n",
       "        } catch (e) {\n",
       "            console.log(\"No handler for the '\" + msg_type + \"' message type: \", msg);\n",
       "            return;\n",
       "        }\n",
       "\n",
       "        if (callback) {\n",
       "            try {\n",
       "                // console.log(\"Handling '\" + msg_type + \"' message: \", msg);\n",
       "                callback(fig, msg);\n",
       "            } catch (e) {\n",
       "                console.log(\"Exception inside the 'handler_\" + msg_type + \"' callback:\", e, e.stack, msg);\n",
       "            }\n",
       "        }\n",
       "    };\n",
       "}\n",
       "\n",
       "// from http://stackoverflow.com/questions/1114465/getting-mouse-location-in-canvas\n",
       "mpl.findpos = function(e) {\n",
       "    //this section is from http://www.quirksmode.org/js/events_properties.html\n",
       "    var targ;\n",
       "    if (!e)\n",
       "        e = window.event;\n",
       "    if (e.target)\n",
       "        targ = e.target;\n",
       "    else if (e.srcElement)\n",
       "        targ = e.srcElement;\n",
       "    if (targ.nodeType == 3) // defeat Safari bug\n",
       "        targ = targ.parentNode;\n",
       "\n",
       "    // jQuery normalizes the pageX and pageY\n",
       "    // pageX,Y are the mouse positions relative to the document\n",
       "    // offset() returns the position of the element relative to the document\n",
       "    var x = e.pageX - $(targ).offset().left;\n",
       "    var y = e.pageY - $(targ).offset().top;\n",
       "\n",
       "    return {\"x\": x, \"y\": y};\n",
       "};\n",
       "\n",
       "/*\n",
       " * return a copy of an object with only non-object keys\n",
       " * we need this to avoid circular references\n",
       " * http://stackoverflow.com/a/24161582/3208463\n",
       " */\n",
       "function simpleKeys (original) {\n",
       "  return Object.keys(original).reduce(function (obj, key) {\n",
       "    if (typeof original[key] !== 'object')\n",
       "        obj[key] = original[key]\n",
       "    return obj;\n",
       "  }, {});\n",
       "}\n",
       "\n",
       "mpl.figure.prototype.mouse_event = function(event, name) {\n",
       "    var canvas_pos = mpl.findpos(event)\n",
       "\n",
       "    if (name === 'button_press')\n",
       "    {\n",
       "        this.canvas.focus();\n",
       "        this.canvas_div.focus();\n",
       "    }\n",
       "\n",
       "    var x = canvas_pos.x * mpl.ratio;\n",
       "    var y = canvas_pos.y * mpl.ratio;\n",
       "\n",
       "    this.send_message(name, {x: x, y: y, button: event.button,\n",
       "                             step: event.step,\n",
       "                             guiEvent: simpleKeys(event)});\n",
       "\n",
       "    /* This prevents the web browser from automatically changing to\n",
       "     * the text insertion cursor when the button is pressed.  We want\n",
       "     * to control all of the cursor setting manually through the\n",
       "     * 'cursor' event from matplotlib */\n",
       "    event.preventDefault();\n",
       "    return false;\n",
       "}\n",
       "\n",
       "mpl.figure.prototype._key_event_extra = function(event, name) {\n",
       "    // Handle any extra behaviour associated with a key event\n",
       "}\n",
       "\n",
       "mpl.figure.prototype.key_event = function(event, name) {\n",
       "\n",
       "    // Prevent repeat events\n",
       "    if (name == 'key_press')\n",
       "    {\n",
       "        if (event.which === this._key)\n",
       "            return;\n",
       "        else\n",
       "            this._key = event.which;\n",
       "    }\n",
       "    if (name == 'key_release')\n",
       "        this._key = null;\n",
       "\n",
       "    var value = '';\n",
       "    if (event.ctrlKey && event.which != 17)\n",
       "        value += \"ctrl+\";\n",
       "    if (event.altKey && event.which != 18)\n",
       "        value += \"alt+\";\n",
       "    if (event.shiftKey && event.which != 16)\n",
       "        value += \"shift+\";\n",
       "\n",
       "    value += 'k';\n",
       "    value += event.which.toString();\n",
       "\n",
       "    this._key_event_extra(event, name);\n",
       "\n",
       "    this.send_message(name, {key: value,\n",
       "                             guiEvent: simpleKeys(event)});\n",
       "    return false;\n",
       "}\n",
       "\n",
       "mpl.figure.prototype.toolbar_button_onclick = function(name) {\n",
       "    if (name == 'download') {\n",
       "        this.handle_save(this, null);\n",
       "    } else {\n",
       "        this.send_message(\"toolbar_button\", {name: name});\n",
       "    }\n",
       "};\n",
       "\n",
       "mpl.figure.prototype.toolbar_button_onmouseover = function(tooltip) {\n",
       "    this.message.textContent = tooltip;\n",
       "};\n",
       "mpl.toolbar_items = [[\"Home\", \"Reset original view\", \"fa fa-home icon-home\", \"home\"], [\"Back\", \"Back to previous view\", \"fa fa-arrow-left icon-arrow-left\", \"back\"], [\"Forward\", \"Forward to next view\", \"fa fa-arrow-right icon-arrow-right\", \"forward\"], [\"\", \"\", \"\", \"\"], [\"Pan\", \"Pan axes with left mouse, zoom with right\", \"fa fa-arrows icon-move\", \"pan\"], [\"Zoom\", \"Zoom to rectangle\", \"fa fa-square-o icon-check-empty\", \"zoom\"], [\"\", \"\", \"\", \"\"], [\"Download\", \"Download plot\", \"fa fa-floppy-o icon-save\", \"download\"]];\n",
       "\n",
       "mpl.extensions = [\"eps\", \"pdf\", \"png\", \"ps\", \"raw\", \"svg\"];\n",
       "\n",
       "mpl.default_extension = \"png\";var comm_websocket_adapter = function(comm) {\n",
       "    // Create a \"websocket\"-like object which calls the given IPython comm\n",
       "    // object with the appropriate methods. Currently this is a non binary\n",
       "    // socket, so there is still some room for performance tuning.\n",
       "    var ws = {};\n",
       "\n",
       "    ws.close = function() {\n",
       "        comm.close()\n",
       "    };\n",
       "    ws.send = function(m) {\n",
       "        //console.log('sending', m);\n",
       "        comm.send(m);\n",
       "    };\n",
       "    // Register the callback with on_msg.\n",
       "    comm.on_msg(function(msg) {\n",
       "        //console.log('receiving', msg['content']['data'], msg);\n",
       "        // Pass the mpl event to the overridden (by mpl) onmessage function.\n",
       "        ws.onmessage(msg['content']['data'])\n",
       "    });\n",
       "    return ws;\n",
       "}\n",
       "\n",
       "mpl.mpl_figure_comm = function(comm, msg) {\n",
       "    // This is the function which gets called when the mpl process\n",
       "    // starts-up an IPython Comm through the \"matplotlib\" channel.\n",
       "\n",
       "    var id = msg.content.data.id;\n",
       "    // Get hold of the div created by the display call when the Comm\n",
       "    // socket was opened in Python.\n",
       "    var element = $(\"#\" + id);\n",
       "    var ws_proxy = comm_websocket_adapter(comm)\n",
       "\n",
       "    function ondownload(figure, format) {\n",
       "        window.open(figure.imageObj.src);\n",
       "    }\n",
       "\n",
       "    var fig = new mpl.figure(id, ws_proxy,\n",
       "                           ondownload,\n",
       "                           element.get(0));\n",
       "\n",
       "    // Call onopen now - mpl needs it, as it is assuming we've passed it a real\n",
       "    // web socket which is closed, not our websocket->open comm proxy.\n",
       "    ws_proxy.onopen();\n",
       "\n",
       "    fig.parent_element = element.get(0);\n",
       "    fig.cell_info = mpl.find_output_cell(\"<div id='\" + id + \"'></div>\");\n",
       "    if (!fig.cell_info) {\n",
       "        console.error(\"Failed to find cell for figure\", id, fig);\n",
       "        return;\n",
       "    }\n",
       "\n",
       "    var output_index = fig.cell_info[2]\n",
       "    var cell = fig.cell_info[0];\n",
       "\n",
       "};\n",
       "\n",
       "mpl.figure.prototype.handle_close = function(fig, msg) {\n",
       "    var width = fig.canvas.width/mpl.ratio\n",
       "    fig.root.unbind('remove')\n",
       "\n",
       "    // Update the output cell to use the data from the current canvas.\n",
       "    fig.push_to_output();\n",
       "    var dataURL = fig.canvas.toDataURL();\n",
       "    // Re-enable the keyboard manager in IPython - without this line, in FF,\n",
       "    // the notebook keyboard shortcuts fail.\n",
       "    IPython.keyboard_manager.enable()\n",
       "    $(fig.parent_element).html('<img src=\"' + dataURL + '\" width=\"' + width + '\">');\n",
       "    fig.close_ws(fig, msg);\n",
       "}\n",
       "\n",
       "mpl.figure.prototype.close_ws = function(fig, msg){\n",
       "    fig.send_message('closing', msg);\n",
       "    // fig.ws.close()\n",
       "}\n",
       "\n",
       "mpl.figure.prototype.push_to_output = function(remove_interactive) {\n",
       "    // Turn the data on the canvas into data in the output cell.\n",
       "    var width = this.canvas.width/mpl.ratio\n",
       "    var dataURL = this.canvas.toDataURL();\n",
       "    this.cell_info[1]['text/html'] = '<img src=\"' + dataURL + '\" width=\"' + width + '\">';\n",
       "}\n",
       "\n",
       "mpl.figure.prototype.updated_canvas_event = function() {\n",
       "    // Tell IPython that the notebook contents must change.\n",
       "    IPython.notebook.set_dirty(true);\n",
       "    this.send_message(\"ack\", {});\n",
       "    var fig = this;\n",
       "    // Wait a second, then push the new image to the DOM so\n",
       "    // that it is saved nicely (might be nice to debounce this).\n",
       "    setTimeout(function () { fig.push_to_output() }, 1000);\n",
       "}\n",
       "\n",
       "mpl.figure.prototype._init_toolbar = function() {\n",
       "    var fig = this;\n",
       "\n",
       "    var nav_element = $('<div/>');\n",
       "    nav_element.attr('style', 'width: 100%');\n",
       "    this.root.append(nav_element);\n",
       "\n",
       "    // Define a callback function for later on.\n",
       "    function toolbar_event(event) {\n",
       "        return fig.toolbar_button_onclick(event['data']);\n",
       "    }\n",
       "    function toolbar_mouse_event(event) {\n",
       "        return fig.toolbar_button_onmouseover(event['data']);\n",
       "    }\n",
       "\n",
       "    for(var toolbar_ind in mpl.toolbar_items){\n",
       "        var name = mpl.toolbar_items[toolbar_ind][0];\n",
       "        var tooltip = mpl.toolbar_items[toolbar_ind][1];\n",
       "        var image = mpl.toolbar_items[toolbar_ind][2];\n",
       "        var method_name = mpl.toolbar_items[toolbar_ind][3];\n",
       "\n",
       "        if (!name) { continue; };\n",
       "\n",
       "        var button = $('<button class=\"btn btn-default\" href=\"#\" title=\"' + name + '\"><i class=\"fa ' + image + ' fa-lg\"></i></button>');\n",
       "        button.click(method_name, toolbar_event);\n",
       "        button.mouseover(tooltip, toolbar_mouse_event);\n",
       "        nav_element.append(button);\n",
       "    }\n",
       "\n",
       "    // Add the status bar.\n",
       "    var status_bar = $('<span class=\"mpl-message\" style=\"text-align:right; float: right;\"/>');\n",
       "    nav_element.append(status_bar);\n",
       "    this.message = status_bar[0];\n",
       "\n",
       "    // Add the close button to the window.\n",
       "    var buttongrp = $('<div class=\"btn-group inline pull-right\"></div>');\n",
       "    var button = $('<button class=\"btn btn-mini btn-primary\" href=\"#\" title=\"Stop Interaction\"><i class=\"fa fa-power-off icon-remove icon-large\"></i></button>');\n",
       "    button.click(function (evt) { fig.handle_close(fig, {}); } );\n",
       "    button.mouseover('Stop Interaction', toolbar_mouse_event);\n",
       "    buttongrp.append(button);\n",
       "    var titlebar = this.root.find($('.ui-dialog-titlebar'));\n",
       "    titlebar.prepend(buttongrp);\n",
       "}\n",
       "\n",
       "mpl.figure.prototype._root_extra_style = function(el){\n",
       "    var fig = this\n",
       "    el.on(\"remove\", function(){\n",
       "\tfig.close_ws(fig, {});\n",
       "    });\n",
       "}\n",
       "\n",
       "mpl.figure.prototype._canvas_extra_style = function(el){\n",
       "    // this is important to make the div 'focusable\n",
       "    el.attr('tabindex', 0)\n",
       "    // reach out to IPython and tell the keyboard manager to turn it's self\n",
       "    // off when our div gets focus\n",
       "\n",
       "    // location in version 3\n",
       "    if (IPython.notebook.keyboard_manager) {\n",
       "        IPython.notebook.keyboard_manager.register_events(el);\n",
       "    }\n",
       "    else {\n",
       "        // location in version 2\n",
       "        IPython.keyboard_manager.register_events(el);\n",
       "    }\n",
       "\n",
       "}\n",
       "\n",
       "mpl.figure.prototype._key_event_extra = function(event, name) {\n",
       "    var manager = IPython.notebook.keyboard_manager;\n",
       "    if (!manager)\n",
       "        manager = IPython.keyboard_manager;\n",
       "\n",
       "    // Check for shift+enter\n",
       "    if (event.shiftKey && event.which == 13) {\n",
       "        this.canvas_div.blur();\n",
       "        event.shiftKey = false;\n",
       "        // Send a \"J\" for go to next cell\n",
       "        event.which = 74;\n",
       "        event.keyCode = 74;\n",
       "        manager.command_mode();\n",
       "        manager.handle_keydown(event);\n",
       "    }\n",
       "}\n",
       "\n",
       "mpl.figure.prototype.handle_save = function(fig, msg) {\n",
       "    fig.ondownload(fig, null);\n",
       "}\n",
       "\n",
       "\n",
       "mpl.find_output_cell = function(html_output) {\n",
       "    // Return the cell and output element which can be found *uniquely* in the notebook.\n",
       "    // Note - this is a bit hacky, but it is done because the \"notebook_saving.Notebook\"\n",
       "    // IPython event is triggered only after the cells have been serialised, which for\n",
       "    // our purposes (turning an active figure into a static one), is too late.\n",
       "    var cells = IPython.notebook.get_cells();\n",
       "    var ncells = cells.length;\n",
       "    for (var i=0; i<ncells; i++) {\n",
       "        var cell = cells[i];\n",
       "        if (cell.cell_type === 'code'){\n",
       "            for (var j=0; j<cell.output_area.outputs.length; j++) {\n",
       "                var data = cell.output_area.outputs[j];\n",
       "                if (data.data) {\n",
       "                    // IPython >= 3 moved mimebundle to data attribute of output\n",
       "                    data = data.data;\n",
       "                }\n",
       "                if (data['text/html'] == html_output) {\n",
       "                    return [cell, data, j];\n",
       "                }\n",
       "            }\n",
       "        }\n",
       "    }\n",
       "}\n",
       "\n",
       "// Register the function which deals with the matplotlib target/channel.\n",
       "// The kernel may be null if the page has been refreshed.\n",
       "if (IPython.notebook.kernel != null) {\n",
       "    IPython.notebook.kernel.comm_manager.register_target('matplotlib', mpl.mpl_figure_comm);\n",
       "}\n"
      ],
      "text/plain": [
       "<IPython.core.display.Javascript object>"
      ]
     },
     "metadata": {},
     "output_type": "display_data"
    },
    {
     "data": {
      "text/html": [
       "<img src=\"data:image/png;base64,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\" width=\"1100\">"
      ],
      "text/plain": [
       "<IPython.core.display.HTML object>"
      ]
     },
     "metadata": {},
     "output_type": "display_data"
    }
   ],
   "source": [
    "print('Saved y(t) values:',y_data)\n",
    "print('Saved u(t) values:',u_data)\n",
    "fig4=plt.figure(3,figsize=(11,6))\n",
    "plt.plot(t_data,y_data)\n",
    "plt.grid(True)\n",
    "plt.xlim(0,10)\n",
    "plt.ylim(0,10)\n",
    "plt.xlabel('Time')\n",
    "plt.ylabel('Response');\n",
    "#fig4.canvas.draw()\n",
    "fig5=plt.figure(4,figsize=(11,6))\n",
    "u_line, = plt.plot(t_data,u_data)\n",
    "x_line, = plt.plot(t_data,x_data)\n",
    "plt.legend((x_line,u_line),('State x','Dose'))\n",
    "plt.grid(True)\n",
    "plt.xlim(0,10)\n",
    "plt.xlabel('Time')\n",
    "plt.ylabel('Value');\n",
    "#fig5.canvas.draw()"
   ]
  },
  {
   "cell_type": "markdown",
   "metadata": {},
   "source": [
    "### A Dose of Reality\n",
    "\n",
    "Let us move from the ideal situation to a more realistic scenario.\n",
    "\n",
    "\n",
    "+ Unknown or approximate model\n",
    "\n",
    "  In most situations you do not have simulation that can  make good predictions. You first need to learn a model from actual responses to inputs. Human decision makers often use immediate aggregate cause-effect heuristics. If the blood glucose shot up, it was most likely the latte you just had. If the stock market lost one percent, it was because of the latest news on trade war.\n",
    "    \n",
    "\n",
    "+ Many decision variables affect observations\n",
    "   \n",
    "  When multiple decision variables are involved, humans focus on one assumed dominant variable. The mental burden of untangling multiple causes is too large. Doing so for a dynamic system with continuous variables is clearly just too complex for humans.\n",
    "  \n",
    "\n",
    "+ Too many extraneous conditions and variables affect observations\n",
    "\n",
    "   Given the simplfied cause-effect heuristic, the apparent variability of observations becomes large. You often hear that the variablity is due to inherent random behavior that can only be untangeled by averaging over many experiments and observations. To the poor patient, the averaging is of little comfort. Loss of agency and hope for the patient leads do resignation and even depression.  Apparent variability also occurs in machine learned models when the representations are poorly chosen in dynamic systems. \n",
    "   \n",
    "\n",
    "+ Can not directly measure what you need to really maintain or control\n",
    "   \n",
    "   In metabolic syndrome, you need to arrest or reduce organ damage, mental depression and other co-morbidity.  However, blood prick glucose measurement or readings from CGM need to be translated to what you need to be concerend with.  Your camera sensor output on an autonomous car will give you a partial and possibly misleading view of the environment, leading to accidents. \n",
    "   \n",
    "We will go over each of these aspects and see how it manifests in simulated examples.  \n",
    "\n",
    "Again, no need to take my word on it. You will be the decision maker  in the simulated examples!\n",
    "  \n",
    "      \n",
    "\n"
   ]
  },
  {
   "cell_type": "code",
   "execution_count": null,
   "metadata": {
    "scrolled": true
   },
   "outputs": [],
   "source": []
  }
 ],
 "metadata": {
  "kernelspec": {
   "display_name": "Python 3",
   "language": "python",
   "name": "python3"
  },
  "language_info": {
   "codemirror_mode": {
    "name": "ipython",
    "version": 3
   },
   "file_extension": ".py",
   "mimetype": "text/x-python",
   "name": "python",
   "nbconvert_exporter": "python",
   "pygments_lexer": "ipython3",
   "version": "3.7.3"
  },
  "widgets": {
   "application/vnd.jupyter.widget-state+json": {
    "state": {
     "0141b5da06b2499a893aea4ab717d9d5": {
      "model_module": "@jupyter-widgets/controls",
      "model_module_version": "1.4.0",
      "model_name": "FloatSliderModel",
      "state": {
       "description": "Dose(t)",
       "layout": "IPY_MODEL_cca17439827f401cb6a180d558236355",
       "max": 10,
       "min": -10,
       "step": 0.01,
       "style": "IPY_MODEL_f4b704a50b19416aaa619a020dfd5071",
       "value": 1.09
      }
     },
     "018564d47e714fae97acedb9d928c7c1": {
      "model_module": "@jupyter-widgets/controls",
      "model_module_version": "1.4.0",
      "model_name": "ButtonStyleModel",
      "state": {}
     },
     "028bd2cd91d545fe8c9205a00ecc321b": {
      "model_module": "@jupyter-widgets/controls",
      "model_module_version": "1.4.0",
      "model_name": "ButtonStyleModel",
      "state": {}
     },
     "03581fc1a49640b0bfa4b6e9cfac3d39": {
      "model_module": "@jupyter-widgets/controls",
      "model_module_version": "1.4.0",
      "model_name": "ButtonModel",
      "state": {
       "description": "Administer Dose(t)",
       "disabled": true,
       "layout": "IPY_MODEL_6f887701b8c445d7a6cb47d47178336f",
       "style": "IPY_MODEL_cfa568b240574db49b63f8a8ee2e9fd9"
      }
     },
     "0395c0019aec400fa9948e9a2e92ea9f": {
      "model_module": "@jupyter-widgets/controls",
      "model_module_version": "1.4.0",
      "model_name": "TextModel",
      "state": {
       "description": "Response(t+1) ",
       "disabled": true,
       "layout": "IPY_MODEL_c2ebb8bbe65c4edc9e1b8e07bfed438f",
       "style": "IPY_MODEL_d29bba73479846a88ab6f4d63cf07d12",
       "value": "2.78 (is less than 4.75)"
      }
     },
     "039f1d23b82f4285b9bfebf626b14206": {
      "model_module": "@jupyter-widgets/base",
      "model_module_version": "1.1.0",
      "model_name": "LayoutModel",
      "state": {
       "width": "95%"
      }
     },
     "03e0cd42451847e98fa4c78e82f62d00": {
      "model_module": "@jupyter-widgets/controls",
      "model_module_version": "1.4.0",
      "model_name": "TextModel",
      "state": {
       "description": "Next Step",
       "layout": "IPY_MODEL_a38c6408e8d74800a029a5e9f03df1c0",
       "style": "IPY_MODEL_c010b7152eeb4945894a5c0b4aa8d0e4",
       "value": "Predict Response(t+1)"
      }
     },
     "067bb896fada40dd99aec8772b9f970b": {
      "model_module": "@jupyter-widgets/base",
      "model_module_version": "1.1.0",
      "model_name": "LayoutModel",
      "state": {}
     },
     "06bbff036eec4afab9f8803baf8b8f87": {
      "model_module": "@jupyter-widgets/controls",
      "model_module_version": "1.4.0",
      "model_name": "FloatSliderModel",
      "state": {
       "description": "Dose(t)",
       "layout": "IPY_MODEL_20aff08d051240fa9ffd54927ff8d698",
       "max": 10,
       "min": -10,
       "step": 0.01,
       "style": "IPY_MODEL_a6dc0945784e4b15ab918dbacf477c70"
      }
     },
     "06f90905bbcc444d9a9733d0651ddbf4": {
      "model_module": "@jupyter-widgets/base",
      "model_module_version": "1.1.0",
      "model_name": "LayoutModel",
      "state": {}
     },
     "075d19d2bf5d4d40b57d0af7b5473514": {
      "model_module": "@jupyter-widgets/controls",
      "model_module_version": "1.4.0",
      "model_name": "HBoxModel",
      "state": {
       "children": [
        "IPY_MODEL_9e7bd315932c4f2da52faa1fd3998f3f",
        "IPY_MODEL_2b0fa78cc9e74364ad1dc5b54d82b1a0"
       ],
       "layout": "IPY_MODEL_ecb7076df28b45d99581b461934ba6d1"
      }
     },
     "076ec1030c03401c83308d41f6b3e233": {
      "model_module": "@jupyter-widgets/controls",
      "model_module_version": "1.4.0",
      "model_name": "SliderStyleModel",
      "state": {
       "description_width": ""
      }
     },
     "0772ea5803a9462098c7e41801ca0520": {
      "model_module": "@jupyter-widgets/controls",
      "model_module_version": "1.4.0",
      "model_name": "ButtonStyleModel",
      "state": {}
     },
     "07e5d6e2e98a4cfdb8a41e519ac6ab8e": {
      "model_module": "@jupyter-widgets/base",
      "model_module_version": "1.1.0",
      "model_name": "LayoutModel",
      "state": {
       "justify_content": "center"
      }
     },
     "0825f2b102a0446e87f4cc09c1d4e7a0": {
      "model_module": "@jupyter-widgets/base",
      "model_module_version": "1.1.0",
      "model_name": "LayoutModel",
      "state": {
       "width": "95%"
      }
     },
     "083dfe5677be46b087d48d6944c45e50": {
      "model_module": "@jupyter-widgets/controls",
      "model_module_version": "1.4.0",
      "model_name": "DescriptionStyleModel",
      "state": {
       "description_width": ""
      }
     },
     "08b9344633de450fb7bd7a8deb489cce": {
      "model_module": "@jupyter-widgets/base",
      "model_module_version": "1.1.0",
      "model_name": "LayoutModel",
      "state": {}
     },
     "08fd0fe516b84441a1fb9fc283473288": {
      "model_module": "@jupyter-widgets/controls",
      "model_module_version": "1.4.0",
      "model_name": "TextModel",
      "state": {
       "description": "Response(t+1) ",
       "disabled": true,
       "layout": "IPY_MODEL_6e6f03e1106e4e61ac7eabe7d9ea2fee",
       "style": "IPY_MODEL_a16dcbe9e1c34862990d6c1a72b83bcc",
       "value": "  "
      }
     },
     "095ef3225d28434386964a06b6904a35": {
      "model_module": "@jupyter-widgets/base",
      "model_module_version": "1.1.0",
      "model_name": "LayoutModel",
      "state": {
       "width": "42%"
      }
     },
     "0982ec5561684b8b9ed4fbec15287603": {
      "model_module": "@jupyter-widgets/controls",
      "model_module_version": "1.4.0",
      "model_name": "FloatSliderModel",
      "state": {
       "description": "Dose(t)",
       "layout": "IPY_MODEL_27148d3d2a91470a8e93086db90bdb67",
       "max": 10,
       "min": -10,
       "step": 0.01,
       "style": "IPY_MODEL_fd26d8ad42f74c159dfe93f6fab7e67e",
       "value": 0.6
      }
     },
     "09a9cf5b1ff446a0a801056dfd462bf9": {
      "model_module": "@jupyter-widgets/base",
      "model_module_version": "1.1.0",
      "model_name": "LayoutModel",
      "state": {}
     },
     "0a3d2324961e467eae6f1ff60926d509": {
      "model_module": "@jupyter-widgets/base",
      "model_module_version": "1.1.0",
      "model_name": "LayoutModel",
      "state": {
       "justify_content": "center"
      }
     },
     "0ad9f37ff7e1409e9cd22abe0c9b9f2c": {
      "model_module": "@jupyter-widgets/controls",
      "model_module_version": "1.4.0",
      "model_name": "SliderStyleModel",
      "state": {
       "description_width": ""
      }
     },
     "0b15758c582e40ca8d5fed687c2d7cc5": {
      "model_module": "@jupyter-widgets/controls",
      "model_module_version": "1.4.0",
      "model_name": "DescriptionStyleModel",
      "state": {
       "description_width": "initial"
      }
     },
     "0b39633dfe9c4696ae1e7a9ad6fc8ce7": {
      "model_module": "@jupyter-widgets/base",
      "model_module_version": "1.1.0",
      "model_name": "LayoutModel",
      "state": {
       "width": "95%"
      }
     },
     "0b4adb12a50f4673bcd9dfd589b6d201": {
      "model_module": "@jupyter-widgets/controls",
      "model_module_version": "1.4.0",
      "model_name": "DescriptionStyleModel",
      "state": {
       "description_width": "initial"
      }
     },
     "0bd80c197c53424a8496da2bd7e0c7ee": {
      "model_module": "@jupyter-widgets/controls",
      "model_module_version": "1.4.0",
      "model_name": "DescriptionStyleModel",
      "state": {
       "description_width": ""
      }
     },
     "0c03ce79269847bd87b42e8980da5ebb": {
      "model_module": "@jupyter-widgets/controls",
      "model_module_version": "1.4.0",
      "model_name": "ButtonStyleModel",
      "state": {}
     },
     "0c04bfdd8cfe4b1f8288ceb3b479473a": {
      "model_module": "@jupyter-widgets/controls",
      "model_module_version": "1.4.0",
      "model_name": "ButtonModel",
      "state": {
       "description": "Predict Response(t+1)",
       "layout": "IPY_MODEL_4f66b33320d34c768befc72938473b1d",
       "style": "IPY_MODEL_028bd2cd91d545fe8c9205a00ecc321b"
      }
     },
     "0c2ae233848f427692bf2244cd5693bc": {
      "model_module": "@jupyter-widgets/controls",
      "model_module_version": "1.4.0",
      "model_name": "TextModel",
      "state": {
       "description": "Next Step",
       "layout": "IPY_MODEL_51d112d7f2fa45c2aa3d9c595a0f3bca",
       "style": "IPY_MODEL_d616136558ae4e9aa6d12fe0940b57cb",
       "value": "Predict Response(t+1)  "
      }
     },
     "0c2c84e0fc8f44ba8c09adf8c747af47": {
      "model_module": "@jupyter-widgets/controls",
      "model_module_version": "1.4.0",
      "model_name": "ButtonStyleModel",
      "state": {}
     },
     "0cbcbb36fc93408896aaa5c8b2d1a0fa": {
      "model_module": "@jupyter-widgets/controls",
      "model_module_version": "1.4.0",
      "model_name": "FloatSliderModel",
      "state": {
       "description": "Dose(t)",
       "layout": "IPY_MODEL_039f1d23b82f4285b9bfebf626b14206",
       "max": 10,
       "min": -10,
       "step": 0.01,
       "style": "IPY_MODEL_1f259074f0a948e6bc9feb21475cec80",
       "value": 0.55
      }
     },
     "0cbece45a7864ec5bcd3fdee859abe71": {
      "model_module": "@jupyter-widgets/base",
      "model_module_version": "1.1.0",
      "model_name": "LayoutModel",
      "state": {
       "width": "42%"
      }
     },
     "0ceaace2d76b477e9abb40890611c73b": {
      "model_module": "@jupyter-widgets/controls",
      "model_module_version": "1.4.0",
      "model_name": "HBoxModel",
      "state": {
       "children": [
        "IPY_MODEL_3cd026d3f11947b89c86629b4317c82c",
        "IPY_MODEL_21521a4910c941c5badb99f512028cbe"
       ],
       "layout": "IPY_MODEL_830e933b8c6b4046982e2f0978b27179"
      }
     },
     "0cec74e386be41e894235b1d283d5640": {
      "model_module": "@jupyter-widgets/base",
      "model_module_version": "1.1.0",
      "model_name": "LayoutModel",
      "state": {
       "width": "42%"
      }
     },
     "0d11902ea12041e2ab39a6e7a9343f98": {
      "model_module": "@jupyter-widgets/base",
      "model_module_version": "1.1.0",
      "model_name": "LayoutModel",
      "state": {
       "justify_content": "center"
      }
     },
     "0d3507cea52148e9ac305c3d01e9c070": {
      "model_module": "@jupyter-widgets/controls",
      "model_module_version": "1.4.0",
      "model_name": "SliderStyleModel",
      "state": {
       "description_width": ""
      }
     },
     "0d55379f12d948a2988d3efd791b3720": {
      "model_module": "@jupyter-widgets/controls",
      "model_module_version": "1.4.0",
      "model_name": "HBoxModel",
      "state": {
       "children": [
        "IPY_MODEL_2e32e14e87b54743a6333b1e24848122",
        "IPY_MODEL_0e04b6451eb2473eb98c8f41082da030"
       ],
       "layout": "IPY_MODEL_9ace1ce2212b441d87acc5b376632568"
      }
     },
     "0e04b6451eb2473eb98c8f41082da030": {
      "model_module": "@jupyter-widgets/controls",
      "model_module_version": "1.4.0",
      "model_name": "TextModel",
      "state": {
       "description": "Next Step",
       "layout": "IPY_MODEL_c9f60bd9b782468e88953ee0a09bdb23",
       "style": "IPY_MODEL_125a9da45d1940e3a95051c4149e15e2",
       "value": "Predict Response(t+1)  "
      }
     },
     "0e6c7ec2c1e1456ba673ddbd88d91584": {
      "model_module": "@jupyter-widgets/base",
      "model_module_version": "1.1.0",
      "model_name": "LayoutModel",
      "state": {}
     },
     "0e92d5e6c94c43edaaca337b1ff7fb72": {
      "model_module": "@jupyter-widgets/base",
      "model_module_version": "1.1.0",
      "model_name": "LayoutModel",
      "state": {}
     },
     "0fa6cd9902614b48a0b705b91b8eee11": {
      "model_module": "@jupyter-widgets/base",
      "model_module_version": "1.1.0",
      "model_name": "LayoutModel",
      "state": {}
     },
     "104415e3dc274d11bd79c43b5f27da12": {
      "model_module": "@jupyter-widgets/controls",
      "model_module_version": "1.4.0",
      "model_name": "ButtonModel",
      "state": {
       "description": "Predict Response(t+1)",
       "layout": "IPY_MODEL_0cbece45a7864ec5bcd3fdee859abe71",
       "style": "IPY_MODEL_b30adf773cab45f3bceb9e478909967c"
      }
     },
     "107b293ba32b4e1fb176a8f3cb3854b4": {
      "model_module": "@jupyter-widgets/base",
      "model_module_version": "1.1.0",
      "model_name": "LayoutModel",
      "state": {}
     },
     "11578dd36a6543ceadc51fbc421dfddb": {
      "model_module": "@jupyter-widgets/base",
      "model_module_version": "1.1.0",
      "model_name": "LayoutModel",
      "state": {
       "width": "95%"
      }
     },
     "116e0cd1b5cf408ebe04f993f9f5147e": {
      "model_module": "@jupyter-widgets/controls",
      "model_module_version": "1.4.0",
      "model_name": "SliderStyleModel",
      "state": {
       "description_width": ""
      }
     },
     "12506bce982c4301861cf78be64cdb7b": {
      "model_module": "@jupyter-widgets/controls",
      "model_module_version": "1.4.0",
      "model_name": "ButtonStyleModel",
      "state": {}
     },
     "125a9da45d1940e3a95051c4149e15e2": {
      "model_module": "@jupyter-widgets/controls",
      "model_module_version": "1.4.0",
      "model_name": "DescriptionStyleModel",
      "state": {
       "description_width": ""
      }
     },
     "125cfba9ee024c9fbd91084467a841b9": {
      "model_module": "@jupyter-widgets/base",
      "model_module_version": "1.1.0",
      "model_name": "LayoutModel",
      "state": {
       "width": "95%"
      }
     },
     "136e5952035740b494afc450f8f3b651": {
      "model_module": "@jupyter-widgets/base",
      "model_module_version": "1.1.0",
      "model_name": "LayoutModel",
      "state": {
       "justify_content": "center"
      }
     },
     "13b4d94902704b9a9b87fbd0dba916e7": {
      "model_module": "@jupyter-widgets/controls",
      "model_module_version": "1.4.0",
      "model_name": "ButtonStyleModel",
      "state": {}
     },
     "13bbdc383efb4b10ad3423c4810ebb8a": {
      "model_module": "@jupyter-widgets/base",
      "model_module_version": "1.1.0",
      "model_name": "LayoutModel",
      "state": {}
     },
     "13c5a2362b9f454bb2e5b0bf4a067623": {
      "model_module": "@jupyter-widgets/controls",
      "model_module_version": "1.4.0",
      "model_name": "ButtonModel",
      "state": {
       "description": "Administer Dose(t)",
       "disabled": true,
       "layout": "IPY_MODEL_de73b20eb9e745948932872543e94e54",
       "style": "IPY_MODEL_0c2c84e0fc8f44ba8c09adf8c747af47"
      }
     },
     "13ee1d862dc749cbbddea2155a07abf6": {
      "model_module": "@jupyter-widgets/base",
      "model_module_version": "1.1.0",
      "model_name": "LayoutModel",
      "state": {}
     },
     "1459672da17441b1b5036fedbf3f7f62": {
      "model_module": "@jupyter-widgets/base",
      "model_module_version": "1.1.0",
      "model_name": "LayoutModel",
      "state": {
       "width": "42%"
      }
     },
     "14660ee3cdc5483a8b1a0c19ef7082fb": {
      "model_module": "@jupyter-widgets/controls",
      "model_module_version": "1.4.0",
      "model_name": "HBoxModel",
      "state": {
       "children": [
        "IPY_MODEL_cf05fc96408b43f9bdc0c453ea6864cf",
        "IPY_MODEL_23f38b38cb8d4622b5ff61fa1b8d9ee4"
       ],
       "layout": "IPY_MODEL_9fc75d7e40d349999c04f0da783bb570"
      }
     },
     "154bce923f2941ae81a2386ffe0d57f9": {
      "model_module": "@jupyter-widgets/controls",
      "model_module_version": "1.4.0",
      "model_name": "TextModel",
      "state": {
       "description": "Response(t+1) ",
       "disabled": true,
       "layout": "IPY_MODEL_8220a790976a4272a425e1d1d9e84390",
       "style": "IPY_MODEL_70edd22de1514253a006b9d60e2bc03d",
       "value": "4.93 (in range)"
      }
     },
     "159436a0cd284cf6998578e86d35d5dc": {
      "model_module": "@jupyter-widgets/controls",
      "model_module_version": "1.4.0",
      "model_name": "TextModel",
      "state": {
       "description": "Next Step",
       "layout": "IPY_MODEL_344e7c67fa0b424b85d38e01fd606d66",
       "style": "IPY_MODEL_421aa1cf62964b4b966f1b33cfe23c2f",
       "value": "Increase dose(t) and Predict"
      }
     },
     "16a853ca88f146759534b6dc5ad21b7f": {
      "model_module": "@jupyter-widgets/base",
      "model_module_version": "1.1.0",
      "model_name": "LayoutModel",
      "state": {
       "justify_content": "center"
      }
     },
     "1866096e9dbd44b99108550a2624bc23": {
      "model_module": "@jupyter-widgets/base",
      "model_module_version": "1.1.0",
      "model_name": "LayoutModel",
      "state": {}
     },
     "18e653a1388549b6b7eff4b1bb7be40b": {
      "model_module": "@jupyter-widgets/controls",
      "model_module_version": "1.4.0",
      "model_name": "ButtonStyleModel",
      "state": {}
     },
     "19573d4719134f44ab5b7f6a5c82bffa": {
      "model_module": "@jupyter-widgets/controls",
      "model_module_version": "1.4.0",
      "model_name": "TextModel",
      "state": {
       "description": "Next Step",
       "layout": "IPY_MODEL_56d898b0af4e423a9b4245b44b2fc3d6",
       "style": "IPY_MODEL_80cd114a38464c4cbc204266e9fc488d",
       "value": "Predict Response(t+1)  "
      }
     },
     "199141a40c4b46b0b0b363e1d4f2d8fe": {
      "model_module": "@jupyter-widgets/controls",
      "model_module_version": "1.4.0",
      "model_name": "FloatSliderModel",
      "state": {
       "description": "Dose(t)",
       "layout": "IPY_MODEL_7c5d0ea7299946cdbc7d7b291c706703",
       "max": 10,
       "min": -10,
       "step": 0.01,
       "style": "IPY_MODEL_4a30ba8a37c94d468755273ce5e0b916",
       "value": 0.54
      }
     },
     "19a11e2a031d4fe184ee96c41a51c21b": {
      "model_module": "@jupyter-widgets/base",
      "model_module_version": "1.1.0",
      "model_name": "LayoutModel",
      "state": {
       "justify_content": "center"
      }
     },
     "1a031a64af954efaa80368c61daa9e6b": {
      "model_module": "@jupyter-widgets/controls",
      "model_module_version": "1.4.0",
      "model_name": "FloatSliderModel",
      "state": {
       "description": "Dose(t)",
       "layout": "IPY_MODEL_b33631432e254b3982521671ebb0f71e",
       "max": 10,
       "min": -10,
       "step": 0.01,
       "style": "IPY_MODEL_54aca4b6bc304a33912aa03f2bd2dc3f",
       "value": -10
      }
     },
     "1a0b5357728b4aafb8d09ae3b12d86af": {
      "model_module": "@jupyter-widgets/base",
      "model_module_version": "1.1.0",
      "model_name": "LayoutModel",
      "state": {
       "width": "42%"
      }
     },
     "1a294373fb3e471baff499db21d1ef5e": {
      "model_module": "@jupyter-widgets/base",
      "model_module_version": "1.1.0",
      "model_name": "LayoutModel",
      "state": {
       "width": "42%"
      }
     },
     "1a33db65a5b247edb66543cfcf09f047": {
      "model_module": "@jupyter-widgets/controls",
      "model_module_version": "1.4.0",
      "model_name": "ButtonModel",
      "state": {
       "description": "Administer Dose(t)",
       "disabled": true,
       "layout": "IPY_MODEL_86e135c9b77c4838a37546c1522ebc08",
       "style": "IPY_MODEL_3b356e18494a4dfaba153780407a990b"
      }
     },
     "1a47e945434342459c45e3e7f781702a": {
      "model_module": "@jupyter-widgets/base",
      "model_module_version": "1.1.0",
      "model_name": "LayoutModel",
      "state": {}
     },
     "1a81dda27e53407e91e804d2b58d0633": {
      "model_module": "@jupyter-widgets/controls",
      "model_module_version": "1.4.0",
      "model_name": "DescriptionStyleModel",
      "state": {
       "description_width": "initial"
      }
     },
     "1aa56fd36cad4c4fb404c0c9899988a2": {
      "model_module": "@jupyter-widgets/base",
      "model_module_version": "1.1.0",
      "model_name": "LayoutModel",
      "state": {
       "justify_content": "center"
      }
     },
     "1af2fddaafa44561adabd0d381aed625": {
      "model_module": "@jupyter-widgets/base",
      "model_module_version": "1.1.0",
      "model_name": "LayoutModel",
      "state": {}
     },
     "1b1c3be31bd647e0a326bed1802ffee0": {
      "model_module": "@jupyter-widgets/controls",
      "model_module_version": "1.4.0",
      "model_name": "TextModel",
      "state": {
       "description": "Next Step",
       "layout": "IPY_MODEL_067bb896fada40dd99aec8772b9f970b",
       "style": "IPY_MODEL_cbc46f25282c4cd2a6adca13fc027f2d",
       "value": "Predict Response(t+1)  "
      }
     },
     "1b217daf35ea4786b9473ceb6aa5029e": {
      "model_module": "@jupyter-widgets/base",
      "model_module_version": "1.1.0",
      "model_name": "LayoutModel",
      "state": {
       "width": "42%"
      }
     },
     "1b819ccbdc484c548cda756cc2159f18": {
      "model_module": "@jupyter-widgets/base",
      "model_module_version": "1.1.0",
      "model_name": "LayoutModel",
      "state": {
       "width": "42%"
      }
     },
     "1c178a7475824a139655dba09dc4cc50": {
      "model_module": "@jupyter-widgets/controls",
      "model_module_version": "1.4.0",
      "model_name": "ButtonStyleModel",
      "state": {}
     },
     "1c4c9ec2fbbc4b46ad38a4a76d51bbe1": {
      "model_module": "@jupyter-widgets/controls",
      "model_module_version": "1.4.0",
      "model_name": "HBoxModel",
      "state": {
       "children": [
        "IPY_MODEL_d036e8573f03408da42d8d5534c250ae",
        "IPY_MODEL_4737425401214705bf3400961d0cd709"
       ],
       "layout": "IPY_MODEL_2cfb865ac50d4141b32e3cd98f8c3e2f"
      }
     },
     "1c6f33dbd92d427c9078f609b45cce21": {
      "model_module": "@jupyter-widgets/controls",
      "model_module_version": "1.4.0",
      "model_name": "SliderStyleModel",
      "state": {
       "description_width": ""
      }
     },
     "1cd082ab6eaa414d89de220e7641b816": {
      "model_module": "@jupyter-widgets/controls",
      "model_module_version": "1.4.0",
      "model_name": "TextModel",
      "state": {
       "description": "Response(t+1) ",
       "disabled": true,
       "layout": "IPY_MODEL_76a84a812ee34dd08cfb2c530dd06ad4",
       "style": "IPY_MODEL_e67a95b1af044a58bb210f267a357a22",
       "value": "  "
      }
     },
     "1d4dc086f9fe458ab5737d1aaf2b80b1": {
      "model_module": "@jupyter-widgets/base",
      "model_module_version": "1.1.0",
      "model_name": "LayoutModel",
      "state": {
       "width": "42%"
      }
     },
     "1d9f3480e70c4fe2ae8af18af92b1f4b": {
      "model_module": "@jupyter-widgets/controls",
      "model_module_version": "1.4.0",
      "model_name": "ButtonStyleModel",
      "state": {}
     },
     "1e34031a506543c5bdf5af44cc63a8cd": {
      "model_module": "@jupyter-widgets/base",
      "model_module_version": "1.1.0",
      "model_name": "LayoutModel",
      "state": {
       "justify_content": "center"
      }
     },
     "1e401af41921416bb7a62a83538f41d3": {
      "model_module": "@jupyter-widgets/controls",
      "model_module_version": "1.4.0",
      "model_name": "DescriptionStyleModel",
      "state": {
       "description_width": "initial"
      }
     },
     "1ef26e0b6a91477d88fcba7838e555e1": {
      "model_module": "@jupyter-widgets/base",
      "model_module_version": "1.1.0",
      "model_name": "LayoutModel",
      "state": {}
     },
     "1f259074f0a948e6bc9feb21475cec80": {
      "model_module": "@jupyter-widgets/controls",
      "model_module_version": "1.4.0",
      "model_name": "SliderStyleModel",
      "state": {
       "description_width": ""
      }
     },
     "1fa8a91257e040bab72bdfa0a25341e5": {
      "model_module": "@jupyter-widgets/base",
      "model_module_version": "1.1.0",
      "model_name": "LayoutModel",
      "state": {}
     },
     "20aff08d051240fa9ffd54927ff8d698": {
      "model_module": "@jupyter-widgets/base",
      "model_module_version": "1.1.0",
      "model_name": "LayoutModel",
      "state": {
       "width": "95%"
      }
     },
     "21521a4910c941c5badb99f512028cbe": {
      "model_module": "@jupyter-widgets/controls",
      "model_module_version": "1.4.0",
      "model_name": "ButtonModel",
      "state": {
       "description": "Administer Dose(t)",
       "disabled": true,
       "layout": "IPY_MODEL_a2a720b4c247408eb78f4a3f90533ef2",
       "style": "IPY_MODEL_3e9081422e614a52bb96b36563e1dda4"
      }
     },
     "2172a36b7bcb49d284b831f99b3ee9c5": {
      "model_module": "@jupyter-widgets/controls",
      "model_module_version": "1.4.0",
      "model_name": "ButtonStyleModel",
      "state": {}
     },
     "21e4ae81a2a244c08e21c83cf48d4ff3": {
      "model_module": "@jupyter-widgets/controls",
      "model_module_version": "1.4.0",
      "model_name": "HBoxModel",
      "state": {
       "children": [
        "IPY_MODEL_ba3f192f144d494d8cf8685c7bfdd3d5",
        "IPY_MODEL_bc0d560476494f5ea7915bd65bcd0ff4"
       ],
       "layout": "IPY_MODEL_3027cdb0e0e449e4939059655903bdf5"
      }
     },
     "2252216b11674301a1dc6d6793999617": {
      "model_module": "@jupyter-widgets/controls",
      "model_module_version": "1.4.0",
      "model_name": "TextModel",
      "state": {
       "description": "Next Step",
       "layout": "IPY_MODEL_eff92387c36f4c4b8cca66708946cf10",
       "style": "IPY_MODEL_0bd80c197c53424a8496da2bd7e0c7ee",
       "value": "Predict Response(t+1)"
      }
     },
     "22e6bce546434bcf9cc42eb9a0d861e9": {
      "model_module": "@jupyter-widgets/base",
      "model_module_version": "1.1.0",
      "model_name": "LayoutModel",
      "state": {
       "width": "42%"
      }
     },
     "239604b382cc45ba8ad27702a222d56a": {
      "model_module": "@jupyter-widgets/base",
      "model_module_version": "1.1.0",
      "model_name": "LayoutModel",
      "state": {
       "width": "42%"
      }
     },
     "2399dfa291d34d81a4471b906c5f59a7": {
      "model_module": "@jupyter-widgets/controls",
      "model_module_version": "1.4.0",
      "model_name": "ButtonModel",
      "state": {
       "description": "Predict Response(t+1)",
       "disabled": true,
       "layout": "IPY_MODEL_7ea1551cb76542dfa760a333e0619a55",
       "style": "IPY_MODEL_494d94cf1e2d494ebb127c2253cc312b"
      }
     },
     "23e43d5663aa45b1837a11cc6423dc86": {
      "model_module": "@jupyter-widgets/controls",
      "model_module_version": "1.4.0",
      "model_name": "ButtonModel",
      "state": {
       "description": "Predict Response(t+1)",
       "layout": "IPY_MODEL_cfad5f40eb6f46cd8b3581b426a7ae98",
       "style": "IPY_MODEL_ae4991a3f97c4b409a66d7a43f6482f6"
      }
     },
     "23f38b38cb8d4622b5ff61fa1b8d9ee4": {
      "model_module": "@jupyter-widgets/controls",
      "model_module_version": "1.4.0",
      "model_name": "TextModel",
      "state": {
       "description": "Next Step",
       "layout": "IPY_MODEL_78a42dfce3184274a4c6b65b2661ce48",
       "style": "IPY_MODEL_c4e9ea7f188843f09240fe0a0b204a8d",
       "value": "Successful Completion"
      }
     },
     "26a812405eea4253a93b39eefb7b86e9": {
      "model_module": "@jupyter-widgets/controls",
      "model_module_version": "1.4.0",
      "model_name": "ButtonStyleModel",
      "state": {}
     },
     "26d39e3bcfc7405bbc3070fe887e5b5f": {
      "model_module": "@jupyter-widgets/controls",
      "model_module_version": "1.4.0",
      "model_name": "DescriptionStyleModel",
      "state": {
       "description_width": "initial"
      }
     },
     "27148d3d2a91470a8e93086db90bdb67": {
      "model_module": "@jupyter-widgets/base",
      "model_module_version": "1.1.0",
      "model_name": "LayoutModel",
      "state": {
       "width": "95%"
      }
     },
     "2716394188814ea3bbed14d8fdddb46a": {
      "model_module": "@jupyter-widgets/base",
      "model_module_version": "1.1.0",
      "model_name": "LayoutModel",
      "state": {
       "width": "42%"
      }
     },
     "27f5b70e098c4b9d81a153cf7d1042ff": {
      "model_module": "@jupyter-widgets/controls",
      "model_module_version": "1.4.0",
      "model_name": "DescriptionStyleModel",
      "state": {
       "description_width": ""
      }
     },
     "27fbb970d8be4c6bbf7720bc6213aa95": {
      "model_module": "@jupyter-widgets/controls",
      "model_module_version": "1.4.0",
      "model_name": "HBoxModel",
      "state": {
       "children": [
        "IPY_MODEL_6ce739e45dff4f8b83001e3123dbec5c",
        "IPY_MODEL_dd8fa56ff0724f18a2d9cab6f0ec028c"
       ],
       "layout": "IPY_MODEL_0a3d2324961e467eae6f1ff60926d509"
      }
     },
     "289ce1c4d99c4438b5c6b5a66455f323": {
      "model_module": "@jupyter-widgets/base",
      "model_module_version": "1.1.0",
      "model_name": "LayoutModel",
      "state": {
       "justify_content": "center"
      }
     },
     "28b8902771b3468092e52579ac4ab90a": {
      "model_module": "@jupyter-widgets/controls",
      "model_module_version": "1.4.0",
      "model_name": "HBoxModel",
      "state": {
       "children": [
        "IPY_MODEL_98b80fda51614ef8974d051b0d6a752d",
        "IPY_MODEL_a6748909755240dd86c658c012f4c7f5"
       ],
       "layout": "IPY_MODEL_16a853ca88f146759534b6dc5ad21b7f"
      }
     },
     "2920fed62830475bb0ff4960fc59cf03": {
      "model_module": "@jupyter-widgets/controls",
      "model_module_version": "1.4.0",
      "model_name": "HBoxModel",
      "state": {
       "children": [
        "IPY_MODEL_154bce923f2941ae81a2386ffe0d57f9",
        "IPY_MODEL_4d908e0c9be14de49ca98f372f429f04"
       ],
       "layout": "IPY_MODEL_e4b040841521454bae2f6ef5f4bdedaa"
      }
     },
     "298f656de276460bb188b6afb865c608": {
      "model_module": "@jupyter-widgets/base",
      "model_module_version": "1.1.0",
      "model_name": "LayoutModel",
      "state": {
       "width": "42%"
      }
     },
     "29ffeb9cbd8445c2b8fc173a79833169": {
      "model_module": "@jupyter-widgets/controls",
      "model_module_version": "1.4.0",
      "model_name": "HBoxModel",
      "state": {
       "children": [
        "IPY_MODEL_f49a21904bab4bdcafd64208d655657f",
        "IPY_MODEL_dca72deb8666487b927d3ec90b3614e7"
       ],
       "layout": "IPY_MODEL_9e2ef801742a4da8ae107ad19c365c97"
      }
     },
     "2a0398caad7642f1834101c1a91afe65": {
      "model_module": "@jupyter-widgets/controls",
      "model_module_version": "1.4.0",
      "model_name": "HBoxModel",
      "state": {
       "children": [
        "IPY_MODEL_502592db6ed94a9d9494e587d4e82ce8",
        "IPY_MODEL_c82d6355ac524ebeb0a03bf645e841f5"
       ],
       "layout": "IPY_MODEL_40d2fccb7a87416f8465c80d172020c0"
      }
     },
     "2a0cca7a6eac41afaf72a022b26030e2": {
      "model_module": "@jupyter-widgets/controls",
      "model_module_version": "1.4.0",
      "model_name": "ButtonStyleModel",
      "state": {}
     },
     "2a8cd7f652c14b14a0e385a7a62a4aca": {
      "model_module": "@jupyter-widgets/base",
      "model_module_version": "1.1.0",
      "model_name": "LayoutModel",
      "state": {}
     },
     "2b035a3ed20341c08bb72da2db1feeec": {
      "model_module": "@jupyter-widgets/base",
      "model_module_version": "1.1.0",
      "model_name": "LayoutModel",
      "state": {
       "justify_content": "center"
      }
     },
     "2b0fa78cc9e74364ad1dc5b54d82b1a0": {
      "model_module": "@jupyter-widgets/controls",
      "model_module_version": "1.4.0",
      "model_name": "TextModel",
      "state": {
       "description": "Next Step",
       "layout": "IPY_MODEL_f38acae4f32d4ee9a1344e90b97aca43",
       "style": "IPY_MODEL_32c674279a26479d85aa368bd4d400c5",
       "value": "Hit lower tox limit"
      }
     },
     "2baa73a4f8e444699ebd761f0b0e6d34": {
      "model_module": "@jupyter-widgets/base",
      "model_module_version": "1.1.0",
      "model_name": "LayoutModel",
      "state": {
       "width": "42%"
      }
     },
     "2c9e5853c1974f9f9569e2320606b35b": {
      "model_module": "@jupyter-widgets/controls",
      "model_module_version": "1.4.0",
      "model_name": "FloatSliderModel",
      "state": {
       "description": "Dose(t)",
       "layout": "IPY_MODEL_5dc86fa408124542aba9db2b2a063a10",
       "max": 10,
       "min": -10,
       "step": 0.01,
       "style": "IPY_MODEL_b3d7ba76564d488bb4b95b202cdceb96",
       "value": 1.43
      }
     },
     "2ca12a6601e44c4ba1b0259243f20316": {
      "model_module": "@jupyter-widgets/controls",
      "model_module_version": "1.4.0",
      "model_name": "ButtonModel",
      "state": {
       "description": "Administer Dose(t)",
       "disabled": true,
       "layout": "IPY_MODEL_97d026ee3b174d3bb0ce997c953253f6",
       "style": "IPY_MODEL_0c03ce79269847bd87b42e8980da5ebb"
      }
     },
     "2ce967ef069b4ac18b196848fe54a992": {
      "model_module": "@jupyter-widgets/base",
      "model_module_version": "1.1.0",
      "model_name": "LayoutModel",
      "state": {
       "justify_content": "center"
      }
     },
     "2cfb865ac50d4141b32e3cd98f8c3e2f": {
      "model_module": "@jupyter-widgets/base",
      "model_module_version": "1.1.0",
      "model_name": "LayoutModel",
      "state": {
       "justify_content": "center"
      }
     },
     "2e32e14e87b54743a6333b1e24848122": {
      "model_module": "@jupyter-widgets/controls",
      "model_module_version": "1.4.0",
      "model_name": "TextModel",
      "state": {
       "description": "Response(t+1) ",
       "disabled": true,
       "layout": "IPY_MODEL_0e6c7ec2c1e1456ba673ddbd88d91584",
       "style": "IPY_MODEL_589393802fe1448c9a734386253498d5",
       "value": "  "
      }
     },
     "2e35f1bf00f1439cba5982d0e06be281": {
      "model_module": "@jupyter-widgets/controls",
      "model_module_version": "1.4.0",
      "model_name": "HBoxModel",
      "state": {
       "children": [
        "IPY_MODEL_d54fc47a08544f10abf9e225e368b838",
        "IPY_MODEL_f57f160c031a4385b96699f3de1a0ed2"
       ],
       "layout": "IPY_MODEL_609532047cea4d2aa5a76e190017a882"
      }
     },
     "2eedc88b87be4cc598862ac1d2e6f0b9": {
      "model_module": "@jupyter-widgets/base",
      "model_module_version": "1.1.0",
      "model_name": "LayoutModel",
      "state": {
       "width": "42%"
      }
     },
     "2f4dc84a2025406d8272c2d578657e2e": {
      "model_module": "@jupyter-widgets/controls",
      "model_module_version": "1.4.0",
      "model_name": "ButtonModel",
      "state": {
       "description": "Predict Response(t+1)",
       "layout": "IPY_MODEL_c4ff340510a644bda9997d29b5d9f3b4",
       "style": "IPY_MODEL_3bf0987f3a9d45dea299b14bb28cba78"
      }
     },
     "300226540e174695a06f188d144a9cce": {
      "model_module": "@jupyter-widgets/base",
      "model_module_version": "1.1.0",
      "model_name": "LayoutModel",
      "state": {}
     },
     "3027cdb0e0e449e4939059655903bdf5": {
      "model_module": "@jupyter-widgets/base",
      "model_module_version": "1.1.0",
      "model_name": "LayoutModel",
      "state": {
       "justify_content": "center"
      }
     },
     "305236f6a28743d7938b10de74266493": {
      "model_module": "@jupyter-widgets/base",
      "model_module_version": "1.1.0",
      "model_name": "LayoutModel",
      "state": {}
     },
     "3139cf01dd9f453eb2d2373f3f9b750a": {
      "model_module": "@jupyter-widgets/controls",
      "model_module_version": "1.4.0",
      "model_name": "ButtonStyleModel",
      "state": {}
     },
     "32640199eeab48f9bdc3cdc391c8f276": {
      "model_module": "@jupyter-widgets/base",
      "model_module_version": "1.1.0",
      "model_name": "LayoutModel",
      "state": {
       "width": "42%"
      }
     },
     "326eaa7843094062aaa5a5676815ddfd": {
      "model_module": "@jupyter-widgets/base",
      "model_module_version": "1.1.0",
      "model_name": "LayoutModel",
      "state": {
       "justify_content": "center"
      }
     },
     "32c674279a26479d85aa368bd4d400c5": {
      "model_module": "@jupyter-widgets/controls",
      "model_module_version": "1.4.0",
      "model_name": "DescriptionStyleModel",
      "state": {
       "description_width": ""
      }
     },
     "337053ece59c44e196c0dbc2926fbd9c": {
      "model_module": "@jupyter-widgets/controls",
      "model_module_version": "1.4.0",
      "model_name": "ButtonStyleModel",
      "state": {}
     },
     "3371818383a148888fabe75ddb343bd2": {
      "model_module": "@jupyter-widgets/base",
      "model_module_version": "1.1.0",
      "model_name": "LayoutModel",
      "state": {
       "width": "42%"
      }
     },
     "33a6500f707847b095c0b1447d0e2b92": {
      "model_module": "@jupyter-widgets/base",
      "model_module_version": "1.1.0",
      "model_name": "LayoutModel",
      "state": {}
     },
     "344e7c67fa0b424b85d38e01fd606d66": {
      "model_module": "@jupyter-widgets/base",
      "model_module_version": "1.1.0",
      "model_name": "LayoutModel",
      "state": {}
     },
     "34514ad588054f2e92cb0277cbf6339a": {
      "model_module": "@jupyter-widgets/base",
      "model_module_version": "1.1.0",
      "model_name": "LayoutModel",
      "state": {
       "width": "95%"
      }
     },
     "347330237ad74458bab5576eae6126f6": {
      "model_module": "@jupyter-widgets/controls",
      "model_module_version": "1.4.0",
      "model_name": "FloatSliderModel",
      "state": {
       "description": "Dose(t)",
       "layout": "IPY_MODEL_b04f1d8494bd4c1f82f229260ef4ce36",
       "max": 10,
       "min": -10,
       "step": 0.01,
       "style": "IPY_MODEL_7efde4aaa13a4f92a249a7d729e1520c",
       "value": 0.53
      }
     },
     "34ec8a28c8314445b1dc79b2cd84a844": {
      "model_module": "@jupyter-widgets/base",
      "model_module_version": "1.1.0",
      "model_name": "LayoutModel",
      "state": {
       "width": "95%"
      }
     },
     "35dddc4c35d849bfa1196cb47a035aff": {
      "model_module": "@jupyter-widgets/controls",
      "model_module_version": "1.4.0",
      "model_name": "FloatSliderModel",
      "state": {
       "description": "Dose(t)",
       "layout": "IPY_MODEL_ed9cbe41ffa64544a995f86234da6a73",
       "max": 10,
       "min": -10,
       "step": 0.01,
       "style": "IPY_MODEL_076ec1030c03401c83308d41f6b3e233"
      }
     },
     "363c8d17ceac405b97e59eb5328111c9": {
      "model_module": "@jupyter-widgets/controls",
      "model_module_version": "1.4.0",
      "model_name": "ButtonModel",
      "state": {
       "description": "Predict Response(t+1)",
       "layout": "IPY_MODEL_ab6dda5c8b994a2c8959652eef1743d3",
       "style": "IPY_MODEL_b2d3acf0d2e14ecea3f5bd778f3f7e36"
      }
     },
     "36499fb0416d4ba9a0dcd3517e4694c5": {
      "model_module": "@jupyter-widgets/controls",
      "model_module_version": "1.4.0",
      "model_name": "ButtonStyleModel",
      "state": {}
     },
     "37cbf8c6252f4ceba02012dd144ab6c2": {
      "model_module": "@jupyter-widgets/controls",
      "model_module_version": "1.4.0",
      "model_name": "HBoxModel",
      "state": {
       "children": [
        "IPY_MODEL_e8d2bfa31b2345d9b6770adc27d9e13b",
        "IPY_MODEL_2252216b11674301a1dc6d6793999617"
       ],
       "layout": "IPY_MODEL_8f102acff5d94b9db39321529daa7463"
      }
     },
     "37d1111072bd43b2b3bceac7c6626425": {
      "model_module": "@jupyter-widgets/controls",
      "model_module_version": "1.4.0",
      "model_name": "DescriptionStyleModel",
      "state": {
       "description_width": ""
      }
     },
     "381df80769c94b0bbf669d739f317b3c": {
      "model_module": "@jupyter-widgets/controls",
      "model_module_version": "1.4.0",
      "model_name": "SliderStyleModel",
      "state": {
       "description_width": ""
      }
     },
     "386346217bc54b6a8c8ddb9199f0d2cf": {
      "model_module": "@jupyter-widgets/base",
      "model_module_version": "1.1.0",
      "model_name": "LayoutModel",
      "state": {
       "justify_content": "center"
      }
     },
     "38dd512af98346688253ae2c692b679f": {
      "model_module": "@jupyter-widgets/controls",
      "model_module_version": "1.4.0",
      "model_name": "HBoxModel",
      "state": {
       "children": [
        "IPY_MODEL_0c04bfdd8cfe4b1f8288ceb3b479473a",
        "IPY_MODEL_67dc0b4592a54b44b5fa1c0a144d8bfd"
       ],
       "layout": "IPY_MODEL_e8599bd2a44349adb56784521e651176"
      }
     },
     "391db06aff1f48dc9239e3afadae891b": {
      "model_module": "@jupyter-widgets/controls",
      "model_module_version": "1.4.0",
      "model_name": "HBoxModel",
      "state": {
       "children": [
        "IPY_MODEL_414c94a7421448998be5e05fe7fdf784",
        "IPY_MODEL_963c2a580dda400e9d632821f46e338c"
       ],
       "layout": "IPY_MODEL_87dbbd26f1d64a4eb8f392affd5b80c0"
      }
     },
     "3b356e18494a4dfaba153780407a990b": {
      "model_module": "@jupyter-widgets/controls",
      "model_module_version": "1.4.0",
      "model_name": "ButtonStyleModel",
      "state": {}
     },
     "3ba5003d35e9476fb93f2752326b1e1c": {
      "model_module": "@jupyter-widgets/controls",
      "model_module_version": "1.4.0",
      "model_name": "DescriptionStyleModel",
      "state": {
       "description_width": "initial"
      }
     },
     "3ba95bd352924e83b222406a56d0c238": {
      "model_module": "@jupyter-widgets/base",
      "model_module_version": "1.1.0",
      "model_name": "LayoutModel",
      "state": {}
     },
     "3bcf8d3723de4eea9cbcaf412a808af5": {
      "model_module": "@jupyter-widgets/controls",
      "model_module_version": "1.4.0",
      "model_name": "TextModel",
      "state": {
       "description": "Next Step",
       "layout": "IPY_MODEL_13ee1d862dc749cbbddea2155a07abf6",
       "style": "IPY_MODEL_d2a23063baf84feb87593f04fab42cd6",
       "value": "Predict Response(t+1)  "
      }
     },
     "3bcf9f46ff2449369608dfa3b874e388": {
      "model_module": "@jupyter-widgets/base",
      "model_module_version": "1.1.0",
      "model_name": "LayoutModel",
      "state": {}
     },
     "3bf0987f3a9d45dea299b14bb28cba78": {
      "model_module": "@jupyter-widgets/controls",
      "model_module_version": "1.4.0",
      "model_name": "ButtonStyleModel",
      "state": {}
     },
     "3cd026d3f11947b89c86629b4317c82c": {
      "model_module": "@jupyter-widgets/controls",
      "model_module_version": "1.4.0",
      "model_name": "ButtonModel",
      "state": {
       "description": "Predict Response(t+1)",
       "layout": "IPY_MODEL_1b819ccbdc484c548cda756cc2159f18",
       "style": "IPY_MODEL_be8303ca437c442292c37b189157c7c3"
      }
     },
     "3ce88834dad3452aa1cf30b11584ec6c": {
      "model_module": "@jupyter-widgets/controls",
      "model_module_version": "1.4.0",
      "model_name": "ButtonModel",
      "state": {
       "description": "Administer Dose(t)",
       "disabled": true,
       "layout": "IPY_MODEL_a7ed6fa9d13041a88fc14cf0025cfb71",
       "style": "IPY_MODEL_a71d7b646bee4aef83141bf5554d00ad"
      }
     },
     "3d7ff347306d42b98bd568bb482d3a22": {
      "model_module": "@jupyter-widgets/controls",
      "model_module_version": "1.4.0",
      "model_name": "ButtonStyleModel",
      "state": {}
     },
     "3e9081422e614a52bb96b36563e1dda4": {
      "model_module": "@jupyter-widgets/controls",
      "model_module_version": "1.4.0",
      "model_name": "ButtonStyleModel",
      "state": {}
     },
     "3edcee2a091d41558d85ec886821438e": {
      "model_module": "@jupyter-widgets/controls",
      "model_module_version": "1.4.0",
      "model_name": "ButtonStyleModel",
      "state": {}
     },
     "3f2c218119f047a08f2dd2cd0dbeea3b": {
      "model_module": "@jupyter-widgets/base",
      "model_module_version": "1.1.0",
      "model_name": "LayoutModel",
      "state": {}
     },
     "40639ebc812a4bb4a837b4a78c86a201": {
      "model_module": "@jupyter-widgets/controls",
      "model_module_version": "1.4.0",
      "model_name": "HBoxModel",
      "state": {
       "children": [
        "IPY_MODEL_363c8d17ceac405b97e59eb5328111c9",
        "IPY_MODEL_53495fb6e25a4e0da2d05a64f28649b1"
       ],
       "layout": "IPY_MODEL_a333d61bc5b94090a0ab4a2fd38b58cc"
      }
     },
     "40981a7a083f4622ba7768ab2b273685": {
      "model_module": "@jupyter-widgets/controls",
      "model_module_version": "1.4.0",
      "model_name": "DescriptionStyleModel",
      "state": {
       "description_width": "initial"
      }
     },
     "40d2fccb7a87416f8465c80d172020c0": {
      "model_module": "@jupyter-widgets/base",
      "model_module_version": "1.1.0",
      "model_name": "LayoutModel",
      "state": {
       "justify_content": "center"
      }
     },
     "40f40cab43f54764a6e64bebaee628d2": {
      "model_module": "@jupyter-widgets/controls",
      "model_module_version": "1.4.0",
      "model_name": "DescriptionStyleModel",
      "state": {
       "description_width": "initial"
      }
     },
     "4148125e6a6e458fbfcb0382dba69ff3": {
      "model_module": "@jupyter-widgets/controls",
      "model_module_version": "1.4.0",
      "model_name": "HBoxModel",
      "state": {
       "children": [
        "IPY_MODEL_f2f09903188a48d6ac121316a6f6ef94",
        "IPY_MODEL_0c2ae233848f427692bf2244cd5693bc"
       ],
       "layout": "IPY_MODEL_6ede3c958df5435d9877b770809d7733"
      }
     },
     "414c94a7421448998be5e05fe7fdf784": {
      "model_module": "@jupyter-widgets/controls",
      "model_module_version": "1.4.0",
      "model_name": "ButtonModel",
      "state": {
       "description": "Predict Response(t+1)",
       "layout": "IPY_MODEL_e82ec4c293a0420586df3c59390abade",
       "style": "IPY_MODEL_2172a36b7bcb49d284b831f99b3ee9c5"
      }
     },
     "421aa1cf62964b4b966f1b33cfe23c2f": {
      "model_module": "@jupyter-widgets/controls",
      "model_module_version": "1.4.0",
      "model_name": "DescriptionStyleModel",
      "state": {
       "description_width": ""
      }
     },
     "424b555ce6c0412f9b2d509f22b566b9": {
      "model_module": "@jupyter-widgets/controls",
      "model_module_version": "1.4.0",
      "model_name": "ButtonModel",
      "state": {
       "description": "Predict Response(t+1)",
       "layout": "IPY_MODEL_d8a1f05178cc4f789b89c399f8333eae",
       "style": "IPY_MODEL_1d9f3480e70c4fe2ae8af18af92b1f4b"
      }
     },
     "4259f8181294444b8f088c32fc551b3a": {
      "model_module": "@jupyter-widgets/controls",
      "model_module_version": "1.4.0",
      "model_name": "HBoxModel",
      "state": {
       "children": [
        "IPY_MODEL_61692497929e41e3910975ff667ca0c3",
        "IPY_MODEL_537f68d0d46c43e9b2c8a1bf8eac4ce8"
       ],
       "layout": "IPY_MODEL_fbc759d0f1b540cd9be186f41aaad8bb"
      }
     },
     "43a7f22d76124aad926313165059f602": {
      "model_module": "@jupyter-widgets/controls",
      "model_module_version": "1.4.0",
      "model_name": "FloatSliderModel",
      "state": {
       "description": "Dose(t)",
       "layout": "IPY_MODEL_d7326285cbd4420f82951e220971ae4c",
       "max": 10,
       "min": -10,
       "step": 0.01,
       "style": "IPY_MODEL_116e0cd1b5cf408ebe04f993f9f5147e",
       "value": 0.54
      }
     },
     "44213fa0d677497298f063b039f0d490": {
      "model_module": "@jupyter-widgets/controls",
      "model_module_version": "1.4.0",
      "model_name": "ButtonModel",
      "state": {
       "description": "Administer Dose(t)",
       "disabled": true,
       "layout": "IPY_MODEL_1459672da17441b1b5036fedbf3f7f62",
       "style": "IPY_MODEL_49fe473726c54356b71f76199a6da9e1"
      }
     },
     "459573a5464e4040be333848d966ef81": {
      "model_module": "@jupyter-widgets/controls",
      "model_module_version": "1.4.0",
      "model_name": "ButtonModel",
      "state": {
       "description": "Administer Dose(t)",
       "disabled": true,
       "layout": "IPY_MODEL_0cec74e386be41e894235b1d283d5640",
       "style": "IPY_MODEL_36499fb0416d4ba9a0dcd3517e4694c5"
      }
     },
     "45ef44f8e2374c9380d0c76e93e788d8": {
      "model_module": "@jupyter-widgets/base",
      "model_module_version": "1.1.0",
      "model_name": "LayoutModel",
      "state": {
       "width": "42%"
      }
     },
     "4701c9fe2d8c4ebb99a0c63aa03b8bef": {
      "model_module": "@jupyter-widgets/base",
      "model_module_version": "1.1.0",
      "model_name": "LayoutModel",
      "state": {
       "justify_content": "center"
      }
     },
     "4737425401214705bf3400961d0cd709": {
      "model_module": "@jupyter-widgets/controls",
      "model_module_version": "1.4.0",
      "model_name": "ButtonModel",
      "state": {
       "description": "Administer Dose(t)",
       "disabled": true,
       "layout": "IPY_MODEL_bd6ee27849ac42cc82371d07c9d643b6",
       "style": "IPY_MODEL_eb9c5f8672ff4fd18894ebc109c60eda"
      }
     },
     "4763a37985c14ae69805f7acfe9e0a63": {
      "model_module": "@jupyter-widgets/controls",
      "model_module_version": "1.4.0",
      "model_name": "FloatSliderModel",
      "state": {
       "description": "Dose(t)",
       "layout": "IPY_MODEL_34ec8a28c8314445b1dc79b2cd84a844",
       "max": 10,
       "min": -10,
       "step": 0.01,
       "style": "IPY_MODEL_93040ce097b44940a7545427822657d7",
       "value": -10
      }
     },
     "47a4fcb027254d6997b49582dd52a557": {
      "model_module": "@jupyter-widgets/controls",
      "model_module_version": "1.4.0",
      "model_name": "ButtonStyleModel",
      "state": {}
     },
     "48d47461415f48da87d6bd3143780f2b": {
      "model_module": "@jupyter-widgets/controls",
      "model_module_version": "1.4.0",
      "model_name": "ButtonModel",
      "state": {
       "description": "Predict Response(t+1)",
       "layout": "IPY_MODEL_66c317b7ed0c4b4eb501110b4d6982e6",
       "style": "IPY_MODEL_d580c39264154a45846367f9dd1427e5"
      }
     },
     "48e65c1b8a3b4a88aa4f79ca9f9e0f62": {
      "model_module": "@jupyter-widgets/controls",
      "model_module_version": "1.4.0",
      "model_name": "DescriptionStyleModel",
      "state": {
       "description_width": ""
      }
     },
     "494d94cf1e2d494ebb127c2253cc312b": {
      "model_module": "@jupyter-widgets/controls",
      "model_module_version": "1.4.0",
      "model_name": "ButtonStyleModel",
      "state": {}
     },
     "497ddd7f230f4030ab3abd315293be50": {
      "model_module": "@jupyter-widgets/controls",
      "model_module_version": "1.4.0",
      "model_name": "ButtonStyleModel",
      "state": {}
     },
     "4981081503a24939920c25f27f01c7bd": {
      "model_module": "@jupyter-widgets/base",
      "model_module_version": "1.1.0",
      "model_name": "LayoutModel",
      "state": {
       "width": "95%"
      }
     },
     "49993292fef14d3b87f61e4c57a29f80": {
      "model_module": "@jupyter-widgets/base",
      "model_module_version": "1.1.0",
      "model_name": "LayoutModel",
      "state": {}
     },
     "49e2096b0376466b9a74b992b8330d8c": {
      "model_module": "@jupyter-widgets/controls",
      "model_module_version": "1.4.0",
      "model_name": "ButtonStyleModel",
      "state": {}
     },
     "49fe473726c54356b71f76199a6da9e1": {
      "model_module": "@jupyter-widgets/controls",
      "model_module_version": "1.4.0",
      "model_name": "ButtonStyleModel",
      "state": {}
     },
     "4a12501fe2a446d98d0fb2daf361337d": {
      "model_module": "@jupyter-widgets/controls",
      "model_module_version": "1.4.0",
      "model_name": "ButtonStyleModel",
      "state": {}
     },
     "4a30ba8a37c94d468755273ce5e0b916": {
      "model_module": "@jupyter-widgets/controls",
      "model_module_version": "1.4.0",
      "model_name": "SliderStyleModel",
      "state": {
       "description_width": ""
      }
     },
     "4a34fcebf76848b2b0b6b45911141f6a": {
      "model_module": "@jupyter-widgets/controls",
      "model_module_version": "1.4.0",
      "model_name": "ButtonModel",
      "state": {
       "description": "Administer Dose(t)",
       "disabled": true,
       "layout": "IPY_MODEL_1a294373fb3e471baff499db21d1ef5e",
       "style": "IPY_MODEL_f10c70a716f9455c917522757d882483"
      }
     },
     "4ac0edac95fa4ddc957eeb4bca8fa1f4": {
      "model_module": "@jupyter-widgets/base",
      "model_module_version": "1.1.0",
      "model_name": "LayoutModel",
      "state": {
       "width": "42%"
      }
     },
     "4b04162859d44f3d86b766bf43864f2f": {
      "model_module": "@jupyter-widgets/controls",
      "model_module_version": "1.4.0",
      "model_name": "TextModel",
      "state": {
       "description": "Next Step",
       "layout": "IPY_MODEL_3ba95bd352924e83b222406a56d0c238",
       "style": "IPY_MODEL_d2ceb75c9b5b48019b164fad36b635f8",
       "value": "Increase dose(t) and Predict"
      }
     },
     "4b16627cd21b49a991717349dcc0f39e": {
      "model_module": "@jupyter-widgets/controls",
      "model_module_version": "1.4.0",
      "model_name": "HBoxModel",
      "state": {
       "children": [
        "IPY_MODEL_edb82dc7e54b442f932c1af931fdffb4",
        "IPY_MODEL_e1988a5aa4dc4bc2a507e12e6beb3a31"
       ],
       "layout": "IPY_MODEL_b9169c4237734f928f4b01df729c2263"
      }
     },
     "4b30e56caeeb43bbb9a865a1c6c1837d": {
      "model_module": "@jupyter-widgets/controls",
      "model_module_version": "1.4.0",
      "model_name": "HBoxModel",
      "state": {
       "children": [
        "IPY_MODEL_104415e3dc274d11bd79c43b5f27da12",
        "IPY_MODEL_44213fa0d677497298f063b039f0d490"
       ],
       "layout": "IPY_MODEL_aed8b7420fa54206be1442b4763dc690"
      }
     },
     "4b4941f16f364fa0ad8add2434a27117": {
      "model_module": "@jupyter-widgets/controls",
      "model_module_version": "1.4.0",
      "model_name": "TextModel",
      "state": {
       "description": "Response(t+1) ",
       "disabled": true,
       "layout": "IPY_MODEL_5c70176f1e1b4dc6a457dcd608197e76",
       "style": "IPY_MODEL_bb78fe4891034bb1a307cb33083a20df",
       "value": "  "
      }
     },
     "4d6b808dc5f14792af76147ec724616c": {
      "model_module": "@jupyter-widgets/controls",
      "model_module_version": "1.4.0",
      "model_name": "FloatSliderModel",
      "state": {
       "description": "Dose(t)",
       "layout": "IPY_MODEL_86e4deae87b3424895dfd33996c5a23e",
       "max": 10,
       "min": -10,
       "step": 0.01,
       "style": "IPY_MODEL_c50c5c21c634449697f9cc7737cbd95b",
       "value": 4.23
      }
     },
     "4d908e0c9be14de49ca98f372f429f04": {
      "model_module": "@jupyter-widgets/controls",
      "model_module_version": "1.4.0",
      "model_name": "TextModel",
      "state": {
       "description": "Next Step",
       "layout": "IPY_MODEL_1ef26e0b6a91477d88fcba7838e555e1",
       "style": "IPY_MODEL_d215c5126a5d4ca1b8842dcb98780736",
       "value": "Successful Completion"
      }
     },
     "4e1fde5ca2574b09a115ea511786a24c": {
      "model_module": "@jupyter-widgets/controls",
      "model_module_version": "1.4.0",
      "model_name": "DescriptionStyleModel",
      "state": {
       "description_width": "initial"
      }
     },
     "4e276131cd18464e805430c4ceee467b": {
      "model_module": "@jupyter-widgets/controls",
      "model_module_version": "1.4.0",
      "model_name": "HBoxModel",
      "state": {
       "children": [
        "IPY_MODEL_4e8787be967746a89d8aee8d18642060",
        "IPY_MODEL_9146b12367df4be5b94a06f30bf45ea0"
       ],
       "layout": "IPY_MODEL_07e5d6e2e98a4cfdb8a41e519ac6ab8e"
      }
     },
     "4e35421308034f85af3e706064d26ee0": {
      "model_module": "@jupyter-widgets/controls",
      "model_module_version": "1.4.0",
      "model_name": "FloatSliderModel",
      "state": {
       "description": "Dose(t)",
       "layout": "IPY_MODEL_125cfba9ee024c9fbd91084467a841b9",
       "max": 10,
       "min": -10,
       "step": 0.01,
       "style": "IPY_MODEL_0ad9f37ff7e1409e9cd22abe0c9b9f2c"
      }
     },
     "4e7747e5ba684b80ac48d66bc7ce6e1d": {
      "model_module": "@jupyter-widgets/controls",
      "model_module_version": "1.4.0",
      "model_name": "HBoxModel",
      "state": {
       "children": [
        "IPY_MODEL_b89bdd81f4be414a9b03a405b330537a",
        "IPY_MODEL_159436a0cd284cf6998578e86d35d5dc"
       ],
       "layout": "IPY_MODEL_f737a9ed60ee41628c6038e6bd8f20ec"
      }
     },
     "4e8787be967746a89d8aee8d18642060": {
      "model_module": "@jupyter-widgets/controls",
      "model_module_version": "1.4.0",
      "model_name": "TextModel",
      "state": {
       "description": "Response(t+1) ",
       "disabled": true,
       "layout": "IPY_MODEL_8e08663ae65f4c9884ddf958ae6ef17f",
       "style": "IPY_MODEL_8cc97bb05c9e4a1b8746e0ece03e5143",
       "value": "4.96"
      }
     },
     "4f0016f913ce4a989ca9de5814401c08": {
      "model_module": "@jupyter-widgets/base",
      "model_module_version": "1.1.0",
      "model_name": "LayoutModel",
      "state": {}
     },
     "4f66b33320d34c768befc72938473b1d": {
      "model_module": "@jupyter-widgets/base",
      "model_module_version": "1.1.0",
      "model_name": "LayoutModel",
      "state": {
       "width": "42%"
      }
     },
     "4fccf838e71e43f4b0e5163a93629f76": {
      "model_module": "@jupyter-widgets/controls",
      "model_module_version": "1.4.0",
      "model_name": "TextModel",
      "state": {
       "description": "Response(t+1) ",
       "disabled": true,
       "layout": "IPY_MODEL_1af2fddaafa44561adabd0d381aed625",
       "style": "IPY_MODEL_b7ae42f3ed504f148a5b5b1813cf830d",
       "value": "5.17 (in range)"
      }
     },
     "4fe10e5c275b4181b7fe8989ef39f605": {
      "model_module": "@jupyter-widgets/base",
      "model_module_version": "1.1.0",
      "model_name": "LayoutModel",
      "state": {
       "justify_content": "center"
      }
     },
     "4fe13937bcae401cb2e250b1e656dfbe": {
      "model_module": "@jupyter-widgets/controls",
      "model_module_version": "1.4.0",
      "model_name": "SliderStyleModel",
      "state": {
       "description_width": ""
      }
     },
     "4fe19b45a2424016b2129e461e230835": {
      "model_module": "@jupyter-widgets/base",
      "model_module_version": "1.1.0",
      "model_name": "LayoutModel",
      "state": {
       "width": "42%"
      }
     },
     "502592db6ed94a9d9494e587d4e82ce8": {
      "model_module": "@jupyter-widgets/controls",
      "model_module_version": "1.4.0",
      "model_name": "ButtonModel",
      "state": {
       "description": "Predict Response(t+1)",
       "disabled": true,
       "layout": "IPY_MODEL_a04910f70f604bd7968d21a7390face8",
       "style": "IPY_MODEL_f210065ef4614d908a8d58a418030e3d"
      }
     },
     "505dad8f47d0444597a5440b934675fa": {
      "model_module": "@jupyter-widgets/controls",
      "model_module_version": "1.4.0",
      "model_name": "TextModel",
      "state": {
       "description": "Response(t+1) ",
       "disabled": true,
       "layout": "IPY_MODEL_f3b0b79639bc4b69b2105cd51ba8ed4a",
       "style": "IPY_MODEL_6f1c4bba2ff049b8b58c96cfc3f962f4",
       "value": "4.87 (in range)"
      }
     },
     "50bc8c7589c8435293fb0cc7c84861b1": {
      "model_module": "@jupyter-widgets/controls",
      "model_module_version": "1.4.0",
      "model_name": "ButtonModel",
      "state": {
       "description": "Predict Response(t+1)",
       "layout": "IPY_MODEL_74f29b733c8e43cd80339067f24d34cb",
       "style": "IPY_MODEL_337053ece59c44e196c0dbc2926fbd9c"
      }
     },
     "512c11586a13499a8da5092ef221631b": {
      "model_module": "@jupyter-widgets/base",
      "model_module_version": "1.1.0",
      "model_name": "LayoutModel",
      "state": {
       "justify_content": "center"
      }
     },
     "5160f3354b4e4890a4196ed16bc0a1de": {
      "model_module": "@jupyter-widgets/base",
      "model_module_version": "1.1.0",
      "model_name": "LayoutModel",
      "state": {
       "justify_content": "center"
      }
     },
     "51ccdaf9d1ac4d6fa711e439225f143c": {
      "model_module": "@jupyter-widgets/controls",
      "model_module_version": "1.4.0",
      "model_name": "DescriptionStyleModel",
      "state": {
       "description_width": "initial"
      }
     },
     "51d112d7f2fa45c2aa3d9c595a0f3bca": {
      "model_module": "@jupyter-widgets/base",
      "model_module_version": "1.1.0",
      "model_name": "LayoutModel",
      "state": {}
     },
     "51e3e4c10c364ff981432175f8cbd36e": {
      "model_module": "@jupyter-widgets/controls",
      "model_module_version": "1.4.0",
      "model_name": "SliderStyleModel",
      "state": {
       "description_width": ""
      }
     },
     "528c22a7eb1a4339853aec47cf195263": {
      "model_module": "@jupyter-widgets/base",
      "model_module_version": "1.1.0",
      "model_name": "LayoutModel",
      "state": {
       "width": "42%"
      }
     },
     "53213428c2244e46b7cd1a688551291f": {
      "model_module": "@jupyter-widgets/controls",
      "model_module_version": "1.4.0",
      "model_name": "ButtonModel",
      "state": {
       "description": "Administer Dose(t)",
       "disabled": true,
       "layout": "IPY_MODEL_32640199eeab48f9bdc3cdc391c8f276",
       "style": "IPY_MODEL_cf37d7cf7bf44d73b5bf23098f58041c"
      }
     },
     "53495fb6e25a4e0da2d05a64f28649b1": {
      "model_module": "@jupyter-widgets/controls",
      "model_module_version": "1.4.0",
      "model_name": "ButtonModel",
      "state": {
       "description": "Administer Dose(t)",
       "disabled": true,
       "layout": "IPY_MODEL_d9d1719919ac43fdbbe9668b05dbeb00",
       "style": "IPY_MODEL_8bb11177a1df43f097d6929aa23f82d1"
      }
     },
     "534f7d52f58d49919e5fc4cf016e0515": {
      "model_module": "@jupyter-widgets/base",
      "model_module_version": "1.1.0",
      "model_name": "LayoutModel",
      "state": {
       "width": "95%"
      }
     },
     "537f68d0d46c43e9b2c8a1bf8eac4ce8": {
      "model_module": "@jupyter-widgets/controls",
      "model_module_version": "1.4.0",
      "model_name": "TextModel",
      "state": {
       "description": "Next Step",
       "layout": "IPY_MODEL_300226540e174695a06f188d144a9cce",
       "style": "IPY_MODEL_9a7d9d5490f74e2bb4ee1ebe2370d27f",
       "value": "Predict Response(t+1)"
      }
     },
     "54aca4b6bc304a33912aa03f2bd2dc3f": {
      "model_module": "@jupyter-widgets/controls",
      "model_module_version": "1.4.0",
      "model_name": "SliderStyleModel",
      "state": {
       "description_width": ""
      }
     },
     "54c201460cf348b2af29a887ff5d5b6a": {
      "model_module": "@jupyter-widgets/base",
      "model_module_version": "1.1.0",
      "model_name": "LayoutModel",
      "state": {
       "width": "42%"
      }
     },
     "54d98e77d9c140f5b6f6a26ddb404a10": {
      "model_module": "@jupyter-widgets/base",
      "model_module_version": "1.1.0",
      "model_name": "LayoutModel",
      "state": {
       "width": "95%"
      }
     },
     "559a3173a7fa47e0a2ddc14435f3161d": {
      "model_module": "@jupyter-widgets/controls",
      "model_module_version": "1.4.0",
      "model_name": "TextModel",
      "state": {
       "description": "Next Step",
       "layout": "IPY_MODEL_2a8cd7f652c14b14a0e385a7a62a4aca",
       "style": "IPY_MODEL_84bbfc3054934beb8c336de788ba7cdd",
       "value": "Increase dose(t) and Predict"
      }
     },
     "56818f00b59e4500996159b0e78eb2be": {
      "model_module": "@jupyter-widgets/controls",
      "model_module_version": "1.4.0",
      "model_name": "HBoxModel",
      "state": {
       "children": [
        "IPY_MODEL_d005af7968254de89a6df51708ebb703",
        "IPY_MODEL_f35c730f044b47d2a2634f4c6abd2191"
       ],
       "layout": "IPY_MODEL_c1be487cd0884ceb962a5afadfb02e64"
      }
     },
     "56d1312a2eef45698d78113e8c83fddd": {
      "model_module": "@jupyter-widgets/controls",
      "model_module_version": "1.4.0",
      "model_name": "DescriptionStyleModel",
      "state": {
       "description_width": ""
      }
     },
     "56d898b0af4e423a9b4245b44b2fc3d6": {
      "model_module": "@jupyter-widgets/base",
      "model_module_version": "1.1.0",
      "model_name": "LayoutModel",
      "state": {}
     },
     "573a17478f7047c1a7c748c1b5866466": {
      "model_module": "@jupyter-widgets/controls",
      "model_module_version": "1.4.0",
      "model_name": "FloatSliderModel",
      "state": {
       "description": "Dose(t)",
       "layout": "IPY_MODEL_11578dd36a6543ceadc51fbc421dfddb",
       "max": 10,
       "min": -10,
       "step": 0.01,
       "style": "IPY_MODEL_b48170f32c8e4f8ba81197998816d855",
       "value": 1.15
      }
     },
     "58110a00900a494a8c3b7b9f61274673": {
      "model_module": "@jupyter-widgets/controls",
      "model_module_version": "1.4.0",
      "model_name": "HBoxModel",
      "state": {
       "children": [
        "IPY_MODEL_1cd082ab6eaa414d89de220e7641b816",
        "IPY_MODEL_c5b14d0d7c7f4d8d84deae107a7584e9"
       ],
       "layout": "IPY_MODEL_5160f3354b4e4890a4196ed16bc0a1de"
      }
     },
     "589393802fe1448c9a734386253498d5": {
      "model_module": "@jupyter-widgets/controls",
      "model_module_version": "1.4.0",
      "model_name": "DescriptionStyleModel",
      "state": {
       "description_width": "initial"
      }
     },
     "592d9262d2714a7a8f34da23a4028411": {
      "model_module": "@jupyter-widgets/base",
      "model_module_version": "1.1.0",
      "model_name": "LayoutModel",
      "state": {
       "justify_content": "center"
      }
     },
     "5932930c857e46a18531b696f10c7a38": {
      "model_module": "@jupyter-widgets/controls",
      "model_module_version": "1.4.0",
      "model_name": "HBoxModel",
      "state": {
       "children": [
        "IPY_MODEL_df7f566003a04dbbabc602a6e650e881",
        "IPY_MODEL_862c934b213448dcbee15ea1f65f42e5"
       ],
       "layout": "IPY_MODEL_136e5952035740b494afc450f8f3b651"
      }
     },
     "594cae7682334f93bbf6a6d7f64a19bc": {
      "model_module": "@jupyter-widgets/base",
      "model_module_version": "1.1.0",
      "model_name": "LayoutModel",
      "state": {}
     },
     "5983030701c44020b589afca71dad013": {
      "model_module": "@jupyter-widgets/base",
      "model_module_version": "1.1.0",
      "model_name": "LayoutModel",
      "state": {
       "width": "95%"
      }
     },
     "5aecb214e170443ab358419d1f491850": {
      "model_module": "@jupyter-widgets/controls",
      "model_module_version": "1.4.0",
      "model_name": "TextModel",
      "state": {
       "description": "Response(t+1) ",
       "disabled": true,
       "layout": "IPY_MODEL_09a9cf5b1ff446a0a801056dfd462bf9",
       "style": "IPY_MODEL_40f40cab43f54764a6e64bebaee628d2",
       "value": "  "
      }
     },
     "5c47f2ccf8d946f68316cdabf568ffa7": {
      "model_module": "@jupyter-widgets/controls",
      "model_module_version": "1.4.0",
      "model_name": "DescriptionStyleModel",
      "state": {
       "description_width": ""
      }
     },
     "5c70176f1e1b4dc6a457dcd608197e76": {
      "model_module": "@jupyter-widgets/base",
      "model_module_version": "1.1.0",
      "model_name": "LayoutModel",
      "state": {}
     },
     "5d615f02f9c5445684f5938ca250ceac": {
      "model_module": "@jupyter-widgets/controls",
      "model_module_version": "1.4.0",
      "model_name": "FloatSliderModel",
      "state": {
       "description": "Dose(t)",
       "layout": "IPY_MODEL_862b15226c694210865805e31079734d",
       "max": 10,
       "min": -10,
       "step": 0.01,
       "style": "IPY_MODEL_e7dffd1db6c444158be5e3b52a09b880",
       "value": 0.53
      }
     },
     "5d64cca9cbac40368c53256f44d88a84": {
      "model_module": "@jupyter-widgets/controls",
      "model_module_version": "1.4.0",
      "model_name": "TextModel",
      "state": {
       "description": "Response(t+1) ",
       "disabled": true,
       "layout": "IPY_MODEL_1866096e9dbd44b99108550a2624bc23",
       "style": "IPY_MODEL_a3bffca2071049a3b4a952c29bb551e9",
       "value": "  "
      }
     },
     "5dc86fa408124542aba9db2b2a063a10": {
      "model_module": "@jupyter-widgets/base",
      "model_module_version": "1.1.0",
      "model_name": "LayoutModel",
      "state": {
       "width": "95%"
      }
     },
     "5df7ee52fa9e4b7985ffab0fa42a8224": {
      "model_module": "@jupyter-widgets/controls",
      "model_module_version": "1.4.0",
      "model_name": "DescriptionStyleModel",
      "state": {
       "description_width": "initial"
      }
     },
     "5f7e454921f043f3b06fa40406b74e65": {
      "model_module": "@jupyter-widgets/controls",
      "model_module_version": "1.4.0",
      "model_name": "DescriptionStyleModel",
      "state": {
       "description_width": ""
      }
     },
     "600022f341b642b0b694ddaf0a308b4c": {
      "model_module": "@jupyter-widgets/controls",
      "model_module_version": "1.4.0",
      "model_name": "ButtonStyleModel",
      "state": {}
     },
     "609532047cea4d2aa5a76e190017a882": {
      "model_module": "@jupyter-widgets/base",
      "model_module_version": "1.1.0",
      "model_name": "LayoutModel",
      "state": {
       "justify_content": "center"
      }
     },
     "61480924479042b0b5fb190b9b6f2b62": {
      "model_module": "@jupyter-widgets/controls",
      "model_module_version": "1.4.0",
      "model_name": "TextModel",
      "state": {
       "description": "Next Step",
       "layout": "IPY_MODEL_76ca2c57664d4d87a5ffe8cf1cb3f915",
       "style": "IPY_MODEL_cac72bc0b47d4478803706af41eee6fa",
       "value": "Predict Response(t+1)"
      }
     },
     "614b28c738854f7e852bd3888be7f432": {
      "model_module": "@jupyter-widgets/controls",
      "model_module_version": "1.4.0",
      "model_name": "ButtonStyleModel",
      "state": {}
     },
     "615f9d620e0542eea1c267338b59a071": {
      "model_module": "@jupyter-widgets/base",
      "model_module_version": "1.1.0",
      "model_name": "LayoutModel",
      "state": {}
     },
     "61692497929e41e3910975ff667ca0c3": {
      "model_module": "@jupyter-widgets/controls",
      "model_module_version": "1.4.0",
      "model_name": "TextModel",
      "state": {
       "description": "Response(t+1) ",
       "disabled": true,
       "layout": "IPY_MODEL_e1066b07ce154f1aa63b1830b9e1d972",
       "style": "IPY_MODEL_c3a47741b9514d08a7252cf62de1f243",
       "value": "4.89"
      }
     },
     "618bcca2b478481986a271a8828cc533": {
      "model_module": "@jupyter-widgets/controls",
      "model_module_version": "1.4.0",
      "model_name": "HBoxModel",
      "state": {
       "children": [
        "IPY_MODEL_afa0e9f0efc14446bcd9bac454ec77b8",
        "IPY_MODEL_fa625533e4f64183a5295a04d5037ca7"
       ],
       "layout": "IPY_MODEL_4fe10e5c275b4181b7fe8989ef39f605"
      }
     },
     "6241f9ec6f314c11a61599ef20e2e458": {
      "model_module": "@jupyter-widgets/controls",
      "model_module_version": "1.4.0",
      "model_name": "HBoxModel",
      "state": {
       "children": [
        "IPY_MODEL_6a89e3ab6d964c61a457e543702890e0",
        "IPY_MODEL_e4931278102f44718cf15523d863fccd"
       ],
       "layout": "IPY_MODEL_922a3fc5812f4fb9bb3f332b10b2c6fb"
      }
     },
     "62a0db136ba84cdbbbf1220b888881d6": {
      "model_module": "@jupyter-widgets/controls",
      "model_module_version": "1.4.0",
      "model_name": "ButtonModel",
      "state": {
       "description": "Predict Response(t+1)",
       "disabled": true,
       "layout": "IPY_MODEL_b481ac49bb634d33bf90a852c07ec6b0",
       "style": "IPY_MODEL_a88ea863d8c94b7db3a9e54b98f0c98c"
      }
     },
     "631a2ad58acb4443a17d0e22f5ecd50b": {
      "model_module": "@jupyter-widgets/controls",
      "model_module_version": "1.4.0",
      "model_name": "DescriptionStyleModel",
      "state": {
       "description_width": "initial"
      }
     },
     "634b14f9b3644f7abccbf74717b77860": {
      "model_module": "@jupyter-widgets/controls",
      "model_module_version": "1.4.0",
      "model_name": "DescriptionStyleModel",
      "state": {
       "description_width": ""
      }
     },
     "63782116f59147b385e4aeaea3ef9c25": {
      "model_module": "@jupyter-widgets/base",
      "model_module_version": "1.1.0",
      "model_name": "LayoutModel",
      "state": {
       "width": "42%"
      }
     },
     "647d8c7301304a74ac8c4cfddc173ae6": {
      "model_module": "@jupyter-widgets/base",
      "model_module_version": "1.1.0",
      "model_name": "LayoutModel",
      "state": {}
     },
     "647fea64e9c44ab3b79f19ef3655467f": {
      "model_module": "@jupyter-widgets/base",
      "model_module_version": "1.1.0",
      "model_name": "LayoutModel",
      "state": {}
     },
     "6679247738bc4a6894d87fb479ac3a60": {
      "model_module": "@jupyter-widgets/controls",
      "model_module_version": "1.4.0",
      "model_name": "HBoxModel",
      "state": {
       "children": [
        "IPY_MODEL_8d63487340f54b378f6f6b2f4e4a2e55",
        "IPY_MODEL_671964bfee62456ea942af0ba032e83a"
       ],
       "layout": "IPY_MODEL_e65f57983e69411ab0b0befc7274a185"
      }
     },
     "6680563eaa284e9991998c69264ccef4": {
      "model_module": "@jupyter-widgets/controls",
      "model_module_version": "1.4.0",
      "model_name": "FloatSliderModel",
      "state": {
       "description": "Dose(t)",
       "layout": "IPY_MODEL_da78e4cf842d41a195e356726731b8e4",
       "max": 10,
       "min": -10,
       "step": 0.01,
       "style": "IPY_MODEL_51e3e4c10c364ff981432175f8cbd36e",
       "value": 0.51
      }
     },
     "66c317b7ed0c4b4eb501110b4d6982e6": {
      "model_module": "@jupyter-widgets/base",
      "model_module_version": "1.1.0",
      "model_name": "LayoutModel",
      "state": {
       "width": "42%"
      }
     },
     "671964bfee62456ea942af0ba032e83a": {
      "model_module": "@jupyter-widgets/controls",
      "model_module_version": "1.4.0",
      "model_name": "ButtonModel",
      "state": {
       "description": "Administer Dose(t)",
       "disabled": true,
       "layout": "IPY_MODEL_69d1ca8d3607400abcebfa3ebc91c1d3",
       "style": "IPY_MODEL_614b28c738854f7e852bd3888be7f432"
      }
     },
     "67dc0b4592a54b44b5fa1c0a144d8bfd": {
      "model_module": "@jupyter-widgets/controls",
      "model_module_version": "1.4.0",
      "model_name": "ButtonModel",
      "state": {
       "description": "Administer Dose(t)",
       "disabled": true,
       "layout": "IPY_MODEL_f89aa0d3d86744c19422f1dd7f6d84aa",
       "style": "IPY_MODEL_775ca751112f435a878f0e2446969fdb"
      }
     },
     "67e28e2a37664868922fe99736ea2eab": {
      "model_module": "@jupyter-widgets/controls",
      "model_module_version": "1.4.0",
      "model_name": "TextModel",
      "state": {
       "description": "Next Step",
       "layout": "IPY_MODEL_c4185a4c21b54d7a9d896832eee1f16f",
       "style": "IPY_MODEL_5c47f2ccf8d946f68316cdabf568ffa7",
       "value": "Predict Response(t+1)"
      }
     },
     "682c8fd675e34a40aee90ab2fa7a21a0": {
      "model_module": "@jupyter-widgets/controls",
      "model_module_version": "1.4.0",
      "model_name": "HBoxModel",
      "state": {
       "children": [
        "IPY_MODEL_7db419a588d3425197fcaac34a531d03",
        "IPY_MODEL_13c5a2362b9f454bb2e5b0bf4a067623"
       ],
       "layout": "IPY_MODEL_b0f6535619c3467b858efc57d7ec31e1"
      }
     },
     "6863a7a5054c4f05913182582a4fe20f": {
      "model_module": "@jupyter-widgets/controls",
      "model_module_version": "1.4.0",
      "model_name": "ButtonStyleModel",
      "state": {}
     },
     "69cde05467dc42ae9e30210ac23674c1": {
      "model_module": "@jupyter-widgets/base",
      "model_module_version": "1.1.0",
      "model_name": "LayoutModel",
      "state": {
       "justify_content": "center"
      }
     },
     "69d1ca8d3607400abcebfa3ebc91c1d3": {
      "model_module": "@jupyter-widgets/base",
      "model_module_version": "1.1.0",
      "model_name": "LayoutModel",
      "state": {
       "width": "42%"
      }
     },
     "6a89e3ab6d964c61a457e543702890e0": {
      "model_module": "@jupyter-widgets/controls",
      "model_module_version": "1.4.0",
      "model_name": "TextModel",
      "state": {
       "description": "Response(t+1) ",
       "disabled": true,
       "layout": "IPY_MODEL_615f9d620e0542eea1c267338b59a071",
       "style": "IPY_MODEL_ac40f3af24d646deacc5730b0bc05625",
       "value": "4.92 (in range)"
      }
     },
     "6b86836180e542a9b3178ad78413f81c": {
      "model_module": "@jupyter-widgets/controls",
      "model_module_version": "1.4.0",
      "model_name": "ButtonModel",
      "state": {
       "description": "Predict Response(t+1)",
       "disabled": true,
       "layout": "IPY_MODEL_22e6bce546434bcf9cc42eb9a0d861e9",
       "style": "IPY_MODEL_9ade70736415488da0906a91bbe8536a"
      }
     },
     "6c8e0ebb921041c1bf653b76f80104ff": {
      "model_module": "@jupyter-widgets/controls",
      "model_module_version": "1.4.0",
      "model_name": "DescriptionStyleModel",
      "state": {
       "description_width": "initial"
      }
     },
     "6ce739e45dff4f8b83001e3123dbec5c": {
      "model_module": "@jupyter-widgets/controls",
      "model_module_version": "1.4.0",
      "model_name": "TextModel",
      "state": {
       "description": "Response(t+1) ",
       "disabled": true,
       "layout": "IPY_MODEL_fad47deec66541b38d3a26140b748184",
       "style": "IPY_MODEL_a40e2c541aaa4e07a78bf819b617de2a",
       "value": "4.91"
      }
     },
     "6df2219b9a00488c9eeca53edc987033": {
      "model_module": "@jupyter-widgets/base",
      "model_module_version": "1.1.0",
      "model_name": "LayoutModel",
      "state": {
       "width": "42%"
      }
     },
     "6e6f03e1106e4e61ac7eabe7d9ea2fee": {
      "model_module": "@jupyter-widgets/base",
      "model_module_version": "1.1.0",
      "model_name": "LayoutModel",
      "state": {}
     },
     "6e88d1ff7f8247aca898c7dbf18e326c": {
      "model_module": "@jupyter-widgets/controls",
      "model_module_version": "1.4.0",
      "model_name": "TextModel",
      "state": {
       "description": "Response(t+1) ",
       "disabled": true,
       "layout": "IPY_MODEL_0fa6cd9902614b48a0b705b91b8eee11",
       "style": "IPY_MODEL_3ba5003d35e9476fb93f2752326b1e1c",
       "value": "4.77"
      }
     },
     "6ede3c958df5435d9877b770809d7733": {
      "model_module": "@jupyter-widgets/base",
      "model_module_version": "1.1.0",
      "model_name": "LayoutModel",
      "state": {
       "justify_content": "center"
      }
     },
     "6ee63b6af7fd405db6873c15ef4165a8": {
      "model_module": "@jupyter-widgets/controls",
      "model_module_version": "1.4.0",
      "model_name": "TextModel",
      "state": {
       "description": "Response(t+1) ",
       "disabled": true,
       "layout": "IPY_MODEL_647d8c7301304a74ac8c4cfddc173ae6",
       "style": "IPY_MODEL_51ccdaf9d1ac4d6fa711e439225f143c",
       "value": "5.03 (in range)"
      }
     },
     "6f1c4bba2ff049b8b58c96cfc3f962f4": {
      "model_module": "@jupyter-widgets/controls",
      "model_module_version": "1.4.0",
      "model_name": "DescriptionStyleModel",
      "state": {
       "description_width": "initial"
      }
     },
     "6f26e09fe263477d852bd4cc2cbcbd2a": {
      "model_module": "@jupyter-widgets/controls",
      "model_module_version": "1.4.0",
      "model_name": "ButtonModel",
      "state": {
       "description": "Predict Response(t+1)",
       "layout": "IPY_MODEL_d3bba6b718f849c4bbf8cd36ab1a9832",
       "style": "IPY_MODEL_8b4403bc359c49eaa0fe68915caded87"
      }
     },
     "6f5abbbf561a41738f53ae8f1c35c223": {
      "model_module": "@jupyter-widgets/controls",
      "model_module_version": "1.4.0",
      "model_name": "ButtonStyleModel",
      "state": {}
     },
     "6f887701b8c445d7a6cb47d47178336f": {
      "model_module": "@jupyter-widgets/base",
      "model_module_version": "1.1.0",
      "model_name": "LayoutModel",
      "state": {
       "width": "42%"
      }
     },
     "6fd2adff35564d99a6fe83ef2064cd81": {
      "model_module": "@jupyter-widgets/controls",
      "model_module_version": "1.4.0",
      "model_name": "ButtonModel",
      "state": {
       "description": "Administer Dose(t)",
       "disabled": true,
       "layout": "IPY_MODEL_1a0b5357728b4aafb8d09ae3b12d86af",
       "style": "IPY_MODEL_bfa30f6911a244728098ad1df15ad6ed"
      }
     },
     "700f166b177a46b3bc7e8ac2001ef0e3": {
      "model_module": "@jupyter-widgets/controls",
      "model_module_version": "1.4.0",
      "model_name": "HBoxModel",
      "state": {
       "children": [
        "IPY_MODEL_505dad8f47d0444597a5440b934675fa",
        "IPY_MODEL_a026c654c79b4fe5b0597ba62791f0e7"
       ],
       "layout": "IPY_MODEL_b1535340cda247bb8b654cd92d3572f9"
      }
     },
     "7020576863994636beec0099d71909be": {
      "model_module": "@jupyter-widgets/controls",
      "model_module_version": "1.4.0",
      "model_name": "SliderStyleModel",
      "state": {
       "description_width": ""
      }
     },
     "70b13527e2a444fdabaa63273b86b586": {
      "model_module": "@jupyter-widgets/controls",
      "model_module_version": "1.4.0",
      "model_name": "HBoxModel",
      "state": {
       "children": [
        "IPY_MODEL_50bc8c7589c8435293fb0cc7c84861b1",
        "IPY_MODEL_897f2376e627442e95ebbd7368f4ff28"
       ],
       "layout": "IPY_MODEL_4701c9fe2d8c4ebb99a0c63aa03b8bef"
      }
     },
     "70edd22de1514253a006b9d60e2bc03d": {
      "model_module": "@jupyter-widgets/controls",
      "model_module_version": "1.4.0",
      "model_name": "DescriptionStyleModel",
      "state": {
       "description_width": "initial"
      }
     },
     "72bfe74783814ddd9736d2aaa010bf20": {
      "model_module": "@jupyter-widgets/controls",
      "model_module_version": "1.4.0",
      "model_name": "HBoxModel",
      "state": {
       "children": [
        "IPY_MODEL_c91d2f0d65d3494f88f5aad5c7e14c44",
        "IPY_MODEL_f3e744d0396145c5b2122b07bba5076c"
       ],
       "layout": "IPY_MODEL_8401ca70bf4b4672b0d04840a7dc5b18"
      }
     },
     "74211fd2a17243e290eafe7a0be9d4ee": {
      "model_module": "@jupyter-widgets/base",
      "model_module_version": "1.1.0",
      "model_name": "LayoutModel",
      "state": {}
     },
     "74f29b733c8e43cd80339067f24d34cb": {
      "model_module": "@jupyter-widgets/base",
      "model_module_version": "1.1.0",
      "model_name": "LayoutModel",
      "state": {
       "width": "42%"
      }
     },
     "7528dd4be87d4f98ba912c56e089a18e": {
      "model_module": "@jupyter-widgets/controls",
      "model_module_version": "1.4.0",
      "model_name": "HBoxModel",
      "state": {
       "children": [
        "IPY_MODEL_94de130f4c204fbe83daa20f30b4d314",
        "IPY_MODEL_03581fc1a49640b0bfa4b6e9cfac3d39"
       ],
       "layout": "IPY_MODEL_f7729e3ff4fc443d8b090f9891fbcab4"
      }
     },
     "753045a14a2a461eaf791b8f79098828": {
      "model_module": "@jupyter-widgets/controls",
      "model_module_version": "1.4.0",
      "model_name": "HBoxModel",
      "state": {
       "children": [
        "IPY_MODEL_48d47461415f48da87d6bd3143780f2b",
        "IPY_MODEL_6fd2adff35564d99a6fe83ef2064cd81"
       ],
       "layout": "IPY_MODEL_a1bf30dce84240d19207f11898483500"
      }
     },
     "76a84a812ee34dd08cfb2c530dd06ad4": {
      "model_module": "@jupyter-widgets/base",
      "model_module_version": "1.1.0",
      "model_name": "LayoutModel",
      "state": {}
     },
     "76ca2c57664d4d87a5ffe8cf1cb3f915": {
      "model_module": "@jupyter-widgets/base",
      "model_module_version": "1.1.0",
      "model_name": "LayoutModel",
      "state": {}
     },
     "76d478d10ced47689cdea9c14d47f470": {
      "model_module": "@jupyter-widgets/base",
      "model_module_version": "1.1.0",
      "model_name": "LayoutModel",
      "state": {
       "justify_content": "center"
      }
     },
     "775ca751112f435a878f0e2446969fdb": {
      "model_module": "@jupyter-widgets/controls",
      "model_module_version": "1.4.0",
      "model_name": "ButtonStyleModel",
      "state": {}
     },
     "777ad53eb4214d3f983b387a974785c2": {
      "model_module": "@jupyter-widgets/base",
      "model_module_version": "1.1.0",
      "model_name": "LayoutModel",
      "state": {
       "width": "95%"
      }
     },
     "7803a019de6b4a858cca94dbec02f664": {
      "model_module": "@jupyter-widgets/controls",
      "model_module_version": "1.4.0",
      "model_name": "ButtonStyleModel",
      "state": {}
     },
     "7865ff0e3ab5426989d7431638d4f1c8": {
      "model_module": "@jupyter-widgets/controls",
      "model_module_version": "1.4.0",
      "model_name": "HBoxModel",
      "state": {
       "children": [
        "IPY_MODEL_880b18e783204233a5bfce7b87ab5aee",
        "IPY_MODEL_1b1c3be31bd647e0a326bed1802ffee0"
       ],
       "layout": "IPY_MODEL_592d9262d2714a7a8f34da23a4028411"
      }
     },
     "78a42dfce3184274a4c6b65b2661ce48": {
      "model_module": "@jupyter-widgets/base",
      "model_module_version": "1.1.0",
      "model_name": "LayoutModel",
      "state": {}
     },
     "78a83f61572f49ed9bc6db590bdf5ad4": {
      "model_module": "@jupyter-widgets/controls",
      "model_module_version": "1.4.0",
      "model_name": "ButtonModel",
      "state": {
       "description": "Predict Response(t+1)",
       "layout": "IPY_MODEL_2baa73a4f8e444699ebd761f0b0e6d34",
       "style": "IPY_MODEL_3139cf01dd9f453eb2d2373f3f9b750a"
      }
     },
     "78d7caffc40e467ab379039a612cf0a4": {
      "model_module": "@jupyter-widgets/controls",
      "model_module_version": "1.4.0",
      "model_name": "HBoxModel",
      "state": {
       "children": [
        "IPY_MODEL_dada16d8024646cdb17adb1c22d477fa",
        "IPY_MODEL_53213428c2244e46b7cd1a688551291f"
       ],
       "layout": "IPY_MODEL_0d11902ea12041e2ab39a6e7a9343f98"
      }
     },
     "790fae77e0c240f3ad828d00f5964b4b": {
      "model_module": "@jupyter-widgets/controls",
      "model_module_version": "1.4.0",
      "model_name": "HBoxModel",
      "state": {
       "children": [
        "IPY_MODEL_0395c0019aec400fa9948e9a2e92ea9f",
        "IPY_MODEL_559a3173a7fa47e0a2ddc14435f3161d"
       ],
       "layout": "IPY_MODEL_ebab459ea1ed4112a7ec79d7f1be21df"
      }
     },
     "798aa3d13aa042c58593d5e3625a7618": {
      "model_module": "@jupyter-widgets/base",
      "model_module_version": "1.1.0",
      "model_name": "LayoutModel",
      "state": {
       "width": "95%"
      }
     },
     "79ea289926794028b2f85f7b10c97b87": {
      "model_module": "@jupyter-widgets/controls",
      "model_module_version": "1.4.0",
      "model_name": "TextModel",
      "state": {
       "description": "Response(t+1) ",
       "layout": "IPY_MODEL_f74717e57cb0445fb910baef614e652b",
       "style": "IPY_MODEL_a934bebe06a942ceae4e1ff38802d1a2",
       "value": "  "
      }
     },
     "7add484299ef47ea9f1aac758d680e11": {
      "model_module": "@jupyter-widgets/controls",
      "model_module_version": "1.4.0",
      "model_name": "ButtonStyleModel",
      "state": {}
     },
     "7b47c1ecf85b4216b61da7811f1e1a20": {
      "model_module": "@jupyter-widgets/controls",
      "model_module_version": "1.4.0",
      "model_name": "HBoxModel",
      "state": {
       "children": [
        "IPY_MODEL_6ee63b6af7fd405db6873c15ef4165a8",
        "IPY_MODEL_852b0c8bc2db40a8ade243500c2e8334"
       ],
       "layout": "IPY_MODEL_2b035a3ed20341c08bb72da2db1feeec"
      }
     },
     "7baecf4cc6734cdbb4273dc0c22eb416": {
      "model_module": "@jupyter-widgets/base",
      "model_module_version": "1.1.0",
      "model_name": "LayoutModel",
      "state": {}
     },
     "7bf91f7803bb4378b74c0f83f9d73ead": {
      "model_module": "@jupyter-widgets/controls",
      "model_module_version": "1.4.0",
      "model_name": "SliderStyleModel",
      "state": {
       "description_width": ""
      }
     },
     "7c5d0ea7299946cdbc7d7b291c706703": {
      "model_module": "@jupyter-widgets/base",
      "model_module_version": "1.1.0",
      "model_name": "LayoutModel",
      "state": {
       "width": "95%"
      }
     },
     "7d3bebcabf1741e88ab4d3d7427a6a60": {
      "model_module": "@jupyter-widgets/base",
      "model_module_version": "1.1.0",
      "model_name": "LayoutModel",
      "state": {}
     },
     "7db419a588d3425197fcaac34a531d03": {
      "model_module": "@jupyter-widgets/controls",
      "model_module_version": "1.4.0",
      "model_name": "ButtonModel",
      "state": {
       "description": "Predict Response(t+1)",
       "layout": "IPY_MODEL_976ecc5758ad4e74836b50dbca148e92",
       "style": "IPY_MODEL_497ddd7f230f4030ab3abd315293be50"
      }
     },
     "7e878d1c88c24f51ae75c3d70347772e": {
      "model_module": "@jupyter-widgets/base",
      "model_module_version": "1.1.0",
      "model_name": "LayoutModel",
      "state": {}
     },
     "7ea1551cb76542dfa760a333e0619a55": {
      "model_module": "@jupyter-widgets/base",
      "model_module_version": "1.1.0",
      "model_name": "LayoutModel",
      "state": {
       "width": "42%"
      }
     },
     "7efde4aaa13a4f92a249a7d729e1520c": {
      "model_module": "@jupyter-widgets/controls",
      "model_module_version": "1.4.0",
      "model_name": "SliderStyleModel",
      "state": {
       "description_width": ""
      }
     },
     "7f1ff7db9ca643d593fdb3e936891dc9": {
      "model_module": "@jupyter-widgets/controls",
      "model_module_version": "1.4.0",
      "model_name": "DescriptionStyleModel",
      "state": {
       "description_width": ""
      }
     },
     "80603277cfdd47488591efbbfbd7677d": {
      "model_module": "@jupyter-widgets/base",
      "model_module_version": "1.1.0",
      "model_name": "LayoutModel",
      "state": {
       "justify_content": "center"
      }
     },
     "80cd114a38464c4cbc204266e9fc488d": {
      "model_module": "@jupyter-widgets/controls",
      "model_module_version": "1.4.0",
      "model_name": "DescriptionStyleModel",
      "state": {
       "description_width": ""
      }
     },
     "8220a790976a4272a425e1d1d9e84390": {
      "model_module": "@jupyter-widgets/base",
      "model_module_version": "1.1.0",
      "model_name": "LayoutModel",
      "state": {}
     },
     "82345ea948da42b8b508a23e4573a274": {
      "model_module": "@jupyter-widgets/base",
      "model_module_version": "1.1.0",
      "model_name": "LayoutModel",
      "state": {
       "justify_content": "center"
      }
     },
     "82c53814c74840e78316c9acdf0a184f": {
      "model_module": "@jupyter-widgets/base",
      "model_module_version": "1.1.0",
      "model_name": "LayoutModel",
      "state": {}
     },
     "830e933b8c6b4046982e2f0978b27179": {
      "model_module": "@jupyter-widgets/base",
      "model_module_version": "1.1.0",
      "model_name": "LayoutModel",
      "state": {
       "justify_content": "center"
      }
     },
     "83864197013c422ea3576d42305a9a2c": {
      "model_module": "@jupyter-widgets/base",
      "model_module_version": "1.1.0",
      "model_name": "LayoutModel",
      "state": {
       "width": "42%"
      }
     },
     "8401ca70bf4b4672b0d04840a7dc5b18": {
      "model_module": "@jupyter-widgets/base",
      "model_module_version": "1.1.0",
      "model_name": "LayoutModel",
      "state": {
       "justify_content": "center"
      }
     },
     "8403c3de47214b1fbd79269b591b040f": {
      "model_module": "@jupyter-widgets/controls",
      "model_module_version": "1.4.0",
      "model_name": "SliderStyleModel",
      "state": {
       "description_width": ""
      }
     },
     "84bbfc3054934beb8c336de788ba7cdd": {
      "model_module": "@jupyter-widgets/controls",
      "model_module_version": "1.4.0",
      "model_name": "DescriptionStyleModel",
      "state": {
       "description_width": ""
      }
     },
     "852b0c8bc2db40a8ade243500c2e8334": {
      "model_module": "@jupyter-widgets/controls",
      "model_module_version": "1.4.0",
      "model_name": "TextModel",
      "state": {
       "description": "Next Step",
       "layout": "IPY_MODEL_3f2c218119f047a08f2dd2cd0dbeea3b",
       "style": "IPY_MODEL_d5ff24484bf84cb9982bd7306fe6d6cb",
       "value": "Successful Completion"
      }
     },
     "85c9ac5d91594a188659377ed06c304d": {
      "model_module": "@jupyter-widgets/base",
      "model_module_version": "1.1.0",
      "model_name": "LayoutModel",
      "state": {}
     },
     "862b15226c694210865805e31079734d": {
      "model_module": "@jupyter-widgets/base",
      "model_module_version": "1.1.0",
      "model_name": "LayoutModel",
      "state": {
       "width": "95%"
      }
     },
     "862c934b213448dcbee15ea1f65f42e5": {
      "model_module": "@jupyter-widgets/controls",
      "model_module_version": "1.4.0",
      "model_name": "ButtonModel",
      "state": {
       "description": "Administer Dose(t)",
       "disabled": true,
       "layout": "IPY_MODEL_239604b382cc45ba8ad27702a222d56a",
       "style": "IPY_MODEL_6863a7a5054c4f05913182582a4fe20f"
      }
     },
     "86c3aacaf2d14ae299204a37f3937072": {
      "model_module": "@jupyter-widgets/controls",
      "model_module_version": "1.4.0",
      "model_name": "ButtonModel",
      "state": {
       "description": "Administer Dose(t)",
       "disabled": true,
       "layout": "IPY_MODEL_4fe19b45a2424016b2129e461e230835",
       "style": "IPY_MODEL_7803a019de6b4a858cca94dbec02f664"
      }
     },
     "86e135c9b77c4838a37546c1522ebc08": {
      "model_module": "@jupyter-widgets/base",
      "model_module_version": "1.1.0",
      "model_name": "LayoutModel",
      "state": {
       "width": "42%"
      }
     },
     "86e4deae87b3424895dfd33996c5a23e": {
      "model_module": "@jupyter-widgets/base",
      "model_module_version": "1.1.0",
      "model_name": "LayoutModel",
      "state": {
       "width": "95%"
      }
     },
     "86fa0b711d1b48eca3bc09dbfd68b165": {
      "model_module": "@jupyter-widgets/base",
      "model_module_version": "1.1.0",
      "model_name": "LayoutModel",
      "state": {
       "justify_content": "center"
      }
     },
     "87dbbd26f1d64a4eb8f392affd5b80c0": {
      "model_module": "@jupyter-widgets/base",
      "model_module_version": "1.1.0",
      "model_name": "LayoutModel",
      "state": {
       "justify_content": "center"
      }
     },
     "87de0a9ef5c54173860baedaa8750acd": {
      "model_module": "@jupyter-widgets/controls",
      "model_module_version": "1.4.0",
      "model_name": "SliderStyleModel",
      "state": {
       "description_width": ""
      }
     },
     "880b18e783204233a5bfce7b87ab5aee": {
      "model_module": "@jupyter-widgets/controls",
      "model_module_version": "1.4.0",
      "model_name": "TextModel",
      "state": {
       "description": "Response(t+1) ",
       "disabled": true,
       "layout": "IPY_MODEL_4f0016f913ce4a989ca9de5814401c08",
       "style": "IPY_MODEL_1a81dda27e53407e91e804d2b58d0633",
       "value": "  "
      }
     },
     "88bfcb86f8d0425a8ef6cb2157c981ed": {
      "model_module": "@jupyter-widgets/controls",
      "model_module_version": "1.4.0",
      "model_name": "HBoxModel",
      "state": {
       "children": [
        "IPY_MODEL_62a0db136ba84cdbbbf1220b888881d6",
        "IPY_MODEL_459573a5464e4040be333848d966ef81"
       ],
       "layout": "IPY_MODEL_80603277cfdd47488591efbbfbd7677d"
      }
     },
     "8940ee10ccc344d2b953c36aed8bec72": {
      "model_module": "@jupyter-widgets/controls",
      "model_module_version": "1.4.0",
      "model_name": "DescriptionStyleModel",
      "state": {
       "description_width": ""
      }
     },
     "897f2376e627442e95ebbd7368f4ff28": {
      "model_module": "@jupyter-widgets/controls",
      "model_module_version": "1.4.0",
      "model_name": "ButtonModel",
      "state": {
       "description": "Administer Dose(t)",
       "disabled": true,
       "layout": "IPY_MODEL_d454d30a4e5c4ff0b6cbf34a98a6ccf0",
       "style": "IPY_MODEL_3d7ff347306d42b98bd568bb482d3a22"
      }
     },
     "8a133d384bb04446b5cee26a1a43179d": {
      "model_module": "@jupyter-widgets/controls",
      "model_module_version": "1.4.0",
      "model_name": "SliderStyleModel",
      "state": {
       "description_width": ""
      }
     },
     "8b42b9464f80490a9212e743ad1ad58a": {
      "model_module": "@jupyter-widgets/controls",
      "model_module_version": "1.4.0",
      "model_name": "DescriptionStyleModel",
      "state": {
       "description_width": ""
      }
     },
     "8b4403bc359c49eaa0fe68915caded87": {
      "model_module": "@jupyter-widgets/controls",
      "model_module_version": "1.4.0",
      "model_name": "ButtonStyleModel",
      "state": {}
     },
     "8bb11177a1df43f097d6929aa23f82d1": {
      "model_module": "@jupyter-widgets/controls",
      "model_module_version": "1.4.0",
      "model_name": "ButtonStyleModel",
      "state": {}
     },
     "8bc15e85f60943d2aae9e62dcf445c3f": {
      "model_module": "@jupyter-widgets/controls",
      "model_module_version": "1.4.0",
      "model_name": "ButtonModel",
      "state": {
       "description": "Predict Response(t+1)",
       "layout": "IPY_MODEL_e07582650c69463b989f24140848fce9",
       "style": "IPY_MODEL_6f5abbbf561a41738f53ae8f1c35c223"
      }
     },
     "8c503910604a49958886fac0251b7d51": {
      "model_module": "@jupyter-widgets/controls",
      "model_module_version": "1.4.0",
      "model_name": "ButtonModel",
      "state": {
       "description": "Predict Response(t+1)",
       "layout": "IPY_MODEL_9eadb8fc599942d0856609459b4ab993",
       "style": "IPY_MODEL_bf119b7a4ee3413b81befc84cc60e6de"
      }
     },
     "8cc97bb05c9e4a1b8746e0ece03e5143": {
      "model_module": "@jupyter-widgets/controls",
      "model_module_version": "1.4.0",
      "model_name": "DescriptionStyleModel",
      "state": {
       "description_width": "initial"
      }
     },
     "8d2e4bce851744fcbfdcda5584c2e22b": {
      "model_module": "@jupyter-widgets/controls",
      "model_module_version": "1.4.0",
      "model_name": "FloatSliderModel",
      "state": {
       "description": "Dose(t)",
       "layout": "IPY_MODEL_0825f2b102a0446e87f4cc09c1d4e7a0",
       "max": 10,
       "min": -10,
       "step": 0.01,
       "style": "IPY_MODEL_87de0a9ef5c54173860baedaa8750acd"
      }
     },
     "8d63487340f54b378f6f6b2f4e4a2e55": {
      "model_module": "@jupyter-widgets/controls",
      "model_module_version": "1.4.0",
      "model_name": "ButtonModel",
      "state": {
       "description": "Predict Response(t+1)",
       "layout": "IPY_MODEL_528c22a7eb1a4339853aec47cf195263",
       "style": "IPY_MODEL_18e653a1388549b6b7eff4b1bb7be40b"
      }
     },
     "8db8764066f64d2383835cf8ba85a769": {
      "model_module": "@jupyter-widgets/controls",
      "model_module_version": "1.4.0",
      "model_name": "TextModel",
      "state": {
       "description": "Response(t+1) ",
       "disabled": true,
       "layout": "IPY_MODEL_a9d1b9a1d00f4a888612a3c609f0d10c",
       "style": "IPY_MODEL_40981a7a083f4622ba7768ab2b273685",
       "value": "4.90"
      }
     },
     "8db94dbaba9040eb8cb2cc5f43d055f2": {
      "model_module": "@jupyter-widgets/controls",
      "model_module_version": "1.4.0",
      "model_name": "HBoxModel",
      "state": {
       "children": [
        "IPY_MODEL_e9be4db836854a2c95881e3bb59cf768",
        "IPY_MODEL_8e38a8dfd00044349f9d92ba22fc953a"
       ],
       "layout": "IPY_MODEL_1e34031a506543c5bdf5af44cc63a8cd"
      }
     },
     "8e08663ae65f4c9884ddf958ae6ef17f": {
      "model_module": "@jupyter-widgets/base",
      "model_module_version": "1.1.0",
      "model_name": "LayoutModel",
      "state": {}
     },
     "8e38a8dfd00044349f9d92ba22fc953a": {
      "model_module": "@jupyter-widgets/controls",
      "model_module_version": "1.4.0",
      "model_name": "TextModel",
      "state": {
       "description": "Next Step",
       "layout": "IPY_MODEL_9bf0172c0c9444529a61b739352e4a49",
       "style": "IPY_MODEL_febd969808234ad59cfc221339fbfa8b",
       "value": "Predict Response(t+1)  "
      }
     },
     "8f102acff5d94b9db39321529daa7463": {
      "model_module": "@jupyter-widgets/base",
      "model_module_version": "1.1.0",
      "model_name": "LayoutModel",
      "state": {
       "justify_content": "center"
      }
     },
     "8f833ed41dd6476c8ea22abf00f20acd": {
      "model_module": "@jupyter-widgets/controls",
      "model_module_version": "1.4.0",
      "model_name": "ButtonStyleModel",
      "state": {}
     },
     "8ffea09a11154986b0e8f0626a62f963": {
      "model_module": "@jupyter-widgets/controls",
      "model_module_version": "1.4.0",
      "model_name": "ButtonStyleModel",
      "state": {}
     },
     "9069407e9e454c3892c6d076a1925d31": {
      "model_module": "@jupyter-widgets/controls",
      "model_module_version": "1.4.0",
      "model_name": "HBoxModel",
      "state": {
       "children": [
        "IPY_MODEL_2399dfa291d34d81a4471b906c5f59a7",
        "IPY_MODEL_1a33db65a5b247edb66543cfcf09f047"
       ],
       "layout": "IPY_MODEL_ffb741cd6fe44acb930d009dc8573003"
      }
     },
     "90794320e7c34d7da021303c63eb6472": {
      "model_module": "@jupyter-widgets/base",
      "model_module_version": "1.1.0",
      "model_name": "LayoutModel",
      "state": {
       "width": "42%"
      }
     },
     "9146b12367df4be5b94a06f30bf45ea0": {
      "model_module": "@jupyter-widgets/controls",
      "model_module_version": "1.4.0",
      "model_name": "TextModel",
      "state": {
       "description": "Next Step",
       "layout": "IPY_MODEL_08b9344633de450fb7bd7a8deb489cce",
       "style": "IPY_MODEL_27f5b70e098c4b9d81a153cf7d1042ff",
       "value": "Predict Response(t+1)"
      }
     },
     "91b55d0b46fe4346890de69c28d807f7": {
      "model_module": "@jupyter-widgets/controls",
      "model_module_version": "1.4.0",
      "model_name": "ButtonModel",
      "state": {
       "description": "Administer Dose(t)",
       "disabled": true,
       "layout": "IPY_MODEL_1d4dc086f9fe458ab5737d1aaf2b80b1",
       "style": "IPY_MODEL_47a4fcb027254d6997b49582dd52a557"
      }
     },
     "922a3fc5812f4fb9bb3f332b10b2c6fb": {
      "model_module": "@jupyter-widgets/base",
      "model_module_version": "1.1.0",
      "model_name": "LayoutModel",
      "state": {
       "justify_content": "center"
      }
     },
     "92be209797ac4daab49ca32fc72964d5": {
      "model_module": "@jupyter-widgets/controls",
      "model_module_version": "1.4.0",
      "model_name": "DescriptionStyleModel",
      "state": {
       "description_width": ""
      }
     },
     "93040ce097b44940a7545427822657d7": {
      "model_module": "@jupyter-widgets/controls",
      "model_module_version": "1.4.0",
      "model_name": "SliderStyleModel",
      "state": {
       "description_width": ""
      }
     },
     "935596d0f09c4302bb0aaca9fd8bf65a": {
      "model_module": "@jupyter-widgets/controls",
      "model_module_version": "1.4.0",
      "model_name": "HBoxModel",
      "state": {
       "children": [
        "IPY_MODEL_8db8764066f64d2383835cf8ba85a769",
        "IPY_MODEL_03e0cd42451847e98fa4c78e82f62d00"
       ],
       "layout": "IPY_MODEL_c7f4ac54e5384278a6891dd179d933c1"
      }
     },
     "936a663750bc43788789e099b30648f3": {
      "model_module": "@jupyter-widgets/base",
      "model_module_version": "1.1.0",
      "model_name": "LayoutModel",
      "state": {
       "width": "95%"
      }
     },
     "940254f1567044668f26b7d036148e76": {
      "model_module": "@jupyter-widgets/controls",
      "model_module_version": "1.4.0",
      "model_name": "HBoxModel",
      "state": {
       "children": [
        "IPY_MODEL_08fd0fe516b84441a1fb9fc283473288",
        "IPY_MODEL_d324909275244320a0e33d79e7d2a6cc"
       ],
       "layout": "IPY_MODEL_69cde05467dc42ae9e30210ac23674c1"
      }
     },
     "941823acf8ef46928c5438b430a3a8f4": {
      "model_module": "@jupyter-widgets/base",
      "model_module_version": "1.1.0",
      "model_name": "LayoutModel",
      "state": {}
     },
     "946f0936abf64c5ba45ed341fb33568e": {
      "model_module": "@jupyter-widgets/controls",
      "model_module_version": "1.4.0",
      "model_name": "FloatSliderModel",
      "state": {
       "description": "Dose(t)",
       "layout": "IPY_MODEL_f75d41c714a84fdbb09227772d9eebb7",
       "max": 10,
       "min": -10,
       "step": 0.01,
       "style": "IPY_MODEL_ac9ceda02933480eb1ac7b566738923b",
       "value": 0.54
      }
     },
     "94a5fd730486458b9b968efa724b8421": {
      "model_module": "@jupyter-widgets/controls",
      "model_module_version": "1.4.0",
      "model_name": "HBoxModel",
      "state": {
       "children": [
        "IPY_MODEL_fce71a65c4934bbcb9bcbfb2d45aeef1",
        "IPY_MODEL_d637afc52a734c92835ee07e873e1e42"
       ],
       "layout": "IPY_MODEL_76d478d10ced47689cdea9c14d47f470"
      }
     },
     "94de130f4c204fbe83daa20f30b4d314": {
      "model_module": "@jupyter-widgets/controls",
      "model_module_version": "1.4.0",
      "model_name": "ButtonModel",
      "state": {
       "description": "Predict Response(t+1)",
       "disabled": true,
       "layout": "IPY_MODEL_90794320e7c34d7da021303c63eb6472",
       "style": "IPY_MODEL_b9d245834f844b9197c8af9fce241d6e"
      }
     },
     "96180a94fd71457685cda1c7610b72b0": {
      "model_module": "@jupyter-widgets/base",
      "model_module_version": "1.1.0",
      "model_name": "LayoutModel",
      "state": {
       "width": "42%"
      }
     },
     "963c2a580dda400e9d632821f46e338c": {
      "model_module": "@jupyter-widgets/controls",
      "model_module_version": "1.4.0",
      "model_name": "ButtonModel",
      "state": {
       "description": "Administer Dose(t)",
       "disabled": true,
       "layout": "IPY_MODEL_2eedc88b87be4cc598862ac1d2e6f0b9",
       "style": "IPY_MODEL_13b4d94902704b9a9b87fbd0dba916e7"
      }
     },
     "968f7d4a292b49a8b6db3c7cea2bbfdf": {
      "model_module": "@jupyter-widgets/controls",
      "model_module_version": "1.4.0",
      "model_name": "DescriptionStyleModel",
      "state": {
       "description_width": ""
      }
     },
     "97012c8f2c76466aa94b3365fbeffb7f": {
      "model_module": "@jupyter-widgets/controls",
      "model_module_version": "1.4.0",
      "model_name": "ButtonStyleModel",
      "state": {}
     },
     "971f2239df294d519f8c49118463ef7e": {
      "model_module": "@jupyter-widgets/controls",
      "model_module_version": "1.4.0",
      "model_name": "ButtonStyleModel",
      "state": {}
     },
     "9733158a322c4ce0b20a511d81d434b0": {
      "model_module": "@jupyter-widgets/base",
      "model_module_version": "1.1.0",
      "model_name": "LayoutModel",
      "state": {
       "width": "42%"
      }
     },
     "976ecc5758ad4e74836b50dbca148e92": {
      "model_module": "@jupyter-widgets/base",
      "model_module_version": "1.1.0",
      "model_name": "LayoutModel",
      "state": {
       "width": "42%"
      }
     },
     "97d026ee3b174d3bb0ce997c953253f6": {
      "model_module": "@jupyter-widgets/base",
      "model_module_version": "1.1.0",
      "model_name": "LayoutModel",
      "state": {
       "width": "42%"
      }
     },
     "97d4024fe76d447f9c5af65d2bd72531": {
      "model_module": "@jupyter-widgets/controls",
      "model_module_version": "1.4.0",
      "model_name": "ButtonModel",
      "state": {
       "description": "Administer Dose(t)",
       "disabled": true,
       "layout": "IPY_MODEL_f97d4059622b4f9c941756e3b2c29e04",
       "style": "IPY_MODEL_8f833ed41dd6476c8ea22abf00f20acd"
      }
     },
     "98b80fda51614ef8974d051b0d6a752d": {
      "model_module": "@jupyter-widgets/controls",
      "model_module_version": "1.4.0",
      "model_name": "TextModel",
      "state": {
       "description": "Response(t+1) ",
       "disabled": true,
       "layout": "IPY_MODEL_7baecf4cc6734cdbb4273dc0c22eb416",
       "style": "IPY_MODEL_d5c1f55368f34f168932598262c69af3",
       "value": "5.08"
      }
     },
     "98c66e2204b9432d8fffdd93eac2f08e": {
      "model_module": "@jupyter-widgets/controls",
      "model_module_version": "1.4.0",
      "model_name": "HBoxModel",
      "state": {
       "children": [
        "IPY_MODEL_aa99a2df384743399a1b7f6b5c33bfe9",
        "IPY_MODEL_b82b0955136242ebab3d865c23ba177d"
       ],
       "layout": "IPY_MODEL_de7b37a5013b47538e8b9bdb0d6f7ea0"
      }
     },
     "99a4482343a348cb8533af40674e5ebb": {
      "model_module": "@jupyter-widgets/controls",
      "model_module_version": "1.4.0",
      "model_name": "HBoxModel",
      "state": {
       "children": [
        "IPY_MODEL_6e88d1ff7f8247aca898c7dbf18e326c",
        "IPY_MODEL_67e28e2a37664868922fe99736ea2eab"
       ],
       "layout": "IPY_MODEL_1aa56fd36cad4c4fb404c0c9899988a2"
      }
     },
     "99b49f5b78124313a809a9e4168fb663": {
      "model_module": "@jupyter-widgets/controls",
      "model_module_version": "1.4.0",
      "model_name": "FloatSliderModel",
      "state": {
       "description": "Dose(t)",
       "layout": "IPY_MODEL_dd7567db20394b5792e72c8ccd004b06",
       "max": 10,
       "min": -10,
       "step": 0.01,
       "style": "IPY_MODEL_8a133d384bb04446b5cee26a1a43179d",
       "value": 0.51
      }
     },
     "9a10ce8a3edf42e09c210dbcd041ad98": {
      "model_module": "@jupyter-widgets/base",
      "model_module_version": "1.1.0",
      "model_name": "LayoutModel",
      "state": {}
     },
     "9a1665e731434dc4b406384878aac32c": {
      "model_module": "@jupyter-widgets/controls",
      "model_module_version": "1.4.0",
      "model_name": "FloatSliderModel",
      "state": {
       "description": "Dose(t)",
       "layout": "IPY_MODEL_d006598ae7e54121be3ab8f25d641264",
       "max": 10,
       "min": -10,
       "step": 0.01,
       "style": "IPY_MODEL_0d3507cea52148e9ac305c3d01e9c070",
       "value": 0.53
      }
     },
     "9a422d4fc3734478b4cc1466f61c38e1": {
      "model_module": "@jupyter-widgets/controls",
      "model_module_version": "1.4.0",
      "model_name": "TextModel",
      "state": {
       "description": "Response(t+1) ",
       "disabled": true,
       "layout": "IPY_MODEL_7e878d1c88c24f51ae75c3d70347772e",
       "style": "IPY_MODEL_b0a96d9577e34aae986dd904e4c0f3fc",
       "value": "  "
      }
     },
     "9a7d9d5490f74e2bb4ee1ebe2370d27f": {
      "model_module": "@jupyter-widgets/controls",
      "model_module_version": "1.4.0",
      "model_name": "DescriptionStyleModel",
      "state": {
       "description_width": ""
      }
     },
     "9a8584556b564163960fb33b38e44777": {
      "model_module": "@jupyter-widgets/base",
      "model_module_version": "1.1.0",
      "model_name": "LayoutModel",
      "state": {
       "justify_content": "center"
      }
     },
     "9ace1ce2212b441d87acc5b376632568": {
      "model_module": "@jupyter-widgets/base",
      "model_module_version": "1.1.0",
      "model_name": "LayoutModel",
      "state": {
       "justify_content": "center"
      }
     },
     "9ade70736415488da0906a91bbe8536a": {
      "model_module": "@jupyter-widgets/controls",
      "model_module_version": "1.4.0",
      "model_name": "ButtonStyleModel",
      "state": {}
     },
     "9b8c17ba56594b2c80d07aa98e8b2e7e": {
      "model_module": "@jupyter-widgets/controls",
      "model_module_version": "1.4.0",
      "model_name": "SliderStyleModel",
      "state": {
       "description_width": ""
      }
     },
     "9bf0172c0c9444529a61b739352e4a49": {
      "model_module": "@jupyter-widgets/base",
      "model_module_version": "1.1.0",
      "model_name": "LayoutModel",
      "state": {}
     },
     "9e2ef801742a4da8ae107ad19c365c97": {
      "model_module": "@jupyter-widgets/base",
      "model_module_version": "1.1.0",
      "model_name": "LayoutModel",
      "state": {
       "justify_content": "center"
      }
     },
     "9e7bd315932c4f2da52faa1fd3998f3f": {
      "model_module": "@jupyter-widgets/controls",
      "model_module_version": "1.4.0",
      "model_name": "TextModel",
      "state": {
       "description": "Response(t+1) ",
       "disabled": true,
       "layout": "IPY_MODEL_3bcf9f46ff2449369608dfa3b874e388",
       "style": "IPY_MODEL_b153ae626c134e53bdc3384949b42132",
       "value": "6.93 (is more than 5.25)"
      }
     },
     "9eadb8fc599942d0856609459b4ab993": {
      "model_module": "@jupyter-widgets/base",
      "model_module_version": "1.1.0",
      "model_name": "LayoutModel",
      "state": {
       "width": "42%"
      }
     },
     "9f3388ea61e14b4686de612c056c7175": {
      "model_module": "@jupyter-widgets/controls",
      "model_module_version": "1.4.0",
      "model_name": "FloatSliderModel",
      "state": {
       "description": "Dose(t)",
       "layout": "IPY_MODEL_f0c43677ea4549aba70f2d22700ed501",
       "max": 10,
       "min": -10,
       "step": 0.01,
       "style": "IPY_MODEL_be7dc910d9af4362a45a33bce49a440a",
       "value": 0.5
      }
     },
     "9fc75d7e40d349999c04f0da783bb570": {
      "model_module": "@jupyter-widgets/base",
      "model_module_version": "1.1.0",
      "model_name": "LayoutModel",
      "state": {
       "justify_content": "center"
      }
     },
     "a026c654c79b4fe5b0597ba62791f0e7": {
      "model_module": "@jupyter-widgets/controls",
      "model_module_version": "1.4.0",
      "model_name": "TextModel",
      "state": {
       "description": "Next Step",
       "layout": "IPY_MODEL_594cae7682334f93bbf6a6d7f64a19bc",
       "style": "IPY_MODEL_8940ee10ccc344d2b953c36aed8bec72",
       "value": "Successful Completion"
      }
     },
     "a04910f70f604bd7968d21a7390face8": {
      "model_module": "@jupyter-widgets/base",
      "model_module_version": "1.1.0",
      "model_name": "LayoutModel",
      "state": {
       "width": "42%"
      }
     },
     "a16dcbe9e1c34862990d6c1a72b83bcc": {
      "model_module": "@jupyter-widgets/controls",
      "model_module_version": "1.4.0",
      "model_name": "DescriptionStyleModel",
      "state": {
       "description_width": "initial"
      }
     },
     "a18b1641358745289aec13347974280e": {
      "model_module": "@jupyter-widgets/controls",
      "model_module_version": "1.4.0",
      "model_name": "FloatSliderModel",
      "state": {
       "description": "Dose(t)",
       "layout": "IPY_MODEL_0b39633dfe9c4696ae1e7a9ad6fc8ce7",
       "max": 10,
       "min": -10,
       "step": 0.01,
       "style": "IPY_MODEL_a7df32eb62ae43b8afb786966e677103"
      }
     },
     "a1bf30dce84240d19207f11898483500": {
      "model_module": "@jupyter-widgets/base",
      "model_module_version": "1.1.0",
      "model_name": "LayoutModel",
      "state": {
       "justify_content": "center"
      }
     },
     "a1d9f3ff023841599021b5e6e57a1db1": {
      "model_module": "@jupyter-widgets/base",
      "model_module_version": "1.1.0",
      "model_name": "LayoutModel",
      "state": {
       "width": "42%"
      }
     },
     "a1de5863f2fc460d9cfffa417c70b79c": {
      "model_module": "@jupyter-widgets/base",
      "model_module_version": "1.1.0",
      "model_name": "LayoutModel",
      "state": {
       "width": "42%"
      }
     },
     "a2a720b4c247408eb78f4a3f90533ef2": {
      "model_module": "@jupyter-widgets/base",
      "model_module_version": "1.1.0",
      "model_name": "LayoutModel",
      "state": {
       "width": "42%"
      }
     },
     "a333d61bc5b94090a0ab4a2fd38b58cc": {
      "model_module": "@jupyter-widgets/base",
      "model_module_version": "1.1.0",
      "model_name": "LayoutModel",
      "state": {
       "justify_content": "center"
      }
     },
     "a38c6408e8d74800a029a5e9f03df1c0": {
      "model_module": "@jupyter-widgets/base",
      "model_module_version": "1.1.0",
      "model_name": "LayoutModel",
      "state": {}
     },
     "a3bffca2071049a3b4a952c29bb551e9": {
      "model_module": "@jupyter-widgets/controls",
      "model_module_version": "1.4.0",
      "model_name": "DescriptionStyleModel",
      "state": {
       "description_width": "initial"
      }
     },
     "a3e10b8fc4404e47a1ec0306d071a37a": {
      "model_module": "@jupyter-widgets/controls",
      "model_module_version": "1.4.0",
      "model_name": "ButtonStyleModel",
      "state": {}
     },
     "a404032a9c734265aae3d53cc25c12e8": {
      "model_module": "@jupyter-widgets/controls",
      "model_module_version": "1.4.0",
      "model_name": "SliderStyleModel",
      "state": {
       "description_width": ""
      }
     },
     "a40e2c541aaa4e07a78bf819b617de2a": {
      "model_module": "@jupyter-widgets/controls",
      "model_module_version": "1.4.0",
      "model_name": "DescriptionStyleModel",
      "state": {
       "description_width": "initial"
      }
     },
     "a544654de4dc4a97881b18afb9b821cb": {
      "model_module": "@jupyter-widgets/base",
      "model_module_version": "1.1.0",
      "model_name": "LayoutModel",
      "state": {
       "justify_content": "center"
      }
     },
     "a586057f5c004efda9a2c610739c7917": {
      "model_module": "@jupyter-widgets/controls",
      "model_module_version": "1.4.0",
      "model_name": "FloatSliderModel",
      "state": {
       "description": "Dose(t)",
       "layout": "IPY_MODEL_4981081503a24939920c25f27f01c7bd",
       "max": 10,
       "min": -10,
       "step": 0.01,
       "style": "IPY_MODEL_1c6f33dbd92d427c9078f609b45cce21",
       "value": 2.47
      }
     },
     "a5862f14248748a6b3129e69d21bb782": {
      "model_module": "@jupyter-widgets/controls",
      "model_module_version": "1.4.0",
      "model_name": "DescriptionStyleModel",
      "state": {
       "description_width": "initial"
      }
     },
     "a5a97e4aaae248c6949af7cff7201e2a": {
      "model_module": "@jupyter-widgets/controls",
      "model_module_version": "1.4.0",
      "model_name": "TextModel",
      "state": {
       "description": "Next Step",
       "layout": "IPY_MODEL_85c9ac5d91594a188659377ed06c304d",
       "style": "IPY_MODEL_56d1312a2eef45698d78113e8c83fddd",
       "value": "Predict Response(t+1)  "
      }
     },
     "a6748909755240dd86c658c012f4c7f5": {
      "model_module": "@jupyter-widgets/controls",
      "model_module_version": "1.4.0",
      "model_name": "TextModel",
      "state": {
       "description": "Next Step",
       "layout": "IPY_MODEL_d2d0f616637441788f1b83f0dc467bb4",
       "style": "IPY_MODEL_d5c77a7202ce421c899c515a868c4942",
       "value": "Predict Response(t+1)"
      }
     },
     "a689cd493b334e7b8b0cb65b062558fe": {
      "model_module": "@jupyter-widgets/controls",
      "model_module_version": "1.4.0",
      "model_name": "HBoxModel",
      "state": {
       "children": [
        "IPY_MODEL_9a422d4fc3734478b4cc1466f61c38e1",
        "IPY_MODEL_3bcf8d3723de4eea9cbcaf412a808af5"
       ],
       "layout": "IPY_MODEL_ed926edff44148998459525d56b5c9d4"
      }
     },
     "a6dc0945784e4b15ab918dbacf477c70": {
      "model_module": "@jupyter-widgets/controls",
      "model_module_version": "1.4.0",
      "model_name": "SliderStyleModel",
      "state": {
       "description_width": ""
      }
     },
     "a71d7b646bee4aef83141bf5554d00ad": {
      "model_module": "@jupyter-widgets/controls",
      "model_module_version": "1.4.0",
      "model_name": "ButtonStyleModel",
      "state": {}
     },
     "a7df32eb62ae43b8afb786966e677103": {
      "model_module": "@jupyter-widgets/controls",
      "model_module_version": "1.4.0",
      "model_name": "SliderStyleModel",
      "state": {
       "description_width": ""
      }
     },
     "a7ed6fa9d13041a88fc14cf0025cfb71": {
      "model_module": "@jupyter-widgets/base",
      "model_module_version": "1.1.0",
      "model_name": "LayoutModel",
      "state": {
       "width": "42%"
      }
     },
     "a84d33d067504ddeaeaa964530aa9fe4": {
      "model_module": "@jupyter-widgets/controls",
      "model_module_version": "1.4.0",
      "model_name": "HBoxModel",
      "state": {
       "children": [
        "IPY_MODEL_6b86836180e542a9b3178ad78413f81c",
        "IPY_MODEL_3ce88834dad3452aa1cf30b11584ec6c"
       ],
       "layout": "IPY_MODEL_aa81311b0d0846e192f111014292c2e2"
      }
     },
     "a88ea863d8c94b7db3a9e54b98f0c98c": {
      "model_module": "@jupyter-widgets/controls",
      "model_module_version": "1.4.0",
      "model_name": "ButtonStyleModel",
      "state": {}
     },
     "a934bebe06a942ceae4e1ff38802d1a2": {
      "model_module": "@jupyter-widgets/controls",
      "model_module_version": "1.4.0",
      "model_name": "DescriptionStyleModel",
      "state": {
       "description_width": "initial"
      }
     },
     "a9d1b9a1d00f4a888612a3c609f0d10c": {
      "model_module": "@jupyter-widgets/base",
      "model_module_version": "1.1.0",
      "model_name": "LayoutModel",
      "state": {}
     },
     "aa81311b0d0846e192f111014292c2e2": {
      "model_module": "@jupyter-widgets/base",
      "model_module_version": "1.1.0",
      "model_name": "LayoutModel",
      "state": {
       "justify_content": "center"
      }
     },
     "aa99a2df384743399a1b7f6b5c33bfe9": {
      "model_module": "@jupyter-widgets/controls",
      "model_module_version": "1.4.0",
      "model_name": "TextModel",
      "state": {
       "description": "Response(t+1) ",
       "disabled": true,
       "layout": "IPY_MODEL_33a6500f707847b095c0b1447d0e2b92",
       "style": "IPY_MODEL_1e401af41921416bb7a62a83538f41d3",
       "value": "5.04 (in range)"
      }
     },
     "ab2bf471fd8b45378075961cd3a248fd": {
      "model_module": "@jupyter-widgets/base",
      "model_module_version": "1.1.0",
      "model_name": "LayoutModel",
      "state": {
       "justify_content": "center"
      }
     },
     "ab6dda5c8b994a2c8959652eef1743d3": {
      "model_module": "@jupyter-widgets/base",
      "model_module_version": "1.1.0",
      "model_name": "LayoutModel",
      "state": {
       "width": "42%"
      }
     },
     "ac15b6a006cd4d0eabfd08e5214b3a34": {
      "model_module": "@jupyter-widgets/controls",
      "model_module_version": "1.4.0",
      "model_name": "ButtonModel",
      "state": {
       "description": "Predict Response(t+1)",
       "layout": "IPY_MODEL_6df2219b9a00488c9eeca53edc987033",
       "style": "IPY_MODEL_1c178a7475824a139655dba09dc4cc50"
      }
     },
     "ac40f3af24d646deacc5730b0bc05625": {
      "model_module": "@jupyter-widgets/controls",
      "model_module_version": "1.4.0",
      "model_name": "DescriptionStyleModel",
      "state": {
       "description_width": "initial"
      }
     },
     "ac9ceda02933480eb1ac7b566738923b": {
      "model_module": "@jupyter-widgets/controls",
      "model_module_version": "1.4.0",
      "model_name": "SliderStyleModel",
      "state": {
       "description_width": ""
      }
     },
     "ae4991a3f97c4b409a66d7a43f6482f6": {
      "model_module": "@jupyter-widgets/controls",
      "model_module_version": "1.4.0",
      "model_name": "ButtonStyleModel",
      "state": {}
     },
     "aeba46488de54fc283f801e4ca114448": {
      "model_module": "@jupyter-widgets/base",
      "model_module_version": "1.1.0",
      "model_name": "LayoutModel",
      "state": {}
     },
     "aed8b7420fa54206be1442b4763dc690": {
      "model_module": "@jupyter-widgets/base",
      "model_module_version": "1.1.0",
      "model_name": "LayoutModel",
      "state": {
       "justify_content": "center"
      }
     },
     "af1fcb343972454186f8beff4f717800": {
      "model_module": "@jupyter-widgets/controls",
      "model_module_version": "1.4.0",
      "model_name": "FloatSliderModel",
      "state": {
       "description": "Dose(t)",
       "layout": "IPY_MODEL_534f7d52f58d49919e5fc4cf016e0515",
       "max": 10,
       "min": -10,
       "step": 0.01,
       "style": "IPY_MODEL_9b8c17ba56594b2c80d07aa98e8b2e7e",
       "value": -0.02
      }
     },
     "afa0e9f0efc14446bcd9bac454ec77b8": {
      "model_module": "@jupyter-widgets/controls",
      "model_module_version": "1.4.0",
      "model_name": "ButtonModel",
      "state": {
       "description": "Predict Response(t+1)",
       "layout": "IPY_MODEL_2716394188814ea3bbed14d8fdddb46a",
       "style": "IPY_MODEL_b3c804048f624232b60cf691b2772377"
      }
     },
     "b04f1d8494bd4c1f82f229260ef4ce36": {
      "model_module": "@jupyter-widgets/base",
      "model_module_version": "1.1.0",
      "model_name": "LayoutModel",
      "state": {
       "width": "95%"
      }
     },
     "b0a96d9577e34aae986dd904e4c0f3fc": {
      "model_module": "@jupyter-widgets/controls",
      "model_module_version": "1.4.0",
      "model_name": "DescriptionStyleModel",
      "state": {
       "description_width": "initial"
      }
     },
     "b0f6535619c3467b858efc57d7ec31e1": {
      "model_module": "@jupyter-widgets/base",
      "model_module_version": "1.1.0",
      "model_name": "LayoutModel",
      "state": {
       "justify_content": "center"
      }
     },
     "b10d62ec74ad40419668b49878d5dd84": {
      "model_module": "@jupyter-widgets/controls",
      "model_module_version": "1.4.0",
      "model_name": "FloatSliderModel",
      "state": {
       "description": "Dose(t)",
       "layout": "IPY_MODEL_5983030701c44020b589afca71dad013",
       "max": 10,
       "min": -10,
       "step": 0.01,
       "style": "IPY_MODEL_4fe13937bcae401cb2e250b1e656dfbe"
      }
     },
     "b1203885ad8e44cc8e6759979715eea6": {
      "model_module": "@jupyter-widgets/controls",
      "model_module_version": "1.4.0",
      "model_name": "HBoxModel",
      "state": {
       "children": [
        "IPY_MODEL_6f26e09fe263477d852bd4cc2cbcbd2a",
        "IPY_MODEL_dd07063f075d49aea95ad527f7382dac"
       ],
       "layout": "IPY_MODEL_9a8584556b564163960fb33b38e44777"
      }
     },
     "b126f1d3c3f646dbb201f7163312880e": {
      "model_module": "@jupyter-widgets/controls",
      "model_module_version": "1.4.0",
      "model_name": "TextModel",
      "state": {
       "description": "Next Step",
       "layout": "IPY_MODEL_647fea64e9c44ab3b79f19ef3655467f",
       "style": "IPY_MODEL_dc2ec489f1c84662b5d8d2df786afc0b",
       "value": "Predict Response(t+1)  "
      }
     },
     "b1535340cda247bb8b654cd92d3572f9": {
      "model_module": "@jupyter-widgets/base",
      "model_module_version": "1.1.0",
      "model_name": "LayoutModel",
      "state": {
       "justify_content": "center"
      }
     },
     "b153ae626c134e53bdc3384949b42132": {
      "model_module": "@jupyter-widgets/controls",
      "model_module_version": "1.4.0",
      "model_name": "DescriptionStyleModel",
      "state": {
       "description_width": "initial"
      }
     },
     "b199436d11cb4fe293f47852a0a28e7e": {
      "model_module": "@jupyter-widgets/base",
      "model_module_version": "1.1.0",
      "model_name": "LayoutModel",
      "state": {}
     },
     "b2d3acf0d2e14ecea3f5bd778f3f7e36": {
      "model_module": "@jupyter-widgets/controls",
      "model_module_version": "1.4.0",
      "model_name": "ButtonStyleModel",
      "state": {}
     },
     "b30adf773cab45f3bceb9e478909967c": {
      "model_module": "@jupyter-widgets/controls",
      "model_module_version": "1.4.0",
      "model_name": "ButtonStyleModel",
      "state": {}
     },
     "b33631432e254b3982521671ebb0f71e": {
      "model_module": "@jupyter-widgets/base",
      "model_module_version": "1.1.0",
      "model_name": "LayoutModel",
      "state": {
       "width": "95%"
      }
     },
     "b3c804048f624232b60cf691b2772377": {
      "model_module": "@jupyter-widgets/controls",
      "model_module_version": "1.4.0",
      "model_name": "ButtonStyleModel",
      "state": {}
     },
     "b3d7ba76564d488bb4b95b202cdceb96": {
      "model_module": "@jupyter-widgets/controls",
      "model_module_version": "1.4.0",
      "model_name": "SliderStyleModel",
      "state": {
       "description_width": ""
      }
     },
     "b407d493f8a6403283626ae8c2bd3286": {
      "model_module": "@jupyter-widgets/controls",
      "model_module_version": "1.4.0",
      "model_name": "HBoxModel",
      "state": {
       "children": [
        "IPY_MODEL_e57b4b0b43814d4ea5dd237c11f86a9b",
        "IPY_MODEL_c5ad1b19368a40a9b7a6dc8a4bec127a"
       ],
       "layout": "IPY_MODEL_512c11586a13499a8da5092ef221631b"
      }
     },
     "b48170f32c8e4f8ba81197998816d855": {
      "model_module": "@jupyter-widgets/controls",
      "model_module_version": "1.4.0",
      "model_name": "SliderStyleModel",
      "state": {
       "description_width": ""
      }
     },
     "b481ac49bb634d33bf90a852c07ec6b0": {
      "model_module": "@jupyter-widgets/base",
      "model_module_version": "1.1.0",
      "model_name": "LayoutModel",
      "state": {
       "width": "42%"
      }
     },
     "b49940c8eafc44a19a2bc9f84180f4af": {
      "model_module": "@jupyter-widgets/controls",
      "model_module_version": "1.4.0",
      "model_name": "SliderStyleModel",
      "state": {
       "description_width": ""
      }
     },
     "b5a331ab60cf4490b56674b07f5bd1a5": {
      "model_module": "@jupyter-widgets/base",
      "model_module_version": "1.1.0",
      "model_name": "LayoutModel",
      "state": {
       "width": "42%"
      }
     },
     "b631d2be6be9422bb7d68fee362a5324": {
      "model_module": "@jupyter-widgets/base",
      "model_module_version": "1.1.0",
      "model_name": "LayoutModel",
      "state": {}
     },
     "b7ae42f3ed504f148a5b5b1813cf830d": {
      "model_module": "@jupyter-widgets/controls",
      "model_module_version": "1.4.0",
      "model_name": "DescriptionStyleModel",
      "state": {
       "description_width": "initial"
      }
     },
     "b82b0955136242ebab3d865c23ba177d": {
      "model_module": "@jupyter-widgets/controls",
      "model_module_version": "1.4.0",
      "model_name": "TextModel",
      "state": {
       "description": "Next Step",
       "layout": "IPY_MODEL_9a10ce8a3edf42e09c210dbcd041ad98",
       "style": "IPY_MODEL_92be209797ac4daab49ca32fc72964d5",
       "value": "Successful Completion"
      }
     },
     "b8839f8119d7447ba267cf5ca1b238c7": {
      "model_module": "@jupyter-widgets/controls",
      "model_module_version": "1.4.0",
      "model_name": "DescriptionStyleModel",
      "state": {
       "description_width": "initial"
      }
     },
     "b89bdd81f4be414a9b03a405b330537a": {
      "model_module": "@jupyter-widgets/controls",
      "model_module_version": "1.4.0",
      "model_name": "TextModel",
      "state": {
       "description": "Response(t+1) ",
       "disabled": true,
       "layout": "IPY_MODEL_1a47e945434342459c45e3e7f781702a",
       "style": "IPY_MODEL_a5862f14248748a6b3129e69d21bb782",
       "value": "4.38 (is less than 4.75)"
      }
     },
     "b9169c4237734f928f4b01df729c2263": {
      "model_module": "@jupyter-widgets/base",
      "model_module_version": "1.1.0",
      "model_name": "LayoutModel",
      "state": {
       "justify_content": "center"
      }
     },
     "b9d245834f844b9197c8af9fce241d6e": {
      "model_module": "@jupyter-widgets/controls",
      "model_module_version": "1.4.0",
      "model_name": "ButtonStyleModel",
      "state": {}
     },
     "ba10668f0cca4e968f5abf40a4bce4ab": {
      "model_module": "@jupyter-widgets/controls",
      "model_module_version": "1.4.0",
      "model_name": "FloatSliderModel",
      "state": {
       "description": "Dose(t)",
       "layout": "IPY_MODEL_54d98e77d9c140f5b6f6a26ddb404a10",
       "max": 10,
       "min": -10,
       "step": 0.01,
       "style": "IPY_MODEL_e7cb3188eba845d6b930949a2ea108f9",
       "value": 1.04
      }
     },
     "ba3f192f144d494d8cf8685c7bfdd3d5": {
      "model_module": "@jupyter-widgets/controls",
      "model_module_version": "1.4.0",
      "model_name": "ButtonModel",
      "state": {
       "description": "Predict Response(t+1)",
       "disabled": true,
       "layout": "IPY_MODEL_96180a94fd71457685cda1c7610b72b0",
       "style": "IPY_MODEL_3edcee2a091d41558d85ec886821438e"
      }
     },
     "baefbe6e13084d7f8277ef00258a95a3": {
      "model_module": "@jupyter-widgets/base",
      "model_module_version": "1.1.0",
      "model_name": "LayoutModel",
      "state": {
       "justify_content": "center"
      }
     },
     "bb78fe4891034bb1a307cb33083a20df": {
      "model_module": "@jupyter-widgets/controls",
      "model_module_version": "1.4.0",
      "model_name": "DescriptionStyleModel",
      "state": {
       "description_width": "initial"
      }
     },
     "bc0d560476494f5ea7915bd65bcd0ff4": {
      "model_module": "@jupyter-widgets/controls",
      "model_module_version": "1.4.0",
      "model_name": "ButtonModel",
      "state": {
       "description": "Administer Dose(t)",
       "disabled": true,
       "layout": "IPY_MODEL_9733158a322c4ce0b20a511d81d434b0",
       "style": "IPY_MODEL_d8e694fccb434b56bb2365033e2e333d"
      }
     },
     "bc77b2a7fca5429cbfe7763d03d494f6": {
      "model_module": "@jupyter-widgets/base",
      "model_module_version": "1.1.0",
      "model_name": "LayoutModel",
      "state": {
       "width": "42%"
      }
     },
     "bcc08810be054f8ab0faad4b087a7687": {
      "model_module": "@jupyter-widgets/controls",
      "model_module_version": "1.4.0",
      "model_name": "FloatSliderModel",
      "state": {
       "description": "Dose(t)",
       "layout": "IPY_MODEL_c722681d45e7480ea8e7f419988ddcb0",
       "max": 10,
       "min": -10,
       "step": 0.01,
       "style": "IPY_MODEL_b49940c8eafc44a19a2bc9f84180f4af"
      }
     },
     "bd6ee27849ac42cc82371d07c9d643b6": {
      "model_module": "@jupyter-widgets/base",
      "model_module_version": "1.1.0",
      "model_name": "LayoutModel",
      "state": {
       "width": "42%"
      }
     },
     "bdd397f1d4f94f63bd3c8511f418507a": {
      "model_module": "@jupyter-widgets/controls",
      "model_module_version": "1.4.0",
      "model_name": "HBoxModel",
      "state": {
       "children": [
        "IPY_MODEL_f6efb67db12b449f9b85a3ac8317cb90",
        "IPY_MODEL_fa6b40bfe0624a729e0fc851bfde3e58"
       ],
       "layout": "IPY_MODEL_82345ea948da42b8b508a23e4573a274"
      }
     },
     "be7dc910d9af4362a45a33bce49a440a": {
      "model_module": "@jupyter-widgets/controls",
      "model_module_version": "1.4.0",
      "model_name": "SliderStyleModel",
      "state": {
       "description_width": ""
      }
     },
     "be8303ca437c442292c37b189157c7c3": {
      "model_module": "@jupyter-widgets/controls",
      "model_module_version": "1.4.0",
      "model_name": "ButtonStyleModel",
      "state": {}
     },
     "bf119b7a4ee3413b81befc84cc60e6de": {
      "model_module": "@jupyter-widgets/controls",
      "model_module_version": "1.4.0",
      "model_name": "ButtonStyleModel",
      "state": {}
     },
     "bf1f45788122417cab38ab8765e3b191": {
      "model_module": "@jupyter-widgets/base",
      "model_module_version": "1.1.0",
      "model_name": "LayoutModel",
      "state": {
       "justify_content": "center"
      }
     },
     "bf292bfde1c34c428f3c60aceeeff9b1": {
      "model_module": "@jupyter-widgets/controls",
      "model_module_version": "1.4.0",
      "model_name": "FloatSliderModel",
      "state": {
       "description": "Dose(t)",
       "layout": "IPY_MODEL_ff4921d97d2949d39ce4b7bcdccefcc2",
       "max": 10,
       "min": -10,
       "step": 0.01,
       "style": "IPY_MODEL_f2a92d82c8334bcb864139d5a208dc88"
      }
     },
     "bfa30f6911a244728098ad1df15ad6ed": {
      "model_module": "@jupyter-widgets/controls",
      "model_module_version": "1.4.0",
      "model_name": "ButtonStyleModel",
      "state": {}
     },
     "c010b7152eeb4945894a5c0b4aa8d0e4": {
      "model_module": "@jupyter-widgets/controls",
      "model_module_version": "1.4.0",
      "model_name": "DescriptionStyleModel",
      "state": {
       "description_width": ""
      }
     },
     "c05135e09e3a45898b8d4a1bd300229b": {
      "model_module": "@jupyter-widgets/controls",
      "model_module_version": "1.4.0",
      "model_name": "HBoxModel",
      "state": {
       "children": [
        "IPY_MODEL_5aecb214e170443ab358419d1f491850",
        "IPY_MODEL_b126f1d3c3f646dbb201f7163312880e"
       ],
       "layout": "IPY_MODEL_ebbd31decb4f41d5ac01ed2b8b2d4db4"
      }
     },
     "c13022f87e324dec821d8b1e97b2a874": {
      "model_module": "@jupyter-widgets/controls",
      "model_module_version": "1.4.0",
      "model_name": "HBoxModel",
      "state": {
       "children": [
        "IPY_MODEL_ac15b6a006cd4d0eabfd08e5214b3a34",
        "IPY_MODEL_86c3aacaf2d14ae299204a37f3937072"
       ],
       "layout": "IPY_MODEL_bf1f45788122417cab38ab8765e3b191"
      }
     },
     "c1be487cd0884ceb962a5afadfb02e64": {
      "model_module": "@jupyter-widgets/base",
      "model_module_version": "1.1.0",
      "model_name": "LayoutModel",
      "state": {
       "justify_content": "center"
      }
     },
     "c2a423067a3041e38c191180138701a5": {
      "model_module": "@jupyter-widgets/controls",
      "model_module_version": "1.4.0",
      "model_name": "ButtonStyleModel",
      "state": {}
     },
     "c2ebb8bbe65c4edc9e1b8e07bfed438f": {
      "model_module": "@jupyter-widgets/base",
      "model_module_version": "1.1.0",
      "model_name": "LayoutModel",
      "state": {}
     },
     "c3a47741b9514d08a7252cf62de1f243": {
      "model_module": "@jupyter-widgets/controls",
      "model_module_version": "1.4.0",
      "model_name": "DescriptionStyleModel",
      "state": {
       "description_width": "initial"
      }
     },
     "c4185a4c21b54d7a9d896832eee1f16f": {
      "model_module": "@jupyter-widgets/base",
      "model_module_version": "1.1.0",
      "model_name": "LayoutModel",
      "state": {}
     },
     "c4e9ea7f188843f09240fe0a0b204a8d": {
      "model_module": "@jupyter-widgets/controls",
      "model_module_version": "1.4.0",
      "model_name": "DescriptionStyleModel",
      "state": {
       "description_width": ""
      }
     },
     "c4ff340510a644bda9997d29b5d9f3b4": {
      "model_module": "@jupyter-widgets/base",
      "model_module_version": "1.1.0",
      "model_name": "LayoutModel",
      "state": {
       "width": "42%"
      }
     },
     "c50c5c21c634449697f9cc7737cbd95b": {
      "model_module": "@jupyter-widgets/controls",
      "model_module_version": "1.4.0",
      "model_name": "SliderStyleModel",
      "state": {
       "description_width": ""
      }
     },
     "c5ad1b19368a40a9b7a6dc8a4bec127a": {
      "model_module": "@jupyter-widgets/controls",
      "model_module_version": "1.4.0",
      "model_name": "TextModel",
      "state": {
       "description": "Next Step",
       "layout": "IPY_MODEL_7d3bebcabf1741e88ab4d3d7427a6a60",
       "style": "IPY_MODEL_7f1ff7db9ca643d593fdb3e936891dc9",
       "value": "Predict Response(t+1)"
      }
     },
     "c5b14d0d7c7f4d8d84deae107a7584e9": {
      "model_module": "@jupyter-widgets/controls",
      "model_module_version": "1.4.0",
      "model_name": "TextModel",
      "state": {
       "description": "Next Step",
       "layout": "IPY_MODEL_cf66e6e4b5714e68bc9fe501edb38c3c",
       "style": "IPY_MODEL_48e65c1b8a3b4a88aa4f79ca9f9e0f62",
       "value": "Predict Response(t+1)  "
      }
     },
     "c705598275c24ce8be5d3d17085c94aa": {
      "model_module": "@jupyter-widgets/base",
      "model_module_version": "1.1.0",
      "model_name": "LayoutModel",
      "state": {
       "width": "42%"
      }
     },
     "c722681d45e7480ea8e7f419988ddcb0": {
      "model_module": "@jupyter-widgets/base",
      "model_module_version": "1.1.0",
      "model_name": "LayoutModel",
      "state": {
       "width": "95%"
      }
     },
     "c76df793ddd94063854fa78fd8a6782a": {
      "model_module": "@jupyter-widgets/controls",
      "model_module_version": "1.4.0",
      "model_name": "ButtonModel",
      "state": {
       "description": "Administer Dose(t)",
       "disabled": true,
       "layout": "IPY_MODEL_298f656de276460bb188b6afb865c608",
       "style": "IPY_MODEL_018564d47e714fae97acedb9d928c7c1"
      }
     },
     "c7f4ac54e5384278a6891dd179d933c1": {
      "model_module": "@jupyter-widgets/base",
      "model_module_version": "1.1.0",
      "model_name": "LayoutModel",
      "state": {
       "justify_content": "center"
      }
     },
     "c81b7d4431b04b519083327f7c72983a": {
      "model_module": "@jupyter-widgets/controls",
      "model_module_version": "1.4.0",
      "model_name": "HBoxModel",
      "state": {
       "children": [
        "IPY_MODEL_8bc15e85f60943d2aae9e62dcf445c3f",
        "IPY_MODEL_91b55d0b46fe4346890de69c28d807f7"
       ],
       "layout": "IPY_MODEL_19a11e2a031d4fe184ee96c41a51c21b"
      }
     },
     "c82d6355ac524ebeb0a03bf645e841f5": {
      "model_module": "@jupyter-widgets/controls",
      "model_module_version": "1.4.0",
      "model_name": "ButtonModel",
      "state": {
       "description": "Administer Dose(t)",
       "disabled": true,
       "layout": "IPY_MODEL_a1de5863f2fc460d9cfffa417c70b79c",
       "style": "IPY_MODEL_e0524d8df0514ec1a2988c326ba61e73"
      }
     },
     "c8660d5eb60c40798296366773836e0b": {
      "model_module": "@jupyter-widgets/controls",
      "model_module_version": "1.4.0",
      "model_name": "HBoxModel",
      "state": {
       "children": [
        "IPY_MODEL_e1adcd92de964aa38b8cfce93dfe74ec",
        "IPY_MODEL_61480924479042b0b5fb190b9b6f2b62"
       ],
       "layout": "IPY_MODEL_2ce967ef069b4ac18b196848fe54a992"
      }
     },
     "c8b7c46ea4ca42ba901cde11629f9cba": {
      "model_module": "@jupyter-widgets/controls",
      "model_module_version": "1.4.0",
      "model_name": "FloatSliderModel",
      "state": {
       "description": "Dose(t)",
       "layout": "IPY_MODEL_777ad53eb4214d3f983b387a974785c2",
       "max": 10,
       "min": -10,
       "step": 0.01,
       "style": "IPY_MODEL_d16f3954aba24bcc8c0abbd483b2cdd1",
       "value": 1.82
      }
     },
     "c91d2f0d65d3494f88f5aad5c7e14c44": {
      "model_module": "@jupyter-widgets/controls",
      "model_module_version": "1.4.0",
      "model_name": "TextModel",
      "state": {
       "description": "Response(t+1) ",
       "disabled": true,
       "layout": "IPY_MODEL_b631d2be6be9422bb7d68fee362a5324",
       "style": "IPY_MODEL_d8a9db061d5d4cd4a9f21b876fb680a7",
       "value": "9.28 (is more than 5.25)"
      }
     },
     "c9f60bd9b782468e88953ee0a09bdb23": {
      "model_module": "@jupyter-widgets/base",
      "model_module_version": "1.1.0",
      "model_name": "LayoutModel",
      "state": {}
     },
     "cac72bc0b47d4478803706af41eee6fa": {
      "model_module": "@jupyter-widgets/controls",
      "model_module_version": "1.4.0",
      "model_name": "DescriptionStyleModel",
      "state": {
       "description_width": ""
      }
     },
     "cb7b5d25b87d4cd1b7c51c144b0a0dfc": {
      "model_module": "@jupyter-widgets/controls",
      "model_module_version": "1.4.0",
      "model_name": "HBoxModel",
      "state": {
       "children": [
        "IPY_MODEL_dd045d627d8d42c6aa9a49d93045355d",
        "IPY_MODEL_d6b8fb86bf2e4062b08872f8ae62b67e"
       ],
       "layout": "IPY_MODEL_e5c7f8e0008b4867ae563b23ef9d2cd3"
      }
     },
     "cbc46f25282c4cd2a6adca13fc027f2d": {
      "model_module": "@jupyter-widgets/controls",
      "model_module_version": "1.4.0",
      "model_name": "DescriptionStyleModel",
      "state": {
       "description_width": ""
      }
     },
     "cbd9c89c22a8451a88de5437adcff7d6": {
      "model_module": "@jupyter-widgets/base",
      "model_module_version": "1.1.0",
      "model_name": "LayoutModel",
      "state": {
       "justify_content": "center"
      }
     },
     "cca17439827f401cb6a180d558236355": {
      "model_module": "@jupyter-widgets/base",
      "model_module_version": "1.1.0",
      "model_name": "LayoutModel",
      "state": {
       "width": "95%"
      }
     },
     "ced14abc2e25447084a68fe4d9a28404": {
      "model_module": "@jupyter-widgets/controls",
      "model_module_version": "1.4.0",
      "model_name": "FloatSliderModel",
      "state": {
       "description": "Dose(t)",
       "layout": "IPY_MODEL_eeb83e17c5b24aef92d85d312985671d",
       "max": 10,
       "min": -10,
       "step": 0.01,
       "style": "IPY_MODEL_7020576863994636beec0099d71909be"
      }
     },
     "cf05fc96408b43f9bdc0c453ea6864cf": {
      "model_module": "@jupyter-widgets/controls",
      "model_module_version": "1.4.0",
      "model_name": "TextModel",
      "state": {
       "description": "Response(t+1) ",
       "disabled": true,
       "layout": "IPY_MODEL_0e92d5e6c94c43edaaca337b1ff7fb72",
       "style": "IPY_MODEL_e16cd7a1bbb34e9e8efa699e5de0a4a0",
       "value": "5.05 (in range)"
      }
     },
     "cf37d7cf7bf44d73b5bf23098f58041c": {
      "model_module": "@jupyter-widgets/controls",
      "model_module_version": "1.4.0",
      "model_name": "ButtonStyleModel",
      "state": {}
     },
     "cf66e6e4b5714e68bc9fe501edb38c3c": {
      "model_module": "@jupyter-widgets/base",
      "model_module_version": "1.1.0",
      "model_name": "LayoutModel",
      "state": {}
     },
     "cf9d9733500545eb9abfa640630c9855": {
      "model_module": "@jupyter-widgets/controls",
      "model_module_version": "1.4.0",
      "model_name": "ButtonStyleModel",
      "state": {}
     },
     "cfa568b240574db49b63f8a8ee2e9fd9": {
      "model_module": "@jupyter-widgets/controls",
      "model_module_version": "1.4.0",
      "model_name": "ButtonStyleModel",
      "state": {}
     },
     "cfad5f40eb6f46cd8b3581b426a7ae98": {
      "model_module": "@jupyter-widgets/base",
      "model_module_version": "1.1.0",
      "model_name": "LayoutModel",
      "state": {
       "width": "42%"
      }
     },
     "d005af7968254de89a6df51708ebb703": {
      "model_module": "@jupyter-widgets/controls",
      "model_module_version": "1.4.0",
      "model_name": "TextModel",
      "state": {
       "description": "Response(t+1) ",
       "disabled": true,
       "layout": "IPY_MODEL_b199436d11cb4fe293f47852a0a28e7e",
       "style": "IPY_MODEL_b8839f8119d7447ba267cf5ca1b238c7",
       "value": "  "
      }
     },
     "d006598ae7e54121be3ab8f25d641264": {
      "model_module": "@jupyter-widgets/base",
      "model_module_version": "1.1.0",
      "model_name": "LayoutModel",
      "state": {
       "width": "95%"
      }
     },
     "d036e8573f03408da42d8d5534c250ae": {
      "model_module": "@jupyter-widgets/controls",
      "model_module_version": "1.4.0",
      "model_name": "ButtonModel",
      "state": {
       "description": "Predict Response(t+1)",
       "layout": "IPY_MODEL_e2b66103361443278160b338941a31ac",
       "style": "IPY_MODEL_8ffea09a11154986b0e8f0626a62f963"
      }
     },
     "d16f3954aba24bcc8c0abbd483b2cdd1": {
      "model_module": "@jupyter-widgets/controls",
      "model_module_version": "1.4.0",
      "model_name": "SliderStyleModel",
      "state": {
       "description_width": ""
      }
     },
     "d1758f6f7e02441c886a0b739b61d4cf": {
      "model_module": "@jupyter-widgets/controls",
      "model_module_version": "1.4.0",
      "model_name": "HBoxModel",
      "state": {
       "children": [
        "IPY_MODEL_4fccf838e71e43f4b0e5163a93629f76",
        "IPY_MODEL_fa11c43bec464af2a85cd608125a1428"
       ],
       "layout": "IPY_MODEL_a544654de4dc4a97881b18afb9b821cb"
      }
     },
     "d215c5126a5d4ca1b8842dcb98780736": {
      "model_module": "@jupyter-widgets/controls",
      "model_module_version": "1.4.0",
      "model_name": "DescriptionStyleModel",
      "state": {
       "description_width": ""
      }
     },
     "d29bba73479846a88ab6f4d63cf07d12": {
      "model_module": "@jupyter-widgets/controls",
      "model_module_version": "1.4.0",
      "model_name": "DescriptionStyleModel",
      "state": {
       "description_width": "initial"
      }
     },
     "d2a23063baf84feb87593f04fab42cd6": {
      "model_module": "@jupyter-widgets/controls",
      "model_module_version": "1.4.0",
      "model_name": "DescriptionStyleModel",
      "state": {
       "description_width": ""
      }
     },
     "d2ceb75c9b5b48019b164fad36b635f8": {
      "model_module": "@jupyter-widgets/controls",
      "model_module_version": "1.4.0",
      "model_name": "DescriptionStyleModel",
      "state": {
       "description_width": ""
      }
     },
     "d2d0f616637441788f1b83f0dc467bb4": {
      "model_module": "@jupyter-widgets/base",
      "model_module_version": "1.1.0",
      "model_name": "LayoutModel",
      "state": {}
     },
     "d324909275244320a0e33d79e7d2a6cc": {
      "model_module": "@jupyter-widgets/controls",
      "model_module_version": "1.4.0",
      "model_name": "TextModel",
      "state": {
       "description": "Next Step",
       "layout": "IPY_MODEL_eedc2dd3da054ed9aaae0aff4cdef6c7",
       "style": "IPY_MODEL_f25417ba13c94a02a4022133e14fcf59",
       "value": "Predict Response(t+1)  "
      }
     },
     "d3bba6b718f849c4bbf8cd36ab1a9832": {
      "model_module": "@jupyter-widgets/base",
      "model_module_version": "1.1.0",
      "model_name": "LayoutModel",
      "state": {
       "width": "42%"
      }
     },
     "d454d30a4e5c4ff0b6cbf34a98a6ccf0": {
      "model_module": "@jupyter-widgets/base",
      "model_module_version": "1.1.0",
      "model_name": "LayoutModel",
      "state": {
       "width": "42%"
      }
     },
     "d54fc47a08544f10abf9e225e368b838": {
      "model_module": "@jupyter-widgets/controls",
      "model_module_version": "1.4.0",
      "model_name": "ButtonModel",
      "state": {
       "description": "Predict Response(t+1)",
       "layout": "IPY_MODEL_1b217daf35ea4786b9473ceb6aa5029e",
       "style": "IPY_MODEL_d59adde3b1ea4376ba66fb0412c6732b"
      }
     },
     "d580c39264154a45846367f9dd1427e5": {
      "model_module": "@jupyter-widgets/controls",
      "model_module_version": "1.4.0",
      "model_name": "ButtonStyleModel",
      "state": {}
     },
     "d59adde3b1ea4376ba66fb0412c6732b": {
      "model_module": "@jupyter-widgets/controls",
      "model_module_version": "1.4.0",
      "model_name": "ButtonStyleModel",
      "state": {}
     },
     "d5c1f55368f34f168932598262c69af3": {
      "model_module": "@jupyter-widgets/controls",
      "model_module_version": "1.4.0",
      "model_name": "DescriptionStyleModel",
      "state": {
       "description_width": "initial"
      }
     },
     "d5c77a7202ce421c899c515a868c4942": {
      "model_module": "@jupyter-widgets/controls",
      "model_module_version": "1.4.0",
      "model_name": "DescriptionStyleModel",
      "state": {
       "description_width": ""
      }
     },
     "d5d651dabf1e4c3f88a84c91b7d013b9": {
      "model_module": "@jupyter-widgets/base",
      "model_module_version": "1.1.0",
      "model_name": "LayoutModel",
      "state": {
       "width": "42%"
      }
     },
     "d5ff24484bf84cb9982bd7306fe6d6cb": {
      "model_module": "@jupyter-widgets/controls",
      "model_module_version": "1.4.0",
      "model_name": "DescriptionStyleModel",
      "state": {
       "description_width": ""
      }
     },
     "d616136558ae4e9aa6d12fe0940b57cb": {
      "model_module": "@jupyter-widgets/controls",
      "model_module_version": "1.4.0",
      "model_name": "DescriptionStyleModel",
      "state": {
       "description_width": ""
      }
     },
     "d637afc52a734c92835ee07e873e1e42": {
      "model_module": "@jupyter-widgets/controls",
      "model_module_version": "1.4.0",
      "model_name": "TextModel",
      "state": {
       "description": "Next Step",
       "layout": "IPY_MODEL_06f90905bbcc444d9a9733d0651ddbf4",
       "style": "IPY_MODEL_37d1111072bd43b2b3bceac7c6626425",
       "value": "Predict Response(t+1)"
      }
     },
     "d6b8fb86bf2e4062b08872f8ae62b67e": {
      "model_module": "@jupyter-widgets/controls",
      "model_module_version": "1.4.0",
      "model_name": "ButtonModel",
      "state": {
       "description": "Administer Dose(t)",
       "disabled": true,
       "layout": "IPY_MODEL_54c201460cf348b2af29a887ff5d5b6a",
       "style": "IPY_MODEL_4a12501fe2a446d98d0fb2daf361337d"
      }
     },
     "d7326285cbd4420f82951e220971ae4c": {
      "model_module": "@jupyter-widgets/base",
      "model_module_version": "1.1.0",
      "model_name": "LayoutModel",
      "state": {
       "width": "95%"
      }
     },
     "d79d6b51676646479cc54b29f81ed220": {
      "model_module": "@jupyter-widgets/controls",
      "model_module_version": "1.4.0",
      "model_name": "HBoxModel",
      "state": {
       "children": [
        "IPY_MODEL_5d64cca9cbac40368c53256f44d88a84",
        "IPY_MODEL_e4bd65f6336b48cd85c6451587c84e96"
       ],
       "layout": "IPY_MODEL_86fa0b711d1b48eca3bc09dbfd68b165"
      }
     },
     "d8a1f05178cc4f789b89c399f8333eae": {
      "model_module": "@jupyter-widgets/base",
      "model_module_version": "1.1.0",
      "model_name": "LayoutModel",
      "state": {
       "width": "42%"
      }
     },
     "d8a9db061d5d4cd4a9f21b876fb680a7": {
      "model_module": "@jupyter-widgets/controls",
      "model_module_version": "1.4.0",
      "model_name": "DescriptionStyleModel",
      "state": {
       "description_width": "initial"
      }
     },
     "d8e694fccb434b56bb2365033e2e333d": {
      "model_module": "@jupyter-widgets/controls",
      "model_module_version": "1.4.0",
      "model_name": "ButtonStyleModel",
      "state": {}
     },
     "d91eb72586b9420089853537b9892b58": {
      "model_module": "@jupyter-widgets/base",
      "model_module_version": "1.1.0",
      "model_name": "LayoutModel",
      "state": {}
     },
     "d9d1719919ac43fdbbe9668b05dbeb00": {
      "model_module": "@jupyter-widgets/base",
      "model_module_version": "1.1.0",
      "model_name": "LayoutModel",
      "state": {
       "width": "42%"
      }
     },
     "da18618ddbd04ebf9e547d580c382daf": {
      "model_module": "@jupyter-widgets/base",
      "model_module_version": "1.1.0",
      "model_name": "LayoutModel",
      "state": {
       "width": "42%"
      }
     },
     "da78e4cf842d41a195e356726731b8e4": {
      "model_module": "@jupyter-widgets/base",
      "model_module_version": "1.1.0",
      "model_name": "LayoutModel",
      "state": {
       "width": "95%"
      }
     },
     "dada16d8024646cdb17adb1c22d477fa": {
      "model_module": "@jupyter-widgets/controls",
      "model_module_version": "1.4.0",
      "model_name": "ButtonModel",
      "state": {
       "description": "Predict Response(t+1)",
       "layout": "IPY_MODEL_e81f9a2f3fa94042af111d35f66d3043",
       "style": "IPY_MODEL_12506bce982c4301861cf78be64cdb7b"
      }
     },
     "db2002292ad341c39f6d92d722cd6d92": {
      "model_module": "@jupyter-widgets/base",
      "model_module_version": "1.1.0",
      "model_name": "LayoutModel",
      "state": {
       "justify_content": "center"
      }
     },
     "db4cd92d244f4f808fd48776383936c2": {
      "model_module": "@jupyter-widgets/controls",
      "model_module_version": "1.4.0",
      "model_name": "FloatSliderModel",
      "state": {
       "description": "Dose(t)",
       "layout": "IPY_MODEL_798aa3d13aa042c58593d5e3625a7618",
       "max": 10,
       "min": -10,
       "step": 0.01,
       "style": "IPY_MODEL_8403c3de47214b1fbd79269b591b040f"
      }
     },
     "db74bbd50e3b4fbd80c77406ae6f8a7a": {
      "model_module": "@jupyter-widgets/base",
      "model_module_version": "1.1.0",
      "model_name": "LayoutModel",
      "state": {
       "width": "95%"
      }
     },
     "dc2ec489f1c84662b5d8d2df786afc0b": {
      "model_module": "@jupyter-widgets/controls",
      "model_module_version": "1.4.0",
      "model_name": "DescriptionStyleModel",
      "state": {
       "description_width": ""
      }
     },
     "dc4c397a5fdf4120a27b682cb60dad39": {
      "model_module": "@jupyter-widgets/controls",
      "model_module_version": "1.4.0",
      "model_name": "HBoxModel",
      "state": {
       "children": [
        "IPY_MODEL_78a83f61572f49ed9bc6db590bdf5ad4",
        "IPY_MODEL_2ca12a6601e44c4ba1b0259243f20316"
       ],
       "layout": "IPY_MODEL_386346217bc54b6a8c8ddb9199f0d2cf"
      }
     },
     "dc5261a3b751455a94c0474cc90a5aa3": {
      "model_module": "@jupyter-widgets/controls",
      "model_module_version": "1.4.0",
      "model_name": "TextModel",
      "state": {
       "description": "Response(t+1) ",
       "disabled": true,
       "layout": "IPY_MODEL_e9c2594e525d4beea2db551aa430c0d0",
       "style": "IPY_MODEL_4e1fde5ca2574b09a115ea511786a24c",
       "value": "1.03 (is less than 4.75)"
      }
     },
     "dc9eb6c483284476ab618ac77a505a4d": {
      "model_module": "@jupyter-widgets/controls",
      "model_module_version": "1.4.0",
      "model_name": "ButtonStyleModel",
      "state": {}
     },
     "dca72deb8666487b927d3ec90b3614e7": {
      "model_module": "@jupyter-widgets/controls",
      "model_module_version": "1.4.0",
      "model_name": "ButtonModel",
      "state": {
       "description": "Administer Dose(t)",
       "disabled": true,
       "layout": "IPY_MODEL_d5d651dabf1e4c3f88a84c91b7d013b9",
       "style": "IPY_MODEL_f9e9aeae4df64f399971129be4df21db"
      }
     },
     "dd045d627d8d42c6aa9a49d93045355d": {
      "model_module": "@jupyter-widgets/controls",
      "model_module_version": "1.4.0",
      "model_name": "ButtonModel",
      "state": {
       "description": "Predict Response(t+1)",
       "disabled": true,
       "layout": "IPY_MODEL_095ef3225d28434386964a06b6904a35",
       "style": "IPY_MODEL_dc9eb6c483284476ab618ac77a505a4d"
      }
     },
     "dd07063f075d49aea95ad527f7382dac": {
      "model_module": "@jupyter-widgets/controls",
      "model_module_version": "1.4.0",
      "model_name": "ButtonModel",
      "state": {
       "description": "Administer Dose(t)",
       "disabled": true,
       "layout": "IPY_MODEL_3371818383a148888fabe75ddb343bd2",
       "style": "IPY_MODEL_971f2239df294d519f8c49118463ef7e"
      }
     },
     "dd7567db20394b5792e72c8ccd004b06": {
      "model_module": "@jupyter-widgets/base",
      "model_module_version": "1.1.0",
      "model_name": "LayoutModel",
      "state": {
       "width": "95%"
      }
     },
     "dd8fa56ff0724f18a2d9cab6f0ec028c": {
      "model_module": "@jupyter-widgets/controls",
      "model_module_version": "1.4.0",
      "model_name": "TextModel",
      "state": {
       "description": "Next Step",
       "layout": "IPY_MODEL_13bbdc383efb4b10ad3423c4810ebb8a",
       "style": "IPY_MODEL_8b42b9464f80490a9212e743ad1ad58a",
       "value": "Predict Response(t+1)"
      }
     },
     "de73b20eb9e745948932872543e94e54": {
      "model_module": "@jupyter-widgets/base",
      "model_module_version": "1.1.0",
      "model_name": "LayoutModel",
      "state": {
       "width": "42%"
      }
     },
     "de7b37a5013b47538e8b9bdb0d6f7ea0": {
      "model_module": "@jupyter-widgets/base",
      "model_module_version": "1.1.0",
      "model_name": "LayoutModel",
      "state": {
       "justify_content": "center"
      }
     },
     "dedd72c950334eff86c00cc2511b3160": {
      "model_module": "@jupyter-widgets/controls",
      "model_module_version": "1.4.0",
      "model_name": "HBoxModel",
      "state": {
       "children": [
        "IPY_MODEL_ffe1426f2dda470dbe952aeab16af0c5",
        "IPY_MODEL_97d4024fe76d447f9c5af65d2bd72531"
       ],
       "layout": "IPY_MODEL_baefbe6e13084d7f8277ef00258a95a3"
      }
     },
     "df7f566003a04dbbabc602a6e650e881": {
      "model_module": "@jupyter-widgets/controls",
      "model_module_version": "1.4.0",
      "model_name": "ButtonModel",
      "state": {
       "description": "Predict Response(t+1)",
       "layout": "IPY_MODEL_a1d9f3ff023841599021b5e6e57a1db1",
       "style": "IPY_MODEL_600022f341b642b0b694ddaf0a308b4c"
      }
     },
     "e0524d8df0514ec1a2988c326ba61e73": {
      "model_module": "@jupyter-widgets/controls",
      "model_module_version": "1.4.0",
      "model_name": "ButtonStyleModel",
      "state": {}
     },
     "e07582650c69463b989f24140848fce9": {
      "model_module": "@jupyter-widgets/base",
      "model_module_version": "1.1.0",
      "model_name": "LayoutModel",
      "state": {
       "width": "42%"
      }
     },
     "e0bc5b356d764123a236b9b94c7fdcfc": {
      "model_module": "@jupyter-widgets/base",
      "model_module_version": "1.1.0",
      "model_name": "LayoutModel",
      "state": {}
     },
     "e1066b07ce154f1aa63b1830b9e1d972": {
      "model_module": "@jupyter-widgets/base",
      "model_module_version": "1.1.0",
      "model_name": "LayoutModel",
      "state": {}
     },
     "e16cd7a1bbb34e9e8efa699e5de0a4a0": {
      "model_module": "@jupyter-widgets/controls",
      "model_module_version": "1.4.0",
      "model_name": "DescriptionStyleModel",
      "state": {
       "description_width": "initial"
      }
     },
     "e1988a5aa4dc4bc2a507e12e6beb3a31": {
      "model_module": "@jupyter-widgets/controls",
      "model_module_version": "1.4.0",
      "model_name": "ButtonModel",
      "state": {
       "description": "Administer Dose(t)",
       "disabled": true,
       "layout": "IPY_MODEL_bc77b2a7fca5429cbfe7763d03d494f6",
       "style": "IPY_MODEL_97012c8f2c76466aa94b3365fbeffb7f"
      }
     },
     "e1adcd92de964aa38b8cfce93dfe74ec": {
      "model_module": "@jupyter-widgets/controls",
      "model_module_version": "1.4.0",
      "model_name": "TextModel",
      "state": {
       "description": "Response(t+1) ",
       "disabled": true,
       "layout": "IPY_MODEL_82c53814c74840e78316c9acdf0a184f",
       "style": "IPY_MODEL_5df7ee52fa9e4b7985ffab0fa42a8224",
       "value": "4.86"
      }
     },
     "e1b53b8316914ab9a1717435b5e87336": {
      "model_module": "@jupyter-widgets/base",
      "model_module_version": "1.1.0",
      "model_name": "LayoutModel",
      "state": {
       "width": "42%"
      }
     },
     "e2b66103361443278160b338941a31ac": {
      "model_module": "@jupyter-widgets/base",
      "model_module_version": "1.1.0",
      "model_name": "LayoutModel",
      "state": {
       "width": "42%"
      }
     },
     "e333dd4c32264784873156309ad57cdd": {
      "model_module": "@jupyter-widgets/controls",
      "model_module_version": "1.4.0",
      "model_name": "ButtonModel",
      "state": {
       "description": "Administer Dose(t)",
       "disabled": true,
       "layout": "IPY_MODEL_4ac0edac95fa4ddc957eeb4bca8fa1f4",
       "style": "IPY_MODEL_26a812405eea4253a93b39eefb7b86e9"
      }
     },
     "e3620dccb9144eb681a161f8e357b5ac": {
      "model_module": "@jupyter-widgets/controls",
      "model_module_version": "1.4.0",
      "model_name": "FloatSliderModel",
      "state": {
       "description": "Dose(t)",
       "layout": "IPY_MODEL_936a663750bc43788789e099b30648f3",
       "max": 10,
       "min": -10,
       "step": 0.01,
       "style": "IPY_MODEL_7bf91f7803bb4378b74c0f83f9d73ead"
      }
     },
     "e4931278102f44718cf15523d863fccd": {
      "model_module": "@jupyter-widgets/controls",
      "model_module_version": "1.4.0",
      "model_name": "TextModel",
      "state": {
       "description": "Next Step",
       "layout": "IPY_MODEL_aeba46488de54fc283f801e4ca114448",
       "style": "IPY_MODEL_5f7e454921f043f3b06fa40406b74e65",
       "value": "Successful Completion"
      }
     },
     "e4b040841521454bae2f6ef5f4bdedaa": {
      "model_module": "@jupyter-widgets/base",
      "model_module_version": "1.1.0",
      "model_name": "LayoutModel",
      "state": {
       "justify_content": "center"
      }
     },
     "e4bd65f6336b48cd85c6451587c84e96": {
      "model_module": "@jupyter-widgets/controls",
      "model_module_version": "1.4.0",
      "model_name": "TextModel",
      "state": {
       "description": "Next Step",
       "layout": "IPY_MODEL_107b293ba32b4e1fb176a8f3cb3854b4",
       "style": "IPY_MODEL_f499c034223e46168c0421ea8d85d83c",
       "value": "Predict Response(t+1)  "
      }
     },
     "e57b4b0b43814d4ea5dd237c11f86a9b": {
      "model_module": "@jupyter-widgets/controls",
      "model_module_version": "1.4.0",
      "model_name": "TextModel",
      "state": {
       "description": "Response(t+1) ",
       "disabled": true,
       "layout": "IPY_MODEL_74211fd2a17243e290eafe7a0be9d4ee",
       "style": "IPY_MODEL_631a2ad58acb4443a17d0e22f5ecd50b",
       "value": "5.10"
      }
     },
     "e5c7f8e0008b4867ae563b23ef9d2cd3": {
      "model_module": "@jupyter-widgets/base",
      "model_module_version": "1.1.0",
      "model_name": "LayoutModel",
      "state": {
       "justify_content": "center"
      }
     },
     "e65f57983e69411ab0b0befc7274a185": {
      "model_module": "@jupyter-widgets/base",
      "model_module_version": "1.1.0",
      "model_name": "LayoutModel",
      "state": {
       "justify_content": "center"
      }
     },
     "e67a95b1af044a58bb210f267a357a22": {
      "model_module": "@jupyter-widgets/controls",
      "model_module_version": "1.4.0",
      "model_name": "DescriptionStyleModel",
      "state": {
       "description_width": "initial"
      }
     },
     "e7cb3188eba845d6b930949a2ea108f9": {
      "model_module": "@jupyter-widgets/controls",
      "model_module_version": "1.4.0",
      "model_name": "SliderStyleModel",
      "state": {
       "description_width": ""
      }
     },
     "e7dffd1db6c444158be5e3b52a09b880": {
      "model_module": "@jupyter-widgets/controls",
      "model_module_version": "1.4.0",
      "model_name": "SliderStyleModel",
      "state": {
       "description_width": ""
      }
     },
     "e81f9a2f3fa94042af111d35f66d3043": {
      "model_module": "@jupyter-widgets/base",
      "model_module_version": "1.1.0",
      "model_name": "LayoutModel",
      "state": {
       "width": "42%"
      }
     },
     "e82ec4c293a0420586df3c59390abade": {
      "model_module": "@jupyter-widgets/base",
      "model_module_version": "1.1.0",
      "model_name": "LayoutModel",
      "state": {
       "width": "42%"
      }
     },
     "e8599bd2a44349adb56784521e651176": {
      "model_module": "@jupyter-widgets/base",
      "model_module_version": "1.1.0",
      "model_name": "LayoutModel",
      "state": {
       "justify_content": "center"
      }
     },
     "e8d2bfa31b2345d9b6770adc27d9e13b": {
      "model_module": "@jupyter-widgets/controls",
      "model_module_version": "1.4.0",
      "model_name": "TextModel",
      "state": {
       "description": "Response(t+1) ",
       "disabled": true,
       "layout": "IPY_MODEL_49993292fef14d3b87f61e4c57a29f80",
       "style": "IPY_MODEL_0b15758c582e40ca8d5fed687c2d7cc5",
       "value": "4.86"
      }
     },
     "e94177a434e8442789604220fb18a082": {
      "model_module": "@jupyter-widgets/controls",
      "model_module_version": "1.4.0",
      "model_name": "HBoxModel",
      "state": {
       "children": [
        "IPY_MODEL_23e43d5663aa45b1837a11cc6423dc86",
        "IPY_MODEL_e333dd4c32264784873156309ad57cdd"
       ],
       "layout": "IPY_MODEL_cbd9c89c22a8451a88de5437adcff7d6"
      }
     },
     "e9be4db836854a2c95881e3bb59cf768": {
      "model_module": "@jupyter-widgets/controls",
      "model_module_version": "1.4.0",
      "model_name": "TextModel",
      "state": {
       "description": "Response(t+1) ",
       "disabled": true,
       "layout": "IPY_MODEL_e0bc5b356d764123a236b9b94c7fdcfc",
       "style": "IPY_MODEL_26d39e3bcfc7405bbc3070fe887e5b5f",
       "value": "  "
      }
     },
     "e9c2594e525d4beea2db551aa430c0d0": {
      "model_module": "@jupyter-widgets/base",
      "model_module_version": "1.1.0",
      "model_name": "LayoutModel",
      "state": {}
     },
     "eb3bb59e6b4746ec94c9838f55ef0973": {
      "model_module": "@jupyter-widgets/base",
      "model_module_version": "1.1.0",
      "model_name": "LayoutModel",
      "state": {}
     },
     "eb9c5f8672ff4fd18894ebc109c60eda": {
      "model_module": "@jupyter-widgets/controls",
      "model_module_version": "1.4.0",
      "model_name": "ButtonStyleModel",
      "state": {}
     },
     "ebab459ea1ed4112a7ec79d7f1be21df": {
      "model_module": "@jupyter-widgets/base",
      "model_module_version": "1.1.0",
      "model_name": "LayoutModel",
      "state": {
       "justify_content": "center"
      }
     },
     "ebbd31decb4f41d5ac01ed2b8b2d4db4": {
      "model_module": "@jupyter-widgets/base",
      "model_module_version": "1.1.0",
      "model_name": "LayoutModel",
      "state": {
       "justify_content": "center"
      }
     },
     "ec9df7e530724051940284c941efcb38": {
      "model_module": "@jupyter-widgets/controls",
      "model_module_version": "1.4.0",
      "model_name": "FloatSliderModel",
      "state": {
       "description": "Dose(t)",
       "layout": "IPY_MODEL_db74bbd50e3b4fbd80c77406ae6f8a7a",
       "max": 10,
       "min": -10,
       "step": 0.01,
       "style": "IPY_MODEL_a404032a9c734265aae3d53cc25c12e8"
      }
     },
     "ecb7076df28b45d99581b461934ba6d1": {
      "model_module": "@jupyter-widgets/base",
      "model_module_version": "1.1.0",
      "model_name": "LayoutModel",
      "state": {
       "justify_content": "center"
      }
     },
     "ecd25eb8614e41a3ae67fd172fe5f7d5": {
      "model_module": "@jupyter-widgets/controls",
      "model_module_version": "1.4.0",
      "model_name": "HBoxModel",
      "state": {
       "children": [
        "IPY_MODEL_dc5261a3b751455a94c0474cc90a5aa3",
        "IPY_MODEL_4b04162859d44f3d86b766bf43864f2f"
       ],
       "layout": "IPY_MODEL_f3e6f53a8a4846e79d6ec97fdc0c237c"
      }
     },
     "ed926edff44148998459525d56b5c9d4": {
      "model_module": "@jupyter-widgets/base",
      "model_module_version": "1.1.0",
      "model_name": "LayoutModel",
      "state": {
       "justify_content": "center"
      }
     },
     "ed9cbe41ffa64544a995f86234da6a73": {
      "model_module": "@jupyter-widgets/base",
      "model_module_version": "1.1.0",
      "model_name": "LayoutModel",
      "state": {
       "width": "95%"
      }
     },
     "edb82dc7e54b442f932c1af931fdffb4": {
      "model_module": "@jupyter-widgets/controls",
      "model_module_version": "1.4.0",
      "model_name": "ButtonModel",
      "state": {
       "description": "Predict Response(t+1)",
       "layout": "IPY_MODEL_83864197013c422ea3576d42305a9a2c",
       "style": "IPY_MODEL_c2a423067a3041e38c191180138701a5"
      }
     },
     "eeb1628dd7da420cbe963780cff3422c": {
      "model_module": "@jupyter-widgets/controls",
      "model_module_version": "1.4.0",
      "model_name": "HBoxModel",
      "state": {
       "children": [
        "IPY_MODEL_8c503910604a49958886fac0251b7d51",
        "IPY_MODEL_4a34fcebf76848b2b0b6b45911141f6a"
       ],
       "layout": "IPY_MODEL_326eaa7843094062aaa5a5676815ddfd"
      }
     },
     "eeb83e17c5b24aef92d85d312985671d": {
      "model_module": "@jupyter-widgets/base",
      "model_module_version": "1.1.0",
      "model_name": "LayoutModel",
      "state": {
       "width": "95%"
      }
     },
     "eedc2dd3da054ed9aaae0aff4cdef6c7": {
      "model_module": "@jupyter-widgets/base",
      "model_module_version": "1.1.0",
      "model_name": "LayoutModel",
      "state": {}
     },
     "eff92387c36f4c4b8cca66708946cf10": {
      "model_module": "@jupyter-widgets/base",
      "model_module_version": "1.1.0",
      "model_name": "LayoutModel",
      "state": {}
     },
     "f0c43677ea4549aba70f2d22700ed501": {
      "model_module": "@jupyter-widgets/base",
      "model_module_version": "1.1.0",
      "model_name": "LayoutModel",
      "state": {
       "width": "95%"
      }
     },
     "f10c70a716f9455c917522757d882483": {
      "model_module": "@jupyter-widgets/controls",
      "model_module_version": "1.4.0",
      "model_name": "ButtonStyleModel",
      "state": {}
     },
     "f210065ef4614d908a8d58a418030e3d": {
      "model_module": "@jupyter-widgets/controls",
      "model_module_version": "1.4.0",
      "model_name": "ButtonStyleModel",
      "state": {}
     },
     "f25417ba13c94a02a4022133e14fcf59": {
      "model_module": "@jupyter-widgets/controls",
      "model_module_version": "1.4.0",
      "model_name": "DescriptionStyleModel",
      "state": {
       "description_width": ""
      }
     },
     "f2a92d82c8334bcb864139d5a208dc88": {
      "model_module": "@jupyter-widgets/controls",
      "model_module_version": "1.4.0",
      "model_name": "SliderStyleModel",
      "state": {
       "description_width": ""
      }
     },
     "f2f09903188a48d6ac121316a6f6ef94": {
      "model_module": "@jupyter-widgets/controls",
      "model_module_version": "1.4.0",
      "model_name": "TextModel",
      "state": {
       "description": "Response(t+1) ",
       "disabled": true,
       "layout": "IPY_MODEL_1fa8a91257e040bab72bdfa0a25341e5",
       "style": "IPY_MODEL_6c8e0ebb921041c1bf653b76f80104ff",
       "value": "  "
      }
     },
     "f35c730f044b47d2a2634f4c6abd2191": {
      "model_module": "@jupyter-widgets/controls",
      "model_module_version": "1.4.0",
      "model_name": "TextModel",
      "state": {
       "description": "Next Step",
       "layout": "IPY_MODEL_941823acf8ef46928c5438b430a3a8f4",
       "style": "IPY_MODEL_968f7d4a292b49a8b6db3c7cea2bbfdf",
       "value": "Predict Response(t+1)  "
      }
     },
     "f38acae4f32d4ee9a1344e90b97aca43": {
      "model_module": "@jupyter-widgets/base",
      "model_module_version": "1.1.0",
      "model_name": "LayoutModel",
      "state": {}
     },
     "f3b0b79639bc4b69b2105cd51ba8ed4a": {
      "model_module": "@jupyter-widgets/base",
      "model_module_version": "1.1.0",
      "model_name": "LayoutModel",
      "state": {}
     },
     "f3e6f53a8a4846e79d6ec97fdc0c237c": {
      "model_module": "@jupyter-widgets/base",
      "model_module_version": "1.1.0",
      "model_name": "LayoutModel",
      "state": {
       "justify_content": "center"
      }
     },
     "f3e744d0396145c5b2122b07bba5076c": {
      "model_module": "@jupyter-widgets/controls",
      "model_module_version": "1.4.0",
      "model_name": "TextModel",
      "state": {
       "description": "Next Step",
       "layout": "IPY_MODEL_d91eb72586b9420089853537b9892b58",
       "style": "IPY_MODEL_634b14f9b3644f7abccbf74717b77860",
       "value": "Hit lower tox limit"
      }
     },
     "f499c034223e46168c0421ea8d85d83c": {
      "model_module": "@jupyter-widgets/controls",
      "model_module_version": "1.4.0",
      "model_name": "DescriptionStyleModel",
      "state": {
       "description_width": ""
      }
     },
     "f49a21904bab4bdcafd64208d655657f": {
      "model_module": "@jupyter-widgets/controls",
      "model_module_version": "1.4.0",
      "model_name": "ButtonModel",
      "state": {
       "description": "Predict Response(t+1)",
       "layout": "IPY_MODEL_da18618ddbd04ebf9e547d580c382daf",
       "style": "IPY_MODEL_2a0cca7a6eac41afaf72a022b26030e2"
      }
     },
     "f4b704a50b19416aaa619a020dfd5071": {
      "model_module": "@jupyter-widgets/controls",
      "model_module_version": "1.4.0",
      "model_name": "SliderStyleModel",
      "state": {
       "description_width": ""
      }
     },
     "f57f160c031a4385b96699f3de1a0ed2": {
      "model_module": "@jupyter-widgets/controls",
      "model_module_version": "1.4.0",
      "model_name": "ButtonModel",
      "state": {
       "description": "Administer Dose(t)",
       "disabled": true,
       "layout": "IPY_MODEL_c705598275c24ce8be5d3d17085c94aa",
       "style": "IPY_MODEL_ff5acbfcf6b8479f8c3825d361b5a633"
      }
     },
     "f6efb67db12b449f9b85a3ac8317cb90": {
      "model_module": "@jupyter-widgets/controls",
      "model_module_version": "1.4.0",
      "model_name": "ButtonModel",
      "state": {
       "description": "Predict Response(t+1)",
       "layout": "IPY_MODEL_f80b90ff86d34656a1dbd02d163f7ade",
       "style": "IPY_MODEL_7add484299ef47ea9f1aac758d680e11"
      }
     },
     "f703939750ff454bb72089b3879dcfb3": {
      "model_module": "@jupyter-widgets/controls",
      "model_module_version": "1.4.0",
      "model_name": "ButtonModel",
      "state": {
       "description": "Administer Dose(t)",
       "disabled": true,
       "layout": "IPY_MODEL_45ef44f8e2374c9380d0c76e93e788d8",
       "style": "IPY_MODEL_cf9d9733500545eb9abfa640630c9855"
      }
     },
     "f737a9ed60ee41628c6038e6bd8f20ec": {
      "model_module": "@jupyter-widgets/base",
      "model_module_version": "1.1.0",
      "model_name": "LayoutModel",
      "state": {
       "justify_content": "center"
      }
     },
     "f74069794b0f44debc1671e0300b927f": {
      "model_module": "@jupyter-widgets/controls",
      "model_module_version": "1.4.0",
      "model_name": "HBoxModel",
      "state": {
       "children": [
        "IPY_MODEL_2f4dc84a2025406d8272c2d578657e2e",
        "IPY_MODEL_c76df793ddd94063854fa78fd8a6782a"
       ],
       "layout": "IPY_MODEL_ab2bf471fd8b45378075961cd3a248fd"
      }
     },
     "f74717e57cb0445fb910baef614e652b": {
      "model_module": "@jupyter-widgets/base",
      "model_module_version": "1.1.0",
      "model_name": "LayoutModel",
      "state": {}
     },
     "f75d41c714a84fdbb09227772d9eebb7": {
      "model_module": "@jupyter-widgets/base",
      "model_module_version": "1.1.0",
      "model_name": "LayoutModel",
      "state": {
       "width": "95%"
      }
     },
     "f7729e3ff4fc443d8b090f9891fbcab4": {
      "model_module": "@jupyter-widgets/base",
      "model_module_version": "1.1.0",
      "model_name": "LayoutModel",
      "state": {
       "justify_content": "center"
      }
     },
     "f80b90ff86d34656a1dbd02d163f7ade": {
      "model_module": "@jupyter-widgets/base",
      "model_module_version": "1.1.0",
      "model_name": "LayoutModel",
      "state": {
       "width": "42%"
      }
     },
     "f89aa0d3d86744c19422f1dd7f6d84aa": {
      "model_module": "@jupyter-widgets/base",
      "model_module_version": "1.1.0",
      "model_name": "LayoutModel",
      "state": {
       "width": "42%"
      }
     },
     "f97d4059622b4f9c941756e3b2c29e04": {
      "model_module": "@jupyter-widgets/base",
      "model_module_version": "1.1.0",
      "model_name": "LayoutModel",
      "state": {
       "width": "42%"
      }
     },
     "f9e9aeae4df64f399971129be4df21db": {
      "model_module": "@jupyter-widgets/controls",
      "model_module_version": "1.4.0",
      "model_name": "ButtonStyleModel",
      "state": {}
     },
     "fa11c43bec464af2a85cd608125a1428": {
      "model_module": "@jupyter-widgets/controls",
      "model_module_version": "1.4.0",
      "model_name": "TextModel",
      "state": {
       "description": "Next Step",
       "layout": "IPY_MODEL_eb3bb59e6b4746ec94c9838f55ef0973",
       "style": "IPY_MODEL_083dfe5677be46b087d48d6944c45e50",
       "value": "Successful Completion"
      }
     },
     "fa625533e4f64183a5295a04d5037ca7": {
      "model_module": "@jupyter-widgets/controls",
      "model_module_version": "1.4.0",
      "model_name": "ButtonModel",
      "state": {
       "description": "Administer Dose(t)",
       "disabled": true,
       "layout": "IPY_MODEL_b5a331ab60cf4490b56674b07f5bd1a5",
       "style": "IPY_MODEL_a3e10b8fc4404e47a1ec0306d071a37a"
      }
     },
     "fa6b40bfe0624a729e0fc851bfde3e58": {
      "model_module": "@jupyter-widgets/controls",
      "model_module_version": "1.4.0",
      "model_name": "ButtonModel",
      "state": {
       "description": "Administer Dose(t)",
       "disabled": true,
       "layout": "IPY_MODEL_63782116f59147b385e4aeaea3ef9c25",
       "style": "IPY_MODEL_0772ea5803a9462098c7e41801ca0520"
      }
     },
     "fad47deec66541b38d3a26140b748184": {
      "model_module": "@jupyter-widgets/base",
      "model_module_version": "1.1.0",
      "model_name": "LayoutModel",
      "state": {}
     },
     "fbc759d0f1b540cd9be186f41aaad8bb": {
      "model_module": "@jupyter-widgets/base",
      "model_module_version": "1.1.0",
      "model_name": "LayoutModel",
      "state": {
       "justify_content": "center"
      }
     },
     "fc116c445fc444fb9520f5f2af1912fc": {
      "model_module": "@jupyter-widgets/controls",
      "model_module_version": "1.4.0",
      "model_name": "HBoxModel",
      "state": {
       "children": [
        "IPY_MODEL_424b555ce6c0412f9b2d509f22b566b9",
        "IPY_MODEL_f703939750ff454bb72089b3879dcfb3"
       ],
       "layout": "IPY_MODEL_289ce1c4d99c4438b5c6b5a66455f323"
      }
     },
     "fce71a65c4934bbcb9bcbfb2d45aeef1": {
      "model_module": "@jupyter-widgets/controls",
      "model_module_version": "1.4.0",
      "model_name": "TextModel",
      "state": {
       "description": "Response(t+1) ",
       "disabled": true,
       "layout": "IPY_MODEL_305236f6a28743d7938b10de74266493",
       "style": "IPY_MODEL_0b4adb12a50f4673bcd9dfd589b6d201",
       "value": "5.30"
      }
     },
     "fd26d8ad42f74c159dfe93f6fab7e67e": {
      "model_module": "@jupyter-widgets/controls",
      "model_module_version": "1.4.0",
      "model_name": "SliderStyleModel",
      "state": {
       "description_width": ""
      }
     },
     "fd582402f3b34907b9d0a0957d2fe22a": {
      "model_module": "@jupyter-widgets/controls",
      "model_module_version": "1.4.0",
      "model_name": "FloatSliderModel",
      "state": {
       "description": "Dose(t)",
       "layout": "IPY_MODEL_34514ad588054f2e92cb0277cbf6339a",
       "max": 10,
       "min": -10,
       "step": 0.01,
       "style": "IPY_MODEL_381df80769c94b0bbf669d739f317b3c",
       "value": 0.5
      }
     },
     "febd969808234ad59cfc221339fbfa8b": {
      "model_module": "@jupyter-widgets/controls",
      "model_module_version": "1.4.0",
      "model_name": "DescriptionStyleModel",
      "state": {
       "description_width": ""
      }
     },
     "ff4921d97d2949d39ce4b7bcdccefcc2": {
      "model_module": "@jupyter-widgets/base",
      "model_module_version": "1.1.0",
      "model_name": "LayoutModel",
      "state": {
       "width": "95%"
      }
     },
     "ff5acbfcf6b8479f8c3825d361b5a633": {
      "model_module": "@jupyter-widgets/controls",
      "model_module_version": "1.4.0",
      "model_name": "ButtonStyleModel",
      "state": {}
     },
     "ff6cb891f0e2438a8515d65494d6a347": {
      "model_module": "@jupyter-widgets/controls",
      "model_module_version": "1.4.0",
      "model_name": "HBoxModel",
      "state": {
       "children": [
        "IPY_MODEL_4b4941f16f364fa0ad8add2434a27117",
        "IPY_MODEL_19573d4719134f44ab5b7f6a5c82bffa"
       ],
       "layout": "IPY_MODEL_db2002292ad341c39f6d92d722cd6d92"
      }
     },
     "ffb741cd6fe44acb930d009dc8573003": {
      "model_module": "@jupyter-widgets/base",
      "model_module_version": "1.1.0",
      "model_name": "LayoutModel",
      "state": {
       "justify_content": "center"
      }
     },
     "ffe1426f2dda470dbe952aeab16af0c5": {
      "model_module": "@jupyter-widgets/controls",
      "model_module_version": "1.4.0",
      "model_name": "ButtonModel",
      "state": {
       "description": "Predict Response(t+1)",
       "layout": "IPY_MODEL_e1b53b8316914ab9a1717435b5e87336",
       "style": "IPY_MODEL_49e2096b0376466b9a74b992b8330d8c"
      }
     }
    },
    "version_major": 2,
    "version_minor": 0
   }
  }
 },
 "nbformat": 4,
 "nbformat_minor": 2
}
