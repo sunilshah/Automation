{
 "cells": [
  {
   "cell_type": "markdown",
   "metadata": {},
   "source": [
    "#  Poor Control Inspite of Perfect Prediction  \n",
    "\n",
    "It seems logical that if you want to control something, you need to measure it and predict it. \n",
    "\n",
    "For example, if you want to achieve a particular health outcome like blood glucose level, measuring it, predicting its response to nutrition, exercise and medication seems sufficient. Once you can predict it well, then achieving your goal of controlling it appears a matter of diligent execution. \n",
    "\n",
    "We all know from personal experience, that it is easier said than done. \n",
    "\n",
    "I want to systematically explore surprises that occur along the way. In doing so, I want to point out various method pitfalls relating to human decisions. Sometimes, these pitfalls are present in computer automation methods.   \n",
    "\n",
    "Although I describe a dose-response problem, the method pitfalls apply equally well to biological and non-living processes.\n",
    "\n",
    "You will be making interactive human decisions on the simulated examples where we are testing human decision making.  "
   ]
  },
  {
   "cell_type": "code",
   "execution_count": 1,
   "metadata": {
    "scrolled": true
   },
   "outputs": [],
   "source": [
    "%matplotlib notebook\n",
    "import numpy as np\n",
    "import matplotlib.pyplot as plt\n",
    "from matplotlib import animation,rc\n",
    "#from IPython.display import HTML\n",
    "import ipywidgets"
   ]
  },
  {
   "cell_type": "markdown",
   "metadata": {},
   "source": [
    "###  Predict and Control\n",
    "\n",
    "In the simplest interactive problem below, you can first predict what the output will be when you choose a particular value for the input decision variable using the slider (like a medication dose).  Choose the best value you deem appropriate until the prediction hits the target reference and then execute the decision using the execute button. \n",
    "\n",
    "Your goal is to make the output equal to the fixed target reference value displayed. "
   ]
  },
  {
   "cell_type": "markdown",
   "metadata": {},
   "source": [
    "#### Perfect Prediction of Output to be Controlled\n",
    "\n",
    "Constant $A,B,C,D$  define a state space system. In discrete time, \n",
    "\n",
    "$$\\begin {align} x(t+1)=A*x(t)+B*u(t) \\\\ y(t)=C*x(t)+D*u(t) \\end {align}$$\n",
    "\n",
    "Initial state $x(0)=x_0$ is randomly chosen with a mean value of 5.  We assume further that there is no noise or disturbance in the system and the constants $A,B,C,D$ are known exactly.\n",
    "\n",
    "You will be able to predict perfectly because there is no noise and you have access to an exact determiniatic simulation. If you predict based upon an input value, you will get exactly the predicted output upon execution. You can keep changing the input until you hit the target output for the predicted value. \n",
    "\n",
    "This is a very ideal situation intended to illustrate a particular class of problems in controlling dynamical system.  "
   ]
  },
  {
   "cell_type": "code",
   "execution_count": 2,
   "metadata": {
    "scrolled": true
   },
   "outputs": [
    {
     "name": "stdout",
     "output_type": "stream",
     "text": [
      "Initial State x(0) =  5.428374399448132\n"
     ]
    }
   ],
   "source": [
    "#initialize a non-minimum phase stable state space system\n",
    "A=0.7;B=2.5;C=1;D=1;\n",
    "x_0=np.random.randn()*1+5;\n",
    "print(\"Initial State x(0) = \", x_0)\n"
   ]
  },
  {
   "cell_type": "markdown",
   "metadata": {},
   "source": [
    "###  Interactive Prediction and Control\n",
    "Now, let us see what happens when you try to control it.  \n",
    "\n",
    "Your goal is to make the output response close to $y(t) = 5.0$.  \n",
    "\n",
    "Before you actually execute the decision with a particular value of input dose u(t), you can move the slider input, then hit the __Predict Response(t+1)__ button to see the predicted y.  Prediction does not propagate the state, it merely uses the current state and the input to compute the predicted y(t+1). When you are satisfied with the value u(t), you can commit and hit the __Administer Dose(t)__ button, which results in propagation of the state space recursion. \n",
    "\n",
    "It will give you hints for next step such as to increase or decrease the trial input Dose u(t).  Highlighted buttons are available for interaction.  When the predicted output response y(t+1) is within range, it will allow you to administer the Dose. For the very first time,$t=1$, you need not bring the response within range to administer the dose.\n",
    " \n",
    "First, we lay out the interaction and propagation of the system. Then we display the progress of your interaction with this dynamical system."
   ]
  },
  {
   "cell_type": "code",
   "execution_count": 8,
   "metadata": {
    "scrolled": false
   },
   "outputs": [
    {
     "data": {
      "application/vnd.jupyter.widget-view+json": {
       "model_id": "4d6b808dc5f14792af76147ec724616c",
       "version_major": 2,
       "version_minor": 0
      },
      "text/plain": [
       "FloatSlider(value=0.0, description='Dose(t)', layout=Layout(width='95%'), max=10.0, min=-10.0, step=0.01)"
      ]
     },
     "metadata": {},
     "output_type": "display_data"
    },
    {
     "data": {
      "application/vnd.jupyter.widget-view+json": {
       "model_id": "4e7747e5ba684b80ac48d66bc7ce6e1d",
       "version_major": 2,
       "version_minor": 0
      },
      "text/plain": [
       "HBox(children=(Text(value='  ', description='Response(t+1) ', disabled=True, style=DescriptionStyle(descriptio…"
      ]
     },
     "metadata": {},
     "output_type": "display_data"
    },
    {
     "data": {
      "application/vnd.jupyter.widget-view+json": {
       "model_id": "70b13527e2a444fdabaa63273b86b586",
       "version_major": 2,
       "version_minor": 0
      },
      "text/plain": [
       "HBox(children=(Button(description='Predict Response(t+1)', layout=Layout(width='42%'), style=ButtonStyle()), B…"
      ]
     },
     "metadata": {},
     "output_type": "display_data"
    },
    {
     "data": {
      "application/javascript": [
       "/* Put everything inside the global mpl namespace */\n",
       "window.mpl = {};\n",
       "\n",
       "\n",
       "mpl.get_websocket_type = function() {\n",
       "    if (typeof(WebSocket) !== 'undefined') {\n",
       "        return WebSocket;\n",
       "    } else if (typeof(MozWebSocket) !== 'undefined') {\n",
       "        return MozWebSocket;\n",
       "    } else {\n",
       "        alert('Your browser does not have WebSocket support. ' +\n",
       "              'Please try Chrome, Safari or Firefox ≥ 6. ' +\n",
       "              'Firefox 4 and 5 are also supported but you ' +\n",
       "              'have to enable WebSockets in about:config.');\n",
       "    };\n",
       "}\n",
       "\n",
       "mpl.figure = function(figure_id, websocket, ondownload, parent_element) {\n",
       "    this.id = figure_id;\n",
       "\n",
       "    this.ws = websocket;\n",
       "\n",
       "    this.supports_binary = (this.ws.binaryType != undefined);\n",
       "\n",
       "    if (!this.supports_binary) {\n",
       "        var warnings = document.getElementById(\"mpl-warnings\");\n",
       "        if (warnings) {\n",
       "            warnings.style.display = 'block';\n",
       "            warnings.textContent = (\n",
       "                \"This browser does not support binary websocket messages. \" +\n",
       "                    \"Performance may be slow.\");\n",
       "        }\n",
       "    }\n",
       "\n",
       "    this.imageObj = new Image();\n",
       "\n",
       "    this.context = undefined;\n",
       "    this.message = undefined;\n",
       "    this.canvas = undefined;\n",
       "    this.rubberband_canvas = undefined;\n",
       "    this.rubberband_context = undefined;\n",
       "    this.format_dropdown = undefined;\n",
       "\n",
       "    this.image_mode = 'full';\n",
       "\n",
       "    this.root = $('<div/>');\n",
       "    this._root_extra_style(this.root)\n",
       "    this.root.attr('style', 'display: inline-block');\n",
       "\n",
       "    $(parent_element).append(this.root);\n",
       "\n",
       "    this._init_header(this);\n",
       "    this._init_canvas(this);\n",
       "    this._init_toolbar(this);\n",
       "\n",
       "    var fig = this;\n",
       "\n",
       "    this.waiting = false;\n",
       "\n",
       "    this.ws.onopen =  function () {\n",
       "            fig.send_message(\"supports_binary\", {value: fig.supports_binary});\n",
       "            fig.send_message(\"send_image_mode\", {});\n",
       "            if (mpl.ratio != 1) {\n",
       "                fig.send_message(\"set_dpi_ratio\", {'dpi_ratio': mpl.ratio});\n",
       "            }\n",
       "            fig.send_message(\"refresh\", {});\n",
       "        }\n",
       "\n",
       "    this.imageObj.onload = function() {\n",
       "            if (fig.image_mode == 'full') {\n",
       "                // Full images could contain transparency (where diff images\n",
       "                // almost always do), so we need to clear the canvas so that\n",
       "                // there is no ghosting.\n",
       "                fig.context.clearRect(0, 0, fig.canvas.width, fig.canvas.height);\n",
       "            }\n",
       "            fig.context.drawImage(fig.imageObj, 0, 0);\n",
       "        };\n",
       "\n",
       "    this.imageObj.onunload = function() {\n",
       "        fig.ws.close();\n",
       "    }\n",
       "\n",
       "    this.ws.onmessage = this._make_on_message_function(this);\n",
       "\n",
       "    this.ondownload = ondownload;\n",
       "}\n",
       "\n",
       "mpl.figure.prototype._init_header = function() {\n",
       "    var titlebar = $(\n",
       "        '<div class=\"ui-dialog-titlebar ui-widget-header ui-corner-all ' +\n",
       "        'ui-helper-clearfix\"/>');\n",
       "    var titletext = $(\n",
       "        '<div class=\"ui-dialog-title\" style=\"width: 100%; ' +\n",
       "        'text-align: center; padding: 3px;\"/>');\n",
       "    titlebar.append(titletext)\n",
       "    this.root.append(titlebar);\n",
       "    this.header = titletext[0];\n",
       "}\n",
       "\n",
       "\n",
       "\n",
       "mpl.figure.prototype._canvas_extra_style = function(canvas_div) {\n",
       "\n",
       "}\n",
       "\n",
       "\n",
       "mpl.figure.prototype._root_extra_style = function(canvas_div) {\n",
       "\n",
       "}\n",
       "\n",
       "mpl.figure.prototype._init_canvas = function() {\n",
       "    var fig = this;\n",
       "\n",
       "    var canvas_div = $('<div/>');\n",
       "\n",
       "    canvas_div.attr('style', 'position: relative; clear: both; outline: 0');\n",
       "\n",
       "    function canvas_keyboard_event(event) {\n",
       "        return fig.key_event(event, event['data']);\n",
       "    }\n",
       "\n",
       "    canvas_div.keydown('key_press', canvas_keyboard_event);\n",
       "    canvas_div.keyup('key_release', canvas_keyboard_event);\n",
       "    this.canvas_div = canvas_div\n",
       "    this._canvas_extra_style(canvas_div)\n",
       "    this.root.append(canvas_div);\n",
       "\n",
       "    var canvas = $('<canvas/>');\n",
       "    canvas.addClass('mpl-canvas');\n",
       "    canvas.attr('style', \"left: 0; top: 0; z-index: 0; outline: 0\")\n",
       "\n",
       "    this.canvas = canvas[0];\n",
       "    this.context = canvas[0].getContext(\"2d\");\n",
       "\n",
       "    var backingStore = this.context.backingStorePixelRatio ||\n",
       "\tthis.context.webkitBackingStorePixelRatio ||\n",
       "\tthis.context.mozBackingStorePixelRatio ||\n",
       "\tthis.context.msBackingStorePixelRatio ||\n",
       "\tthis.context.oBackingStorePixelRatio ||\n",
       "\tthis.context.backingStorePixelRatio || 1;\n",
       "\n",
       "    mpl.ratio = (window.devicePixelRatio || 1) / backingStore;\n",
       "\n",
       "    var rubberband = $('<canvas/>');\n",
       "    rubberband.attr('style', \"position: absolute; left: 0; top: 0; z-index: 1;\")\n",
       "\n",
       "    var pass_mouse_events = true;\n",
       "\n",
       "    canvas_div.resizable({\n",
       "        start: function(event, ui) {\n",
       "            pass_mouse_events = false;\n",
       "        },\n",
       "        resize: function(event, ui) {\n",
       "            fig.request_resize(ui.size.width, ui.size.height);\n",
       "        },\n",
       "        stop: function(event, ui) {\n",
       "            pass_mouse_events = true;\n",
       "            fig.request_resize(ui.size.width, ui.size.height);\n",
       "        },\n",
       "    });\n",
       "\n",
       "    function mouse_event_fn(event) {\n",
       "        if (pass_mouse_events)\n",
       "            return fig.mouse_event(event, event['data']);\n",
       "    }\n",
       "\n",
       "    rubberband.mousedown('button_press', mouse_event_fn);\n",
       "    rubberband.mouseup('button_release', mouse_event_fn);\n",
       "    // Throttle sequential mouse events to 1 every 20ms.\n",
       "    rubberband.mousemove('motion_notify', mouse_event_fn);\n",
       "\n",
       "    rubberband.mouseenter('figure_enter', mouse_event_fn);\n",
       "    rubberband.mouseleave('figure_leave', mouse_event_fn);\n",
       "\n",
       "    canvas_div.on(\"wheel\", function (event) {\n",
       "        event = event.originalEvent;\n",
       "        event['data'] = 'scroll'\n",
       "        if (event.deltaY < 0) {\n",
       "            event.step = 1;\n",
       "        } else {\n",
       "            event.step = -1;\n",
       "        }\n",
       "        mouse_event_fn(event);\n",
       "    });\n",
       "\n",
       "    canvas_div.append(canvas);\n",
       "    canvas_div.append(rubberband);\n",
       "\n",
       "    this.rubberband = rubberband;\n",
       "    this.rubberband_canvas = rubberband[0];\n",
       "    this.rubberband_context = rubberband[0].getContext(\"2d\");\n",
       "    this.rubberband_context.strokeStyle = \"#000000\";\n",
       "\n",
       "    this._resize_canvas = function(width, height) {\n",
       "        // Keep the size of the canvas, canvas container, and rubber band\n",
       "        // canvas in synch.\n",
       "        canvas_div.css('width', width)\n",
       "        canvas_div.css('height', height)\n",
       "\n",
       "        canvas.attr('width', width * mpl.ratio);\n",
       "        canvas.attr('height', height * mpl.ratio);\n",
       "        canvas.attr('style', 'width: ' + width + 'px; height: ' + height + 'px;');\n",
       "\n",
       "        rubberband.attr('width', width);\n",
       "        rubberband.attr('height', height);\n",
       "    }\n",
       "\n",
       "    // Set the figure to an initial 600x600px, this will subsequently be updated\n",
       "    // upon first draw.\n",
       "    this._resize_canvas(600, 600);\n",
       "\n",
       "    // Disable right mouse context menu.\n",
       "    $(this.rubberband_canvas).bind(\"contextmenu\",function(e){\n",
       "        return false;\n",
       "    });\n",
       "\n",
       "    function set_focus () {\n",
       "        canvas.focus();\n",
       "        canvas_div.focus();\n",
       "    }\n",
       "\n",
       "    window.setTimeout(set_focus, 100);\n",
       "}\n",
       "\n",
       "mpl.figure.prototype._init_toolbar = function() {\n",
       "    var fig = this;\n",
       "\n",
       "    var nav_element = $('<div/>');\n",
       "    nav_element.attr('style', 'width: 100%');\n",
       "    this.root.append(nav_element);\n",
       "\n",
       "    // Define a callback function for later on.\n",
       "    function toolbar_event(event) {\n",
       "        return fig.toolbar_button_onclick(event['data']);\n",
       "    }\n",
       "    function toolbar_mouse_event(event) {\n",
       "        return fig.toolbar_button_onmouseover(event['data']);\n",
       "    }\n",
       "\n",
       "    for(var toolbar_ind in mpl.toolbar_items) {\n",
       "        var name = mpl.toolbar_items[toolbar_ind][0];\n",
       "        var tooltip = mpl.toolbar_items[toolbar_ind][1];\n",
       "        var image = mpl.toolbar_items[toolbar_ind][2];\n",
       "        var method_name = mpl.toolbar_items[toolbar_ind][3];\n",
       "\n",
       "        if (!name) {\n",
       "            // put a spacer in here.\n",
       "            continue;\n",
       "        }\n",
       "        var button = $('<button/>');\n",
       "        button.addClass('ui-button ui-widget ui-state-default ui-corner-all ' +\n",
       "                        'ui-button-icon-only');\n",
       "        button.attr('role', 'button');\n",
       "        button.attr('aria-disabled', 'false');\n",
       "        button.click(method_name, toolbar_event);\n",
       "        button.mouseover(tooltip, toolbar_mouse_event);\n",
       "\n",
       "        var icon_img = $('<span/>');\n",
       "        icon_img.addClass('ui-button-icon-primary ui-icon');\n",
       "        icon_img.addClass(image);\n",
       "        icon_img.addClass('ui-corner-all');\n",
       "\n",
       "        var tooltip_span = $('<span/>');\n",
       "        tooltip_span.addClass('ui-button-text');\n",
       "        tooltip_span.html(tooltip);\n",
       "\n",
       "        button.append(icon_img);\n",
       "        button.append(tooltip_span);\n",
       "\n",
       "        nav_element.append(button);\n",
       "    }\n",
       "\n",
       "    var fmt_picker_span = $('<span/>');\n",
       "\n",
       "    var fmt_picker = $('<select/>');\n",
       "    fmt_picker.addClass('mpl-toolbar-option ui-widget ui-widget-content');\n",
       "    fmt_picker_span.append(fmt_picker);\n",
       "    nav_element.append(fmt_picker_span);\n",
       "    this.format_dropdown = fmt_picker[0];\n",
       "\n",
       "    for (var ind in mpl.extensions) {\n",
       "        var fmt = mpl.extensions[ind];\n",
       "        var option = $(\n",
       "            '<option/>', {selected: fmt === mpl.default_extension}).html(fmt);\n",
       "        fmt_picker.append(option);\n",
       "    }\n",
       "\n",
       "    // Add hover states to the ui-buttons\n",
       "    $( \".ui-button\" ).hover(\n",
       "        function() { $(this).addClass(\"ui-state-hover\");},\n",
       "        function() { $(this).removeClass(\"ui-state-hover\");}\n",
       "    );\n",
       "\n",
       "    var status_bar = $('<span class=\"mpl-message\"/>');\n",
       "    nav_element.append(status_bar);\n",
       "    this.message = status_bar[0];\n",
       "}\n",
       "\n",
       "mpl.figure.prototype.request_resize = function(x_pixels, y_pixels) {\n",
       "    // Request matplotlib to resize the figure. Matplotlib will then trigger a resize in the client,\n",
       "    // which will in turn request a refresh of the image.\n",
       "    this.send_message('resize', {'width': x_pixels, 'height': y_pixels});\n",
       "}\n",
       "\n",
       "mpl.figure.prototype.send_message = function(type, properties) {\n",
       "    properties['type'] = type;\n",
       "    properties['figure_id'] = this.id;\n",
       "    this.ws.send(JSON.stringify(properties));\n",
       "}\n",
       "\n",
       "mpl.figure.prototype.send_draw_message = function() {\n",
       "    if (!this.waiting) {\n",
       "        this.waiting = true;\n",
       "        this.ws.send(JSON.stringify({type: \"draw\", figure_id: this.id}));\n",
       "    }\n",
       "}\n",
       "\n",
       "\n",
       "mpl.figure.prototype.handle_save = function(fig, msg) {\n",
       "    var format_dropdown = fig.format_dropdown;\n",
       "    var format = format_dropdown.options[format_dropdown.selectedIndex].value;\n",
       "    fig.ondownload(fig, format);\n",
       "}\n",
       "\n",
       "\n",
       "mpl.figure.prototype.handle_resize = function(fig, msg) {\n",
       "    var size = msg['size'];\n",
       "    if (size[0] != fig.canvas.width || size[1] != fig.canvas.height) {\n",
       "        fig._resize_canvas(size[0], size[1]);\n",
       "        fig.send_message(\"refresh\", {});\n",
       "    };\n",
       "}\n",
       "\n",
       "mpl.figure.prototype.handle_rubberband = function(fig, msg) {\n",
       "    var x0 = msg['x0'] / mpl.ratio;\n",
       "    var y0 = (fig.canvas.height - msg['y0']) / mpl.ratio;\n",
       "    var x1 = msg['x1'] / mpl.ratio;\n",
       "    var y1 = (fig.canvas.height - msg['y1']) / mpl.ratio;\n",
       "    x0 = Math.floor(x0) + 0.5;\n",
       "    y0 = Math.floor(y0) + 0.5;\n",
       "    x1 = Math.floor(x1) + 0.5;\n",
       "    y1 = Math.floor(y1) + 0.5;\n",
       "    var min_x = Math.min(x0, x1);\n",
       "    var min_y = Math.min(y0, y1);\n",
       "    var width = Math.abs(x1 - x0);\n",
       "    var height = Math.abs(y1 - y0);\n",
       "\n",
       "    fig.rubberband_context.clearRect(\n",
       "        0, 0, fig.canvas.width, fig.canvas.height);\n",
       "\n",
       "    fig.rubberband_context.strokeRect(min_x, min_y, width, height);\n",
       "}\n",
       "\n",
       "mpl.figure.prototype.handle_figure_label = function(fig, msg) {\n",
       "    // Updates the figure title.\n",
       "    fig.header.textContent = msg['label'];\n",
       "}\n",
       "\n",
       "mpl.figure.prototype.handle_cursor = function(fig, msg) {\n",
       "    var cursor = msg['cursor'];\n",
       "    switch(cursor)\n",
       "    {\n",
       "    case 0:\n",
       "        cursor = 'pointer';\n",
       "        break;\n",
       "    case 1:\n",
       "        cursor = 'default';\n",
       "        break;\n",
       "    case 2:\n",
       "        cursor = 'crosshair';\n",
       "        break;\n",
       "    case 3:\n",
       "        cursor = 'move';\n",
       "        break;\n",
       "    }\n",
       "    fig.rubberband_canvas.style.cursor = cursor;\n",
       "}\n",
       "\n",
       "mpl.figure.prototype.handle_message = function(fig, msg) {\n",
       "    fig.message.textContent = msg['message'];\n",
       "}\n",
       "\n",
       "mpl.figure.prototype.handle_draw = function(fig, msg) {\n",
       "    // Request the server to send over a new figure.\n",
       "    fig.send_draw_message();\n",
       "}\n",
       "\n",
       "mpl.figure.prototype.handle_image_mode = function(fig, msg) {\n",
       "    fig.image_mode = msg['mode'];\n",
       "}\n",
       "\n",
       "mpl.figure.prototype.updated_canvas_event = function() {\n",
       "    // Called whenever the canvas gets updated.\n",
       "    this.send_message(\"ack\", {});\n",
       "}\n",
       "\n",
       "// A function to construct a web socket function for onmessage handling.\n",
       "// Called in the figure constructor.\n",
       "mpl.figure.prototype._make_on_message_function = function(fig) {\n",
       "    return function socket_on_message(evt) {\n",
       "        if (evt.data instanceof Blob) {\n",
       "            /* FIXME: We get \"Resource interpreted as Image but\n",
       "             * transferred with MIME type text/plain:\" errors on\n",
       "             * Chrome.  But how to set the MIME type?  It doesn't seem\n",
       "             * to be part of the websocket stream */\n",
       "            evt.data.type = \"image/png\";\n",
       "\n",
       "            /* Free the memory for the previous frames */\n",
       "            if (fig.imageObj.src) {\n",
       "                (window.URL || window.webkitURL).revokeObjectURL(\n",
       "                    fig.imageObj.src);\n",
       "            }\n",
       "\n",
       "            fig.imageObj.src = (window.URL || window.webkitURL).createObjectURL(\n",
       "                evt.data);\n",
       "            fig.updated_canvas_event();\n",
       "            fig.waiting = false;\n",
       "            return;\n",
       "        }\n",
       "        else if (typeof evt.data === 'string' && evt.data.slice(0, 21) == \"data:image/png;base64\") {\n",
       "            fig.imageObj.src = evt.data;\n",
       "            fig.updated_canvas_event();\n",
       "            fig.waiting = false;\n",
       "            return;\n",
       "        }\n",
       "\n",
       "        var msg = JSON.parse(evt.data);\n",
       "        var msg_type = msg['type'];\n",
       "\n",
       "        // Call the  \"handle_{type}\" callback, which takes\n",
       "        // the figure and JSON message as its only arguments.\n",
       "        try {\n",
       "            var callback = fig[\"handle_\" + msg_type];\n",
       "        } catch (e) {\n",
       "            console.log(\"No handler for the '\" + msg_type + \"' message type: \", msg);\n",
       "            return;\n",
       "        }\n",
       "\n",
       "        if (callback) {\n",
       "            try {\n",
       "                // console.log(\"Handling '\" + msg_type + \"' message: \", msg);\n",
       "                callback(fig, msg);\n",
       "            } catch (e) {\n",
       "                console.log(\"Exception inside the 'handler_\" + msg_type + \"' callback:\", e, e.stack, msg);\n",
       "            }\n",
       "        }\n",
       "    };\n",
       "}\n",
       "\n",
       "// from http://stackoverflow.com/questions/1114465/getting-mouse-location-in-canvas\n",
       "mpl.findpos = function(e) {\n",
       "    //this section is from http://www.quirksmode.org/js/events_properties.html\n",
       "    var targ;\n",
       "    if (!e)\n",
       "        e = window.event;\n",
       "    if (e.target)\n",
       "        targ = e.target;\n",
       "    else if (e.srcElement)\n",
       "        targ = e.srcElement;\n",
       "    if (targ.nodeType == 3) // defeat Safari bug\n",
       "        targ = targ.parentNode;\n",
       "\n",
       "    // jQuery normalizes the pageX and pageY\n",
       "    // pageX,Y are the mouse positions relative to the document\n",
       "    // offset() returns the position of the element relative to the document\n",
       "    var x = e.pageX - $(targ).offset().left;\n",
       "    var y = e.pageY - $(targ).offset().top;\n",
       "\n",
       "    return {\"x\": x, \"y\": y};\n",
       "};\n",
       "\n",
       "/*\n",
       " * return a copy of an object with only non-object keys\n",
       " * we need this to avoid circular references\n",
       " * http://stackoverflow.com/a/24161582/3208463\n",
       " */\n",
       "function simpleKeys (original) {\n",
       "  return Object.keys(original).reduce(function (obj, key) {\n",
       "    if (typeof original[key] !== 'object')\n",
       "        obj[key] = original[key]\n",
       "    return obj;\n",
       "  }, {});\n",
       "}\n",
       "\n",
       "mpl.figure.prototype.mouse_event = function(event, name) {\n",
       "    var canvas_pos = mpl.findpos(event)\n",
       "\n",
       "    if (name === 'button_press')\n",
       "    {\n",
       "        this.canvas.focus();\n",
       "        this.canvas_div.focus();\n",
       "    }\n",
       "\n",
       "    var x = canvas_pos.x * mpl.ratio;\n",
       "    var y = canvas_pos.y * mpl.ratio;\n",
       "\n",
       "    this.send_message(name, {x: x, y: y, button: event.button,\n",
       "                             step: event.step,\n",
       "                             guiEvent: simpleKeys(event)});\n",
       "\n",
       "    /* This prevents the web browser from automatically changing to\n",
       "     * the text insertion cursor when the button is pressed.  We want\n",
       "     * to control all of the cursor setting manually through the\n",
       "     * 'cursor' event from matplotlib */\n",
       "    event.preventDefault();\n",
       "    return false;\n",
       "}\n",
       "\n",
       "mpl.figure.prototype._key_event_extra = function(event, name) {\n",
       "    // Handle any extra behaviour associated with a key event\n",
       "}\n",
       "\n",
       "mpl.figure.prototype.key_event = function(event, name) {\n",
       "\n",
       "    // Prevent repeat events\n",
       "    if (name == 'key_press')\n",
       "    {\n",
       "        if (event.which === this._key)\n",
       "            return;\n",
       "        else\n",
       "            this._key = event.which;\n",
       "    }\n",
       "    if (name == 'key_release')\n",
       "        this._key = null;\n",
       "\n",
       "    var value = '';\n",
       "    if (event.ctrlKey && event.which != 17)\n",
       "        value += \"ctrl+\";\n",
       "    if (event.altKey && event.which != 18)\n",
       "        value += \"alt+\";\n",
       "    if (event.shiftKey && event.which != 16)\n",
       "        value += \"shift+\";\n",
       "\n",
       "    value += 'k';\n",
       "    value += event.which.toString();\n",
       "\n",
       "    this._key_event_extra(event, name);\n",
       "\n",
       "    this.send_message(name, {key: value,\n",
       "                             guiEvent: simpleKeys(event)});\n",
       "    return false;\n",
       "}\n",
       "\n",
       "mpl.figure.prototype.toolbar_button_onclick = function(name) {\n",
       "    if (name == 'download') {\n",
       "        this.handle_save(this, null);\n",
       "    } else {\n",
       "        this.send_message(\"toolbar_button\", {name: name});\n",
       "    }\n",
       "};\n",
       "\n",
       "mpl.figure.prototype.toolbar_button_onmouseover = function(tooltip) {\n",
       "    this.message.textContent = tooltip;\n",
       "};\n",
       "mpl.toolbar_items = [[\"Home\", \"Reset original view\", \"fa fa-home icon-home\", \"home\"], [\"Back\", \"Back to previous view\", \"fa fa-arrow-left icon-arrow-left\", \"back\"], [\"Forward\", \"Forward to next view\", \"fa fa-arrow-right icon-arrow-right\", \"forward\"], [\"\", \"\", \"\", \"\"], [\"Pan\", \"Pan axes with left mouse, zoom with right\", \"fa fa-arrows icon-move\", \"pan\"], [\"Zoom\", \"Zoom to rectangle\", \"fa fa-square-o icon-check-empty\", \"zoom\"], [\"\", \"\", \"\", \"\"], [\"Download\", \"Download plot\", \"fa fa-floppy-o icon-save\", \"download\"]];\n",
       "\n",
       "mpl.extensions = [\"eps\", \"pdf\", \"png\", \"ps\", \"raw\", \"svg\"];\n",
       "\n",
       "mpl.default_extension = \"png\";var comm_websocket_adapter = function(comm) {\n",
       "    // Create a \"websocket\"-like object which calls the given IPython comm\n",
       "    // object with the appropriate methods. Currently this is a non binary\n",
       "    // socket, so there is still some room for performance tuning.\n",
       "    var ws = {};\n",
       "\n",
       "    ws.close = function() {\n",
       "        comm.close()\n",
       "    };\n",
       "    ws.send = function(m) {\n",
       "        //console.log('sending', m);\n",
       "        comm.send(m);\n",
       "    };\n",
       "    // Register the callback with on_msg.\n",
       "    comm.on_msg(function(msg) {\n",
       "        //console.log('receiving', msg['content']['data'], msg);\n",
       "        // Pass the mpl event to the overridden (by mpl) onmessage function.\n",
       "        ws.onmessage(msg['content']['data'])\n",
       "    });\n",
       "    return ws;\n",
       "}\n",
       "\n",
       "mpl.mpl_figure_comm = function(comm, msg) {\n",
       "    // This is the function which gets called when the mpl process\n",
       "    // starts-up an IPython Comm through the \"matplotlib\" channel.\n",
       "\n",
       "    var id = msg.content.data.id;\n",
       "    // Get hold of the div created by the display call when the Comm\n",
       "    // socket was opened in Python.\n",
       "    var element = $(\"#\" + id);\n",
       "    var ws_proxy = comm_websocket_adapter(comm)\n",
       "\n",
       "    function ondownload(figure, format) {\n",
       "        window.open(figure.imageObj.src);\n",
       "    }\n",
       "\n",
       "    var fig = new mpl.figure(id, ws_proxy,\n",
       "                           ondownload,\n",
       "                           element.get(0));\n",
       "\n",
       "    // Call onopen now - mpl needs it, as it is assuming we've passed it a real\n",
       "    // web socket which is closed, not our websocket->open comm proxy.\n",
       "    ws_proxy.onopen();\n",
       "\n",
       "    fig.parent_element = element.get(0);\n",
       "    fig.cell_info = mpl.find_output_cell(\"<div id='\" + id + \"'></div>\");\n",
       "    if (!fig.cell_info) {\n",
       "        console.error(\"Failed to find cell for figure\", id, fig);\n",
       "        return;\n",
       "    }\n",
       "\n",
       "    var output_index = fig.cell_info[2]\n",
       "    var cell = fig.cell_info[0];\n",
       "\n",
       "};\n",
       "\n",
       "mpl.figure.prototype.handle_close = function(fig, msg) {\n",
       "    var width = fig.canvas.width/mpl.ratio\n",
       "    fig.root.unbind('remove')\n",
       "\n",
       "    // Update the output cell to use the data from the current canvas.\n",
       "    fig.push_to_output();\n",
       "    var dataURL = fig.canvas.toDataURL();\n",
       "    // Re-enable the keyboard manager in IPython - without this line, in FF,\n",
       "    // the notebook keyboard shortcuts fail.\n",
       "    IPython.keyboard_manager.enable()\n",
       "    $(fig.parent_element).html('<img src=\"' + dataURL + '\" width=\"' + width + '\">');\n",
       "    fig.close_ws(fig, msg);\n",
       "}\n",
       "\n",
       "mpl.figure.prototype.close_ws = function(fig, msg){\n",
       "    fig.send_message('closing', msg);\n",
       "    // fig.ws.close()\n",
       "}\n",
       "\n",
       "mpl.figure.prototype.push_to_output = function(remove_interactive) {\n",
       "    // Turn the data on the canvas into data in the output cell.\n",
       "    var width = this.canvas.width/mpl.ratio\n",
       "    var dataURL = this.canvas.toDataURL();\n",
       "    this.cell_info[1]['text/html'] = '<img src=\"' + dataURL + '\" width=\"' + width + '\">';\n",
       "}\n",
       "\n",
       "mpl.figure.prototype.updated_canvas_event = function() {\n",
       "    // Tell IPython that the notebook contents must change.\n",
       "    IPython.notebook.set_dirty(true);\n",
       "    this.send_message(\"ack\", {});\n",
       "    var fig = this;\n",
       "    // Wait a second, then push the new image to the DOM so\n",
       "    // that it is saved nicely (might be nice to debounce this).\n",
       "    setTimeout(function () { fig.push_to_output() }, 1000);\n",
       "}\n",
       "\n",
       "mpl.figure.prototype._init_toolbar = function() {\n",
       "    var fig = this;\n",
       "\n",
       "    var nav_element = $('<div/>');\n",
       "    nav_element.attr('style', 'width: 100%');\n",
       "    this.root.append(nav_element);\n",
       "\n",
       "    // Define a callback function for later on.\n",
       "    function toolbar_event(event) {\n",
       "        return fig.toolbar_button_onclick(event['data']);\n",
       "    }\n",
       "    function toolbar_mouse_event(event) {\n",
       "        return fig.toolbar_button_onmouseover(event['data']);\n",
       "    }\n",
       "\n",
       "    for(var toolbar_ind in mpl.toolbar_items){\n",
       "        var name = mpl.toolbar_items[toolbar_ind][0];\n",
       "        var tooltip = mpl.toolbar_items[toolbar_ind][1];\n",
       "        var image = mpl.toolbar_items[toolbar_ind][2];\n",
       "        var method_name = mpl.toolbar_items[toolbar_ind][3];\n",
       "\n",
       "        if (!name) { continue; };\n",
       "\n",
       "        var button = $('<button class=\"btn btn-default\" href=\"#\" title=\"' + name + '\"><i class=\"fa ' + image + ' fa-lg\"></i></button>');\n",
       "        button.click(method_name, toolbar_event);\n",
       "        button.mouseover(tooltip, toolbar_mouse_event);\n",
       "        nav_element.append(button);\n",
       "    }\n",
       "\n",
       "    // Add the status bar.\n",
       "    var status_bar = $('<span class=\"mpl-message\" style=\"text-align:right; float: right;\"/>');\n",
       "    nav_element.append(status_bar);\n",
       "    this.message = status_bar[0];\n",
       "\n",
       "    // Add the close button to the window.\n",
       "    var buttongrp = $('<div class=\"btn-group inline pull-right\"></div>');\n",
       "    var button = $('<button class=\"btn btn-mini btn-primary\" href=\"#\" title=\"Stop Interaction\"><i class=\"fa fa-power-off icon-remove icon-large\"></i></button>');\n",
       "    button.click(function (evt) { fig.handle_close(fig, {}); } );\n",
       "    button.mouseover('Stop Interaction', toolbar_mouse_event);\n",
       "    buttongrp.append(button);\n",
       "    var titlebar = this.root.find($('.ui-dialog-titlebar'));\n",
       "    titlebar.prepend(buttongrp);\n",
       "}\n",
       "\n",
       "mpl.figure.prototype._root_extra_style = function(el){\n",
       "    var fig = this\n",
       "    el.on(\"remove\", function(){\n",
       "\tfig.close_ws(fig, {});\n",
       "    });\n",
       "}\n",
       "\n",
       "mpl.figure.prototype._canvas_extra_style = function(el){\n",
       "    // this is important to make the div 'focusable\n",
       "    el.attr('tabindex', 0)\n",
       "    // reach out to IPython and tell the keyboard manager to turn it's self\n",
       "    // off when our div gets focus\n",
       "\n",
       "    // location in version 3\n",
       "    if (IPython.notebook.keyboard_manager) {\n",
       "        IPython.notebook.keyboard_manager.register_events(el);\n",
       "    }\n",
       "    else {\n",
       "        // location in version 2\n",
       "        IPython.keyboard_manager.register_events(el);\n",
       "    }\n",
       "\n",
       "}\n",
       "\n",
       "mpl.figure.prototype._key_event_extra = function(event, name) {\n",
       "    var manager = IPython.notebook.keyboard_manager;\n",
       "    if (!manager)\n",
       "        manager = IPython.keyboard_manager;\n",
       "\n",
       "    // Check for shift+enter\n",
       "    if (event.shiftKey && event.which == 13) {\n",
       "        this.canvas_div.blur();\n",
       "        event.shiftKey = false;\n",
       "        // Send a \"J\" for go to next cell\n",
       "        event.which = 74;\n",
       "        event.keyCode = 74;\n",
       "        manager.command_mode();\n",
       "        manager.handle_keydown(event);\n",
       "    }\n",
       "}\n",
       "\n",
       "mpl.figure.prototype.handle_save = function(fig, msg) {\n",
       "    fig.ondownload(fig, null);\n",
       "}\n",
       "\n",
       "\n",
       "mpl.find_output_cell = function(html_output) {\n",
       "    // Return the cell and output element which can be found *uniquely* in the notebook.\n",
       "    // Note - this is a bit hacky, but it is done because the \"notebook_saving.Notebook\"\n",
       "    // IPython event is triggered only after the cells have been serialised, which for\n",
       "    // our purposes (turning an active figure into a static one), is too late.\n",
       "    var cells = IPython.notebook.get_cells();\n",
       "    var ncells = cells.length;\n",
       "    for (var i=0; i<ncells; i++) {\n",
       "        var cell = cells[i];\n",
       "        if (cell.cell_type === 'code'){\n",
       "            for (var j=0; j<cell.output_area.outputs.length; j++) {\n",
       "                var data = cell.output_area.outputs[j];\n",
       "                if (data.data) {\n",
       "                    // IPython >= 3 moved mimebundle to data attribute of output\n",
       "                    data = data.data;\n",
       "                }\n",
       "                if (data['text/html'] == html_output) {\n",
       "                    return [cell, data, j];\n",
       "                }\n",
       "            }\n",
       "        }\n",
       "    }\n",
       "}\n",
       "\n",
       "// Register the function which deals with the matplotlib target/channel.\n",
       "// The kernel may be null if the page has been refreshed.\n",
       "if (IPython.notebook.kernel != null) {\n",
       "    IPython.notebook.kernel.comm_manager.register_target('matplotlib', mpl.mpl_figure_comm);\n",
       "}\n"
      ],
      "text/plain": [
       "<IPython.core.display.Javascript object>"
      ]
     },
     "metadata": {},
     "output_type": "display_data"
    },
    {
     "data": {
      "text/html": [
       "<img src=\"data:image/png;base64,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\" width=\"1050\">"
      ],
      "text/plain": [
       "<IPython.core.display.HTML object>"
      ]
     },
     "metadata": {},
     "output_type": "display_data"
    }
   ],
   "source": [
    "#  Define display interaction widgets\n",
    "a1=ipywidgets.FloatSlider(description='Dose(t)',\n",
    "                        min=-10.0,max=10.0,step=.01,layout=ipywidgets.Layout(width='95%'))\n",
    "\n",
    "nudge_text=ipywidgets.Text(description=\"Next Step\",value='Predict Response(t+1)  ')   \n",
    "y_text=ipywidgets.Text(description='Response(t+1) ',value='  ',style={'description_width':'initial'})\n",
    "#  Define data storage vectors for plotting\n",
    "nT=11;\n",
    "t_data=np.linspace(0,nT-1,nT)\n",
    "y_data=np.zeros(nT)\n",
    "y_data.fill(np.nan)\n",
    "x_data=np.zeros(nT)\n",
    "x_data.fill(np.nan)\n",
    "u_data=np.zeros(nT)\n",
    "u_data.fill(np.nan)\n",
    "y_limits=np.zeros(nT)\n",
    "y_limits[0:2].fill(np.nan)  # index t=0,1 no limits\n",
    "t=0;\n",
    "x=x_0;      # Initialize state\n",
    "x_data[0]=x\n",
    "threshold=.25   # absolute error needs to be less than this   \n",
    "ref=5\n",
    "u_upper_limit=10\n",
    "u_lower_limit=-10\n",
    "y_str_upper=' (is more than '+'{:.4}'.format(str(ref+threshold)) +')'\n",
    "y_str_lower=' (is less than '+'{:.4}'.format(str(ref-threshold))+')'\n",
    "# \"Predict y (t+1)\": for given input u and state x\n",
    "def on_pred_clicked(b):\n",
    "    global x,t\n",
    "    u=a1.value\n",
    "    y_pred=C*x+D*u\n",
    "    y_str='{:.4}'.format(str(C*x+D*u))\n",
    "    exec_button.disabled=True    # disable exec button \n",
    "    if y_pred > ref+threshold:       # Prediction too high\n",
    "        if u <= u_lower_limit:\n",
    "            nudge_text.value='Hit lower tox limit'\n",
    "        else:  \n",
    "            nudge_text.value='Reduce dose(t) and Predict'\n",
    "            y_text.value = y_str+y_str_upper  \n",
    "    elif y_pred < ref-threshold:     # prediction too low\n",
    "        if u >= u_upper_limit:\n",
    "            nudge_text.value='Hit upper tox limit'\n",
    "        else: \n",
    "            nudge_text.value ='Increase dose(t) and Predict'\n",
    "            y_text.value=y_str+y_str_lower\n",
    "    else:                       # pediction in range\n",
    "        y_text.value=y_str + ' (in range)'\n",
    "        nudge_text.value ='Administer dose(t)'\n",
    "        exec_button.disabled=False      # enable exec button\n",
    "        pred_button.disabled=True       # disable predict button\n",
    "    if t==0:\n",
    "        exec_button.disabled=False          #  For first time do not restrict to strict prediction\n",
    "        pred_button.disabled=False          #  \n",
    "           \n",
    "# \"Execute u (t)\": for given input u, computes y and propagates state x using u\n",
    "def on_exec_clicked(b):\n",
    "    global x,t,nT\n",
    "    if t+1 <= nT-1:\n",
    "        u=a1.value\n",
    "        u_data[t]=u\n",
    "        y=C*x+D*u\n",
    "        y_data[t+1]=y\n",
    "     \n",
    "        y_text.value='{:.4}'.format(str(y))\n",
    "        x_data[t+1]=x\n",
    "        x=A*x+B*u # propagate state\n",
    "        t=t+1\n",
    "        plot_progress()\n",
    "        nudge_text.value='Predict Response(t+1)'\n",
    "        pred_button.disabled=False         # Enable predict button   \n",
    "        exec_button.disabled=True          # Disable exec button\n",
    "    else:\n",
    "        nudge_text.value='Successful Completion'\n",
    "        pred_button.disabled=True\n",
    "        exec_button.disabled=True\n",
    "# plot data progress\n",
    "def plot_progress():\n",
    "    global t_data,x_data,y_data,u_data,y_line,u_line,x_line\n",
    "    y_line.set_ydata(y_data)\n",
    "    u_line.set_ydata(u_data)\n",
    "    x_line.set_ydata(x_data)\n",
    "    \n",
    "exec_button=ipywidgets.Button(description=\"Administer Dose(t)\",disabled=True,\n",
    "                              layout=ipywidgets.Layout(width='42%'))\n",
    "exec_button.on_click(on_exec_clicked)\n",
    "pred_button=ipywidgets.Button(description=\"Predict Response(t+1)\",disabled=False,\n",
    "                              layout=ipywidgets.Layout(width='42%'))\n",
    "pred_button.on_click(on_pred_clicked)\n",
    "\n",
    "#  Layout action buttons and info boxes\n",
    "action_box=ipywidgets.HBox([pred_button,exec_button],\n",
    "                          layout=ipywidgets.Layout(justify_content='center'))\n",
    "info_box=ipywidgets.HBox([y_text,nudge_text],\n",
    "                        layout=ipywidgets.Layout(justify_content='center'))\n",
    "y_text.disabled=True;\n",
    "display(a1)\n",
    "display(info_box)\n",
    "display(action_box)\n",
    "fig1=plt.figure(1,figsize=(10.5,3.5))\n",
    "ax1=fig1.add_subplot(1,2,1)\n",
    "y_line,yl2,yl3 = ax1.plot(t_data,y_data,'b',\n",
    "                          t_data,y_limits+ref+threshold,'r',\n",
    "                          t_data,y_limits+ref-threshold,'r')\n",
    "plt.grid(True)\n",
    "plt.xlim(0,10)\n",
    "plt.ylim(4,6)\n",
    "plt.xlabel('Time')\n",
    "plt.ylabel('Response')\n",
    "ax2=fig1.add_subplot(1,2,2)\n",
    "u_line,  = ax2.plot(t_data,u_data)\n",
    "x_line,  = ax2.plot(t_data,x_data)\n",
    "plt.legend((x_line,u_line),('State x','Dose'))\n",
    "plt.grid(True)\n",
    "plt.xlim(0,10)\n",
    "plt.ylim(-10,10)\n",
    "plt.xlabel('Time');\n"
   ]
  },
  {
   "cell_type": "markdown",
   "metadata": {},
   "source": [
    "If you have been very dilligent about bringing prediction close to the target at each time point, you will see \n",
    "that while the output remains tightly regulated, both inputs $u(t)$ and state $x(t)$ are oscillating and blowing up! \n",
    "\n",
    "So, with prefect prediction and output control, this system often blows up. \n",
    "\n",
    "On the other hand, for some initial states, if you happen to do just enough to get the response in the range an not move the input much you will successfully complete the ten steps. \n",
    "\n",
    "One is reminded of the adage \"Be careful what you wish for\" and \"Unintended consequences\".  It is remarkable that this happens with a trivially simple, stable, eniterly deterministic and predictable linear dynamical system."
   ]
  },
  {
   "cell_type": "code",
   "execution_count": null,
   "metadata": {
    "scrolled": false
   },
   "outputs": [],
   "source": [
    "print('Saved y(t) values:',y_data)\n",
    "print('Saved u(t) values:',u_data)\n",
    "fig4=plt.figure(3,figsize=(11,6))\n",
    "plt.plot(t_data,y_data)\n",
    "plt.grid(True)\n",
    "plt.xlim(0,10)\n",
    "plt.ylim(0,10)\n",
    "plt.xlabel('Time')\n",
    "plt.ylabel('Response');\n",
    "#fig4.canvas.draw()\n",
    "fig5=plt.figure(4,figsize=(11,6))\n",
    "u_line, = plt.plot(t_data,u_data)\n",
    "x_line, = plt.plot(t_data,x_data)\n",
    "plt.legend((x_line,u_line),('State x','Dose'))\n",
    "plt.grid(True)\n",
    "plt.xlim(0,10)\n",
    "plt.xlabel('Time')\n",
    "plt.ylabel('Value');\n",
    "#fig5.canvas.draw()"
   ]
  },
  {
   "cell_type": "markdown",
   "metadata": {},
   "source": [
    "### A Dose of Reality\n",
    "\n",
    "Let us move from the ideal situation to a more realistic scenario.\n",
    "\n",
    "+ Unknown or approximate model\n",
    "\n",
    "    Human decision makers often use immediate aggregate cause-effect heuristics. If the blood glucose shot up, it was most likely the glass of wine with the last meal. If the stock market lost one percent, it was because of the latest news on trade war.\n",
    "    \n",
    "\n",
    "+ Many decision variables affect observations\n",
    "   \n",
    "  When multiple decision variables are involved, humans focus on one assumed dominant variable. The mental burden of untangling multiple causes is too large. Doing so for a dynamic system with continuous variables is clearly just too complex for humans.\n",
    "  \n",
    "\n",
    "+ Too many extraneous conditions and variables affect observations\n",
    "\n",
    "   Given the simplfied cause-effect heuristic, the apparent variability of observations becomes large. You often hear that the variablity is due to inherent random behavior that can only be untangeled by averaging over many experiments and observations. To the poor patient, the averaging is of little comfort. Loss of agency and hope for the patient leads do resignation and even depression.  Apparent variability also occurs in machine learned models when the representations are poorly chosen in dynamic systems. \n",
    "   \n",
    "\n",
    "+ Can not directly measure what you need to really maintain or control\n",
    "   \n",
    "   In metabolic syndrome, you need to arrest or reduce organ damage, mental depression and other co-morbidity.  However, blood prick glucose measurement or readings from CGM need to be translated to what you need to be concerend with.  Your camera sensor output on an autonomous car will give you a partial and possibly misleading view of the environment, leading to accidents. \n",
    "   \n",
    "We will go over each of these aspects and see how it manifests in simulated examples.  \n",
    "\n",
    "Again, no need to take my word on it. You will be the decision maker  in the simulated examples!\n",
    "  \n",
    "      \n",
    "\n"
   ]
  },
  {
   "cell_type": "code",
   "execution_count": null,
   "metadata": {
    "scrolled": true
   },
   "outputs": [],
   "source": []
  }
 ],
 "metadata": {
  "kernelspec": {
   "display_name": "Python 3",
   "language": "python",
   "name": "python3"
  },
  "language_info": {
   "codemirror_mode": {
    "name": "ipython",
    "version": 3
   },
   "file_extension": ".py",
   "mimetype": "text/x-python",
   "name": "python",
   "nbconvert_exporter": "python",
   "pygments_lexer": "ipython3",
   "version": "3.7.3"
  },
  "widgets": {
   "application/vnd.jupyter.widget-state+json": {
    "state": {
     "0141b5da06b2499a893aea4ab717d9d5": {
      "model_module": "@jupyter-widgets/controls",
      "model_module_version": "1.4.0",
      "model_name": "FloatSliderModel",
      "state": {
       "description": "Dose(t)",
       "layout": "IPY_MODEL_cca17439827f401cb6a180d558236355",
       "max": 10,
       "min": -10,
       "step": 0.01,
       "style": "IPY_MODEL_f4b704a50b19416aaa619a020dfd5071",
       "value": 1.09
      }
     },
     "018564d47e714fae97acedb9d928c7c1": {
      "model_module": "@jupyter-widgets/controls",
      "model_module_version": "1.4.0",
      "model_name": "ButtonStyleModel",
      "state": {}
     },
     "028bd2cd91d545fe8c9205a00ecc321b": {
      "model_module": "@jupyter-widgets/controls",
      "model_module_version": "1.4.0",
      "model_name": "ButtonStyleModel",
      "state": {}
     },
     "03581fc1a49640b0bfa4b6e9cfac3d39": {
      "model_module": "@jupyter-widgets/controls",
      "model_module_version": "1.4.0",
      "model_name": "ButtonModel",
      "state": {
       "description": "Administer Dose(t)",
       "disabled": true,
       "layout": "IPY_MODEL_6f887701b8c445d7a6cb47d47178336f",
       "style": "IPY_MODEL_cfa568b240574db49b63f8a8ee2e9fd9"
      }
     },
     "03e0cd42451847e98fa4c78e82f62d00": {
      "model_module": "@jupyter-widgets/controls",
      "model_module_version": "1.4.0",
      "model_name": "TextModel",
      "state": {
       "description": "Next Step",
       "layout": "IPY_MODEL_a38c6408e8d74800a029a5e9f03df1c0",
       "style": "IPY_MODEL_c010b7152eeb4945894a5c0b4aa8d0e4",
       "value": "Predict Response(t+1)"
      }
     },
     "067bb896fada40dd99aec8772b9f970b": {
      "model_module": "@jupyter-widgets/base",
      "model_module_version": "1.1.0",
      "model_name": "LayoutModel",
      "state": {}
     },
     "06bbff036eec4afab9f8803baf8b8f87": {
      "model_module": "@jupyter-widgets/controls",
      "model_module_version": "1.4.0",
      "model_name": "FloatSliderModel",
      "state": {
       "description": "Dose(t)",
       "layout": "IPY_MODEL_20aff08d051240fa9ffd54927ff8d698",
       "max": 10,
       "min": -10,
       "step": 0.01,
       "style": "IPY_MODEL_a6dc0945784e4b15ab918dbacf477c70"
      }
     },
     "06f90905bbcc444d9a9733d0651ddbf4": {
      "model_module": "@jupyter-widgets/base",
      "model_module_version": "1.1.0",
      "model_name": "LayoutModel",
      "state": {}
     },
     "075d19d2bf5d4d40b57d0af7b5473514": {
      "model_module": "@jupyter-widgets/controls",
      "model_module_version": "1.4.0",
      "model_name": "HBoxModel",
      "state": {
       "children": [
        "IPY_MODEL_9e7bd315932c4f2da52faa1fd3998f3f",
        "IPY_MODEL_2b0fa78cc9e74364ad1dc5b54d82b1a0"
       ],
       "layout": "IPY_MODEL_ecb7076df28b45d99581b461934ba6d1"
      }
     },
     "076ec1030c03401c83308d41f6b3e233": {
      "model_module": "@jupyter-widgets/controls",
      "model_module_version": "1.4.0",
      "model_name": "SliderStyleModel",
      "state": {
       "description_width": ""
      }
     },
     "0772ea5803a9462098c7e41801ca0520": {
      "model_module": "@jupyter-widgets/controls",
      "model_module_version": "1.4.0",
      "model_name": "ButtonStyleModel",
      "state": {}
     },
     "0825f2b102a0446e87f4cc09c1d4e7a0": {
      "model_module": "@jupyter-widgets/base",
      "model_module_version": "1.1.0",
      "model_name": "LayoutModel",
      "state": {
       "width": "95%"
      }
     },
     "08fd0fe516b84441a1fb9fc283473288": {
      "model_module": "@jupyter-widgets/controls",
      "model_module_version": "1.4.0",
      "model_name": "TextModel",
      "state": {
       "description": "Response(t+1) ",
       "disabled": true,
       "layout": "IPY_MODEL_6e6f03e1106e4e61ac7eabe7d9ea2fee",
       "style": "IPY_MODEL_a16dcbe9e1c34862990d6c1a72b83bcc",
       "value": "  "
      }
     },
     "095ef3225d28434386964a06b6904a35": {
      "model_module": "@jupyter-widgets/base",
      "model_module_version": "1.1.0",
      "model_name": "LayoutModel",
      "state": {
       "width": "42%"
      }
     },
     "09a9cf5b1ff446a0a801056dfd462bf9": {
      "model_module": "@jupyter-widgets/base",
      "model_module_version": "1.1.0",
      "model_name": "LayoutModel",
      "state": {}
     },
     "0a3d2324961e467eae6f1ff60926d509": {
      "model_module": "@jupyter-widgets/base",
      "model_module_version": "1.1.0",
      "model_name": "LayoutModel",
      "state": {
       "justify_content": "center"
      }
     },
     "0ad9f37ff7e1409e9cd22abe0c9b9f2c": {
      "model_module": "@jupyter-widgets/controls",
      "model_module_version": "1.4.0",
      "model_name": "SliderStyleModel",
      "state": {
       "description_width": ""
      }
     },
     "0b15758c582e40ca8d5fed687c2d7cc5": {
      "model_module": "@jupyter-widgets/controls",
      "model_module_version": "1.4.0",
      "model_name": "DescriptionStyleModel",
      "state": {
       "description_width": "initial"
      }
     },
     "0b39633dfe9c4696ae1e7a9ad6fc8ce7": {
      "model_module": "@jupyter-widgets/base",
      "model_module_version": "1.1.0",
      "model_name": "LayoutModel",
      "state": {
       "width": "95%"
      }
     },
     "0b4adb12a50f4673bcd9dfd589b6d201": {
      "model_module": "@jupyter-widgets/controls",
      "model_module_version": "1.4.0",
      "model_name": "DescriptionStyleModel",
      "state": {
       "description_width": "initial"
      }
     },
     "0bd80c197c53424a8496da2bd7e0c7ee": {
      "model_module": "@jupyter-widgets/controls",
      "model_module_version": "1.4.0",
      "model_name": "DescriptionStyleModel",
      "state": {
       "description_width": ""
      }
     },
     "0c03ce79269847bd87b42e8980da5ebb": {
      "model_module": "@jupyter-widgets/controls",
      "model_module_version": "1.4.0",
      "model_name": "ButtonStyleModel",
      "state": {}
     },
     "0c04bfdd8cfe4b1f8288ceb3b479473a": {
      "model_module": "@jupyter-widgets/controls",
      "model_module_version": "1.4.0",
      "model_name": "ButtonModel",
      "state": {
       "description": "Predict Response(t+1)",
       "layout": "IPY_MODEL_4f66b33320d34c768befc72938473b1d",
       "style": "IPY_MODEL_028bd2cd91d545fe8c9205a00ecc321b"
      }
     },
     "0c2ae233848f427692bf2244cd5693bc": {
      "model_module": "@jupyter-widgets/controls",
      "model_module_version": "1.4.0",
      "model_name": "TextModel",
      "state": {
       "description": "Next Step",
       "layout": "IPY_MODEL_51d112d7f2fa45c2aa3d9c595a0f3bca",
       "style": "IPY_MODEL_d616136558ae4e9aa6d12fe0940b57cb",
       "value": "Predict Response(t+1)  "
      }
     },
     "0c2c84e0fc8f44ba8c09adf8c747af47": {
      "model_module": "@jupyter-widgets/controls",
      "model_module_version": "1.4.0",
      "model_name": "ButtonStyleModel",
      "state": {}
     },
     "0cbece45a7864ec5bcd3fdee859abe71": {
      "model_module": "@jupyter-widgets/base",
      "model_module_version": "1.1.0",
      "model_name": "LayoutModel",
      "state": {
       "width": "42%"
      }
     },
     "0ceaace2d76b477e9abb40890611c73b": {
      "model_module": "@jupyter-widgets/controls",
      "model_module_version": "1.4.0",
      "model_name": "HBoxModel",
      "state": {
       "children": [
        "IPY_MODEL_3cd026d3f11947b89c86629b4317c82c",
        "IPY_MODEL_21521a4910c941c5badb99f512028cbe"
       ],
       "layout": "IPY_MODEL_830e933b8c6b4046982e2f0978b27179"
      }
     },
     "0d55379f12d948a2988d3efd791b3720": {
      "model_module": "@jupyter-widgets/controls",
      "model_module_version": "1.4.0",
      "model_name": "HBoxModel",
      "state": {
       "children": [
        "IPY_MODEL_2e32e14e87b54743a6333b1e24848122",
        "IPY_MODEL_0e04b6451eb2473eb98c8f41082da030"
       ],
       "layout": "IPY_MODEL_9ace1ce2212b441d87acc5b376632568"
      }
     },
     "0e04b6451eb2473eb98c8f41082da030": {
      "model_module": "@jupyter-widgets/controls",
      "model_module_version": "1.4.0",
      "model_name": "TextModel",
      "state": {
       "description": "Next Step",
       "layout": "IPY_MODEL_c9f60bd9b782468e88953ee0a09bdb23",
       "style": "IPY_MODEL_125a9da45d1940e3a95051c4149e15e2",
       "value": "Predict Response(t+1)  "
      }
     },
     "0e6c7ec2c1e1456ba673ddbd88d91584": {
      "model_module": "@jupyter-widgets/base",
      "model_module_version": "1.1.0",
      "model_name": "LayoutModel",
      "state": {}
     },
     "0e92d5e6c94c43edaaca337b1ff7fb72": {
      "model_module": "@jupyter-widgets/base",
      "model_module_version": "1.1.0",
      "model_name": "LayoutModel",
      "state": {}
     },
     "0fa6cd9902614b48a0b705b91b8eee11": {
      "model_module": "@jupyter-widgets/base",
      "model_module_version": "1.1.0",
      "model_name": "LayoutModel",
      "state": {}
     },
     "104415e3dc274d11bd79c43b5f27da12": {
      "model_module": "@jupyter-widgets/controls",
      "model_module_version": "1.4.0",
      "model_name": "ButtonModel",
      "state": {
       "description": "Predict Response(t+1)",
       "layout": "IPY_MODEL_0cbece45a7864ec5bcd3fdee859abe71",
       "style": "IPY_MODEL_b30adf773cab45f3bceb9e478909967c"
      }
     },
     "107b293ba32b4e1fb176a8f3cb3854b4": {
      "model_module": "@jupyter-widgets/base",
      "model_module_version": "1.1.0",
      "model_name": "LayoutModel",
      "state": {}
     },
     "11578dd36a6543ceadc51fbc421dfddb": {
      "model_module": "@jupyter-widgets/base",
      "model_module_version": "1.1.0",
      "model_name": "LayoutModel",
      "state": {
       "width": "95%"
      }
     },
     "116e0cd1b5cf408ebe04f993f9f5147e": {
      "model_module": "@jupyter-widgets/controls",
      "model_module_version": "1.4.0",
      "model_name": "SliderStyleModel",
      "state": {
       "description_width": ""
      }
     },
     "125a9da45d1940e3a95051c4149e15e2": {
      "model_module": "@jupyter-widgets/controls",
      "model_module_version": "1.4.0",
      "model_name": "DescriptionStyleModel",
      "state": {
       "description_width": ""
      }
     },
     "125cfba9ee024c9fbd91084467a841b9": {
      "model_module": "@jupyter-widgets/base",
      "model_module_version": "1.1.0",
      "model_name": "LayoutModel",
      "state": {
       "width": "95%"
      }
     },
     "13b4d94902704b9a9b87fbd0dba916e7": {
      "model_module": "@jupyter-widgets/controls",
      "model_module_version": "1.4.0",
      "model_name": "ButtonStyleModel",
      "state": {}
     },
     "13bbdc383efb4b10ad3423c4810ebb8a": {
      "model_module": "@jupyter-widgets/base",
      "model_module_version": "1.1.0",
      "model_name": "LayoutModel",
      "state": {}
     },
     "13c5a2362b9f454bb2e5b0bf4a067623": {
      "model_module": "@jupyter-widgets/controls",
      "model_module_version": "1.4.0",
      "model_name": "ButtonModel",
      "state": {
       "description": "Administer Dose(t)",
       "disabled": true,
       "layout": "IPY_MODEL_de73b20eb9e745948932872543e94e54",
       "style": "IPY_MODEL_0c2c84e0fc8f44ba8c09adf8c747af47"
      }
     },
     "13ee1d862dc749cbbddea2155a07abf6": {
      "model_module": "@jupyter-widgets/base",
      "model_module_version": "1.1.0",
      "model_name": "LayoutModel",
      "state": {}
     },
     "1459672da17441b1b5036fedbf3f7f62": {
      "model_module": "@jupyter-widgets/base",
      "model_module_version": "1.1.0",
      "model_name": "LayoutModel",
      "state": {
       "width": "42%"
      }
     },
     "14660ee3cdc5483a8b1a0c19ef7082fb": {
      "model_module": "@jupyter-widgets/controls",
      "model_module_version": "1.4.0",
      "model_name": "HBoxModel",
      "state": {
       "children": [
        "IPY_MODEL_cf05fc96408b43f9bdc0c453ea6864cf",
        "IPY_MODEL_23f38b38cb8d4622b5ff61fa1b8d9ee4"
       ],
       "layout": "IPY_MODEL_9fc75d7e40d349999c04f0da783bb570"
      }
     },
     "154bce923f2941ae81a2386ffe0d57f9": {
      "model_module": "@jupyter-widgets/controls",
      "model_module_version": "1.4.0",
      "model_name": "TextModel",
      "state": {
       "description": "Response(t+1) ",
       "disabled": true,
       "layout": "IPY_MODEL_8220a790976a4272a425e1d1d9e84390",
       "style": "IPY_MODEL_70edd22de1514253a006b9d60e2bc03d",
       "value": "4.93 (in range)"
      }
     },
     "159436a0cd284cf6998578e86d35d5dc": {
      "model_module": "@jupyter-widgets/controls",
      "model_module_version": "1.4.0",
      "model_name": "TextModel",
      "state": {
       "description": "Next Step",
       "layout": "IPY_MODEL_344e7c67fa0b424b85d38e01fd606d66",
       "style": "IPY_MODEL_421aa1cf62964b4b966f1b33cfe23c2f",
       "value": "Increase dose(t) and Predict"
      }
     },
     "1866096e9dbd44b99108550a2624bc23": {
      "model_module": "@jupyter-widgets/base",
      "model_module_version": "1.1.0",
      "model_name": "LayoutModel",
      "state": {}
     },
     "18e653a1388549b6b7eff4b1bb7be40b": {
      "model_module": "@jupyter-widgets/controls",
      "model_module_version": "1.4.0",
      "model_name": "ButtonStyleModel",
      "state": {}
     },
     "19573d4719134f44ab5b7f6a5c82bffa": {
      "model_module": "@jupyter-widgets/controls",
      "model_module_version": "1.4.0",
      "model_name": "TextModel",
      "state": {
       "description": "Next Step",
       "layout": "IPY_MODEL_56d898b0af4e423a9b4245b44b2fc3d6",
       "style": "IPY_MODEL_80cd114a38464c4cbc204266e9fc488d",
       "value": "Predict Response(t+1)  "
      }
     },
     "199141a40c4b46b0b0b363e1d4f2d8fe": {
      "model_module": "@jupyter-widgets/controls",
      "model_module_version": "1.4.0",
      "model_name": "FloatSliderModel",
      "state": {
       "description": "Dose(t)",
       "layout": "IPY_MODEL_7c5d0ea7299946cdbc7d7b291c706703",
       "max": 10,
       "min": -10,
       "step": 0.01,
       "style": "IPY_MODEL_4a30ba8a37c94d468755273ce5e0b916",
       "value": 0.54
      }
     },
     "19a11e2a031d4fe184ee96c41a51c21b": {
      "model_module": "@jupyter-widgets/base",
      "model_module_version": "1.1.0",
      "model_name": "LayoutModel",
      "state": {
       "justify_content": "center"
      }
     },
     "1a031a64af954efaa80368c61daa9e6b": {
      "model_module": "@jupyter-widgets/controls",
      "model_module_version": "1.4.0",
      "model_name": "FloatSliderModel",
      "state": {
       "description": "Dose(t)",
       "layout": "IPY_MODEL_b33631432e254b3982521671ebb0f71e",
       "max": 10,
       "min": -10,
       "step": 0.01,
       "style": "IPY_MODEL_54aca4b6bc304a33912aa03f2bd2dc3f",
       "value": -10
      }
     },
     "1a0b5357728b4aafb8d09ae3b12d86af": {
      "model_module": "@jupyter-widgets/base",
      "model_module_version": "1.1.0",
      "model_name": "LayoutModel",
      "state": {
       "width": "42%"
      }
     },
     "1a294373fb3e471baff499db21d1ef5e": {
      "model_module": "@jupyter-widgets/base",
      "model_module_version": "1.1.0",
      "model_name": "LayoutModel",
      "state": {
       "width": "42%"
      }
     },
     "1a33db65a5b247edb66543cfcf09f047": {
      "model_module": "@jupyter-widgets/controls",
      "model_module_version": "1.4.0",
      "model_name": "ButtonModel",
      "state": {
       "description": "Administer Dose(t)",
       "disabled": true,
       "layout": "IPY_MODEL_86e135c9b77c4838a37546c1522ebc08",
       "style": "IPY_MODEL_3b356e18494a4dfaba153780407a990b"
      }
     },
     "1a47e945434342459c45e3e7f781702a": {
      "model_module": "@jupyter-widgets/base",
      "model_module_version": "1.1.0",
      "model_name": "LayoutModel",
      "state": {}
     },
     "1a81dda27e53407e91e804d2b58d0633": {
      "model_module": "@jupyter-widgets/controls",
      "model_module_version": "1.4.0",
      "model_name": "DescriptionStyleModel",
      "state": {
       "description_width": "initial"
      }
     },
     "1aa56fd36cad4c4fb404c0c9899988a2": {
      "model_module": "@jupyter-widgets/base",
      "model_module_version": "1.1.0",
      "model_name": "LayoutModel",
      "state": {
       "justify_content": "center"
      }
     },
     "1b1c3be31bd647e0a326bed1802ffee0": {
      "model_module": "@jupyter-widgets/controls",
      "model_module_version": "1.4.0",
      "model_name": "TextModel",
      "state": {
       "description": "Next Step",
       "layout": "IPY_MODEL_067bb896fada40dd99aec8772b9f970b",
       "style": "IPY_MODEL_cbc46f25282c4cd2a6adca13fc027f2d",
       "value": "Predict Response(t+1)  "
      }
     },
     "1b217daf35ea4786b9473ceb6aa5029e": {
      "model_module": "@jupyter-widgets/base",
      "model_module_version": "1.1.0",
      "model_name": "LayoutModel",
      "state": {
       "width": "42%"
      }
     },
     "1b819ccbdc484c548cda756cc2159f18": {
      "model_module": "@jupyter-widgets/base",
      "model_module_version": "1.1.0",
      "model_name": "LayoutModel",
      "state": {
       "width": "42%"
      }
     },
     "1c178a7475824a139655dba09dc4cc50": {
      "model_module": "@jupyter-widgets/controls",
      "model_module_version": "1.4.0",
      "model_name": "ButtonStyleModel",
      "state": {}
     },
     "1c4c9ec2fbbc4b46ad38a4a76d51bbe1": {
      "model_module": "@jupyter-widgets/controls",
      "model_module_version": "1.4.0",
      "model_name": "HBoxModel",
      "state": {
       "children": [
        "IPY_MODEL_d036e8573f03408da42d8d5534c250ae",
        "IPY_MODEL_4737425401214705bf3400961d0cd709"
       ],
       "layout": "IPY_MODEL_2cfb865ac50d4141b32e3cd98f8c3e2f"
      }
     },
     "1c6f33dbd92d427c9078f609b45cce21": {
      "model_module": "@jupyter-widgets/controls",
      "model_module_version": "1.4.0",
      "model_name": "SliderStyleModel",
      "state": {
       "description_width": ""
      }
     },
     "1d4dc086f9fe458ab5737d1aaf2b80b1": {
      "model_module": "@jupyter-widgets/base",
      "model_module_version": "1.1.0",
      "model_name": "LayoutModel",
      "state": {
       "width": "42%"
      }
     },
     "1d9f3480e70c4fe2ae8af18af92b1f4b": {
      "model_module": "@jupyter-widgets/controls",
      "model_module_version": "1.4.0",
      "model_name": "ButtonStyleModel",
      "state": {}
     },
     "1e34031a506543c5bdf5af44cc63a8cd": {
      "model_module": "@jupyter-widgets/base",
      "model_module_version": "1.1.0",
      "model_name": "LayoutModel",
      "state": {
       "justify_content": "center"
      }
     },
     "1e401af41921416bb7a62a83538f41d3": {
      "model_module": "@jupyter-widgets/controls",
      "model_module_version": "1.4.0",
      "model_name": "DescriptionStyleModel",
      "state": {
       "description_width": "initial"
      }
     },
     "1ef26e0b6a91477d88fcba7838e555e1": {
      "model_module": "@jupyter-widgets/base",
      "model_module_version": "1.1.0",
      "model_name": "LayoutModel",
      "state": {}
     },
     "1fa8a91257e040bab72bdfa0a25341e5": {
      "model_module": "@jupyter-widgets/base",
      "model_module_version": "1.1.0",
      "model_name": "LayoutModel",
      "state": {}
     },
     "20aff08d051240fa9ffd54927ff8d698": {
      "model_module": "@jupyter-widgets/base",
      "model_module_version": "1.1.0",
      "model_name": "LayoutModel",
      "state": {
       "width": "95%"
      }
     },
     "21521a4910c941c5badb99f512028cbe": {
      "model_module": "@jupyter-widgets/controls",
      "model_module_version": "1.4.0",
      "model_name": "ButtonModel",
      "state": {
       "description": "Administer Dose(t)",
       "disabled": true,
       "layout": "IPY_MODEL_a2a720b4c247408eb78f4a3f90533ef2",
       "style": "IPY_MODEL_3e9081422e614a52bb96b36563e1dda4"
      }
     },
     "2172a36b7bcb49d284b831f99b3ee9c5": {
      "model_module": "@jupyter-widgets/controls",
      "model_module_version": "1.4.0",
      "model_name": "ButtonStyleModel",
      "state": {}
     },
     "21e4ae81a2a244c08e21c83cf48d4ff3": {
      "model_module": "@jupyter-widgets/controls",
      "model_module_version": "1.4.0",
      "model_name": "HBoxModel",
      "state": {
       "children": [
        "IPY_MODEL_ba3f192f144d494d8cf8685c7bfdd3d5",
        "IPY_MODEL_bc0d560476494f5ea7915bd65bcd0ff4"
       ],
       "layout": "IPY_MODEL_3027cdb0e0e449e4939059655903bdf5"
      }
     },
     "2252216b11674301a1dc6d6793999617": {
      "model_module": "@jupyter-widgets/controls",
      "model_module_version": "1.4.0",
      "model_name": "TextModel",
      "state": {
       "description": "Next Step",
       "layout": "IPY_MODEL_eff92387c36f4c4b8cca66708946cf10",
       "style": "IPY_MODEL_0bd80c197c53424a8496da2bd7e0c7ee",
       "value": "Predict Response(t+1)"
      }
     },
     "2399dfa291d34d81a4471b906c5f59a7": {
      "model_module": "@jupyter-widgets/controls",
      "model_module_version": "1.4.0",
      "model_name": "ButtonModel",
      "state": {
       "description": "Predict Response(t+1)",
       "disabled": true,
       "layout": "IPY_MODEL_7ea1551cb76542dfa760a333e0619a55",
       "style": "IPY_MODEL_494d94cf1e2d494ebb127c2253cc312b"
      }
     },
     "23e43d5663aa45b1837a11cc6423dc86": {
      "model_module": "@jupyter-widgets/controls",
      "model_module_version": "1.4.0",
      "model_name": "ButtonModel",
      "state": {
       "description": "Predict Response(t+1)",
       "layout": "IPY_MODEL_cfad5f40eb6f46cd8b3581b426a7ae98",
       "style": "IPY_MODEL_ae4991a3f97c4b409a66d7a43f6482f6"
      }
     },
     "23f38b38cb8d4622b5ff61fa1b8d9ee4": {
      "model_module": "@jupyter-widgets/controls",
      "model_module_version": "1.4.0",
      "model_name": "TextModel",
      "state": {
       "description": "Next Step",
       "layout": "IPY_MODEL_78a42dfce3184274a4c6b65b2661ce48",
       "style": "IPY_MODEL_c4e9ea7f188843f09240fe0a0b204a8d",
       "value": "Successful Completion"
      }
     },
     "26a812405eea4253a93b39eefb7b86e9": {
      "model_module": "@jupyter-widgets/controls",
      "model_module_version": "1.4.0",
      "model_name": "ButtonStyleModel",
      "state": {}
     },
     "26d39e3bcfc7405bbc3070fe887e5b5f": {
      "model_module": "@jupyter-widgets/controls",
      "model_module_version": "1.4.0",
      "model_name": "DescriptionStyleModel",
      "state": {
       "description_width": "initial"
      }
     },
     "2716394188814ea3bbed14d8fdddb46a": {
      "model_module": "@jupyter-widgets/base",
      "model_module_version": "1.1.0",
      "model_name": "LayoutModel",
      "state": {
       "width": "42%"
      }
     },
     "27fbb970d8be4c6bbf7720bc6213aa95": {
      "model_module": "@jupyter-widgets/controls",
      "model_module_version": "1.4.0",
      "model_name": "HBoxModel",
      "state": {
       "children": [
        "IPY_MODEL_6ce739e45dff4f8b83001e3123dbec5c",
        "IPY_MODEL_dd8fa56ff0724f18a2d9cab6f0ec028c"
       ],
       "layout": "IPY_MODEL_0a3d2324961e467eae6f1ff60926d509"
      }
     },
     "289ce1c4d99c4438b5c6b5a66455f323": {
      "model_module": "@jupyter-widgets/base",
      "model_module_version": "1.1.0",
      "model_name": "LayoutModel",
      "state": {
       "justify_content": "center"
      }
     },
     "2920fed62830475bb0ff4960fc59cf03": {
      "model_module": "@jupyter-widgets/controls",
      "model_module_version": "1.4.0",
      "model_name": "HBoxModel",
      "state": {
       "children": [
        "IPY_MODEL_154bce923f2941ae81a2386ffe0d57f9",
        "IPY_MODEL_4d908e0c9be14de49ca98f372f429f04"
       ],
       "layout": "IPY_MODEL_e4b040841521454bae2f6ef5f4bdedaa"
      }
     },
     "298f656de276460bb188b6afb865c608": {
      "model_module": "@jupyter-widgets/base",
      "model_module_version": "1.1.0",
      "model_name": "LayoutModel",
      "state": {
       "width": "42%"
      }
     },
     "2a0398caad7642f1834101c1a91afe65": {
      "model_module": "@jupyter-widgets/controls",
      "model_module_version": "1.4.0",
      "model_name": "HBoxModel",
      "state": {
       "children": [
        "IPY_MODEL_502592db6ed94a9d9494e587d4e82ce8",
        "IPY_MODEL_c82d6355ac524ebeb0a03bf645e841f5"
       ],
       "layout": "IPY_MODEL_40d2fccb7a87416f8465c80d172020c0"
      }
     },
     "2b035a3ed20341c08bb72da2db1feeec": {
      "model_module": "@jupyter-widgets/base",
      "model_module_version": "1.1.0",
      "model_name": "LayoutModel",
      "state": {
       "justify_content": "center"
      }
     },
     "2b0fa78cc9e74364ad1dc5b54d82b1a0": {
      "model_module": "@jupyter-widgets/controls",
      "model_module_version": "1.4.0",
      "model_name": "TextModel",
      "state": {
       "description": "Next Step",
       "layout": "IPY_MODEL_f38acae4f32d4ee9a1344e90b97aca43",
       "style": "IPY_MODEL_32c674279a26479d85aa368bd4d400c5",
       "value": "Hit lower tox limit"
      }
     },
     "2baa73a4f8e444699ebd761f0b0e6d34": {
      "model_module": "@jupyter-widgets/base",
      "model_module_version": "1.1.0",
      "model_name": "LayoutModel",
      "state": {
       "width": "42%"
      }
     },
     "2c9e5853c1974f9f9569e2320606b35b": {
      "model_module": "@jupyter-widgets/controls",
      "model_module_version": "1.4.0",
      "model_name": "FloatSliderModel",
      "state": {
       "description": "Dose(t)",
       "layout": "IPY_MODEL_5dc86fa408124542aba9db2b2a063a10",
       "max": 10,
       "min": -10,
       "step": 0.01,
       "style": "IPY_MODEL_b3d7ba76564d488bb4b95b202cdceb96",
       "value": 1.43
      }
     },
     "2ca12a6601e44c4ba1b0259243f20316": {
      "model_module": "@jupyter-widgets/controls",
      "model_module_version": "1.4.0",
      "model_name": "ButtonModel",
      "state": {
       "description": "Administer Dose(t)",
       "disabled": true,
       "layout": "IPY_MODEL_97d026ee3b174d3bb0ce997c953253f6",
       "style": "IPY_MODEL_0c03ce79269847bd87b42e8980da5ebb"
      }
     },
     "2cfb865ac50d4141b32e3cd98f8c3e2f": {
      "model_module": "@jupyter-widgets/base",
      "model_module_version": "1.1.0",
      "model_name": "LayoutModel",
      "state": {
       "justify_content": "center"
      }
     },
     "2e32e14e87b54743a6333b1e24848122": {
      "model_module": "@jupyter-widgets/controls",
      "model_module_version": "1.4.0",
      "model_name": "TextModel",
      "state": {
       "description": "Response(t+1) ",
       "disabled": true,
       "layout": "IPY_MODEL_0e6c7ec2c1e1456ba673ddbd88d91584",
       "style": "IPY_MODEL_589393802fe1448c9a734386253498d5",
       "value": "  "
      }
     },
     "2e35f1bf00f1439cba5982d0e06be281": {
      "model_module": "@jupyter-widgets/controls",
      "model_module_version": "1.4.0",
      "model_name": "HBoxModel",
      "state": {
       "children": [
        "IPY_MODEL_d54fc47a08544f10abf9e225e368b838",
        "IPY_MODEL_f57f160c031a4385b96699f3de1a0ed2"
       ],
       "layout": "IPY_MODEL_609532047cea4d2aa5a76e190017a882"
      }
     },
     "2eedc88b87be4cc598862ac1d2e6f0b9": {
      "model_module": "@jupyter-widgets/base",
      "model_module_version": "1.1.0",
      "model_name": "LayoutModel",
      "state": {
       "width": "42%"
      }
     },
     "2f4dc84a2025406d8272c2d578657e2e": {
      "model_module": "@jupyter-widgets/controls",
      "model_module_version": "1.4.0",
      "model_name": "ButtonModel",
      "state": {
       "description": "Predict Response(t+1)",
       "layout": "IPY_MODEL_c4ff340510a644bda9997d29b5d9f3b4",
       "style": "IPY_MODEL_3bf0987f3a9d45dea299b14bb28cba78"
      }
     },
     "300226540e174695a06f188d144a9cce": {
      "model_module": "@jupyter-widgets/base",
      "model_module_version": "1.1.0",
      "model_name": "LayoutModel",
      "state": {}
     },
     "3027cdb0e0e449e4939059655903bdf5": {
      "model_module": "@jupyter-widgets/base",
      "model_module_version": "1.1.0",
      "model_name": "LayoutModel",
      "state": {
       "justify_content": "center"
      }
     },
     "305236f6a28743d7938b10de74266493": {
      "model_module": "@jupyter-widgets/base",
      "model_module_version": "1.1.0",
      "model_name": "LayoutModel",
      "state": {}
     },
     "3139cf01dd9f453eb2d2373f3f9b750a": {
      "model_module": "@jupyter-widgets/controls",
      "model_module_version": "1.4.0",
      "model_name": "ButtonStyleModel",
      "state": {}
     },
     "326eaa7843094062aaa5a5676815ddfd": {
      "model_module": "@jupyter-widgets/base",
      "model_module_version": "1.1.0",
      "model_name": "LayoutModel",
      "state": {
       "justify_content": "center"
      }
     },
     "32c674279a26479d85aa368bd4d400c5": {
      "model_module": "@jupyter-widgets/controls",
      "model_module_version": "1.4.0",
      "model_name": "DescriptionStyleModel",
      "state": {
       "description_width": ""
      }
     },
     "337053ece59c44e196c0dbc2926fbd9c": {
      "model_module": "@jupyter-widgets/controls",
      "model_module_version": "1.4.0",
      "model_name": "ButtonStyleModel",
      "state": {}
     },
     "33a6500f707847b095c0b1447d0e2b92": {
      "model_module": "@jupyter-widgets/base",
      "model_module_version": "1.1.0",
      "model_name": "LayoutModel",
      "state": {}
     },
     "344e7c67fa0b424b85d38e01fd606d66": {
      "model_module": "@jupyter-widgets/base",
      "model_module_version": "1.1.0",
      "model_name": "LayoutModel",
      "state": {}
     },
     "35dddc4c35d849bfa1196cb47a035aff": {
      "model_module": "@jupyter-widgets/controls",
      "model_module_version": "1.4.0",
      "model_name": "FloatSliderModel",
      "state": {
       "description": "Dose(t)",
       "layout": "IPY_MODEL_ed9cbe41ffa64544a995f86234da6a73",
       "max": 10,
       "min": -10,
       "step": 0.01,
       "style": "IPY_MODEL_076ec1030c03401c83308d41f6b3e233"
      }
     },
     "37cbf8c6252f4ceba02012dd144ab6c2": {
      "model_module": "@jupyter-widgets/controls",
      "model_module_version": "1.4.0",
      "model_name": "HBoxModel",
      "state": {
       "children": [
        "IPY_MODEL_e8d2bfa31b2345d9b6770adc27d9e13b",
        "IPY_MODEL_2252216b11674301a1dc6d6793999617"
       ],
       "layout": "IPY_MODEL_8f102acff5d94b9db39321529daa7463"
      }
     },
     "37d1111072bd43b2b3bceac7c6626425": {
      "model_module": "@jupyter-widgets/controls",
      "model_module_version": "1.4.0",
      "model_name": "DescriptionStyleModel",
      "state": {
       "description_width": ""
      }
     },
     "386346217bc54b6a8c8ddb9199f0d2cf": {
      "model_module": "@jupyter-widgets/base",
      "model_module_version": "1.1.0",
      "model_name": "LayoutModel",
      "state": {
       "justify_content": "center"
      }
     },
     "38dd512af98346688253ae2c692b679f": {
      "model_module": "@jupyter-widgets/controls",
      "model_module_version": "1.4.0",
      "model_name": "HBoxModel",
      "state": {
       "children": [
        "IPY_MODEL_0c04bfdd8cfe4b1f8288ceb3b479473a",
        "IPY_MODEL_67dc0b4592a54b44b5fa1c0a144d8bfd"
       ],
       "layout": "IPY_MODEL_e8599bd2a44349adb56784521e651176"
      }
     },
     "391db06aff1f48dc9239e3afadae891b": {
      "model_module": "@jupyter-widgets/controls",
      "model_module_version": "1.4.0",
      "model_name": "HBoxModel",
      "state": {
       "children": [
        "IPY_MODEL_414c94a7421448998be5e05fe7fdf784",
        "IPY_MODEL_963c2a580dda400e9d632821f46e338c"
       ],
       "layout": "IPY_MODEL_87dbbd26f1d64a4eb8f392affd5b80c0"
      }
     },
     "3b356e18494a4dfaba153780407a990b": {
      "model_module": "@jupyter-widgets/controls",
      "model_module_version": "1.4.0",
      "model_name": "ButtonStyleModel",
      "state": {}
     },
     "3ba5003d35e9476fb93f2752326b1e1c": {
      "model_module": "@jupyter-widgets/controls",
      "model_module_version": "1.4.0",
      "model_name": "DescriptionStyleModel",
      "state": {
       "description_width": "initial"
      }
     },
     "3ba95bd352924e83b222406a56d0c238": {
      "model_module": "@jupyter-widgets/base",
      "model_module_version": "1.1.0",
      "model_name": "LayoutModel",
      "state": {}
     },
     "3bcf8d3723de4eea9cbcaf412a808af5": {
      "model_module": "@jupyter-widgets/controls",
      "model_module_version": "1.4.0",
      "model_name": "TextModel",
      "state": {
       "description": "Next Step",
       "layout": "IPY_MODEL_13ee1d862dc749cbbddea2155a07abf6",
       "style": "IPY_MODEL_d2a23063baf84feb87593f04fab42cd6",
       "value": "Predict Response(t+1)  "
      }
     },
     "3bcf9f46ff2449369608dfa3b874e388": {
      "model_module": "@jupyter-widgets/base",
      "model_module_version": "1.1.0",
      "model_name": "LayoutModel",
      "state": {}
     },
     "3bf0987f3a9d45dea299b14bb28cba78": {
      "model_module": "@jupyter-widgets/controls",
      "model_module_version": "1.4.0",
      "model_name": "ButtonStyleModel",
      "state": {}
     },
     "3cd026d3f11947b89c86629b4317c82c": {
      "model_module": "@jupyter-widgets/controls",
      "model_module_version": "1.4.0",
      "model_name": "ButtonModel",
      "state": {
       "description": "Predict Response(t+1)",
       "layout": "IPY_MODEL_1b819ccbdc484c548cda756cc2159f18",
       "style": "IPY_MODEL_be8303ca437c442292c37b189157c7c3"
      }
     },
     "3d7ff347306d42b98bd568bb482d3a22": {
      "model_module": "@jupyter-widgets/controls",
      "model_module_version": "1.4.0",
      "model_name": "ButtonStyleModel",
      "state": {}
     },
     "3e9081422e614a52bb96b36563e1dda4": {
      "model_module": "@jupyter-widgets/controls",
      "model_module_version": "1.4.0",
      "model_name": "ButtonStyleModel",
      "state": {}
     },
     "3edcee2a091d41558d85ec886821438e": {
      "model_module": "@jupyter-widgets/controls",
      "model_module_version": "1.4.0",
      "model_name": "ButtonStyleModel",
      "state": {}
     },
     "3f2c218119f047a08f2dd2cd0dbeea3b": {
      "model_module": "@jupyter-widgets/base",
      "model_module_version": "1.1.0",
      "model_name": "LayoutModel",
      "state": {}
     },
     "40981a7a083f4622ba7768ab2b273685": {
      "model_module": "@jupyter-widgets/controls",
      "model_module_version": "1.4.0",
      "model_name": "DescriptionStyleModel",
      "state": {
       "description_width": "initial"
      }
     },
     "40d2fccb7a87416f8465c80d172020c0": {
      "model_module": "@jupyter-widgets/base",
      "model_module_version": "1.1.0",
      "model_name": "LayoutModel",
      "state": {
       "justify_content": "center"
      }
     },
     "40f40cab43f54764a6e64bebaee628d2": {
      "model_module": "@jupyter-widgets/controls",
      "model_module_version": "1.4.0",
      "model_name": "DescriptionStyleModel",
      "state": {
       "description_width": "initial"
      }
     },
     "4148125e6a6e458fbfcb0382dba69ff3": {
      "model_module": "@jupyter-widgets/controls",
      "model_module_version": "1.4.0",
      "model_name": "HBoxModel",
      "state": {
       "children": [
        "IPY_MODEL_f2f09903188a48d6ac121316a6f6ef94",
        "IPY_MODEL_0c2ae233848f427692bf2244cd5693bc"
       ],
       "layout": "IPY_MODEL_6ede3c958df5435d9877b770809d7733"
      }
     },
     "414c94a7421448998be5e05fe7fdf784": {
      "model_module": "@jupyter-widgets/controls",
      "model_module_version": "1.4.0",
      "model_name": "ButtonModel",
      "state": {
       "description": "Predict Response(t+1)",
       "layout": "IPY_MODEL_e82ec4c293a0420586df3c59390abade",
       "style": "IPY_MODEL_2172a36b7bcb49d284b831f99b3ee9c5"
      }
     },
     "421aa1cf62964b4b966f1b33cfe23c2f": {
      "model_module": "@jupyter-widgets/controls",
      "model_module_version": "1.4.0",
      "model_name": "DescriptionStyleModel",
      "state": {
       "description_width": ""
      }
     },
     "424b555ce6c0412f9b2d509f22b566b9": {
      "model_module": "@jupyter-widgets/controls",
      "model_module_version": "1.4.0",
      "model_name": "ButtonModel",
      "state": {
       "description": "Predict Response(t+1)",
       "layout": "IPY_MODEL_d8a1f05178cc4f789b89c399f8333eae",
       "style": "IPY_MODEL_1d9f3480e70c4fe2ae8af18af92b1f4b"
      }
     },
     "4259f8181294444b8f088c32fc551b3a": {
      "model_module": "@jupyter-widgets/controls",
      "model_module_version": "1.4.0",
      "model_name": "HBoxModel",
      "state": {
       "children": [
        "IPY_MODEL_61692497929e41e3910975ff667ca0c3",
        "IPY_MODEL_537f68d0d46c43e9b2c8a1bf8eac4ce8"
       ],
       "layout": "IPY_MODEL_fbc759d0f1b540cd9be186f41aaad8bb"
      }
     },
     "43a7f22d76124aad926313165059f602": {
      "model_module": "@jupyter-widgets/controls",
      "model_module_version": "1.4.0",
      "model_name": "FloatSliderModel",
      "state": {
       "description": "Dose(t)",
       "layout": "IPY_MODEL_d7326285cbd4420f82951e220971ae4c",
       "max": 10,
       "min": -10,
       "step": 0.01,
       "style": "IPY_MODEL_116e0cd1b5cf408ebe04f993f9f5147e",
       "value": 0.54
      }
     },
     "44213fa0d677497298f063b039f0d490": {
      "model_module": "@jupyter-widgets/controls",
      "model_module_version": "1.4.0",
      "model_name": "ButtonModel",
      "state": {
       "description": "Administer Dose(t)",
       "disabled": true,
       "layout": "IPY_MODEL_1459672da17441b1b5036fedbf3f7f62",
       "style": "IPY_MODEL_49fe473726c54356b71f76199a6da9e1"
      }
     },
     "45ef44f8e2374c9380d0c76e93e788d8": {
      "model_module": "@jupyter-widgets/base",
      "model_module_version": "1.1.0",
      "model_name": "LayoutModel",
      "state": {
       "width": "42%"
      }
     },
     "4701c9fe2d8c4ebb99a0c63aa03b8bef": {
      "model_module": "@jupyter-widgets/base",
      "model_module_version": "1.1.0",
      "model_name": "LayoutModel",
      "state": {
       "justify_content": "center"
      }
     },
     "4737425401214705bf3400961d0cd709": {
      "model_module": "@jupyter-widgets/controls",
      "model_module_version": "1.4.0",
      "model_name": "ButtonModel",
      "state": {
       "description": "Administer Dose(t)",
       "disabled": true,
       "layout": "IPY_MODEL_bd6ee27849ac42cc82371d07c9d643b6",
       "style": "IPY_MODEL_eb9c5f8672ff4fd18894ebc109c60eda"
      }
     },
     "47a4fcb027254d6997b49582dd52a557": {
      "model_module": "@jupyter-widgets/controls",
      "model_module_version": "1.4.0",
      "model_name": "ButtonStyleModel",
      "state": {}
     },
     "48d47461415f48da87d6bd3143780f2b": {
      "model_module": "@jupyter-widgets/controls",
      "model_module_version": "1.4.0",
      "model_name": "ButtonModel",
      "state": {
       "description": "Predict Response(t+1)",
       "layout": "IPY_MODEL_66c317b7ed0c4b4eb501110b4d6982e6",
       "style": "IPY_MODEL_d580c39264154a45846367f9dd1427e5"
      }
     },
     "494d94cf1e2d494ebb127c2253cc312b": {
      "model_module": "@jupyter-widgets/controls",
      "model_module_version": "1.4.0",
      "model_name": "ButtonStyleModel",
      "state": {}
     },
     "497ddd7f230f4030ab3abd315293be50": {
      "model_module": "@jupyter-widgets/controls",
      "model_module_version": "1.4.0",
      "model_name": "ButtonStyleModel",
      "state": {}
     },
     "4981081503a24939920c25f27f01c7bd": {
      "model_module": "@jupyter-widgets/base",
      "model_module_version": "1.1.0",
      "model_name": "LayoutModel",
      "state": {
       "width": "95%"
      }
     },
     "49993292fef14d3b87f61e4c57a29f80": {
      "model_module": "@jupyter-widgets/base",
      "model_module_version": "1.1.0",
      "model_name": "LayoutModel",
      "state": {}
     },
     "49fe473726c54356b71f76199a6da9e1": {
      "model_module": "@jupyter-widgets/controls",
      "model_module_version": "1.4.0",
      "model_name": "ButtonStyleModel",
      "state": {}
     },
     "4a12501fe2a446d98d0fb2daf361337d": {
      "model_module": "@jupyter-widgets/controls",
      "model_module_version": "1.4.0",
      "model_name": "ButtonStyleModel",
      "state": {}
     },
     "4a30ba8a37c94d468755273ce5e0b916": {
      "model_module": "@jupyter-widgets/controls",
      "model_module_version": "1.4.0",
      "model_name": "SliderStyleModel",
      "state": {
       "description_width": ""
      }
     },
     "4a34fcebf76848b2b0b6b45911141f6a": {
      "model_module": "@jupyter-widgets/controls",
      "model_module_version": "1.4.0",
      "model_name": "ButtonModel",
      "state": {
       "description": "Administer Dose(t)",
       "disabled": true,
       "layout": "IPY_MODEL_1a294373fb3e471baff499db21d1ef5e",
       "style": "IPY_MODEL_f10c70a716f9455c917522757d882483"
      }
     },
     "4ac0edac95fa4ddc957eeb4bca8fa1f4": {
      "model_module": "@jupyter-widgets/base",
      "model_module_version": "1.1.0",
      "model_name": "LayoutModel",
      "state": {
       "width": "42%"
      }
     },
     "4b04162859d44f3d86b766bf43864f2f": {
      "model_module": "@jupyter-widgets/controls",
      "model_module_version": "1.4.0",
      "model_name": "TextModel",
      "state": {
       "description": "Next Step",
       "layout": "IPY_MODEL_3ba95bd352924e83b222406a56d0c238",
       "style": "IPY_MODEL_d2ceb75c9b5b48019b164fad36b635f8",
       "value": "Increase dose(t) and Predict"
      }
     },
     "4b16627cd21b49a991717349dcc0f39e": {
      "model_module": "@jupyter-widgets/controls",
      "model_module_version": "1.4.0",
      "model_name": "HBoxModel",
      "state": {
       "children": [
        "IPY_MODEL_edb82dc7e54b442f932c1af931fdffb4",
        "IPY_MODEL_e1988a5aa4dc4bc2a507e12e6beb3a31"
       ],
       "layout": "IPY_MODEL_b9169c4237734f928f4b01df729c2263"
      }
     },
     "4b30e56caeeb43bbb9a865a1c6c1837d": {
      "model_module": "@jupyter-widgets/controls",
      "model_module_version": "1.4.0",
      "model_name": "HBoxModel",
      "state": {
       "children": [
        "IPY_MODEL_104415e3dc274d11bd79c43b5f27da12",
        "IPY_MODEL_44213fa0d677497298f063b039f0d490"
       ],
       "layout": "IPY_MODEL_aed8b7420fa54206be1442b4763dc690"
      }
     },
     "4b4941f16f364fa0ad8add2434a27117": {
      "model_module": "@jupyter-widgets/controls",
      "model_module_version": "1.4.0",
      "model_name": "TextModel",
      "state": {
       "description": "Response(t+1) ",
       "disabled": true,
       "layout": "IPY_MODEL_5c70176f1e1b4dc6a457dcd608197e76",
       "style": "IPY_MODEL_bb78fe4891034bb1a307cb33083a20df",
       "value": "  "
      }
     },
     "4d6b808dc5f14792af76147ec724616c": {
      "model_module": "@jupyter-widgets/controls",
      "model_module_version": "1.4.0",
      "model_name": "FloatSliderModel",
      "state": {
       "description": "Dose(t)",
       "layout": "IPY_MODEL_86e4deae87b3424895dfd33996c5a23e",
       "max": 10,
       "min": -10,
       "step": 0.01,
       "style": "IPY_MODEL_c50c5c21c634449697f9cc7737cbd95b",
       "value": 4.23
      }
     },
     "4d908e0c9be14de49ca98f372f429f04": {
      "model_module": "@jupyter-widgets/controls",
      "model_module_version": "1.4.0",
      "model_name": "TextModel",
      "state": {
       "description": "Next Step",
       "layout": "IPY_MODEL_1ef26e0b6a91477d88fcba7838e555e1",
       "style": "IPY_MODEL_d215c5126a5d4ca1b8842dcb98780736",
       "value": "Successful Completion"
      }
     },
     "4e1fde5ca2574b09a115ea511786a24c": {
      "model_module": "@jupyter-widgets/controls",
      "model_module_version": "1.4.0",
      "model_name": "DescriptionStyleModel",
      "state": {
       "description_width": "initial"
      }
     },
     "4e35421308034f85af3e706064d26ee0": {
      "model_module": "@jupyter-widgets/controls",
      "model_module_version": "1.4.0",
      "model_name": "FloatSliderModel",
      "state": {
       "description": "Dose(t)",
       "layout": "IPY_MODEL_125cfba9ee024c9fbd91084467a841b9",
       "max": 10,
       "min": -10,
       "step": 0.01,
       "style": "IPY_MODEL_0ad9f37ff7e1409e9cd22abe0c9b9f2c"
      }
     },
     "4e7747e5ba684b80ac48d66bc7ce6e1d": {
      "model_module": "@jupyter-widgets/controls",
      "model_module_version": "1.4.0",
      "model_name": "HBoxModel",
      "state": {
       "children": [
        "IPY_MODEL_b89bdd81f4be414a9b03a405b330537a",
        "IPY_MODEL_159436a0cd284cf6998578e86d35d5dc"
       ],
       "layout": "IPY_MODEL_f737a9ed60ee41628c6038e6bd8f20ec"
      }
     },
     "4f0016f913ce4a989ca9de5814401c08": {
      "model_module": "@jupyter-widgets/base",
      "model_module_version": "1.1.0",
      "model_name": "LayoutModel",
      "state": {}
     },
     "4f66b33320d34c768befc72938473b1d": {
      "model_module": "@jupyter-widgets/base",
      "model_module_version": "1.1.0",
      "model_name": "LayoutModel",
      "state": {
       "width": "42%"
      }
     },
     "4fe10e5c275b4181b7fe8989ef39f605": {
      "model_module": "@jupyter-widgets/base",
      "model_module_version": "1.1.0",
      "model_name": "LayoutModel",
      "state": {
       "justify_content": "center"
      }
     },
     "4fe19b45a2424016b2129e461e230835": {
      "model_module": "@jupyter-widgets/base",
      "model_module_version": "1.1.0",
      "model_name": "LayoutModel",
      "state": {
       "width": "42%"
      }
     },
     "502592db6ed94a9d9494e587d4e82ce8": {
      "model_module": "@jupyter-widgets/controls",
      "model_module_version": "1.4.0",
      "model_name": "ButtonModel",
      "state": {
       "description": "Predict Response(t+1)",
       "disabled": true,
       "layout": "IPY_MODEL_a04910f70f604bd7968d21a7390face8",
       "style": "IPY_MODEL_f210065ef4614d908a8d58a418030e3d"
      }
     },
     "505dad8f47d0444597a5440b934675fa": {
      "model_module": "@jupyter-widgets/controls",
      "model_module_version": "1.4.0",
      "model_name": "TextModel",
      "state": {
       "description": "Response(t+1) ",
       "disabled": true,
       "layout": "IPY_MODEL_f3b0b79639bc4b69b2105cd51ba8ed4a",
       "style": "IPY_MODEL_6f1c4bba2ff049b8b58c96cfc3f962f4",
       "value": "4.87 (in range)"
      }
     },
     "50bc8c7589c8435293fb0cc7c84861b1": {
      "model_module": "@jupyter-widgets/controls",
      "model_module_version": "1.4.0",
      "model_name": "ButtonModel",
      "state": {
       "description": "Predict Response(t+1)",
       "layout": "IPY_MODEL_74f29b733c8e43cd80339067f24d34cb",
       "style": "IPY_MODEL_337053ece59c44e196c0dbc2926fbd9c"
      }
     },
     "512c11586a13499a8da5092ef221631b": {
      "model_module": "@jupyter-widgets/base",
      "model_module_version": "1.1.0",
      "model_name": "LayoutModel",
      "state": {
       "justify_content": "center"
      }
     },
     "51ccdaf9d1ac4d6fa711e439225f143c": {
      "model_module": "@jupyter-widgets/controls",
      "model_module_version": "1.4.0",
      "model_name": "DescriptionStyleModel",
      "state": {
       "description_width": "initial"
      }
     },
     "51d112d7f2fa45c2aa3d9c595a0f3bca": {
      "model_module": "@jupyter-widgets/base",
      "model_module_version": "1.1.0",
      "model_name": "LayoutModel",
      "state": {}
     },
     "528c22a7eb1a4339853aec47cf195263": {
      "model_module": "@jupyter-widgets/base",
      "model_module_version": "1.1.0",
      "model_name": "LayoutModel",
      "state": {
       "width": "42%"
      }
     },
     "534f7d52f58d49919e5fc4cf016e0515": {
      "model_module": "@jupyter-widgets/base",
      "model_module_version": "1.1.0",
      "model_name": "LayoutModel",
      "state": {
       "width": "95%"
      }
     },
     "537f68d0d46c43e9b2c8a1bf8eac4ce8": {
      "model_module": "@jupyter-widgets/controls",
      "model_module_version": "1.4.0",
      "model_name": "TextModel",
      "state": {
       "description": "Next Step",
       "layout": "IPY_MODEL_300226540e174695a06f188d144a9cce",
       "style": "IPY_MODEL_9a7d9d5490f74e2bb4ee1ebe2370d27f",
       "value": "Predict Response(t+1)"
      }
     },
     "54aca4b6bc304a33912aa03f2bd2dc3f": {
      "model_module": "@jupyter-widgets/controls",
      "model_module_version": "1.4.0",
      "model_name": "SliderStyleModel",
      "state": {
       "description_width": ""
      }
     },
     "54c201460cf348b2af29a887ff5d5b6a": {
      "model_module": "@jupyter-widgets/base",
      "model_module_version": "1.1.0",
      "model_name": "LayoutModel",
      "state": {
       "width": "42%"
      }
     },
     "54d98e77d9c140f5b6f6a26ddb404a10": {
      "model_module": "@jupyter-widgets/base",
      "model_module_version": "1.1.0",
      "model_name": "LayoutModel",
      "state": {
       "width": "95%"
      }
     },
     "56818f00b59e4500996159b0e78eb2be": {
      "model_module": "@jupyter-widgets/controls",
      "model_module_version": "1.4.0",
      "model_name": "HBoxModel",
      "state": {
       "children": [
        "IPY_MODEL_d005af7968254de89a6df51708ebb703",
        "IPY_MODEL_f35c730f044b47d2a2634f4c6abd2191"
       ],
       "layout": "IPY_MODEL_c1be487cd0884ceb962a5afadfb02e64"
      }
     },
     "56d1312a2eef45698d78113e8c83fddd": {
      "model_module": "@jupyter-widgets/controls",
      "model_module_version": "1.4.0",
      "model_name": "DescriptionStyleModel",
      "state": {
       "description_width": ""
      }
     },
     "56d898b0af4e423a9b4245b44b2fc3d6": {
      "model_module": "@jupyter-widgets/base",
      "model_module_version": "1.1.0",
      "model_name": "LayoutModel",
      "state": {}
     },
     "573a17478f7047c1a7c748c1b5866466": {
      "model_module": "@jupyter-widgets/controls",
      "model_module_version": "1.4.0",
      "model_name": "FloatSliderModel",
      "state": {
       "description": "Dose(t)",
       "layout": "IPY_MODEL_11578dd36a6543ceadc51fbc421dfddb",
       "max": 10,
       "min": -10,
       "step": 0.01,
       "style": "IPY_MODEL_b48170f32c8e4f8ba81197998816d855",
       "value": 1.15
      }
     },
     "589393802fe1448c9a734386253498d5": {
      "model_module": "@jupyter-widgets/controls",
      "model_module_version": "1.4.0",
      "model_name": "DescriptionStyleModel",
      "state": {
       "description_width": "initial"
      }
     },
     "592d9262d2714a7a8f34da23a4028411": {
      "model_module": "@jupyter-widgets/base",
      "model_module_version": "1.1.0",
      "model_name": "LayoutModel",
      "state": {
       "justify_content": "center"
      }
     },
     "594cae7682334f93bbf6a6d7f64a19bc": {
      "model_module": "@jupyter-widgets/base",
      "model_module_version": "1.1.0",
      "model_name": "LayoutModel",
      "state": {}
     },
     "5aecb214e170443ab358419d1f491850": {
      "model_module": "@jupyter-widgets/controls",
      "model_module_version": "1.4.0",
      "model_name": "TextModel",
      "state": {
       "description": "Response(t+1) ",
       "disabled": true,
       "layout": "IPY_MODEL_09a9cf5b1ff446a0a801056dfd462bf9",
       "style": "IPY_MODEL_40f40cab43f54764a6e64bebaee628d2",
       "value": "  "
      }
     },
     "5c47f2ccf8d946f68316cdabf568ffa7": {
      "model_module": "@jupyter-widgets/controls",
      "model_module_version": "1.4.0",
      "model_name": "DescriptionStyleModel",
      "state": {
       "description_width": ""
      }
     },
     "5c70176f1e1b4dc6a457dcd608197e76": {
      "model_module": "@jupyter-widgets/base",
      "model_module_version": "1.1.0",
      "model_name": "LayoutModel",
      "state": {}
     },
     "5d615f02f9c5445684f5938ca250ceac": {
      "model_module": "@jupyter-widgets/controls",
      "model_module_version": "1.4.0",
      "model_name": "FloatSliderModel",
      "state": {
       "description": "Dose(t)",
       "layout": "IPY_MODEL_862b15226c694210865805e31079734d",
       "max": 10,
       "min": -10,
       "step": 0.01,
       "style": "IPY_MODEL_e7dffd1db6c444158be5e3b52a09b880",
       "value": 0.53
      }
     },
     "5d64cca9cbac40368c53256f44d88a84": {
      "model_module": "@jupyter-widgets/controls",
      "model_module_version": "1.4.0",
      "model_name": "TextModel",
      "state": {
       "description": "Response(t+1) ",
       "disabled": true,
       "layout": "IPY_MODEL_1866096e9dbd44b99108550a2624bc23",
       "style": "IPY_MODEL_a3bffca2071049a3b4a952c29bb551e9",
       "value": "  "
      }
     },
     "5dc86fa408124542aba9db2b2a063a10": {
      "model_module": "@jupyter-widgets/base",
      "model_module_version": "1.1.0",
      "model_name": "LayoutModel",
      "state": {
       "width": "95%"
      }
     },
     "609532047cea4d2aa5a76e190017a882": {
      "model_module": "@jupyter-widgets/base",
      "model_module_version": "1.1.0",
      "model_name": "LayoutModel",
      "state": {
       "justify_content": "center"
      }
     },
     "614b28c738854f7e852bd3888be7f432": {
      "model_module": "@jupyter-widgets/controls",
      "model_module_version": "1.4.0",
      "model_name": "ButtonStyleModel",
      "state": {}
     },
     "61692497929e41e3910975ff667ca0c3": {
      "model_module": "@jupyter-widgets/controls",
      "model_module_version": "1.4.0",
      "model_name": "TextModel",
      "state": {
       "description": "Response(t+1) ",
       "disabled": true,
       "layout": "IPY_MODEL_e1066b07ce154f1aa63b1830b9e1d972",
       "style": "IPY_MODEL_c3a47741b9514d08a7252cf62de1f243",
       "value": "4.89"
      }
     },
     "618bcca2b478481986a271a8828cc533": {
      "model_module": "@jupyter-widgets/controls",
      "model_module_version": "1.4.0",
      "model_name": "HBoxModel",
      "state": {
       "children": [
        "IPY_MODEL_afa0e9f0efc14446bcd9bac454ec77b8",
        "IPY_MODEL_fa625533e4f64183a5295a04d5037ca7"
       ],
       "layout": "IPY_MODEL_4fe10e5c275b4181b7fe8989ef39f605"
      }
     },
     "631a2ad58acb4443a17d0e22f5ecd50b": {
      "model_module": "@jupyter-widgets/controls",
      "model_module_version": "1.4.0",
      "model_name": "DescriptionStyleModel",
      "state": {
       "description_width": "initial"
      }
     },
     "63782116f59147b385e4aeaea3ef9c25": {
      "model_module": "@jupyter-widgets/base",
      "model_module_version": "1.1.0",
      "model_name": "LayoutModel",
      "state": {
       "width": "42%"
      }
     },
     "647d8c7301304a74ac8c4cfddc173ae6": {
      "model_module": "@jupyter-widgets/base",
      "model_module_version": "1.1.0",
      "model_name": "LayoutModel",
      "state": {}
     },
     "647fea64e9c44ab3b79f19ef3655467f": {
      "model_module": "@jupyter-widgets/base",
      "model_module_version": "1.1.0",
      "model_name": "LayoutModel",
      "state": {}
     },
     "6679247738bc4a6894d87fb479ac3a60": {
      "model_module": "@jupyter-widgets/controls",
      "model_module_version": "1.4.0",
      "model_name": "HBoxModel",
      "state": {
       "children": [
        "IPY_MODEL_8d63487340f54b378f6f6b2f4e4a2e55",
        "IPY_MODEL_671964bfee62456ea942af0ba032e83a"
       ],
       "layout": "IPY_MODEL_e65f57983e69411ab0b0befc7274a185"
      }
     },
     "66c317b7ed0c4b4eb501110b4d6982e6": {
      "model_module": "@jupyter-widgets/base",
      "model_module_version": "1.1.0",
      "model_name": "LayoutModel",
      "state": {
       "width": "42%"
      }
     },
     "671964bfee62456ea942af0ba032e83a": {
      "model_module": "@jupyter-widgets/controls",
      "model_module_version": "1.4.0",
      "model_name": "ButtonModel",
      "state": {
       "description": "Administer Dose(t)",
       "disabled": true,
       "layout": "IPY_MODEL_69d1ca8d3607400abcebfa3ebc91c1d3",
       "style": "IPY_MODEL_614b28c738854f7e852bd3888be7f432"
      }
     },
     "67dc0b4592a54b44b5fa1c0a144d8bfd": {
      "model_module": "@jupyter-widgets/controls",
      "model_module_version": "1.4.0",
      "model_name": "ButtonModel",
      "state": {
       "description": "Administer Dose(t)",
       "disabled": true,
       "layout": "IPY_MODEL_f89aa0d3d86744c19422f1dd7f6d84aa",
       "style": "IPY_MODEL_775ca751112f435a878f0e2446969fdb"
      }
     },
     "67e28e2a37664868922fe99736ea2eab": {
      "model_module": "@jupyter-widgets/controls",
      "model_module_version": "1.4.0",
      "model_name": "TextModel",
      "state": {
       "description": "Next Step",
       "layout": "IPY_MODEL_c4185a4c21b54d7a9d896832eee1f16f",
       "style": "IPY_MODEL_5c47f2ccf8d946f68316cdabf568ffa7",
       "value": "Predict Response(t+1)"
      }
     },
     "682c8fd675e34a40aee90ab2fa7a21a0": {
      "model_module": "@jupyter-widgets/controls",
      "model_module_version": "1.4.0",
      "model_name": "HBoxModel",
      "state": {
       "children": [
        "IPY_MODEL_7db419a588d3425197fcaac34a531d03",
        "IPY_MODEL_13c5a2362b9f454bb2e5b0bf4a067623"
       ],
       "layout": "IPY_MODEL_b0f6535619c3467b858efc57d7ec31e1"
      }
     },
     "69cde05467dc42ae9e30210ac23674c1": {
      "model_module": "@jupyter-widgets/base",
      "model_module_version": "1.1.0",
      "model_name": "LayoutModel",
      "state": {
       "justify_content": "center"
      }
     },
     "69d1ca8d3607400abcebfa3ebc91c1d3": {
      "model_module": "@jupyter-widgets/base",
      "model_module_version": "1.1.0",
      "model_name": "LayoutModel",
      "state": {
       "width": "42%"
      }
     },
     "6c8e0ebb921041c1bf653b76f80104ff": {
      "model_module": "@jupyter-widgets/controls",
      "model_module_version": "1.4.0",
      "model_name": "DescriptionStyleModel",
      "state": {
       "description_width": "initial"
      }
     },
     "6ce739e45dff4f8b83001e3123dbec5c": {
      "model_module": "@jupyter-widgets/controls",
      "model_module_version": "1.4.0",
      "model_name": "TextModel",
      "state": {
       "description": "Response(t+1) ",
       "disabled": true,
       "layout": "IPY_MODEL_fad47deec66541b38d3a26140b748184",
       "style": "IPY_MODEL_a40e2c541aaa4e07a78bf819b617de2a",
       "value": "4.91"
      }
     },
     "6df2219b9a00488c9eeca53edc987033": {
      "model_module": "@jupyter-widgets/base",
      "model_module_version": "1.1.0",
      "model_name": "LayoutModel",
      "state": {
       "width": "42%"
      }
     },
     "6e6f03e1106e4e61ac7eabe7d9ea2fee": {
      "model_module": "@jupyter-widgets/base",
      "model_module_version": "1.1.0",
      "model_name": "LayoutModel",
      "state": {}
     },
     "6e88d1ff7f8247aca898c7dbf18e326c": {
      "model_module": "@jupyter-widgets/controls",
      "model_module_version": "1.4.0",
      "model_name": "TextModel",
      "state": {
       "description": "Response(t+1) ",
       "disabled": true,
       "layout": "IPY_MODEL_0fa6cd9902614b48a0b705b91b8eee11",
       "style": "IPY_MODEL_3ba5003d35e9476fb93f2752326b1e1c",
       "value": "4.77"
      }
     },
     "6ede3c958df5435d9877b770809d7733": {
      "model_module": "@jupyter-widgets/base",
      "model_module_version": "1.1.0",
      "model_name": "LayoutModel",
      "state": {
       "justify_content": "center"
      }
     },
     "6ee63b6af7fd405db6873c15ef4165a8": {
      "model_module": "@jupyter-widgets/controls",
      "model_module_version": "1.4.0",
      "model_name": "TextModel",
      "state": {
       "description": "Response(t+1) ",
       "disabled": true,
       "layout": "IPY_MODEL_647d8c7301304a74ac8c4cfddc173ae6",
       "style": "IPY_MODEL_51ccdaf9d1ac4d6fa711e439225f143c",
       "value": "5.03 (in range)"
      }
     },
     "6f1c4bba2ff049b8b58c96cfc3f962f4": {
      "model_module": "@jupyter-widgets/controls",
      "model_module_version": "1.4.0",
      "model_name": "DescriptionStyleModel",
      "state": {
       "description_width": "initial"
      }
     },
     "6f5abbbf561a41738f53ae8f1c35c223": {
      "model_module": "@jupyter-widgets/controls",
      "model_module_version": "1.4.0",
      "model_name": "ButtonStyleModel",
      "state": {}
     },
     "6f887701b8c445d7a6cb47d47178336f": {
      "model_module": "@jupyter-widgets/base",
      "model_module_version": "1.1.0",
      "model_name": "LayoutModel",
      "state": {
       "width": "42%"
      }
     },
     "6fd2adff35564d99a6fe83ef2064cd81": {
      "model_module": "@jupyter-widgets/controls",
      "model_module_version": "1.4.0",
      "model_name": "ButtonModel",
      "state": {
       "description": "Administer Dose(t)",
       "disabled": true,
       "layout": "IPY_MODEL_1a0b5357728b4aafb8d09ae3b12d86af",
       "style": "IPY_MODEL_bfa30f6911a244728098ad1df15ad6ed"
      }
     },
     "700f166b177a46b3bc7e8ac2001ef0e3": {
      "model_module": "@jupyter-widgets/controls",
      "model_module_version": "1.4.0",
      "model_name": "HBoxModel",
      "state": {
       "children": [
        "IPY_MODEL_505dad8f47d0444597a5440b934675fa",
        "IPY_MODEL_a026c654c79b4fe5b0597ba62791f0e7"
       ],
       "layout": "IPY_MODEL_b1535340cda247bb8b654cd92d3572f9"
      }
     },
     "7020576863994636beec0099d71909be": {
      "model_module": "@jupyter-widgets/controls",
      "model_module_version": "1.4.0",
      "model_name": "SliderStyleModel",
      "state": {
       "description_width": ""
      }
     },
     "70b13527e2a444fdabaa63273b86b586": {
      "model_module": "@jupyter-widgets/controls",
      "model_module_version": "1.4.0",
      "model_name": "HBoxModel",
      "state": {
       "children": [
        "IPY_MODEL_50bc8c7589c8435293fb0cc7c84861b1",
        "IPY_MODEL_897f2376e627442e95ebbd7368f4ff28"
       ],
       "layout": "IPY_MODEL_4701c9fe2d8c4ebb99a0c63aa03b8bef"
      }
     },
     "70edd22de1514253a006b9d60e2bc03d": {
      "model_module": "@jupyter-widgets/controls",
      "model_module_version": "1.4.0",
      "model_name": "DescriptionStyleModel",
      "state": {
       "description_width": "initial"
      }
     },
     "74211fd2a17243e290eafe7a0be9d4ee": {
      "model_module": "@jupyter-widgets/base",
      "model_module_version": "1.1.0",
      "model_name": "LayoutModel",
      "state": {}
     },
     "74f29b733c8e43cd80339067f24d34cb": {
      "model_module": "@jupyter-widgets/base",
      "model_module_version": "1.1.0",
      "model_name": "LayoutModel",
      "state": {
       "width": "42%"
      }
     },
     "7528dd4be87d4f98ba912c56e089a18e": {
      "model_module": "@jupyter-widgets/controls",
      "model_module_version": "1.4.0",
      "model_name": "HBoxModel",
      "state": {
       "children": [
        "IPY_MODEL_94de130f4c204fbe83daa20f30b4d314",
        "IPY_MODEL_03581fc1a49640b0bfa4b6e9cfac3d39"
       ],
       "layout": "IPY_MODEL_f7729e3ff4fc443d8b090f9891fbcab4"
      }
     },
     "753045a14a2a461eaf791b8f79098828": {
      "model_module": "@jupyter-widgets/controls",
      "model_module_version": "1.4.0",
      "model_name": "HBoxModel",
      "state": {
       "children": [
        "IPY_MODEL_48d47461415f48da87d6bd3143780f2b",
        "IPY_MODEL_6fd2adff35564d99a6fe83ef2064cd81"
       ],
       "layout": "IPY_MODEL_a1bf30dce84240d19207f11898483500"
      }
     },
     "76d478d10ced47689cdea9c14d47f470": {
      "model_module": "@jupyter-widgets/base",
      "model_module_version": "1.1.0",
      "model_name": "LayoutModel",
      "state": {
       "justify_content": "center"
      }
     },
     "775ca751112f435a878f0e2446969fdb": {
      "model_module": "@jupyter-widgets/controls",
      "model_module_version": "1.4.0",
      "model_name": "ButtonStyleModel",
      "state": {}
     },
     "777ad53eb4214d3f983b387a974785c2": {
      "model_module": "@jupyter-widgets/base",
      "model_module_version": "1.1.0",
      "model_name": "LayoutModel",
      "state": {
       "width": "95%"
      }
     },
     "7803a019de6b4a858cca94dbec02f664": {
      "model_module": "@jupyter-widgets/controls",
      "model_module_version": "1.4.0",
      "model_name": "ButtonStyleModel",
      "state": {}
     },
     "7865ff0e3ab5426989d7431638d4f1c8": {
      "model_module": "@jupyter-widgets/controls",
      "model_module_version": "1.4.0",
      "model_name": "HBoxModel",
      "state": {
       "children": [
        "IPY_MODEL_880b18e783204233a5bfce7b87ab5aee",
        "IPY_MODEL_1b1c3be31bd647e0a326bed1802ffee0"
       ],
       "layout": "IPY_MODEL_592d9262d2714a7a8f34da23a4028411"
      }
     },
     "78a42dfce3184274a4c6b65b2661ce48": {
      "model_module": "@jupyter-widgets/base",
      "model_module_version": "1.1.0",
      "model_name": "LayoutModel",
      "state": {}
     },
     "78a83f61572f49ed9bc6db590bdf5ad4": {
      "model_module": "@jupyter-widgets/controls",
      "model_module_version": "1.4.0",
      "model_name": "ButtonModel",
      "state": {
       "description": "Predict Response(t+1)",
       "layout": "IPY_MODEL_2baa73a4f8e444699ebd761f0b0e6d34",
       "style": "IPY_MODEL_3139cf01dd9f453eb2d2373f3f9b750a"
      }
     },
     "798aa3d13aa042c58593d5e3625a7618": {
      "model_module": "@jupyter-widgets/base",
      "model_module_version": "1.1.0",
      "model_name": "LayoutModel",
      "state": {
       "width": "95%"
      }
     },
     "79ea289926794028b2f85f7b10c97b87": {
      "model_module": "@jupyter-widgets/controls",
      "model_module_version": "1.4.0",
      "model_name": "TextModel",
      "state": {
       "description": "Response(t+1) ",
       "layout": "IPY_MODEL_f74717e57cb0445fb910baef614e652b",
       "style": "IPY_MODEL_a934bebe06a942ceae4e1ff38802d1a2",
       "value": "  "
      }
     },
     "7add484299ef47ea9f1aac758d680e11": {
      "model_module": "@jupyter-widgets/controls",
      "model_module_version": "1.4.0",
      "model_name": "ButtonStyleModel",
      "state": {}
     },
     "7b47c1ecf85b4216b61da7811f1e1a20": {
      "model_module": "@jupyter-widgets/controls",
      "model_module_version": "1.4.0",
      "model_name": "HBoxModel",
      "state": {
       "children": [
        "IPY_MODEL_6ee63b6af7fd405db6873c15ef4165a8",
        "IPY_MODEL_852b0c8bc2db40a8ade243500c2e8334"
       ],
       "layout": "IPY_MODEL_2b035a3ed20341c08bb72da2db1feeec"
      }
     },
     "7bf91f7803bb4378b74c0f83f9d73ead": {
      "model_module": "@jupyter-widgets/controls",
      "model_module_version": "1.4.0",
      "model_name": "SliderStyleModel",
      "state": {
       "description_width": ""
      }
     },
     "7c5d0ea7299946cdbc7d7b291c706703": {
      "model_module": "@jupyter-widgets/base",
      "model_module_version": "1.1.0",
      "model_name": "LayoutModel",
      "state": {
       "width": "95%"
      }
     },
     "7d3bebcabf1741e88ab4d3d7427a6a60": {
      "model_module": "@jupyter-widgets/base",
      "model_module_version": "1.1.0",
      "model_name": "LayoutModel",
      "state": {}
     },
     "7db419a588d3425197fcaac34a531d03": {
      "model_module": "@jupyter-widgets/controls",
      "model_module_version": "1.4.0",
      "model_name": "ButtonModel",
      "state": {
       "description": "Predict Response(t+1)",
       "layout": "IPY_MODEL_976ecc5758ad4e74836b50dbca148e92",
       "style": "IPY_MODEL_497ddd7f230f4030ab3abd315293be50"
      }
     },
     "7e878d1c88c24f51ae75c3d70347772e": {
      "model_module": "@jupyter-widgets/base",
      "model_module_version": "1.1.0",
      "model_name": "LayoutModel",
      "state": {}
     },
     "7ea1551cb76542dfa760a333e0619a55": {
      "model_module": "@jupyter-widgets/base",
      "model_module_version": "1.1.0",
      "model_name": "LayoutModel",
      "state": {
       "width": "42%"
      }
     },
     "7f1ff7db9ca643d593fdb3e936891dc9": {
      "model_module": "@jupyter-widgets/controls",
      "model_module_version": "1.4.0",
      "model_name": "DescriptionStyleModel",
      "state": {
       "description_width": ""
      }
     },
     "80cd114a38464c4cbc204266e9fc488d": {
      "model_module": "@jupyter-widgets/controls",
      "model_module_version": "1.4.0",
      "model_name": "DescriptionStyleModel",
      "state": {
       "description_width": ""
      }
     },
     "8220a790976a4272a425e1d1d9e84390": {
      "model_module": "@jupyter-widgets/base",
      "model_module_version": "1.1.0",
      "model_name": "LayoutModel",
      "state": {}
     },
     "82345ea948da42b8b508a23e4573a274": {
      "model_module": "@jupyter-widgets/base",
      "model_module_version": "1.1.0",
      "model_name": "LayoutModel",
      "state": {
       "justify_content": "center"
      }
     },
     "830e933b8c6b4046982e2f0978b27179": {
      "model_module": "@jupyter-widgets/base",
      "model_module_version": "1.1.0",
      "model_name": "LayoutModel",
      "state": {
       "justify_content": "center"
      }
     },
     "83864197013c422ea3576d42305a9a2c": {
      "model_module": "@jupyter-widgets/base",
      "model_module_version": "1.1.0",
      "model_name": "LayoutModel",
      "state": {
       "width": "42%"
      }
     },
     "8403c3de47214b1fbd79269b591b040f": {
      "model_module": "@jupyter-widgets/controls",
      "model_module_version": "1.4.0",
      "model_name": "SliderStyleModel",
      "state": {
       "description_width": ""
      }
     },
     "852b0c8bc2db40a8ade243500c2e8334": {
      "model_module": "@jupyter-widgets/controls",
      "model_module_version": "1.4.0",
      "model_name": "TextModel",
      "state": {
       "description": "Next Step",
       "layout": "IPY_MODEL_3f2c218119f047a08f2dd2cd0dbeea3b",
       "style": "IPY_MODEL_d5ff24484bf84cb9982bd7306fe6d6cb",
       "value": "Successful Completion"
      }
     },
     "85c9ac5d91594a188659377ed06c304d": {
      "model_module": "@jupyter-widgets/base",
      "model_module_version": "1.1.0",
      "model_name": "LayoutModel",
      "state": {}
     },
     "862b15226c694210865805e31079734d": {
      "model_module": "@jupyter-widgets/base",
      "model_module_version": "1.1.0",
      "model_name": "LayoutModel",
      "state": {
       "width": "95%"
      }
     },
     "86c3aacaf2d14ae299204a37f3937072": {
      "model_module": "@jupyter-widgets/controls",
      "model_module_version": "1.4.0",
      "model_name": "ButtonModel",
      "state": {
       "description": "Administer Dose(t)",
       "disabled": true,
       "layout": "IPY_MODEL_4fe19b45a2424016b2129e461e230835",
       "style": "IPY_MODEL_7803a019de6b4a858cca94dbec02f664"
      }
     },
     "86e135c9b77c4838a37546c1522ebc08": {
      "model_module": "@jupyter-widgets/base",
      "model_module_version": "1.1.0",
      "model_name": "LayoutModel",
      "state": {
       "width": "42%"
      }
     },
     "86e4deae87b3424895dfd33996c5a23e": {
      "model_module": "@jupyter-widgets/base",
      "model_module_version": "1.1.0",
      "model_name": "LayoutModel",
      "state": {
       "width": "95%"
      }
     },
     "86fa0b711d1b48eca3bc09dbfd68b165": {
      "model_module": "@jupyter-widgets/base",
      "model_module_version": "1.1.0",
      "model_name": "LayoutModel",
      "state": {
       "justify_content": "center"
      }
     },
     "87dbbd26f1d64a4eb8f392affd5b80c0": {
      "model_module": "@jupyter-widgets/base",
      "model_module_version": "1.1.0",
      "model_name": "LayoutModel",
      "state": {
       "justify_content": "center"
      }
     },
     "87de0a9ef5c54173860baedaa8750acd": {
      "model_module": "@jupyter-widgets/controls",
      "model_module_version": "1.4.0",
      "model_name": "SliderStyleModel",
      "state": {
       "description_width": ""
      }
     },
     "880b18e783204233a5bfce7b87ab5aee": {
      "model_module": "@jupyter-widgets/controls",
      "model_module_version": "1.4.0",
      "model_name": "TextModel",
      "state": {
       "description": "Response(t+1) ",
       "disabled": true,
       "layout": "IPY_MODEL_4f0016f913ce4a989ca9de5814401c08",
       "style": "IPY_MODEL_1a81dda27e53407e91e804d2b58d0633",
       "value": "  "
      }
     },
     "8940ee10ccc344d2b953c36aed8bec72": {
      "model_module": "@jupyter-widgets/controls",
      "model_module_version": "1.4.0",
      "model_name": "DescriptionStyleModel",
      "state": {
       "description_width": ""
      }
     },
     "897f2376e627442e95ebbd7368f4ff28": {
      "model_module": "@jupyter-widgets/controls",
      "model_module_version": "1.4.0",
      "model_name": "ButtonModel",
      "state": {
       "description": "Administer Dose(t)",
       "disabled": true,
       "layout": "IPY_MODEL_d454d30a4e5c4ff0b6cbf34a98a6ccf0",
       "style": "IPY_MODEL_3d7ff347306d42b98bd568bb482d3a22"
      }
     },
     "8a133d384bb04446b5cee26a1a43179d": {
      "model_module": "@jupyter-widgets/controls",
      "model_module_version": "1.4.0",
      "model_name": "SliderStyleModel",
      "state": {
       "description_width": ""
      }
     },
     "8b42b9464f80490a9212e743ad1ad58a": {
      "model_module": "@jupyter-widgets/controls",
      "model_module_version": "1.4.0",
      "model_name": "DescriptionStyleModel",
      "state": {
       "description_width": ""
      }
     },
     "8bc15e85f60943d2aae9e62dcf445c3f": {
      "model_module": "@jupyter-widgets/controls",
      "model_module_version": "1.4.0",
      "model_name": "ButtonModel",
      "state": {
       "description": "Predict Response(t+1)",
       "layout": "IPY_MODEL_e07582650c69463b989f24140848fce9",
       "style": "IPY_MODEL_6f5abbbf561a41738f53ae8f1c35c223"
      }
     },
     "8c503910604a49958886fac0251b7d51": {
      "model_module": "@jupyter-widgets/controls",
      "model_module_version": "1.4.0",
      "model_name": "ButtonModel",
      "state": {
       "description": "Predict Response(t+1)",
       "layout": "IPY_MODEL_9eadb8fc599942d0856609459b4ab993",
       "style": "IPY_MODEL_bf119b7a4ee3413b81befc84cc60e6de"
      }
     },
     "8d2e4bce851744fcbfdcda5584c2e22b": {
      "model_module": "@jupyter-widgets/controls",
      "model_module_version": "1.4.0",
      "model_name": "FloatSliderModel",
      "state": {
       "description": "Dose(t)",
       "layout": "IPY_MODEL_0825f2b102a0446e87f4cc09c1d4e7a0",
       "max": 10,
       "min": -10,
       "step": 0.01,
       "style": "IPY_MODEL_87de0a9ef5c54173860baedaa8750acd"
      }
     },
     "8d63487340f54b378f6f6b2f4e4a2e55": {
      "model_module": "@jupyter-widgets/controls",
      "model_module_version": "1.4.0",
      "model_name": "ButtonModel",
      "state": {
       "description": "Predict Response(t+1)",
       "layout": "IPY_MODEL_528c22a7eb1a4339853aec47cf195263",
       "style": "IPY_MODEL_18e653a1388549b6b7eff4b1bb7be40b"
      }
     },
     "8db8764066f64d2383835cf8ba85a769": {
      "model_module": "@jupyter-widgets/controls",
      "model_module_version": "1.4.0",
      "model_name": "TextModel",
      "state": {
       "description": "Response(t+1) ",
       "disabled": true,
       "layout": "IPY_MODEL_a9d1b9a1d00f4a888612a3c609f0d10c",
       "style": "IPY_MODEL_40981a7a083f4622ba7768ab2b273685",
       "value": "4.90"
      }
     },
     "8db94dbaba9040eb8cb2cc5f43d055f2": {
      "model_module": "@jupyter-widgets/controls",
      "model_module_version": "1.4.0",
      "model_name": "HBoxModel",
      "state": {
       "children": [
        "IPY_MODEL_e9be4db836854a2c95881e3bb59cf768",
        "IPY_MODEL_8e38a8dfd00044349f9d92ba22fc953a"
       ],
       "layout": "IPY_MODEL_1e34031a506543c5bdf5af44cc63a8cd"
      }
     },
     "8e38a8dfd00044349f9d92ba22fc953a": {
      "model_module": "@jupyter-widgets/controls",
      "model_module_version": "1.4.0",
      "model_name": "TextModel",
      "state": {
       "description": "Next Step",
       "layout": "IPY_MODEL_9bf0172c0c9444529a61b739352e4a49",
       "style": "IPY_MODEL_febd969808234ad59cfc221339fbfa8b",
       "value": "Predict Response(t+1)  "
      }
     },
     "8f102acff5d94b9db39321529daa7463": {
      "model_module": "@jupyter-widgets/base",
      "model_module_version": "1.1.0",
      "model_name": "LayoutModel",
      "state": {
       "justify_content": "center"
      }
     },
     "8ffea09a11154986b0e8f0626a62f963": {
      "model_module": "@jupyter-widgets/controls",
      "model_module_version": "1.4.0",
      "model_name": "ButtonStyleModel",
      "state": {}
     },
     "9069407e9e454c3892c6d076a1925d31": {
      "model_module": "@jupyter-widgets/controls",
      "model_module_version": "1.4.0",
      "model_name": "HBoxModel",
      "state": {
       "children": [
        "IPY_MODEL_2399dfa291d34d81a4471b906c5f59a7",
        "IPY_MODEL_1a33db65a5b247edb66543cfcf09f047"
       ],
       "layout": "IPY_MODEL_ffb741cd6fe44acb930d009dc8573003"
      }
     },
     "90794320e7c34d7da021303c63eb6472": {
      "model_module": "@jupyter-widgets/base",
      "model_module_version": "1.1.0",
      "model_name": "LayoutModel",
      "state": {
       "width": "42%"
      }
     },
     "91b55d0b46fe4346890de69c28d807f7": {
      "model_module": "@jupyter-widgets/controls",
      "model_module_version": "1.4.0",
      "model_name": "ButtonModel",
      "state": {
       "description": "Administer Dose(t)",
       "disabled": true,
       "layout": "IPY_MODEL_1d4dc086f9fe458ab5737d1aaf2b80b1",
       "style": "IPY_MODEL_47a4fcb027254d6997b49582dd52a557"
      }
     },
     "92be209797ac4daab49ca32fc72964d5": {
      "model_module": "@jupyter-widgets/controls",
      "model_module_version": "1.4.0",
      "model_name": "DescriptionStyleModel",
      "state": {
       "description_width": ""
      }
     },
     "935596d0f09c4302bb0aaca9fd8bf65a": {
      "model_module": "@jupyter-widgets/controls",
      "model_module_version": "1.4.0",
      "model_name": "HBoxModel",
      "state": {
       "children": [
        "IPY_MODEL_8db8764066f64d2383835cf8ba85a769",
        "IPY_MODEL_03e0cd42451847e98fa4c78e82f62d00"
       ],
       "layout": "IPY_MODEL_c7f4ac54e5384278a6891dd179d933c1"
      }
     },
     "936a663750bc43788789e099b30648f3": {
      "model_module": "@jupyter-widgets/base",
      "model_module_version": "1.1.0",
      "model_name": "LayoutModel",
      "state": {
       "width": "95%"
      }
     },
     "940254f1567044668f26b7d036148e76": {
      "model_module": "@jupyter-widgets/controls",
      "model_module_version": "1.4.0",
      "model_name": "HBoxModel",
      "state": {
       "children": [
        "IPY_MODEL_08fd0fe516b84441a1fb9fc283473288",
        "IPY_MODEL_d324909275244320a0e33d79e7d2a6cc"
       ],
       "layout": "IPY_MODEL_69cde05467dc42ae9e30210ac23674c1"
      }
     },
     "941823acf8ef46928c5438b430a3a8f4": {
      "model_module": "@jupyter-widgets/base",
      "model_module_version": "1.1.0",
      "model_name": "LayoutModel",
      "state": {}
     },
     "946f0936abf64c5ba45ed341fb33568e": {
      "model_module": "@jupyter-widgets/controls",
      "model_module_version": "1.4.0",
      "model_name": "FloatSliderModel",
      "state": {
       "description": "Dose(t)",
       "layout": "IPY_MODEL_f75d41c714a84fdbb09227772d9eebb7",
       "max": 10,
       "min": -10,
       "step": 0.01,
       "style": "IPY_MODEL_ac9ceda02933480eb1ac7b566738923b",
       "value": 0.54
      }
     },
     "94a5fd730486458b9b968efa724b8421": {
      "model_module": "@jupyter-widgets/controls",
      "model_module_version": "1.4.0",
      "model_name": "HBoxModel",
      "state": {
       "children": [
        "IPY_MODEL_fce71a65c4934bbcb9bcbfb2d45aeef1",
        "IPY_MODEL_d637afc52a734c92835ee07e873e1e42"
       ],
       "layout": "IPY_MODEL_76d478d10ced47689cdea9c14d47f470"
      }
     },
     "94de130f4c204fbe83daa20f30b4d314": {
      "model_module": "@jupyter-widgets/controls",
      "model_module_version": "1.4.0",
      "model_name": "ButtonModel",
      "state": {
       "description": "Predict Response(t+1)",
       "disabled": true,
       "layout": "IPY_MODEL_90794320e7c34d7da021303c63eb6472",
       "style": "IPY_MODEL_b9d245834f844b9197c8af9fce241d6e"
      }
     },
     "96180a94fd71457685cda1c7610b72b0": {
      "model_module": "@jupyter-widgets/base",
      "model_module_version": "1.1.0",
      "model_name": "LayoutModel",
      "state": {
       "width": "42%"
      }
     },
     "963c2a580dda400e9d632821f46e338c": {
      "model_module": "@jupyter-widgets/controls",
      "model_module_version": "1.4.0",
      "model_name": "ButtonModel",
      "state": {
       "description": "Administer Dose(t)",
       "disabled": true,
       "layout": "IPY_MODEL_2eedc88b87be4cc598862ac1d2e6f0b9",
       "style": "IPY_MODEL_13b4d94902704b9a9b87fbd0dba916e7"
      }
     },
     "968f7d4a292b49a8b6db3c7cea2bbfdf": {
      "model_module": "@jupyter-widgets/controls",
      "model_module_version": "1.4.0",
      "model_name": "DescriptionStyleModel",
      "state": {
       "description_width": ""
      }
     },
     "97012c8f2c76466aa94b3365fbeffb7f": {
      "model_module": "@jupyter-widgets/controls",
      "model_module_version": "1.4.0",
      "model_name": "ButtonStyleModel",
      "state": {}
     },
     "9733158a322c4ce0b20a511d81d434b0": {
      "model_module": "@jupyter-widgets/base",
      "model_module_version": "1.1.0",
      "model_name": "LayoutModel",
      "state": {
       "width": "42%"
      }
     },
     "976ecc5758ad4e74836b50dbca148e92": {
      "model_module": "@jupyter-widgets/base",
      "model_module_version": "1.1.0",
      "model_name": "LayoutModel",
      "state": {
       "width": "42%"
      }
     },
     "97d026ee3b174d3bb0ce997c953253f6": {
      "model_module": "@jupyter-widgets/base",
      "model_module_version": "1.1.0",
      "model_name": "LayoutModel",
      "state": {
       "width": "42%"
      }
     },
     "98c66e2204b9432d8fffdd93eac2f08e": {
      "model_module": "@jupyter-widgets/controls",
      "model_module_version": "1.4.0",
      "model_name": "HBoxModel",
      "state": {
       "children": [
        "IPY_MODEL_aa99a2df384743399a1b7f6b5c33bfe9",
        "IPY_MODEL_b82b0955136242ebab3d865c23ba177d"
       ],
       "layout": "IPY_MODEL_de7b37a5013b47538e8b9bdb0d6f7ea0"
      }
     },
     "99a4482343a348cb8533af40674e5ebb": {
      "model_module": "@jupyter-widgets/controls",
      "model_module_version": "1.4.0",
      "model_name": "HBoxModel",
      "state": {
       "children": [
        "IPY_MODEL_6e88d1ff7f8247aca898c7dbf18e326c",
        "IPY_MODEL_67e28e2a37664868922fe99736ea2eab"
       ],
       "layout": "IPY_MODEL_1aa56fd36cad4c4fb404c0c9899988a2"
      }
     },
     "99b49f5b78124313a809a9e4168fb663": {
      "model_module": "@jupyter-widgets/controls",
      "model_module_version": "1.4.0",
      "model_name": "FloatSliderModel",
      "state": {
       "description": "Dose(t)",
       "layout": "IPY_MODEL_dd7567db20394b5792e72c8ccd004b06",
       "max": 10,
       "min": -10,
       "step": 0.01,
       "style": "IPY_MODEL_8a133d384bb04446b5cee26a1a43179d",
       "value": 0.51
      }
     },
     "9a10ce8a3edf42e09c210dbcd041ad98": {
      "model_module": "@jupyter-widgets/base",
      "model_module_version": "1.1.0",
      "model_name": "LayoutModel",
      "state": {}
     },
     "9a422d4fc3734478b4cc1466f61c38e1": {
      "model_module": "@jupyter-widgets/controls",
      "model_module_version": "1.4.0",
      "model_name": "TextModel",
      "state": {
       "description": "Response(t+1) ",
       "disabled": true,
       "layout": "IPY_MODEL_7e878d1c88c24f51ae75c3d70347772e",
       "style": "IPY_MODEL_b0a96d9577e34aae986dd904e4c0f3fc",
       "value": "  "
      }
     },
     "9a7d9d5490f74e2bb4ee1ebe2370d27f": {
      "model_module": "@jupyter-widgets/controls",
      "model_module_version": "1.4.0",
      "model_name": "DescriptionStyleModel",
      "state": {
       "description_width": ""
      }
     },
     "9ace1ce2212b441d87acc5b376632568": {
      "model_module": "@jupyter-widgets/base",
      "model_module_version": "1.1.0",
      "model_name": "LayoutModel",
      "state": {
       "justify_content": "center"
      }
     },
     "9b8c17ba56594b2c80d07aa98e8b2e7e": {
      "model_module": "@jupyter-widgets/controls",
      "model_module_version": "1.4.0",
      "model_name": "SliderStyleModel",
      "state": {
       "description_width": ""
      }
     },
     "9bf0172c0c9444529a61b739352e4a49": {
      "model_module": "@jupyter-widgets/base",
      "model_module_version": "1.1.0",
      "model_name": "LayoutModel",
      "state": {}
     },
     "9e7bd315932c4f2da52faa1fd3998f3f": {
      "model_module": "@jupyter-widgets/controls",
      "model_module_version": "1.4.0",
      "model_name": "TextModel",
      "state": {
       "description": "Response(t+1) ",
       "disabled": true,
       "layout": "IPY_MODEL_3bcf9f46ff2449369608dfa3b874e388",
       "style": "IPY_MODEL_b153ae626c134e53bdc3384949b42132",
       "value": "6.93 (is more than 5.25)"
      }
     },
     "9eadb8fc599942d0856609459b4ab993": {
      "model_module": "@jupyter-widgets/base",
      "model_module_version": "1.1.0",
      "model_name": "LayoutModel",
      "state": {
       "width": "42%"
      }
     },
     "9f3388ea61e14b4686de612c056c7175": {
      "model_module": "@jupyter-widgets/controls",
      "model_module_version": "1.4.0",
      "model_name": "FloatSliderModel",
      "state": {
       "description": "Dose(t)",
       "layout": "IPY_MODEL_f0c43677ea4549aba70f2d22700ed501",
       "max": 10,
       "min": -10,
       "step": 0.01,
       "style": "IPY_MODEL_be7dc910d9af4362a45a33bce49a440a",
       "value": 0.5
      }
     },
     "9fc75d7e40d349999c04f0da783bb570": {
      "model_module": "@jupyter-widgets/base",
      "model_module_version": "1.1.0",
      "model_name": "LayoutModel",
      "state": {
       "justify_content": "center"
      }
     },
     "a026c654c79b4fe5b0597ba62791f0e7": {
      "model_module": "@jupyter-widgets/controls",
      "model_module_version": "1.4.0",
      "model_name": "TextModel",
      "state": {
       "description": "Next Step",
       "layout": "IPY_MODEL_594cae7682334f93bbf6a6d7f64a19bc",
       "style": "IPY_MODEL_8940ee10ccc344d2b953c36aed8bec72",
       "value": "Successful Completion"
      }
     },
     "a04910f70f604bd7968d21a7390face8": {
      "model_module": "@jupyter-widgets/base",
      "model_module_version": "1.1.0",
      "model_name": "LayoutModel",
      "state": {
       "width": "42%"
      }
     },
     "a16dcbe9e1c34862990d6c1a72b83bcc": {
      "model_module": "@jupyter-widgets/controls",
      "model_module_version": "1.4.0",
      "model_name": "DescriptionStyleModel",
      "state": {
       "description_width": "initial"
      }
     },
     "a18b1641358745289aec13347974280e": {
      "model_module": "@jupyter-widgets/controls",
      "model_module_version": "1.4.0",
      "model_name": "FloatSliderModel",
      "state": {
       "description": "Dose(t)",
       "layout": "IPY_MODEL_0b39633dfe9c4696ae1e7a9ad6fc8ce7",
       "max": 10,
       "min": -10,
       "step": 0.01,
       "style": "IPY_MODEL_a7df32eb62ae43b8afb786966e677103"
      }
     },
     "a1bf30dce84240d19207f11898483500": {
      "model_module": "@jupyter-widgets/base",
      "model_module_version": "1.1.0",
      "model_name": "LayoutModel",
      "state": {
       "justify_content": "center"
      }
     },
     "a1de5863f2fc460d9cfffa417c70b79c": {
      "model_module": "@jupyter-widgets/base",
      "model_module_version": "1.1.0",
      "model_name": "LayoutModel",
      "state": {
       "width": "42%"
      }
     },
     "a2a720b4c247408eb78f4a3f90533ef2": {
      "model_module": "@jupyter-widgets/base",
      "model_module_version": "1.1.0",
      "model_name": "LayoutModel",
      "state": {
       "width": "42%"
      }
     },
     "a38c6408e8d74800a029a5e9f03df1c0": {
      "model_module": "@jupyter-widgets/base",
      "model_module_version": "1.1.0",
      "model_name": "LayoutModel",
      "state": {}
     },
     "a3bffca2071049a3b4a952c29bb551e9": {
      "model_module": "@jupyter-widgets/controls",
      "model_module_version": "1.4.0",
      "model_name": "DescriptionStyleModel",
      "state": {
       "description_width": "initial"
      }
     },
     "a3e10b8fc4404e47a1ec0306d071a37a": {
      "model_module": "@jupyter-widgets/controls",
      "model_module_version": "1.4.0",
      "model_name": "ButtonStyleModel",
      "state": {}
     },
     "a404032a9c734265aae3d53cc25c12e8": {
      "model_module": "@jupyter-widgets/controls",
      "model_module_version": "1.4.0",
      "model_name": "SliderStyleModel",
      "state": {
       "description_width": ""
      }
     },
     "a40e2c541aaa4e07a78bf819b617de2a": {
      "model_module": "@jupyter-widgets/controls",
      "model_module_version": "1.4.0",
      "model_name": "DescriptionStyleModel",
      "state": {
       "description_width": "initial"
      }
     },
     "a586057f5c004efda9a2c610739c7917": {
      "model_module": "@jupyter-widgets/controls",
      "model_module_version": "1.4.0",
      "model_name": "FloatSliderModel",
      "state": {
       "description": "Dose(t)",
       "layout": "IPY_MODEL_4981081503a24939920c25f27f01c7bd",
       "max": 10,
       "min": -10,
       "step": 0.01,
       "style": "IPY_MODEL_1c6f33dbd92d427c9078f609b45cce21",
       "value": 2.47
      }
     },
     "a5862f14248748a6b3129e69d21bb782": {
      "model_module": "@jupyter-widgets/controls",
      "model_module_version": "1.4.0",
      "model_name": "DescriptionStyleModel",
      "state": {
       "description_width": "initial"
      }
     },
     "a5a97e4aaae248c6949af7cff7201e2a": {
      "model_module": "@jupyter-widgets/controls",
      "model_module_version": "1.4.0",
      "model_name": "TextModel",
      "state": {
       "description": "Next Step",
       "layout": "IPY_MODEL_85c9ac5d91594a188659377ed06c304d",
       "style": "IPY_MODEL_56d1312a2eef45698d78113e8c83fddd",
       "value": "Predict Response(t+1)  "
      }
     },
     "a689cd493b334e7b8b0cb65b062558fe": {
      "model_module": "@jupyter-widgets/controls",
      "model_module_version": "1.4.0",
      "model_name": "HBoxModel",
      "state": {
       "children": [
        "IPY_MODEL_9a422d4fc3734478b4cc1466f61c38e1",
        "IPY_MODEL_3bcf8d3723de4eea9cbcaf412a808af5"
       ],
       "layout": "IPY_MODEL_ed926edff44148998459525d56b5c9d4"
      }
     },
     "a6dc0945784e4b15ab918dbacf477c70": {
      "model_module": "@jupyter-widgets/controls",
      "model_module_version": "1.4.0",
      "model_name": "SliderStyleModel",
      "state": {
       "description_width": ""
      }
     },
     "a7df32eb62ae43b8afb786966e677103": {
      "model_module": "@jupyter-widgets/controls",
      "model_module_version": "1.4.0",
      "model_name": "SliderStyleModel",
      "state": {
       "description_width": ""
      }
     },
     "a934bebe06a942ceae4e1ff38802d1a2": {
      "model_module": "@jupyter-widgets/controls",
      "model_module_version": "1.4.0",
      "model_name": "DescriptionStyleModel",
      "state": {
       "description_width": "initial"
      }
     },
     "a9d1b9a1d00f4a888612a3c609f0d10c": {
      "model_module": "@jupyter-widgets/base",
      "model_module_version": "1.1.0",
      "model_name": "LayoutModel",
      "state": {}
     },
     "aa99a2df384743399a1b7f6b5c33bfe9": {
      "model_module": "@jupyter-widgets/controls",
      "model_module_version": "1.4.0",
      "model_name": "TextModel",
      "state": {
       "description": "Response(t+1) ",
       "disabled": true,
       "layout": "IPY_MODEL_33a6500f707847b095c0b1447d0e2b92",
       "style": "IPY_MODEL_1e401af41921416bb7a62a83538f41d3",
       "value": "5.04 (in range)"
      }
     },
     "ab2bf471fd8b45378075961cd3a248fd": {
      "model_module": "@jupyter-widgets/base",
      "model_module_version": "1.1.0",
      "model_name": "LayoutModel",
      "state": {
       "justify_content": "center"
      }
     },
     "ac15b6a006cd4d0eabfd08e5214b3a34": {
      "model_module": "@jupyter-widgets/controls",
      "model_module_version": "1.4.0",
      "model_name": "ButtonModel",
      "state": {
       "description": "Predict Response(t+1)",
       "layout": "IPY_MODEL_6df2219b9a00488c9eeca53edc987033",
       "style": "IPY_MODEL_1c178a7475824a139655dba09dc4cc50"
      }
     },
     "ac9ceda02933480eb1ac7b566738923b": {
      "model_module": "@jupyter-widgets/controls",
      "model_module_version": "1.4.0",
      "model_name": "SliderStyleModel",
      "state": {
       "description_width": ""
      }
     },
     "ae4991a3f97c4b409a66d7a43f6482f6": {
      "model_module": "@jupyter-widgets/controls",
      "model_module_version": "1.4.0",
      "model_name": "ButtonStyleModel",
      "state": {}
     },
     "aed8b7420fa54206be1442b4763dc690": {
      "model_module": "@jupyter-widgets/base",
      "model_module_version": "1.1.0",
      "model_name": "LayoutModel",
      "state": {
       "justify_content": "center"
      }
     },
     "af1fcb343972454186f8beff4f717800": {
      "model_module": "@jupyter-widgets/controls",
      "model_module_version": "1.4.0",
      "model_name": "FloatSliderModel",
      "state": {
       "description": "Dose(t)",
       "layout": "IPY_MODEL_534f7d52f58d49919e5fc4cf016e0515",
       "max": 10,
       "min": -10,
       "step": 0.01,
       "style": "IPY_MODEL_9b8c17ba56594b2c80d07aa98e8b2e7e",
       "value": -0.02
      }
     },
     "afa0e9f0efc14446bcd9bac454ec77b8": {
      "model_module": "@jupyter-widgets/controls",
      "model_module_version": "1.4.0",
      "model_name": "ButtonModel",
      "state": {
       "description": "Predict Response(t+1)",
       "layout": "IPY_MODEL_2716394188814ea3bbed14d8fdddb46a",
       "style": "IPY_MODEL_b3c804048f624232b60cf691b2772377"
      }
     },
     "b0a96d9577e34aae986dd904e4c0f3fc": {
      "model_module": "@jupyter-widgets/controls",
      "model_module_version": "1.4.0",
      "model_name": "DescriptionStyleModel",
      "state": {
       "description_width": "initial"
      }
     },
     "b0f6535619c3467b858efc57d7ec31e1": {
      "model_module": "@jupyter-widgets/base",
      "model_module_version": "1.1.0",
      "model_name": "LayoutModel",
      "state": {
       "justify_content": "center"
      }
     },
     "b126f1d3c3f646dbb201f7163312880e": {
      "model_module": "@jupyter-widgets/controls",
      "model_module_version": "1.4.0",
      "model_name": "TextModel",
      "state": {
       "description": "Next Step",
       "layout": "IPY_MODEL_647fea64e9c44ab3b79f19ef3655467f",
       "style": "IPY_MODEL_dc2ec489f1c84662b5d8d2df786afc0b",
       "value": "Predict Response(t+1)  "
      }
     },
     "b1535340cda247bb8b654cd92d3572f9": {
      "model_module": "@jupyter-widgets/base",
      "model_module_version": "1.1.0",
      "model_name": "LayoutModel",
      "state": {
       "justify_content": "center"
      }
     },
     "b153ae626c134e53bdc3384949b42132": {
      "model_module": "@jupyter-widgets/controls",
      "model_module_version": "1.4.0",
      "model_name": "DescriptionStyleModel",
      "state": {
       "description_width": "initial"
      }
     },
     "b199436d11cb4fe293f47852a0a28e7e": {
      "model_module": "@jupyter-widgets/base",
      "model_module_version": "1.1.0",
      "model_name": "LayoutModel",
      "state": {}
     },
     "b30adf773cab45f3bceb9e478909967c": {
      "model_module": "@jupyter-widgets/controls",
      "model_module_version": "1.4.0",
      "model_name": "ButtonStyleModel",
      "state": {}
     },
     "b33631432e254b3982521671ebb0f71e": {
      "model_module": "@jupyter-widgets/base",
      "model_module_version": "1.1.0",
      "model_name": "LayoutModel",
      "state": {
       "width": "95%"
      }
     },
     "b3c804048f624232b60cf691b2772377": {
      "model_module": "@jupyter-widgets/controls",
      "model_module_version": "1.4.0",
      "model_name": "ButtonStyleModel",
      "state": {}
     },
     "b3d7ba76564d488bb4b95b202cdceb96": {
      "model_module": "@jupyter-widgets/controls",
      "model_module_version": "1.4.0",
      "model_name": "SliderStyleModel",
      "state": {
       "description_width": ""
      }
     },
     "b407d493f8a6403283626ae8c2bd3286": {
      "model_module": "@jupyter-widgets/controls",
      "model_module_version": "1.4.0",
      "model_name": "HBoxModel",
      "state": {
       "children": [
        "IPY_MODEL_e57b4b0b43814d4ea5dd237c11f86a9b",
        "IPY_MODEL_c5ad1b19368a40a9b7a6dc8a4bec127a"
       ],
       "layout": "IPY_MODEL_512c11586a13499a8da5092ef221631b"
      }
     },
     "b48170f32c8e4f8ba81197998816d855": {
      "model_module": "@jupyter-widgets/controls",
      "model_module_version": "1.4.0",
      "model_name": "SliderStyleModel",
      "state": {
       "description_width": ""
      }
     },
     "b49940c8eafc44a19a2bc9f84180f4af": {
      "model_module": "@jupyter-widgets/controls",
      "model_module_version": "1.4.0",
      "model_name": "SliderStyleModel",
      "state": {
       "description_width": ""
      }
     },
     "b5a331ab60cf4490b56674b07f5bd1a5": {
      "model_module": "@jupyter-widgets/base",
      "model_module_version": "1.1.0",
      "model_name": "LayoutModel",
      "state": {
       "width": "42%"
      }
     },
     "b82b0955136242ebab3d865c23ba177d": {
      "model_module": "@jupyter-widgets/controls",
      "model_module_version": "1.4.0",
      "model_name": "TextModel",
      "state": {
       "description": "Next Step",
       "layout": "IPY_MODEL_9a10ce8a3edf42e09c210dbcd041ad98",
       "style": "IPY_MODEL_92be209797ac4daab49ca32fc72964d5",
       "value": "Successful Completion"
      }
     },
     "b8839f8119d7447ba267cf5ca1b238c7": {
      "model_module": "@jupyter-widgets/controls",
      "model_module_version": "1.4.0",
      "model_name": "DescriptionStyleModel",
      "state": {
       "description_width": "initial"
      }
     },
     "b89bdd81f4be414a9b03a405b330537a": {
      "model_module": "@jupyter-widgets/controls",
      "model_module_version": "1.4.0",
      "model_name": "TextModel",
      "state": {
       "description": "Response(t+1) ",
       "disabled": true,
       "layout": "IPY_MODEL_1a47e945434342459c45e3e7f781702a",
       "style": "IPY_MODEL_a5862f14248748a6b3129e69d21bb782",
       "value": "4.38 (is less than 4.75)"
      }
     },
     "b9169c4237734f928f4b01df729c2263": {
      "model_module": "@jupyter-widgets/base",
      "model_module_version": "1.1.0",
      "model_name": "LayoutModel",
      "state": {
       "justify_content": "center"
      }
     },
     "b9d245834f844b9197c8af9fce241d6e": {
      "model_module": "@jupyter-widgets/controls",
      "model_module_version": "1.4.0",
      "model_name": "ButtonStyleModel",
      "state": {}
     },
     "ba10668f0cca4e968f5abf40a4bce4ab": {
      "model_module": "@jupyter-widgets/controls",
      "model_module_version": "1.4.0",
      "model_name": "FloatSliderModel",
      "state": {
       "description": "Dose(t)",
       "layout": "IPY_MODEL_54d98e77d9c140f5b6f6a26ddb404a10",
       "max": 10,
       "min": -10,
       "step": 0.01,
       "style": "IPY_MODEL_e7cb3188eba845d6b930949a2ea108f9",
       "value": 1.04
      }
     },
     "ba3f192f144d494d8cf8685c7bfdd3d5": {
      "model_module": "@jupyter-widgets/controls",
      "model_module_version": "1.4.0",
      "model_name": "ButtonModel",
      "state": {
       "description": "Predict Response(t+1)",
       "disabled": true,
       "layout": "IPY_MODEL_96180a94fd71457685cda1c7610b72b0",
       "style": "IPY_MODEL_3edcee2a091d41558d85ec886821438e"
      }
     },
     "bb78fe4891034bb1a307cb33083a20df": {
      "model_module": "@jupyter-widgets/controls",
      "model_module_version": "1.4.0",
      "model_name": "DescriptionStyleModel",
      "state": {
       "description_width": "initial"
      }
     },
     "bc0d560476494f5ea7915bd65bcd0ff4": {
      "model_module": "@jupyter-widgets/controls",
      "model_module_version": "1.4.0",
      "model_name": "ButtonModel",
      "state": {
       "description": "Administer Dose(t)",
       "disabled": true,
       "layout": "IPY_MODEL_9733158a322c4ce0b20a511d81d434b0",
       "style": "IPY_MODEL_d8e694fccb434b56bb2365033e2e333d"
      }
     },
     "bc77b2a7fca5429cbfe7763d03d494f6": {
      "model_module": "@jupyter-widgets/base",
      "model_module_version": "1.1.0",
      "model_name": "LayoutModel",
      "state": {
       "width": "42%"
      }
     },
     "bcc08810be054f8ab0faad4b087a7687": {
      "model_module": "@jupyter-widgets/controls",
      "model_module_version": "1.4.0",
      "model_name": "FloatSliderModel",
      "state": {
       "description": "Dose(t)",
       "layout": "IPY_MODEL_c722681d45e7480ea8e7f419988ddcb0",
       "max": 10,
       "min": -10,
       "step": 0.01,
       "style": "IPY_MODEL_b49940c8eafc44a19a2bc9f84180f4af"
      }
     },
     "bd6ee27849ac42cc82371d07c9d643b6": {
      "model_module": "@jupyter-widgets/base",
      "model_module_version": "1.1.0",
      "model_name": "LayoutModel",
      "state": {
       "width": "42%"
      }
     },
     "bdd397f1d4f94f63bd3c8511f418507a": {
      "model_module": "@jupyter-widgets/controls",
      "model_module_version": "1.4.0",
      "model_name": "HBoxModel",
      "state": {
       "children": [
        "IPY_MODEL_f6efb67db12b449f9b85a3ac8317cb90",
        "IPY_MODEL_fa6b40bfe0624a729e0fc851bfde3e58"
       ],
       "layout": "IPY_MODEL_82345ea948da42b8b508a23e4573a274"
      }
     },
     "be7dc910d9af4362a45a33bce49a440a": {
      "model_module": "@jupyter-widgets/controls",
      "model_module_version": "1.4.0",
      "model_name": "SliderStyleModel",
      "state": {
       "description_width": ""
      }
     },
     "be8303ca437c442292c37b189157c7c3": {
      "model_module": "@jupyter-widgets/controls",
      "model_module_version": "1.4.0",
      "model_name": "ButtonStyleModel",
      "state": {}
     },
     "bf119b7a4ee3413b81befc84cc60e6de": {
      "model_module": "@jupyter-widgets/controls",
      "model_module_version": "1.4.0",
      "model_name": "ButtonStyleModel",
      "state": {}
     },
     "bf1f45788122417cab38ab8765e3b191": {
      "model_module": "@jupyter-widgets/base",
      "model_module_version": "1.1.0",
      "model_name": "LayoutModel",
      "state": {
       "justify_content": "center"
      }
     },
     "bf292bfde1c34c428f3c60aceeeff9b1": {
      "model_module": "@jupyter-widgets/controls",
      "model_module_version": "1.4.0",
      "model_name": "FloatSliderModel",
      "state": {
       "description": "Dose(t)",
       "layout": "IPY_MODEL_ff4921d97d2949d39ce4b7bcdccefcc2",
       "max": 10,
       "min": -10,
       "step": 0.01,
       "style": "IPY_MODEL_f2a92d82c8334bcb864139d5a208dc88"
      }
     },
     "bfa30f6911a244728098ad1df15ad6ed": {
      "model_module": "@jupyter-widgets/controls",
      "model_module_version": "1.4.0",
      "model_name": "ButtonStyleModel",
      "state": {}
     },
     "c010b7152eeb4945894a5c0b4aa8d0e4": {
      "model_module": "@jupyter-widgets/controls",
      "model_module_version": "1.4.0",
      "model_name": "DescriptionStyleModel",
      "state": {
       "description_width": ""
      }
     },
     "c05135e09e3a45898b8d4a1bd300229b": {
      "model_module": "@jupyter-widgets/controls",
      "model_module_version": "1.4.0",
      "model_name": "HBoxModel",
      "state": {
       "children": [
        "IPY_MODEL_5aecb214e170443ab358419d1f491850",
        "IPY_MODEL_b126f1d3c3f646dbb201f7163312880e"
       ],
       "layout": "IPY_MODEL_ebbd31decb4f41d5ac01ed2b8b2d4db4"
      }
     },
     "c13022f87e324dec821d8b1e97b2a874": {
      "model_module": "@jupyter-widgets/controls",
      "model_module_version": "1.4.0",
      "model_name": "HBoxModel",
      "state": {
       "children": [
        "IPY_MODEL_ac15b6a006cd4d0eabfd08e5214b3a34",
        "IPY_MODEL_86c3aacaf2d14ae299204a37f3937072"
       ],
       "layout": "IPY_MODEL_bf1f45788122417cab38ab8765e3b191"
      }
     },
     "c1be487cd0884ceb962a5afadfb02e64": {
      "model_module": "@jupyter-widgets/base",
      "model_module_version": "1.1.0",
      "model_name": "LayoutModel",
      "state": {
       "justify_content": "center"
      }
     },
     "c2a423067a3041e38c191180138701a5": {
      "model_module": "@jupyter-widgets/controls",
      "model_module_version": "1.4.0",
      "model_name": "ButtonStyleModel",
      "state": {}
     },
     "c3a47741b9514d08a7252cf62de1f243": {
      "model_module": "@jupyter-widgets/controls",
      "model_module_version": "1.4.0",
      "model_name": "DescriptionStyleModel",
      "state": {
       "description_width": "initial"
      }
     },
     "c4185a4c21b54d7a9d896832eee1f16f": {
      "model_module": "@jupyter-widgets/base",
      "model_module_version": "1.1.0",
      "model_name": "LayoutModel",
      "state": {}
     },
     "c4e9ea7f188843f09240fe0a0b204a8d": {
      "model_module": "@jupyter-widgets/controls",
      "model_module_version": "1.4.0",
      "model_name": "DescriptionStyleModel",
      "state": {
       "description_width": ""
      }
     },
     "c4ff340510a644bda9997d29b5d9f3b4": {
      "model_module": "@jupyter-widgets/base",
      "model_module_version": "1.1.0",
      "model_name": "LayoutModel",
      "state": {
       "width": "42%"
      }
     },
     "c50c5c21c634449697f9cc7737cbd95b": {
      "model_module": "@jupyter-widgets/controls",
      "model_module_version": "1.4.0",
      "model_name": "SliderStyleModel",
      "state": {
       "description_width": ""
      }
     },
     "c5ad1b19368a40a9b7a6dc8a4bec127a": {
      "model_module": "@jupyter-widgets/controls",
      "model_module_version": "1.4.0",
      "model_name": "TextModel",
      "state": {
       "description": "Next Step",
       "layout": "IPY_MODEL_7d3bebcabf1741e88ab4d3d7427a6a60",
       "style": "IPY_MODEL_7f1ff7db9ca643d593fdb3e936891dc9",
       "value": "Predict Response(t+1)"
      }
     },
     "c705598275c24ce8be5d3d17085c94aa": {
      "model_module": "@jupyter-widgets/base",
      "model_module_version": "1.1.0",
      "model_name": "LayoutModel",
      "state": {
       "width": "42%"
      }
     },
     "c722681d45e7480ea8e7f419988ddcb0": {
      "model_module": "@jupyter-widgets/base",
      "model_module_version": "1.1.0",
      "model_name": "LayoutModel",
      "state": {
       "width": "95%"
      }
     },
     "c76df793ddd94063854fa78fd8a6782a": {
      "model_module": "@jupyter-widgets/controls",
      "model_module_version": "1.4.0",
      "model_name": "ButtonModel",
      "state": {
       "description": "Administer Dose(t)",
       "disabled": true,
       "layout": "IPY_MODEL_298f656de276460bb188b6afb865c608",
       "style": "IPY_MODEL_018564d47e714fae97acedb9d928c7c1"
      }
     },
     "c7f4ac54e5384278a6891dd179d933c1": {
      "model_module": "@jupyter-widgets/base",
      "model_module_version": "1.1.0",
      "model_name": "LayoutModel",
      "state": {
       "justify_content": "center"
      }
     },
     "c81b7d4431b04b519083327f7c72983a": {
      "model_module": "@jupyter-widgets/controls",
      "model_module_version": "1.4.0",
      "model_name": "HBoxModel",
      "state": {
       "children": [
        "IPY_MODEL_8bc15e85f60943d2aae9e62dcf445c3f",
        "IPY_MODEL_91b55d0b46fe4346890de69c28d807f7"
       ],
       "layout": "IPY_MODEL_19a11e2a031d4fe184ee96c41a51c21b"
      }
     },
     "c82d6355ac524ebeb0a03bf645e841f5": {
      "model_module": "@jupyter-widgets/controls",
      "model_module_version": "1.4.0",
      "model_name": "ButtonModel",
      "state": {
       "description": "Administer Dose(t)",
       "disabled": true,
       "layout": "IPY_MODEL_a1de5863f2fc460d9cfffa417c70b79c",
       "style": "IPY_MODEL_e0524d8df0514ec1a2988c326ba61e73"
      }
     },
     "c8b7c46ea4ca42ba901cde11629f9cba": {
      "model_module": "@jupyter-widgets/controls",
      "model_module_version": "1.4.0",
      "model_name": "FloatSliderModel",
      "state": {
       "description": "Dose(t)",
       "layout": "IPY_MODEL_777ad53eb4214d3f983b387a974785c2",
       "max": 10,
       "min": -10,
       "step": 0.01,
       "style": "IPY_MODEL_d16f3954aba24bcc8c0abbd483b2cdd1",
       "value": 1.82
      }
     },
     "c9f60bd9b782468e88953ee0a09bdb23": {
      "model_module": "@jupyter-widgets/base",
      "model_module_version": "1.1.0",
      "model_name": "LayoutModel",
      "state": {}
     },
     "cb7b5d25b87d4cd1b7c51c144b0a0dfc": {
      "model_module": "@jupyter-widgets/controls",
      "model_module_version": "1.4.0",
      "model_name": "HBoxModel",
      "state": {
       "children": [
        "IPY_MODEL_dd045d627d8d42c6aa9a49d93045355d",
        "IPY_MODEL_d6b8fb86bf2e4062b08872f8ae62b67e"
       ],
       "layout": "IPY_MODEL_e5c7f8e0008b4867ae563b23ef9d2cd3"
      }
     },
     "cbc46f25282c4cd2a6adca13fc027f2d": {
      "model_module": "@jupyter-widgets/controls",
      "model_module_version": "1.4.0",
      "model_name": "DescriptionStyleModel",
      "state": {
       "description_width": ""
      }
     },
     "cbd9c89c22a8451a88de5437adcff7d6": {
      "model_module": "@jupyter-widgets/base",
      "model_module_version": "1.1.0",
      "model_name": "LayoutModel",
      "state": {
       "justify_content": "center"
      }
     },
     "cca17439827f401cb6a180d558236355": {
      "model_module": "@jupyter-widgets/base",
      "model_module_version": "1.1.0",
      "model_name": "LayoutModel",
      "state": {
       "width": "95%"
      }
     },
     "ced14abc2e25447084a68fe4d9a28404": {
      "model_module": "@jupyter-widgets/controls",
      "model_module_version": "1.4.0",
      "model_name": "FloatSliderModel",
      "state": {
       "description": "Dose(t)",
       "layout": "IPY_MODEL_eeb83e17c5b24aef92d85d312985671d",
       "max": 10,
       "min": -10,
       "step": 0.01,
       "style": "IPY_MODEL_7020576863994636beec0099d71909be"
      }
     },
     "cf05fc96408b43f9bdc0c453ea6864cf": {
      "model_module": "@jupyter-widgets/controls",
      "model_module_version": "1.4.0",
      "model_name": "TextModel",
      "state": {
       "description": "Response(t+1) ",
       "disabled": true,
       "layout": "IPY_MODEL_0e92d5e6c94c43edaaca337b1ff7fb72",
       "style": "IPY_MODEL_e16cd7a1bbb34e9e8efa699e5de0a4a0",
       "value": "5.05 (in range)"
      }
     },
     "cf9d9733500545eb9abfa640630c9855": {
      "model_module": "@jupyter-widgets/controls",
      "model_module_version": "1.4.0",
      "model_name": "ButtonStyleModel",
      "state": {}
     },
     "cfa568b240574db49b63f8a8ee2e9fd9": {
      "model_module": "@jupyter-widgets/controls",
      "model_module_version": "1.4.0",
      "model_name": "ButtonStyleModel",
      "state": {}
     },
     "cfad5f40eb6f46cd8b3581b426a7ae98": {
      "model_module": "@jupyter-widgets/base",
      "model_module_version": "1.1.0",
      "model_name": "LayoutModel",
      "state": {
       "width": "42%"
      }
     },
     "d005af7968254de89a6df51708ebb703": {
      "model_module": "@jupyter-widgets/controls",
      "model_module_version": "1.4.0",
      "model_name": "TextModel",
      "state": {
       "description": "Response(t+1) ",
       "disabled": true,
       "layout": "IPY_MODEL_b199436d11cb4fe293f47852a0a28e7e",
       "style": "IPY_MODEL_b8839f8119d7447ba267cf5ca1b238c7",
       "value": "  "
      }
     },
     "d036e8573f03408da42d8d5534c250ae": {
      "model_module": "@jupyter-widgets/controls",
      "model_module_version": "1.4.0",
      "model_name": "ButtonModel",
      "state": {
       "description": "Predict Response(t+1)",
       "layout": "IPY_MODEL_e2b66103361443278160b338941a31ac",
       "style": "IPY_MODEL_8ffea09a11154986b0e8f0626a62f963"
      }
     },
     "d16f3954aba24bcc8c0abbd483b2cdd1": {
      "model_module": "@jupyter-widgets/controls",
      "model_module_version": "1.4.0",
      "model_name": "SliderStyleModel",
      "state": {
       "description_width": ""
      }
     },
     "d215c5126a5d4ca1b8842dcb98780736": {
      "model_module": "@jupyter-widgets/controls",
      "model_module_version": "1.4.0",
      "model_name": "DescriptionStyleModel",
      "state": {
       "description_width": ""
      }
     },
     "d2a23063baf84feb87593f04fab42cd6": {
      "model_module": "@jupyter-widgets/controls",
      "model_module_version": "1.4.0",
      "model_name": "DescriptionStyleModel",
      "state": {
       "description_width": ""
      }
     },
     "d2ceb75c9b5b48019b164fad36b635f8": {
      "model_module": "@jupyter-widgets/controls",
      "model_module_version": "1.4.0",
      "model_name": "DescriptionStyleModel",
      "state": {
       "description_width": ""
      }
     },
     "d324909275244320a0e33d79e7d2a6cc": {
      "model_module": "@jupyter-widgets/controls",
      "model_module_version": "1.4.0",
      "model_name": "TextModel",
      "state": {
       "description": "Next Step",
       "layout": "IPY_MODEL_eedc2dd3da054ed9aaae0aff4cdef6c7",
       "style": "IPY_MODEL_f25417ba13c94a02a4022133e14fcf59",
       "value": "Predict Response(t+1)  "
      }
     },
     "d454d30a4e5c4ff0b6cbf34a98a6ccf0": {
      "model_module": "@jupyter-widgets/base",
      "model_module_version": "1.1.0",
      "model_name": "LayoutModel",
      "state": {
       "width": "42%"
      }
     },
     "d54fc47a08544f10abf9e225e368b838": {
      "model_module": "@jupyter-widgets/controls",
      "model_module_version": "1.4.0",
      "model_name": "ButtonModel",
      "state": {
       "description": "Predict Response(t+1)",
       "layout": "IPY_MODEL_1b217daf35ea4786b9473ceb6aa5029e",
       "style": "IPY_MODEL_d59adde3b1ea4376ba66fb0412c6732b"
      }
     },
     "d580c39264154a45846367f9dd1427e5": {
      "model_module": "@jupyter-widgets/controls",
      "model_module_version": "1.4.0",
      "model_name": "ButtonStyleModel",
      "state": {}
     },
     "d59adde3b1ea4376ba66fb0412c6732b": {
      "model_module": "@jupyter-widgets/controls",
      "model_module_version": "1.4.0",
      "model_name": "ButtonStyleModel",
      "state": {}
     },
     "d5ff24484bf84cb9982bd7306fe6d6cb": {
      "model_module": "@jupyter-widgets/controls",
      "model_module_version": "1.4.0",
      "model_name": "DescriptionStyleModel",
      "state": {
       "description_width": ""
      }
     },
     "d616136558ae4e9aa6d12fe0940b57cb": {
      "model_module": "@jupyter-widgets/controls",
      "model_module_version": "1.4.0",
      "model_name": "DescriptionStyleModel",
      "state": {
       "description_width": ""
      }
     },
     "d637afc52a734c92835ee07e873e1e42": {
      "model_module": "@jupyter-widgets/controls",
      "model_module_version": "1.4.0",
      "model_name": "TextModel",
      "state": {
       "description": "Next Step",
       "layout": "IPY_MODEL_06f90905bbcc444d9a9733d0651ddbf4",
       "style": "IPY_MODEL_37d1111072bd43b2b3bceac7c6626425",
       "value": "Predict Response(t+1)"
      }
     },
     "d6b8fb86bf2e4062b08872f8ae62b67e": {
      "model_module": "@jupyter-widgets/controls",
      "model_module_version": "1.4.0",
      "model_name": "ButtonModel",
      "state": {
       "description": "Administer Dose(t)",
       "disabled": true,
       "layout": "IPY_MODEL_54c201460cf348b2af29a887ff5d5b6a",
       "style": "IPY_MODEL_4a12501fe2a446d98d0fb2daf361337d"
      }
     },
     "d7326285cbd4420f82951e220971ae4c": {
      "model_module": "@jupyter-widgets/base",
      "model_module_version": "1.1.0",
      "model_name": "LayoutModel",
      "state": {
       "width": "95%"
      }
     },
     "d79d6b51676646479cc54b29f81ed220": {
      "model_module": "@jupyter-widgets/controls",
      "model_module_version": "1.4.0",
      "model_name": "HBoxModel",
      "state": {
       "children": [
        "IPY_MODEL_5d64cca9cbac40368c53256f44d88a84",
        "IPY_MODEL_e4bd65f6336b48cd85c6451587c84e96"
       ],
       "layout": "IPY_MODEL_86fa0b711d1b48eca3bc09dbfd68b165"
      }
     },
     "d8a1f05178cc4f789b89c399f8333eae": {
      "model_module": "@jupyter-widgets/base",
      "model_module_version": "1.1.0",
      "model_name": "LayoutModel",
      "state": {
       "width": "42%"
      }
     },
     "d8e694fccb434b56bb2365033e2e333d": {
      "model_module": "@jupyter-widgets/controls",
      "model_module_version": "1.4.0",
      "model_name": "ButtonStyleModel",
      "state": {}
     },
     "db2002292ad341c39f6d92d722cd6d92": {
      "model_module": "@jupyter-widgets/base",
      "model_module_version": "1.1.0",
      "model_name": "LayoutModel",
      "state": {
       "justify_content": "center"
      }
     },
     "db4cd92d244f4f808fd48776383936c2": {
      "model_module": "@jupyter-widgets/controls",
      "model_module_version": "1.4.0",
      "model_name": "FloatSliderModel",
      "state": {
       "description": "Dose(t)",
       "layout": "IPY_MODEL_798aa3d13aa042c58593d5e3625a7618",
       "max": 10,
       "min": -10,
       "step": 0.01,
       "style": "IPY_MODEL_8403c3de47214b1fbd79269b591b040f"
      }
     },
     "db74bbd50e3b4fbd80c77406ae6f8a7a": {
      "model_module": "@jupyter-widgets/base",
      "model_module_version": "1.1.0",
      "model_name": "LayoutModel",
      "state": {
       "width": "95%"
      }
     },
     "dc2ec489f1c84662b5d8d2df786afc0b": {
      "model_module": "@jupyter-widgets/controls",
      "model_module_version": "1.4.0",
      "model_name": "DescriptionStyleModel",
      "state": {
       "description_width": ""
      }
     },
     "dc4c397a5fdf4120a27b682cb60dad39": {
      "model_module": "@jupyter-widgets/controls",
      "model_module_version": "1.4.0",
      "model_name": "HBoxModel",
      "state": {
       "children": [
        "IPY_MODEL_78a83f61572f49ed9bc6db590bdf5ad4",
        "IPY_MODEL_2ca12a6601e44c4ba1b0259243f20316"
       ],
       "layout": "IPY_MODEL_386346217bc54b6a8c8ddb9199f0d2cf"
      }
     },
     "dc5261a3b751455a94c0474cc90a5aa3": {
      "model_module": "@jupyter-widgets/controls",
      "model_module_version": "1.4.0",
      "model_name": "TextModel",
      "state": {
       "description": "Response(t+1) ",
       "disabled": true,
       "layout": "IPY_MODEL_e9c2594e525d4beea2db551aa430c0d0",
       "style": "IPY_MODEL_4e1fde5ca2574b09a115ea511786a24c",
       "value": "1.03 (is less than 4.75)"
      }
     },
     "dc9eb6c483284476ab618ac77a505a4d": {
      "model_module": "@jupyter-widgets/controls",
      "model_module_version": "1.4.0",
      "model_name": "ButtonStyleModel",
      "state": {}
     },
     "dd045d627d8d42c6aa9a49d93045355d": {
      "model_module": "@jupyter-widgets/controls",
      "model_module_version": "1.4.0",
      "model_name": "ButtonModel",
      "state": {
       "description": "Predict Response(t+1)",
       "disabled": true,
       "layout": "IPY_MODEL_095ef3225d28434386964a06b6904a35",
       "style": "IPY_MODEL_dc9eb6c483284476ab618ac77a505a4d"
      }
     },
     "dd7567db20394b5792e72c8ccd004b06": {
      "model_module": "@jupyter-widgets/base",
      "model_module_version": "1.1.0",
      "model_name": "LayoutModel",
      "state": {
       "width": "95%"
      }
     },
     "dd8fa56ff0724f18a2d9cab6f0ec028c": {
      "model_module": "@jupyter-widgets/controls",
      "model_module_version": "1.4.0",
      "model_name": "TextModel",
      "state": {
       "description": "Next Step",
       "layout": "IPY_MODEL_13bbdc383efb4b10ad3423c4810ebb8a",
       "style": "IPY_MODEL_8b42b9464f80490a9212e743ad1ad58a",
       "value": "Predict Response(t+1)"
      }
     },
     "de73b20eb9e745948932872543e94e54": {
      "model_module": "@jupyter-widgets/base",
      "model_module_version": "1.1.0",
      "model_name": "LayoutModel",
      "state": {
       "width": "42%"
      }
     },
     "de7b37a5013b47538e8b9bdb0d6f7ea0": {
      "model_module": "@jupyter-widgets/base",
      "model_module_version": "1.1.0",
      "model_name": "LayoutModel",
      "state": {
       "justify_content": "center"
      }
     },
     "e0524d8df0514ec1a2988c326ba61e73": {
      "model_module": "@jupyter-widgets/controls",
      "model_module_version": "1.4.0",
      "model_name": "ButtonStyleModel",
      "state": {}
     },
     "e07582650c69463b989f24140848fce9": {
      "model_module": "@jupyter-widgets/base",
      "model_module_version": "1.1.0",
      "model_name": "LayoutModel",
      "state": {
       "width": "42%"
      }
     },
     "e0bc5b356d764123a236b9b94c7fdcfc": {
      "model_module": "@jupyter-widgets/base",
      "model_module_version": "1.1.0",
      "model_name": "LayoutModel",
      "state": {}
     },
     "e1066b07ce154f1aa63b1830b9e1d972": {
      "model_module": "@jupyter-widgets/base",
      "model_module_version": "1.1.0",
      "model_name": "LayoutModel",
      "state": {}
     },
     "e16cd7a1bbb34e9e8efa699e5de0a4a0": {
      "model_module": "@jupyter-widgets/controls",
      "model_module_version": "1.4.0",
      "model_name": "DescriptionStyleModel",
      "state": {
       "description_width": "initial"
      }
     },
     "e1988a5aa4dc4bc2a507e12e6beb3a31": {
      "model_module": "@jupyter-widgets/controls",
      "model_module_version": "1.4.0",
      "model_name": "ButtonModel",
      "state": {
       "description": "Administer Dose(t)",
       "disabled": true,
       "layout": "IPY_MODEL_bc77b2a7fca5429cbfe7763d03d494f6",
       "style": "IPY_MODEL_97012c8f2c76466aa94b3365fbeffb7f"
      }
     },
     "e2b66103361443278160b338941a31ac": {
      "model_module": "@jupyter-widgets/base",
      "model_module_version": "1.1.0",
      "model_name": "LayoutModel",
      "state": {
       "width": "42%"
      }
     },
     "e333dd4c32264784873156309ad57cdd": {
      "model_module": "@jupyter-widgets/controls",
      "model_module_version": "1.4.0",
      "model_name": "ButtonModel",
      "state": {
       "description": "Administer Dose(t)",
       "disabled": true,
       "layout": "IPY_MODEL_4ac0edac95fa4ddc957eeb4bca8fa1f4",
       "style": "IPY_MODEL_26a812405eea4253a93b39eefb7b86e9"
      }
     },
     "e3620dccb9144eb681a161f8e357b5ac": {
      "model_module": "@jupyter-widgets/controls",
      "model_module_version": "1.4.0",
      "model_name": "FloatSliderModel",
      "state": {
       "description": "Dose(t)",
       "layout": "IPY_MODEL_936a663750bc43788789e099b30648f3",
       "max": 10,
       "min": -10,
       "step": 0.01,
       "style": "IPY_MODEL_7bf91f7803bb4378b74c0f83f9d73ead"
      }
     },
     "e4b040841521454bae2f6ef5f4bdedaa": {
      "model_module": "@jupyter-widgets/base",
      "model_module_version": "1.1.0",
      "model_name": "LayoutModel",
      "state": {
       "justify_content": "center"
      }
     },
     "e4bd65f6336b48cd85c6451587c84e96": {
      "model_module": "@jupyter-widgets/controls",
      "model_module_version": "1.4.0",
      "model_name": "TextModel",
      "state": {
       "description": "Next Step",
       "layout": "IPY_MODEL_107b293ba32b4e1fb176a8f3cb3854b4",
       "style": "IPY_MODEL_f499c034223e46168c0421ea8d85d83c",
       "value": "Predict Response(t+1)  "
      }
     },
     "e57b4b0b43814d4ea5dd237c11f86a9b": {
      "model_module": "@jupyter-widgets/controls",
      "model_module_version": "1.4.0",
      "model_name": "TextModel",
      "state": {
       "description": "Response(t+1) ",
       "disabled": true,
       "layout": "IPY_MODEL_74211fd2a17243e290eafe7a0be9d4ee",
       "style": "IPY_MODEL_631a2ad58acb4443a17d0e22f5ecd50b",
       "value": "5.10"
      }
     },
     "e5c7f8e0008b4867ae563b23ef9d2cd3": {
      "model_module": "@jupyter-widgets/base",
      "model_module_version": "1.1.0",
      "model_name": "LayoutModel",
      "state": {
       "justify_content": "center"
      }
     },
     "e65f57983e69411ab0b0befc7274a185": {
      "model_module": "@jupyter-widgets/base",
      "model_module_version": "1.1.0",
      "model_name": "LayoutModel",
      "state": {
       "justify_content": "center"
      }
     },
     "e7cb3188eba845d6b930949a2ea108f9": {
      "model_module": "@jupyter-widgets/controls",
      "model_module_version": "1.4.0",
      "model_name": "SliderStyleModel",
      "state": {
       "description_width": ""
      }
     },
     "e7dffd1db6c444158be5e3b52a09b880": {
      "model_module": "@jupyter-widgets/controls",
      "model_module_version": "1.4.0",
      "model_name": "SliderStyleModel",
      "state": {
       "description_width": ""
      }
     },
     "e82ec4c293a0420586df3c59390abade": {
      "model_module": "@jupyter-widgets/base",
      "model_module_version": "1.1.0",
      "model_name": "LayoutModel",
      "state": {
       "width": "42%"
      }
     },
     "e8599bd2a44349adb56784521e651176": {
      "model_module": "@jupyter-widgets/base",
      "model_module_version": "1.1.0",
      "model_name": "LayoutModel",
      "state": {
       "justify_content": "center"
      }
     },
     "e8d2bfa31b2345d9b6770adc27d9e13b": {
      "model_module": "@jupyter-widgets/controls",
      "model_module_version": "1.4.0",
      "model_name": "TextModel",
      "state": {
       "description": "Response(t+1) ",
       "disabled": true,
       "layout": "IPY_MODEL_49993292fef14d3b87f61e4c57a29f80",
       "style": "IPY_MODEL_0b15758c582e40ca8d5fed687c2d7cc5",
       "value": "4.86"
      }
     },
     "e94177a434e8442789604220fb18a082": {
      "model_module": "@jupyter-widgets/controls",
      "model_module_version": "1.4.0",
      "model_name": "HBoxModel",
      "state": {
       "children": [
        "IPY_MODEL_23e43d5663aa45b1837a11cc6423dc86",
        "IPY_MODEL_e333dd4c32264784873156309ad57cdd"
       ],
       "layout": "IPY_MODEL_cbd9c89c22a8451a88de5437adcff7d6"
      }
     },
     "e9be4db836854a2c95881e3bb59cf768": {
      "model_module": "@jupyter-widgets/controls",
      "model_module_version": "1.4.0",
      "model_name": "TextModel",
      "state": {
       "description": "Response(t+1) ",
       "disabled": true,
       "layout": "IPY_MODEL_e0bc5b356d764123a236b9b94c7fdcfc",
       "style": "IPY_MODEL_26d39e3bcfc7405bbc3070fe887e5b5f",
       "value": "  "
      }
     },
     "e9c2594e525d4beea2db551aa430c0d0": {
      "model_module": "@jupyter-widgets/base",
      "model_module_version": "1.1.0",
      "model_name": "LayoutModel",
      "state": {}
     },
     "eb9c5f8672ff4fd18894ebc109c60eda": {
      "model_module": "@jupyter-widgets/controls",
      "model_module_version": "1.4.0",
      "model_name": "ButtonStyleModel",
      "state": {}
     },
     "ebbd31decb4f41d5ac01ed2b8b2d4db4": {
      "model_module": "@jupyter-widgets/base",
      "model_module_version": "1.1.0",
      "model_name": "LayoutModel",
      "state": {
       "justify_content": "center"
      }
     },
     "ec9df7e530724051940284c941efcb38": {
      "model_module": "@jupyter-widgets/controls",
      "model_module_version": "1.4.0",
      "model_name": "FloatSliderModel",
      "state": {
       "description": "Dose(t)",
       "layout": "IPY_MODEL_db74bbd50e3b4fbd80c77406ae6f8a7a",
       "max": 10,
       "min": -10,
       "step": 0.01,
       "style": "IPY_MODEL_a404032a9c734265aae3d53cc25c12e8"
      }
     },
     "ecb7076df28b45d99581b461934ba6d1": {
      "model_module": "@jupyter-widgets/base",
      "model_module_version": "1.1.0",
      "model_name": "LayoutModel",
      "state": {
       "justify_content": "center"
      }
     },
     "ecd25eb8614e41a3ae67fd172fe5f7d5": {
      "model_module": "@jupyter-widgets/controls",
      "model_module_version": "1.4.0",
      "model_name": "HBoxModel",
      "state": {
       "children": [
        "IPY_MODEL_dc5261a3b751455a94c0474cc90a5aa3",
        "IPY_MODEL_4b04162859d44f3d86b766bf43864f2f"
       ],
       "layout": "IPY_MODEL_f3e6f53a8a4846e79d6ec97fdc0c237c"
      }
     },
     "ed926edff44148998459525d56b5c9d4": {
      "model_module": "@jupyter-widgets/base",
      "model_module_version": "1.1.0",
      "model_name": "LayoutModel",
      "state": {
       "justify_content": "center"
      }
     },
     "ed9cbe41ffa64544a995f86234da6a73": {
      "model_module": "@jupyter-widgets/base",
      "model_module_version": "1.1.0",
      "model_name": "LayoutModel",
      "state": {
       "width": "95%"
      }
     },
     "edb82dc7e54b442f932c1af931fdffb4": {
      "model_module": "@jupyter-widgets/controls",
      "model_module_version": "1.4.0",
      "model_name": "ButtonModel",
      "state": {
       "description": "Predict Response(t+1)",
       "layout": "IPY_MODEL_83864197013c422ea3576d42305a9a2c",
       "style": "IPY_MODEL_c2a423067a3041e38c191180138701a5"
      }
     },
     "eeb1628dd7da420cbe963780cff3422c": {
      "model_module": "@jupyter-widgets/controls",
      "model_module_version": "1.4.0",
      "model_name": "HBoxModel",
      "state": {
       "children": [
        "IPY_MODEL_8c503910604a49958886fac0251b7d51",
        "IPY_MODEL_4a34fcebf76848b2b0b6b45911141f6a"
       ],
       "layout": "IPY_MODEL_326eaa7843094062aaa5a5676815ddfd"
      }
     },
     "eeb83e17c5b24aef92d85d312985671d": {
      "model_module": "@jupyter-widgets/base",
      "model_module_version": "1.1.0",
      "model_name": "LayoutModel",
      "state": {
       "width": "95%"
      }
     },
     "eedc2dd3da054ed9aaae0aff4cdef6c7": {
      "model_module": "@jupyter-widgets/base",
      "model_module_version": "1.1.0",
      "model_name": "LayoutModel",
      "state": {}
     },
     "eff92387c36f4c4b8cca66708946cf10": {
      "model_module": "@jupyter-widgets/base",
      "model_module_version": "1.1.0",
      "model_name": "LayoutModel",
      "state": {}
     },
     "f0c43677ea4549aba70f2d22700ed501": {
      "model_module": "@jupyter-widgets/base",
      "model_module_version": "1.1.0",
      "model_name": "LayoutModel",
      "state": {
       "width": "95%"
      }
     },
     "f10c70a716f9455c917522757d882483": {
      "model_module": "@jupyter-widgets/controls",
      "model_module_version": "1.4.0",
      "model_name": "ButtonStyleModel",
      "state": {}
     },
     "f210065ef4614d908a8d58a418030e3d": {
      "model_module": "@jupyter-widgets/controls",
      "model_module_version": "1.4.0",
      "model_name": "ButtonStyleModel",
      "state": {}
     },
     "f25417ba13c94a02a4022133e14fcf59": {
      "model_module": "@jupyter-widgets/controls",
      "model_module_version": "1.4.0",
      "model_name": "DescriptionStyleModel",
      "state": {
       "description_width": ""
      }
     },
     "f2a92d82c8334bcb864139d5a208dc88": {
      "model_module": "@jupyter-widgets/controls",
      "model_module_version": "1.4.0",
      "model_name": "SliderStyleModel",
      "state": {
       "description_width": ""
      }
     },
     "f2f09903188a48d6ac121316a6f6ef94": {
      "model_module": "@jupyter-widgets/controls",
      "model_module_version": "1.4.0",
      "model_name": "TextModel",
      "state": {
       "description": "Response(t+1) ",
       "disabled": true,
       "layout": "IPY_MODEL_1fa8a91257e040bab72bdfa0a25341e5",
       "style": "IPY_MODEL_6c8e0ebb921041c1bf653b76f80104ff",
       "value": "  "
      }
     },
     "f35c730f044b47d2a2634f4c6abd2191": {
      "model_module": "@jupyter-widgets/controls",
      "model_module_version": "1.4.0",
      "model_name": "TextModel",
      "state": {
       "description": "Next Step",
       "layout": "IPY_MODEL_941823acf8ef46928c5438b430a3a8f4",
       "style": "IPY_MODEL_968f7d4a292b49a8b6db3c7cea2bbfdf",
       "value": "Predict Response(t+1)  "
      }
     },
     "f38acae4f32d4ee9a1344e90b97aca43": {
      "model_module": "@jupyter-widgets/base",
      "model_module_version": "1.1.0",
      "model_name": "LayoutModel",
      "state": {}
     },
     "f3b0b79639bc4b69b2105cd51ba8ed4a": {
      "model_module": "@jupyter-widgets/base",
      "model_module_version": "1.1.0",
      "model_name": "LayoutModel",
      "state": {}
     },
     "f3e6f53a8a4846e79d6ec97fdc0c237c": {
      "model_module": "@jupyter-widgets/base",
      "model_module_version": "1.1.0",
      "model_name": "LayoutModel",
      "state": {
       "justify_content": "center"
      }
     },
     "f499c034223e46168c0421ea8d85d83c": {
      "model_module": "@jupyter-widgets/controls",
      "model_module_version": "1.4.0",
      "model_name": "DescriptionStyleModel",
      "state": {
       "description_width": ""
      }
     },
     "f4b704a50b19416aaa619a020dfd5071": {
      "model_module": "@jupyter-widgets/controls",
      "model_module_version": "1.4.0",
      "model_name": "SliderStyleModel",
      "state": {
       "description_width": ""
      }
     },
     "f57f160c031a4385b96699f3de1a0ed2": {
      "model_module": "@jupyter-widgets/controls",
      "model_module_version": "1.4.0",
      "model_name": "ButtonModel",
      "state": {
       "description": "Administer Dose(t)",
       "disabled": true,
       "layout": "IPY_MODEL_c705598275c24ce8be5d3d17085c94aa",
       "style": "IPY_MODEL_ff5acbfcf6b8479f8c3825d361b5a633"
      }
     },
     "f6efb67db12b449f9b85a3ac8317cb90": {
      "model_module": "@jupyter-widgets/controls",
      "model_module_version": "1.4.0",
      "model_name": "ButtonModel",
      "state": {
       "description": "Predict Response(t+1)",
       "layout": "IPY_MODEL_f80b90ff86d34656a1dbd02d163f7ade",
       "style": "IPY_MODEL_7add484299ef47ea9f1aac758d680e11"
      }
     },
     "f703939750ff454bb72089b3879dcfb3": {
      "model_module": "@jupyter-widgets/controls",
      "model_module_version": "1.4.0",
      "model_name": "ButtonModel",
      "state": {
       "description": "Administer Dose(t)",
       "disabled": true,
       "layout": "IPY_MODEL_45ef44f8e2374c9380d0c76e93e788d8",
       "style": "IPY_MODEL_cf9d9733500545eb9abfa640630c9855"
      }
     },
     "f737a9ed60ee41628c6038e6bd8f20ec": {
      "model_module": "@jupyter-widgets/base",
      "model_module_version": "1.1.0",
      "model_name": "LayoutModel",
      "state": {
       "justify_content": "center"
      }
     },
     "f74069794b0f44debc1671e0300b927f": {
      "model_module": "@jupyter-widgets/controls",
      "model_module_version": "1.4.0",
      "model_name": "HBoxModel",
      "state": {
       "children": [
        "IPY_MODEL_2f4dc84a2025406d8272c2d578657e2e",
        "IPY_MODEL_c76df793ddd94063854fa78fd8a6782a"
       ],
       "layout": "IPY_MODEL_ab2bf471fd8b45378075961cd3a248fd"
      }
     },
     "f74717e57cb0445fb910baef614e652b": {
      "model_module": "@jupyter-widgets/base",
      "model_module_version": "1.1.0",
      "model_name": "LayoutModel",
      "state": {}
     },
     "f75d41c714a84fdbb09227772d9eebb7": {
      "model_module": "@jupyter-widgets/base",
      "model_module_version": "1.1.0",
      "model_name": "LayoutModel",
      "state": {
       "width": "95%"
      }
     },
     "f7729e3ff4fc443d8b090f9891fbcab4": {
      "model_module": "@jupyter-widgets/base",
      "model_module_version": "1.1.0",
      "model_name": "LayoutModel",
      "state": {
       "justify_content": "center"
      }
     },
     "f80b90ff86d34656a1dbd02d163f7ade": {
      "model_module": "@jupyter-widgets/base",
      "model_module_version": "1.1.0",
      "model_name": "LayoutModel",
      "state": {
       "width": "42%"
      }
     },
     "f89aa0d3d86744c19422f1dd7f6d84aa": {
      "model_module": "@jupyter-widgets/base",
      "model_module_version": "1.1.0",
      "model_name": "LayoutModel",
      "state": {
       "width": "42%"
      }
     },
     "fa625533e4f64183a5295a04d5037ca7": {
      "model_module": "@jupyter-widgets/controls",
      "model_module_version": "1.4.0",
      "model_name": "ButtonModel",
      "state": {
       "description": "Administer Dose(t)",
       "disabled": true,
       "layout": "IPY_MODEL_b5a331ab60cf4490b56674b07f5bd1a5",
       "style": "IPY_MODEL_a3e10b8fc4404e47a1ec0306d071a37a"
      }
     },
     "fa6b40bfe0624a729e0fc851bfde3e58": {
      "model_module": "@jupyter-widgets/controls",
      "model_module_version": "1.4.0",
      "model_name": "ButtonModel",
      "state": {
       "description": "Administer Dose(t)",
       "disabled": true,
       "layout": "IPY_MODEL_63782116f59147b385e4aeaea3ef9c25",
       "style": "IPY_MODEL_0772ea5803a9462098c7e41801ca0520"
      }
     },
     "fad47deec66541b38d3a26140b748184": {
      "model_module": "@jupyter-widgets/base",
      "model_module_version": "1.1.0",
      "model_name": "LayoutModel",
      "state": {}
     },
     "fbc759d0f1b540cd9be186f41aaad8bb": {
      "model_module": "@jupyter-widgets/base",
      "model_module_version": "1.1.0",
      "model_name": "LayoutModel",
      "state": {
       "justify_content": "center"
      }
     },
     "fc116c445fc444fb9520f5f2af1912fc": {
      "model_module": "@jupyter-widgets/controls",
      "model_module_version": "1.4.0",
      "model_name": "HBoxModel",
      "state": {
       "children": [
        "IPY_MODEL_424b555ce6c0412f9b2d509f22b566b9",
        "IPY_MODEL_f703939750ff454bb72089b3879dcfb3"
       ],
       "layout": "IPY_MODEL_289ce1c4d99c4438b5c6b5a66455f323"
      }
     },
     "fce71a65c4934bbcb9bcbfb2d45aeef1": {
      "model_module": "@jupyter-widgets/controls",
      "model_module_version": "1.4.0",
      "model_name": "TextModel",
      "state": {
       "description": "Response(t+1) ",
       "disabled": true,
       "layout": "IPY_MODEL_305236f6a28743d7938b10de74266493",
       "style": "IPY_MODEL_0b4adb12a50f4673bcd9dfd589b6d201",
       "value": "5.30"
      }
     },
     "febd969808234ad59cfc221339fbfa8b": {
      "model_module": "@jupyter-widgets/controls",
      "model_module_version": "1.4.0",
      "model_name": "DescriptionStyleModel",
      "state": {
       "description_width": ""
      }
     },
     "ff4921d97d2949d39ce4b7bcdccefcc2": {
      "model_module": "@jupyter-widgets/base",
      "model_module_version": "1.1.0",
      "model_name": "LayoutModel",
      "state": {
       "width": "95%"
      }
     },
     "ff5acbfcf6b8479f8c3825d361b5a633": {
      "model_module": "@jupyter-widgets/controls",
      "model_module_version": "1.4.0",
      "model_name": "ButtonStyleModel",
      "state": {}
     },
     "ff6cb891f0e2438a8515d65494d6a347": {
      "model_module": "@jupyter-widgets/controls",
      "model_module_version": "1.4.0",
      "model_name": "HBoxModel",
      "state": {
       "children": [
        "IPY_MODEL_4b4941f16f364fa0ad8add2434a27117",
        "IPY_MODEL_19573d4719134f44ab5b7f6a5c82bffa"
       ],
       "layout": "IPY_MODEL_db2002292ad341c39f6d92d722cd6d92"
      }
     },
     "ffb741cd6fe44acb930d009dc8573003": {
      "model_module": "@jupyter-widgets/base",
      "model_module_version": "1.1.0",
      "model_name": "LayoutModel",
      "state": {
       "justify_content": "center"
      }
     }
    },
    "version_major": 2,
    "version_minor": 0
   }
  }
 },
 "nbformat": 4,
 "nbformat_minor": 2
}
