{
 "cells": [
  {
   "cell_type": "markdown",
   "metadata": {},
   "source": [
    "#  Poor Control Inspite of Perfect Prediction  \n",
    "\n",
    "It seems logical that if you want to control something, you need to measure it and predict it. \n",
    "\n",
    "For example, if you want to achieve a particular health condition target like blood glucose level, measuring it, predicting its response to nutrition, exercise and medication seems sufficient. Once you can predict the response well, then achieving your goal of controlling it appears a matter of diligent execution. \n",
    "\n",
    "We all know from personal experience, that it is easier said than done. The problem is more fundamental than lack of will power or diligence.\n",
    "\n",
    "I want to systematically explore surprises that occur along the way. In doing so, I want to point out method (or protocol) pitfalls relating to human decisions. Sometimes, these pitfalls are present in computer automated processes.   \n",
    "\n",
    "Although I described a medical dose-response problem, the method pitfalls apply equally well to non-living processes.\n",
    "\n",
    "You will be making interactive decisions on a simulated example. Because this notebook uses interactions with you, the user, you should run each code cell manually rather than with `Run All` menu item or the `Run` button above."
   ]
  },
  {
   "cell_type": "code",
   "execution_count": 2,
   "metadata": {
    "scrolled": true
   },
   "outputs": [],
   "source": [
    "%matplotlib notebook\n",
    "import numpy as np\n",
    "import matplotlib.pyplot as plt\n",
    "from matplotlib import animation,rc\n",
    "#from IPython.display import HTML\n",
    "import ipywidgets"
   ]
  },
  {
   "cell_type": "markdown",
   "metadata": {},
   "source": [
    "###  Predict and Control\n",
    "\n",
    "In the simplest interactive problem below, you can first predict what the output will be when you choose a particular value for the input decision variable using the slider (like a medication dose).  Choose the best value you deem appropriate until the prediction hits the target reference and then execute the decision using the execute button. \n",
    "\n",
    "Your goal is to make the output equal to the fixed known target reference value. "
   ]
  },
  {
   "cell_type": "markdown",
   "metadata": {},
   "source": [
    "#### Perfect Prediction of Output to be Controlled\n",
    "\n",
    "Constant $A,B,C,D$  define a state space system. In discrete time, \n",
    "\n",
    "$$\\begin {align} x(t+1)=A*x(t)+B*u(t) \\\\ y(t)=C*x(t)+D*u(t) \\end {align}$$\n",
    "\n",
    "Initial state $x(0)=x_0$ is randomly chosen with a mean value of 5.  We assume further that there is no noise or disturbance in the system and the constants $A,B,C,D$ are known exactly.\n",
    "\n",
    "You will be able to predict perfectly because there is no noise and you have access to an exact determiniatic simulation. If you predict based upon an input value, you will get exactly the predicted output upon execution. You can keep changing the input until you hit the target output for the predicted value. \n",
    "\n",
    "This is a very ideal situation intended to illustrate a particular class of problems in controlling dynamical system. The dynamic system is first order, stable, with a time constant of about 2.8 and a steady state gain of 9.33. For the dose-response problem, it corresponds to a one compartment system operating in its linear (small signal) regime. "
   ]
  },
  {
   "cell_type": "code",
   "execution_count": 3,
   "metadata": {
    "scrolled": true
   },
   "outputs": [
    {
     "name": "stdout",
     "output_type": "stream",
     "text": [
      "Initial State x(0) =  5.604406626023636\n"
     ]
    }
   ],
   "source": [
    "#initialize a non-minimum phase stable state space system\n",
    "A=0.7;B=2.5;C=1;D=1;\n",
    "x_0=np.random.randn()*1+5;\n",
    "# x_0 can also be a fixed deterministic value\n",
    "#   x_0 = 6.0\n",
    "print(\"Initial State x(0) = \", x_0)\n"
   ]
  },
  {
   "cell_type": "markdown",
   "metadata": {},
   "source": [
    "###  Interactive Prediction and Control\n",
    "\n",
    "Now, let us see what happens when you adjust the input dose $u(t)$ to make the output response $y(t)$ close to ref = 5.0.  \n",
    "\n",
    "Before you actually execute the decision with a particular value of input dose u(t), you can move the slider input, then hit the `Predict Response(t+1)` button to see the predicted y.  Prediction does not propagate the state, it merely uses the current state and the input to compute the predicted y(t+1). When you are satisfied with the value u(t), you can commit and hit the `Administer Dose(t)` button, which results in propagation of the state space recursion. The actual response will be exactly equal to the predicted value.\n",
    "\n",
    "The `Next Step` will give you hints for next step such as to increase or decrease the trial input Dose u(t).  Highlighted buttons are available for interaction.  When the predicted output response y(t+1) is within range, it will allow you to administer the Dose. For the very first time, $t=1$, you need not bring the response within range to administer the dose. \n",
    " \n",
    "First, we lay out the interaction and propagation of the system. Then we display the progress of your interaction with this dynamical system."
   ]
  },
  {
   "cell_type": "code",
   "execution_count": 5,
   "metadata": {
    "scrolled": false
   },
   "outputs": [
    {
     "data": {
      "application/vnd.jupyter.widget-view+json": {
       "model_id": "9a1665e731434dc4b406384878aac32c",
       "version_major": 2,
       "version_minor": 0
      },
      "text/plain": [
       "FloatSlider(value=0.0, description='Dose(t)', layout=Layout(width='95%'), max=10.0, min=-10.0, step=0.01)"
      ]
     },
     "metadata": {},
     "output_type": "display_data"
    },
    {
     "data": {
      "application/vnd.jupyter.widget-view+json": {
       "model_id": "4e276131cd18464e805430c4ceee467b",
       "version_major": 2,
       "version_minor": 0
      },
      "text/plain": [
       "HBox(children=(Text(value='  ', description='Response(t+1) ', disabled=True, style=DescriptionStyle(descriptio…"
      ]
     },
     "metadata": {},
     "output_type": "display_data"
    },
    {
     "data": {
      "application/vnd.jupyter.widget-view+json": {
       "model_id": "40639ebc812a4bb4a837b4a78c86a201",
       "version_major": 2,
       "version_minor": 0
      },
      "text/plain": [
       "HBox(children=(Button(description='Predict Response(t+1)', layout=Layout(width='42%'), style=ButtonStyle()), B…"
      ]
     },
     "metadata": {},
     "output_type": "display_data"
    },
    {
     "data": {
      "application/javascript": [
       "/* Put everything inside the global mpl namespace */\n",
       "window.mpl = {};\n",
       "\n",
       "\n",
       "mpl.get_websocket_type = function() {\n",
       "    if (typeof(WebSocket) !== 'undefined') {\n",
       "        return WebSocket;\n",
       "    } else if (typeof(MozWebSocket) !== 'undefined') {\n",
       "        return MozWebSocket;\n",
       "    } else {\n",
       "        alert('Your browser does not have WebSocket support. ' +\n",
       "              'Please try Chrome, Safari or Firefox ≥ 6. ' +\n",
       "              'Firefox 4 and 5 are also supported but you ' +\n",
       "              'have to enable WebSockets in about:config.');\n",
       "    };\n",
       "}\n",
       "\n",
       "mpl.figure = function(figure_id, websocket, ondownload, parent_element) {\n",
       "    this.id = figure_id;\n",
       "\n",
       "    this.ws = websocket;\n",
       "\n",
       "    this.supports_binary = (this.ws.binaryType != undefined);\n",
       "\n",
       "    if (!this.supports_binary) {\n",
       "        var warnings = document.getElementById(\"mpl-warnings\");\n",
       "        if (warnings) {\n",
       "            warnings.style.display = 'block';\n",
       "            warnings.textContent = (\n",
       "                \"This browser does not support binary websocket messages. \" +\n",
       "                    \"Performance may be slow.\");\n",
       "        }\n",
       "    }\n",
       "\n",
       "    this.imageObj = new Image();\n",
       "\n",
       "    this.context = undefined;\n",
       "    this.message = undefined;\n",
       "    this.canvas = undefined;\n",
       "    this.rubberband_canvas = undefined;\n",
       "    this.rubberband_context = undefined;\n",
       "    this.format_dropdown = undefined;\n",
       "\n",
       "    this.image_mode = 'full';\n",
       "\n",
       "    this.root = $('<div/>');\n",
       "    this._root_extra_style(this.root)\n",
       "    this.root.attr('style', 'display: inline-block');\n",
       "\n",
       "    $(parent_element).append(this.root);\n",
       "\n",
       "    this._init_header(this);\n",
       "    this._init_canvas(this);\n",
       "    this._init_toolbar(this);\n",
       "\n",
       "    var fig = this;\n",
       "\n",
       "    this.waiting = false;\n",
       "\n",
       "    this.ws.onopen =  function () {\n",
       "            fig.send_message(\"supports_binary\", {value: fig.supports_binary});\n",
       "            fig.send_message(\"send_image_mode\", {});\n",
       "            if (mpl.ratio != 1) {\n",
       "                fig.send_message(\"set_dpi_ratio\", {'dpi_ratio': mpl.ratio});\n",
       "            }\n",
       "            fig.send_message(\"refresh\", {});\n",
       "        }\n",
       "\n",
       "    this.imageObj.onload = function() {\n",
       "            if (fig.image_mode == 'full') {\n",
       "                // Full images could contain transparency (where diff images\n",
       "                // almost always do), so we need to clear the canvas so that\n",
       "                // there is no ghosting.\n",
       "                fig.context.clearRect(0, 0, fig.canvas.width, fig.canvas.height);\n",
       "            }\n",
       "            fig.context.drawImage(fig.imageObj, 0, 0);\n",
       "        };\n",
       "\n",
       "    this.imageObj.onunload = function() {\n",
       "        fig.ws.close();\n",
       "    }\n",
       "\n",
       "    this.ws.onmessage = this._make_on_message_function(this);\n",
       "\n",
       "    this.ondownload = ondownload;\n",
       "}\n",
       "\n",
       "mpl.figure.prototype._init_header = function() {\n",
       "    var titlebar = $(\n",
       "        '<div class=\"ui-dialog-titlebar ui-widget-header ui-corner-all ' +\n",
       "        'ui-helper-clearfix\"/>');\n",
       "    var titletext = $(\n",
       "        '<div class=\"ui-dialog-title\" style=\"width: 100%; ' +\n",
       "        'text-align: center; padding: 3px;\"/>');\n",
       "    titlebar.append(titletext)\n",
       "    this.root.append(titlebar);\n",
       "    this.header = titletext[0];\n",
       "}\n",
       "\n",
       "\n",
       "\n",
       "mpl.figure.prototype._canvas_extra_style = function(canvas_div) {\n",
       "\n",
       "}\n",
       "\n",
       "\n",
       "mpl.figure.prototype._root_extra_style = function(canvas_div) {\n",
       "\n",
       "}\n",
       "\n",
       "mpl.figure.prototype._init_canvas = function() {\n",
       "    var fig = this;\n",
       "\n",
       "    var canvas_div = $('<div/>');\n",
       "\n",
       "    canvas_div.attr('style', 'position: relative; clear: both; outline: 0');\n",
       "\n",
       "    function canvas_keyboard_event(event) {\n",
       "        return fig.key_event(event, event['data']);\n",
       "    }\n",
       "\n",
       "    canvas_div.keydown('key_press', canvas_keyboard_event);\n",
       "    canvas_div.keyup('key_release', canvas_keyboard_event);\n",
       "    this.canvas_div = canvas_div\n",
       "    this._canvas_extra_style(canvas_div)\n",
       "    this.root.append(canvas_div);\n",
       "\n",
       "    var canvas = $('<canvas/>');\n",
       "    canvas.addClass('mpl-canvas');\n",
       "    canvas.attr('style', \"left: 0; top: 0; z-index: 0; outline: 0\")\n",
       "\n",
       "    this.canvas = canvas[0];\n",
       "    this.context = canvas[0].getContext(\"2d\");\n",
       "\n",
       "    var backingStore = this.context.backingStorePixelRatio ||\n",
       "\tthis.context.webkitBackingStorePixelRatio ||\n",
       "\tthis.context.mozBackingStorePixelRatio ||\n",
       "\tthis.context.msBackingStorePixelRatio ||\n",
       "\tthis.context.oBackingStorePixelRatio ||\n",
       "\tthis.context.backingStorePixelRatio || 1;\n",
       "\n",
       "    mpl.ratio = (window.devicePixelRatio || 1) / backingStore;\n",
       "\n",
       "    var rubberband = $('<canvas/>');\n",
       "    rubberband.attr('style', \"position: absolute; left: 0; top: 0; z-index: 1;\")\n",
       "\n",
       "    var pass_mouse_events = true;\n",
       "\n",
       "    canvas_div.resizable({\n",
       "        start: function(event, ui) {\n",
       "            pass_mouse_events = false;\n",
       "        },\n",
       "        resize: function(event, ui) {\n",
       "            fig.request_resize(ui.size.width, ui.size.height);\n",
       "        },\n",
       "        stop: function(event, ui) {\n",
       "            pass_mouse_events = true;\n",
       "            fig.request_resize(ui.size.width, ui.size.height);\n",
       "        },\n",
       "    });\n",
       "\n",
       "    function mouse_event_fn(event) {\n",
       "        if (pass_mouse_events)\n",
       "            return fig.mouse_event(event, event['data']);\n",
       "    }\n",
       "\n",
       "    rubberband.mousedown('button_press', mouse_event_fn);\n",
       "    rubberband.mouseup('button_release', mouse_event_fn);\n",
       "    // Throttle sequential mouse events to 1 every 20ms.\n",
       "    rubberband.mousemove('motion_notify', mouse_event_fn);\n",
       "\n",
       "    rubberband.mouseenter('figure_enter', mouse_event_fn);\n",
       "    rubberband.mouseleave('figure_leave', mouse_event_fn);\n",
       "\n",
       "    canvas_div.on(\"wheel\", function (event) {\n",
       "        event = event.originalEvent;\n",
       "        event['data'] = 'scroll'\n",
       "        if (event.deltaY < 0) {\n",
       "            event.step = 1;\n",
       "        } else {\n",
       "            event.step = -1;\n",
       "        }\n",
       "        mouse_event_fn(event);\n",
       "    });\n",
       "\n",
       "    canvas_div.append(canvas);\n",
       "    canvas_div.append(rubberband);\n",
       "\n",
       "    this.rubberband = rubberband;\n",
       "    this.rubberband_canvas = rubberband[0];\n",
       "    this.rubberband_context = rubberband[0].getContext(\"2d\");\n",
       "    this.rubberband_context.strokeStyle = \"#000000\";\n",
       "\n",
       "    this._resize_canvas = function(width, height) {\n",
       "        // Keep the size of the canvas, canvas container, and rubber band\n",
       "        // canvas in synch.\n",
       "        canvas_div.css('width', width)\n",
       "        canvas_div.css('height', height)\n",
       "\n",
       "        canvas.attr('width', width * mpl.ratio);\n",
       "        canvas.attr('height', height * mpl.ratio);\n",
       "        canvas.attr('style', 'width: ' + width + 'px; height: ' + height + 'px;');\n",
       "\n",
       "        rubberband.attr('width', width);\n",
       "        rubberband.attr('height', height);\n",
       "    }\n",
       "\n",
       "    // Set the figure to an initial 600x600px, this will subsequently be updated\n",
       "    // upon first draw.\n",
       "    this._resize_canvas(600, 600);\n",
       "\n",
       "    // Disable right mouse context menu.\n",
       "    $(this.rubberband_canvas).bind(\"contextmenu\",function(e){\n",
       "        return false;\n",
       "    });\n",
       "\n",
       "    function set_focus () {\n",
       "        canvas.focus();\n",
       "        canvas_div.focus();\n",
       "    }\n",
       "\n",
       "    window.setTimeout(set_focus, 100);\n",
       "}\n",
       "\n",
       "mpl.figure.prototype._init_toolbar = function() {\n",
       "    var fig = this;\n",
       "\n",
       "    var nav_element = $('<div/>');\n",
       "    nav_element.attr('style', 'width: 100%');\n",
       "    this.root.append(nav_element);\n",
       "\n",
       "    // Define a callback function for later on.\n",
       "    function toolbar_event(event) {\n",
       "        return fig.toolbar_button_onclick(event['data']);\n",
       "    }\n",
       "    function toolbar_mouse_event(event) {\n",
       "        return fig.toolbar_button_onmouseover(event['data']);\n",
       "    }\n",
       "\n",
       "    for(var toolbar_ind in mpl.toolbar_items) {\n",
       "        var name = mpl.toolbar_items[toolbar_ind][0];\n",
       "        var tooltip = mpl.toolbar_items[toolbar_ind][1];\n",
       "        var image = mpl.toolbar_items[toolbar_ind][2];\n",
       "        var method_name = mpl.toolbar_items[toolbar_ind][3];\n",
       "\n",
       "        if (!name) {\n",
       "            // put a spacer in here.\n",
       "            continue;\n",
       "        }\n",
       "        var button = $('<button/>');\n",
       "        button.addClass('ui-button ui-widget ui-state-default ui-corner-all ' +\n",
       "                        'ui-button-icon-only');\n",
       "        button.attr('role', 'button');\n",
       "        button.attr('aria-disabled', 'false');\n",
       "        button.click(method_name, toolbar_event);\n",
       "        button.mouseover(tooltip, toolbar_mouse_event);\n",
       "\n",
       "        var icon_img = $('<span/>');\n",
       "        icon_img.addClass('ui-button-icon-primary ui-icon');\n",
       "        icon_img.addClass(image);\n",
       "        icon_img.addClass('ui-corner-all');\n",
       "\n",
       "        var tooltip_span = $('<span/>');\n",
       "        tooltip_span.addClass('ui-button-text');\n",
       "        tooltip_span.html(tooltip);\n",
       "\n",
       "        button.append(icon_img);\n",
       "        button.append(tooltip_span);\n",
       "\n",
       "        nav_element.append(button);\n",
       "    }\n",
       "\n",
       "    var fmt_picker_span = $('<span/>');\n",
       "\n",
       "    var fmt_picker = $('<select/>');\n",
       "    fmt_picker.addClass('mpl-toolbar-option ui-widget ui-widget-content');\n",
       "    fmt_picker_span.append(fmt_picker);\n",
       "    nav_element.append(fmt_picker_span);\n",
       "    this.format_dropdown = fmt_picker[0];\n",
       "\n",
       "    for (var ind in mpl.extensions) {\n",
       "        var fmt = mpl.extensions[ind];\n",
       "        var option = $(\n",
       "            '<option/>', {selected: fmt === mpl.default_extension}).html(fmt);\n",
       "        fmt_picker.append(option);\n",
       "    }\n",
       "\n",
       "    // Add hover states to the ui-buttons\n",
       "    $( \".ui-button\" ).hover(\n",
       "        function() { $(this).addClass(\"ui-state-hover\");},\n",
       "        function() { $(this).removeClass(\"ui-state-hover\");}\n",
       "    );\n",
       "\n",
       "    var status_bar = $('<span class=\"mpl-message\"/>');\n",
       "    nav_element.append(status_bar);\n",
       "    this.message = status_bar[0];\n",
       "}\n",
       "\n",
       "mpl.figure.prototype.request_resize = function(x_pixels, y_pixels) {\n",
       "    // Request matplotlib to resize the figure. Matplotlib will then trigger a resize in the client,\n",
       "    // which will in turn request a refresh of the image.\n",
       "    this.send_message('resize', {'width': x_pixels, 'height': y_pixels});\n",
       "}\n",
       "\n",
       "mpl.figure.prototype.send_message = function(type, properties) {\n",
       "    properties['type'] = type;\n",
       "    properties['figure_id'] = this.id;\n",
       "    this.ws.send(JSON.stringify(properties));\n",
       "}\n",
       "\n",
       "mpl.figure.prototype.send_draw_message = function() {\n",
       "    if (!this.waiting) {\n",
       "        this.waiting = true;\n",
       "        this.ws.send(JSON.stringify({type: \"draw\", figure_id: this.id}));\n",
       "    }\n",
       "}\n",
       "\n",
       "\n",
       "mpl.figure.prototype.handle_save = function(fig, msg) {\n",
       "    var format_dropdown = fig.format_dropdown;\n",
       "    var format = format_dropdown.options[format_dropdown.selectedIndex].value;\n",
       "    fig.ondownload(fig, format);\n",
       "}\n",
       "\n",
       "\n",
       "mpl.figure.prototype.handle_resize = function(fig, msg) {\n",
       "    var size = msg['size'];\n",
       "    if (size[0] != fig.canvas.width || size[1] != fig.canvas.height) {\n",
       "        fig._resize_canvas(size[0], size[1]);\n",
       "        fig.send_message(\"refresh\", {});\n",
       "    };\n",
       "}\n",
       "\n",
       "mpl.figure.prototype.handle_rubberband = function(fig, msg) {\n",
       "    var x0 = msg['x0'] / mpl.ratio;\n",
       "    var y0 = (fig.canvas.height - msg['y0']) / mpl.ratio;\n",
       "    var x1 = msg['x1'] / mpl.ratio;\n",
       "    var y1 = (fig.canvas.height - msg['y1']) / mpl.ratio;\n",
       "    x0 = Math.floor(x0) + 0.5;\n",
       "    y0 = Math.floor(y0) + 0.5;\n",
       "    x1 = Math.floor(x1) + 0.5;\n",
       "    y1 = Math.floor(y1) + 0.5;\n",
       "    var min_x = Math.min(x0, x1);\n",
       "    var min_y = Math.min(y0, y1);\n",
       "    var width = Math.abs(x1 - x0);\n",
       "    var height = Math.abs(y1 - y0);\n",
       "\n",
       "    fig.rubberband_context.clearRect(\n",
       "        0, 0, fig.canvas.width, fig.canvas.height);\n",
       "\n",
       "    fig.rubberband_context.strokeRect(min_x, min_y, width, height);\n",
       "}\n",
       "\n",
       "mpl.figure.prototype.handle_figure_label = function(fig, msg) {\n",
       "    // Updates the figure title.\n",
       "    fig.header.textContent = msg['label'];\n",
       "}\n",
       "\n",
       "mpl.figure.prototype.handle_cursor = function(fig, msg) {\n",
       "    var cursor = msg['cursor'];\n",
       "    switch(cursor)\n",
       "    {\n",
       "    case 0:\n",
       "        cursor = 'pointer';\n",
       "        break;\n",
       "    case 1:\n",
       "        cursor = 'default';\n",
       "        break;\n",
       "    case 2:\n",
       "        cursor = 'crosshair';\n",
       "        break;\n",
       "    case 3:\n",
       "        cursor = 'move';\n",
       "        break;\n",
       "    }\n",
       "    fig.rubberband_canvas.style.cursor = cursor;\n",
       "}\n",
       "\n",
       "mpl.figure.prototype.handle_message = function(fig, msg) {\n",
       "    fig.message.textContent = msg['message'];\n",
       "}\n",
       "\n",
       "mpl.figure.prototype.handle_draw = function(fig, msg) {\n",
       "    // Request the server to send over a new figure.\n",
       "    fig.send_draw_message();\n",
       "}\n",
       "\n",
       "mpl.figure.prototype.handle_image_mode = function(fig, msg) {\n",
       "    fig.image_mode = msg['mode'];\n",
       "}\n",
       "\n",
       "mpl.figure.prototype.updated_canvas_event = function() {\n",
       "    // Called whenever the canvas gets updated.\n",
       "    this.send_message(\"ack\", {});\n",
       "}\n",
       "\n",
       "// A function to construct a web socket function for onmessage handling.\n",
       "// Called in the figure constructor.\n",
       "mpl.figure.prototype._make_on_message_function = function(fig) {\n",
       "    return function socket_on_message(evt) {\n",
       "        if (evt.data instanceof Blob) {\n",
       "            /* FIXME: We get \"Resource interpreted as Image but\n",
       "             * transferred with MIME type text/plain:\" errors on\n",
       "             * Chrome.  But how to set the MIME type?  It doesn't seem\n",
       "             * to be part of the websocket stream */\n",
       "            evt.data.type = \"image/png\";\n",
       "\n",
       "            /* Free the memory for the previous frames */\n",
       "            if (fig.imageObj.src) {\n",
       "                (window.URL || window.webkitURL).revokeObjectURL(\n",
       "                    fig.imageObj.src);\n",
       "            }\n",
       "\n",
       "            fig.imageObj.src = (window.URL || window.webkitURL).createObjectURL(\n",
       "                evt.data);\n",
       "            fig.updated_canvas_event();\n",
       "            fig.waiting = false;\n",
       "            return;\n",
       "        }\n",
       "        else if (typeof evt.data === 'string' && evt.data.slice(0, 21) == \"data:image/png;base64\") {\n",
       "            fig.imageObj.src = evt.data;\n",
       "            fig.updated_canvas_event();\n",
       "            fig.waiting = false;\n",
       "            return;\n",
       "        }\n",
       "\n",
       "        var msg = JSON.parse(evt.data);\n",
       "        var msg_type = msg['type'];\n",
       "\n",
       "        // Call the  \"handle_{type}\" callback, which takes\n",
       "        // the figure and JSON message as its only arguments.\n",
       "        try {\n",
       "            var callback = fig[\"handle_\" + msg_type];\n",
       "        } catch (e) {\n",
       "            console.log(\"No handler for the '\" + msg_type + \"' message type: \", msg);\n",
       "            return;\n",
       "        }\n",
       "\n",
       "        if (callback) {\n",
       "            try {\n",
       "                // console.log(\"Handling '\" + msg_type + \"' message: \", msg);\n",
       "                callback(fig, msg);\n",
       "            } catch (e) {\n",
       "                console.log(\"Exception inside the 'handler_\" + msg_type + \"' callback:\", e, e.stack, msg);\n",
       "            }\n",
       "        }\n",
       "    };\n",
       "}\n",
       "\n",
       "// from http://stackoverflow.com/questions/1114465/getting-mouse-location-in-canvas\n",
       "mpl.findpos = function(e) {\n",
       "    //this section is from http://www.quirksmode.org/js/events_properties.html\n",
       "    var targ;\n",
       "    if (!e)\n",
       "        e = window.event;\n",
       "    if (e.target)\n",
       "        targ = e.target;\n",
       "    else if (e.srcElement)\n",
       "        targ = e.srcElement;\n",
       "    if (targ.nodeType == 3) // defeat Safari bug\n",
       "        targ = targ.parentNode;\n",
       "\n",
       "    // jQuery normalizes the pageX and pageY\n",
       "    // pageX,Y are the mouse positions relative to the document\n",
       "    // offset() returns the position of the element relative to the document\n",
       "    var x = e.pageX - $(targ).offset().left;\n",
       "    var y = e.pageY - $(targ).offset().top;\n",
       "\n",
       "    return {\"x\": x, \"y\": y};\n",
       "};\n",
       "\n",
       "/*\n",
       " * return a copy of an object with only non-object keys\n",
       " * we need this to avoid circular references\n",
       " * http://stackoverflow.com/a/24161582/3208463\n",
       " */\n",
       "function simpleKeys (original) {\n",
       "  return Object.keys(original).reduce(function (obj, key) {\n",
       "    if (typeof original[key] !== 'object')\n",
       "        obj[key] = original[key]\n",
       "    return obj;\n",
       "  }, {});\n",
       "}\n",
       "\n",
       "mpl.figure.prototype.mouse_event = function(event, name) {\n",
       "    var canvas_pos = mpl.findpos(event)\n",
       "\n",
       "    if (name === 'button_press')\n",
       "    {\n",
       "        this.canvas.focus();\n",
       "        this.canvas_div.focus();\n",
       "    }\n",
       "\n",
       "    var x = canvas_pos.x * mpl.ratio;\n",
       "    var y = canvas_pos.y * mpl.ratio;\n",
       "\n",
       "    this.send_message(name, {x: x, y: y, button: event.button,\n",
       "                             step: event.step,\n",
       "                             guiEvent: simpleKeys(event)});\n",
       "\n",
       "    /* This prevents the web browser from automatically changing to\n",
       "     * the text insertion cursor when the button is pressed.  We want\n",
       "     * to control all of the cursor setting manually through the\n",
       "     * 'cursor' event from matplotlib */\n",
       "    event.preventDefault();\n",
       "    return false;\n",
       "}\n",
       "\n",
       "mpl.figure.prototype._key_event_extra = function(event, name) {\n",
       "    // Handle any extra behaviour associated with a key event\n",
       "}\n",
       "\n",
       "mpl.figure.prototype.key_event = function(event, name) {\n",
       "\n",
       "    // Prevent repeat events\n",
       "    if (name == 'key_press')\n",
       "    {\n",
       "        if (event.which === this._key)\n",
       "            return;\n",
       "        else\n",
       "            this._key = event.which;\n",
       "    }\n",
       "    if (name == 'key_release')\n",
       "        this._key = null;\n",
       "\n",
       "    var value = '';\n",
       "    if (event.ctrlKey && event.which != 17)\n",
       "        value += \"ctrl+\";\n",
       "    if (event.altKey && event.which != 18)\n",
       "        value += \"alt+\";\n",
       "    if (event.shiftKey && event.which != 16)\n",
       "        value += \"shift+\";\n",
       "\n",
       "    value += 'k';\n",
       "    value += event.which.toString();\n",
       "\n",
       "    this._key_event_extra(event, name);\n",
       "\n",
       "    this.send_message(name, {key: value,\n",
       "                             guiEvent: simpleKeys(event)});\n",
       "    return false;\n",
       "}\n",
       "\n",
       "mpl.figure.prototype.toolbar_button_onclick = function(name) {\n",
       "    if (name == 'download') {\n",
       "        this.handle_save(this, null);\n",
       "    } else {\n",
       "        this.send_message(\"toolbar_button\", {name: name});\n",
       "    }\n",
       "};\n",
       "\n",
       "mpl.figure.prototype.toolbar_button_onmouseover = function(tooltip) {\n",
       "    this.message.textContent = tooltip;\n",
       "};\n",
       "mpl.toolbar_items = [[\"Home\", \"Reset original view\", \"fa fa-home icon-home\", \"home\"], [\"Back\", \"Back to previous view\", \"fa fa-arrow-left icon-arrow-left\", \"back\"], [\"Forward\", \"Forward to next view\", \"fa fa-arrow-right icon-arrow-right\", \"forward\"], [\"\", \"\", \"\", \"\"], [\"Pan\", \"Pan axes with left mouse, zoom with right\", \"fa fa-arrows icon-move\", \"pan\"], [\"Zoom\", \"Zoom to rectangle\", \"fa fa-square-o icon-check-empty\", \"zoom\"], [\"\", \"\", \"\", \"\"], [\"Download\", \"Download plot\", \"fa fa-floppy-o icon-save\", \"download\"]];\n",
       "\n",
       "mpl.extensions = [\"eps\", \"pdf\", \"png\", \"ps\", \"raw\", \"svg\"];\n",
       "\n",
       "mpl.default_extension = \"png\";var comm_websocket_adapter = function(comm) {\n",
       "    // Create a \"websocket\"-like object which calls the given IPython comm\n",
       "    // object with the appropriate methods. Currently this is a non binary\n",
       "    // socket, so there is still some room for performance tuning.\n",
       "    var ws = {};\n",
       "\n",
       "    ws.close = function() {\n",
       "        comm.close()\n",
       "    };\n",
       "    ws.send = function(m) {\n",
       "        //console.log('sending', m);\n",
       "        comm.send(m);\n",
       "    };\n",
       "    // Register the callback with on_msg.\n",
       "    comm.on_msg(function(msg) {\n",
       "        //console.log('receiving', msg['content']['data'], msg);\n",
       "        // Pass the mpl event to the overridden (by mpl) onmessage function.\n",
       "        ws.onmessage(msg['content']['data'])\n",
       "    });\n",
       "    return ws;\n",
       "}\n",
       "\n",
       "mpl.mpl_figure_comm = function(comm, msg) {\n",
       "    // This is the function which gets called when the mpl process\n",
       "    // starts-up an IPython Comm through the \"matplotlib\" channel.\n",
       "\n",
       "    var id = msg.content.data.id;\n",
       "    // Get hold of the div created by the display call when the Comm\n",
       "    // socket was opened in Python.\n",
       "    var element = $(\"#\" + id);\n",
       "    var ws_proxy = comm_websocket_adapter(comm)\n",
       "\n",
       "    function ondownload(figure, format) {\n",
       "        window.open(figure.imageObj.src);\n",
       "    }\n",
       "\n",
       "    var fig = new mpl.figure(id, ws_proxy,\n",
       "                           ondownload,\n",
       "                           element.get(0));\n",
       "\n",
       "    // Call onopen now - mpl needs it, as it is assuming we've passed it a real\n",
       "    // web socket which is closed, not our websocket->open comm proxy.\n",
       "    ws_proxy.onopen();\n",
       "\n",
       "    fig.parent_element = element.get(0);\n",
       "    fig.cell_info = mpl.find_output_cell(\"<div id='\" + id + \"'></div>\");\n",
       "    if (!fig.cell_info) {\n",
       "        console.error(\"Failed to find cell for figure\", id, fig);\n",
       "        return;\n",
       "    }\n",
       "\n",
       "    var output_index = fig.cell_info[2]\n",
       "    var cell = fig.cell_info[0];\n",
       "\n",
       "};\n",
       "\n",
       "mpl.figure.prototype.handle_close = function(fig, msg) {\n",
       "    var width = fig.canvas.width/mpl.ratio\n",
       "    fig.root.unbind('remove')\n",
       "\n",
       "    // Update the output cell to use the data from the current canvas.\n",
       "    fig.push_to_output();\n",
       "    var dataURL = fig.canvas.toDataURL();\n",
       "    // Re-enable the keyboard manager in IPython - without this line, in FF,\n",
       "    // the notebook keyboard shortcuts fail.\n",
       "    IPython.keyboard_manager.enable()\n",
       "    $(fig.parent_element).html('<img src=\"' + dataURL + '\" width=\"' + width + '\">');\n",
       "    fig.close_ws(fig, msg);\n",
       "}\n",
       "\n",
       "mpl.figure.prototype.close_ws = function(fig, msg){\n",
       "    fig.send_message('closing', msg);\n",
       "    // fig.ws.close()\n",
       "}\n",
       "\n",
       "mpl.figure.prototype.push_to_output = function(remove_interactive) {\n",
       "    // Turn the data on the canvas into data in the output cell.\n",
       "    var width = this.canvas.width/mpl.ratio\n",
       "    var dataURL = this.canvas.toDataURL();\n",
       "    this.cell_info[1]['text/html'] = '<img src=\"' + dataURL + '\" width=\"' + width + '\">';\n",
       "}\n",
       "\n",
       "mpl.figure.prototype.updated_canvas_event = function() {\n",
       "    // Tell IPython that the notebook contents must change.\n",
       "    IPython.notebook.set_dirty(true);\n",
       "    this.send_message(\"ack\", {});\n",
       "    var fig = this;\n",
       "    // Wait a second, then push the new image to the DOM so\n",
       "    // that it is saved nicely (might be nice to debounce this).\n",
       "    setTimeout(function () { fig.push_to_output() }, 1000);\n",
       "}\n",
       "\n",
       "mpl.figure.prototype._init_toolbar = function() {\n",
       "    var fig = this;\n",
       "\n",
       "    var nav_element = $('<div/>');\n",
       "    nav_element.attr('style', 'width: 100%');\n",
       "    this.root.append(nav_element);\n",
       "\n",
       "    // Define a callback function for later on.\n",
       "    function toolbar_event(event) {\n",
       "        return fig.toolbar_button_onclick(event['data']);\n",
       "    }\n",
       "    function toolbar_mouse_event(event) {\n",
       "        return fig.toolbar_button_onmouseover(event['data']);\n",
       "    }\n",
       "\n",
       "    for(var toolbar_ind in mpl.toolbar_items){\n",
       "        var name = mpl.toolbar_items[toolbar_ind][0];\n",
       "        var tooltip = mpl.toolbar_items[toolbar_ind][1];\n",
       "        var image = mpl.toolbar_items[toolbar_ind][2];\n",
       "        var method_name = mpl.toolbar_items[toolbar_ind][3];\n",
       "\n",
       "        if (!name) { continue; };\n",
       "\n",
       "        var button = $('<button class=\"btn btn-default\" href=\"#\" title=\"' + name + '\"><i class=\"fa ' + image + ' fa-lg\"></i></button>');\n",
       "        button.click(method_name, toolbar_event);\n",
       "        button.mouseover(tooltip, toolbar_mouse_event);\n",
       "        nav_element.append(button);\n",
       "    }\n",
       "\n",
       "    // Add the status bar.\n",
       "    var status_bar = $('<span class=\"mpl-message\" style=\"text-align:right; float: right;\"/>');\n",
       "    nav_element.append(status_bar);\n",
       "    this.message = status_bar[0];\n",
       "\n",
       "    // Add the close button to the window.\n",
       "    var buttongrp = $('<div class=\"btn-group inline pull-right\"></div>');\n",
       "    var button = $('<button class=\"btn btn-mini btn-primary\" href=\"#\" title=\"Stop Interaction\"><i class=\"fa fa-power-off icon-remove icon-large\"></i></button>');\n",
       "    button.click(function (evt) { fig.handle_close(fig, {}); } );\n",
       "    button.mouseover('Stop Interaction', toolbar_mouse_event);\n",
       "    buttongrp.append(button);\n",
       "    var titlebar = this.root.find($('.ui-dialog-titlebar'));\n",
       "    titlebar.prepend(buttongrp);\n",
       "}\n",
       "\n",
       "mpl.figure.prototype._root_extra_style = function(el){\n",
       "    var fig = this\n",
       "    el.on(\"remove\", function(){\n",
       "\tfig.close_ws(fig, {});\n",
       "    });\n",
       "}\n",
       "\n",
       "mpl.figure.prototype._canvas_extra_style = function(el){\n",
       "    // this is important to make the div 'focusable\n",
       "    el.attr('tabindex', 0)\n",
       "    // reach out to IPython and tell the keyboard manager to turn it's self\n",
       "    // off when our div gets focus\n",
       "\n",
       "    // location in version 3\n",
       "    if (IPython.notebook.keyboard_manager) {\n",
       "        IPython.notebook.keyboard_manager.register_events(el);\n",
       "    }\n",
       "    else {\n",
       "        // location in version 2\n",
       "        IPython.keyboard_manager.register_events(el);\n",
       "    }\n",
       "\n",
       "}\n",
       "\n",
       "mpl.figure.prototype._key_event_extra = function(event, name) {\n",
       "    var manager = IPython.notebook.keyboard_manager;\n",
       "    if (!manager)\n",
       "        manager = IPython.keyboard_manager;\n",
       "\n",
       "    // Check for shift+enter\n",
       "    if (event.shiftKey && event.which == 13) {\n",
       "        this.canvas_div.blur();\n",
       "        event.shiftKey = false;\n",
       "        // Send a \"J\" for go to next cell\n",
       "        event.which = 74;\n",
       "        event.keyCode = 74;\n",
       "        manager.command_mode();\n",
       "        manager.handle_keydown(event);\n",
       "    }\n",
       "}\n",
       "\n",
       "mpl.figure.prototype.handle_save = function(fig, msg) {\n",
       "    fig.ondownload(fig, null);\n",
       "}\n",
       "\n",
       "\n",
       "mpl.find_output_cell = function(html_output) {\n",
       "    // Return the cell and output element which can be found *uniquely* in the notebook.\n",
       "    // Note - this is a bit hacky, but it is done because the \"notebook_saving.Notebook\"\n",
       "    // IPython event is triggered only after the cells have been serialised, which for\n",
       "    // our purposes (turning an active figure into a static one), is too late.\n",
       "    var cells = IPython.notebook.get_cells();\n",
       "    var ncells = cells.length;\n",
       "    for (var i=0; i<ncells; i++) {\n",
       "        var cell = cells[i];\n",
       "        if (cell.cell_type === 'code'){\n",
       "            for (var j=0; j<cell.output_area.outputs.length; j++) {\n",
       "                var data = cell.output_area.outputs[j];\n",
       "                if (data.data) {\n",
       "                    // IPython >= 3 moved mimebundle to data attribute of output\n",
       "                    data = data.data;\n",
       "                }\n",
       "                if (data['text/html'] == html_output) {\n",
       "                    return [cell, data, j];\n",
       "                }\n",
       "            }\n",
       "        }\n",
       "    }\n",
       "}\n",
       "\n",
       "// Register the function which deals with the matplotlib target/channel.\n",
       "// The kernel may be null if the page has been refreshed.\n",
       "if (IPython.notebook.kernel != null) {\n",
       "    IPython.notebook.kernel.comm_manager.register_target('matplotlib', mpl.mpl_figure_comm);\n",
       "}\n"
      ],
      "text/plain": [
       "<IPython.core.display.Javascript object>"
      ]
     },
     "metadata": {},
     "output_type": "display_data"
    },
    {
     "data": {
      "text/html": [
       "<img src=\"data:image/png;base64,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\" width=\"1050\">"
      ],
      "text/plain": [
       "<IPython.core.display.HTML object>"
      ]
     },
     "metadata": {},
     "output_type": "display_data"
    }
   ],
   "source": [
    "#  Define display interaction widgets\n",
    "a1=ipywidgets.FloatSlider(description='Dose(t)',min=-10.0,max=10.0,\n",
    "                          step=.01,layout=ipywidgets.Layout(width='95%'))\n",
    "nudge_text=ipywidgets.Text(description=\"Next Step\",\n",
    "                           value='Predict Response(t+1)  ')   \n",
    "y_text=ipywidgets.Text(description='Response(t+1) ',value='  '\n",
    "                       ,style={'description_width':'initial'})\n",
    "#  Define data storage vectors for plotting\n",
    "nT=11;\n",
    "t_data=np.linspace(0,nT-1,nT)   # time\n",
    "y_data=np.zeros(nT)             # output response\n",
    "y_data.fill(np.nan)\n",
    "x_data=np.zeros(nT)             # states\n",
    "x_data.fill(np.nan)\n",
    "u_data=np.zeros(nT)             # input\n",
    "u_data.fill(np.nan)\n",
    "y_limits=np.zeros(nT)           \n",
    "y_limits[0:2].fill(np.nan)  # index t=0,1 no limits\n",
    "t=0;\n",
    "x=x_0;      # Initialize state\n",
    "x_data[0]=x\n",
    "threshold=.25   # absolute error needs to be less than this   \n",
    "ref=5\n",
    "u_upper_limit=10\n",
    "u_lower_limit=-10\n",
    "y_str_upper=' (is more than '+'{:.4}'.format(str(ref+threshold)) +')'\n",
    "y_str_lower=' (is less than '+'{:.4}'.format(str(ref-threshold))+')'\n",
    "# \"Predict y (t+1)\": for given input u and state x\n",
    "def on_pred_clicked(b):\n",
    "    global x,t\n",
    "    u=a1.value\n",
    "    y_pred=C*x+D*u\n",
    "    y_str='{:.4}'.format(str(C*x+D*u))\n",
    "    exec_button.disabled=True    # disable exec button \n",
    "    if y_pred > ref+threshold:       # Prediction too high\n",
    "        if u <= u_lower_limit:\n",
    "            nudge_text.value='Hit lower tox limit'\n",
    "        else:  \n",
    "            nudge_text.value='Reduce dose(t) and Predict'\n",
    "            y_text.value = y_str+y_str_upper  \n",
    "    elif y_pred < ref-threshold:     # prediction too low\n",
    "        if u >= u_upper_limit:\n",
    "            nudge_text.value='Hit upper tox limit'\n",
    "        else: \n",
    "            nudge_text.value ='Increase dose(t) and Predict'\n",
    "            y_text.value=y_str+y_str_lower\n",
    "    else:                       # pediction in range\n",
    "        y_text.value=y_str + ' (in range)'\n",
    "        nudge_text.value ='Administer dose(t)'\n",
    "        exec_button.disabled=False      # enable exec button\n",
    "        pred_button.disabled=True       # disable predict button\n",
    "    if t==0:\n",
    "        exec_button.disabled=False          #   Do not restrict to strict prediction\n",
    "        pred_button.disabled=False          #  \n",
    "           \n",
    "# \"Execute u (t)\": for given input u, computes y and propagates state x using u\n",
    "def on_exec_clicked(b):\n",
    "    global x,t,nT\n",
    "    if t+1 <= nT-1:\n",
    "        u=a1.value\n",
    "        u_data[t]=u\n",
    "        y=C*x+D*u\n",
    "        y_data[t+1]=y\n",
    "     \n",
    "        y_text.value='{:.4}'.format(str(y))\n",
    "        x_data[t+1]=x\n",
    "        x=A*x+B*u # propagate state\n",
    "        t=t+1\n",
    "        plot_progress()\n",
    "        nudge_text.value='Predict Response(t+1)'\n",
    "        pred_button.disabled=False         # Enable predict button   \n",
    "        exec_button.disabled=True          # Disable exec button\n",
    "    else:\n",
    "        nudge_text.value='Successful Completion'\n",
    "        pred_button.disabled=True\n",
    "        exec_button.disabled=True\n",
    "# plot data progress\n",
    "def plot_progress():\n",
    "    global t_data,x_data,y_data,u_data,y_line,u_line,x_line\n",
    "    y_line.set_ydata(y_data)\n",
    "    u_line.set_ydata(u_data)\n",
    "    x_line.set_ydata(x_data)\n",
    "    \n",
    "exec_button=ipywidgets.Button(description=\"Administer Dose(t)\",disabled=True,\n",
    "                              layout=ipywidgets.Layout(width='42%'))\n",
    "exec_button.on_click(on_exec_clicked)\n",
    "pred_button=ipywidgets.Button(description=\"Predict Response(t+1)\",disabled=False,\n",
    "                              layout=ipywidgets.Layout(width='42%'))\n",
    "pred_button.on_click(on_pred_clicked)\n",
    "\n",
    "#  Layout action buttons and info boxes\n",
    "action_box=ipywidgets.HBox([pred_button,exec_button],\n",
    "                          layout=ipywidgets.Layout(justify_content='center'))\n",
    "info_box=ipywidgets.HBox([y_text,nudge_text],\n",
    "                        layout=ipywidgets.Layout(justify_content='center'))\n",
    "y_text.disabled=True;\n",
    "display(a1)\n",
    "display(info_box)\n",
    "display(action_box)\n",
    "fig1=plt.figure(1,figsize=(10.5,3.5))\n",
    "ax1=fig1.add_subplot(1,2,1)\n",
    "y_line,yl2,yl3 = ax1.plot(t_data,y_data,'b',\n",
    "                          t_data,y_limits+ref+threshold,'r',\n",
    "                          t_data,y_limits+ref-threshold,'r')\n",
    "plt.grid(True)\n",
    "plt.xlim(0,10)\n",
    "plt.ylim(4,6)\n",
    "plt.xlabel('Time')\n",
    "plt.ylabel('Response')\n",
    "ax2=fig1.add_subplot(1,2,2)\n",
    "u_line,  = ax2.plot(t_data,u_data)\n",
    "x_line,  = ax2.plot(t_data,x_data)\n",
    "plt.legend((x_line,u_line),('State x','Dose'))\n",
    "plt.grid(True)\n",
    "plt.xlim(0,10)\n",
    "plt.ylim(-10,10)\n",
    "plt.xlabel('Time');\n"
   ]
  },
  {
   "cell_type": "markdown",
   "metadata": {},
   "source": [
    "If you have been dilligent about bringing prediction close to the target at each time point, you will see \n",
    "that while the output remains tightly regulated, both inputs $u(t)$ and state $x(t)$ are oscillating and blowing up! \n",
    "\n",
    "So, with prefect prediction and output control, this system often blows up in attempting to control it tightly.\n",
    "\n",
    "On the other hand, for some initial states, if you happen to do just enough to get the response in the range an not move the input much you will successfully complete the ten steps. You can go back to the code cell that assinged the initial state and excute the subsequent code cells to get a better sense of the issue.\n",
    "\n",
    "One is reminded of the adage \"Be careful what you wish for\" and \"Unintended consequences\".  It is remarkable that this happens with a trivially simple, stable, eniterly deterministic and predictable linear dynamical system."
   ]
  },
  {
   "cell_type": "code",
   "execution_count": 7,
   "metadata": {
    "scrolled": false
   },
   "outputs": [
    {
     "name": "stdout",
     "output_type": "stream",
     "text": [
      "Saved y(t) values: [       nan 6.04331128 5.2063179  4.75242253 4.86669577 4.94668704\n",
      " 5.00268093 5.04187665 5.06931365 5.08851956        nan]\n",
      "Saved u(t) values: [0.37 0.31 0.55 0.55 0.55 0.55 0.55 0.55 0.55  nan  nan]\n"
     ]
    },
    {
     "data": {
      "application/javascript": [
       "/* Put everything inside the global mpl namespace */\n",
       "window.mpl = {};\n",
       "\n",
       "\n",
       "mpl.get_websocket_type = function() {\n",
       "    if (typeof(WebSocket) !== 'undefined') {\n",
       "        return WebSocket;\n",
       "    } else if (typeof(MozWebSocket) !== 'undefined') {\n",
       "        return MozWebSocket;\n",
       "    } else {\n",
       "        alert('Your browser does not have WebSocket support. ' +\n",
       "              'Please try Chrome, Safari or Firefox ≥ 6. ' +\n",
       "              'Firefox 4 and 5 are also supported but you ' +\n",
       "              'have to enable WebSockets in about:config.');\n",
       "    };\n",
       "}\n",
       "\n",
       "mpl.figure = function(figure_id, websocket, ondownload, parent_element) {\n",
       "    this.id = figure_id;\n",
       "\n",
       "    this.ws = websocket;\n",
       "\n",
       "    this.supports_binary = (this.ws.binaryType != undefined);\n",
       "\n",
       "    if (!this.supports_binary) {\n",
       "        var warnings = document.getElementById(\"mpl-warnings\");\n",
       "        if (warnings) {\n",
       "            warnings.style.display = 'block';\n",
       "            warnings.textContent = (\n",
       "                \"This browser does not support binary websocket messages. \" +\n",
       "                    \"Performance may be slow.\");\n",
       "        }\n",
       "    }\n",
       "\n",
       "    this.imageObj = new Image();\n",
       "\n",
       "    this.context = undefined;\n",
       "    this.message = undefined;\n",
       "    this.canvas = undefined;\n",
       "    this.rubberband_canvas = undefined;\n",
       "    this.rubberband_context = undefined;\n",
       "    this.format_dropdown = undefined;\n",
       "\n",
       "    this.image_mode = 'full';\n",
       "\n",
       "    this.root = $('<div/>');\n",
       "    this._root_extra_style(this.root)\n",
       "    this.root.attr('style', 'display: inline-block');\n",
       "\n",
       "    $(parent_element).append(this.root);\n",
       "\n",
       "    this._init_header(this);\n",
       "    this._init_canvas(this);\n",
       "    this._init_toolbar(this);\n",
       "\n",
       "    var fig = this;\n",
       "\n",
       "    this.waiting = false;\n",
       "\n",
       "    this.ws.onopen =  function () {\n",
       "            fig.send_message(\"supports_binary\", {value: fig.supports_binary});\n",
       "            fig.send_message(\"send_image_mode\", {});\n",
       "            if (mpl.ratio != 1) {\n",
       "                fig.send_message(\"set_dpi_ratio\", {'dpi_ratio': mpl.ratio});\n",
       "            }\n",
       "            fig.send_message(\"refresh\", {});\n",
       "        }\n",
       "\n",
       "    this.imageObj.onload = function() {\n",
       "            if (fig.image_mode == 'full') {\n",
       "                // Full images could contain transparency (where diff images\n",
       "                // almost always do), so we need to clear the canvas so that\n",
       "                // there is no ghosting.\n",
       "                fig.context.clearRect(0, 0, fig.canvas.width, fig.canvas.height);\n",
       "            }\n",
       "            fig.context.drawImage(fig.imageObj, 0, 0);\n",
       "        };\n",
       "\n",
       "    this.imageObj.onunload = function() {\n",
       "        fig.ws.close();\n",
       "    }\n",
       "\n",
       "    this.ws.onmessage = this._make_on_message_function(this);\n",
       "\n",
       "    this.ondownload = ondownload;\n",
       "}\n",
       "\n",
       "mpl.figure.prototype._init_header = function() {\n",
       "    var titlebar = $(\n",
       "        '<div class=\"ui-dialog-titlebar ui-widget-header ui-corner-all ' +\n",
       "        'ui-helper-clearfix\"/>');\n",
       "    var titletext = $(\n",
       "        '<div class=\"ui-dialog-title\" style=\"width: 100%; ' +\n",
       "        'text-align: center; padding: 3px;\"/>');\n",
       "    titlebar.append(titletext)\n",
       "    this.root.append(titlebar);\n",
       "    this.header = titletext[0];\n",
       "}\n",
       "\n",
       "\n",
       "\n",
       "mpl.figure.prototype._canvas_extra_style = function(canvas_div) {\n",
       "\n",
       "}\n",
       "\n",
       "\n",
       "mpl.figure.prototype._root_extra_style = function(canvas_div) {\n",
       "\n",
       "}\n",
       "\n",
       "mpl.figure.prototype._init_canvas = function() {\n",
       "    var fig = this;\n",
       "\n",
       "    var canvas_div = $('<div/>');\n",
       "\n",
       "    canvas_div.attr('style', 'position: relative; clear: both; outline: 0');\n",
       "\n",
       "    function canvas_keyboard_event(event) {\n",
       "        return fig.key_event(event, event['data']);\n",
       "    }\n",
       "\n",
       "    canvas_div.keydown('key_press', canvas_keyboard_event);\n",
       "    canvas_div.keyup('key_release', canvas_keyboard_event);\n",
       "    this.canvas_div = canvas_div\n",
       "    this._canvas_extra_style(canvas_div)\n",
       "    this.root.append(canvas_div);\n",
       "\n",
       "    var canvas = $('<canvas/>');\n",
       "    canvas.addClass('mpl-canvas');\n",
       "    canvas.attr('style', \"left: 0; top: 0; z-index: 0; outline: 0\")\n",
       "\n",
       "    this.canvas = canvas[0];\n",
       "    this.context = canvas[0].getContext(\"2d\");\n",
       "\n",
       "    var backingStore = this.context.backingStorePixelRatio ||\n",
       "\tthis.context.webkitBackingStorePixelRatio ||\n",
       "\tthis.context.mozBackingStorePixelRatio ||\n",
       "\tthis.context.msBackingStorePixelRatio ||\n",
       "\tthis.context.oBackingStorePixelRatio ||\n",
       "\tthis.context.backingStorePixelRatio || 1;\n",
       "\n",
       "    mpl.ratio = (window.devicePixelRatio || 1) / backingStore;\n",
       "\n",
       "    var rubberband = $('<canvas/>');\n",
       "    rubberband.attr('style', \"position: absolute; left: 0; top: 0; z-index: 1;\")\n",
       "\n",
       "    var pass_mouse_events = true;\n",
       "\n",
       "    canvas_div.resizable({\n",
       "        start: function(event, ui) {\n",
       "            pass_mouse_events = false;\n",
       "        },\n",
       "        resize: function(event, ui) {\n",
       "            fig.request_resize(ui.size.width, ui.size.height);\n",
       "        },\n",
       "        stop: function(event, ui) {\n",
       "            pass_mouse_events = true;\n",
       "            fig.request_resize(ui.size.width, ui.size.height);\n",
       "        },\n",
       "    });\n",
       "\n",
       "    function mouse_event_fn(event) {\n",
       "        if (pass_mouse_events)\n",
       "            return fig.mouse_event(event, event['data']);\n",
       "    }\n",
       "\n",
       "    rubberband.mousedown('button_press', mouse_event_fn);\n",
       "    rubberband.mouseup('button_release', mouse_event_fn);\n",
       "    // Throttle sequential mouse events to 1 every 20ms.\n",
       "    rubberband.mousemove('motion_notify', mouse_event_fn);\n",
       "\n",
       "    rubberband.mouseenter('figure_enter', mouse_event_fn);\n",
       "    rubberband.mouseleave('figure_leave', mouse_event_fn);\n",
       "\n",
       "    canvas_div.on(\"wheel\", function (event) {\n",
       "        event = event.originalEvent;\n",
       "        event['data'] = 'scroll'\n",
       "        if (event.deltaY < 0) {\n",
       "            event.step = 1;\n",
       "        } else {\n",
       "            event.step = -1;\n",
       "        }\n",
       "        mouse_event_fn(event);\n",
       "    });\n",
       "\n",
       "    canvas_div.append(canvas);\n",
       "    canvas_div.append(rubberband);\n",
       "\n",
       "    this.rubberband = rubberband;\n",
       "    this.rubberband_canvas = rubberband[0];\n",
       "    this.rubberband_context = rubberband[0].getContext(\"2d\");\n",
       "    this.rubberband_context.strokeStyle = \"#000000\";\n",
       "\n",
       "    this._resize_canvas = function(width, height) {\n",
       "        // Keep the size of the canvas, canvas container, and rubber band\n",
       "        // canvas in synch.\n",
       "        canvas_div.css('width', width)\n",
       "        canvas_div.css('height', height)\n",
       "\n",
       "        canvas.attr('width', width * mpl.ratio);\n",
       "        canvas.attr('height', height * mpl.ratio);\n",
       "        canvas.attr('style', 'width: ' + width + 'px; height: ' + height + 'px;');\n",
       "\n",
       "        rubberband.attr('width', width);\n",
       "        rubberband.attr('height', height);\n",
       "    }\n",
       "\n",
       "    // Set the figure to an initial 600x600px, this will subsequently be updated\n",
       "    // upon first draw.\n",
       "    this._resize_canvas(600, 600);\n",
       "\n",
       "    // Disable right mouse context menu.\n",
       "    $(this.rubberband_canvas).bind(\"contextmenu\",function(e){\n",
       "        return false;\n",
       "    });\n",
       "\n",
       "    function set_focus () {\n",
       "        canvas.focus();\n",
       "        canvas_div.focus();\n",
       "    }\n",
       "\n",
       "    window.setTimeout(set_focus, 100);\n",
       "}\n",
       "\n",
       "mpl.figure.prototype._init_toolbar = function() {\n",
       "    var fig = this;\n",
       "\n",
       "    var nav_element = $('<div/>');\n",
       "    nav_element.attr('style', 'width: 100%');\n",
       "    this.root.append(nav_element);\n",
       "\n",
       "    // Define a callback function for later on.\n",
       "    function toolbar_event(event) {\n",
       "        return fig.toolbar_button_onclick(event['data']);\n",
       "    }\n",
       "    function toolbar_mouse_event(event) {\n",
       "        return fig.toolbar_button_onmouseover(event['data']);\n",
       "    }\n",
       "\n",
       "    for(var toolbar_ind in mpl.toolbar_items) {\n",
       "        var name = mpl.toolbar_items[toolbar_ind][0];\n",
       "        var tooltip = mpl.toolbar_items[toolbar_ind][1];\n",
       "        var image = mpl.toolbar_items[toolbar_ind][2];\n",
       "        var method_name = mpl.toolbar_items[toolbar_ind][3];\n",
       "\n",
       "        if (!name) {\n",
       "            // put a spacer in here.\n",
       "            continue;\n",
       "        }\n",
       "        var button = $('<button/>');\n",
       "        button.addClass('ui-button ui-widget ui-state-default ui-corner-all ' +\n",
       "                        'ui-button-icon-only');\n",
       "        button.attr('role', 'button');\n",
       "        button.attr('aria-disabled', 'false');\n",
       "        button.click(method_name, toolbar_event);\n",
       "        button.mouseover(tooltip, toolbar_mouse_event);\n",
       "\n",
       "        var icon_img = $('<span/>');\n",
       "        icon_img.addClass('ui-button-icon-primary ui-icon');\n",
       "        icon_img.addClass(image);\n",
       "        icon_img.addClass('ui-corner-all');\n",
       "\n",
       "        var tooltip_span = $('<span/>');\n",
       "        tooltip_span.addClass('ui-button-text');\n",
       "        tooltip_span.html(tooltip);\n",
       "\n",
       "        button.append(icon_img);\n",
       "        button.append(tooltip_span);\n",
       "\n",
       "        nav_element.append(button);\n",
       "    }\n",
       "\n",
       "    var fmt_picker_span = $('<span/>');\n",
       "\n",
       "    var fmt_picker = $('<select/>');\n",
       "    fmt_picker.addClass('mpl-toolbar-option ui-widget ui-widget-content');\n",
       "    fmt_picker_span.append(fmt_picker);\n",
       "    nav_element.append(fmt_picker_span);\n",
       "    this.format_dropdown = fmt_picker[0];\n",
       "\n",
       "    for (var ind in mpl.extensions) {\n",
       "        var fmt = mpl.extensions[ind];\n",
       "        var option = $(\n",
       "            '<option/>', {selected: fmt === mpl.default_extension}).html(fmt);\n",
       "        fmt_picker.append(option);\n",
       "    }\n",
       "\n",
       "    // Add hover states to the ui-buttons\n",
       "    $( \".ui-button\" ).hover(\n",
       "        function() { $(this).addClass(\"ui-state-hover\");},\n",
       "        function() { $(this).removeClass(\"ui-state-hover\");}\n",
       "    );\n",
       "\n",
       "    var status_bar = $('<span class=\"mpl-message\"/>');\n",
       "    nav_element.append(status_bar);\n",
       "    this.message = status_bar[0];\n",
       "}\n",
       "\n",
       "mpl.figure.prototype.request_resize = function(x_pixels, y_pixels) {\n",
       "    // Request matplotlib to resize the figure. Matplotlib will then trigger a resize in the client,\n",
       "    // which will in turn request a refresh of the image.\n",
       "    this.send_message('resize', {'width': x_pixels, 'height': y_pixels});\n",
       "}\n",
       "\n",
       "mpl.figure.prototype.send_message = function(type, properties) {\n",
       "    properties['type'] = type;\n",
       "    properties['figure_id'] = this.id;\n",
       "    this.ws.send(JSON.stringify(properties));\n",
       "}\n",
       "\n",
       "mpl.figure.prototype.send_draw_message = function() {\n",
       "    if (!this.waiting) {\n",
       "        this.waiting = true;\n",
       "        this.ws.send(JSON.stringify({type: \"draw\", figure_id: this.id}));\n",
       "    }\n",
       "}\n",
       "\n",
       "\n",
       "mpl.figure.prototype.handle_save = function(fig, msg) {\n",
       "    var format_dropdown = fig.format_dropdown;\n",
       "    var format = format_dropdown.options[format_dropdown.selectedIndex].value;\n",
       "    fig.ondownload(fig, format);\n",
       "}\n",
       "\n",
       "\n",
       "mpl.figure.prototype.handle_resize = function(fig, msg) {\n",
       "    var size = msg['size'];\n",
       "    if (size[0] != fig.canvas.width || size[1] != fig.canvas.height) {\n",
       "        fig._resize_canvas(size[0], size[1]);\n",
       "        fig.send_message(\"refresh\", {});\n",
       "    };\n",
       "}\n",
       "\n",
       "mpl.figure.prototype.handle_rubberband = function(fig, msg) {\n",
       "    var x0 = msg['x0'] / mpl.ratio;\n",
       "    var y0 = (fig.canvas.height - msg['y0']) / mpl.ratio;\n",
       "    var x1 = msg['x1'] / mpl.ratio;\n",
       "    var y1 = (fig.canvas.height - msg['y1']) / mpl.ratio;\n",
       "    x0 = Math.floor(x0) + 0.5;\n",
       "    y0 = Math.floor(y0) + 0.5;\n",
       "    x1 = Math.floor(x1) + 0.5;\n",
       "    y1 = Math.floor(y1) + 0.5;\n",
       "    var min_x = Math.min(x0, x1);\n",
       "    var min_y = Math.min(y0, y1);\n",
       "    var width = Math.abs(x1 - x0);\n",
       "    var height = Math.abs(y1 - y0);\n",
       "\n",
       "    fig.rubberband_context.clearRect(\n",
       "        0, 0, fig.canvas.width, fig.canvas.height);\n",
       "\n",
       "    fig.rubberband_context.strokeRect(min_x, min_y, width, height);\n",
       "}\n",
       "\n",
       "mpl.figure.prototype.handle_figure_label = function(fig, msg) {\n",
       "    // Updates the figure title.\n",
       "    fig.header.textContent = msg['label'];\n",
       "}\n",
       "\n",
       "mpl.figure.prototype.handle_cursor = function(fig, msg) {\n",
       "    var cursor = msg['cursor'];\n",
       "    switch(cursor)\n",
       "    {\n",
       "    case 0:\n",
       "        cursor = 'pointer';\n",
       "        break;\n",
       "    case 1:\n",
       "        cursor = 'default';\n",
       "        break;\n",
       "    case 2:\n",
       "        cursor = 'crosshair';\n",
       "        break;\n",
       "    case 3:\n",
       "        cursor = 'move';\n",
       "        break;\n",
       "    }\n",
       "    fig.rubberband_canvas.style.cursor = cursor;\n",
       "}\n",
       "\n",
       "mpl.figure.prototype.handle_message = function(fig, msg) {\n",
       "    fig.message.textContent = msg['message'];\n",
       "}\n",
       "\n",
       "mpl.figure.prototype.handle_draw = function(fig, msg) {\n",
       "    // Request the server to send over a new figure.\n",
       "    fig.send_draw_message();\n",
       "}\n",
       "\n",
       "mpl.figure.prototype.handle_image_mode = function(fig, msg) {\n",
       "    fig.image_mode = msg['mode'];\n",
       "}\n",
       "\n",
       "mpl.figure.prototype.updated_canvas_event = function() {\n",
       "    // Called whenever the canvas gets updated.\n",
       "    this.send_message(\"ack\", {});\n",
       "}\n",
       "\n",
       "// A function to construct a web socket function for onmessage handling.\n",
       "// Called in the figure constructor.\n",
       "mpl.figure.prototype._make_on_message_function = function(fig) {\n",
       "    return function socket_on_message(evt) {\n",
       "        if (evt.data instanceof Blob) {\n",
       "            /* FIXME: We get \"Resource interpreted as Image but\n",
       "             * transferred with MIME type text/plain:\" errors on\n",
       "             * Chrome.  But how to set the MIME type?  It doesn't seem\n",
       "             * to be part of the websocket stream */\n",
       "            evt.data.type = \"image/png\";\n",
       "\n",
       "            /* Free the memory for the previous frames */\n",
       "            if (fig.imageObj.src) {\n",
       "                (window.URL || window.webkitURL).revokeObjectURL(\n",
       "                    fig.imageObj.src);\n",
       "            }\n",
       "\n",
       "            fig.imageObj.src = (window.URL || window.webkitURL).createObjectURL(\n",
       "                evt.data);\n",
       "            fig.updated_canvas_event();\n",
       "            fig.waiting = false;\n",
       "            return;\n",
       "        }\n",
       "        else if (typeof evt.data === 'string' && evt.data.slice(0, 21) == \"data:image/png;base64\") {\n",
       "            fig.imageObj.src = evt.data;\n",
       "            fig.updated_canvas_event();\n",
       "            fig.waiting = false;\n",
       "            return;\n",
       "        }\n",
       "\n",
       "        var msg = JSON.parse(evt.data);\n",
       "        var msg_type = msg['type'];\n",
       "\n",
       "        // Call the  \"handle_{type}\" callback, which takes\n",
       "        // the figure and JSON message as its only arguments.\n",
       "        try {\n",
       "            var callback = fig[\"handle_\" + msg_type];\n",
       "        } catch (e) {\n",
       "            console.log(\"No handler for the '\" + msg_type + \"' message type: \", msg);\n",
       "            return;\n",
       "        }\n",
       "\n",
       "        if (callback) {\n",
       "            try {\n",
       "                // console.log(\"Handling '\" + msg_type + \"' message: \", msg);\n",
       "                callback(fig, msg);\n",
       "            } catch (e) {\n",
       "                console.log(\"Exception inside the 'handler_\" + msg_type + \"' callback:\", e, e.stack, msg);\n",
       "            }\n",
       "        }\n",
       "    };\n",
       "}\n",
       "\n",
       "// from http://stackoverflow.com/questions/1114465/getting-mouse-location-in-canvas\n",
       "mpl.findpos = function(e) {\n",
       "    //this section is from http://www.quirksmode.org/js/events_properties.html\n",
       "    var targ;\n",
       "    if (!e)\n",
       "        e = window.event;\n",
       "    if (e.target)\n",
       "        targ = e.target;\n",
       "    else if (e.srcElement)\n",
       "        targ = e.srcElement;\n",
       "    if (targ.nodeType == 3) // defeat Safari bug\n",
       "        targ = targ.parentNode;\n",
       "\n",
       "    // jQuery normalizes the pageX and pageY\n",
       "    // pageX,Y are the mouse positions relative to the document\n",
       "    // offset() returns the position of the element relative to the document\n",
       "    var x = e.pageX - $(targ).offset().left;\n",
       "    var y = e.pageY - $(targ).offset().top;\n",
       "\n",
       "    return {\"x\": x, \"y\": y};\n",
       "};\n",
       "\n",
       "/*\n",
       " * return a copy of an object with only non-object keys\n",
       " * we need this to avoid circular references\n",
       " * http://stackoverflow.com/a/24161582/3208463\n",
       " */\n",
       "function simpleKeys (original) {\n",
       "  return Object.keys(original).reduce(function (obj, key) {\n",
       "    if (typeof original[key] !== 'object')\n",
       "        obj[key] = original[key]\n",
       "    return obj;\n",
       "  }, {});\n",
       "}\n",
       "\n",
       "mpl.figure.prototype.mouse_event = function(event, name) {\n",
       "    var canvas_pos = mpl.findpos(event)\n",
       "\n",
       "    if (name === 'button_press')\n",
       "    {\n",
       "        this.canvas.focus();\n",
       "        this.canvas_div.focus();\n",
       "    }\n",
       "\n",
       "    var x = canvas_pos.x * mpl.ratio;\n",
       "    var y = canvas_pos.y * mpl.ratio;\n",
       "\n",
       "    this.send_message(name, {x: x, y: y, button: event.button,\n",
       "                             step: event.step,\n",
       "                             guiEvent: simpleKeys(event)});\n",
       "\n",
       "    /* This prevents the web browser from automatically changing to\n",
       "     * the text insertion cursor when the button is pressed.  We want\n",
       "     * to control all of the cursor setting manually through the\n",
       "     * 'cursor' event from matplotlib */\n",
       "    event.preventDefault();\n",
       "    return false;\n",
       "}\n",
       "\n",
       "mpl.figure.prototype._key_event_extra = function(event, name) {\n",
       "    // Handle any extra behaviour associated with a key event\n",
       "}\n",
       "\n",
       "mpl.figure.prototype.key_event = function(event, name) {\n",
       "\n",
       "    // Prevent repeat events\n",
       "    if (name == 'key_press')\n",
       "    {\n",
       "        if (event.which === this._key)\n",
       "            return;\n",
       "        else\n",
       "            this._key = event.which;\n",
       "    }\n",
       "    if (name == 'key_release')\n",
       "        this._key = null;\n",
       "\n",
       "    var value = '';\n",
       "    if (event.ctrlKey && event.which != 17)\n",
       "        value += \"ctrl+\";\n",
       "    if (event.altKey && event.which != 18)\n",
       "        value += \"alt+\";\n",
       "    if (event.shiftKey && event.which != 16)\n",
       "        value += \"shift+\";\n",
       "\n",
       "    value += 'k';\n",
       "    value += event.which.toString();\n",
       "\n",
       "    this._key_event_extra(event, name);\n",
       "\n",
       "    this.send_message(name, {key: value,\n",
       "                             guiEvent: simpleKeys(event)});\n",
       "    return false;\n",
       "}\n",
       "\n",
       "mpl.figure.prototype.toolbar_button_onclick = function(name) {\n",
       "    if (name == 'download') {\n",
       "        this.handle_save(this, null);\n",
       "    } else {\n",
       "        this.send_message(\"toolbar_button\", {name: name});\n",
       "    }\n",
       "};\n",
       "\n",
       "mpl.figure.prototype.toolbar_button_onmouseover = function(tooltip) {\n",
       "    this.message.textContent = tooltip;\n",
       "};\n",
       "mpl.toolbar_items = [[\"Home\", \"Reset original view\", \"fa fa-home icon-home\", \"home\"], [\"Back\", \"Back to previous view\", \"fa fa-arrow-left icon-arrow-left\", \"back\"], [\"Forward\", \"Forward to next view\", \"fa fa-arrow-right icon-arrow-right\", \"forward\"], [\"\", \"\", \"\", \"\"], [\"Pan\", \"Pan axes with left mouse, zoom with right\", \"fa fa-arrows icon-move\", \"pan\"], [\"Zoom\", \"Zoom to rectangle\", \"fa fa-square-o icon-check-empty\", \"zoom\"], [\"\", \"\", \"\", \"\"], [\"Download\", \"Download plot\", \"fa fa-floppy-o icon-save\", \"download\"]];\n",
       "\n",
       "mpl.extensions = [\"eps\", \"pdf\", \"png\", \"ps\", \"raw\", \"svg\"];\n",
       "\n",
       "mpl.default_extension = \"png\";var comm_websocket_adapter = function(comm) {\n",
       "    // Create a \"websocket\"-like object which calls the given IPython comm\n",
       "    // object with the appropriate methods. Currently this is a non binary\n",
       "    // socket, so there is still some room for performance tuning.\n",
       "    var ws = {};\n",
       "\n",
       "    ws.close = function() {\n",
       "        comm.close()\n",
       "    };\n",
       "    ws.send = function(m) {\n",
       "        //console.log('sending', m);\n",
       "        comm.send(m);\n",
       "    };\n",
       "    // Register the callback with on_msg.\n",
       "    comm.on_msg(function(msg) {\n",
       "        //console.log('receiving', msg['content']['data'], msg);\n",
       "        // Pass the mpl event to the overridden (by mpl) onmessage function.\n",
       "        ws.onmessage(msg['content']['data'])\n",
       "    });\n",
       "    return ws;\n",
       "}\n",
       "\n",
       "mpl.mpl_figure_comm = function(comm, msg) {\n",
       "    // This is the function which gets called when the mpl process\n",
       "    // starts-up an IPython Comm through the \"matplotlib\" channel.\n",
       "\n",
       "    var id = msg.content.data.id;\n",
       "    // Get hold of the div created by the display call when the Comm\n",
       "    // socket was opened in Python.\n",
       "    var element = $(\"#\" + id);\n",
       "    var ws_proxy = comm_websocket_adapter(comm)\n",
       "\n",
       "    function ondownload(figure, format) {\n",
       "        window.open(figure.imageObj.src);\n",
       "    }\n",
       "\n",
       "    var fig = new mpl.figure(id, ws_proxy,\n",
       "                           ondownload,\n",
       "                           element.get(0));\n",
       "\n",
       "    // Call onopen now - mpl needs it, as it is assuming we've passed it a real\n",
       "    // web socket which is closed, not our websocket->open comm proxy.\n",
       "    ws_proxy.onopen();\n",
       "\n",
       "    fig.parent_element = element.get(0);\n",
       "    fig.cell_info = mpl.find_output_cell(\"<div id='\" + id + \"'></div>\");\n",
       "    if (!fig.cell_info) {\n",
       "        console.error(\"Failed to find cell for figure\", id, fig);\n",
       "        return;\n",
       "    }\n",
       "\n",
       "    var output_index = fig.cell_info[2]\n",
       "    var cell = fig.cell_info[0];\n",
       "\n",
       "};\n",
       "\n",
       "mpl.figure.prototype.handle_close = function(fig, msg) {\n",
       "    var width = fig.canvas.width/mpl.ratio\n",
       "    fig.root.unbind('remove')\n",
       "\n",
       "    // Update the output cell to use the data from the current canvas.\n",
       "    fig.push_to_output();\n",
       "    var dataURL = fig.canvas.toDataURL();\n",
       "    // Re-enable the keyboard manager in IPython - without this line, in FF,\n",
       "    // the notebook keyboard shortcuts fail.\n",
       "    IPython.keyboard_manager.enable()\n",
       "    $(fig.parent_element).html('<img src=\"' + dataURL + '\" width=\"' + width + '\">');\n",
       "    fig.close_ws(fig, msg);\n",
       "}\n",
       "\n",
       "mpl.figure.prototype.close_ws = function(fig, msg){\n",
       "    fig.send_message('closing', msg);\n",
       "    // fig.ws.close()\n",
       "}\n",
       "\n",
       "mpl.figure.prototype.push_to_output = function(remove_interactive) {\n",
       "    // Turn the data on the canvas into data in the output cell.\n",
       "    var width = this.canvas.width/mpl.ratio\n",
       "    var dataURL = this.canvas.toDataURL();\n",
       "    this.cell_info[1]['text/html'] = '<img src=\"' + dataURL + '\" width=\"' + width + '\">';\n",
       "}\n",
       "\n",
       "mpl.figure.prototype.updated_canvas_event = function() {\n",
       "    // Tell IPython that the notebook contents must change.\n",
       "    IPython.notebook.set_dirty(true);\n",
       "    this.send_message(\"ack\", {});\n",
       "    var fig = this;\n",
       "    // Wait a second, then push the new image to the DOM so\n",
       "    // that it is saved nicely (might be nice to debounce this).\n",
       "    setTimeout(function () { fig.push_to_output() }, 1000);\n",
       "}\n",
       "\n",
       "mpl.figure.prototype._init_toolbar = function() {\n",
       "    var fig = this;\n",
       "\n",
       "    var nav_element = $('<div/>');\n",
       "    nav_element.attr('style', 'width: 100%');\n",
       "    this.root.append(nav_element);\n",
       "\n",
       "    // Define a callback function for later on.\n",
       "    function toolbar_event(event) {\n",
       "        return fig.toolbar_button_onclick(event['data']);\n",
       "    }\n",
       "    function toolbar_mouse_event(event) {\n",
       "        return fig.toolbar_button_onmouseover(event['data']);\n",
       "    }\n",
       "\n",
       "    for(var toolbar_ind in mpl.toolbar_items){\n",
       "        var name = mpl.toolbar_items[toolbar_ind][0];\n",
       "        var tooltip = mpl.toolbar_items[toolbar_ind][1];\n",
       "        var image = mpl.toolbar_items[toolbar_ind][2];\n",
       "        var method_name = mpl.toolbar_items[toolbar_ind][3];\n",
       "\n",
       "        if (!name) { continue; };\n",
       "\n",
       "        var button = $('<button class=\"btn btn-default\" href=\"#\" title=\"' + name + '\"><i class=\"fa ' + image + ' fa-lg\"></i></button>');\n",
       "        button.click(method_name, toolbar_event);\n",
       "        button.mouseover(tooltip, toolbar_mouse_event);\n",
       "        nav_element.append(button);\n",
       "    }\n",
       "\n",
       "    // Add the status bar.\n",
       "    var status_bar = $('<span class=\"mpl-message\" style=\"text-align:right; float: right;\"/>');\n",
       "    nav_element.append(status_bar);\n",
       "    this.message = status_bar[0];\n",
       "\n",
       "    // Add the close button to the window.\n",
       "    var buttongrp = $('<div class=\"btn-group inline pull-right\"></div>');\n",
       "    var button = $('<button class=\"btn btn-mini btn-primary\" href=\"#\" title=\"Stop Interaction\"><i class=\"fa fa-power-off icon-remove icon-large\"></i></button>');\n",
       "    button.click(function (evt) { fig.handle_close(fig, {}); } );\n",
       "    button.mouseover('Stop Interaction', toolbar_mouse_event);\n",
       "    buttongrp.append(button);\n",
       "    var titlebar = this.root.find($('.ui-dialog-titlebar'));\n",
       "    titlebar.prepend(buttongrp);\n",
       "}\n",
       "\n",
       "mpl.figure.prototype._root_extra_style = function(el){\n",
       "    var fig = this\n",
       "    el.on(\"remove\", function(){\n",
       "\tfig.close_ws(fig, {});\n",
       "    });\n",
       "}\n",
       "\n",
       "mpl.figure.prototype._canvas_extra_style = function(el){\n",
       "    // this is important to make the div 'focusable\n",
       "    el.attr('tabindex', 0)\n",
       "    // reach out to IPython and tell the keyboard manager to turn it's self\n",
       "    // off when our div gets focus\n",
       "\n",
       "    // location in version 3\n",
       "    if (IPython.notebook.keyboard_manager) {\n",
       "        IPython.notebook.keyboard_manager.register_events(el);\n",
       "    }\n",
       "    else {\n",
       "        // location in version 2\n",
       "        IPython.keyboard_manager.register_events(el);\n",
       "    }\n",
       "\n",
       "}\n",
       "\n",
       "mpl.figure.prototype._key_event_extra = function(event, name) {\n",
       "    var manager = IPython.notebook.keyboard_manager;\n",
       "    if (!manager)\n",
       "        manager = IPython.keyboard_manager;\n",
       "\n",
       "    // Check for shift+enter\n",
       "    if (event.shiftKey && event.which == 13) {\n",
       "        this.canvas_div.blur();\n",
       "        event.shiftKey = false;\n",
       "        // Send a \"J\" for go to next cell\n",
       "        event.which = 74;\n",
       "        event.keyCode = 74;\n",
       "        manager.command_mode();\n",
       "        manager.handle_keydown(event);\n",
       "    }\n",
       "}\n",
       "\n",
       "mpl.figure.prototype.handle_save = function(fig, msg) {\n",
       "    fig.ondownload(fig, null);\n",
       "}\n",
       "\n",
       "\n",
       "mpl.find_output_cell = function(html_output) {\n",
       "    // Return the cell and output element which can be found *uniquely* in the notebook.\n",
       "    // Note - this is a bit hacky, but it is done because the \"notebook_saving.Notebook\"\n",
       "    // IPython event is triggered only after the cells have been serialised, which for\n",
       "    // our purposes (turning an active figure into a static one), is too late.\n",
       "    var cells = IPython.notebook.get_cells();\n",
       "    var ncells = cells.length;\n",
       "    for (var i=0; i<ncells; i++) {\n",
       "        var cell = cells[i];\n",
       "        if (cell.cell_type === 'code'){\n",
       "            for (var j=0; j<cell.output_area.outputs.length; j++) {\n",
       "                var data = cell.output_area.outputs[j];\n",
       "                if (data.data) {\n",
       "                    // IPython >= 3 moved mimebundle to data attribute of output\n",
       "                    data = data.data;\n",
       "                }\n",
       "                if (data['text/html'] == html_output) {\n",
       "                    return [cell, data, j];\n",
       "                }\n",
       "            }\n",
       "        }\n",
       "    }\n",
       "}\n",
       "\n",
       "// Register the function which deals with the matplotlib target/channel.\n",
       "// The kernel may be null if the page has been refreshed.\n",
       "if (IPython.notebook.kernel != null) {\n",
       "    IPython.notebook.kernel.comm_manager.register_target('matplotlib', mpl.mpl_figure_comm);\n",
       "}\n"
      ],
      "text/plain": [
       "<IPython.core.display.Javascript object>"
      ]
     },
     "metadata": {},
     "output_type": "display_data"
    },
    {
     "data": {
      "text/html": [
       "<img src=\"data:image/png;base64,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\" width=\"1100\">"
      ],
      "text/plain": [
       "<IPython.core.display.HTML object>"
      ]
     },
     "metadata": {},
     "output_type": "display_data"
    },
    {
     "data": {
      "application/javascript": [
       "/* Put everything inside the global mpl namespace */\n",
       "window.mpl = {};\n",
       "\n",
       "\n",
       "mpl.get_websocket_type = function() {\n",
       "    if (typeof(WebSocket) !== 'undefined') {\n",
       "        return WebSocket;\n",
       "    } else if (typeof(MozWebSocket) !== 'undefined') {\n",
       "        return MozWebSocket;\n",
       "    } else {\n",
       "        alert('Your browser does not have WebSocket support. ' +\n",
       "              'Please try Chrome, Safari or Firefox ≥ 6. ' +\n",
       "              'Firefox 4 and 5 are also supported but you ' +\n",
       "              'have to enable WebSockets in about:config.');\n",
       "    };\n",
       "}\n",
       "\n",
       "mpl.figure = function(figure_id, websocket, ondownload, parent_element) {\n",
       "    this.id = figure_id;\n",
       "\n",
       "    this.ws = websocket;\n",
       "\n",
       "    this.supports_binary = (this.ws.binaryType != undefined);\n",
       "\n",
       "    if (!this.supports_binary) {\n",
       "        var warnings = document.getElementById(\"mpl-warnings\");\n",
       "        if (warnings) {\n",
       "            warnings.style.display = 'block';\n",
       "            warnings.textContent = (\n",
       "                \"This browser does not support binary websocket messages. \" +\n",
       "                    \"Performance may be slow.\");\n",
       "        }\n",
       "    }\n",
       "\n",
       "    this.imageObj = new Image();\n",
       "\n",
       "    this.context = undefined;\n",
       "    this.message = undefined;\n",
       "    this.canvas = undefined;\n",
       "    this.rubberband_canvas = undefined;\n",
       "    this.rubberband_context = undefined;\n",
       "    this.format_dropdown = undefined;\n",
       "\n",
       "    this.image_mode = 'full';\n",
       "\n",
       "    this.root = $('<div/>');\n",
       "    this._root_extra_style(this.root)\n",
       "    this.root.attr('style', 'display: inline-block');\n",
       "\n",
       "    $(parent_element).append(this.root);\n",
       "\n",
       "    this._init_header(this);\n",
       "    this._init_canvas(this);\n",
       "    this._init_toolbar(this);\n",
       "\n",
       "    var fig = this;\n",
       "\n",
       "    this.waiting = false;\n",
       "\n",
       "    this.ws.onopen =  function () {\n",
       "            fig.send_message(\"supports_binary\", {value: fig.supports_binary});\n",
       "            fig.send_message(\"send_image_mode\", {});\n",
       "            if (mpl.ratio != 1) {\n",
       "                fig.send_message(\"set_dpi_ratio\", {'dpi_ratio': mpl.ratio});\n",
       "            }\n",
       "            fig.send_message(\"refresh\", {});\n",
       "        }\n",
       "\n",
       "    this.imageObj.onload = function() {\n",
       "            if (fig.image_mode == 'full') {\n",
       "                // Full images could contain transparency (where diff images\n",
       "                // almost always do), so we need to clear the canvas so that\n",
       "                // there is no ghosting.\n",
       "                fig.context.clearRect(0, 0, fig.canvas.width, fig.canvas.height);\n",
       "            }\n",
       "            fig.context.drawImage(fig.imageObj, 0, 0);\n",
       "        };\n",
       "\n",
       "    this.imageObj.onunload = function() {\n",
       "        fig.ws.close();\n",
       "    }\n",
       "\n",
       "    this.ws.onmessage = this._make_on_message_function(this);\n",
       "\n",
       "    this.ondownload = ondownload;\n",
       "}\n",
       "\n",
       "mpl.figure.prototype._init_header = function() {\n",
       "    var titlebar = $(\n",
       "        '<div class=\"ui-dialog-titlebar ui-widget-header ui-corner-all ' +\n",
       "        'ui-helper-clearfix\"/>');\n",
       "    var titletext = $(\n",
       "        '<div class=\"ui-dialog-title\" style=\"width: 100%; ' +\n",
       "        'text-align: center; padding: 3px;\"/>');\n",
       "    titlebar.append(titletext)\n",
       "    this.root.append(titlebar);\n",
       "    this.header = titletext[0];\n",
       "}\n",
       "\n",
       "\n",
       "\n",
       "mpl.figure.prototype._canvas_extra_style = function(canvas_div) {\n",
       "\n",
       "}\n",
       "\n",
       "\n",
       "mpl.figure.prototype._root_extra_style = function(canvas_div) {\n",
       "\n",
       "}\n",
       "\n",
       "mpl.figure.prototype._init_canvas = function() {\n",
       "    var fig = this;\n",
       "\n",
       "    var canvas_div = $('<div/>');\n",
       "\n",
       "    canvas_div.attr('style', 'position: relative; clear: both; outline: 0');\n",
       "\n",
       "    function canvas_keyboard_event(event) {\n",
       "        return fig.key_event(event, event['data']);\n",
       "    }\n",
       "\n",
       "    canvas_div.keydown('key_press', canvas_keyboard_event);\n",
       "    canvas_div.keyup('key_release', canvas_keyboard_event);\n",
       "    this.canvas_div = canvas_div\n",
       "    this._canvas_extra_style(canvas_div)\n",
       "    this.root.append(canvas_div);\n",
       "\n",
       "    var canvas = $('<canvas/>');\n",
       "    canvas.addClass('mpl-canvas');\n",
       "    canvas.attr('style', \"left: 0; top: 0; z-index: 0; outline: 0\")\n",
       "\n",
       "    this.canvas = canvas[0];\n",
       "    this.context = canvas[0].getContext(\"2d\");\n",
       "\n",
       "    var backingStore = this.context.backingStorePixelRatio ||\n",
       "\tthis.context.webkitBackingStorePixelRatio ||\n",
       "\tthis.context.mozBackingStorePixelRatio ||\n",
       "\tthis.context.msBackingStorePixelRatio ||\n",
       "\tthis.context.oBackingStorePixelRatio ||\n",
       "\tthis.context.backingStorePixelRatio || 1;\n",
       "\n",
       "    mpl.ratio = (window.devicePixelRatio || 1) / backingStore;\n",
       "\n",
       "    var rubberband = $('<canvas/>');\n",
       "    rubberband.attr('style', \"position: absolute; left: 0; top: 0; z-index: 1;\")\n",
       "\n",
       "    var pass_mouse_events = true;\n",
       "\n",
       "    canvas_div.resizable({\n",
       "        start: function(event, ui) {\n",
       "            pass_mouse_events = false;\n",
       "        },\n",
       "        resize: function(event, ui) {\n",
       "            fig.request_resize(ui.size.width, ui.size.height);\n",
       "        },\n",
       "        stop: function(event, ui) {\n",
       "            pass_mouse_events = true;\n",
       "            fig.request_resize(ui.size.width, ui.size.height);\n",
       "        },\n",
       "    });\n",
       "\n",
       "    function mouse_event_fn(event) {\n",
       "        if (pass_mouse_events)\n",
       "            return fig.mouse_event(event, event['data']);\n",
       "    }\n",
       "\n",
       "    rubberband.mousedown('button_press', mouse_event_fn);\n",
       "    rubberband.mouseup('button_release', mouse_event_fn);\n",
       "    // Throttle sequential mouse events to 1 every 20ms.\n",
       "    rubberband.mousemove('motion_notify', mouse_event_fn);\n",
       "\n",
       "    rubberband.mouseenter('figure_enter', mouse_event_fn);\n",
       "    rubberband.mouseleave('figure_leave', mouse_event_fn);\n",
       "\n",
       "    canvas_div.on(\"wheel\", function (event) {\n",
       "        event = event.originalEvent;\n",
       "        event['data'] = 'scroll'\n",
       "        if (event.deltaY < 0) {\n",
       "            event.step = 1;\n",
       "        } else {\n",
       "            event.step = -1;\n",
       "        }\n",
       "        mouse_event_fn(event);\n",
       "    });\n",
       "\n",
       "    canvas_div.append(canvas);\n",
       "    canvas_div.append(rubberband);\n",
       "\n",
       "    this.rubberband = rubberband;\n",
       "    this.rubberband_canvas = rubberband[0];\n",
       "    this.rubberband_context = rubberband[0].getContext(\"2d\");\n",
       "    this.rubberband_context.strokeStyle = \"#000000\";\n",
       "\n",
       "    this._resize_canvas = function(width, height) {\n",
       "        // Keep the size of the canvas, canvas container, and rubber band\n",
       "        // canvas in synch.\n",
       "        canvas_div.css('width', width)\n",
       "        canvas_div.css('height', height)\n",
       "\n",
       "        canvas.attr('width', width * mpl.ratio);\n",
       "        canvas.attr('height', height * mpl.ratio);\n",
       "        canvas.attr('style', 'width: ' + width + 'px; height: ' + height + 'px;');\n",
       "\n",
       "        rubberband.attr('width', width);\n",
       "        rubberband.attr('height', height);\n",
       "    }\n",
       "\n",
       "    // Set the figure to an initial 600x600px, this will subsequently be updated\n",
       "    // upon first draw.\n",
       "    this._resize_canvas(600, 600);\n",
       "\n",
       "    // Disable right mouse context menu.\n",
       "    $(this.rubberband_canvas).bind(\"contextmenu\",function(e){\n",
       "        return false;\n",
       "    });\n",
       "\n",
       "    function set_focus () {\n",
       "        canvas.focus();\n",
       "        canvas_div.focus();\n",
       "    }\n",
       "\n",
       "    window.setTimeout(set_focus, 100);\n",
       "}\n",
       "\n",
       "mpl.figure.prototype._init_toolbar = function() {\n",
       "    var fig = this;\n",
       "\n",
       "    var nav_element = $('<div/>');\n",
       "    nav_element.attr('style', 'width: 100%');\n",
       "    this.root.append(nav_element);\n",
       "\n",
       "    // Define a callback function for later on.\n",
       "    function toolbar_event(event) {\n",
       "        return fig.toolbar_button_onclick(event['data']);\n",
       "    }\n",
       "    function toolbar_mouse_event(event) {\n",
       "        return fig.toolbar_button_onmouseover(event['data']);\n",
       "    }\n",
       "\n",
       "    for(var toolbar_ind in mpl.toolbar_items) {\n",
       "        var name = mpl.toolbar_items[toolbar_ind][0];\n",
       "        var tooltip = mpl.toolbar_items[toolbar_ind][1];\n",
       "        var image = mpl.toolbar_items[toolbar_ind][2];\n",
       "        var method_name = mpl.toolbar_items[toolbar_ind][3];\n",
       "\n",
       "        if (!name) {\n",
       "            // put a spacer in here.\n",
       "            continue;\n",
       "        }\n",
       "        var button = $('<button/>');\n",
       "        button.addClass('ui-button ui-widget ui-state-default ui-corner-all ' +\n",
       "                        'ui-button-icon-only');\n",
       "        button.attr('role', 'button');\n",
       "        button.attr('aria-disabled', 'false');\n",
       "        button.click(method_name, toolbar_event);\n",
       "        button.mouseover(tooltip, toolbar_mouse_event);\n",
       "\n",
       "        var icon_img = $('<span/>');\n",
       "        icon_img.addClass('ui-button-icon-primary ui-icon');\n",
       "        icon_img.addClass(image);\n",
       "        icon_img.addClass('ui-corner-all');\n",
       "\n",
       "        var tooltip_span = $('<span/>');\n",
       "        tooltip_span.addClass('ui-button-text');\n",
       "        tooltip_span.html(tooltip);\n",
       "\n",
       "        button.append(icon_img);\n",
       "        button.append(tooltip_span);\n",
       "\n",
       "        nav_element.append(button);\n",
       "    }\n",
       "\n",
       "    var fmt_picker_span = $('<span/>');\n",
       "\n",
       "    var fmt_picker = $('<select/>');\n",
       "    fmt_picker.addClass('mpl-toolbar-option ui-widget ui-widget-content');\n",
       "    fmt_picker_span.append(fmt_picker);\n",
       "    nav_element.append(fmt_picker_span);\n",
       "    this.format_dropdown = fmt_picker[0];\n",
       "\n",
       "    for (var ind in mpl.extensions) {\n",
       "        var fmt = mpl.extensions[ind];\n",
       "        var option = $(\n",
       "            '<option/>', {selected: fmt === mpl.default_extension}).html(fmt);\n",
       "        fmt_picker.append(option);\n",
       "    }\n",
       "\n",
       "    // Add hover states to the ui-buttons\n",
       "    $( \".ui-button\" ).hover(\n",
       "        function() { $(this).addClass(\"ui-state-hover\");},\n",
       "        function() { $(this).removeClass(\"ui-state-hover\");}\n",
       "    );\n",
       "\n",
       "    var status_bar = $('<span class=\"mpl-message\"/>');\n",
       "    nav_element.append(status_bar);\n",
       "    this.message = status_bar[0];\n",
       "}\n",
       "\n",
       "mpl.figure.prototype.request_resize = function(x_pixels, y_pixels) {\n",
       "    // Request matplotlib to resize the figure. Matplotlib will then trigger a resize in the client,\n",
       "    // which will in turn request a refresh of the image.\n",
       "    this.send_message('resize', {'width': x_pixels, 'height': y_pixels});\n",
       "}\n",
       "\n",
       "mpl.figure.prototype.send_message = function(type, properties) {\n",
       "    properties['type'] = type;\n",
       "    properties['figure_id'] = this.id;\n",
       "    this.ws.send(JSON.stringify(properties));\n",
       "}\n",
       "\n",
       "mpl.figure.prototype.send_draw_message = function() {\n",
       "    if (!this.waiting) {\n",
       "        this.waiting = true;\n",
       "        this.ws.send(JSON.stringify({type: \"draw\", figure_id: this.id}));\n",
       "    }\n",
       "}\n",
       "\n",
       "\n",
       "mpl.figure.prototype.handle_save = function(fig, msg) {\n",
       "    var format_dropdown = fig.format_dropdown;\n",
       "    var format = format_dropdown.options[format_dropdown.selectedIndex].value;\n",
       "    fig.ondownload(fig, format);\n",
       "}\n",
       "\n",
       "\n",
       "mpl.figure.prototype.handle_resize = function(fig, msg) {\n",
       "    var size = msg['size'];\n",
       "    if (size[0] != fig.canvas.width || size[1] != fig.canvas.height) {\n",
       "        fig._resize_canvas(size[0], size[1]);\n",
       "        fig.send_message(\"refresh\", {});\n",
       "    };\n",
       "}\n",
       "\n",
       "mpl.figure.prototype.handle_rubberband = function(fig, msg) {\n",
       "    var x0 = msg['x0'] / mpl.ratio;\n",
       "    var y0 = (fig.canvas.height - msg['y0']) / mpl.ratio;\n",
       "    var x1 = msg['x1'] / mpl.ratio;\n",
       "    var y1 = (fig.canvas.height - msg['y1']) / mpl.ratio;\n",
       "    x0 = Math.floor(x0) + 0.5;\n",
       "    y0 = Math.floor(y0) + 0.5;\n",
       "    x1 = Math.floor(x1) + 0.5;\n",
       "    y1 = Math.floor(y1) + 0.5;\n",
       "    var min_x = Math.min(x0, x1);\n",
       "    var min_y = Math.min(y0, y1);\n",
       "    var width = Math.abs(x1 - x0);\n",
       "    var height = Math.abs(y1 - y0);\n",
       "\n",
       "    fig.rubberband_context.clearRect(\n",
       "        0, 0, fig.canvas.width, fig.canvas.height);\n",
       "\n",
       "    fig.rubberband_context.strokeRect(min_x, min_y, width, height);\n",
       "}\n",
       "\n",
       "mpl.figure.prototype.handle_figure_label = function(fig, msg) {\n",
       "    // Updates the figure title.\n",
       "    fig.header.textContent = msg['label'];\n",
       "}\n",
       "\n",
       "mpl.figure.prototype.handle_cursor = function(fig, msg) {\n",
       "    var cursor = msg['cursor'];\n",
       "    switch(cursor)\n",
       "    {\n",
       "    case 0:\n",
       "        cursor = 'pointer';\n",
       "        break;\n",
       "    case 1:\n",
       "        cursor = 'default';\n",
       "        break;\n",
       "    case 2:\n",
       "        cursor = 'crosshair';\n",
       "        break;\n",
       "    case 3:\n",
       "        cursor = 'move';\n",
       "        break;\n",
       "    }\n",
       "    fig.rubberband_canvas.style.cursor = cursor;\n",
       "}\n",
       "\n",
       "mpl.figure.prototype.handle_message = function(fig, msg) {\n",
       "    fig.message.textContent = msg['message'];\n",
       "}\n",
       "\n",
       "mpl.figure.prototype.handle_draw = function(fig, msg) {\n",
       "    // Request the server to send over a new figure.\n",
       "    fig.send_draw_message();\n",
       "}\n",
       "\n",
       "mpl.figure.prototype.handle_image_mode = function(fig, msg) {\n",
       "    fig.image_mode = msg['mode'];\n",
       "}\n",
       "\n",
       "mpl.figure.prototype.updated_canvas_event = function() {\n",
       "    // Called whenever the canvas gets updated.\n",
       "    this.send_message(\"ack\", {});\n",
       "}\n",
       "\n",
       "// A function to construct a web socket function for onmessage handling.\n",
       "// Called in the figure constructor.\n",
       "mpl.figure.prototype._make_on_message_function = function(fig) {\n",
       "    return function socket_on_message(evt) {\n",
       "        if (evt.data instanceof Blob) {\n",
       "            /* FIXME: We get \"Resource interpreted as Image but\n",
       "             * transferred with MIME type text/plain:\" errors on\n",
       "             * Chrome.  But how to set the MIME type?  It doesn't seem\n",
       "             * to be part of the websocket stream */\n",
       "            evt.data.type = \"image/png\";\n",
       "\n",
       "            /* Free the memory for the previous frames */\n",
       "            if (fig.imageObj.src) {\n",
       "                (window.URL || window.webkitURL).revokeObjectURL(\n",
       "                    fig.imageObj.src);\n",
       "            }\n",
       "\n",
       "            fig.imageObj.src = (window.URL || window.webkitURL).createObjectURL(\n",
       "                evt.data);\n",
       "            fig.updated_canvas_event();\n",
       "            fig.waiting = false;\n",
       "            return;\n",
       "        }\n",
       "        else if (typeof evt.data === 'string' && evt.data.slice(0, 21) == \"data:image/png;base64\") {\n",
       "            fig.imageObj.src = evt.data;\n",
       "            fig.updated_canvas_event();\n",
       "            fig.waiting = false;\n",
       "            return;\n",
       "        }\n",
       "\n",
       "        var msg = JSON.parse(evt.data);\n",
       "        var msg_type = msg['type'];\n",
       "\n",
       "        // Call the  \"handle_{type}\" callback, which takes\n",
       "        // the figure and JSON message as its only arguments.\n",
       "        try {\n",
       "            var callback = fig[\"handle_\" + msg_type];\n",
       "        } catch (e) {\n",
       "            console.log(\"No handler for the '\" + msg_type + \"' message type: \", msg);\n",
       "            return;\n",
       "        }\n",
       "\n",
       "        if (callback) {\n",
       "            try {\n",
       "                // console.log(\"Handling '\" + msg_type + \"' message: \", msg);\n",
       "                callback(fig, msg);\n",
       "            } catch (e) {\n",
       "                console.log(\"Exception inside the 'handler_\" + msg_type + \"' callback:\", e, e.stack, msg);\n",
       "            }\n",
       "        }\n",
       "    };\n",
       "}\n",
       "\n",
       "// from http://stackoverflow.com/questions/1114465/getting-mouse-location-in-canvas\n",
       "mpl.findpos = function(e) {\n",
       "    //this section is from http://www.quirksmode.org/js/events_properties.html\n",
       "    var targ;\n",
       "    if (!e)\n",
       "        e = window.event;\n",
       "    if (e.target)\n",
       "        targ = e.target;\n",
       "    else if (e.srcElement)\n",
       "        targ = e.srcElement;\n",
       "    if (targ.nodeType == 3) // defeat Safari bug\n",
       "        targ = targ.parentNode;\n",
       "\n",
       "    // jQuery normalizes the pageX and pageY\n",
       "    // pageX,Y are the mouse positions relative to the document\n",
       "    // offset() returns the position of the element relative to the document\n",
       "    var x = e.pageX - $(targ).offset().left;\n",
       "    var y = e.pageY - $(targ).offset().top;\n",
       "\n",
       "    return {\"x\": x, \"y\": y};\n",
       "};\n",
       "\n",
       "/*\n",
       " * return a copy of an object with only non-object keys\n",
       " * we need this to avoid circular references\n",
       " * http://stackoverflow.com/a/24161582/3208463\n",
       " */\n",
       "function simpleKeys (original) {\n",
       "  return Object.keys(original).reduce(function (obj, key) {\n",
       "    if (typeof original[key] !== 'object')\n",
       "        obj[key] = original[key]\n",
       "    return obj;\n",
       "  }, {});\n",
       "}\n",
       "\n",
       "mpl.figure.prototype.mouse_event = function(event, name) {\n",
       "    var canvas_pos = mpl.findpos(event)\n",
       "\n",
       "    if (name === 'button_press')\n",
       "    {\n",
       "        this.canvas.focus();\n",
       "        this.canvas_div.focus();\n",
       "    }\n",
       "\n",
       "    var x = canvas_pos.x * mpl.ratio;\n",
       "    var y = canvas_pos.y * mpl.ratio;\n",
       "\n",
       "    this.send_message(name, {x: x, y: y, button: event.button,\n",
       "                             step: event.step,\n",
       "                             guiEvent: simpleKeys(event)});\n",
       "\n",
       "    /* This prevents the web browser from automatically changing to\n",
       "     * the text insertion cursor when the button is pressed.  We want\n",
       "     * to control all of the cursor setting manually through the\n",
       "     * 'cursor' event from matplotlib */\n",
       "    event.preventDefault();\n",
       "    return false;\n",
       "}\n",
       "\n",
       "mpl.figure.prototype._key_event_extra = function(event, name) {\n",
       "    // Handle any extra behaviour associated with a key event\n",
       "}\n",
       "\n",
       "mpl.figure.prototype.key_event = function(event, name) {\n",
       "\n",
       "    // Prevent repeat events\n",
       "    if (name == 'key_press')\n",
       "    {\n",
       "        if (event.which === this._key)\n",
       "            return;\n",
       "        else\n",
       "            this._key = event.which;\n",
       "    }\n",
       "    if (name == 'key_release')\n",
       "        this._key = null;\n",
       "\n",
       "    var value = '';\n",
       "    if (event.ctrlKey && event.which != 17)\n",
       "        value += \"ctrl+\";\n",
       "    if (event.altKey && event.which != 18)\n",
       "        value += \"alt+\";\n",
       "    if (event.shiftKey && event.which != 16)\n",
       "        value += \"shift+\";\n",
       "\n",
       "    value += 'k';\n",
       "    value += event.which.toString();\n",
       "\n",
       "    this._key_event_extra(event, name);\n",
       "\n",
       "    this.send_message(name, {key: value,\n",
       "                             guiEvent: simpleKeys(event)});\n",
       "    return false;\n",
       "}\n",
       "\n",
       "mpl.figure.prototype.toolbar_button_onclick = function(name) {\n",
       "    if (name == 'download') {\n",
       "        this.handle_save(this, null);\n",
       "    } else {\n",
       "        this.send_message(\"toolbar_button\", {name: name});\n",
       "    }\n",
       "};\n",
       "\n",
       "mpl.figure.prototype.toolbar_button_onmouseover = function(tooltip) {\n",
       "    this.message.textContent = tooltip;\n",
       "};\n",
       "mpl.toolbar_items = [[\"Home\", \"Reset original view\", \"fa fa-home icon-home\", \"home\"], [\"Back\", \"Back to previous view\", \"fa fa-arrow-left icon-arrow-left\", \"back\"], [\"Forward\", \"Forward to next view\", \"fa fa-arrow-right icon-arrow-right\", \"forward\"], [\"\", \"\", \"\", \"\"], [\"Pan\", \"Pan axes with left mouse, zoom with right\", \"fa fa-arrows icon-move\", \"pan\"], [\"Zoom\", \"Zoom to rectangle\", \"fa fa-square-o icon-check-empty\", \"zoom\"], [\"\", \"\", \"\", \"\"], [\"Download\", \"Download plot\", \"fa fa-floppy-o icon-save\", \"download\"]];\n",
       "\n",
       "mpl.extensions = [\"eps\", \"pdf\", \"png\", \"ps\", \"raw\", \"svg\"];\n",
       "\n",
       "mpl.default_extension = \"png\";var comm_websocket_adapter = function(comm) {\n",
       "    // Create a \"websocket\"-like object which calls the given IPython comm\n",
       "    // object with the appropriate methods. Currently this is a non binary\n",
       "    // socket, so there is still some room for performance tuning.\n",
       "    var ws = {};\n",
       "\n",
       "    ws.close = function() {\n",
       "        comm.close()\n",
       "    };\n",
       "    ws.send = function(m) {\n",
       "        //console.log('sending', m);\n",
       "        comm.send(m);\n",
       "    };\n",
       "    // Register the callback with on_msg.\n",
       "    comm.on_msg(function(msg) {\n",
       "        //console.log('receiving', msg['content']['data'], msg);\n",
       "        // Pass the mpl event to the overridden (by mpl) onmessage function.\n",
       "        ws.onmessage(msg['content']['data'])\n",
       "    });\n",
       "    return ws;\n",
       "}\n",
       "\n",
       "mpl.mpl_figure_comm = function(comm, msg) {\n",
       "    // This is the function which gets called when the mpl process\n",
       "    // starts-up an IPython Comm through the \"matplotlib\" channel.\n",
       "\n",
       "    var id = msg.content.data.id;\n",
       "    // Get hold of the div created by the display call when the Comm\n",
       "    // socket was opened in Python.\n",
       "    var element = $(\"#\" + id);\n",
       "    var ws_proxy = comm_websocket_adapter(comm)\n",
       "\n",
       "    function ondownload(figure, format) {\n",
       "        window.open(figure.imageObj.src);\n",
       "    }\n",
       "\n",
       "    var fig = new mpl.figure(id, ws_proxy,\n",
       "                           ondownload,\n",
       "                           element.get(0));\n",
       "\n",
       "    // Call onopen now - mpl needs it, as it is assuming we've passed it a real\n",
       "    // web socket which is closed, not our websocket->open comm proxy.\n",
       "    ws_proxy.onopen();\n",
       "\n",
       "    fig.parent_element = element.get(0);\n",
       "    fig.cell_info = mpl.find_output_cell(\"<div id='\" + id + \"'></div>\");\n",
       "    if (!fig.cell_info) {\n",
       "        console.error(\"Failed to find cell for figure\", id, fig);\n",
       "        return;\n",
       "    }\n",
       "\n",
       "    var output_index = fig.cell_info[2]\n",
       "    var cell = fig.cell_info[0];\n",
       "\n",
       "};\n",
       "\n",
       "mpl.figure.prototype.handle_close = function(fig, msg) {\n",
       "    var width = fig.canvas.width/mpl.ratio\n",
       "    fig.root.unbind('remove')\n",
       "\n",
       "    // Update the output cell to use the data from the current canvas.\n",
       "    fig.push_to_output();\n",
       "    var dataURL = fig.canvas.toDataURL();\n",
       "    // Re-enable the keyboard manager in IPython - without this line, in FF,\n",
       "    // the notebook keyboard shortcuts fail.\n",
       "    IPython.keyboard_manager.enable()\n",
       "    $(fig.parent_element).html('<img src=\"' + dataURL + '\" width=\"' + width + '\">');\n",
       "    fig.close_ws(fig, msg);\n",
       "}\n",
       "\n",
       "mpl.figure.prototype.close_ws = function(fig, msg){\n",
       "    fig.send_message('closing', msg);\n",
       "    // fig.ws.close()\n",
       "}\n",
       "\n",
       "mpl.figure.prototype.push_to_output = function(remove_interactive) {\n",
       "    // Turn the data on the canvas into data in the output cell.\n",
       "    var width = this.canvas.width/mpl.ratio\n",
       "    var dataURL = this.canvas.toDataURL();\n",
       "    this.cell_info[1]['text/html'] = '<img src=\"' + dataURL + '\" width=\"' + width + '\">';\n",
       "}\n",
       "\n",
       "mpl.figure.prototype.updated_canvas_event = function() {\n",
       "    // Tell IPython that the notebook contents must change.\n",
       "    IPython.notebook.set_dirty(true);\n",
       "    this.send_message(\"ack\", {});\n",
       "    var fig = this;\n",
       "    // Wait a second, then push the new image to the DOM so\n",
       "    // that it is saved nicely (might be nice to debounce this).\n",
       "    setTimeout(function () { fig.push_to_output() }, 1000);\n",
       "}\n",
       "\n",
       "mpl.figure.prototype._init_toolbar = function() {\n",
       "    var fig = this;\n",
       "\n",
       "    var nav_element = $('<div/>');\n",
       "    nav_element.attr('style', 'width: 100%');\n",
       "    this.root.append(nav_element);\n",
       "\n",
       "    // Define a callback function for later on.\n",
       "    function toolbar_event(event) {\n",
       "        return fig.toolbar_button_onclick(event['data']);\n",
       "    }\n",
       "    function toolbar_mouse_event(event) {\n",
       "        return fig.toolbar_button_onmouseover(event['data']);\n",
       "    }\n",
       "\n",
       "    for(var toolbar_ind in mpl.toolbar_items){\n",
       "        var name = mpl.toolbar_items[toolbar_ind][0];\n",
       "        var tooltip = mpl.toolbar_items[toolbar_ind][1];\n",
       "        var image = mpl.toolbar_items[toolbar_ind][2];\n",
       "        var method_name = mpl.toolbar_items[toolbar_ind][3];\n",
       "\n",
       "        if (!name) { continue; };\n",
       "\n",
       "        var button = $('<button class=\"btn btn-default\" href=\"#\" title=\"' + name + '\"><i class=\"fa ' + image + ' fa-lg\"></i></button>');\n",
       "        button.click(method_name, toolbar_event);\n",
       "        button.mouseover(tooltip, toolbar_mouse_event);\n",
       "        nav_element.append(button);\n",
       "    }\n",
       "\n",
       "    // Add the status bar.\n",
       "    var status_bar = $('<span class=\"mpl-message\" style=\"text-align:right; float: right;\"/>');\n",
       "    nav_element.append(status_bar);\n",
       "    this.message = status_bar[0];\n",
       "\n",
       "    // Add the close button to the window.\n",
       "    var buttongrp = $('<div class=\"btn-group inline pull-right\"></div>');\n",
       "    var button = $('<button class=\"btn btn-mini btn-primary\" href=\"#\" title=\"Stop Interaction\"><i class=\"fa fa-power-off icon-remove icon-large\"></i></button>');\n",
       "    button.click(function (evt) { fig.handle_close(fig, {}); } );\n",
       "    button.mouseover('Stop Interaction', toolbar_mouse_event);\n",
       "    buttongrp.append(button);\n",
       "    var titlebar = this.root.find($('.ui-dialog-titlebar'));\n",
       "    titlebar.prepend(buttongrp);\n",
       "}\n",
       "\n",
       "mpl.figure.prototype._root_extra_style = function(el){\n",
       "    var fig = this\n",
       "    el.on(\"remove\", function(){\n",
       "\tfig.close_ws(fig, {});\n",
       "    });\n",
       "}\n",
       "\n",
       "mpl.figure.prototype._canvas_extra_style = function(el){\n",
       "    // this is important to make the div 'focusable\n",
       "    el.attr('tabindex', 0)\n",
       "    // reach out to IPython and tell the keyboard manager to turn it's self\n",
       "    // off when our div gets focus\n",
       "\n",
       "    // location in version 3\n",
       "    if (IPython.notebook.keyboard_manager) {\n",
       "        IPython.notebook.keyboard_manager.register_events(el);\n",
       "    }\n",
       "    else {\n",
       "        // location in version 2\n",
       "        IPython.keyboard_manager.register_events(el);\n",
       "    }\n",
       "\n",
       "}\n",
       "\n",
       "mpl.figure.prototype._key_event_extra = function(event, name) {\n",
       "    var manager = IPython.notebook.keyboard_manager;\n",
       "    if (!manager)\n",
       "        manager = IPython.keyboard_manager;\n",
       "\n",
       "    // Check for shift+enter\n",
       "    if (event.shiftKey && event.which == 13) {\n",
       "        this.canvas_div.blur();\n",
       "        event.shiftKey = false;\n",
       "        // Send a \"J\" for go to next cell\n",
       "        event.which = 74;\n",
       "        event.keyCode = 74;\n",
       "        manager.command_mode();\n",
       "        manager.handle_keydown(event);\n",
       "    }\n",
       "}\n",
       "\n",
       "mpl.figure.prototype.handle_save = function(fig, msg) {\n",
       "    fig.ondownload(fig, null);\n",
       "}\n",
       "\n",
       "\n",
       "mpl.find_output_cell = function(html_output) {\n",
       "    // Return the cell and output element which can be found *uniquely* in the notebook.\n",
       "    // Note - this is a bit hacky, but it is done because the \"notebook_saving.Notebook\"\n",
       "    // IPython event is triggered only after the cells have been serialised, which for\n",
       "    // our purposes (turning an active figure into a static one), is too late.\n",
       "    var cells = IPython.notebook.get_cells();\n",
       "    var ncells = cells.length;\n",
       "    for (var i=0; i<ncells; i++) {\n",
       "        var cell = cells[i];\n",
       "        if (cell.cell_type === 'code'){\n",
       "            for (var j=0; j<cell.output_area.outputs.length; j++) {\n",
       "                var data = cell.output_area.outputs[j];\n",
       "                if (data.data) {\n",
       "                    // IPython >= 3 moved mimebundle to data attribute of output\n",
       "                    data = data.data;\n",
       "                }\n",
       "                if (data['text/html'] == html_output) {\n",
       "                    return [cell, data, j];\n",
       "                }\n",
       "            }\n",
       "        }\n",
       "    }\n",
       "}\n",
       "\n",
       "// Register the function which deals with the matplotlib target/channel.\n",
       "// The kernel may be null if the page has been refreshed.\n",
       "if (IPython.notebook.kernel != null) {\n",
       "    IPython.notebook.kernel.comm_manager.register_target('matplotlib', mpl.mpl_figure_comm);\n",
       "}\n"
      ],
      "text/plain": [
       "<IPython.core.display.Javascript object>"
      ]
     },
     "metadata": {},
     "output_type": "display_data"
    },
    {
     "data": {
      "text/html": [
       "<img src=\"data:image/png;base64,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\" width=\"1100\">"
      ],
      "text/plain": [
       "<IPython.core.display.HTML object>"
      ]
     },
     "metadata": {},
     "output_type": "display_data"
    }
   ],
   "source": [
    "print('Saved y(t) values:',y_data)\n",
    "print('Saved u(t) values:',u_data)\n",
    "fig4=plt.figure(3,figsize=(11,6))\n",
    "plt.plot(t_data,y_data)\n",
    "plt.grid(True)\n",
    "plt.xlim(0,10)\n",
    "plt.ylim(0,10)\n",
    "plt.xlabel('Time')\n",
    "plt.ylabel('Response');\n",
    "#fig4.canvas.draw()\n",
    "fig5=plt.figure(4,figsize=(11,6))\n",
    "u_line, = plt.plot(t_data,u_data)\n",
    "x_line, = plt.plot(t_data,x_data)\n",
    "plt.legend((x_line,u_line),('State x','Dose'))\n",
    "plt.grid(True)\n",
    "plt.xlim(0,10)\n",
    "plt.xlabel('Time')\n",
    "plt.ylabel('Value');\n",
    "#fig5.canvas.draw()"
   ]
  },
  {
   "cell_type": "markdown",
   "metadata": {},
   "source": [
    "### A Dose of Reality\n",
    "\n",
    "Let us move from the ideal situation to a more realistic scenario.\n",
    "\n",
    "\n",
    "+ Unknown or approximate model\n",
    "\n",
    "  In most situations you do not have simulation that can  make good predictions. You first need to learn a model from actual responses to inputs. Human decision makers often use immediate aggregate cause-effect heuristics. If the blood glucose shot up, it was most likely the latte you just had. If the stock market lost one percent, it was because of the latest news on trade war.\n",
    "    \n",
    "\n",
    "+ Many decision variables affect observations\n",
    "   \n",
    "  When multiple decision variables are involved, humans focus on one assumed dominant variable. The mental burden of untangling multiple causes is too large. Doing so for a dynamic system with continuous variables is clearly just too complex for humans.\n",
    "  \n",
    "\n",
    "+ Too many extraneous conditions and variables affect observations\n",
    "\n",
    "   Given the simplfied cause-effect heuristic, the apparent variability of observations becomes large. You often hear that the variablity is due to inherent random behavior that can only be untangeled by averaging over many experiments and observations. To the poor patient, the averaging is of little comfort. Loss of agency and hope for the patient leads do resignation and even depression.  Apparent variability also occurs in machine learned models when the representations are poorly chosen in dynamic systems. \n",
    "   \n",
    "\n",
    "+ Can not directly measure what you need to really maintain or control\n",
    "   \n",
    "   In metabolic syndrome, you need to arrest or reduce organ damage, mental depression and other co-morbidity.  However, blood prick glucose measurement or readings from CGM need to be translated to what you need to be concerend with.  Your camera sensor output on an autonomous car will give you a partial and possibly misleading view of the environment, leading to accidents. \n",
    "   \n",
    "We will go over each of these aspects and see how it manifests in simulated examples.  \n",
    "\n",
    "Again, no need to take my word on it. You will be the decision maker  in the simulated examples!\n",
    "  \n",
    "      \n",
    "\n"
   ]
  },
  {
   "cell_type": "code",
   "execution_count": null,
   "metadata": {
    "scrolled": true
   },
   "outputs": [],
   "source": []
  }
 ],
 "metadata": {
  "kernelspec": {
   "display_name": "Python 3",
   "language": "python",
   "name": "python3"
  },
  "language_info": {
   "codemirror_mode": {
    "name": "ipython",
    "version": 3
   },
   "file_extension": ".py",
   "mimetype": "text/x-python",
   "name": "python",
   "nbconvert_exporter": "python",
   "pygments_lexer": "ipython3",
   "version": "3.7.3"
  },
  "widgets": {
   "application/vnd.jupyter.widget-state+json": {
    "state": {
     "0141b5da06b2499a893aea4ab717d9d5": {
      "model_module": "@jupyter-widgets/controls",
      "model_module_version": "1.4.0",
      "model_name": "FloatSliderModel",
      "state": {
       "description": "Dose(t)",
       "layout": "IPY_MODEL_cca17439827f401cb6a180d558236355",
       "max": 10,
       "min": -10,
       "step": 0.01,
       "style": "IPY_MODEL_f4b704a50b19416aaa619a020dfd5071",
       "value": 1.09
      }
     },
     "018564d47e714fae97acedb9d928c7c1": {
      "model_module": "@jupyter-widgets/controls",
      "model_module_version": "1.4.0",
      "model_name": "ButtonStyleModel",
      "state": {}
     },
     "028bd2cd91d545fe8c9205a00ecc321b": {
      "model_module": "@jupyter-widgets/controls",
      "model_module_version": "1.4.0",
      "model_name": "ButtonStyleModel",
      "state": {}
     },
     "03581fc1a49640b0bfa4b6e9cfac3d39": {
      "model_module": "@jupyter-widgets/controls",
      "model_module_version": "1.4.0",
      "model_name": "ButtonModel",
      "state": {
       "description": "Administer Dose(t)",
       "disabled": true,
       "layout": "IPY_MODEL_6f887701b8c445d7a6cb47d47178336f",
       "style": "IPY_MODEL_cfa568b240574db49b63f8a8ee2e9fd9"
      }
     },
     "0395c0019aec400fa9948e9a2e92ea9f": {
      "model_module": "@jupyter-widgets/controls",
      "model_module_version": "1.4.0",
      "model_name": "TextModel",
      "state": {
       "description": "Response(t+1) ",
       "disabled": true,
       "layout": "IPY_MODEL_c2ebb8bbe65c4edc9e1b8e07bfed438f",
       "style": "IPY_MODEL_d29bba73479846a88ab6f4d63cf07d12",
       "value": "2.78 (is less than 4.75)"
      }
     },
     "039f1d23b82f4285b9bfebf626b14206": {
      "model_module": "@jupyter-widgets/base",
      "model_module_version": "1.1.0",
      "model_name": "LayoutModel",
      "state": {
       "width": "95%"
      }
     },
     "03e0cd42451847e98fa4c78e82f62d00": {
      "model_module": "@jupyter-widgets/controls",
      "model_module_version": "1.4.0",
      "model_name": "TextModel",
      "state": {
       "description": "Next Step",
       "layout": "IPY_MODEL_a38c6408e8d74800a029a5e9f03df1c0",
       "style": "IPY_MODEL_c010b7152eeb4945894a5c0b4aa8d0e4",
       "value": "Predict Response(t+1)"
      }
     },
     "067bb896fada40dd99aec8772b9f970b": {
      "model_module": "@jupyter-widgets/base",
      "model_module_version": "1.1.0",
      "model_name": "LayoutModel",
      "state": {}
     },
     "06bbff036eec4afab9f8803baf8b8f87": {
      "model_module": "@jupyter-widgets/controls",
      "model_module_version": "1.4.0",
      "model_name": "FloatSliderModel",
      "state": {
       "description": "Dose(t)",
       "layout": "IPY_MODEL_20aff08d051240fa9ffd54927ff8d698",
       "max": 10,
       "min": -10,
       "step": 0.01,
       "style": "IPY_MODEL_a6dc0945784e4b15ab918dbacf477c70"
      }
     },
     "06f90905bbcc444d9a9733d0651ddbf4": {
      "model_module": "@jupyter-widgets/base",
      "model_module_version": "1.1.0",
      "model_name": "LayoutModel",
      "state": {}
     },
     "075d19d2bf5d4d40b57d0af7b5473514": {
      "model_module": "@jupyter-widgets/controls",
      "model_module_version": "1.4.0",
      "model_name": "HBoxModel",
      "state": {
       "children": [
        "IPY_MODEL_9e7bd315932c4f2da52faa1fd3998f3f",
        "IPY_MODEL_2b0fa78cc9e74364ad1dc5b54d82b1a0"
       ],
       "layout": "IPY_MODEL_ecb7076df28b45d99581b461934ba6d1"
      }
     },
     "076ec1030c03401c83308d41f6b3e233": {
      "model_module": "@jupyter-widgets/controls",
      "model_module_version": "1.4.0",
      "model_name": "SliderStyleModel",
      "state": {
       "description_width": ""
      }
     },
     "0772ea5803a9462098c7e41801ca0520": {
      "model_module": "@jupyter-widgets/controls",
      "model_module_version": "1.4.0",
      "model_name": "ButtonStyleModel",
      "state": {}
     },
     "07e5d6e2e98a4cfdb8a41e519ac6ab8e": {
      "model_module": "@jupyter-widgets/base",
      "model_module_version": "1.1.0",
      "model_name": "LayoutModel",
      "state": {
       "justify_content": "center"
      }
     },
     "0825f2b102a0446e87f4cc09c1d4e7a0": {
      "model_module": "@jupyter-widgets/base",
      "model_module_version": "1.1.0",
      "model_name": "LayoutModel",
      "state": {
       "width": "95%"
      }
     },
     "083dfe5677be46b087d48d6944c45e50": {
      "model_module": "@jupyter-widgets/controls",
      "model_module_version": "1.4.0",
      "model_name": "DescriptionStyleModel",
      "state": {
       "description_width": ""
      }
     },
     "08b9344633de450fb7bd7a8deb489cce": {
      "model_module": "@jupyter-widgets/base",
      "model_module_version": "1.1.0",
      "model_name": "LayoutModel",
      "state": {}
     },
     "08fd0fe516b84441a1fb9fc283473288": {
      "model_module": "@jupyter-widgets/controls",
      "model_module_version": "1.4.0",
      "model_name": "TextModel",
      "state": {
       "description": "Response(t+1) ",
       "disabled": true,
       "layout": "IPY_MODEL_6e6f03e1106e4e61ac7eabe7d9ea2fee",
       "style": "IPY_MODEL_a16dcbe9e1c34862990d6c1a72b83bcc",
       "value": "  "
      }
     },
     "095ef3225d28434386964a06b6904a35": {
      "model_module": "@jupyter-widgets/base",
      "model_module_version": "1.1.0",
      "model_name": "LayoutModel",
      "state": {
       "width": "42%"
      }
     },
     "0982ec5561684b8b9ed4fbec15287603": {
      "model_module": "@jupyter-widgets/controls",
      "model_module_version": "1.4.0",
      "model_name": "FloatSliderModel",
      "state": {
       "description": "Dose(t)",
       "layout": "IPY_MODEL_27148d3d2a91470a8e93086db90bdb67",
       "max": 10,
       "min": -10,
       "step": 0.01,
       "style": "IPY_MODEL_fd26d8ad42f74c159dfe93f6fab7e67e",
       "value": 0.6
      }
     },
     "09a9cf5b1ff446a0a801056dfd462bf9": {
      "model_module": "@jupyter-widgets/base",
      "model_module_version": "1.1.0",
      "model_name": "LayoutModel",
      "state": {}
     },
     "0a3d2324961e467eae6f1ff60926d509": {
      "model_module": "@jupyter-widgets/base",
      "model_module_version": "1.1.0",
      "model_name": "LayoutModel",
      "state": {
       "justify_content": "center"
      }
     },
     "0ad9f37ff7e1409e9cd22abe0c9b9f2c": {
      "model_module": "@jupyter-widgets/controls",
      "model_module_version": "1.4.0",
      "model_name": "SliderStyleModel",
      "state": {
       "description_width": ""
      }
     },
     "0b15758c582e40ca8d5fed687c2d7cc5": {
      "model_module": "@jupyter-widgets/controls",
      "model_module_version": "1.4.0",
      "model_name": "DescriptionStyleModel",
      "state": {
       "description_width": "initial"
      }
     },
     "0b39633dfe9c4696ae1e7a9ad6fc8ce7": {
      "model_module": "@jupyter-widgets/base",
      "model_module_version": "1.1.0",
      "model_name": "LayoutModel",
      "state": {
       "width": "95%"
      }
     },
     "0b4adb12a50f4673bcd9dfd589b6d201": {
      "model_module": "@jupyter-widgets/controls",
      "model_module_version": "1.4.0",
      "model_name": "DescriptionStyleModel",
      "state": {
       "description_width": "initial"
      }
     },
     "0bd80c197c53424a8496da2bd7e0c7ee": {
      "model_module": "@jupyter-widgets/controls",
      "model_module_version": "1.4.0",
      "model_name": "DescriptionStyleModel",
      "state": {
       "description_width": ""
      }
     },
     "0c03ce79269847bd87b42e8980da5ebb": {
      "model_module": "@jupyter-widgets/controls",
      "model_module_version": "1.4.0",
      "model_name": "ButtonStyleModel",
      "state": {}
     },
     "0c04bfdd8cfe4b1f8288ceb3b479473a": {
      "model_module": "@jupyter-widgets/controls",
      "model_module_version": "1.4.0",
      "model_name": "ButtonModel",
      "state": {
       "description": "Predict Response(t+1)",
       "layout": "IPY_MODEL_4f66b33320d34c768befc72938473b1d",
       "style": "IPY_MODEL_028bd2cd91d545fe8c9205a00ecc321b"
      }
     },
     "0c2ae233848f427692bf2244cd5693bc": {
      "model_module": "@jupyter-widgets/controls",
      "model_module_version": "1.4.0",
      "model_name": "TextModel",
      "state": {
       "description": "Next Step",
       "layout": "IPY_MODEL_51d112d7f2fa45c2aa3d9c595a0f3bca",
       "style": "IPY_MODEL_d616136558ae4e9aa6d12fe0940b57cb",
       "value": "Predict Response(t+1)  "
      }
     },
     "0c2c84e0fc8f44ba8c09adf8c747af47": {
      "model_module": "@jupyter-widgets/controls",
      "model_module_version": "1.4.0",
      "model_name": "ButtonStyleModel",
      "state": {}
     },
     "0cbcbb36fc93408896aaa5c8b2d1a0fa": {
      "model_module": "@jupyter-widgets/controls",
      "model_module_version": "1.4.0",
      "model_name": "FloatSliderModel",
      "state": {
       "description": "Dose(t)",
       "layout": "IPY_MODEL_039f1d23b82f4285b9bfebf626b14206",
       "max": 10,
       "min": -10,
       "step": 0.01,
       "style": "IPY_MODEL_1f259074f0a948e6bc9feb21475cec80",
       "value": 0.55
      }
     },
     "0cbece45a7864ec5bcd3fdee859abe71": {
      "model_module": "@jupyter-widgets/base",
      "model_module_version": "1.1.0",
      "model_name": "LayoutModel",
      "state": {
       "width": "42%"
      }
     },
     "0ceaace2d76b477e9abb40890611c73b": {
      "model_module": "@jupyter-widgets/controls",
      "model_module_version": "1.4.0",
      "model_name": "HBoxModel",
      "state": {
       "children": [
        "IPY_MODEL_3cd026d3f11947b89c86629b4317c82c",
        "IPY_MODEL_21521a4910c941c5badb99f512028cbe"
       ],
       "layout": "IPY_MODEL_830e933b8c6b4046982e2f0978b27179"
      }
     },
     "0cec74e386be41e894235b1d283d5640": {
      "model_module": "@jupyter-widgets/base",
      "model_module_version": "1.1.0",
      "model_name": "LayoutModel",
      "state": {
       "width": "42%"
      }
     },
     "0d11902ea12041e2ab39a6e7a9343f98": {
      "model_module": "@jupyter-widgets/base",
      "model_module_version": "1.1.0",
      "model_name": "LayoutModel",
      "state": {
       "justify_content": "center"
      }
     },
     "0d3507cea52148e9ac305c3d01e9c070": {
      "model_module": "@jupyter-widgets/controls",
      "model_module_version": "1.4.0",
      "model_name": "SliderStyleModel",
      "state": {
       "description_width": ""
      }
     },
     "0d55379f12d948a2988d3efd791b3720": {
      "model_module": "@jupyter-widgets/controls",
      "model_module_version": "1.4.0",
      "model_name": "HBoxModel",
      "state": {
       "children": [
        "IPY_MODEL_2e32e14e87b54743a6333b1e24848122",
        "IPY_MODEL_0e04b6451eb2473eb98c8f41082da030"
       ],
       "layout": "IPY_MODEL_9ace1ce2212b441d87acc5b376632568"
      }
     },
     "0e04b6451eb2473eb98c8f41082da030": {
      "model_module": "@jupyter-widgets/controls",
      "model_module_version": "1.4.0",
      "model_name": "TextModel",
      "state": {
       "description": "Next Step",
       "layout": "IPY_MODEL_c9f60bd9b782468e88953ee0a09bdb23",
       "style": "IPY_MODEL_125a9da45d1940e3a95051c4149e15e2",
       "value": "Predict Response(t+1)  "
      }
     },
     "0e6c7ec2c1e1456ba673ddbd88d91584": {
      "model_module": "@jupyter-widgets/base",
      "model_module_version": "1.1.0",
      "model_name": "LayoutModel",
      "state": {}
     },
     "0e92d5e6c94c43edaaca337b1ff7fb72": {
      "model_module": "@jupyter-widgets/base",
      "model_module_version": "1.1.0",
      "model_name": "LayoutModel",
      "state": {}
     },
     "0fa6cd9902614b48a0b705b91b8eee11": {
      "model_module": "@jupyter-widgets/base",
      "model_module_version": "1.1.0",
      "model_name": "LayoutModel",
      "state": {}
     },
     "104415e3dc274d11bd79c43b5f27da12": {
      "model_module": "@jupyter-widgets/controls",
      "model_module_version": "1.4.0",
      "model_name": "ButtonModel",
      "state": {
       "description": "Predict Response(t+1)",
       "layout": "IPY_MODEL_0cbece45a7864ec5bcd3fdee859abe71",
       "style": "IPY_MODEL_b30adf773cab45f3bceb9e478909967c"
      }
     },
     "107b293ba32b4e1fb176a8f3cb3854b4": {
      "model_module": "@jupyter-widgets/base",
      "model_module_version": "1.1.0",
      "model_name": "LayoutModel",
      "state": {}
     },
     "11578dd36a6543ceadc51fbc421dfddb": {
      "model_module": "@jupyter-widgets/base",
      "model_module_version": "1.1.0",
      "model_name": "LayoutModel",
      "state": {
       "width": "95%"
      }
     },
     "116e0cd1b5cf408ebe04f993f9f5147e": {
      "model_module": "@jupyter-widgets/controls",
      "model_module_version": "1.4.0",
      "model_name": "SliderStyleModel",
      "state": {
       "description_width": ""
      }
     },
     "12506bce982c4301861cf78be64cdb7b": {
      "model_module": "@jupyter-widgets/controls",
      "model_module_version": "1.4.0",
      "model_name": "ButtonStyleModel",
      "state": {}
     },
     "125a9da45d1940e3a95051c4149e15e2": {
      "model_module": "@jupyter-widgets/controls",
      "model_module_version": "1.4.0",
      "model_name": "DescriptionStyleModel",
      "state": {
       "description_width": ""
      }
     },
     "125cfba9ee024c9fbd91084467a841b9": {
      "model_module": "@jupyter-widgets/base",
      "model_module_version": "1.1.0",
      "model_name": "LayoutModel",
      "state": {
       "width": "95%"
      }
     },
     "136e5952035740b494afc450f8f3b651": {
      "model_module": "@jupyter-widgets/base",
      "model_module_version": "1.1.0",
      "model_name": "LayoutModel",
      "state": {
       "justify_content": "center"
      }
     },
     "13b4d94902704b9a9b87fbd0dba916e7": {
      "model_module": "@jupyter-widgets/controls",
      "model_module_version": "1.4.0",
      "model_name": "ButtonStyleModel",
      "state": {}
     },
     "13bbdc383efb4b10ad3423c4810ebb8a": {
      "model_module": "@jupyter-widgets/base",
      "model_module_version": "1.1.0",
      "model_name": "LayoutModel",
      "state": {}
     },
     "13c5a2362b9f454bb2e5b0bf4a067623": {
      "model_module": "@jupyter-widgets/controls",
      "model_module_version": "1.4.0",
      "model_name": "ButtonModel",
      "state": {
       "description": "Administer Dose(t)",
       "disabled": true,
       "layout": "IPY_MODEL_de73b20eb9e745948932872543e94e54",
       "style": "IPY_MODEL_0c2c84e0fc8f44ba8c09adf8c747af47"
      }
     },
     "13ee1d862dc749cbbddea2155a07abf6": {
      "model_module": "@jupyter-widgets/base",
      "model_module_version": "1.1.0",
      "model_name": "LayoutModel",
      "state": {}
     },
     "1459672da17441b1b5036fedbf3f7f62": {
      "model_module": "@jupyter-widgets/base",
      "model_module_version": "1.1.0",
      "model_name": "LayoutModel",
      "state": {
       "width": "42%"
      }
     },
     "14660ee3cdc5483a8b1a0c19ef7082fb": {
      "model_module": "@jupyter-widgets/controls",
      "model_module_version": "1.4.0",
      "model_name": "HBoxModel",
      "state": {
       "children": [
        "IPY_MODEL_cf05fc96408b43f9bdc0c453ea6864cf",
        "IPY_MODEL_23f38b38cb8d4622b5ff61fa1b8d9ee4"
       ],
       "layout": "IPY_MODEL_9fc75d7e40d349999c04f0da783bb570"
      }
     },
     "154bce923f2941ae81a2386ffe0d57f9": {
      "model_module": "@jupyter-widgets/controls",
      "model_module_version": "1.4.0",
      "model_name": "TextModel",
      "state": {
       "description": "Response(t+1) ",
       "disabled": true,
       "layout": "IPY_MODEL_8220a790976a4272a425e1d1d9e84390",
       "style": "IPY_MODEL_70edd22de1514253a006b9d60e2bc03d",
       "value": "4.93 (in range)"
      }
     },
     "159436a0cd284cf6998578e86d35d5dc": {
      "model_module": "@jupyter-widgets/controls",
      "model_module_version": "1.4.0",
      "model_name": "TextModel",
      "state": {
       "description": "Next Step",
       "layout": "IPY_MODEL_344e7c67fa0b424b85d38e01fd606d66",
       "style": "IPY_MODEL_421aa1cf62964b4b966f1b33cfe23c2f",
       "value": "Increase dose(t) and Predict"
      }
     },
     "16a853ca88f146759534b6dc5ad21b7f": {
      "model_module": "@jupyter-widgets/base",
      "model_module_version": "1.1.0",
      "model_name": "LayoutModel",
      "state": {
       "justify_content": "center"
      }
     },
     "1866096e9dbd44b99108550a2624bc23": {
      "model_module": "@jupyter-widgets/base",
      "model_module_version": "1.1.0",
      "model_name": "LayoutModel",
      "state": {}
     },
     "18e653a1388549b6b7eff4b1bb7be40b": {
      "model_module": "@jupyter-widgets/controls",
      "model_module_version": "1.4.0",
      "model_name": "ButtonStyleModel",
      "state": {}
     },
     "19573d4719134f44ab5b7f6a5c82bffa": {
      "model_module": "@jupyter-widgets/controls",
      "model_module_version": "1.4.0",
      "model_name": "TextModel",
      "state": {
       "description": "Next Step",
       "layout": "IPY_MODEL_56d898b0af4e423a9b4245b44b2fc3d6",
       "style": "IPY_MODEL_80cd114a38464c4cbc204266e9fc488d",
       "value": "Predict Response(t+1)  "
      }
     },
     "199141a40c4b46b0b0b363e1d4f2d8fe": {
      "model_module": "@jupyter-widgets/controls",
      "model_module_version": "1.4.0",
      "model_name": "FloatSliderModel",
      "state": {
       "description": "Dose(t)",
       "layout": "IPY_MODEL_7c5d0ea7299946cdbc7d7b291c706703",
       "max": 10,
       "min": -10,
       "step": 0.01,
       "style": "IPY_MODEL_4a30ba8a37c94d468755273ce5e0b916",
       "value": 0.54
      }
     },
     "19a11e2a031d4fe184ee96c41a51c21b": {
      "model_module": "@jupyter-widgets/base",
      "model_module_version": "1.1.0",
      "model_name": "LayoutModel",
      "state": {
       "justify_content": "center"
      }
     },
     "1a031a64af954efaa80368c61daa9e6b": {
      "model_module": "@jupyter-widgets/controls",
      "model_module_version": "1.4.0",
      "model_name": "FloatSliderModel",
      "state": {
       "description": "Dose(t)",
       "layout": "IPY_MODEL_b33631432e254b3982521671ebb0f71e",
       "max": 10,
       "min": -10,
       "step": 0.01,
       "style": "IPY_MODEL_54aca4b6bc304a33912aa03f2bd2dc3f",
       "value": -10
      }
     },
     "1a0b5357728b4aafb8d09ae3b12d86af": {
      "model_module": "@jupyter-widgets/base",
      "model_module_version": "1.1.0",
      "model_name": "LayoutModel",
      "state": {
       "width": "42%"
      }
     },
     "1a294373fb3e471baff499db21d1ef5e": {
      "model_module": "@jupyter-widgets/base",
      "model_module_version": "1.1.0",
      "model_name": "LayoutModel",
      "state": {
       "width": "42%"
      }
     },
     "1a33db65a5b247edb66543cfcf09f047": {
      "model_module": "@jupyter-widgets/controls",
      "model_module_version": "1.4.0",
      "model_name": "ButtonModel",
      "state": {
       "description": "Administer Dose(t)",
       "disabled": true,
       "layout": "IPY_MODEL_86e135c9b77c4838a37546c1522ebc08",
       "style": "IPY_MODEL_3b356e18494a4dfaba153780407a990b"
      }
     },
     "1a47e945434342459c45e3e7f781702a": {
      "model_module": "@jupyter-widgets/base",
      "model_module_version": "1.1.0",
      "model_name": "LayoutModel",
      "state": {}
     },
     "1a81dda27e53407e91e804d2b58d0633": {
      "model_module": "@jupyter-widgets/controls",
      "model_module_version": "1.4.0",
      "model_name": "DescriptionStyleModel",
      "state": {
       "description_width": "initial"
      }
     },
     "1aa56fd36cad4c4fb404c0c9899988a2": {
      "model_module": "@jupyter-widgets/base",
      "model_module_version": "1.1.0",
      "model_name": "LayoutModel",
      "state": {
       "justify_content": "center"
      }
     },
     "1af2fddaafa44561adabd0d381aed625": {
      "model_module": "@jupyter-widgets/base",
      "model_module_version": "1.1.0",
      "model_name": "LayoutModel",
      "state": {}
     },
     "1b1c3be31bd647e0a326bed1802ffee0": {
      "model_module": "@jupyter-widgets/controls",
      "model_module_version": "1.4.0",
      "model_name": "TextModel",
      "state": {
       "description": "Next Step",
       "layout": "IPY_MODEL_067bb896fada40dd99aec8772b9f970b",
       "style": "IPY_MODEL_cbc46f25282c4cd2a6adca13fc027f2d",
       "value": "Predict Response(t+1)  "
      }
     },
     "1b217daf35ea4786b9473ceb6aa5029e": {
      "model_module": "@jupyter-widgets/base",
      "model_module_version": "1.1.0",
      "model_name": "LayoutModel",
      "state": {
       "width": "42%"
      }
     },
     "1b819ccbdc484c548cda756cc2159f18": {
      "model_module": "@jupyter-widgets/base",
      "model_module_version": "1.1.0",
      "model_name": "LayoutModel",
      "state": {
       "width": "42%"
      }
     },
     "1c178a7475824a139655dba09dc4cc50": {
      "model_module": "@jupyter-widgets/controls",
      "model_module_version": "1.4.0",
      "model_name": "ButtonStyleModel",
      "state": {}
     },
     "1c4c9ec2fbbc4b46ad38a4a76d51bbe1": {
      "model_module": "@jupyter-widgets/controls",
      "model_module_version": "1.4.0",
      "model_name": "HBoxModel",
      "state": {
       "children": [
        "IPY_MODEL_d036e8573f03408da42d8d5534c250ae",
        "IPY_MODEL_4737425401214705bf3400961d0cd709"
       ],
       "layout": "IPY_MODEL_2cfb865ac50d4141b32e3cd98f8c3e2f"
      }
     },
     "1c6f33dbd92d427c9078f609b45cce21": {
      "model_module": "@jupyter-widgets/controls",
      "model_module_version": "1.4.0",
      "model_name": "SliderStyleModel",
      "state": {
       "description_width": ""
      }
     },
     "1cd082ab6eaa414d89de220e7641b816": {
      "model_module": "@jupyter-widgets/controls",
      "model_module_version": "1.4.0",
      "model_name": "TextModel",
      "state": {
       "description": "Response(t+1) ",
       "disabled": true,
       "layout": "IPY_MODEL_76a84a812ee34dd08cfb2c530dd06ad4",
       "style": "IPY_MODEL_e67a95b1af044a58bb210f267a357a22",
       "value": "  "
      }
     },
     "1d4dc086f9fe458ab5737d1aaf2b80b1": {
      "model_module": "@jupyter-widgets/base",
      "model_module_version": "1.1.0",
      "model_name": "LayoutModel",
      "state": {
       "width": "42%"
      }
     },
     "1d9f3480e70c4fe2ae8af18af92b1f4b": {
      "model_module": "@jupyter-widgets/controls",
      "model_module_version": "1.4.0",
      "model_name": "ButtonStyleModel",
      "state": {}
     },
     "1e34031a506543c5bdf5af44cc63a8cd": {
      "model_module": "@jupyter-widgets/base",
      "model_module_version": "1.1.0",
      "model_name": "LayoutModel",
      "state": {
       "justify_content": "center"
      }
     },
     "1e401af41921416bb7a62a83538f41d3": {
      "model_module": "@jupyter-widgets/controls",
      "model_module_version": "1.4.0",
      "model_name": "DescriptionStyleModel",
      "state": {
       "description_width": "initial"
      }
     },
     "1ef26e0b6a91477d88fcba7838e555e1": {
      "model_module": "@jupyter-widgets/base",
      "model_module_version": "1.1.0",
      "model_name": "LayoutModel",
      "state": {}
     },
     "1f259074f0a948e6bc9feb21475cec80": {
      "model_module": "@jupyter-widgets/controls",
      "model_module_version": "1.4.0",
      "model_name": "SliderStyleModel",
      "state": {
       "description_width": ""
      }
     },
     "1fa8a91257e040bab72bdfa0a25341e5": {
      "model_module": "@jupyter-widgets/base",
      "model_module_version": "1.1.0",
      "model_name": "LayoutModel",
      "state": {}
     },
     "20aff08d051240fa9ffd54927ff8d698": {
      "model_module": "@jupyter-widgets/base",
      "model_module_version": "1.1.0",
      "model_name": "LayoutModel",
      "state": {
       "width": "95%"
      }
     },
     "21521a4910c941c5badb99f512028cbe": {
      "model_module": "@jupyter-widgets/controls",
      "model_module_version": "1.4.0",
      "model_name": "ButtonModel",
      "state": {
       "description": "Administer Dose(t)",
       "disabled": true,
       "layout": "IPY_MODEL_a2a720b4c247408eb78f4a3f90533ef2",
       "style": "IPY_MODEL_3e9081422e614a52bb96b36563e1dda4"
      }
     },
     "2172a36b7bcb49d284b831f99b3ee9c5": {
      "model_module": "@jupyter-widgets/controls",
      "model_module_version": "1.4.0",
      "model_name": "ButtonStyleModel",
      "state": {}
     },
     "21e4ae81a2a244c08e21c83cf48d4ff3": {
      "model_module": "@jupyter-widgets/controls",
      "model_module_version": "1.4.0",
      "model_name": "HBoxModel",
      "state": {
       "children": [
        "IPY_MODEL_ba3f192f144d494d8cf8685c7bfdd3d5",
        "IPY_MODEL_bc0d560476494f5ea7915bd65bcd0ff4"
       ],
       "layout": "IPY_MODEL_3027cdb0e0e449e4939059655903bdf5"
      }
     },
     "2252216b11674301a1dc6d6793999617": {
      "model_module": "@jupyter-widgets/controls",
      "model_module_version": "1.4.0",
      "model_name": "TextModel",
      "state": {
       "description": "Next Step",
       "layout": "IPY_MODEL_eff92387c36f4c4b8cca66708946cf10",
       "style": "IPY_MODEL_0bd80c197c53424a8496da2bd7e0c7ee",
       "value": "Predict Response(t+1)"
      }
     },
     "22e6bce546434bcf9cc42eb9a0d861e9": {
      "model_module": "@jupyter-widgets/base",
      "model_module_version": "1.1.0",
      "model_name": "LayoutModel",
      "state": {
       "width": "42%"
      }
     },
     "239604b382cc45ba8ad27702a222d56a": {
      "model_module": "@jupyter-widgets/base",
      "model_module_version": "1.1.0",
      "model_name": "LayoutModel",
      "state": {
       "width": "42%"
      }
     },
     "2399dfa291d34d81a4471b906c5f59a7": {
      "model_module": "@jupyter-widgets/controls",
      "model_module_version": "1.4.0",
      "model_name": "ButtonModel",
      "state": {
       "description": "Predict Response(t+1)",
       "disabled": true,
       "layout": "IPY_MODEL_7ea1551cb76542dfa760a333e0619a55",
       "style": "IPY_MODEL_494d94cf1e2d494ebb127c2253cc312b"
      }
     },
     "23e43d5663aa45b1837a11cc6423dc86": {
      "model_module": "@jupyter-widgets/controls",
      "model_module_version": "1.4.0",
      "model_name": "ButtonModel",
      "state": {
       "description": "Predict Response(t+1)",
       "layout": "IPY_MODEL_cfad5f40eb6f46cd8b3581b426a7ae98",
       "style": "IPY_MODEL_ae4991a3f97c4b409a66d7a43f6482f6"
      }
     },
     "23f38b38cb8d4622b5ff61fa1b8d9ee4": {
      "model_module": "@jupyter-widgets/controls",
      "model_module_version": "1.4.0",
      "model_name": "TextModel",
      "state": {
       "description": "Next Step",
       "layout": "IPY_MODEL_78a42dfce3184274a4c6b65b2661ce48",
       "style": "IPY_MODEL_c4e9ea7f188843f09240fe0a0b204a8d",
       "value": "Successful Completion"
      }
     },
     "26a812405eea4253a93b39eefb7b86e9": {
      "model_module": "@jupyter-widgets/controls",
      "model_module_version": "1.4.0",
      "model_name": "ButtonStyleModel",
      "state": {}
     },
     "26d39e3bcfc7405bbc3070fe887e5b5f": {
      "model_module": "@jupyter-widgets/controls",
      "model_module_version": "1.4.0",
      "model_name": "DescriptionStyleModel",
      "state": {
       "description_width": "initial"
      }
     },
     "27148d3d2a91470a8e93086db90bdb67": {
      "model_module": "@jupyter-widgets/base",
      "model_module_version": "1.1.0",
      "model_name": "LayoutModel",
      "state": {
       "width": "95%"
      }
     },
     "2716394188814ea3bbed14d8fdddb46a": {
      "model_module": "@jupyter-widgets/base",
      "model_module_version": "1.1.0",
      "model_name": "LayoutModel",
      "state": {
       "width": "42%"
      }
     },
     "27f5b70e098c4b9d81a153cf7d1042ff": {
      "model_module": "@jupyter-widgets/controls",
      "model_module_version": "1.4.0",
      "model_name": "DescriptionStyleModel",
      "state": {
       "description_width": ""
      }
     },
     "27fbb970d8be4c6bbf7720bc6213aa95": {
      "model_module": "@jupyter-widgets/controls",
      "model_module_version": "1.4.0",
      "model_name": "HBoxModel",
      "state": {
       "children": [
        "IPY_MODEL_6ce739e45dff4f8b83001e3123dbec5c",
        "IPY_MODEL_dd8fa56ff0724f18a2d9cab6f0ec028c"
       ],
       "layout": "IPY_MODEL_0a3d2324961e467eae6f1ff60926d509"
      }
     },
     "289ce1c4d99c4438b5c6b5a66455f323": {
      "model_module": "@jupyter-widgets/base",
      "model_module_version": "1.1.0",
      "model_name": "LayoutModel",
      "state": {
       "justify_content": "center"
      }
     },
     "28b8902771b3468092e52579ac4ab90a": {
      "model_module": "@jupyter-widgets/controls",
      "model_module_version": "1.4.0",
      "model_name": "HBoxModel",
      "state": {
       "children": [
        "IPY_MODEL_98b80fda51614ef8974d051b0d6a752d",
        "IPY_MODEL_a6748909755240dd86c658c012f4c7f5"
       ],
       "layout": "IPY_MODEL_16a853ca88f146759534b6dc5ad21b7f"
      }
     },
     "2920fed62830475bb0ff4960fc59cf03": {
      "model_module": "@jupyter-widgets/controls",
      "model_module_version": "1.4.0",
      "model_name": "HBoxModel",
      "state": {
       "children": [
        "IPY_MODEL_154bce923f2941ae81a2386ffe0d57f9",
        "IPY_MODEL_4d908e0c9be14de49ca98f372f429f04"
       ],
       "layout": "IPY_MODEL_e4b040841521454bae2f6ef5f4bdedaa"
      }
     },
     "298f656de276460bb188b6afb865c608": {
      "model_module": "@jupyter-widgets/base",
      "model_module_version": "1.1.0",
      "model_name": "LayoutModel",
      "state": {
       "width": "42%"
      }
     },
     "2a0398caad7642f1834101c1a91afe65": {
      "model_module": "@jupyter-widgets/controls",
      "model_module_version": "1.4.0",
      "model_name": "HBoxModel",
      "state": {
       "children": [
        "IPY_MODEL_502592db6ed94a9d9494e587d4e82ce8",
        "IPY_MODEL_c82d6355ac524ebeb0a03bf645e841f5"
       ],
       "layout": "IPY_MODEL_40d2fccb7a87416f8465c80d172020c0"
      }
     },
     "2a8cd7f652c14b14a0e385a7a62a4aca": {
      "model_module": "@jupyter-widgets/base",
      "model_module_version": "1.1.0",
      "model_name": "LayoutModel",
      "state": {}
     },
     "2b035a3ed20341c08bb72da2db1feeec": {
      "model_module": "@jupyter-widgets/base",
      "model_module_version": "1.1.0",
      "model_name": "LayoutModel",
      "state": {
       "justify_content": "center"
      }
     },
     "2b0fa78cc9e74364ad1dc5b54d82b1a0": {
      "model_module": "@jupyter-widgets/controls",
      "model_module_version": "1.4.0",
      "model_name": "TextModel",
      "state": {
       "description": "Next Step",
       "layout": "IPY_MODEL_f38acae4f32d4ee9a1344e90b97aca43",
       "style": "IPY_MODEL_32c674279a26479d85aa368bd4d400c5",
       "value": "Hit lower tox limit"
      }
     },
     "2baa73a4f8e444699ebd761f0b0e6d34": {
      "model_module": "@jupyter-widgets/base",
      "model_module_version": "1.1.0",
      "model_name": "LayoutModel",
      "state": {
       "width": "42%"
      }
     },
     "2c9e5853c1974f9f9569e2320606b35b": {
      "model_module": "@jupyter-widgets/controls",
      "model_module_version": "1.4.0",
      "model_name": "FloatSliderModel",
      "state": {
       "description": "Dose(t)",
       "layout": "IPY_MODEL_5dc86fa408124542aba9db2b2a063a10",
       "max": 10,
       "min": -10,
       "step": 0.01,
       "style": "IPY_MODEL_b3d7ba76564d488bb4b95b202cdceb96",
       "value": 1.43
      }
     },
     "2ca12a6601e44c4ba1b0259243f20316": {
      "model_module": "@jupyter-widgets/controls",
      "model_module_version": "1.4.0",
      "model_name": "ButtonModel",
      "state": {
       "description": "Administer Dose(t)",
       "disabled": true,
       "layout": "IPY_MODEL_97d026ee3b174d3bb0ce997c953253f6",
       "style": "IPY_MODEL_0c03ce79269847bd87b42e8980da5ebb"
      }
     },
     "2ce967ef069b4ac18b196848fe54a992": {
      "model_module": "@jupyter-widgets/base",
      "model_module_version": "1.1.0",
      "model_name": "LayoutModel",
      "state": {
       "justify_content": "center"
      }
     },
     "2cfb865ac50d4141b32e3cd98f8c3e2f": {
      "model_module": "@jupyter-widgets/base",
      "model_module_version": "1.1.0",
      "model_name": "LayoutModel",
      "state": {
       "justify_content": "center"
      }
     },
     "2e32e14e87b54743a6333b1e24848122": {
      "model_module": "@jupyter-widgets/controls",
      "model_module_version": "1.4.0",
      "model_name": "TextModel",
      "state": {
       "description": "Response(t+1) ",
       "disabled": true,
       "layout": "IPY_MODEL_0e6c7ec2c1e1456ba673ddbd88d91584",
       "style": "IPY_MODEL_589393802fe1448c9a734386253498d5",
       "value": "  "
      }
     },
     "2e35f1bf00f1439cba5982d0e06be281": {
      "model_module": "@jupyter-widgets/controls",
      "model_module_version": "1.4.0",
      "model_name": "HBoxModel",
      "state": {
       "children": [
        "IPY_MODEL_d54fc47a08544f10abf9e225e368b838",
        "IPY_MODEL_f57f160c031a4385b96699f3de1a0ed2"
       ],
       "layout": "IPY_MODEL_609532047cea4d2aa5a76e190017a882"
      }
     },
     "2eedc88b87be4cc598862ac1d2e6f0b9": {
      "model_module": "@jupyter-widgets/base",
      "model_module_version": "1.1.0",
      "model_name": "LayoutModel",
      "state": {
       "width": "42%"
      }
     },
     "2f4dc84a2025406d8272c2d578657e2e": {
      "model_module": "@jupyter-widgets/controls",
      "model_module_version": "1.4.0",
      "model_name": "ButtonModel",
      "state": {
       "description": "Predict Response(t+1)",
       "layout": "IPY_MODEL_c4ff340510a644bda9997d29b5d9f3b4",
       "style": "IPY_MODEL_3bf0987f3a9d45dea299b14bb28cba78"
      }
     },
     "300226540e174695a06f188d144a9cce": {
      "model_module": "@jupyter-widgets/base",
      "model_module_version": "1.1.0",
      "model_name": "LayoutModel",
      "state": {}
     },
     "3027cdb0e0e449e4939059655903bdf5": {
      "model_module": "@jupyter-widgets/base",
      "model_module_version": "1.1.0",
      "model_name": "LayoutModel",
      "state": {
       "justify_content": "center"
      }
     },
     "305236f6a28743d7938b10de74266493": {
      "model_module": "@jupyter-widgets/base",
      "model_module_version": "1.1.0",
      "model_name": "LayoutModel",
      "state": {}
     },
     "3139cf01dd9f453eb2d2373f3f9b750a": {
      "model_module": "@jupyter-widgets/controls",
      "model_module_version": "1.4.0",
      "model_name": "ButtonStyleModel",
      "state": {}
     },
     "32640199eeab48f9bdc3cdc391c8f276": {
      "model_module": "@jupyter-widgets/base",
      "model_module_version": "1.1.0",
      "model_name": "LayoutModel",
      "state": {
       "width": "42%"
      }
     },
     "326eaa7843094062aaa5a5676815ddfd": {
      "model_module": "@jupyter-widgets/base",
      "model_module_version": "1.1.0",
      "model_name": "LayoutModel",
      "state": {
       "justify_content": "center"
      }
     },
     "32c674279a26479d85aa368bd4d400c5": {
      "model_module": "@jupyter-widgets/controls",
      "model_module_version": "1.4.0",
      "model_name": "DescriptionStyleModel",
      "state": {
       "description_width": ""
      }
     },
     "337053ece59c44e196c0dbc2926fbd9c": {
      "model_module": "@jupyter-widgets/controls",
      "model_module_version": "1.4.0",
      "model_name": "ButtonStyleModel",
      "state": {}
     },
     "3371818383a148888fabe75ddb343bd2": {
      "model_module": "@jupyter-widgets/base",
      "model_module_version": "1.1.0",
      "model_name": "LayoutModel",
      "state": {
       "width": "42%"
      }
     },
     "33a6500f707847b095c0b1447d0e2b92": {
      "model_module": "@jupyter-widgets/base",
      "model_module_version": "1.1.0",
      "model_name": "LayoutModel",
      "state": {}
     },
     "344e7c67fa0b424b85d38e01fd606d66": {
      "model_module": "@jupyter-widgets/base",
      "model_module_version": "1.1.0",
      "model_name": "LayoutModel",
      "state": {}
     },
     "34514ad588054f2e92cb0277cbf6339a": {
      "model_module": "@jupyter-widgets/base",
      "model_module_version": "1.1.0",
      "model_name": "LayoutModel",
      "state": {
       "width": "95%"
      }
     },
     "347330237ad74458bab5576eae6126f6": {
      "model_module": "@jupyter-widgets/controls",
      "model_module_version": "1.4.0",
      "model_name": "FloatSliderModel",
      "state": {
       "description": "Dose(t)",
       "layout": "IPY_MODEL_b04f1d8494bd4c1f82f229260ef4ce36",
       "max": 10,
       "min": -10,
       "step": 0.01,
       "style": "IPY_MODEL_7efde4aaa13a4f92a249a7d729e1520c",
       "value": 0.53
      }
     },
     "35dddc4c35d849bfa1196cb47a035aff": {
      "model_module": "@jupyter-widgets/controls",
      "model_module_version": "1.4.0",
      "model_name": "FloatSliderModel",
      "state": {
       "description": "Dose(t)",
       "layout": "IPY_MODEL_ed9cbe41ffa64544a995f86234da6a73",
       "max": 10,
       "min": -10,
       "step": 0.01,
       "style": "IPY_MODEL_076ec1030c03401c83308d41f6b3e233"
      }
     },
     "363c8d17ceac405b97e59eb5328111c9": {
      "model_module": "@jupyter-widgets/controls",
      "model_module_version": "1.4.0",
      "model_name": "ButtonModel",
      "state": {
       "description": "Predict Response(t+1)",
       "layout": "IPY_MODEL_ab6dda5c8b994a2c8959652eef1743d3",
       "style": "IPY_MODEL_b2d3acf0d2e14ecea3f5bd778f3f7e36"
      }
     },
     "36499fb0416d4ba9a0dcd3517e4694c5": {
      "model_module": "@jupyter-widgets/controls",
      "model_module_version": "1.4.0",
      "model_name": "ButtonStyleModel",
      "state": {}
     },
     "37cbf8c6252f4ceba02012dd144ab6c2": {
      "model_module": "@jupyter-widgets/controls",
      "model_module_version": "1.4.0",
      "model_name": "HBoxModel",
      "state": {
       "children": [
        "IPY_MODEL_e8d2bfa31b2345d9b6770adc27d9e13b",
        "IPY_MODEL_2252216b11674301a1dc6d6793999617"
       ],
       "layout": "IPY_MODEL_8f102acff5d94b9db39321529daa7463"
      }
     },
     "37d1111072bd43b2b3bceac7c6626425": {
      "model_module": "@jupyter-widgets/controls",
      "model_module_version": "1.4.0",
      "model_name": "DescriptionStyleModel",
      "state": {
       "description_width": ""
      }
     },
     "381df80769c94b0bbf669d739f317b3c": {
      "model_module": "@jupyter-widgets/controls",
      "model_module_version": "1.4.0",
      "model_name": "SliderStyleModel",
      "state": {
       "description_width": ""
      }
     },
     "386346217bc54b6a8c8ddb9199f0d2cf": {
      "model_module": "@jupyter-widgets/base",
      "model_module_version": "1.1.0",
      "model_name": "LayoutModel",
      "state": {
       "justify_content": "center"
      }
     },
     "38dd512af98346688253ae2c692b679f": {
      "model_module": "@jupyter-widgets/controls",
      "model_module_version": "1.4.0",
      "model_name": "HBoxModel",
      "state": {
       "children": [
        "IPY_MODEL_0c04bfdd8cfe4b1f8288ceb3b479473a",
        "IPY_MODEL_67dc0b4592a54b44b5fa1c0a144d8bfd"
       ],
       "layout": "IPY_MODEL_e8599bd2a44349adb56784521e651176"
      }
     },
     "391db06aff1f48dc9239e3afadae891b": {
      "model_module": "@jupyter-widgets/controls",
      "model_module_version": "1.4.0",
      "model_name": "HBoxModel",
      "state": {
       "children": [
        "IPY_MODEL_414c94a7421448998be5e05fe7fdf784",
        "IPY_MODEL_963c2a580dda400e9d632821f46e338c"
       ],
       "layout": "IPY_MODEL_87dbbd26f1d64a4eb8f392affd5b80c0"
      }
     },
     "3b356e18494a4dfaba153780407a990b": {
      "model_module": "@jupyter-widgets/controls",
      "model_module_version": "1.4.0",
      "model_name": "ButtonStyleModel",
      "state": {}
     },
     "3ba5003d35e9476fb93f2752326b1e1c": {
      "model_module": "@jupyter-widgets/controls",
      "model_module_version": "1.4.0",
      "model_name": "DescriptionStyleModel",
      "state": {
       "description_width": "initial"
      }
     },
     "3ba95bd352924e83b222406a56d0c238": {
      "model_module": "@jupyter-widgets/base",
      "model_module_version": "1.1.0",
      "model_name": "LayoutModel",
      "state": {}
     },
     "3bcf8d3723de4eea9cbcaf412a808af5": {
      "model_module": "@jupyter-widgets/controls",
      "model_module_version": "1.4.0",
      "model_name": "TextModel",
      "state": {
       "description": "Next Step",
       "layout": "IPY_MODEL_13ee1d862dc749cbbddea2155a07abf6",
       "style": "IPY_MODEL_d2a23063baf84feb87593f04fab42cd6",
       "value": "Predict Response(t+1)  "
      }
     },
     "3bcf9f46ff2449369608dfa3b874e388": {
      "model_module": "@jupyter-widgets/base",
      "model_module_version": "1.1.0",
      "model_name": "LayoutModel",
      "state": {}
     },
     "3bf0987f3a9d45dea299b14bb28cba78": {
      "model_module": "@jupyter-widgets/controls",
      "model_module_version": "1.4.0",
      "model_name": "ButtonStyleModel",
      "state": {}
     },
     "3cd026d3f11947b89c86629b4317c82c": {
      "model_module": "@jupyter-widgets/controls",
      "model_module_version": "1.4.0",
      "model_name": "ButtonModel",
      "state": {
       "description": "Predict Response(t+1)",
       "layout": "IPY_MODEL_1b819ccbdc484c548cda756cc2159f18",
       "style": "IPY_MODEL_be8303ca437c442292c37b189157c7c3"
      }
     },
     "3ce88834dad3452aa1cf30b11584ec6c": {
      "model_module": "@jupyter-widgets/controls",
      "model_module_version": "1.4.0",
      "model_name": "ButtonModel",
      "state": {
       "description": "Administer Dose(t)",
       "disabled": true,
       "layout": "IPY_MODEL_a7ed6fa9d13041a88fc14cf0025cfb71",
       "style": "IPY_MODEL_a71d7b646bee4aef83141bf5554d00ad"
      }
     },
     "3d7ff347306d42b98bd568bb482d3a22": {
      "model_module": "@jupyter-widgets/controls",
      "model_module_version": "1.4.0",
      "model_name": "ButtonStyleModel",
      "state": {}
     },
     "3e9081422e614a52bb96b36563e1dda4": {
      "model_module": "@jupyter-widgets/controls",
      "model_module_version": "1.4.0",
      "model_name": "ButtonStyleModel",
      "state": {}
     },
     "3edcee2a091d41558d85ec886821438e": {
      "model_module": "@jupyter-widgets/controls",
      "model_module_version": "1.4.0",
      "model_name": "ButtonStyleModel",
      "state": {}
     },
     "3f2c218119f047a08f2dd2cd0dbeea3b": {
      "model_module": "@jupyter-widgets/base",
      "model_module_version": "1.1.0",
      "model_name": "LayoutModel",
      "state": {}
     },
     "40639ebc812a4bb4a837b4a78c86a201": {
      "model_module": "@jupyter-widgets/controls",
      "model_module_version": "1.4.0",
      "model_name": "HBoxModel",
      "state": {
       "children": [
        "IPY_MODEL_363c8d17ceac405b97e59eb5328111c9",
        "IPY_MODEL_53495fb6e25a4e0da2d05a64f28649b1"
       ],
       "layout": "IPY_MODEL_a333d61bc5b94090a0ab4a2fd38b58cc"
      }
     },
     "40981a7a083f4622ba7768ab2b273685": {
      "model_module": "@jupyter-widgets/controls",
      "model_module_version": "1.4.0",
      "model_name": "DescriptionStyleModel",
      "state": {
       "description_width": "initial"
      }
     },
     "40d2fccb7a87416f8465c80d172020c0": {
      "model_module": "@jupyter-widgets/base",
      "model_module_version": "1.1.0",
      "model_name": "LayoutModel",
      "state": {
       "justify_content": "center"
      }
     },
     "40f40cab43f54764a6e64bebaee628d2": {
      "model_module": "@jupyter-widgets/controls",
      "model_module_version": "1.4.0",
      "model_name": "DescriptionStyleModel",
      "state": {
       "description_width": "initial"
      }
     },
     "4148125e6a6e458fbfcb0382dba69ff3": {
      "model_module": "@jupyter-widgets/controls",
      "model_module_version": "1.4.0",
      "model_name": "HBoxModel",
      "state": {
       "children": [
        "IPY_MODEL_f2f09903188a48d6ac121316a6f6ef94",
        "IPY_MODEL_0c2ae233848f427692bf2244cd5693bc"
       ],
       "layout": "IPY_MODEL_6ede3c958df5435d9877b770809d7733"
      }
     },
     "414c94a7421448998be5e05fe7fdf784": {
      "model_module": "@jupyter-widgets/controls",
      "model_module_version": "1.4.0",
      "model_name": "ButtonModel",
      "state": {
       "description": "Predict Response(t+1)",
       "layout": "IPY_MODEL_e82ec4c293a0420586df3c59390abade",
       "style": "IPY_MODEL_2172a36b7bcb49d284b831f99b3ee9c5"
      }
     },
     "421aa1cf62964b4b966f1b33cfe23c2f": {
      "model_module": "@jupyter-widgets/controls",
      "model_module_version": "1.4.0",
      "model_name": "DescriptionStyleModel",
      "state": {
       "description_width": ""
      }
     },
     "424b555ce6c0412f9b2d509f22b566b9": {
      "model_module": "@jupyter-widgets/controls",
      "model_module_version": "1.4.0",
      "model_name": "ButtonModel",
      "state": {
       "description": "Predict Response(t+1)",
       "layout": "IPY_MODEL_d8a1f05178cc4f789b89c399f8333eae",
       "style": "IPY_MODEL_1d9f3480e70c4fe2ae8af18af92b1f4b"
      }
     },
     "4259f8181294444b8f088c32fc551b3a": {
      "model_module": "@jupyter-widgets/controls",
      "model_module_version": "1.4.0",
      "model_name": "HBoxModel",
      "state": {
       "children": [
        "IPY_MODEL_61692497929e41e3910975ff667ca0c3",
        "IPY_MODEL_537f68d0d46c43e9b2c8a1bf8eac4ce8"
       ],
       "layout": "IPY_MODEL_fbc759d0f1b540cd9be186f41aaad8bb"
      }
     },
     "43a7f22d76124aad926313165059f602": {
      "model_module": "@jupyter-widgets/controls",
      "model_module_version": "1.4.0",
      "model_name": "FloatSliderModel",
      "state": {
       "description": "Dose(t)",
       "layout": "IPY_MODEL_d7326285cbd4420f82951e220971ae4c",
       "max": 10,
       "min": -10,
       "step": 0.01,
       "style": "IPY_MODEL_116e0cd1b5cf408ebe04f993f9f5147e",
       "value": 0.54
      }
     },
     "44213fa0d677497298f063b039f0d490": {
      "model_module": "@jupyter-widgets/controls",
      "model_module_version": "1.4.0",
      "model_name": "ButtonModel",
      "state": {
       "description": "Administer Dose(t)",
       "disabled": true,
       "layout": "IPY_MODEL_1459672da17441b1b5036fedbf3f7f62",
       "style": "IPY_MODEL_49fe473726c54356b71f76199a6da9e1"
      }
     },
     "459573a5464e4040be333848d966ef81": {
      "model_module": "@jupyter-widgets/controls",
      "model_module_version": "1.4.0",
      "model_name": "ButtonModel",
      "state": {
       "description": "Administer Dose(t)",
       "disabled": true,
       "layout": "IPY_MODEL_0cec74e386be41e894235b1d283d5640",
       "style": "IPY_MODEL_36499fb0416d4ba9a0dcd3517e4694c5"
      }
     },
     "45ef44f8e2374c9380d0c76e93e788d8": {
      "model_module": "@jupyter-widgets/base",
      "model_module_version": "1.1.0",
      "model_name": "LayoutModel",
      "state": {
       "width": "42%"
      }
     },
     "4701c9fe2d8c4ebb99a0c63aa03b8bef": {
      "model_module": "@jupyter-widgets/base",
      "model_module_version": "1.1.0",
      "model_name": "LayoutModel",
      "state": {
       "justify_content": "center"
      }
     },
     "4737425401214705bf3400961d0cd709": {
      "model_module": "@jupyter-widgets/controls",
      "model_module_version": "1.4.0",
      "model_name": "ButtonModel",
      "state": {
       "description": "Administer Dose(t)",
       "disabled": true,
       "layout": "IPY_MODEL_bd6ee27849ac42cc82371d07c9d643b6",
       "style": "IPY_MODEL_eb9c5f8672ff4fd18894ebc109c60eda"
      }
     },
     "47a4fcb027254d6997b49582dd52a557": {
      "model_module": "@jupyter-widgets/controls",
      "model_module_version": "1.4.0",
      "model_name": "ButtonStyleModel",
      "state": {}
     },
     "48d47461415f48da87d6bd3143780f2b": {
      "model_module": "@jupyter-widgets/controls",
      "model_module_version": "1.4.0",
      "model_name": "ButtonModel",
      "state": {
       "description": "Predict Response(t+1)",
       "layout": "IPY_MODEL_66c317b7ed0c4b4eb501110b4d6982e6",
       "style": "IPY_MODEL_d580c39264154a45846367f9dd1427e5"
      }
     },
     "48e65c1b8a3b4a88aa4f79ca9f9e0f62": {
      "model_module": "@jupyter-widgets/controls",
      "model_module_version": "1.4.0",
      "model_name": "DescriptionStyleModel",
      "state": {
       "description_width": ""
      }
     },
     "494d94cf1e2d494ebb127c2253cc312b": {
      "model_module": "@jupyter-widgets/controls",
      "model_module_version": "1.4.0",
      "model_name": "ButtonStyleModel",
      "state": {}
     },
     "497ddd7f230f4030ab3abd315293be50": {
      "model_module": "@jupyter-widgets/controls",
      "model_module_version": "1.4.0",
      "model_name": "ButtonStyleModel",
      "state": {}
     },
     "4981081503a24939920c25f27f01c7bd": {
      "model_module": "@jupyter-widgets/base",
      "model_module_version": "1.1.0",
      "model_name": "LayoutModel",
      "state": {
       "width": "95%"
      }
     },
     "49993292fef14d3b87f61e4c57a29f80": {
      "model_module": "@jupyter-widgets/base",
      "model_module_version": "1.1.0",
      "model_name": "LayoutModel",
      "state": {}
     },
     "49e2096b0376466b9a74b992b8330d8c": {
      "model_module": "@jupyter-widgets/controls",
      "model_module_version": "1.4.0",
      "model_name": "ButtonStyleModel",
      "state": {}
     },
     "49fe473726c54356b71f76199a6da9e1": {
      "model_module": "@jupyter-widgets/controls",
      "model_module_version": "1.4.0",
      "model_name": "ButtonStyleModel",
      "state": {}
     },
     "4a12501fe2a446d98d0fb2daf361337d": {
      "model_module": "@jupyter-widgets/controls",
      "model_module_version": "1.4.0",
      "model_name": "ButtonStyleModel",
      "state": {}
     },
     "4a30ba8a37c94d468755273ce5e0b916": {
      "model_module": "@jupyter-widgets/controls",
      "model_module_version": "1.4.0",
      "model_name": "SliderStyleModel",
      "state": {
       "description_width": ""
      }
     },
     "4a34fcebf76848b2b0b6b45911141f6a": {
      "model_module": "@jupyter-widgets/controls",
      "model_module_version": "1.4.0",
      "model_name": "ButtonModel",
      "state": {
       "description": "Administer Dose(t)",
       "disabled": true,
       "layout": "IPY_MODEL_1a294373fb3e471baff499db21d1ef5e",
       "style": "IPY_MODEL_f10c70a716f9455c917522757d882483"
      }
     },
     "4ac0edac95fa4ddc957eeb4bca8fa1f4": {
      "model_module": "@jupyter-widgets/base",
      "model_module_version": "1.1.0",
      "model_name": "LayoutModel",
      "state": {
       "width": "42%"
      }
     },
     "4b04162859d44f3d86b766bf43864f2f": {
      "model_module": "@jupyter-widgets/controls",
      "model_module_version": "1.4.0",
      "model_name": "TextModel",
      "state": {
       "description": "Next Step",
       "layout": "IPY_MODEL_3ba95bd352924e83b222406a56d0c238",
       "style": "IPY_MODEL_d2ceb75c9b5b48019b164fad36b635f8",
       "value": "Increase dose(t) and Predict"
      }
     },
     "4b16627cd21b49a991717349dcc0f39e": {
      "model_module": "@jupyter-widgets/controls",
      "model_module_version": "1.4.0",
      "model_name": "HBoxModel",
      "state": {
       "children": [
        "IPY_MODEL_edb82dc7e54b442f932c1af931fdffb4",
        "IPY_MODEL_e1988a5aa4dc4bc2a507e12e6beb3a31"
       ],
       "layout": "IPY_MODEL_b9169c4237734f928f4b01df729c2263"
      }
     },
     "4b30e56caeeb43bbb9a865a1c6c1837d": {
      "model_module": "@jupyter-widgets/controls",
      "model_module_version": "1.4.0",
      "model_name": "HBoxModel",
      "state": {
       "children": [
        "IPY_MODEL_104415e3dc274d11bd79c43b5f27da12",
        "IPY_MODEL_44213fa0d677497298f063b039f0d490"
       ],
       "layout": "IPY_MODEL_aed8b7420fa54206be1442b4763dc690"
      }
     },
     "4b4941f16f364fa0ad8add2434a27117": {
      "model_module": "@jupyter-widgets/controls",
      "model_module_version": "1.4.0",
      "model_name": "TextModel",
      "state": {
       "description": "Response(t+1) ",
       "disabled": true,
       "layout": "IPY_MODEL_5c70176f1e1b4dc6a457dcd608197e76",
       "style": "IPY_MODEL_bb78fe4891034bb1a307cb33083a20df",
       "value": "  "
      }
     },
     "4d6b808dc5f14792af76147ec724616c": {
      "model_module": "@jupyter-widgets/controls",
      "model_module_version": "1.4.0",
      "model_name": "FloatSliderModel",
      "state": {
       "description": "Dose(t)",
       "layout": "IPY_MODEL_86e4deae87b3424895dfd33996c5a23e",
       "max": 10,
       "min": -10,
       "step": 0.01,
       "style": "IPY_MODEL_c50c5c21c634449697f9cc7737cbd95b",
       "value": 4.23
      }
     },
     "4d908e0c9be14de49ca98f372f429f04": {
      "model_module": "@jupyter-widgets/controls",
      "model_module_version": "1.4.0",
      "model_name": "TextModel",
      "state": {
       "description": "Next Step",
       "layout": "IPY_MODEL_1ef26e0b6a91477d88fcba7838e555e1",
       "style": "IPY_MODEL_d215c5126a5d4ca1b8842dcb98780736",
       "value": "Successful Completion"
      }
     },
     "4e1fde5ca2574b09a115ea511786a24c": {
      "model_module": "@jupyter-widgets/controls",
      "model_module_version": "1.4.0",
      "model_name": "DescriptionStyleModel",
      "state": {
       "description_width": "initial"
      }
     },
     "4e276131cd18464e805430c4ceee467b": {
      "model_module": "@jupyter-widgets/controls",
      "model_module_version": "1.4.0",
      "model_name": "HBoxModel",
      "state": {
       "children": [
        "IPY_MODEL_4e8787be967746a89d8aee8d18642060",
        "IPY_MODEL_9146b12367df4be5b94a06f30bf45ea0"
       ],
       "layout": "IPY_MODEL_07e5d6e2e98a4cfdb8a41e519ac6ab8e"
      }
     },
     "4e35421308034f85af3e706064d26ee0": {
      "model_module": "@jupyter-widgets/controls",
      "model_module_version": "1.4.0",
      "model_name": "FloatSliderModel",
      "state": {
       "description": "Dose(t)",
       "layout": "IPY_MODEL_125cfba9ee024c9fbd91084467a841b9",
       "max": 10,
       "min": -10,
       "step": 0.01,
       "style": "IPY_MODEL_0ad9f37ff7e1409e9cd22abe0c9b9f2c"
      }
     },
     "4e7747e5ba684b80ac48d66bc7ce6e1d": {
      "model_module": "@jupyter-widgets/controls",
      "model_module_version": "1.4.0",
      "model_name": "HBoxModel",
      "state": {
       "children": [
        "IPY_MODEL_b89bdd81f4be414a9b03a405b330537a",
        "IPY_MODEL_159436a0cd284cf6998578e86d35d5dc"
       ],
       "layout": "IPY_MODEL_f737a9ed60ee41628c6038e6bd8f20ec"
      }
     },
     "4e8787be967746a89d8aee8d18642060": {
      "model_module": "@jupyter-widgets/controls",
      "model_module_version": "1.4.0",
      "model_name": "TextModel",
      "state": {
       "description": "Response(t+1) ",
       "disabled": true,
       "layout": "IPY_MODEL_8e08663ae65f4c9884ddf958ae6ef17f",
       "style": "IPY_MODEL_8cc97bb05c9e4a1b8746e0ece03e5143",
       "value": "4.96"
      }
     },
     "4f0016f913ce4a989ca9de5814401c08": {
      "model_module": "@jupyter-widgets/base",
      "model_module_version": "1.1.0",
      "model_name": "LayoutModel",
      "state": {}
     },
     "4f66b33320d34c768befc72938473b1d": {
      "model_module": "@jupyter-widgets/base",
      "model_module_version": "1.1.0",
      "model_name": "LayoutModel",
      "state": {
       "width": "42%"
      }
     },
     "4fccf838e71e43f4b0e5163a93629f76": {
      "model_module": "@jupyter-widgets/controls",
      "model_module_version": "1.4.0",
      "model_name": "TextModel",
      "state": {
       "description": "Response(t+1) ",
       "disabled": true,
       "layout": "IPY_MODEL_1af2fddaafa44561adabd0d381aed625",
       "style": "IPY_MODEL_b7ae42f3ed504f148a5b5b1813cf830d",
       "value": "5.17 (in range)"
      }
     },
     "4fe10e5c275b4181b7fe8989ef39f605": {
      "model_module": "@jupyter-widgets/base",
      "model_module_version": "1.1.0",
      "model_name": "LayoutModel",
      "state": {
       "justify_content": "center"
      }
     },
     "4fe13937bcae401cb2e250b1e656dfbe": {
      "model_module": "@jupyter-widgets/controls",
      "model_module_version": "1.4.0",
      "model_name": "SliderStyleModel",
      "state": {
       "description_width": ""
      }
     },
     "4fe19b45a2424016b2129e461e230835": {
      "model_module": "@jupyter-widgets/base",
      "model_module_version": "1.1.0",
      "model_name": "LayoutModel",
      "state": {
       "width": "42%"
      }
     },
     "502592db6ed94a9d9494e587d4e82ce8": {
      "model_module": "@jupyter-widgets/controls",
      "model_module_version": "1.4.0",
      "model_name": "ButtonModel",
      "state": {
       "description": "Predict Response(t+1)",
       "disabled": true,
       "layout": "IPY_MODEL_a04910f70f604bd7968d21a7390face8",
       "style": "IPY_MODEL_f210065ef4614d908a8d58a418030e3d"
      }
     },
     "505dad8f47d0444597a5440b934675fa": {
      "model_module": "@jupyter-widgets/controls",
      "model_module_version": "1.4.0",
      "model_name": "TextModel",
      "state": {
       "description": "Response(t+1) ",
       "disabled": true,
       "layout": "IPY_MODEL_f3b0b79639bc4b69b2105cd51ba8ed4a",
       "style": "IPY_MODEL_6f1c4bba2ff049b8b58c96cfc3f962f4",
       "value": "4.87 (in range)"
      }
     },
     "50bc8c7589c8435293fb0cc7c84861b1": {
      "model_module": "@jupyter-widgets/controls",
      "model_module_version": "1.4.0",
      "model_name": "ButtonModel",
      "state": {
       "description": "Predict Response(t+1)",
       "layout": "IPY_MODEL_74f29b733c8e43cd80339067f24d34cb",
       "style": "IPY_MODEL_337053ece59c44e196c0dbc2926fbd9c"
      }
     },
     "512c11586a13499a8da5092ef221631b": {
      "model_module": "@jupyter-widgets/base",
      "model_module_version": "1.1.0",
      "model_name": "LayoutModel",
      "state": {
       "justify_content": "center"
      }
     },
     "5160f3354b4e4890a4196ed16bc0a1de": {
      "model_module": "@jupyter-widgets/base",
      "model_module_version": "1.1.0",
      "model_name": "LayoutModel",
      "state": {
       "justify_content": "center"
      }
     },
     "51ccdaf9d1ac4d6fa711e439225f143c": {
      "model_module": "@jupyter-widgets/controls",
      "model_module_version": "1.4.0",
      "model_name": "DescriptionStyleModel",
      "state": {
       "description_width": "initial"
      }
     },
     "51d112d7f2fa45c2aa3d9c595a0f3bca": {
      "model_module": "@jupyter-widgets/base",
      "model_module_version": "1.1.0",
      "model_name": "LayoutModel",
      "state": {}
     },
     "51e3e4c10c364ff981432175f8cbd36e": {
      "model_module": "@jupyter-widgets/controls",
      "model_module_version": "1.4.0",
      "model_name": "SliderStyleModel",
      "state": {
       "description_width": ""
      }
     },
     "528c22a7eb1a4339853aec47cf195263": {
      "model_module": "@jupyter-widgets/base",
      "model_module_version": "1.1.0",
      "model_name": "LayoutModel",
      "state": {
       "width": "42%"
      }
     },
     "53213428c2244e46b7cd1a688551291f": {
      "model_module": "@jupyter-widgets/controls",
      "model_module_version": "1.4.0",
      "model_name": "ButtonModel",
      "state": {
       "description": "Administer Dose(t)",
       "disabled": true,
       "layout": "IPY_MODEL_32640199eeab48f9bdc3cdc391c8f276",
       "style": "IPY_MODEL_cf37d7cf7bf44d73b5bf23098f58041c"
      }
     },
     "53495fb6e25a4e0da2d05a64f28649b1": {
      "model_module": "@jupyter-widgets/controls",
      "model_module_version": "1.4.0",
      "model_name": "ButtonModel",
      "state": {
       "description": "Administer Dose(t)",
       "disabled": true,
       "layout": "IPY_MODEL_d9d1719919ac43fdbbe9668b05dbeb00",
       "style": "IPY_MODEL_8bb11177a1df43f097d6929aa23f82d1"
      }
     },
     "534f7d52f58d49919e5fc4cf016e0515": {
      "model_module": "@jupyter-widgets/base",
      "model_module_version": "1.1.0",
      "model_name": "LayoutModel",
      "state": {
       "width": "95%"
      }
     },
     "537f68d0d46c43e9b2c8a1bf8eac4ce8": {
      "model_module": "@jupyter-widgets/controls",
      "model_module_version": "1.4.0",
      "model_name": "TextModel",
      "state": {
       "description": "Next Step",
       "layout": "IPY_MODEL_300226540e174695a06f188d144a9cce",
       "style": "IPY_MODEL_9a7d9d5490f74e2bb4ee1ebe2370d27f",
       "value": "Predict Response(t+1)"
      }
     },
     "54aca4b6bc304a33912aa03f2bd2dc3f": {
      "model_module": "@jupyter-widgets/controls",
      "model_module_version": "1.4.0",
      "model_name": "SliderStyleModel",
      "state": {
       "description_width": ""
      }
     },
     "54c201460cf348b2af29a887ff5d5b6a": {
      "model_module": "@jupyter-widgets/base",
      "model_module_version": "1.1.0",
      "model_name": "LayoutModel",
      "state": {
       "width": "42%"
      }
     },
     "54d98e77d9c140f5b6f6a26ddb404a10": {
      "model_module": "@jupyter-widgets/base",
      "model_module_version": "1.1.0",
      "model_name": "LayoutModel",
      "state": {
       "width": "95%"
      }
     },
     "559a3173a7fa47e0a2ddc14435f3161d": {
      "model_module": "@jupyter-widgets/controls",
      "model_module_version": "1.4.0",
      "model_name": "TextModel",
      "state": {
       "description": "Next Step",
       "layout": "IPY_MODEL_2a8cd7f652c14b14a0e385a7a62a4aca",
       "style": "IPY_MODEL_84bbfc3054934beb8c336de788ba7cdd",
       "value": "Increase dose(t) and Predict"
      }
     },
     "56818f00b59e4500996159b0e78eb2be": {
      "model_module": "@jupyter-widgets/controls",
      "model_module_version": "1.4.0",
      "model_name": "HBoxModel",
      "state": {
       "children": [
        "IPY_MODEL_d005af7968254de89a6df51708ebb703",
        "IPY_MODEL_f35c730f044b47d2a2634f4c6abd2191"
       ],
       "layout": "IPY_MODEL_c1be487cd0884ceb962a5afadfb02e64"
      }
     },
     "56d1312a2eef45698d78113e8c83fddd": {
      "model_module": "@jupyter-widgets/controls",
      "model_module_version": "1.4.0",
      "model_name": "DescriptionStyleModel",
      "state": {
       "description_width": ""
      }
     },
     "56d898b0af4e423a9b4245b44b2fc3d6": {
      "model_module": "@jupyter-widgets/base",
      "model_module_version": "1.1.0",
      "model_name": "LayoutModel",
      "state": {}
     },
     "573a17478f7047c1a7c748c1b5866466": {
      "model_module": "@jupyter-widgets/controls",
      "model_module_version": "1.4.0",
      "model_name": "FloatSliderModel",
      "state": {
       "description": "Dose(t)",
       "layout": "IPY_MODEL_11578dd36a6543ceadc51fbc421dfddb",
       "max": 10,
       "min": -10,
       "step": 0.01,
       "style": "IPY_MODEL_b48170f32c8e4f8ba81197998816d855",
       "value": 1.15
      }
     },
     "58110a00900a494a8c3b7b9f61274673": {
      "model_module": "@jupyter-widgets/controls",
      "model_module_version": "1.4.0",
      "model_name": "HBoxModel",
      "state": {
       "children": [
        "IPY_MODEL_1cd082ab6eaa414d89de220e7641b816",
        "IPY_MODEL_c5b14d0d7c7f4d8d84deae107a7584e9"
       ],
       "layout": "IPY_MODEL_5160f3354b4e4890a4196ed16bc0a1de"
      }
     },
     "589393802fe1448c9a734386253498d5": {
      "model_module": "@jupyter-widgets/controls",
      "model_module_version": "1.4.0",
      "model_name": "DescriptionStyleModel",
      "state": {
       "description_width": "initial"
      }
     },
     "592d9262d2714a7a8f34da23a4028411": {
      "model_module": "@jupyter-widgets/base",
      "model_module_version": "1.1.0",
      "model_name": "LayoutModel",
      "state": {
       "justify_content": "center"
      }
     },
     "5932930c857e46a18531b696f10c7a38": {
      "model_module": "@jupyter-widgets/controls",
      "model_module_version": "1.4.0",
      "model_name": "HBoxModel",
      "state": {
       "children": [
        "IPY_MODEL_df7f566003a04dbbabc602a6e650e881",
        "IPY_MODEL_862c934b213448dcbee15ea1f65f42e5"
       ],
       "layout": "IPY_MODEL_136e5952035740b494afc450f8f3b651"
      }
     },
     "594cae7682334f93bbf6a6d7f64a19bc": {
      "model_module": "@jupyter-widgets/base",
      "model_module_version": "1.1.0",
      "model_name": "LayoutModel",
      "state": {}
     },
     "5983030701c44020b589afca71dad013": {
      "model_module": "@jupyter-widgets/base",
      "model_module_version": "1.1.0",
      "model_name": "LayoutModel",
      "state": {
       "width": "95%"
      }
     },
     "5aecb214e170443ab358419d1f491850": {
      "model_module": "@jupyter-widgets/controls",
      "model_module_version": "1.4.0",
      "model_name": "TextModel",
      "state": {
       "description": "Response(t+1) ",
       "disabled": true,
       "layout": "IPY_MODEL_09a9cf5b1ff446a0a801056dfd462bf9",
       "style": "IPY_MODEL_40f40cab43f54764a6e64bebaee628d2",
       "value": "  "
      }
     },
     "5c47f2ccf8d946f68316cdabf568ffa7": {
      "model_module": "@jupyter-widgets/controls",
      "model_module_version": "1.4.0",
      "model_name": "DescriptionStyleModel",
      "state": {
       "description_width": ""
      }
     },
     "5c70176f1e1b4dc6a457dcd608197e76": {
      "model_module": "@jupyter-widgets/base",
      "model_module_version": "1.1.0",
      "model_name": "LayoutModel",
      "state": {}
     },
     "5d615f02f9c5445684f5938ca250ceac": {
      "model_module": "@jupyter-widgets/controls",
      "model_module_version": "1.4.0",
      "model_name": "FloatSliderModel",
      "state": {
       "description": "Dose(t)",
       "layout": "IPY_MODEL_862b15226c694210865805e31079734d",
       "max": 10,
       "min": -10,
       "step": 0.01,
       "style": "IPY_MODEL_e7dffd1db6c444158be5e3b52a09b880",
       "value": 0.53
      }
     },
     "5d64cca9cbac40368c53256f44d88a84": {
      "model_module": "@jupyter-widgets/controls",
      "model_module_version": "1.4.0",
      "model_name": "TextModel",
      "state": {
       "description": "Response(t+1) ",
       "disabled": true,
       "layout": "IPY_MODEL_1866096e9dbd44b99108550a2624bc23",
       "style": "IPY_MODEL_a3bffca2071049a3b4a952c29bb551e9",
       "value": "  "
      }
     },
     "5dc86fa408124542aba9db2b2a063a10": {
      "model_module": "@jupyter-widgets/base",
      "model_module_version": "1.1.0",
      "model_name": "LayoutModel",
      "state": {
       "width": "95%"
      }
     },
     "5df7ee52fa9e4b7985ffab0fa42a8224": {
      "model_module": "@jupyter-widgets/controls",
      "model_module_version": "1.4.0",
      "model_name": "DescriptionStyleModel",
      "state": {
       "description_width": "initial"
      }
     },
     "5f7e454921f043f3b06fa40406b74e65": {
      "model_module": "@jupyter-widgets/controls",
      "model_module_version": "1.4.0",
      "model_name": "DescriptionStyleModel",
      "state": {
       "description_width": ""
      }
     },
     "600022f341b642b0b694ddaf0a308b4c": {
      "model_module": "@jupyter-widgets/controls",
      "model_module_version": "1.4.0",
      "model_name": "ButtonStyleModel",
      "state": {}
     },
     "609532047cea4d2aa5a76e190017a882": {
      "model_module": "@jupyter-widgets/base",
      "model_module_version": "1.1.0",
      "model_name": "LayoutModel",
      "state": {
       "justify_content": "center"
      }
     },
     "61480924479042b0b5fb190b9b6f2b62": {
      "model_module": "@jupyter-widgets/controls",
      "model_module_version": "1.4.0",
      "model_name": "TextModel",
      "state": {
       "description": "Next Step",
       "layout": "IPY_MODEL_76ca2c57664d4d87a5ffe8cf1cb3f915",
       "style": "IPY_MODEL_cac72bc0b47d4478803706af41eee6fa",
       "value": "Predict Response(t+1)"
      }
     },
     "614b28c738854f7e852bd3888be7f432": {
      "model_module": "@jupyter-widgets/controls",
      "model_module_version": "1.4.0",
      "model_name": "ButtonStyleModel",
      "state": {}
     },
     "615f9d620e0542eea1c267338b59a071": {
      "model_module": "@jupyter-widgets/base",
      "model_module_version": "1.1.0",
      "model_name": "LayoutModel",
      "state": {}
     },
     "61692497929e41e3910975ff667ca0c3": {
      "model_module": "@jupyter-widgets/controls",
      "model_module_version": "1.4.0",
      "model_name": "TextModel",
      "state": {
       "description": "Response(t+1) ",
       "disabled": true,
       "layout": "IPY_MODEL_e1066b07ce154f1aa63b1830b9e1d972",
       "style": "IPY_MODEL_c3a47741b9514d08a7252cf62de1f243",
       "value": "4.89"
      }
     },
     "618bcca2b478481986a271a8828cc533": {
      "model_module": "@jupyter-widgets/controls",
      "model_module_version": "1.4.0",
      "model_name": "HBoxModel",
      "state": {
       "children": [
        "IPY_MODEL_afa0e9f0efc14446bcd9bac454ec77b8",
        "IPY_MODEL_fa625533e4f64183a5295a04d5037ca7"
       ],
       "layout": "IPY_MODEL_4fe10e5c275b4181b7fe8989ef39f605"
      }
     },
     "6241f9ec6f314c11a61599ef20e2e458": {
      "model_module": "@jupyter-widgets/controls",
      "model_module_version": "1.4.0",
      "model_name": "HBoxModel",
      "state": {
       "children": [
        "IPY_MODEL_6a89e3ab6d964c61a457e543702890e0",
        "IPY_MODEL_e4931278102f44718cf15523d863fccd"
       ],
       "layout": "IPY_MODEL_922a3fc5812f4fb9bb3f332b10b2c6fb"
      }
     },
     "62a0db136ba84cdbbbf1220b888881d6": {
      "model_module": "@jupyter-widgets/controls",
      "model_module_version": "1.4.0",
      "model_name": "ButtonModel",
      "state": {
       "description": "Predict Response(t+1)",
       "disabled": true,
       "layout": "IPY_MODEL_b481ac49bb634d33bf90a852c07ec6b0",
       "style": "IPY_MODEL_a88ea863d8c94b7db3a9e54b98f0c98c"
      }
     },
     "631a2ad58acb4443a17d0e22f5ecd50b": {
      "model_module": "@jupyter-widgets/controls",
      "model_module_version": "1.4.0",
      "model_name": "DescriptionStyleModel",
      "state": {
       "description_width": "initial"
      }
     },
     "63782116f59147b385e4aeaea3ef9c25": {
      "model_module": "@jupyter-widgets/base",
      "model_module_version": "1.1.0",
      "model_name": "LayoutModel",
      "state": {
       "width": "42%"
      }
     },
     "647d8c7301304a74ac8c4cfddc173ae6": {
      "model_module": "@jupyter-widgets/base",
      "model_module_version": "1.1.0",
      "model_name": "LayoutModel",
      "state": {}
     },
     "647fea64e9c44ab3b79f19ef3655467f": {
      "model_module": "@jupyter-widgets/base",
      "model_module_version": "1.1.0",
      "model_name": "LayoutModel",
      "state": {}
     },
     "6679247738bc4a6894d87fb479ac3a60": {
      "model_module": "@jupyter-widgets/controls",
      "model_module_version": "1.4.0",
      "model_name": "HBoxModel",
      "state": {
       "children": [
        "IPY_MODEL_8d63487340f54b378f6f6b2f4e4a2e55",
        "IPY_MODEL_671964bfee62456ea942af0ba032e83a"
       ],
       "layout": "IPY_MODEL_e65f57983e69411ab0b0befc7274a185"
      }
     },
     "6680563eaa284e9991998c69264ccef4": {
      "model_module": "@jupyter-widgets/controls",
      "model_module_version": "1.4.0",
      "model_name": "FloatSliderModel",
      "state": {
       "description": "Dose(t)",
       "layout": "IPY_MODEL_da78e4cf842d41a195e356726731b8e4",
       "max": 10,
       "min": -10,
       "step": 0.01,
       "style": "IPY_MODEL_51e3e4c10c364ff981432175f8cbd36e",
       "value": 0.51
      }
     },
     "66c317b7ed0c4b4eb501110b4d6982e6": {
      "model_module": "@jupyter-widgets/base",
      "model_module_version": "1.1.0",
      "model_name": "LayoutModel",
      "state": {
       "width": "42%"
      }
     },
     "671964bfee62456ea942af0ba032e83a": {
      "model_module": "@jupyter-widgets/controls",
      "model_module_version": "1.4.0",
      "model_name": "ButtonModel",
      "state": {
       "description": "Administer Dose(t)",
       "disabled": true,
       "layout": "IPY_MODEL_69d1ca8d3607400abcebfa3ebc91c1d3",
       "style": "IPY_MODEL_614b28c738854f7e852bd3888be7f432"
      }
     },
     "67dc0b4592a54b44b5fa1c0a144d8bfd": {
      "model_module": "@jupyter-widgets/controls",
      "model_module_version": "1.4.0",
      "model_name": "ButtonModel",
      "state": {
       "description": "Administer Dose(t)",
       "disabled": true,
       "layout": "IPY_MODEL_f89aa0d3d86744c19422f1dd7f6d84aa",
       "style": "IPY_MODEL_775ca751112f435a878f0e2446969fdb"
      }
     },
     "67e28e2a37664868922fe99736ea2eab": {
      "model_module": "@jupyter-widgets/controls",
      "model_module_version": "1.4.0",
      "model_name": "TextModel",
      "state": {
       "description": "Next Step",
       "layout": "IPY_MODEL_c4185a4c21b54d7a9d896832eee1f16f",
       "style": "IPY_MODEL_5c47f2ccf8d946f68316cdabf568ffa7",
       "value": "Predict Response(t+1)"
      }
     },
     "682c8fd675e34a40aee90ab2fa7a21a0": {
      "model_module": "@jupyter-widgets/controls",
      "model_module_version": "1.4.0",
      "model_name": "HBoxModel",
      "state": {
       "children": [
        "IPY_MODEL_7db419a588d3425197fcaac34a531d03",
        "IPY_MODEL_13c5a2362b9f454bb2e5b0bf4a067623"
       ],
       "layout": "IPY_MODEL_b0f6535619c3467b858efc57d7ec31e1"
      }
     },
     "6863a7a5054c4f05913182582a4fe20f": {
      "model_module": "@jupyter-widgets/controls",
      "model_module_version": "1.4.0",
      "model_name": "ButtonStyleModel",
      "state": {}
     },
     "69cde05467dc42ae9e30210ac23674c1": {
      "model_module": "@jupyter-widgets/base",
      "model_module_version": "1.1.0",
      "model_name": "LayoutModel",
      "state": {
       "justify_content": "center"
      }
     },
     "69d1ca8d3607400abcebfa3ebc91c1d3": {
      "model_module": "@jupyter-widgets/base",
      "model_module_version": "1.1.0",
      "model_name": "LayoutModel",
      "state": {
       "width": "42%"
      }
     },
     "6a89e3ab6d964c61a457e543702890e0": {
      "model_module": "@jupyter-widgets/controls",
      "model_module_version": "1.4.0",
      "model_name": "TextModel",
      "state": {
       "description": "Response(t+1) ",
       "disabled": true,
       "layout": "IPY_MODEL_615f9d620e0542eea1c267338b59a071",
       "style": "IPY_MODEL_ac40f3af24d646deacc5730b0bc05625",
       "value": "4.92 (in range)"
      }
     },
     "6b86836180e542a9b3178ad78413f81c": {
      "model_module": "@jupyter-widgets/controls",
      "model_module_version": "1.4.0",
      "model_name": "ButtonModel",
      "state": {
       "description": "Predict Response(t+1)",
       "disabled": true,
       "layout": "IPY_MODEL_22e6bce546434bcf9cc42eb9a0d861e9",
       "style": "IPY_MODEL_9ade70736415488da0906a91bbe8536a"
      }
     },
     "6c8e0ebb921041c1bf653b76f80104ff": {
      "model_module": "@jupyter-widgets/controls",
      "model_module_version": "1.4.0",
      "model_name": "DescriptionStyleModel",
      "state": {
       "description_width": "initial"
      }
     },
     "6ce739e45dff4f8b83001e3123dbec5c": {
      "model_module": "@jupyter-widgets/controls",
      "model_module_version": "1.4.0",
      "model_name": "TextModel",
      "state": {
       "description": "Response(t+1) ",
       "disabled": true,
       "layout": "IPY_MODEL_fad47deec66541b38d3a26140b748184",
       "style": "IPY_MODEL_a40e2c541aaa4e07a78bf819b617de2a",
       "value": "4.91"
      }
     },
     "6df2219b9a00488c9eeca53edc987033": {
      "model_module": "@jupyter-widgets/base",
      "model_module_version": "1.1.0",
      "model_name": "LayoutModel",
      "state": {
       "width": "42%"
      }
     },
     "6e6f03e1106e4e61ac7eabe7d9ea2fee": {
      "model_module": "@jupyter-widgets/base",
      "model_module_version": "1.1.0",
      "model_name": "LayoutModel",
      "state": {}
     },
     "6e88d1ff7f8247aca898c7dbf18e326c": {
      "model_module": "@jupyter-widgets/controls",
      "model_module_version": "1.4.0",
      "model_name": "TextModel",
      "state": {
       "description": "Response(t+1) ",
       "disabled": true,
       "layout": "IPY_MODEL_0fa6cd9902614b48a0b705b91b8eee11",
       "style": "IPY_MODEL_3ba5003d35e9476fb93f2752326b1e1c",
       "value": "4.77"
      }
     },
     "6ede3c958df5435d9877b770809d7733": {
      "model_module": "@jupyter-widgets/base",
      "model_module_version": "1.1.0",
      "model_name": "LayoutModel",
      "state": {
       "justify_content": "center"
      }
     },
     "6ee63b6af7fd405db6873c15ef4165a8": {
      "model_module": "@jupyter-widgets/controls",
      "model_module_version": "1.4.0",
      "model_name": "TextModel",
      "state": {
       "description": "Response(t+1) ",
       "disabled": true,
       "layout": "IPY_MODEL_647d8c7301304a74ac8c4cfddc173ae6",
       "style": "IPY_MODEL_51ccdaf9d1ac4d6fa711e439225f143c",
       "value": "5.03 (in range)"
      }
     },
     "6f1c4bba2ff049b8b58c96cfc3f962f4": {
      "model_module": "@jupyter-widgets/controls",
      "model_module_version": "1.4.0",
      "model_name": "DescriptionStyleModel",
      "state": {
       "description_width": "initial"
      }
     },
     "6f26e09fe263477d852bd4cc2cbcbd2a": {
      "model_module": "@jupyter-widgets/controls",
      "model_module_version": "1.4.0",
      "model_name": "ButtonModel",
      "state": {
       "description": "Predict Response(t+1)",
       "layout": "IPY_MODEL_d3bba6b718f849c4bbf8cd36ab1a9832",
       "style": "IPY_MODEL_8b4403bc359c49eaa0fe68915caded87"
      }
     },
     "6f5abbbf561a41738f53ae8f1c35c223": {
      "model_module": "@jupyter-widgets/controls",
      "model_module_version": "1.4.0",
      "model_name": "ButtonStyleModel",
      "state": {}
     },
     "6f887701b8c445d7a6cb47d47178336f": {
      "model_module": "@jupyter-widgets/base",
      "model_module_version": "1.1.0",
      "model_name": "LayoutModel",
      "state": {
       "width": "42%"
      }
     },
     "6fd2adff35564d99a6fe83ef2064cd81": {
      "model_module": "@jupyter-widgets/controls",
      "model_module_version": "1.4.0",
      "model_name": "ButtonModel",
      "state": {
       "description": "Administer Dose(t)",
       "disabled": true,
       "layout": "IPY_MODEL_1a0b5357728b4aafb8d09ae3b12d86af",
       "style": "IPY_MODEL_bfa30f6911a244728098ad1df15ad6ed"
      }
     },
     "700f166b177a46b3bc7e8ac2001ef0e3": {
      "model_module": "@jupyter-widgets/controls",
      "model_module_version": "1.4.0",
      "model_name": "HBoxModel",
      "state": {
       "children": [
        "IPY_MODEL_505dad8f47d0444597a5440b934675fa",
        "IPY_MODEL_a026c654c79b4fe5b0597ba62791f0e7"
       ],
       "layout": "IPY_MODEL_b1535340cda247bb8b654cd92d3572f9"
      }
     },
     "7020576863994636beec0099d71909be": {
      "model_module": "@jupyter-widgets/controls",
      "model_module_version": "1.4.0",
      "model_name": "SliderStyleModel",
      "state": {
       "description_width": ""
      }
     },
     "70b13527e2a444fdabaa63273b86b586": {
      "model_module": "@jupyter-widgets/controls",
      "model_module_version": "1.4.0",
      "model_name": "HBoxModel",
      "state": {
       "children": [
        "IPY_MODEL_50bc8c7589c8435293fb0cc7c84861b1",
        "IPY_MODEL_897f2376e627442e95ebbd7368f4ff28"
       ],
       "layout": "IPY_MODEL_4701c9fe2d8c4ebb99a0c63aa03b8bef"
      }
     },
     "70edd22de1514253a006b9d60e2bc03d": {
      "model_module": "@jupyter-widgets/controls",
      "model_module_version": "1.4.0",
      "model_name": "DescriptionStyleModel",
      "state": {
       "description_width": "initial"
      }
     },
     "74211fd2a17243e290eafe7a0be9d4ee": {
      "model_module": "@jupyter-widgets/base",
      "model_module_version": "1.1.0",
      "model_name": "LayoutModel",
      "state": {}
     },
     "74f29b733c8e43cd80339067f24d34cb": {
      "model_module": "@jupyter-widgets/base",
      "model_module_version": "1.1.0",
      "model_name": "LayoutModel",
      "state": {
       "width": "42%"
      }
     },
     "7528dd4be87d4f98ba912c56e089a18e": {
      "model_module": "@jupyter-widgets/controls",
      "model_module_version": "1.4.0",
      "model_name": "HBoxModel",
      "state": {
       "children": [
        "IPY_MODEL_94de130f4c204fbe83daa20f30b4d314",
        "IPY_MODEL_03581fc1a49640b0bfa4b6e9cfac3d39"
       ],
       "layout": "IPY_MODEL_f7729e3ff4fc443d8b090f9891fbcab4"
      }
     },
     "753045a14a2a461eaf791b8f79098828": {
      "model_module": "@jupyter-widgets/controls",
      "model_module_version": "1.4.0",
      "model_name": "HBoxModel",
      "state": {
       "children": [
        "IPY_MODEL_48d47461415f48da87d6bd3143780f2b",
        "IPY_MODEL_6fd2adff35564d99a6fe83ef2064cd81"
       ],
       "layout": "IPY_MODEL_a1bf30dce84240d19207f11898483500"
      }
     },
     "76a84a812ee34dd08cfb2c530dd06ad4": {
      "model_module": "@jupyter-widgets/base",
      "model_module_version": "1.1.0",
      "model_name": "LayoutModel",
      "state": {}
     },
     "76ca2c57664d4d87a5ffe8cf1cb3f915": {
      "model_module": "@jupyter-widgets/base",
      "model_module_version": "1.1.0",
      "model_name": "LayoutModel",
      "state": {}
     },
     "76d478d10ced47689cdea9c14d47f470": {
      "model_module": "@jupyter-widgets/base",
      "model_module_version": "1.1.0",
      "model_name": "LayoutModel",
      "state": {
       "justify_content": "center"
      }
     },
     "775ca751112f435a878f0e2446969fdb": {
      "model_module": "@jupyter-widgets/controls",
      "model_module_version": "1.4.0",
      "model_name": "ButtonStyleModel",
      "state": {}
     },
     "777ad53eb4214d3f983b387a974785c2": {
      "model_module": "@jupyter-widgets/base",
      "model_module_version": "1.1.0",
      "model_name": "LayoutModel",
      "state": {
       "width": "95%"
      }
     },
     "7803a019de6b4a858cca94dbec02f664": {
      "model_module": "@jupyter-widgets/controls",
      "model_module_version": "1.4.0",
      "model_name": "ButtonStyleModel",
      "state": {}
     },
     "7865ff0e3ab5426989d7431638d4f1c8": {
      "model_module": "@jupyter-widgets/controls",
      "model_module_version": "1.4.0",
      "model_name": "HBoxModel",
      "state": {
       "children": [
        "IPY_MODEL_880b18e783204233a5bfce7b87ab5aee",
        "IPY_MODEL_1b1c3be31bd647e0a326bed1802ffee0"
       ],
       "layout": "IPY_MODEL_592d9262d2714a7a8f34da23a4028411"
      }
     },
     "78a42dfce3184274a4c6b65b2661ce48": {
      "model_module": "@jupyter-widgets/base",
      "model_module_version": "1.1.0",
      "model_name": "LayoutModel",
      "state": {}
     },
     "78a83f61572f49ed9bc6db590bdf5ad4": {
      "model_module": "@jupyter-widgets/controls",
      "model_module_version": "1.4.0",
      "model_name": "ButtonModel",
      "state": {
       "description": "Predict Response(t+1)",
       "layout": "IPY_MODEL_2baa73a4f8e444699ebd761f0b0e6d34",
       "style": "IPY_MODEL_3139cf01dd9f453eb2d2373f3f9b750a"
      }
     },
     "78d7caffc40e467ab379039a612cf0a4": {
      "model_module": "@jupyter-widgets/controls",
      "model_module_version": "1.4.0",
      "model_name": "HBoxModel",
      "state": {
       "children": [
        "IPY_MODEL_dada16d8024646cdb17adb1c22d477fa",
        "IPY_MODEL_53213428c2244e46b7cd1a688551291f"
       ],
       "layout": "IPY_MODEL_0d11902ea12041e2ab39a6e7a9343f98"
      }
     },
     "790fae77e0c240f3ad828d00f5964b4b": {
      "model_module": "@jupyter-widgets/controls",
      "model_module_version": "1.4.0",
      "model_name": "HBoxModel",
      "state": {
       "children": [
        "IPY_MODEL_0395c0019aec400fa9948e9a2e92ea9f",
        "IPY_MODEL_559a3173a7fa47e0a2ddc14435f3161d"
       ],
       "layout": "IPY_MODEL_ebab459ea1ed4112a7ec79d7f1be21df"
      }
     },
     "798aa3d13aa042c58593d5e3625a7618": {
      "model_module": "@jupyter-widgets/base",
      "model_module_version": "1.1.0",
      "model_name": "LayoutModel",
      "state": {
       "width": "95%"
      }
     },
     "79ea289926794028b2f85f7b10c97b87": {
      "model_module": "@jupyter-widgets/controls",
      "model_module_version": "1.4.0",
      "model_name": "TextModel",
      "state": {
       "description": "Response(t+1) ",
       "layout": "IPY_MODEL_f74717e57cb0445fb910baef614e652b",
       "style": "IPY_MODEL_a934bebe06a942ceae4e1ff38802d1a2",
       "value": "  "
      }
     },
     "7add484299ef47ea9f1aac758d680e11": {
      "model_module": "@jupyter-widgets/controls",
      "model_module_version": "1.4.0",
      "model_name": "ButtonStyleModel",
      "state": {}
     },
     "7b47c1ecf85b4216b61da7811f1e1a20": {
      "model_module": "@jupyter-widgets/controls",
      "model_module_version": "1.4.0",
      "model_name": "HBoxModel",
      "state": {
       "children": [
        "IPY_MODEL_6ee63b6af7fd405db6873c15ef4165a8",
        "IPY_MODEL_852b0c8bc2db40a8ade243500c2e8334"
       ],
       "layout": "IPY_MODEL_2b035a3ed20341c08bb72da2db1feeec"
      }
     },
     "7baecf4cc6734cdbb4273dc0c22eb416": {
      "model_module": "@jupyter-widgets/base",
      "model_module_version": "1.1.0",
      "model_name": "LayoutModel",
      "state": {}
     },
     "7bf91f7803bb4378b74c0f83f9d73ead": {
      "model_module": "@jupyter-widgets/controls",
      "model_module_version": "1.4.0",
      "model_name": "SliderStyleModel",
      "state": {
       "description_width": ""
      }
     },
     "7c5d0ea7299946cdbc7d7b291c706703": {
      "model_module": "@jupyter-widgets/base",
      "model_module_version": "1.1.0",
      "model_name": "LayoutModel",
      "state": {
       "width": "95%"
      }
     },
     "7d3bebcabf1741e88ab4d3d7427a6a60": {
      "model_module": "@jupyter-widgets/base",
      "model_module_version": "1.1.0",
      "model_name": "LayoutModel",
      "state": {}
     },
     "7db419a588d3425197fcaac34a531d03": {
      "model_module": "@jupyter-widgets/controls",
      "model_module_version": "1.4.0",
      "model_name": "ButtonModel",
      "state": {
       "description": "Predict Response(t+1)",
       "layout": "IPY_MODEL_976ecc5758ad4e74836b50dbca148e92",
       "style": "IPY_MODEL_497ddd7f230f4030ab3abd315293be50"
      }
     },
     "7e878d1c88c24f51ae75c3d70347772e": {
      "model_module": "@jupyter-widgets/base",
      "model_module_version": "1.1.0",
      "model_name": "LayoutModel",
      "state": {}
     },
     "7ea1551cb76542dfa760a333e0619a55": {
      "model_module": "@jupyter-widgets/base",
      "model_module_version": "1.1.0",
      "model_name": "LayoutModel",
      "state": {
       "width": "42%"
      }
     },
     "7efde4aaa13a4f92a249a7d729e1520c": {
      "model_module": "@jupyter-widgets/controls",
      "model_module_version": "1.4.0",
      "model_name": "SliderStyleModel",
      "state": {
       "description_width": ""
      }
     },
     "7f1ff7db9ca643d593fdb3e936891dc9": {
      "model_module": "@jupyter-widgets/controls",
      "model_module_version": "1.4.0",
      "model_name": "DescriptionStyleModel",
      "state": {
       "description_width": ""
      }
     },
     "80603277cfdd47488591efbbfbd7677d": {
      "model_module": "@jupyter-widgets/base",
      "model_module_version": "1.1.0",
      "model_name": "LayoutModel",
      "state": {
       "justify_content": "center"
      }
     },
     "80cd114a38464c4cbc204266e9fc488d": {
      "model_module": "@jupyter-widgets/controls",
      "model_module_version": "1.4.0",
      "model_name": "DescriptionStyleModel",
      "state": {
       "description_width": ""
      }
     },
     "8220a790976a4272a425e1d1d9e84390": {
      "model_module": "@jupyter-widgets/base",
      "model_module_version": "1.1.0",
      "model_name": "LayoutModel",
      "state": {}
     },
     "82345ea948da42b8b508a23e4573a274": {
      "model_module": "@jupyter-widgets/base",
      "model_module_version": "1.1.0",
      "model_name": "LayoutModel",
      "state": {
       "justify_content": "center"
      }
     },
     "82c53814c74840e78316c9acdf0a184f": {
      "model_module": "@jupyter-widgets/base",
      "model_module_version": "1.1.0",
      "model_name": "LayoutModel",
      "state": {}
     },
     "830e933b8c6b4046982e2f0978b27179": {
      "model_module": "@jupyter-widgets/base",
      "model_module_version": "1.1.0",
      "model_name": "LayoutModel",
      "state": {
       "justify_content": "center"
      }
     },
     "83864197013c422ea3576d42305a9a2c": {
      "model_module": "@jupyter-widgets/base",
      "model_module_version": "1.1.0",
      "model_name": "LayoutModel",
      "state": {
       "width": "42%"
      }
     },
     "8403c3de47214b1fbd79269b591b040f": {
      "model_module": "@jupyter-widgets/controls",
      "model_module_version": "1.4.0",
      "model_name": "SliderStyleModel",
      "state": {
       "description_width": ""
      }
     },
     "84bbfc3054934beb8c336de788ba7cdd": {
      "model_module": "@jupyter-widgets/controls",
      "model_module_version": "1.4.0",
      "model_name": "DescriptionStyleModel",
      "state": {
       "description_width": ""
      }
     },
     "852b0c8bc2db40a8ade243500c2e8334": {
      "model_module": "@jupyter-widgets/controls",
      "model_module_version": "1.4.0",
      "model_name": "TextModel",
      "state": {
       "description": "Next Step",
       "layout": "IPY_MODEL_3f2c218119f047a08f2dd2cd0dbeea3b",
       "style": "IPY_MODEL_d5ff24484bf84cb9982bd7306fe6d6cb",
       "value": "Successful Completion"
      }
     },
     "85c9ac5d91594a188659377ed06c304d": {
      "model_module": "@jupyter-widgets/base",
      "model_module_version": "1.1.0",
      "model_name": "LayoutModel",
      "state": {}
     },
     "862b15226c694210865805e31079734d": {
      "model_module": "@jupyter-widgets/base",
      "model_module_version": "1.1.0",
      "model_name": "LayoutModel",
      "state": {
       "width": "95%"
      }
     },
     "862c934b213448dcbee15ea1f65f42e5": {
      "model_module": "@jupyter-widgets/controls",
      "model_module_version": "1.4.0",
      "model_name": "ButtonModel",
      "state": {
       "description": "Administer Dose(t)",
       "disabled": true,
       "layout": "IPY_MODEL_239604b382cc45ba8ad27702a222d56a",
       "style": "IPY_MODEL_6863a7a5054c4f05913182582a4fe20f"
      }
     },
     "86c3aacaf2d14ae299204a37f3937072": {
      "model_module": "@jupyter-widgets/controls",
      "model_module_version": "1.4.0",
      "model_name": "ButtonModel",
      "state": {
       "description": "Administer Dose(t)",
       "disabled": true,
       "layout": "IPY_MODEL_4fe19b45a2424016b2129e461e230835",
       "style": "IPY_MODEL_7803a019de6b4a858cca94dbec02f664"
      }
     },
     "86e135c9b77c4838a37546c1522ebc08": {
      "model_module": "@jupyter-widgets/base",
      "model_module_version": "1.1.0",
      "model_name": "LayoutModel",
      "state": {
       "width": "42%"
      }
     },
     "86e4deae87b3424895dfd33996c5a23e": {
      "model_module": "@jupyter-widgets/base",
      "model_module_version": "1.1.0",
      "model_name": "LayoutModel",
      "state": {
       "width": "95%"
      }
     },
     "86fa0b711d1b48eca3bc09dbfd68b165": {
      "model_module": "@jupyter-widgets/base",
      "model_module_version": "1.1.0",
      "model_name": "LayoutModel",
      "state": {
       "justify_content": "center"
      }
     },
     "87dbbd26f1d64a4eb8f392affd5b80c0": {
      "model_module": "@jupyter-widgets/base",
      "model_module_version": "1.1.0",
      "model_name": "LayoutModel",
      "state": {
       "justify_content": "center"
      }
     },
     "87de0a9ef5c54173860baedaa8750acd": {
      "model_module": "@jupyter-widgets/controls",
      "model_module_version": "1.4.0",
      "model_name": "SliderStyleModel",
      "state": {
       "description_width": ""
      }
     },
     "880b18e783204233a5bfce7b87ab5aee": {
      "model_module": "@jupyter-widgets/controls",
      "model_module_version": "1.4.0",
      "model_name": "TextModel",
      "state": {
       "description": "Response(t+1) ",
       "disabled": true,
       "layout": "IPY_MODEL_4f0016f913ce4a989ca9de5814401c08",
       "style": "IPY_MODEL_1a81dda27e53407e91e804d2b58d0633",
       "value": "  "
      }
     },
     "88bfcb86f8d0425a8ef6cb2157c981ed": {
      "model_module": "@jupyter-widgets/controls",
      "model_module_version": "1.4.0",
      "model_name": "HBoxModel",
      "state": {
       "children": [
        "IPY_MODEL_62a0db136ba84cdbbbf1220b888881d6",
        "IPY_MODEL_459573a5464e4040be333848d966ef81"
       ],
       "layout": "IPY_MODEL_80603277cfdd47488591efbbfbd7677d"
      }
     },
     "8940ee10ccc344d2b953c36aed8bec72": {
      "model_module": "@jupyter-widgets/controls",
      "model_module_version": "1.4.0",
      "model_name": "DescriptionStyleModel",
      "state": {
       "description_width": ""
      }
     },
     "897f2376e627442e95ebbd7368f4ff28": {
      "model_module": "@jupyter-widgets/controls",
      "model_module_version": "1.4.0",
      "model_name": "ButtonModel",
      "state": {
       "description": "Administer Dose(t)",
       "disabled": true,
       "layout": "IPY_MODEL_d454d30a4e5c4ff0b6cbf34a98a6ccf0",
       "style": "IPY_MODEL_3d7ff347306d42b98bd568bb482d3a22"
      }
     },
     "8a133d384bb04446b5cee26a1a43179d": {
      "model_module": "@jupyter-widgets/controls",
      "model_module_version": "1.4.0",
      "model_name": "SliderStyleModel",
      "state": {
       "description_width": ""
      }
     },
     "8b42b9464f80490a9212e743ad1ad58a": {
      "model_module": "@jupyter-widgets/controls",
      "model_module_version": "1.4.0",
      "model_name": "DescriptionStyleModel",
      "state": {
       "description_width": ""
      }
     },
     "8b4403bc359c49eaa0fe68915caded87": {
      "model_module": "@jupyter-widgets/controls",
      "model_module_version": "1.4.0",
      "model_name": "ButtonStyleModel",
      "state": {}
     },
     "8bb11177a1df43f097d6929aa23f82d1": {
      "model_module": "@jupyter-widgets/controls",
      "model_module_version": "1.4.0",
      "model_name": "ButtonStyleModel",
      "state": {}
     },
     "8bc15e85f60943d2aae9e62dcf445c3f": {
      "model_module": "@jupyter-widgets/controls",
      "model_module_version": "1.4.0",
      "model_name": "ButtonModel",
      "state": {
       "description": "Predict Response(t+1)",
       "layout": "IPY_MODEL_e07582650c69463b989f24140848fce9",
       "style": "IPY_MODEL_6f5abbbf561a41738f53ae8f1c35c223"
      }
     },
     "8c503910604a49958886fac0251b7d51": {
      "model_module": "@jupyter-widgets/controls",
      "model_module_version": "1.4.0",
      "model_name": "ButtonModel",
      "state": {
       "description": "Predict Response(t+1)",
       "layout": "IPY_MODEL_9eadb8fc599942d0856609459b4ab993",
       "style": "IPY_MODEL_bf119b7a4ee3413b81befc84cc60e6de"
      }
     },
     "8cc97bb05c9e4a1b8746e0ece03e5143": {
      "model_module": "@jupyter-widgets/controls",
      "model_module_version": "1.4.0",
      "model_name": "DescriptionStyleModel",
      "state": {
       "description_width": "initial"
      }
     },
     "8d2e4bce851744fcbfdcda5584c2e22b": {
      "model_module": "@jupyter-widgets/controls",
      "model_module_version": "1.4.0",
      "model_name": "FloatSliderModel",
      "state": {
       "description": "Dose(t)",
       "layout": "IPY_MODEL_0825f2b102a0446e87f4cc09c1d4e7a0",
       "max": 10,
       "min": -10,
       "step": 0.01,
       "style": "IPY_MODEL_87de0a9ef5c54173860baedaa8750acd"
      }
     },
     "8d63487340f54b378f6f6b2f4e4a2e55": {
      "model_module": "@jupyter-widgets/controls",
      "model_module_version": "1.4.0",
      "model_name": "ButtonModel",
      "state": {
       "description": "Predict Response(t+1)",
       "layout": "IPY_MODEL_528c22a7eb1a4339853aec47cf195263",
       "style": "IPY_MODEL_18e653a1388549b6b7eff4b1bb7be40b"
      }
     },
     "8db8764066f64d2383835cf8ba85a769": {
      "model_module": "@jupyter-widgets/controls",
      "model_module_version": "1.4.0",
      "model_name": "TextModel",
      "state": {
       "description": "Response(t+1) ",
       "disabled": true,
       "layout": "IPY_MODEL_a9d1b9a1d00f4a888612a3c609f0d10c",
       "style": "IPY_MODEL_40981a7a083f4622ba7768ab2b273685",
       "value": "4.90"
      }
     },
     "8db94dbaba9040eb8cb2cc5f43d055f2": {
      "model_module": "@jupyter-widgets/controls",
      "model_module_version": "1.4.0",
      "model_name": "HBoxModel",
      "state": {
       "children": [
        "IPY_MODEL_e9be4db836854a2c95881e3bb59cf768",
        "IPY_MODEL_8e38a8dfd00044349f9d92ba22fc953a"
       ],
       "layout": "IPY_MODEL_1e34031a506543c5bdf5af44cc63a8cd"
      }
     },
     "8e08663ae65f4c9884ddf958ae6ef17f": {
      "model_module": "@jupyter-widgets/base",
      "model_module_version": "1.1.0",
      "model_name": "LayoutModel",
      "state": {}
     },
     "8e38a8dfd00044349f9d92ba22fc953a": {
      "model_module": "@jupyter-widgets/controls",
      "model_module_version": "1.4.0",
      "model_name": "TextModel",
      "state": {
       "description": "Next Step",
       "layout": "IPY_MODEL_9bf0172c0c9444529a61b739352e4a49",
       "style": "IPY_MODEL_febd969808234ad59cfc221339fbfa8b",
       "value": "Predict Response(t+1)  "
      }
     },
     "8f102acff5d94b9db39321529daa7463": {
      "model_module": "@jupyter-widgets/base",
      "model_module_version": "1.1.0",
      "model_name": "LayoutModel",
      "state": {
       "justify_content": "center"
      }
     },
     "8f833ed41dd6476c8ea22abf00f20acd": {
      "model_module": "@jupyter-widgets/controls",
      "model_module_version": "1.4.0",
      "model_name": "ButtonStyleModel",
      "state": {}
     },
     "8ffea09a11154986b0e8f0626a62f963": {
      "model_module": "@jupyter-widgets/controls",
      "model_module_version": "1.4.0",
      "model_name": "ButtonStyleModel",
      "state": {}
     },
     "9069407e9e454c3892c6d076a1925d31": {
      "model_module": "@jupyter-widgets/controls",
      "model_module_version": "1.4.0",
      "model_name": "HBoxModel",
      "state": {
       "children": [
        "IPY_MODEL_2399dfa291d34d81a4471b906c5f59a7",
        "IPY_MODEL_1a33db65a5b247edb66543cfcf09f047"
       ],
       "layout": "IPY_MODEL_ffb741cd6fe44acb930d009dc8573003"
      }
     },
     "90794320e7c34d7da021303c63eb6472": {
      "model_module": "@jupyter-widgets/base",
      "model_module_version": "1.1.0",
      "model_name": "LayoutModel",
      "state": {
       "width": "42%"
      }
     },
     "9146b12367df4be5b94a06f30bf45ea0": {
      "model_module": "@jupyter-widgets/controls",
      "model_module_version": "1.4.0",
      "model_name": "TextModel",
      "state": {
       "description": "Next Step",
       "layout": "IPY_MODEL_08b9344633de450fb7bd7a8deb489cce",
       "style": "IPY_MODEL_27f5b70e098c4b9d81a153cf7d1042ff",
       "value": "Predict Response(t+1)"
      }
     },
     "91b55d0b46fe4346890de69c28d807f7": {
      "model_module": "@jupyter-widgets/controls",
      "model_module_version": "1.4.0",
      "model_name": "ButtonModel",
      "state": {
       "description": "Administer Dose(t)",
       "disabled": true,
       "layout": "IPY_MODEL_1d4dc086f9fe458ab5737d1aaf2b80b1",
       "style": "IPY_MODEL_47a4fcb027254d6997b49582dd52a557"
      }
     },
     "922a3fc5812f4fb9bb3f332b10b2c6fb": {
      "model_module": "@jupyter-widgets/base",
      "model_module_version": "1.1.0",
      "model_name": "LayoutModel",
      "state": {
       "justify_content": "center"
      }
     },
     "92be209797ac4daab49ca32fc72964d5": {
      "model_module": "@jupyter-widgets/controls",
      "model_module_version": "1.4.0",
      "model_name": "DescriptionStyleModel",
      "state": {
       "description_width": ""
      }
     },
     "935596d0f09c4302bb0aaca9fd8bf65a": {
      "model_module": "@jupyter-widgets/controls",
      "model_module_version": "1.4.0",
      "model_name": "HBoxModel",
      "state": {
       "children": [
        "IPY_MODEL_8db8764066f64d2383835cf8ba85a769",
        "IPY_MODEL_03e0cd42451847e98fa4c78e82f62d00"
       ],
       "layout": "IPY_MODEL_c7f4ac54e5384278a6891dd179d933c1"
      }
     },
     "936a663750bc43788789e099b30648f3": {
      "model_module": "@jupyter-widgets/base",
      "model_module_version": "1.1.0",
      "model_name": "LayoutModel",
      "state": {
       "width": "95%"
      }
     },
     "940254f1567044668f26b7d036148e76": {
      "model_module": "@jupyter-widgets/controls",
      "model_module_version": "1.4.0",
      "model_name": "HBoxModel",
      "state": {
       "children": [
        "IPY_MODEL_08fd0fe516b84441a1fb9fc283473288",
        "IPY_MODEL_d324909275244320a0e33d79e7d2a6cc"
       ],
       "layout": "IPY_MODEL_69cde05467dc42ae9e30210ac23674c1"
      }
     },
     "941823acf8ef46928c5438b430a3a8f4": {
      "model_module": "@jupyter-widgets/base",
      "model_module_version": "1.1.0",
      "model_name": "LayoutModel",
      "state": {}
     },
     "946f0936abf64c5ba45ed341fb33568e": {
      "model_module": "@jupyter-widgets/controls",
      "model_module_version": "1.4.0",
      "model_name": "FloatSliderModel",
      "state": {
       "description": "Dose(t)",
       "layout": "IPY_MODEL_f75d41c714a84fdbb09227772d9eebb7",
       "max": 10,
       "min": -10,
       "step": 0.01,
       "style": "IPY_MODEL_ac9ceda02933480eb1ac7b566738923b",
       "value": 0.54
      }
     },
     "94a5fd730486458b9b968efa724b8421": {
      "model_module": "@jupyter-widgets/controls",
      "model_module_version": "1.4.0",
      "model_name": "HBoxModel",
      "state": {
       "children": [
        "IPY_MODEL_fce71a65c4934bbcb9bcbfb2d45aeef1",
        "IPY_MODEL_d637afc52a734c92835ee07e873e1e42"
       ],
       "layout": "IPY_MODEL_76d478d10ced47689cdea9c14d47f470"
      }
     },
     "94de130f4c204fbe83daa20f30b4d314": {
      "model_module": "@jupyter-widgets/controls",
      "model_module_version": "1.4.0",
      "model_name": "ButtonModel",
      "state": {
       "description": "Predict Response(t+1)",
       "disabled": true,
       "layout": "IPY_MODEL_90794320e7c34d7da021303c63eb6472",
       "style": "IPY_MODEL_b9d245834f844b9197c8af9fce241d6e"
      }
     },
     "96180a94fd71457685cda1c7610b72b0": {
      "model_module": "@jupyter-widgets/base",
      "model_module_version": "1.1.0",
      "model_name": "LayoutModel",
      "state": {
       "width": "42%"
      }
     },
     "963c2a580dda400e9d632821f46e338c": {
      "model_module": "@jupyter-widgets/controls",
      "model_module_version": "1.4.0",
      "model_name": "ButtonModel",
      "state": {
       "description": "Administer Dose(t)",
       "disabled": true,
       "layout": "IPY_MODEL_2eedc88b87be4cc598862ac1d2e6f0b9",
       "style": "IPY_MODEL_13b4d94902704b9a9b87fbd0dba916e7"
      }
     },
     "968f7d4a292b49a8b6db3c7cea2bbfdf": {
      "model_module": "@jupyter-widgets/controls",
      "model_module_version": "1.4.0",
      "model_name": "DescriptionStyleModel",
      "state": {
       "description_width": ""
      }
     },
     "97012c8f2c76466aa94b3365fbeffb7f": {
      "model_module": "@jupyter-widgets/controls",
      "model_module_version": "1.4.0",
      "model_name": "ButtonStyleModel",
      "state": {}
     },
     "971f2239df294d519f8c49118463ef7e": {
      "model_module": "@jupyter-widgets/controls",
      "model_module_version": "1.4.0",
      "model_name": "ButtonStyleModel",
      "state": {}
     },
     "9733158a322c4ce0b20a511d81d434b0": {
      "model_module": "@jupyter-widgets/base",
      "model_module_version": "1.1.0",
      "model_name": "LayoutModel",
      "state": {
       "width": "42%"
      }
     },
     "976ecc5758ad4e74836b50dbca148e92": {
      "model_module": "@jupyter-widgets/base",
      "model_module_version": "1.1.0",
      "model_name": "LayoutModel",
      "state": {
       "width": "42%"
      }
     },
     "97d026ee3b174d3bb0ce997c953253f6": {
      "model_module": "@jupyter-widgets/base",
      "model_module_version": "1.1.0",
      "model_name": "LayoutModel",
      "state": {
       "width": "42%"
      }
     },
     "97d4024fe76d447f9c5af65d2bd72531": {
      "model_module": "@jupyter-widgets/controls",
      "model_module_version": "1.4.0",
      "model_name": "ButtonModel",
      "state": {
       "description": "Administer Dose(t)",
       "disabled": true,
       "layout": "IPY_MODEL_f97d4059622b4f9c941756e3b2c29e04",
       "style": "IPY_MODEL_8f833ed41dd6476c8ea22abf00f20acd"
      }
     },
     "98b80fda51614ef8974d051b0d6a752d": {
      "model_module": "@jupyter-widgets/controls",
      "model_module_version": "1.4.0",
      "model_name": "TextModel",
      "state": {
       "description": "Response(t+1) ",
       "disabled": true,
       "layout": "IPY_MODEL_7baecf4cc6734cdbb4273dc0c22eb416",
       "style": "IPY_MODEL_d5c1f55368f34f168932598262c69af3",
       "value": "5.08"
      }
     },
     "98c66e2204b9432d8fffdd93eac2f08e": {
      "model_module": "@jupyter-widgets/controls",
      "model_module_version": "1.4.0",
      "model_name": "HBoxModel",
      "state": {
       "children": [
        "IPY_MODEL_aa99a2df384743399a1b7f6b5c33bfe9",
        "IPY_MODEL_b82b0955136242ebab3d865c23ba177d"
       ],
       "layout": "IPY_MODEL_de7b37a5013b47538e8b9bdb0d6f7ea0"
      }
     },
     "99a4482343a348cb8533af40674e5ebb": {
      "model_module": "@jupyter-widgets/controls",
      "model_module_version": "1.4.0",
      "model_name": "HBoxModel",
      "state": {
       "children": [
        "IPY_MODEL_6e88d1ff7f8247aca898c7dbf18e326c",
        "IPY_MODEL_67e28e2a37664868922fe99736ea2eab"
       ],
       "layout": "IPY_MODEL_1aa56fd36cad4c4fb404c0c9899988a2"
      }
     },
     "99b49f5b78124313a809a9e4168fb663": {
      "model_module": "@jupyter-widgets/controls",
      "model_module_version": "1.4.0",
      "model_name": "FloatSliderModel",
      "state": {
       "description": "Dose(t)",
       "layout": "IPY_MODEL_dd7567db20394b5792e72c8ccd004b06",
       "max": 10,
       "min": -10,
       "step": 0.01,
       "style": "IPY_MODEL_8a133d384bb04446b5cee26a1a43179d",
       "value": 0.51
      }
     },
     "9a10ce8a3edf42e09c210dbcd041ad98": {
      "model_module": "@jupyter-widgets/base",
      "model_module_version": "1.1.0",
      "model_name": "LayoutModel",
      "state": {}
     },
     "9a1665e731434dc4b406384878aac32c": {
      "model_module": "@jupyter-widgets/controls",
      "model_module_version": "1.4.0",
      "model_name": "FloatSliderModel",
      "state": {
       "description": "Dose(t)",
       "layout": "IPY_MODEL_d006598ae7e54121be3ab8f25d641264",
       "max": 10,
       "min": -10,
       "step": 0.01,
       "style": "IPY_MODEL_0d3507cea52148e9ac305c3d01e9c070",
       "value": 0.53
      }
     },
     "9a422d4fc3734478b4cc1466f61c38e1": {
      "model_module": "@jupyter-widgets/controls",
      "model_module_version": "1.4.0",
      "model_name": "TextModel",
      "state": {
       "description": "Response(t+1) ",
       "disabled": true,
       "layout": "IPY_MODEL_7e878d1c88c24f51ae75c3d70347772e",
       "style": "IPY_MODEL_b0a96d9577e34aae986dd904e4c0f3fc",
       "value": "  "
      }
     },
     "9a7d9d5490f74e2bb4ee1ebe2370d27f": {
      "model_module": "@jupyter-widgets/controls",
      "model_module_version": "1.4.0",
      "model_name": "DescriptionStyleModel",
      "state": {
       "description_width": ""
      }
     },
     "9a8584556b564163960fb33b38e44777": {
      "model_module": "@jupyter-widgets/base",
      "model_module_version": "1.1.0",
      "model_name": "LayoutModel",
      "state": {
       "justify_content": "center"
      }
     },
     "9ace1ce2212b441d87acc5b376632568": {
      "model_module": "@jupyter-widgets/base",
      "model_module_version": "1.1.0",
      "model_name": "LayoutModel",
      "state": {
       "justify_content": "center"
      }
     },
     "9ade70736415488da0906a91bbe8536a": {
      "model_module": "@jupyter-widgets/controls",
      "model_module_version": "1.4.0",
      "model_name": "ButtonStyleModel",
      "state": {}
     },
     "9b8c17ba56594b2c80d07aa98e8b2e7e": {
      "model_module": "@jupyter-widgets/controls",
      "model_module_version": "1.4.0",
      "model_name": "SliderStyleModel",
      "state": {
       "description_width": ""
      }
     },
     "9bf0172c0c9444529a61b739352e4a49": {
      "model_module": "@jupyter-widgets/base",
      "model_module_version": "1.1.0",
      "model_name": "LayoutModel",
      "state": {}
     },
     "9e7bd315932c4f2da52faa1fd3998f3f": {
      "model_module": "@jupyter-widgets/controls",
      "model_module_version": "1.4.0",
      "model_name": "TextModel",
      "state": {
       "description": "Response(t+1) ",
       "disabled": true,
       "layout": "IPY_MODEL_3bcf9f46ff2449369608dfa3b874e388",
       "style": "IPY_MODEL_b153ae626c134e53bdc3384949b42132",
       "value": "6.93 (is more than 5.25)"
      }
     },
     "9eadb8fc599942d0856609459b4ab993": {
      "model_module": "@jupyter-widgets/base",
      "model_module_version": "1.1.0",
      "model_name": "LayoutModel",
      "state": {
       "width": "42%"
      }
     },
     "9f3388ea61e14b4686de612c056c7175": {
      "model_module": "@jupyter-widgets/controls",
      "model_module_version": "1.4.0",
      "model_name": "FloatSliderModel",
      "state": {
       "description": "Dose(t)",
       "layout": "IPY_MODEL_f0c43677ea4549aba70f2d22700ed501",
       "max": 10,
       "min": -10,
       "step": 0.01,
       "style": "IPY_MODEL_be7dc910d9af4362a45a33bce49a440a",
       "value": 0.5
      }
     },
     "9fc75d7e40d349999c04f0da783bb570": {
      "model_module": "@jupyter-widgets/base",
      "model_module_version": "1.1.0",
      "model_name": "LayoutModel",
      "state": {
       "justify_content": "center"
      }
     },
     "a026c654c79b4fe5b0597ba62791f0e7": {
      "model_module": "@jupyter-widgets/controls",
      "model_module_version": "1.4.0",
      "model_name": "TextModel",
      "state": {
       "description": "Next Step",
       "layout": "IPY_MODEL_594cae7682334f93bbf6a6d7f64a19bc",
       "style": "IPY_MODEL_8940ee10ccc344d2b953c36aed8bec72",
       "value": "Successful Completion"
      }
     },
     "a04910f70f604bd7968d21a7390face8": {
      "model_module": "@jupyter-widgets/base",
      "model_module_version": "1.1.0",
      "model_name": "LayoutModel",
      "state": {
       "width": "42%"
      }
     },
     "a16dcbe9e1c34862990d6c1a72b83bcc": {
      "model_module": "@jupyter-widgets/controls",
      "model_module_version": "1.4.0",
      "model_name": "DescriptionStyleModel",
      "state": {
       "description_width": "initial"
      }
     },
     "a18b1641358745289aec13347974280e": {
      "model_module": "@jupyter-widgets/controls",
      "model_module_version": "1.4.0",
      "model_name": "FloatSliderModel",
      "state": {
       "description": "Dose(t)",
       "layout": "IPY_MODEL_0b39633dfe9c4696ae1e7a9ad6fc8ce7",
       "max": 10,
       "min": -10,
       "step": 0.01,
       "style": "IPY_MODEL_a7df32eb62ae43b8afb786966e677103"
      }
     },
     "a1bf30dce84240d19207f11898483500": {
      "model_module": "@jupyter-widgets/base",
      "model_module_version": "1.1.0",
      "model_name": "LayoutModel",
      "state": {
       "justify_content": "center"
      }
     },
     "a1d9f3ff023841599021b5e6e57a1db1": {
      "model_module": "@jupyter-widgets/base",
      "model_module_version": "1.1.0",
      "model_name": "LayoutModel",
      "state": {
       "width": "42%"
      }
     },
     "a1de5863f2fc460d9cfffa417c70b79c": {
      "model_module": "@jupyter-widgets/base",
      "model_module_version": "1.1.0",
      "model_name": "LayoutModel",
      "state": {
       "width": "42%"
      }
     },
     "a2a720b4c247408eb78f4a3f90533ef2": {
      "model_module": "@jupyter-widgets/base",
      "model_module_version": "1.1.0",
      "model_name": "LayoutModel",
      "state": {
       "width": "42%"
      }
     },
     "a333d61bc5b94090a0ab4a2fd38b58cc": {
      "model_module": "@jupyter-widgets/base",
      "model_module_version": "1.1.0",
      "model_name": "LayoutModel",
      "state": {
       "justify_content": "center"
      }
     },
     "a38c6408e8d74800a029a5e9f03df1c0": {
      "model_module": "@jupyter-widgets/base",
      "model_module_version": "1.1.0",
      "model_name": "LayoutModel",
      "state": {}
     },
     "a3bffca2071049a3b4a952c29bb551e9": {
      "model_module": "@jupyter-widgets/controls",
      "model_module_version": "1.4.0",
      "model_name": "DescriptionStyleModel",
      "state": {
       "description_width": "initial"
      }
     },
     "a3e10b8fc4404e47a1ec0306d071a37a": {
      "model_module": "@jupyter-widgets/controls",
      "model_module_version": "1.4.0",
      "model_name": "ButtonStyleModel",
      "state": {}
     },
     "a404032a9c734265aae3d53cc25c12e8": {
      "model_module": "@jupyter-widgets/controls",
      "model_module_version": "1.4.0",
      "model_name": "SliderStyleModel",
      "state": {
       "description_width": ""
      }
     },
     "a40e2c541aaa4e07a78bf819b617de2a": {
      "model_module": "@jupyter-widgets/controls",
      "model_module_version": "1.4.0",
      "model_name": "DescriptionStyleModel",
      "state": {
       "description_width": "initial"
      }
     },
     "a544654de4dc4a97881b18afb9b821cb": {
      "model_module": "@jupyter-widgets/base",
      "model_module_version": "1.1.0",
      "model_name": "LayoutModel",
      "state": {
       "justify_content": "center"
      }
     },
     "a586057f5c004efda9a2c610739c7917": {
      "model_module": "@jupyter-widgets/controls",
      "model_module_version": "1.4.0",
      "model_name": "FloatSliderModel",
      "state": {
       "description": "Dose(t)",
       "layout": "IPY_MODEL_4981081503a24939920c25f27f01c7bd",
       "max": 10,
       "min": -10,
       "step": 0.01,
       "style": "IPY_MODEL_1c6f33dbd92d427c9078f609b45cce21",
       "value": 2.47
      }
     },
     "a5862f14248748a6b3129e69d21bb782": {
      "model_module": "@jupyter-widgets/controls",
      "model_module_version": "1.4.0",
      "model_name": "DescriptionStyleModel",
      "state": {
       "description_width": "initial"
      }
     },
     "a5a97e4aaae248c6949af7cff7201e2a": {
      "model_module": "@jupyter-widgets/controls",
      "model_module_version": "1.4.0",
      "model_name": "TextModel",
      "state": {
       "description": "Next Step",
       "layout": "IPY_MODEL_85c9ac5d91594a188659377ed06c304d",
       "style": "IPY_MODEL_56d1312a2eef45698d78113e8c83fddd",
       "value": "Predict Response(t+1)  "
      }
     },
     "a6748909755240dd86c658c012f4c7f5": {
      "model_module": "@jupyter-widgets/controls",
      "model_module_version": "1.4.0",
      "model_name": "TextModel",
      "state": {
       "description": "Next Step",
       "layout": "IPY_MODEL_d2d0f616637441788f1b83f0dc467bb4",
       "style": "IPY_MODEL_d5c77a7202ce421c899c515a868c4942",
       "value": "Predict Response(t+1)"
      }
     },
     "a689cd493b334e7b8b0cb65b062558fe": {
      "model_module": "@jupyter-widgets/controls",
      "model_module_version": "1.4.0",
      "model_name": "HBoxModel",
      "state": {
       "children": [
        "IPY_MODEL_9a422d4fc3734478b4cc1466f61c38e1",
        "IPY_MODEL_3bcf8d3723de4eea9cbcaf412a808af5"
       ],
       "layout": "IPY_MODEL_ed926edff44148998459525d56b5c9d4"
      }
     },
     "a6dc0945784e4b15ab918dbacf477c70": {
      "model_module": "@jupyter-widgets/controls",
      "model_module_version": "1.4.0",
      "model_name": "SliderStyleModel",
      "state": {
       "description_width": ""
      }
     },
     "a71d7b646bee4aef83141bf5554d00ad": {
      "model_module": "@jupyter-widgets/controls",
      "model_module_version": "1.4.0",
      "model_name": "ButtonStyleModel",
      "state": {}
     },
     "a7df32eb62ae43b8afb786966e677103": {
      "model_module": "@jupyter-widgets/controls",
      "model_module_version": "1.4.0",
      "model_name": "SliderStyleModel",
      "state": {
       "description_width": ""
      }
     },
     "a7ed6fa9d13041a88fc14cf0025cfb71": {
      "model_module": "@jupyter-widgets/base",
      "model_module_version": "1.1.0",
      "model_name": "LayoutModel",
      "state": {
       "width": "42%"
      }
     },
     "a84d33d067504ddeaeaa964530aa9fe4": {
      "model_module": "@jupyter-widgets/controls",
      "model_module_version": "1.4.0",
      "model_name": "HBoxModel",
      "state": {
       "children": [
        "IPY_MODEL_6b86836180e542a9b3178ad78413f81c",
        "IPY_MODEL_3ce88834dad3452aa1cf30b11584ec6c"
       ],
       "layout": "IPY_MODEL_aa81311b0d0846e192f111014292c2e2"
      }
     },
     "a88ea863d8c94b7db3a9e54b98f0c98c": {
      "model_module": "@jupyter-widgets/controls",
      "model_module_version": "1.4.0",
      "model_name": "ButtonStyleModel",
      "state": {}
     },
     "a934bebe06a942ceae4e1ff38802d1a2": {
      "model_module": "@jupyter-widgets/controls",
      "model_module_version": "1.4.0",
      "model_name": "DescriptionStyleModel",
      "state": {
       "description_width": "initial"
      }
     },
     "a9d1b9a1d00f4a888612a3c609f0d10c": {
      "model_module": "@jupyter-widgets/base",
      "model_module_version": "1.1.0",
      "model_name": "LayoutModel",
      "state": {}
     },
     "aa81311b0d0846e192f111014292c2e2": {
      "model_module": "@jupyter-widgets/base",
      "model_module_version": "1.1.0",
      "model_name": "LayoutModel",
      "state": {
       "justify_content": "center"
      }
     },
     "aa99a2df384743399a1b7f6b5c33bfe9": {
      "model_module": "@jupyter-widgets/controls",
      "model_module_version": "1.4.0",
      "model_name": "TextModel",
      "state": {
       "description": "Response(t+1) ",
       "disabled": true,
       "layout": "IPY_MODEL_33a6500f707847b095c0b1447d0e2b92",
       "style": "IPY_MODEL_1e401af41921416bb7a62a83538f41d3",
       "value": "5.04 (in range)"
      }
     },
     "ab2bf471fd8b45378075961cd3a248fd": {
      "model_module": "@jupyter-widgets/base",
      "model_module_version": "1.1.0",
      "model_name": "LayoutModel",
      "state": {
       "justify_content": "center"
      }
     },
     "ab6dda5c8b994a2c8959652eef1743d3": {
      "model_module": "@jupyter-widgets/base",
      "model_module_version": "1.1.0",
      "model_name": "LayoutModel",
      "state": {
       "width": "42%"
      }
     },
     "ac15b6a006cd4d0eabfd08e5214b3a34": {
      "model_module": "@jupyter-widgets/controls",
      "model_module_version": "1.4.0",
      "model_name": "ButtonModel",
      "state": {
       "description": "Predict Response(t+1)",
       "layout": "IPY_MODEL_6df2219b9a00488c9eeca53edc987033",
       "style": "IPY_MODEL_1c178a7475824a139655dba09dc4cc50"
      }
     },
     "ac40f3af24d646deacc5730b0bc05625": {
      "model_module": "@jupyter-widgets/controls",
      "model_module_version": "1.4.0",
      "model_name": "DescriptionStyleModel",
      "state": {
       "description_width": "initial"
      }
     },
     "ac9ceda02933480eb1ac7b566738923b": {
      "model_module": "@jupyter-widgets/controls",
      "model_module_version": "1.4.0",
      "model_name": "SliderStyleModel",
      "state": {
       "description_width": ""
      }
     },
     "ae4991a3f97c4b409a66d7a43f6482f6": {
      "model_module": "@jupyter-widgets/controls",
      "model_module_version": "1.4.0",
      "model_name": "ButtonStyleModel",
      "state": {}
     },
     "aeba46488de54fc283f801e4ca114448": {
      "model_module": "@jupyter-widgets/base",
      "model_module_version": "1.1.0",
      "model_name": "LayoutModel",
      "state": {}
     },
     "aed8b7420fa54206be1442b4763dc690": {
      "model_module": "@jupyter-widgets/base",
      "model_module_version": "1.1.0",
      "model_name": "LayoutModel",
      "state": {
       "justify_content": "center"
      }
     },
     "af1fcb343972454186f8beff4f717800": {
      "model_module": "@jupyter-widgets/controls",
      "model_module_version": "1.4.0",
      "model_name": "FloatSliderModel",
      "state": {
       "description": "Dose(t)",
       "layout": "IPY_MODEL_534f7d52f58d49919e5fc4cf016e0515",
       "max": 10,
       "min": -10,
       "step": 0.01,
       "style": "IPY_MODEL_9b8c17ba56594b2c80d07aa98e8b2e7e",
       "value": -0.02
      }
     },
     "afa0e9f0efc14446bcd9bac454ec77b8": {
      "model_module": "@jupyter-widgets/controls",
      "model_module_version": "1.4.0",
      "model_name": "ButtonModel",
      "state": {
       "description": "Predict Response(t+1)",
       "layout": "IPY_MODEL_2716394188814ea3bbed14d8fdddb46a",
       "style": "IPY_MODEL_b3c804048f624232b60cf691b2772377"
      }
     },
     "b04f1d8494bd4c1f82f229260ef4ce36": {
      "model_module": "@jupyter-widgets/base",
      "model_module_version": "1.1.0",
      "model_name": "LayoutModel",
      "state": {
       "width": "95%"
      }
     },
     "b0a96d9577e34aae986dd904e4c0f3fc": {
      "model_module": "@jupyter-widgets/controls",
      "model_module_version": "1.4.0",
      "model_name": "DescriptionStyleModel",
      "state": {
       "description_width": "initial"
      }
     },
     "b0f6535619c3467b858efc57d7ec31e1": {
      "model_module": "@jupyter-widgets/base",
      "model_module_version": "1.1.0",
      "model_name": "LayoutModel",
      "state": {
       "justify_content": "center"
      }
     },
     "b10d62ec74ad40419668b49878d5dd84": {
      "model_module": "@jupyter-widgets/controls",
      "model_module_version": "1.4.0",
      "model_name": "FloatSliderModel",
      "state": {
       "description": "Dose(t)",
       "layout": "IPY_MODEL_5983030701c44020b589afca71dad013",
       "max": 10,
       "min": -10,
       "step": 0.01,
       "style": "IPY_MODEL_4fe13937bcae401cb2e250b1e656dfbe"
      }
     },
     "b1203885ad8e44cc8e6759979715eea6": {
      "model_module": "@jupyter-widgets/controls",
      "model_module_version": "1.4.0",
      "model_name": "HBoxModel",
      "state": {
       "children": [
        "IPY_MODEL_6f26e09fe263477d852bd4cc2cbcbd2a",
        "IPY_MODEL_dd07063f075d49aea95ad527f7382dac"
       ],
       "layout": "IPY_MODEL_9a8584556b564163960fb33b38e44777"
      }
     },
     "b126f1d3c3f646dbb201f7163312880e": {
      "model_module": "@jupyter-widgets/controls",
      "model_module_version": "1.4.0",
      "model_name": "TextModel",
      "state": {
       "description": "Next Step",
       "layout": "IPY_MODEL_647fea64e9c44ab3b79f19ef3655467f",
       "style": "IPY_MODEL_dc2ec489f1c84662b5d8d2df786afc0b",
       "value": "Predict Response(t+1)  "
      }
     },
     "b1535340cda247bb8b654cd92d3572f9": {
      "model_module": "@jupyter-widgets/base",
      "model_module_version": "1.1.0",
      "model_name": "LayoutModel",
      "state": {
       "justify_content": "center"
      }
     },
     "b153ae626c134e53bdc3384949b42132": {
      "model_module": "@jupyter-widgets/controls",
      "model_module_version": "1.4.0",
      "model_name": "DescriptionStyleModel",
      "state": {
       "description_width": "initial"
      }
     },
     "b199436d11cb4fe293f47852a0a28e7e": {
      "model_module": "@jupyter-widgets/base",
      "model_module_version": "1.1.0",
      "model_name": "LayoutModel",
      "state": {}
     },
     "b2d3acf0d2e14ecea3f5bd778f3f7e36": {
      "model_module": "@jupyter-widgets/controls",
      "model_module_version": "1.4.0",
      "model_name": "ButtonStyleModel",
      "state": {}
     },
     "b30adf773cab45f3bceb9e478909967c": {
      "model_module": "@jupyter-widgets/controls",
      "model_module_version": "1.4.0",
      "model_name": "ButtonStyleModel",
      "state": {}
     },
     "b33631432e254b3982521671ebb0f71e": {
      "model_module": "@jupyter-widgets/base",
      "model_module_version": "1.1.0",
      "model_name": "LayoutModel",
      "state": {
       "width": "95%"
      }
     },
     "b3c804048f624232b60cf691b2772377": {
      "model_module": "@jupyter-widgets/controls",
      "model_module_version": "1.4.0",
      "model_name": "ButtonStyleModel",
      "state": {}
     },
     "b3d7ba76564d488bb4b95b202cdceb96": {
      "model_module": "@jupyter-widgets/controls",
      "model_module_version": "1.4.0",
      "model_name": "SliderStyleModel",
      "state": {
       "description_width": ""
      }
     },
     "b407d493f8a6403283626ae8c2bd3286": {
      "model_module": "@jupyter-widgets/controls",
      "model_module_version": "1.4.0",
      "model_name": "HBoxModel",
      "state": {
       "children": [
        "IPY_MODEL_e57b4b0b43814d4ea5dd237c11f86a9b",
        "IPY_MODEL_c5ad1b19368a40a9b7a6dc8a4bec127a"
       ],
       "layout": "IPY_MODEL_512c11586a13499a8da5092ef221631b"
      }
     },
     "b48170f32c8e4f8ba81197998816d855": {
      "model_module": "@jupyter-widgets/controls",
      "model_module_version": "1.4.0",
      "model_name": "SliderStyleModel",
      "state": {
       "description_width": ""
      }
     },
     "b481ac49bb634d33bf90a852c07ec6b0": {
      "model_module": "@jupyter-widgets/base",
      "model_module_version": "1.1.0",
      "model_name": "LayoutModel",
      "state": {
       "width": "42%"
      }
     },
     "b49940c8eafc44a19a2bc9f84180f4af": {
      "model_module": "@jupyter-widgets/controls",
      "model_module_version": "1.4.0",
      "model_name": "SliderStyleModel",
      "state": {
       "description_width": ""
      }
     },
     "b5a331ab60cf4490b56674b07f5bd1a5": {
      "model_module": "@jupyter-widgets/base",
      "model_module_version": "1.1.0",
      "model_name": "LayoutModel",
      "state": {
       "width": "42%"
      }
     },
     "b7ae42f3ed504f148a5b5b1813cf830d": {
      "model_module": "@jupyter-widgets/controls",
      "model_module_version": "1.4.0",
      "model_name": "DescriptionStyleModel",
      "state": {
       "description_width": "initial"
      }
     },
     "b82b0955136242ebab3d865c23ba177d": {
      "model_module": "@jupyter-widgets/controls",
      "model_module_version": "1.4.0",
      "model_name": "TextModel",
      "state": {
       "description": "Next Step",
       "layout": "IPY_MODEL_9a10ce8a3edf42e09c210dbcd041ad98",
       "style": "IPY_MODEL_92be209797ac4daab49ca32fc72964d5",
       "value": "Successful Completion"
      }
     },
     "b8839f8119d7447ba267cf5ca1b238c7": {
      "model_module": "@jupyter-widgets/controls",
      "model_module_version": "1.4.0",
      "model_name": "DescriptionStyleModel",
      "state": {
       "description_width": "initial"
      }
     },
     "b89bdd81f4be414a9b03a405b330537a": {
      "model_module": "@jupyter-widgets/controls",
      "model_module_version": "1.4.0",
      "model_name": "TextModel",
      "state": {
       "description": "Response(t+1) ",
       "disabled": true,
       "layout": "IPY_MODEL_1a47e945434342459c45e3e7f781702a",
       "style": "IPY_MODEL_a5862f14248748a6b3129e69d21bb782",
       "value": "4.38 (is less than 4.75)"
      }
     },
     "b9169c4237734f928f4b01df729c2263": {
      "model_module": "@jupyter-widgets/base",
      "model_module_version": "1.1.0",
      "model_name": "LayoutModel",
      "state": {
       "justify_content": "center"
      }
     },
     "b9d245834f844b9197c8af9fce241d6e": {
      "model_module": "@jupyter-widgets/controls",
      "model_module_version": "1.4.0",
      "model_name": "ButtonStyleModel",
      "state": {}
     },
     "ba10668f0cca4e968f5abf40a4bce4ab": {
      "model_module": "@jupyter-widgets/controls",
      "model_module_version": "1.4.0",
      "model_name": "FloatSliderModel",
      "state": {
       "description": "Dose(t)",
       "layout": "IPY_MODEL_54d98e77d9c140f5b6f6a26ddb404a10",
       "max": 10,
       "min": -10,
       "step": 0.01,
       "style": "IPY_MODEL_e7cb3188eba845d6b930949a2ea108f9",
       "value": 1.04
      }
     },
     "ba3f192f144d494d8cf8685c7bfdd3d5": {
      "model_module": "@jupyter-widgets/controls",
      "model_module_version": "1.4.0",
      "model_name": "ButtonModel",
      "state": {
       "description": "Predict Response(t+1)",
       "disabled": true,
       "layout": "IPY_MODEL_96180a94fd71457685cda1c7610b72b0",
       "style": "IPY_MODEL_3edcee2a091d41558d85ec886821438e"
      }
     },
     "baefbe6e13084d7f8277ef00258a95a3": {
      "model_module": "@jupyter-widgets/base",
      "model_module_version": "1.1.0",
      "model_name": "LayoutModel",
      "state": {
       "justify_content": "center"
      }
     },
     "bb78fe4891034bb1a307cb33083a20df": {
      "model_module": "@jupyter-widgets/controls",
      "model_module_version": "1.4.0",
      "model_name": "DescriptionStyleModel",
      "state": {
       "description_width": "initial"
      }
     },
     "bc0d560476494f5ea7915bd65bcd0ff4": {
      "model_module": "@jupyter-widgets/controls",
      "model_module_version": "1.4.0",
      "model_name": "ButtonModel",
      "state": {
       "description": "Administer Dose(t)",
       "disabled": true,
       "layout": "IPY_MODEL_9733158a322c4ce0b20a511d81d434b0",
       "style": "IPY_MODEL_d8e694fccb434b56bb2365033e2e333d"
      }
     },
     "bc77b2a7fca5429cbfe7763d03d494f6": {
      "model_module": "@jupyter-widgets/base",
      "model_module_version": "1.1.0",
      "model_name": "LayoutModel",
      "state": {
       "width": "42%"
      }
     },
     "bcc08810be054f8ab0faad4b087a7687": {
      "model_module": "@jupyter-widgets/controls",
      "model_module_version": "1.4.0",
      "model_name": "FloatSliderModel",
      "state": {
       "description": "Dose(t)",
       "layout": "IPY_MODEL_c722681d45e7480ea8e7f419988ddcb0",
       "max": 10,
       "min": -10,
       "step": 0.01,
       "style": "IPY_MODEL_b49940c8eafc44a19a2bc9f84180f4af"
      }
     },
     "bd6ee27849ac42cc82371d07c9d643b6": {
      "model_module": "@jupyter-widgets/base",
      "model_module_version": "1.1.0",
      "model_name": "LayoutModel",
      "state": {
       "width": "42%"
      }
     },
     "bdd397f1d4f94f63bd3c8511f418507a": {
      "model_module": "@jupyter-widgets/controls",
      "model_module_version": "1.4.0",
      "model_name": "HBoxModel",
      "state": {
       "children": [
        "IPY_MODEL_f6efb67db12b449f9b85a3ac8317cb90",
        "IPY_MODEL_fa6b40bfe0624a729e0fc851bfde3e58"
       ],
       "layout": "IPY_MODEL_82345ea948da42b8b508a23e4573a274"
      }
     },
     "be7dc910d9af4362a45a33bce49a440a": {
      "model_module": "@jupyter-widgets/controls",
      "model_module_version": "1.4.0",
      "model_name": "SliderStyleModel",
      "state": {
       "description_width": ""
      }
     },
     "be8303ca437c442292c37b189157c7c3": {
      "model_module": "@jupyter-widgets/controls",
      "model_module_version": "1.4.0",
      "model_name": "ButtonStyleModel",
      "state": {}
     },
     "bf119b7a4ee3413b81befc84cc60e6de": {
      "model_module": "@jupyter-widgets/controls",
      "model_module_version": "1.4.0",
      "model_name": "ButtonStyleModel",
      "state": {}
     },
     "bf1f45788122417cab38ab8765e3b191": {
      "model_module": "@jupyter-widgets/base",
      "model_module_version": "1.1.0",
      "model_name": "LayoutModel",
      "state": {
       "justify_content": "center"
      }
     },
     "bf292bfde1c34c428f3c60aceeeff9b1": {
      "model_module": "@jupyter-widgets/controls",
      "model_module_version": "1.4.0",
      "model_name": "FloatSliderModel",
      "state": {
       "description": "Dose(t)",
       "layout": "IPY_MODEL_ff4921d97d2949d39ce4b7bcdccefcc2",
       "max": 10,
       "min": -10,
       "step": 0.01,
       "style": "IPY_MODEL_f2a92d82c8334bcb864139d5a208dc88"
      }
     },
     "bfa30f6911a244728098ad1df15ad6ed": {
      "model_module": "@jupyter-widgets/controls",
      "model_module_version": "1.4.0",
      "model_name": "ButtonStyleModel",
      "state": {}
     },
     "c010b7152eeb4945894a5c0b4aa8d0e4": {
      "model_module": "@jupyter-widgets/controls",
      "model_module_version": "1.4.0",
      "model_name": "DescriptionStyleModel",
      "state": {
       "description_width": ""
      }
     },
     "c05135e09e3a45898b8d4a1bd300229b": {
      "model_module": "@jupyter-widgets/controls",
      "model_module_version": "1.4.0",
      "model_name": "HBoxModel",
      "state": {
       "children": [
        "IPY_MODEL_5aecb214e170443ab358419d1f491850",
        "IPY_MODEL_b126f1d3c3f646dbb201f7163312880e"
       ],
       "layout": "IPY_MODEL_ebbd31decb4f41d5ac01ed2b8b2d4db4"
      }
     },
     "c13022f87e324dec821d8b1e97b2a874": {
      "model_module": "@jupyter-widgets/controls",
      "model_module_version": "1.4.0",
      "model_name": "HBoxModel",
      "state": {
       "children": [
        "IPY_MODEL_ac15b6a006cd4d0eabfd08e5214b3a34",
        "IPY_MODEL_86c3aacaf2d14ae299204a37f3937072"
       ],
       "layout": "IPY_MODEL_bf1f45788122417cab38ab8765e3b191"
      }
     },
     "c1be487cd0884ceb962a5afadfb02e64": {
      "model_module": "@jupyter-widgets/base",
      "model_module_version": "1.1.0",
      "model_name": "LayoutModel",
      "state": {
       "justify_content": "center"
      }
     },
     "c2a423067a3041e38c191180138701a5": {
      "model_module": "@jupyter-widgets/controls",
      "model_module_version": "1.4.0",
      "model_name": "ButtonStyleModel",
      "state": {}
     },
     "c2ebb8bbe65c4edc9e1b8e07bfed438f": {
      "model_module": "@jupyter-widgets/base",
      "model_module_version": "1.1.0",
      "model_name": "LayoutModel",
      "state": {}
     },
     "c3a47741b9514d08a7252cf62de1f243": {
      "model_module": "@jupyter-widgets/controls",
      "model_module_version": "1.4.0",
      "model_name": "DescriptionStyleModel",
      "state": {
       "description_width": "initial"
      }
     },
     "c4185a4c21b54d7a9d896832eee1f16f": {
      "model_module": "@jupyter-widgets/base",
      "model_module_version": "1.1.0",
      "model_name": "LayoutModel",
      "state": {}
     },
     "c4e9ea7f188843f09240fe0a0b204a8d": {
      "model_module": "@jupyter-widgets/controls",
      "model_module_version": "1.4.0",
      "model_name": "DescriptionStyleModel",
      "state": {
       "description_width": ""
      }
     },
     "c4ff340510a644bda9997d29b5d9f3b4": {
      "model_module": "@jupyter-widgets/base",
      "model_module_version": "1.1.0",
      "model_name": "LayoutModel",
      "state": {
       "width": "42%"
      }
     },
     "c50c5c21c634449697f9cc7737cbd95b": {
      "model_module": "@jupyter-widgets/controls",
      "model_module_version": "1.4.0",
      "model_name": "SliderStyleModel",
      "state": {
       "description_width": ""
      }
     },
     "c5ad1b19368a40a9b7a6dc8a4bec127a": {
      "model_module": "@jupyter-widgets/controls",
      "model_module_version": "1.4.0",
      "model_name": "TextModel",
      "state": {
       "description": "Next Step",
       "layout": "IPY_MODEL_7d3bebcabf1741e88ab4d3d7427a6a60",
       "style": "IPY_MODEL_7f1ff7db9ca643d593fdb3e936891dc9",
       "value": "Predict Response(t+1)"
      }
     },
     "c5b14d0d7c7f4d8d84deae107a7584e9": {
      "model_module": "@jupyter-widgets/controls",
      "model_module_version": "1.4.0",
      "model_name": "TextModel",
      "state": {
       "description": "Next Step",
       "layout": "IPY_MODEL_cf66e6e4b5714e68bc9fe501edb38c3c",
       "style": "IPY_MODEL_48e65c1b8a3b4a88aa4f79ca9f9e0f62",
       "value": "Predict Response(t+1)  "
      }
     },
     "c705598275c24ce8be5d3d17085c94aa": {
      "model_module": "@jupyter-widgets/base",
      "model_module_version": "1.1.0",
      "model_name": "LayoutModel",
      "state": {
       "width": "42%"
      }
     },
     "c722681d45e7480ea8e7f419988ddcb0": {
      "model_module": "@jupyter-widgets/base",
      "model_module_version": "1.1.0",
      "model_name": "LayoutModel",
      "state": {
       "width": "95%"
      }
     },
     "c76df793ddd94063854fa78fd8a6782a": {
      "model_module": "@jupyter-widgets/controls",
      "model_module_version": "1.4.0",
      "model_name": "ButtonModel",
      "state": {
       "description": "Administer Dose(t)",
       "disabled": true,
       "layout": "IPY_MODEL_298f656de276460bb188b6afb865c608",
       "style": "IPY_MODEL_018564d47e714fae97acedb9d928c7c1"
      }
     },
     "c7f4ac54e5384278a6891dd179d933c1": {
      "model_module": "@jupyter-widgets/base",
      "model_module_version": "1.1.0",
      "model_name": "LayoutModel",
      "state": {
       "justify_content": "center"
      }
     },
     "c81b7d4431b04b519083327f7c72983a": {
      "model_module": "@jupyter-widgets/controls",
      "model_module_version": "1.4.0",
      "model_name": "HBoxModel",
      "state": {
       "children": [
        "IPY_MODEL_8bc15e85f60943d2aae9e62dcf445c3f",
        "IPY_MODEL_91b55d0b46fe4346890de69c28d807f7"
       ],
       "layout": "IPY_MODEL_19a11e2a031d4fe184ee96c41a51c21b"
      }
     },
     "c82d6355ac524ebeb0a03bf645e841f5": {
      "model_module": "@jupyter-widgets/controls",
      "model_module_version": "1.4.0",
      "model_name": "ButtonModel",
      "state": {
       "description": "Administer Dose(t)",
       "disabled": true,
       "layout": "IPY_MODEL_a1de5863f2fc460d9cfffa417c70b79c",
       "style": "IPY_MODEL_e0524d8df0514ec1a2988c326ba61e73"
      }
     },
     "c8660d5eb60c40798296366773836e0b": {
      "model_module": "@jupyter-widgets/controls",
      "model_module_version": "1.4.0",
      "model_name": "HBoxModel",
      "state": {
       "children": [
        "IPY_MODEL_e1adcd92de964aa38b8cfce93dfe74ec",
        "IPY_MODEL_61480924479042b0b5fb190b9b6f2b62"
       ],
       "layout": "IPY_MODEL_2ce967ef069b4ac18b196848fe54a992"
      }
     },
     "c8b7c46ea4ca42ba901cde11629f9cba": {
      "model_module": "@jupyter-widgets/controls",
      "model_module_version": "1.4.0",
      "model_name": "FloatSliderModel",
      "state": {
       "description": "Dose(t)",
       "layout": "IPY_MODEL_777ad53eb4214d3f983b387a974785c2",
       "max": 10,
       "min": -10,
       "step": 0.01,
       "style": "IPY_MODEL_d16f3954aba24bcc8c0abbd483b2cdd1",
       "value": 1.82
      }
     },
     "c9f60bd9b782468e88953ee0a09bdb23": {
      "model_module": "@jupyter-widgets/base",
      "model_module_version": "1.1.0",
      "model_name": "LayoutModel",
      "state": {}
     },
     "cac72bc0b47d4478803706af41eee6fa": {
      "model_module": "@jupyter-widgets/controls",
      "model_module_version": "1.4.0",
      "model_name": "DescriptionStyleModel",
      "state": {
       "description_width": ""
      }
     },
     "cb7b5d25b87d4cd1b7c51c144b0a0dfc": {
      "model_module": "@jupyter-widgets/controls",
      "model_module_version": "1.4.0",
      "model_name": "HBoxModel",
      "state": {
       "children": [
        "IPY_MODEL_dd045d627d8d42c6aa9a49d93045355d",
        "IPY_MODEL_d6b8fb86bf2e4062b08872f8ae62b67e"
       ],
       "layout": "IPY_MODEL_e5c7f8e0008b4867ae563b23ef9d2cd3"
      }
     },
     "cbc46f25282c4cd2a6adca13fc027f2d": {
      "model_module": "@jupyter-widgets/controls",
      "model_module_version": "1.4.0",
      "model_name": "DescriptionStyleModel",
      "state": {
       "description_width": ""
      }
     },
     "cbd9c89c22a8451a88de5437adcff7d6": {
      "model_module": "@jupyter-widgets/base",
      "model_module_version": "1.1.0",
      "model_name": "LayoutModel",
      "state": {
       "justify_content": "center"
      }
     },
     "cca17439827f401cb6a180d558236355": {
      "model_module": "@jupyter-widgets/base",
      "model_module_version": "1.1.0",
      "model_name": "LayoutModel",
      "state": {
       "width": "95%"
      }
     },
     "ced14abc2e25447084a68fe4d9a28404": {
      "model_module": "@jupyter-widgets/controls",
      "model_module_version": "1.4.0",
      "model_name": "FloatSliderModel",
      "state": {
       "description": "Dose(t)",
       "layout": "IPY_MODEL_eeb83e17c5b24aef92d85d312985671d",
       "max": 10,
       "min": -10,
       "step": 0.01,
       "style": "IPY_MODEL_7020576863994636beec0099d71909be"
      }
     },
     "cf05fc96408b43f9bdc0c453ea6864cf": {
      "model_module": "@jupyter-widgets/controls",
      "model_module_version": "1.4.0",
      "model_name": "TextModel",
      "state": {
       "description": "Response(t+1) ",
       "disabled": true,
       "layout": "IPY_MODEL_0e92d5e6c94c43edaaca337b1ff7fb72",
       "style": "IPY_MODEL_e16cd7a1bbb34e9e8efa699e5de0a4a0",
       "value": "5.05 (in range)"
      }
     },
     "cf37d7cf7bf44d73b5bf23098f58041c": {
      "model_module": "@jupyter-widgets/controls",
      "model_module_version": "1.4.0",
      "model_name": "ButtonStyleModel",
      "state": {}
     },
     "cf66e6e4b5714e68bc9fe501edb38c3c": {
      "model_module": "@jupyter-widgets/base",
      "model_module_version": "1.1.0",
      "model_name": "LayoutModel",
      "state": {}
     },
     "cf9d9733500545eb9abfa640630c9855": {
      "model_module": "@jupyter-widgets/controls",
      "model_module_version": "1.4.0",
      "model_name": "ButtonStyleModel",
      "state": {}
     },
     "cfa568b240574db49b63f8a8ee2e9fd9": {
      "model_module": "@jupyter-widgets/controls",
      "model_module_version": "1.4.0",
      "model_name": "ButtonStyleModel",
      "state": {}
     },
     "cfad5f40eb6f46cd8b3581b426a7ae98": {
      "model_module": "@jupyter-widgets/base",
      "model_module_version": "1.1.0",
      "model_name": "LayoutModel",
      "state": {
       "width": "42%"
      }
     },
     "d005af7968254de89a6df51708ebb703": {
      "model_module": "@jupyter-widgets/controls",
      "model_module_version": "1.4.0",
      "model_name": "TextModel",
      "state": {
       "description": "Response(t+1) ",
       "disabled": true,
       "layout": "IPY_MODEL_b199436d11cb4fe293f47852a0a28e7e",
       "style": "IPY_MODEL_b8839f8119d7447ba267cf5ca1b238c7",
       "value": "  "
      }
     },
     "d006598ae7e54121be3ab8f25d641264": {
      "model_module": "@jupyter-widgets/base",
      "model_module_version": "1.1.0",
      "model_name": "LayoutModel",
      "state": {
       "width": "95%"
      }
     },
     "d036e8573f03408da42d8d5534c250ae": {
      "model_module": "@jupyter-widgets/controls",
      "model_module_version": "1.4.0",
      "model_name": "ButtonModel",
      "state": {
       "description": "Predict Response(t+1)",
       "layout": "IPY_MODEL_e2b66103361443278160b338941a31ac",
       "style": "IPY_MODEL_8ffea09a11154986b0e8f0626a62f963"
      }
     },
     "d16f3954aba24bcc8c0abbd483b2cdd1": {
      "model_module": "@jupyter-widgets/controls",
      "model_module_version": "1.4.0",
      "model_name": "SliderStyleModel",
      "state": {
       "description_width": ""
      }
     },
     "d1758f6f7e02441c886a0b739b61d4cf": {
      "model_module": "@jupyter-widgets/controls",
      "model_module_version": "1.4.0",
      "model_name": "HBoxModel",
      "state": {
       "children": [
        "IPY_MODEL_4fccf838e71e43f4b0e5163a93629f76",
        "IPY_MODEL_fa11c43bec464af2a85cd608125a1428"
       ],
       "layout": "IPY_MODEL_a544654de4dc4a97881b18afb9b821cb"
      }
     },
     "d215c5126a5d4ca1b8842dcb98780736": {
      "model_module": "@jupyter-widgets/controls",
      "model_module_version": "1.4.0",
      "model_name": "DescriptionStyleModel",
      "state": {
       "description_width": ""
      }
     },
     "d29bba73479846a88ab6f4d63cf07d12": {
      "model_module": "@jupyter-widgets/controls",
      "model_module_version": "1.4.0",
      "model_name": "DescriptionStyleModel",
      "state": {
       "description_width": "initial"
      }
     },
     "d2a23063baf84feb87593f04fab42cd6": {
      "model_module": "@jupyter-widgets/controls",
      "model_module_version": "1.4.0",
      "model_name": "DescriptionStyleModel",
      "state": {
       "description_width": ""
      }
     },
     "d2ceb75c9b5b48019b164fad36b635f8": {
      "model_module": "@jupyter-widgets/controls",
      "model_module_version": "1.4.0",
      "model_name": "DescriptionStyleModel",
      "state": {
       "description_width": ""
      }
     },
     "d2d0f616637441788f1b83f0dc467bb4": {
      "model_module": "@jupyter-widgets/base",
      "model_module_version": "1.1.0",
      "model_name": "LayoutModel",
      "state": {}
     },
     "d324909275244320a0e33d79e7d2a6cc": {
      "model_module": "@jupyter-widgets/controls",
      "model_module_version": "1.4.0",
      "model_name": "TextModel",
      "state": {
       "description": "Next Step",
       "layout": "IPY_MODEL_eedc2dd3da054ed9aaae0aff4cdef6c7",
       "style": "IPY_MODEL_f25417ba13c94a02a4022133e14fcf59",
       "value": "Predict Response(t+1)  "
      }
     },
     "d3bba6b718f849c4bbf8cd36ab1a9832": {
      "model_module": "@jupyter-widgets/base",
      "model_module_version": "1.1.0",
      "model_name": "LayoutModel",
      "state": {
       "width": "42%"
      }
     },
     "d454d30a4e5c4ff0b6cbf34a98a6ccf0": {
      "model_module": "@jupyter-widgets/base",
      "model_module_version": "1.1.0",
      "model_name": "LayoutModel",
      "state": {
       "width": "42%"
      }
     },
     "d54fc47a08544f10abf9e225e368b838": {
      "model_module": "@jupyter-widgets/controls",
      "model_module_version": "1.4.0",
      "model_name": "ButtonModel",
      "state": {
       "description": "Predict Response(t+1)",
       "layout": "IPY_MODEL_1b217daf35ea4786b9473ceb6aa5029e",
       "style": "IPY_MODEL_d59adde3b1ea4376ba66fb0412c6732b"
      }
     },
     "d580c39264154a45846367f9dd1427e5": {
      "model_module": "@jupyter-widgets/controls",
      "model_module_version": "1.4.0",
      "model_name": "ButtonStyleModel",
      "state": {}
     },
     "d59adde3b1ea4376ba66fb0412c6732b": {
      "model_module": "@jupyter-widgets/controls",
      "model_module_version": "1.4.0",
      "model_name": "ButtonStyleModel",
      "state": {}
     },
     "d5c1f55368f34f168932598262c69af3": {
      "model_module": "@jupyter-widgets/controls",
      "model_module_version": "1.4.0",
      "model_name": "DescriptionStyleModel",
      "state": {
       "description_width": "initial"
      }
     },
     "d5c77a7202ce421c899c515a868c4942": {
      "model_module": "@jupyter-widgets/controls",
      "model_module_version": "1.4.0",
      "model_name": "DescriptionStyleModel",
      "state": {
       "description_width": ""
      }
     },
     "d5ff24484bf84cb9982bd7306fe6d6cb": {
      "model_module": "@jupyter-widgets/controls",
      "model_module_version": "1.4.0",
      "model_name": "DescriptionStyleModel",
      "state": {
       "description_width": ""
      }
     },
     "d616136558ae4e9aa6d12fe0940b57cb": {
      "model_module": "@jupyter-widgets/controls",
      "model_module_version": "1.4.0",
      "model_name": "DescriptionStyleModel",
      "state": {
       "description_width": ""
      }
     },
     "d637afc52a734c92835ee07e873e1e42": {
      "model_module": "@jupyter-widgets/controls",
      "model_module_version": "1.4.0",
      "model_name": "TextModel",
      "state": {
       "description": "Next Step",
       "layout": "IPY_MODEL_06f90905bbcc444d9a9733d0651ddbf4",
       "style": "IPY_MODEL_37d1111072bd43b2b3bceac7c6626425",
       "value": "Predict Response(t+1)"
      }
     },
     "d6b8fb86bf2e4062b08872f8ae62b67e": {
      "model_module": "@jupyter-widgets/controls",
      "model_module_version": "1.4.0",
      "model_name": "ButtonModel",
      "state": {
       "description": "Administer Dose(t)",
       "disabled": true,
       "layout": "IPY_MODEL_54c201460cf348b2af29a887ff5d5b6a",
       "style": "IPY_MODEL_4a12501fe2a446d98d0fb2daf361337d"
      }
     },
     "d7326285cbd4420f82951e220971ae4c": {
      "model_module": "@jupyter-widgets/base",
      "model_module_version": "1.1.0",
      "model_name": "LayoutModel",
      "state": {
       "width": "95%"
      }
     },
     "d79d6b51676646479cc54b29f81ed220": {
      "model_module": "@jupyter-widgets/controls",
      "model_module_version": "1.4.0",
      "model_name": "HBoxModel",
      "state": {
       "children": [
        "IPY_MODEL_5d64cca9cbac40368c53256f44d88a84",
        "IPY_MODEL_e4bd65f6336b48cd85c6451587c84e96"
       ],
       "layout": "IPY_MODEL_86fa0b711d1b48eca3bc09dbfd68b165"
      }
     },
     "d8a1f05178cc4f789b89c399f8333eae": {
      "model_module": "@jupyter-widgets/base",
      "model_module_version": "1.1.0",
      "model_name": "LayoutModel",
      "state": {
       "width": "42%"
      }
     },
     "d8e694fccb434b56bb2365033e2e333d": {
      "model_module": "@jupyter-widgets/controls",
      "model_module_version": "1.4.0",
      "model_name": "ButtonStyleModel",
      "state": {}
     },
     "d9d1719919ac43fdbbe9668b05dbeb00": {
      "model_module": "@jupyter-widgets/base",
      "model_module_version": "1.1.0",
      "model_name": "LayoutModel",
      "state": {
       "width": "42%"
      }
     },
     "da78e4cf842d41a195e356726731b8e4": {
      "model_module": "@jupyter-widgets/base",
      "model_module_version": "1.1.0",
      "model_name": "LayoutModel",
      "state": {
       "width": "95%"
      }
     },
     "dada16d8024646cdb17adb1c22d477fa": {
      "model_module": "@jupyter-widgets/controls",
      "model_module_version": "1.4.0",
      "model_name": "ButtonModel",
      "state": {
       "description": "Predict Response(t+1)",
       "layout": "IPY_MODEL_e81f9a2f3fa94042af111d35f66d3043",
       "style": "IPY_MODEL_12506bce982c4301861cf78be64cdb7b"
      }
     },
     "db2002292ad341c39f6d92d722cd6d92": {
      "model_module": "@jupyter-widgets/base",
      "model_module_version": "1.1.0",
      "model_name": "LayoutModel",
      "state": {
       "justify_content": "center"
      }
     },
     "db4cd92d244f4f808fd48776383936c2": {
      "model_module": "@jupyter-widgets/controls",
      "model_module_version": "1.4.0",
      "model_name": "FloatSliderModel",
      "state": {
       "description": "Dose(t)",
       "layout": "IPY_MODEL_798aa3d13aa042c58593d5e3625a7618",
       "max": 10,
       "min": -10,
       "step": 0.01,
       "style": "IPY_MODEL_8403c3de47214b1fbd79269b591b040f"
      }
     },
     "db74bbd50e3b4fbd80c77406ae6f8a7a": {
      "model_module": "@jupyter-widgets/base",
      "model_module_version": "1.1.0",
      "model_name": "LayoutModel",
      "state": {
       "width": "95%"
      }
     },
     "dc2ec489f1c84662b5d8d2df786afc0b": {
      "model_module": "@jupyter-widgets/controls",
      "model_module_version": "1.4.0",
      "model_name": "DescriptionStyleModel",
      "state": {
       "description_width": ""
      }
     },
     "dc4c397a5fdf4120a27b682cb60dad39": {
      "model_module": "@jupyter-widgets/controls",
      "model_module_version": "1.4.0",
      "model_name": "HBoxModel",
      "state": {
       "children": [
        "IPY_MODEL_78a83f61572f49ed9bc6db590bdf5ad4",
        "IPY_MODEL_2ca12a6601e44c4ba1b0259243f20316"
       ],
       "layout": "IPY_MODEL_386346217bc54b6a8c8ddb9199f0d2cf"
      }
     },
     "dc5261a3b751455a94c0474cc90a5aa3": {
      "model_module": "@jupyter-widgets/controls",
      "model_module_version": "1.4.0",
      "model_name": "TextModel",
      "state": {
       "description": "Response(t+1) ",
       "disabled": true,
       "layout": "IPY_MODEL_e9c2594e525d4beea2db551aa430c0d0",
       "style": "IPY_MODEL_4e1fde5ca2574b09a115ea511786a24c",
       "value": "1.03 (is less than 4.75)"
      }
     },
     "dc9eb6c483284476ab618ac77a505a4d": {
      "model_module": "@jupyter-widgets/controls",
      "model_module_version": "1.4.0",
      "model_name": "ButtonStyleModel",
      "state": {}
     },
     "dd045d627d8d42c6aa9a49d93045355d": {
      "model_module": "@jupyter-widgets/controls",
      "model_module_version": "1.4.0",
      "model_name": "ButtonModel",
      "state": {
       "description": "Predict Response(t+1)",
       "disabled": true,
       "layout": "IPY_MODEL_095ef3225d28434386964a06b6904a35",
       "style": "IPY_MODEL_dc9eb6c483284476ab618ac77a505a4d"
      }
     },
     "dd07063f075d49aea95ad527f7382dac": {
      "model_module": "@jupyter-widgets/controls",
      "model_module_version": "1.4.0",
      "model_name": "ButtonModel",
      "state": {
       "description": "Administer Dose(t)",
       "disabled": true,
       "layout": "IPY_MODEL_3371818383a148888fabe75ddb343bd2",
       "style": "IPY_MODEL_971f2239df294d519f8c49118463ef7e"
      }
     },
     "dd7567db20394b5792e72c8ccd004b06": {
      "model_module": "@jupyter-widgets/base",
      "model_module_version": "1.1.0",
      "model_name": "LayoutModel",
      "state": {
       "width": "95%"
      }
     },
     "dd8fa56ff0724f18a2d9cab6f0ec028c": {
      "model_module": "@jupyter-widgets/controls",
      "model_module_version": "1.4.0",
      "model_name": "TextModel",
      "state": {
       "description": "Next Step",
       "layout": "IPY_MODEL_13bbdc383efb4b10ad3423c4810ebb8a",
       "style": "IPY_MODEL_8b42b9464f80490a9212e743ad1ad58a",
       "value": "Predict Response(t+1)"
      }
     },
     "de73b20eb9e745948932872543e94e54": {
      "model_module": "@jupyter-widgets/base",
      "model_module_version": "1.1.0",
      "model_name": "LayoutModel",
      "state": {
       "width": "42%"
      }
     },
     "de7b37a5013b47538e8b9bdb0d6f7ea0": {
      "model_module": "@jupyter-widgets/base",
      "model_module_version": "1.1.0",
      "model_name": "LayoutModel",
      "state": {
       "justify_content": "center"
      }
     },
     "dedd72c950334eff86c00cc2511b3160": {
      "model_module": "@jupyter-widgets/controls",
      "model_module_version": "1.4.0",
      "model_name": "HBoxModel",
      "state": {
       "children": [
        "IPY_MODEL_ffe1426f2dda470dbe952aeab16af0c5",
        "IPY_MODEL_97d4024fe76d447f9c5af65d2bd72531"
       ],
       "layout": "IPY_MODEL_baefbe6e13084d7f8277ef00258a95a3"
      }
     },
     "df7f566003a04dbbabc602a6e650e881": {
      "model_module": "@jupyter-widgets/controls",
      "model_module_version": "1.4.0",
      "model_name": "ButtonModel",
      "state": {
       "description": "Predict Response(t+1)",
       "layout": "IPY_MODEL_a1d9f3ff023841599021b5e6e57a1db1",
       "style": "IPY_MODEL_600022f341b642b0b694ddaf0a308b4c"
      }
     },
     "e0524d8df0514ec1a2988c326ba61e73": {
      "model_module": "@jupyter-widgets/controls",
      "model_module_version": "1.4.0",
      "model_name": "ButtonStyleModel",
      "state": {}
     },
     "e07582650c69463b989f24140848fce9": {
      "model_module": "@jupyter-widgets/base",
      "model_module_version": "1.1.0",
      "model_name": "LayoutModel",
      "state": {
       "width": "42%"
      }
     },
     "e0bc5b356d764123a236b9b94c7fdcfc": {
      "model_module": "@jupyter-widgets/base",
      "model_module_version": "1.1.0",
      "model_name": "LayoutModel",
      "state": {}
     },
     "e1066b07ce154f1aa63b1830b9e1d972": {
      "model_module": "@jupyter-widgets/base",
      "model_module_version": "1.1.0",
      "model_name": "LayoutModel",
      "state": {}
     },
     "e16cd7a1bbb34e9e8efa699e5de0a4a0": {
      "model_module": "@jupyter-widgets/controls",
      "model_module_version": "1.4.0",
      "model_name": "DescriptionStyleModel",
      "state": {
       "description_width": "initial"
      }
     },
     "e1988a5aa4dc4bc2a507e12e6beb3a31": {
      "model_module": "@jupyter-widgets/controls",
      "model_module_version": "1.4.0",
      "model_name": "ButtonModel",
      "state": {
       "description": "Administer Dose(t)",
       "disabled": true,
       "layout": "IPY_MODEL_bc77b2a7fca5429cbfe7763d03d494f6",
       "style": "IPY_MODEL_97012c8f2c76466aa94b3365fbeffb7f"
      }
     },
     "e1adcd92de964aa38b8cfce93dfe74ec": {
      "model_module": "@jupyter-widgets/controls",
      "model_module_version": "1.4.0",
      "model_name": "TextModel",
      "state": {
       "description": "Response(t+1) ",
       "disabled": true,
       "layout": "IPY_MODEL_82c53814c74840e78316c9acdf0a184f",
       "style": "IPY_MODEL_5df7ee52fa9e4b7985ffab0fa42a8224",
       "value": "4.86"
      }
     },
     "e1b53b8316914ab9a1717435b5e87336": {
      "model_module": "@jupyter-widgets/base",
      "model_module_version": "1.1.0",
      "model_name": "LayoutModel",
      "state": {
       "width": "42%"
      }
     },
     "e2b66103361443278160b338941a31ac": {
      "model_module": "@jupyter-widgets/base",
      "model_module_version": "1.1.0",
      "model_name": "LayoutModel",
      "state": {
       "width": "42%"
      }
     },
     "e333dd4c32264784873156309ad57cdd": {
      "model_module": "@jupyter-widgets/controls",
      "model_module_version": "1.4.0",
      "model_name": "ButtonModel",
      "state": {
       "description": "Administer Dose(t)",
       "disabled": true,
       "layout": "IPY_MODEL_4ac0edac95fa4ddc957eeb4bca8fa1f4",
       "style": "IPY_MODEL_26a812405eea4253a93b39eefb7b86e9"
      }
     },
     "e3620dccb9144eb681a161f8e357b5ac": {
      "model_module": "@jupyter-widgets/controls",
      "model_module_version": "1.4.0",
      "model_name": "FloatSliderModel",
      "state": {
       "description": "Dose(t)",
       "layout": "IPY_MODEL_936a663750bc43788789e099b30648f3",
       "max": 10,
       "min": -10,
       "step": 0.01,
       "style": "IPY_MODEL_7bf91f7803bb4378b74c0f83f9d73ead"
      }
     },
     "e4931278102f44718cf15523d863fccd": {
      "model_module": "@jupyter-widgets/controls",
      "model_module_version": "1.4.0",
      "model_name": "TextModel",
      "state": {
       "description": "Next Step",
       "layout": "IPY_MODEL_aeba46488de54fc283f801e4ca114448",
       "style": "IPY_MODEL_5f7e454921f043f3b06fa40406b74e65",
       "value": "Successful Completion"
      }
     },
     "e4b040841521454bae2f6ef5f4bdedaa": {
      "model_module": "@jupyter-widgets/base",
      "model_module_version": "1.1.0",
      "model_name": "LayoutModel",
      "state": {
       "justify_content": "center"
      }
     },
     "e4bd65f6336b48cd85c6451587c84e96": {
      "model_module": "@jupyter-widgets/controls",
      "model_module_version": "1.4.0",
      "model_name": "TextModel",
      "state": {
       "description": "Next Step",
       "layout": "IPY_MODEL_107b293ba32b4e1fb176a8f3cb3854b4",
       "style": "IPY_MODEL_f499c034223e46168c0421ea8d85d83c",
       "value": "Predict Response(t+1)  "
      }
     },
     "e57b4b0b43814d4ea5dd237c11f86a9b": {
      "model_module": "@jupyter-widgets/controls",
      "model_module_version": "1.4.0",
      "model_name": "TextModel",
      "state": {
       "description": "Response(t+1) ",
       "disabled": true,
       "layout": "IPY_MODEL_74211fd2a17243e290eafe7a0be9d4ee",
       "style": "IPY_MODEL_631a2ad58acb4443a17d0e22f5ecd50b",
       "value": "5.10"
      }
     },
     "e5c7f8e0008b4867ae563b23ef9d2cd3": {
      "model_module": "@jupyter-widgets/base",
      "model_module_version": "1.1.0",
      "model_name": "LayoutModel",
      "state": {
       "justify_content": "center"
      }
     },
     "e65f57983e69411ab0b0befc7274a185": {
      "model_module": "@jupyter-widgets/base",
      "model_module_version": "1.1.0",
      "model_name": "LayoutModel",
      "state": {
       "justify_content": "center"
      }
     },
     "e67a95b1af044a58bb210f267a357a22": {
      "model_module": "@jupyter-widgets/controls",
      "model_module_version": "1.4.0",
      "model_name": "DescriptionStyleModel",
      "state": {
       "description_width": "initial"
      }
     },
     "e7cb3188eba845d6b930949a2ea108f9": {
      "model_module": "@jupyter-widgets/controls",
      "model_module_version": "1.4.0",
      "model_name": "SliderStyleModel",
      "state": {
       "description_width": ""
      }
     },
     "e7dffd1db6c444158be5e3b52a09b880": {
      "model_module": "@jupyter-widgets/controls",
      "model_module_version": "1.4.0",
      "model_name": "SliderStyleModel",
      "state": {
       "description_width": ""
      }
     },
     "e81f9a2f3fa94042af111d35f66d3043": {
      "model_module": "@jupyter-widgets/base",
      "model_module_version": "1.1.0",
      "model_name": "LayoutModel",
      "state": {
       "width": "42%"
      }
     },
     "e82ec4c293a0420586df3c59390abade": {
      "model_module": "@jupyter-widgets/base",
      "model_module_version": "1.1.0",
      "model_name": "LayoutModel",
      "state": {
       "width": "42%"
      }
     },
     "e8599bd2a44349adb56784521e651176": {
      "model_module": "@jupyter-widgets/base",
      "model_module_version": "1.1.0",
      "model_name": "LayoutModel",
      "state": {
       "justify_content": "center"
      }
     },
     "e8d2bfa31b2345d9b6770adc27d9e13b": {
      "model_module": "@jupyter-widgets/controls",
      "model_module_version": "1.4.0",
      "model_name": "TextModel",
      "state": {
       "description": "Response(t+1) ",
       "disabled": true,
       "layout": "IPY_MODEL_49993292fef14d3b87f61e4c57a29f80",
       "style": "IPY_MODEL_0b15758c582e40ca8d5fed687c2d7cc5",
       "value": "4.86"
      }
     },
     "e94177a434e8442789604220fb18a082": {
      "model_module": "@jupyter-widgets/controls",
      "model_module_version": "1.4.0",
      "model_name": "HBoxModel",
      "state": {
       "children": [
        "IPY_MODEL_23e43d5663aa45b1837a11cc6423dc86",
        "IPY_MODEL_e333dd4c32264784873156309ad57cdd"
       ],
       "layout": "IPY_MODEL_cbd9c89c22a8451a88de5437adcff7d6"
      }
     },
     "e9be4db836854a2c95881e3bb59cf768": {
      "model_module": "@jupyter-widgets/controls",
      "model_module_version": "1.4.0",
      "model_name": "TextModel",
      "state": {
       "description": "Response(t+1) ",
       "disabled": true,
       "layout": "IPY_MODEL_e0bc5b356d764123a236b9b94c7fdcfc",
       "style": "IPY_MODEL_26d39e3bcfc7405bbc3070fe887e5b5f",
       "value": "  "
      }
     },
     "e9c2594e525d4beea2db551aa430c0d0": {
      "model_module": "@jupyter-widgets/base",
      "model_module_version": "1.1.0",
      "model_name": "LayoutModel",
      "state": {}
     },
     "eb3bb59e6b4746ec94c9838f55ef0973": {
      "model_module": "@jupyter-widgets/base",
      "model_module_version": "1.1.0",
      "model_name": "LayoutModel",
      "state": {}
     },
     "eb9c5f8672ff4fd18894ebc109c60eda": {
      "model_module": "@jupyter-widgets/controls",
      "model_module_version": "1.4.0",
      "model_name": "ButtonStyleModel",
      "state": {}
     },
     "ebab459ea1ed4112a7ec79d7f1be21df": {
      "model_module": "@jupyter-widgets/base",
      "model_module_version": "1.1.0",
      "model_name": "LayoutModel",
      "state": {
       "justify_content": "center"
      }
     },
     "ebbd31decb4f41d5ac01ed2b8b2d4db4": {
      "model_module": "@jupyter-widgets/base",
      "model_module_version": "1.1.0",
      "model_name": "LayoutModel",
      "state": {
       "justify_content": "center"
      }
     },
     "ec9df7e530724051940284c941efcb38": {
      "model_module": "@jupyter-widgets/controls",
      "model_module_version": "1.4.0",
      "model_name": "FloatSliderModel",
      "state": {
       "description": "Dose(t)",
       "layout": "IPY_MODEL_db74bbd50e3b4fbd80c77406ae6f8a7a",
       "max": 10,
       "min": -10,
       "step": 0.01,
       "style": "IPY_MODEL_a404032a9c734265aae3d53cc25c12e8"
      }
     },
     "ecb7076df28b45d99581b461934ba6d1": {
      "model_module": "@jupyter-widgets/base",
      "model_module_version": "1.1.0",
      "model_name": "LayoutModel",
      "state": {
       "justify_content": "center"
      }
     },
     "ecd25eb8614e41a3ae67fd172fe5f7d5": {
      "model_module": "@jupyter-widgets/controls",
      "model_module_version": "1.4.0",
      "model_name": "HBoxModel",
      "state": {
       "children": [
        "IPY_MODEL_dc5261a3b751455a94c0474cc90a5aa3",
        "IPY_MODEL_4b04162859d44f3d86b766bf43864f2f"
       ],
       "layout": "IPY_MODEL_f3e6f53a8a4846e79d6ec97fdc0c237c"
      }
     },
     "ed926edff44148998459525d56b5c9d4": {
      "model_module": "@jupyter-widgets/base",
      "model_module_version": "1.1.0",
      "model_name": "LayoutModel",
      "state": {
       "justify_content": "center"
      }
     },
     "ed9cbe41ffa64544a995f86234da6a73": {
      "model_module": "@jupyter-widgets/base",
      "model_module_version": "1.1.0",
      "model_name": "LayoutModel",
      "state": {
       "width": "95%"
      }
     },
     "edb82dc7e54b442f932c1af931fdffb4": {
      "model_module": "@jupyter-widgets/controls",
      "model_module_version": "1.4.0",
      "model_name": "ButtonModel",
      "state": {
       "description": "Predict Response(t+1)",
       "layout": "IPY_MODEL_83864197013c422ea3576d42305a9a2c",
       "style": "IPY_MODEL_c2a423067a3041e38c191180138701a5"
      }
     },
     "eeb1628dd7da420cbe963780cff3422c": {
      "model_module": "@jupyter-widgets/controls",
      "model_module_version": "1.4.0",
      "model_name": "HBoxModel",
      "state": {
       "children": [
        "IPY_MODEL_8c503910604a49958886fac0251b7d51",
        "IPY_MODEL_4a34fcebf76848b2b0b6b45911141f6a"
       ],
       "layout": "IPY_MODEL_326eaa7843094062aaa5a5676815ddfd"
      }
     },
     "eeb83e17c5b24aef92d85d312985671d": {
      "model_module": "@jupyter-widgets/base",
      "model_module_version": "1.1.0",
      "model_name": "LayoutModel",
      "state": {
       "width": "95%"
      }
     },
     "eedc2dd3da054ed9aaae0aff4cdef6c7": {
      "model_module": "@jupyter-widgets/base",
      "model_module_version": "1.1.0",
      "model_name": "LayoutModel",
      "state": {}
     },
     "eff92387c36f4c4b8cca66708946cf10": {
      "model_module": "@jupyter-widgets/base",
      "model_module_version": "1.1.0",
      "model_name": "LayoutModel",
      "state": {}
     },
     "f0c43677ea4549aba70f2d22700ed501": {
      "model_module": "@jupyter-widgets/base",
      "model_module_version": "1.1.0",
      "model_name": "LayoutModel",
      "state": {
       "width": "95%"
      }
     },
     "f10c70a716f9455c917522757d882483": {
      "model_module": "@jupyter-widgets/controls",
      "model_module_version": "1.4.0",
      "model_name": "ButtonStyleModel",
      "state": {}
     },
     "f210065ef4614d908a8d58a418030e3d": {
      "model_module": "@jupyter-widgets/controls",
      "model_module_version": "1.4.0",
      "model_name": "ButtonStyleModel",
      "state": {}
     },
     "f25417ba13c94a02a4022133e14fcf59": {
      "model_module": "@jupyter-widgets/controls",
      "model_module_version": "1.4.0",
      "model_name": "DescriptionStyleModel",
      "state": {
       "description_width": ""
      }
     },
     "f2a92d82c8334bcb864139d5a208dc88": {
      "model_module": "@jupyter-widgets/controls",
      "model_module_version": "1.4.0",
      "model_name": "SliderStyleModel",
      "state": {
       "description_width": ""
      }
     },
     "f2f09903188a48d6ac121316a6f6ef94": {
      "model_module": "@jupyter-widgets/controls",
      "model_module_version": "1.4.0",
      "model_name": "TextModel",
      "state": {
       "description": "Response(t+1) ",
       "disabled": true,
       "layout": "IPY_MODEL_1fa8a91257e040bab72bdfa0a25341e5",
       "style": "IPY_MODEL_6c8e0ebb921041c1bf653b76f80104ff",
       "value": "  "
      }
     },
     "f35c730f044b47d2a2634f4c6abd2191": {
      "model_module": "@jupyter-widgets/controls",
      "model_module_version": "1.4.0",
      "model_name": "TextModel",
      "state": {
       "description": "Next Step",
       "layout": "IPY_MODEL_941823acf8ef46928c5438b430a3a8f4",
       "style": "IPY_MODEL_968f7d4a292b49a8b6db3c7cea2bbfdf",
       "value": "Predict Response(t+1)  "
      }
     },
     "f38acae4f32d4ee9a1344e90b97aca43": {
      "model_module": "@jupyter-widgets/base",
      "model_module_version": "1.1.0",
      "model_name": "LayoutModel",
      "state": {}
     },
     "f3b0b79639bc4b69b2105cd51ba8ed4a": {
      "model_module": "@jupyter-widgets/base",
      "model_module_version": "1.1.0",
      "model_name": "LayoutModel",
      "state": {}
     },
     "f3e6f53a8a4846e79d6ec97fdc0c237c": {
      "model_module": "@jupyter-widgets/base",
      "model_module_version": "1.1.0",
      "model_name": "LayoutModel",
      "state": {
       "justify_content": "center"
      }
     },
     "f499c034223e46168c0421ea8d85d83c": {
      "model_module": "@jupyter-widgets/controls",
      "model_module_version": "1.4.0",
      "model_name": "DescriptionStyleModel",
      "state": {
       "description_width": ""
      }
     },
     "f4b704a50b19416aaa619a020dfd5071": {
      "model_module": "@jupyter-widgets/controls",
      "model_module_version": "1.4.0",
      "model_name": "SliderStyleModel",
      "state": {
       "description_width": ""
      }
     },
     "f57f160c031a4385b96699f3de1a0ed2": {
      "model_module": "@jupyter-widgets/controls",
      "model_module_version": "1.4.0",
      "model_name": "ButtonModel",
      "state": {
       "description": "Administer Dose(t)",
       "disabled": true,
       "layout": "IPY_MODEL_c705598275c24ce8be5d3d17085c94aa",
       "style": "IPY_MODEL_ff5acbfcf6b8479f8c3825d361b5a633"
      }
     },
     "f6efb67db12b449f9b85a3ac8317cb90": {
      "model_module": "@jupyter-widgets/controls",
      "model_module_version": "1.4.0",
      "model_name": "ButtonModel",
      "state": {
       "description": "Predict Response(t+1)",
       "layout": "IPY_MODEL_f80b90ff86d34656a1dbd02d163f7ade",
       "style": "IPY_MODEL_7add484299ef47ea9f1aac758d680e11"
      }
     },
     "f703939750ff454bb72089b3879dcfb3": {
      "model_module": "@jupyter-widgets/controls",
      "model_module_version": "1.4.0",
      "model_name": "ButtonModel",
      "state": {
       "description": "Administer Dose(t)",
       "disabled": true,
       "layout": "IPY_MODEL_45ef44f8e2374c9380d0c76e93e788d8",
       "style": "IPY_MODEL_cf9d9733500545eb9abfa640630c9855"
      }
     },
     "f737a9ed60ee41628c6038e6bd8f20ec": {
      "model_module": "@jupyter-widgets/base",
      "model_module_version": "1.1.0",
      "model_name": "LayoutModel",
      "state": {
       "justify_content": "center"
      }
     },
     "f74069794b0f44debc1671e0300b927f": {
      "model_module": "@jupyter-widgets/controls",
      "model_module_version": "1.4.0",
      "model_name": "HBoxModel",
      "state": {
       "children": [
        "IPY_MODEL_2f4dc84a2025406d8272c2d578657e2e",
        "IPY_MODEL_c76df793ddd94063854fa78fd8a6782a"
       ],
       "layout": "IPY_MODEL_ab2bf471fd8b45378075961cd3a248fd"
      }
     },
     "f74717e57cb0445fb910baef614e652b": {
      "model_module": "@jupyter-widgets/base",
      "model_module_version": "1.1.0",
      "model_name": "LayoutModel",
      "state": {}
     },
     "f75d41c714a84fdbb09227772d9eebb7": {
      "model_module": "@jupyter-widgets/base",
      "model_module_version": "1.1.0",
      "model_name": "LayoutModel",
      "state": {
       "width": "95%"
      }
     },
     "f7729e3ff4fc443d8b090f9891fbcab4": {
      "model_module": "@jupyter-widgets/base",
      "model_module_version": "1.1.0",
      "model_name": "LayoutModel",
      "state": {
       "justify_content": "center"
      }
     },
     "f80b90ff86d34656a1dbd02d163f7ade": {
      "model_module": "@jupyter-widgets/base",
      "model_module_version": "1.1.0",
      "model_name": "LayoutModel",
      "state": {
       "width": "42%"
      }
     },
     "f89aa0d3d86744c19422f1dd7f6d84aa": {
      "model_module": "@jupyter-widgets/base",
      "model_module_version": "1.1.0",
      "model_name": "LayoutModel",
      "state": {
       "width": "42%"
      }
     },
     "f97d4059622b4f9c941756e3b2c29e04": {
      "model_module": "@jupyter-widgets/base",
      "model_module_version": "1.1.0",
      "model_name": "LayoutModel",
      "state": {
       "width": "42%"
      }
     },
     "fa11c43bec464af2a85cd608125a1428": {
      "model_module": "@jupyter-widgets/controls",
      "model_module_version": "1.4.0",
      "model_name": "TextModel",
      "state": {
       "description": "Next Step",
       "layout": "IPY_MODEL_eb3bb59e6b4746ec94c9838f55ef0973",
       "style": "IPY_MODEL_083dfe5677be46b087d48d6944c45e50",
       "value": "Successful Completion"
      }
     },
     "fa625533e4f64183a5295a04d5037ca7": {
      "model_module": "@jupyter-widgets/controls",
      "model_module_version": "1.4.0",
      "model_name": "ButtonModel",
      "state": {
       "description": "Administer Dose(t)",
       "disabled": true,
       "layout": "IPY_MODEL_b5a331ab60cf4490b56674b07f5bd1a5",
       "style": "IPY_MODEL_a3e10b8fc4404e47a1ec0306d071a37a"
      }
     },
     "fa6b40bfe0624a729e0fc851bfde3e58": {
      "model_module": "@jupyter-widgets/controls",
      "model_module_version": "1.4.0",
      "model_name": "ButtonModel",
      "state": {
       "description": "Administer Dose(t)",
       "disabled": true,
       "layout": "IPY_MODEL_63782116f59147b385e4aeaea3ef9c25",
       "style": "IPY_MODEL_0772ea5803a9462098c7e41801ca0520"
      }
     },
     "fad47deec66541b38d3a26140b748184": {
      "model_module": "@jupyter-widgets/base",
      "model_module_version": "1.1.0",
      "model_name": "LayoutModel",
      "state": {}
     },
     "fbc759d0f1b540cd9be186f41aaad8bb": {
      "model_module": "@jupyter-widgets/base",
      "model_module_version": "1.1.0",
      "model_name": "LayoutModel",
      "state": {
       "justify_content": "center"
      }
     },
     "fc116c445fc444fb9520f5f2af1912fc": {
      "model_module": "@jupyter-widgets/controls",
      "model_module_version": "1.4.0",
      "model_name": "HBoxModel",
      "state": {
       "children": [
        "IPY_MODEL_424b555ce6c0412f9b2d509f22b566b9",
        "IPY_MODEL_f703939750ff454bb72089b3879dcfb3"
       ],
       "layout": "IPY_MODEL_289ce1c4d99c4438b5c6b5a66455f323"
      }
     },
     "fce71a65c4934bbcb9bcbfb2d45aeef1": {
      "model_module": "@jupyter-widgets/controls",
      "model_module_version": "1.4.0",
      "model_name": "TextModel",
      "state": {
       "description": "Response(t+1) ",
       "disabled": true,
       "layout": "IPY_MODEL_305236f6a28743d7938b10de74266493",
       "style": "IPY_MODEL_0b4adb12a50f4673bcd9dfd589b6d201",
       "value": "5.30"
      }
     },
     "fd26d8ad42f74c159dfe93f6fab7e67e": {
      "model_module": "@jupyter-widgets/controls",
      "model_module_version": "1.4.0",
      "model_name": "SliderStyleModel",
      "state": {
       "description_width": ""
      }
     },
     "fd582402f3b34907b9d0a0957d2fe22a": {
      "model_module": "@jupyter-widgets/controls",
      "model_module_version": "1.4.0",
      "model_name": "FloatSliderModel",
      "state": {
       "description": "Dose(t)",
       "layout": "IPY_MODEL_34514ad588054f2e92cb0277cbf6339a",
       "max": 10,
       "min": -10,
       "step": 0.01,
       "style": "IPY_MODEL_381df80769c94b0bbf669d739f317b3c",
       "value": 0.5
      }
     },
     "febd969808234ad59cfc221339fbfa8b": {
      "model_module": "@jupyter-widgets/controls",
      "model_module_version": "1.4.0",
      "model_name": "DescriptionStyleModel",
      "state": {
       "description_width": ""
      }
     },
     "ff4921d97d2949d39ce4b7bcdccefcc2": {
      "model_module": "@jupyter-widgets/base",
      "model_module_version": "1.1.0",
      "model_name": "LayoutModel",
      "state": {
       "width": "95%"
      }
     },
     "ff5acbfcf6b8479f8c3825d361b5a633": {
      "model_module": "@jupyter-widgets/controls",
      "model_module_version": "1.4.0",
      "model_name": "ButtonStyleModel",
      "state": {}
     },
     "ff6cb891f0e2438a8515d65494d6a347": {
      "model_module": "@jupyter-widgets/controls",
      "model_module_version": "1.4.0",
      "model_name": "HBoxModel",
      "state": {
       "children": [
        "IPY_MODEL_4b4941f16f364fa0ad8add2434a27117",
        "IPY_MODEL_19573d4719134f44ab5b7f6a5c82bffa"
       ],
       "layout": "IPY_MODEL_db2002292ad341c39f6d92d722cd6d92"
      }
     },
     "ffb741cd6fe44acb930d009dc8573003": {
      "model_module": "@jupyter-widgets/base",
      "model_module_version": "1.1.0",
      "model_name": "LayoutModel",
      "state": {
       "justify_content": "center"
      }
     },
     "ffe1426f2dda470dbe952aeab16af0c5": {
      "model_module": "@jupyter-widgets/controls",
      "model_module_version": "1.4.0",
      "model_name": "ButtonModel",
      "state": {
       "description": "Predict Response(t+1)",
       "layout": "IPY_MODEL_e1b53b8316914ab9a1717435b5e87336",
       "style": "IPY_MODEL_49e2096b0376466b9a74b992b8330d8c"
      }
     }
    },
    "version_major": 2,
    "version_minor": 0
   }
  }
 },
 "nbformat": 4,
 "nbformat_minor": 2
}
