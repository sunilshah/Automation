{
 "cells": [
  {
   "cell_type": "markdown",
   "metadata": {},
   "source": [
    "#  Poor Control Inspite of Perfect Prediction  \n",
    "\n",
    "It seems logical that if you want to control something, you need to measure it and predict it. \n",
    "\n",
    "For example, if you want to achieve a particular health outcome like blood glucose level, measuring it, predicting its response to nutrition, exercise and medication seems sufficient. Once you can predict it well, then achieving your goal of controlling it appears a matter of diligent execution. \n",
    "\n",
    "We all know from personal experience, that it is easier said than done. \n",
    "\n",
    "I want to systematically explore surprises that occur along the way. In doing so, I want to point out various method pitfalls relating to human decisions. Sometimes, these pitfalls are present in computer automation methods.   \n",
    "\n",
    "Although I describe a dose-response problem, the method pitfalls apply equally well to biological and non-living processes.\n",
    "\n",
    "You will be making interactive human decisions on the simulated examples where we are testing human decision making.  "
   ]
  },
  {
   "cell_type": "code",
   "execution_count": 1,
   "metadata": {
    "scrolled": true
   },
   "outputs": [],
   "source": [
    "%matplotlib notebook\n",
    "import numpy as np\n",
    "import matplotlib.pyplot as plt\n",
    "from matplotlib import animation,rc\n",
    "#from IPython.display import HTML\n",
    "import ipywidgets"
   ]
  },
  {
   "cell_type": "markdown",
   "metadata": {},
   "source": [
    "###  Predict and Control\n",
    "\n",
    "In the simplest interactive problem below, you can first predict what the output will be when you choose a particular value for the input decision variable using the slider (like a medication dose).  Choose the best value you deem appropriate until the prediction hits the target reference and then execute the decision using the execute button. \n",
    "\n",
    "Your goal is to make the output equal to the fixed target reference value displayed. "
   ]
  },
  {
   "cell_type": "markdown",
   "metadata": {},
   "source": [
    "#### Perfect Prediction of Output to be Controlled\n",
    "\n",
    "Constant $A,B,C,D$  define a state space system. In discrete time, \n",
    "\n",
    "$$\\begin {align} x(t+1)=A*x(t)+B*u(t) \\\\ y(t)=C*x(t)+D*u(t) \\end {align}$$\n",
    "\n",
    "Initial state $x(0)=x_0$ is randomly chosen with a mean value of 5.  We assume further that there is no noise or disturbance in the system and the constants $A,B,C,D$ are known exactly.\n",
    "\n",
    "You will be able to predict perfectly because there is no noise and you have access to an exact determiniatic simulation. If you predict based upon an input value, you will get exactly the predicted output upon execution. You can keep changing the input until you hit the target output for the predicted value. \n",
    "\n",
    "This is a very ideal situation intended to illustrate a particular class of problems in controlling dynamical system. The dynamic system is first order, stable, with a time constant of about 2.8 and a steady state gain of 9.33. For dose-response, it corresponds to one compartment system. "
   ]
  },
  {
   "cell_type": "code",
   "execution_count": 2,
   "metadata": {
    "scrolled": true
   },
   "outputs": [
    {
     "name": "stdout",
     "output_type": "stream",
     "text": [
      "Initial State x(0) =  4.786019257308495\n"
     ]
    }
   ],
   "source": [
    "#initialize a non-minimum phase stable state space system\n",
    "A=0.7;B=2.5;C=1;D=1;\n",
    "x_0=np.random.randn()*1+5;\n",
    "print(\"Initial State x(0) = \", x_0)\n"
   ]
  },
  {
   "cell_type": "markdown",
   "metadata": {},
   "source": [
    "###  Interactive Prediction and Control\n",
    "Now, let us see what happens when you try to control it.  \n",
    "\n",
    "Your goal is to make the output response close to $y(t) = 5.0$.  \n",
    "\n",
    "Before you actually execute the decision with a particular value of input dose u(t), you can move the slider input, then hit the __Predict Response(t+1)__ button to see the predicted y.  Prediction does not propagate the state, it merely uses the current state and the input to compute the predicted y(t+1). When you are satisfied with the value u(t), you can commit and hit the __Administer Dose(t)__ button, which results in propagation of the state space recursion. \n",
    "\n",
    "It will give you hints for next step such as to increase or decrease the trial input Dose u(t).  Highlighted buttons are available for interaction.  When the predicted output response y(t+1) is within range, it will allow you to administer the Dose. For the very first time, $t=1$, you need not bring the response within range to administer the dose.\n",
    " \n",
    "First, we lay out the interaction and propagation of the system. Then we display the progress of your interaction with this dynamical system."
   ]
  },
  {
   "cell_type": "code",
   "execution_count": 5,
   "metadata": {
    "scrolled": false
   },
   "outputs": [
    {
     "data": {
      "application/vnd.jupyter.widget-view+json": {
       "model_id": "347330237ad74458bab5576eae6126f6",
       "version_major": 2,
       "version_minor": 0
      },
      "text/plain": [
       "FloatSlider(value=0.0, description='Dose(t)', layout=Layout(width='95%'), max=10.0, min=-10.0, step=0.01)"
      ]
     },
     "metadata": {},
     "output_type": "display_data"
    },
    {
     "data": {
      "application/vnd.jupyter.widget-view+json": {
       "model_id": "6241f9ec6f314c11a61599ef20e2e458",
       "version_major": 2,
       "version_minor": 0
      },
      "text/plain": [
       "HBox(children=(Text(value='  ', description='Response(t+1) ', disabled=True, style=DescriptionStyle(descriptio…"
      ]
     },
     "metadata": {},
     "output_type": "display_data"
    },
    {
     "data": {
      "application/vnd.jupyter.widget-view+json": {
       "model_id": "a84d33d067504ddeaeaa964530aa9fe4",
       "version_major": 2,
       "version_minor": 0
      },
      "text/plain": [
       "HBox(children=(Button(description='Predict Response(t+1)', layout=Layout(width='42%'), style=ButtonStyle()), B…"
      ]
     },
     "metadata": {},
     "output_type": "display_data"
    },
    {
     "data": {
      "application/javascript": [
       "/* Put everything inside the global mpl namespace */\n",
       "window.mpl = {};\n",
       "\n",
       "\n",
       "mpl.get_websocket_type = function() {\n",
       "    if (typeof(WebSocket) !== 'undefined') {\n",
       "        return WebSocket;\n",
       "    } else if (typeof(MozWebSocket) !== 'undefined') {\n",
       "        return MozWebSocket;\n",
       "    } else {\n",
       "        alert('Your browser does not have WebSocket support. ' +\n",
       "              'Please try Chrome, Safari or Firefox ≥ 6. ' +\n",
       "              'Firefox 4 and 5 are also supported but you ' +\n",
       "              'have to enable WebSockets in about:config.');\n",
       "    };\n",
       "}\n",
       "\n",
       "mpl.figure = function(figure_id, websocket, ondownload, parent_element) {\n",
       "    this.id = figure_id;\n",
       "\n",
       "    this.ws = websocket;\n",
       "\n",
       "    this.supports_binary = (this.ws.binaryType != undefined);\n",
       "\n",
       "    if (!this.supports_binary) {\n",
       "        var warnings = document.getElementById(\"mpl-warnings\");\n",
       "        if (warnings) {\n",
       "            warnings.style.display = 'block';\n",
       "            warnings.textContent = (\n",
       "                \"This browser does not support binary websocket messages. \" +\n",
       "                    \"Performance may be slow.\");\n",
       "        }\n",
       "    }\n",
       "\n",
       "    this.imageObj = new Image();\n",
       "\n",
       "    this.context = undefined;\n",
       "    this.message = undefined;\n",
       "    this.canvas = undefined;\n",
       "    this.rubberband_canvas = undefined;\n",
       "    this.rubberband_context = undefined;\n",
       "    this.format_dropdown = undefined;\n",
       "\n",
       "    this.image_mode = 'full';\n",
       "\n",
       "    this.root = $('<div/>');\n",
       "    this._root_extra_style(this.root)\n",
       "    this.root.attr('style', 'display: inline-block');\n",
       "\n",
       "    $(parent_element).append(this.root);\n",
       "\n",
       "    this._init_header(this);\n",
       "    this._init_canvas(this);\n",
       "    this._init_toolbar(this);\n",
       "\n",
       "    var fig = this;\n",
       "\n",
       "    this.waiting = false;\n",
       "\n",
       "    this.ws.onopen =  function () {\n",
       "            fig.send_message(\"supports_binary\", {value: fig.supports_binary});\n",
       "            fig.send_message(\"send_image_mode\", {});\n",
       "            if (mpl.ratio != 1) {\n",
       "                fig.send_message(\"set_dpi_ratio\", {'dpi_ratio': mpl.ratio});\n",
       "            }\n",
       "            fig.send_message(\"refresh\", {});\n",
       "        }\n",
       "\n",
       "    this.imageObj.onload = function() {\n",
       "            if (fig.image_mode == 'full') {\n",
       "                // Full images could contain transparency (where diff images\n",
       "                // almost always do), so we need to clear the canvas so that\n",
       "                // there is no ghosting.\n",
       "                fig.context.clearRect(0, 0, fig.canvas.width, fig.canvas.height);\n",
       "            }\n",
       "            fig.context.drawImage(fig.imageObj, 0, 0);\n",
       "        };\n",
       "\n",
       "    this.imageObj.onunload = function() {\n",
       "        fig.ws.close();\n",
       "    }\n",
       "\n",
       "    this.ws.onmessage = this._make_on_message_function(this);\n",
       "\n",
       "    this.ondownload = ondownload;\n",
       "}\n",
       "\n",
       "mpl.figure.prototype._init_header = function() {\n",
       "    var titlebar = $(\n",
       "        '<div class=\"ui-dialog-titlebar ui-widget-header ui-corner-all ' +\n",
       "        'ui-helper-clearfix\"/>');\n",
       "    var titletext = $(\n",
       "        '<div class=\"ui-dialog-title\" style=\"width: 100%; ' +\n",
       "        'text-align: center; padding: 3px;\"/>');\n",
       "    titlebar.append(titletext)\n",
       "    this.root.append(titlebar);\n",
       "    this.header = titletext[0];\n",
       "}\n",
       "\n",
       "\n",
       "\n",
       "mpl.figure.prototype._canvas_extra_style = function(canvas_div) {\n",
       "\n",
       "}\n",
       "\n",
       "\n",
       "mpl.figure.prototype._root_extra_style = function(canvas_div) {\n",
       "\n",
       "}\n",
       "\n",
       "mpl.figure.prototype._init_canvas = function() {\n",
       "    var fig = this;\n",
       "\n",
       "    var canvas_div = $('<div/>');\n",
       "\n",
       "    canvas_div.attr('style', 'position: relative; clear: both; outline: 0');\n",
       "\n",
       "    function canvas_keyboard_event(event) {\n",
       "        return fig.key_event(event, event['data']);\n",
       "    }\n",
       "\n",
       "    canvas_div.keydown('key_press', canvas_keyboard_event);\n",
       "    canvas_div.keyup('key_release', canvas_keyboard_event);\n",
       "    this.canvas_div = canvas_div\n",
       "    this._canvas_extra_style(canvas_div)\n",
       "    this.root.append(canvas_div);\n",
       "\n",
       "    var canvas = $('<canvas/>');\n",
       "    canvas.addClass('mpl-canvas');\n",
       "    canvas.attr('style', \"left: 0; top: 0; z-index: 0; outline: 0\")\n",
       "\n",
       "    this.canvas = canvas[0];\n",
       "    this.context = canvas[0].getContext(\"2d\");\n",
       "\n",
       "    var backingStore = this.context.backingStorePixelRatio ||\n",
       "\tthis.context.webkitBackingStorePixelRatio ||\n",
       "\tthis.context.mozBackingStorePixelRatio ||\n",
       "\tthis.context.msBackingStorePixelRatio ||\n",
       "\tthis.context.oBackingStorePixelRatio ||\n",
       "\tthis.context.backingStorePixelRatio || 1;\n",
       "\n",
       "    mpl.ratio = (window.devicePixelRatio || 1) / backingStore;\n",
       "\n",
       "    var rubberband = $('<canvas/>');\n",
       "    rubberband.attr('style', \"position: absolute; left: 0; top: 0; z-index: 1;\")\n",
       "\n",
       "    var pass_mouse_events = true;\n",
       "\n",
       "    canvas_div.resizable({\n",
       "        start: function(event, ui) {\n",
       "            pass_mouse_events = false;\n",
       "        },\n",
       "        resize: function(event, ui) {\n",
       "            fig.request_resize(ui.size.width, ui.size.height);\n",
       "        },\n",
       "        stop: function(event, ui) {\n",
       "            pass_mouse_events = true;\n",
       "            fig.request_resize(ui.size.width, ui.size.height);\n",
       "        },\n",
       "    });\n",
       "\n",
       "    function mouse_event_fn(event) {\n",
       "        if (pass_mouse_events)\n",
       "            return fig.mouse_event(event, event['data']);\n",
       "    }\n",
       "\n",
       "    rubberband.mousedown('button_press', mouse_event_fn);\n",
       "    rubberband.mouseup('button_release', mouse_event_fn);\n",
       "    // Throttle sequential mouse events to 1 every 20ms.\n",
       "    rubberband.mousemove('motion_notify', mouse_event_fn);\n",
       "\n",
       "    rubberband.mouseenter('figure_enter', mouse_event_fn);\n",
       "    rubberband.mouseleave('figure_leave', mouse_event_fn);\n",
       "\n",
       "    canvas_div.on(\"wheel\", function (event) {\n",
       "        event = event.originalEvent;\n",
       "        event['data'] = 'scroll'\n",
       "        if (event.deltaY < 0) {\n",
       "            event.step = 1;\n",
       "        } else {\n",
       "            event.step = -1;\n",
       "        }\n",
       "        mouse_event_fn(event);\n",
       "    });\n",
       "\n",
       "    canvas_div.append(canvas);\n",
       "    canvas_div.append(rubberband);\n",
       "\n",
       "    this.rubberband = rubberband;\n",
       "    this.rubberband_canvas = rubberband[0];\n",
       "    this.rubberband_context = rubberband[0].getContext(\"2d\");\n",
       "    this.rubberband_context.strokeStyle = \"#000000\";\n",
       "\n",
       "    this._resize_canvas = function(width, height) {\n",
       "        // Keep the size of the canvas, canvas container, and rubber band\n",
       "        // canvas in synch.\n",
       "        canvas_div.css('width', width)\n",
       "        canvas_div.css('height', height)\n",
       "\n",
       "        canvas.attr('width', width * mpl.ratio);\n",
       "        canvas.attr('height', height * mpl.ratio);\n",
       "        canvas.attr('style', 'width: ' + width + 'px; height: ' + height + 'px;');\n",
       "\n",
       "        rubberband.attr('width', width);\n",
       "        rubberband.attr('height', height);\n",
       "    }\n",
       "\n",
       "    // Set the figure to an initial 600x600px, this will subsequently be updated\n",
       "    // upon first draw.\n",
       "    this._resize_canvas(600, 600);\n",
       "\n",
       "    // Disable right mouse context menu.\n",
       "    $(this.rubberband_canvas).bind(\"contextmenu\",function(e){\n",
       "        return false;\n",
       "    });\n",
       "\n",
       "    function set_focus () {\n",
       "        canvas.focus();\n",
       "        canvas_div.focus();\n",
       "    }\n",
       "\n",
       "    window.setTimeout(set_focus, 100);\n",
       "}\n",
       "\n",
       "mpl.figure.prototype._init_toolbar = function() {\n",
       "    var fig = this;\n",
       "\n",
       "    var nav_element = $('<div/>');\n",
       "    nav_element.attr('style', 'width: 100%');\n",
       "    this.root.append(nav_element);\n",
       "\n",
       "    // Define a callback function for later on.\n",
       "    function toolbar_event(event) {\n",
       "        return fig.toolbar_button_onclick(event['data']);\n",
       "    }\n",
       "    function toolbar_mouse_event(event) {\n",
       "        return fig.toolbar_button_onmouseover(event['data']);\n",
       "    }\n",
       "\n",
       "    for(var toolbar_ind in mpl.toolbar_items) {\n",
       "        var name = mpl.toolbar_items[toolbar_ind][0];\n",
       "        var tooltip = mpl.toolbar_items[toolbar_ind][1];\n",
       "        var image = mpl.toolbar_items[toolbar_ind][2];\n",
       "        var method_name = mpl.toolbar_items[toolbar_ind][3];\n",
       "\n",
       "        if (!name) {\n",
       "            // put a spacer in here.\n",
       "            continue;\n",
       "        }\n",
       "        var button = $('<button/>');\n",
       "        button.addClass('ui-button ui-widget ui-state-default ui-corner-all ' +\n",
       "                        'ui-button-icon-only');\n",
       "        button.attr('role', 'button');\n",
       "        button.attr('aria-disabled', 'false');\n",
       "        button.click(method_name, toolbar_event);\n",
       "        button.mouseover(tooltip, toolbar_mouse_event);\n",
       "\n",
       "        var icon_img = $('<span/>');\n",
       "        icon_img.addClass('ui-button-icon-primary ui-icon');\n",
       "        icon_img.addClass(image);\n",
       "        icon_img.addClass('ui-corner-all');\n",
       "\n",
       "        var tooltip_span = $('<span/>');\n",
       "        tooltip_span.addClass('ui-button-text');\n",
       "        tooltip_span.html(tooltip);\n",
       "\n",
       "        button.append(icon_img);\n",
       "        button.append(tooltip_span);\n",
       "\n",
       "        nav_element.append(button);\n",
       "    }\n",
       "\n",
       "    var fmt_picker_span = $('<span/>');\n",
       "\n",
       "    var fmt_picker = $('<select/>');\n",
       "    fmt_picker.addClass('mpl-toolbar-option ui-widget ui-widget-content');\n",
       "    fmt_picker_span.append(fmt_picker);\n",
       "    nav_element.append(fmt_picker_span);\n",
       "    this.format_dropdown = fmt_picker[0];\n",
       "\n",
       "    for (var ind in mpl.extensions) {\n",
       "        var fmt = mpl.extensions[ind];\n",
       "        var option = $(\n",
       "            '<option/>', {selected: fmt === mpl.default_extension}).html(fmt);\n",
       "        fmt_picker.append(option);\n",
       "    }\n",
       "\n",
       "    // Add hover states to the ui-buttons\n",
       "    $( \".ui-button\" ).hover(\n",
       "        function() { $(this).addClass(\"ui-state-hover\");},\n",
       "        function() { $(this).removeClass(\"ui-state-hover\");}\n",
       "    );\n",
       "\n",
       "    var status_bar = $('<span class=\"mpl-message\"/>');\n",
       "    nav_element.append(status_bar);\n",
       "    this.message = status_bar[0];\n",
       "}\n",
       "\n",
       "mpl.figure.prototype.request_resize = function(x_pixels, y_pixels) {\n",
       "    // Request matplotlib to resize the figure. Matplotlib will then trigger a resize in the client,\n",
       "    // which will in turn request a refresh of the image.\n",
       "    this.send_message('resize', {'width': x_pixels, 'height': y_pixels});\n",
       "}\n",
       "\n",
       "mpl.figure.prototype.send_message = function(type, properties) {\n",
       "    properties['type'] = type;\n",
       "    properties['figure_id'] = this.id;\n",
       "    this.ws.send(JSON.stringify(properties));\n",
       "}\n",
       "\n",
       "mpl.figure.prototype.send_draw_message = function() {\n",
       "    if (!this.waiting) {\n",
       "        this.waiting = true;\n",
       "        this.ws.send(JSON.stringify({type: \"draw\", figure_id: this.id}));\n",
       "    }\n",
       "}\n",
       "\n",
       "\n",
       "mpl.figure.prototype.handle_save = function(fig, msg) {\n",
       "    var format_dropdown = fig.format_dropdown;\n",
       "    var format = format_dropdown.options[format_dropdown.selectedIndex].value;\n",
       "    fig.ondownload(fig, format);\n",
       "}\n",
       "\n",
       "\n",
       "mpl.figure.prototype.handle_resize = function(fig, msg) {\n",
       "    var size = msg['size'];\n",
       "    if (size[0] != fig.canvas.width || size[1] != fig.canvas.height) {\n",
       "        fig._resize_canvas(size[0], size[1]);\n",
       "        fig.send_message(\"refresh\", {});\n",
       "    };\n",
       "}\n",
       "\n",
       "mpl.figure.prototype.handle_rubberband = function(fig, msg) {\n",
       "    var x0 = msg['x0'] / mpl.ratio;\n",
       "    var y0 = (fig.canvas.height - msg['y0']) / mpl.ratio;\n",
       "    var x1 = msg['x1'] / mpl.ratio;\n",
       "    var y1 = (fig.canvas.height - msg['y1']) / mpl.ratio;\n",
       "    x0 = Math.floor(x0) + 0.5;\n",
       "    y0 = Math.floor(y0) + 0.5;\n",
       "    x1 = Math.floor(x1) + 0.5;\n",
       "    y1 = Math.floor(y1) + 0.5;\n",
       "    var min_x = Math.min(x0, x1);\n",
       "    var min_y = Math.min(y0, y1);\n",
       "    var width = Math.abs(x1 - x0);\n",
       "    var height = Math.abs(y1 - y0);\n",
       "\n",
       "    fig.rubberband_context.clearRect(\n",
       "        0, 0, fig.canvas.width, fig.canvas.height);\n",
       "\n",
       "    fig.rubberband_context.strokeRect(min_x, min_y, width, height);\n",
       "}\n",
       "\n",
       "mpl.figure.prototype.handle_figure_label = function(fig, msg) {\n",
       "    // Updates the figure title.\n",
       "    fig.header.textContent = msg['label'];\n",
       "}\n",
       "\n",
       "mpl.figure.prototype.handle_cursor = function(fig, msg) {\n",
       "    var cursor = msg['cursor'];\n",
       "    switch(cursor)\n",
       "    {\n",
       "    case 0:\n",
       "        cursor = 'pointer';\n",
       "        break;\n",
       "    case 1:\n",
       "        cursor = 'default';\n",
       "        break;\n",
       "    case 2:\n",
       "        cursor = 'crosshair';\n",
       "        break;\n",
       "    case 3:\n",
       "        cursor = 'move';\n",
       "        break;\n",
       "    }\n",
       "    fig.rubberband_canvas.style.cursor = cursor;\n",
       "}\n",
       "\n",
       "mpl.figure.prototype.handle_message = function(fig, msg) {\n",
       "    fig.message.textContent = msg['message'];\n",
       "}\n",
       "\n",
       "mpl.figure.prototype.handle_draw = function(fig, msg) {\n",
       "    // Request the server to send over a new figure.\n",
       "    fig.send_draw_message();\n",
       "}\n",
       "\n",
       "mpl.figure.prototype.handle_image_mode = function(fig, msg) {\n",
       "    fig.image_mode = msg['mode'];\n",
       "}\n",
       "\n",
       "mpl.figure.prototype.updated_canvas_event = function() {\n",
       "    // Called whenever the canvas gets updated.\n",
       "    this.send_message(\"ack\", {});\n",
       "}\n",
       "\n",
       "// A function to construct a web socket function for onmessage handling.\n",
       "// Called in the figure constructor.\n",
       "mpl.figure.prototype._make_on_message_function = function(fig) {\n",
       "    return function socket_on_message(evt) {\n",
       "        if (evt.data instanceof Blob) {\n",
       "            /* FIXME: We get \"Resource interpreted as Image but\n",
       "             * transferred with MIME type text/plain:\" errors on\n",
       "             * Chrome.  But how to set the MIME type?  It doesn't seem\n",
       "             * to be part of the websocket stream */\n",
       "            evt.data.type = \"image/png\";\n",
       "\n",
       "            /* Free the memory for the previous frames */\n",
       "            if (fig.imageObj.src) {\n",
       "                (window.URL || window.webkitURL).revokeObjectURL(\n",
       "                    fig.imageObj.src);\n",
       "            }\n",
       "\n",
       "            fig.imageObj.src = (window.URL || window.webkitURL).createObjectURL(\n",
       "                evt.data);\n",
       "            fig.updated_canvas_event();\n",
       "            fig.waiting = false;\n",
       "            return;\n",
       "        }\n",
       "        else if (typeof evt.data === 'string' && evt.data.slice(0, 21) == \"data:image/png;base64\") {\n",
       "            fig.imageObj.src = evt.data;\n",
       "            fig.updated_canvas_event();\n",
       "            fig.waiting = false;\n",
       "            return;\n",
       "        }\n",
       "\n",
       "        var msg = JSON.parse(evt.data);\n",
       "        var msg_type = msg['type'];\n",
       "\n",
       "        // Call the  \"handle_{type}\" callback, which takes\n",
       "        // the figure and JSON message as its only arguments.\n",
       "        try {\n",
       "            var callback = fig[\"handle_\" + msg_type];\n",
       "        } catch (e) {\n",
       "            console.log(\"No handler for the '\" + msg_type + \"' message type: \", msg);\n",
       "            return;\n",
       "        }\n",
       "\n",
       "        if (callback) {\n",
       "            try {\n",
       "                // console.log(\"Handling '\" + msg_type + \"' message: \", msg);\n",
       "                callback(fig, msg);\n",
       "            } catch (e) {\n",
       "                console.log(\"Exception inside the 'handler_\" + msg_type + \"' callback:\", e, e.stack, msg);\n",
       "            }\n",
       "        }\n",
       "    };\n",
       "}\n",
       "\n",
       "// from http://stackoverflow.com/questions/1114465/getting-mouse-location-in-canvas\n",
       "mpl.findpos = function(e) {\n",
       "    //this section is from http://www.quirksmode.org/js/events_properties.html\n",
       "    var targ;\n",
       "    if (!e)\n",
       "        e = window.event;\n",
       "    if (e.target)\n",
       "        targ = e.target;\n",
       "    else if (e.srcElement)\n",
       "        targ = e.srcElement;\n",
       "    if (targ.nodeType == 3) // defeat Safari bug\n",
       "        targ = targ.parentNode;\n",
       "\n",
       "    // jQuery normalizes the pageX and pageY\n",
       "    // pageX,Y are the mouse positions relative to the document\n",
       "    // offset() returns the position of the element relative to the document\n",
       "    var x = e.pageX - $(targ).offset().left;\n",
       "    var y = e.pageY - $(targ).offset().top;\n",
       "\n",
       "    return {\"x\": x, \"y\": y};\n",
       "};\n",
       "\n",
       "/*\n",
       " * return a copy of an object with only non-object keys\n",
       " * we need this to avoid circular references\n",
       " * http://stackoverflow.com/a/24161582/3208463\n",
       " */\n",
       "function simpleKeys (original) {\n",
       "  return Object.keys(original).reduce(function (obj, key) {\n",
       "    if (typeof original[key] !== 'object')\n",
       "        obj[key] = original[key]\n",
       "    return obj;\n",
       "  }, {});\n",
       "}\n",
       "\n",
       "mpl.figure.prototype.mouse_event = function(event, name) {\n",
       "    var canvas_pos = mpl.findpos(event)\n",
       "\n",
       "    if (name === 'button_press')\n",
       "    {\n",
       "        this.canvas.focus();\n",
       "        this.canvas_div.focus();\n",
       "    }\n",
       "\n",
       "    var x = canvas_pos.x * mpl.ratio;\n",
       "    var y = canvas_pos.y * mpl.ratio;\n",
       "\n",
       "    this.send_message(name, {x: x, y: y, button: event.button,\n",
       "                             step: event.step,\n",
       "                             guiEvent: simpleKeys(event)});\n",
       "\n",
       "    /* This prevents the web browser from automatically changing to\n",
       "     * the text insertion cursor when the button is pressed.  We want\n",
       "     * to control all of the cursor setting manually through the\n",
       "     * 'cursor' event from matplotlib */\n",
       "    event.preventDefault();\n",
       "    return false;\n",
       "}\n",
       "\n",
       "mpl.figure.prototype._key_event_extra = function(event, name) {\n",
       "    // Handle any extra behaviour associated with a key event\n",
       "}\n",
       "\n",
       "mpl.figure.prototype.key_event = function(event, name) {\n",
       "\n",
       "    // Prevent repeat events\n",
       "    if (name == 'key_press')\n",
       "    {\n",
       "        if (event.which === this._key)\n",
       "            return;\n",
       "        else\n",
       "            this._key = event.which;\n",
       "    }\n",
       "    if (name == 'key_release')\n",
       "        this._key = null;\n",
       "\n",
       "    var value = '';\n",
       "    if (event.ctrlKey && event.which != 17)\n",
       "        value += \"ctrl+\";\n",
       "    if (event.altKey && event.which != 18)\n",
       "        value += \"alt+\";\n",
       "    if (event.shiftKey && event.which != 16)\n",
       "        value += \"shift+\";\n",
       "\n",
       "    value += 'k';\n",
       "    value += event.which.toString();\n",
       "\n",
       "    this._key_event_extra(event, name);\n",
       "\n",
       "    this.send_message(name, {key: value,\n",
       "                             guiEvent: simpleKeys(event)});\n",
       "    return false;\n",
       "}\n",
       "\n",
       "mpl.figure.prototype.toolbar_button_onclick = function(name) {\n",
       "    if (name == 'download') {\n",
       "        this.handle_save(this, null);\n",
       "    } else {\n",
       "        this.send_message(\"toolbar_button\", {name: name});\n",
       "    }\n",
       "};\n",
       "\n",
       "mpl.figure.prototype.toolbar_button_onmouseover = function(tooltip) {\n",
       "    this.message.textContent = tooltip;\n",
       "};\n",
       "mpl.toolbar_items = [[\"Home\", \"Reset original view\", \"fa fa-home icon-home\", \"home\"], [\"Back\", \"Back to previous view\", \"fa fa-arrow-left icon-arrow-left\", \"back\"], [\"Forward\", \"Forward to next view\", \"fa fa-arrow-right icon-arrow-right\", \"forward\"], [\"\", \"\", \"\", \"\"], [\"Pan\", \"Pan axes with left mouse, zoom with right\", \"fa fa-arrows icon-move\", \"pan\"], [\"Zoom\", \"Zoom to rectangle\", \"fa fa-square-o icon-check-empty\", \"zoom\"], [\"\", \"\", \"\", \"\"], [\"Download\", \"Download plot\", \"fa fa-floppy-o icon-save\", \"download\"]];\n",
       "\n",
       "mpl.extensions = [\"eps\", \"pdf\", \"png\", \"ps\", \"raw\", \"svg\"];\n",
       "\n",
       "mpl.default_extension = \"png\";var comm_websocket_adapter = function(comm) {\n",
       "    // Create a \"websocket\"-like object which calls the given IPython comm\n",
       "    // object with the appropriate methods. Currently this is a non binary\n",
       "    // socket, so there is still some room for performance tuning.\n",
       "    var ws = {};\n",
       "\n",
       "    ws.close = function() {\n",
       "        comm.close()\n",
       "    };\n",
       "    ws.send = function(m) {\n",
       "        //console.log('sending', m);\n",
       "        comm.send(m);\n",
       "    };\n",
       "    // Register the callback with on_msg.\n",
       "    comm.on_msg(function(msg) {\n",
       "        //console.log('receiving', msg['content']['data'], msg);\n",
       "        // Pass the mpl event to the overridden (by mpl) onmessage function.\n",
       "        ws.onmessage(msg['content']['data'])\n",
       "    });\n",
       "    return ws;\n",
       "}\n",
       "\n",
       "mpl.mpl_figure_comm = function(comm, msg) {\n",
       "    // This is the function which gets called when the mpl process\n",
       "    // starts-up an IPython Comm through the \"matplotlib\" channel.\n",
       "\n",
       "    var id = msg.content.data.id;\n",
       "    // Get hold of the div created by the display call when the Comm\n",
       "    // socket was opened in Python.\n",
       "    var element = $(\"#\" + id);\n",
       "    var ws_proxy = comm_websocket_adapter(comm)\n",
       "\n",
       "    function ondownload(figure, format) {\n",
       "        window.open(figure.imageObj.src);\n",
       "    }\n",
       "\n",
       "    var fig = new mpl.figure(id, ws_proxy,\n",
       "                           ondownload,\n",
       "                           element.get(0));\n",
       "\n",
       "    // Call onopen now - mpl needs it, as it is assuming we've passed it a real\n",
       "    // web socket which is closed, not our websocket->open comm proxy.\n",
       "    ws_proxy.onopen();\n",
       "\n",
       "    fig.parent_element = element.get(0);\n",
       "    fig.cell_info = mpl.find_output_cell(\"<div id='\" + id + \"'></div>\");\n",
       "    if (!fig.cell_info) {\n",
       "        console.error(\"Failed to find cell for figure\", id, fig);\n",
       "        return;\n",
       "    }\n",
       "\n",
       "    var output_index = fig.cell_info[2]\n",
       "    var cell = fig.cell_info[0];\n",
       "\n",
       "};\n",
       "\n",
       "mpl.figure.prototype.handle_close = function(fig, msg) {\n",
       "    var width = fig.canvas.width/mpl.ratio\n",
       "    fig.root.unbind('remove')\n",
       "\n",
       "    // Update the output cell to use the data from the current canvas.\n",
       "    fig.push_to_output();\n",
       "    var dataURL = fig.canvas.toDataURL();\n",
       "    // Re-enable the keyboard manager in IPython - without this line, in FF,\n",
       "    // the notebook keyboard shortcuts fail.\n",
       "    IPython.keyboard_manager.enable()\n",
       "    $(fig.parent_element).html('<img src=\"' + dataURL + '\" width=\"' + width + '\">');\n",
       "    fig.close_ws(fig, msg);\n",
       "}\n",
       "\n",
       "mpl.figure.prototype.close_ws = function(fig, msg){\n",
       "    fig.send_message('closing', msg);\n",
       "    // fig.ws.close()\n",
       "}\n",
       "\n",
       "mpl.figure.prototype.push_to_output = function(remove_interactive) {\n",
       "    // Turn the data on the canvas into data in the output cell.\n",
       "    var width = this.canvas.width/mpl.ratio\n",
       "    var dataURL = this.canvas.toDataURL();\n",
       "    this.cell_info[1]['text/html'] = '<img src=\"' + dataURL + '\" width=\"' + width + '\">';\n",
       "}\n",
       "\n",
       "mpl.figure.prototype.updated_canvas_event = function() {\n",
       "    // Tell IPython that the notebook contents must change.\n",
       "    IPython.notebook.set_dirty(true);\n",
       "    this.send_message(\"ack\", {});\n",
       "    var fig = this;\n",
       "    // Wait a second, then push the new image to the DOM so\n",
       "    // that it is saved nicely (might be nice to debounce this).\n",
       "    setTimeout(function () { fig.push_to_output() }, 1000);\n",
       "}\n",
       "\n",
       "mpl.figure.prototype._init_toolbar = function() {\n",
       "    var fig = this;\n",
       "\n",
       "    var nav_element = $('<div/>');\n",
       "    nav_element.attr('style', 'width: 100%');\n",
       "    this.root.append(nav_element);\n",
       "\n",
       "    // Define a callback function for later on.\n",
       "    function toolbar_event(event) {\n",
       "        return fig.toolbar_button_onclick(event['data']);\n",
       "    }\n",
       "    function toolbar_mouse_event(event) {\n",
       "        return fig.toolbar_button_onmouseover(event['data']);\n",
       "    }\n",
       "\n",
       "    for(var toolbar_ind in mpl.toolbar_items){\n",
       "        var name = mpl.toolbar_items[toolbar_ind][0];\n",
       "        var tooltip = mpl.toolbar_items[toolbar_ind][1];\n",
       "        var image = mpl.toolbar_items[toolbar_ind][2];\n",
       "        var method_name = mpl.toolbar_items[toolbar_ind][3];\n",
       "\n",
       "        if (!name) { continue; };\n",
       "\n",
       "        var button = $('<button class=\"btn btn-default\" href=\"#\" title=\"' + name + '\"><i class=\"fa ' + image + ' fa-lg\"></i></button>');\n",
       "        button.click(method_name, toolbar_event);\n",
       "        button.mouseover(tooltip, toolbar_mouse_event);\n",
       "        nav_element.append(button);\n",
       "    }\n",
       "\n",
       "    // Add the status bar.\n",
       "    var status_bar = $('<span class=\"mpl-message\" style=\"text-align:right; float: right;\"/>');\n",
       "    nav_element.append(status_bar);\n",
       "    this.message = status_bar[0];\n",
       "\n",
       "    // Add the close button to the window.\n",
       "    var buttongrp = $('<div class=\"btn-group inline pull-right\"></div>');\n",
       "    var button = $('<button class=\"btn btn-mini btn-primary\" href=\"#\" title=\"Stop Interaction\"><i class=\"fa fa-power-off icon-remove icon-large\"></i></button>');\n",
       "    button.click(function (evt) { fig.handle_close(fig, {}); } );\n",
       "    button.mouseover('Stop Interaction', toolbar_mouse_event);\n",
       "    buttongrp.append(button);\n",
       "    var titlebar = this.root.find($('.ui-dialog-titlebar'));\n",
       "    titlebar.prepend(buttongrp);\n",
       "}\n",
       "\n",
       "mpl.figure.prototype._root_extra_style = function(el){\n",
       "    var fig = this\n",
       "    el.on(\"remove\", function(){\n",
       "\tfig.close_ws(fig, {});\n",
       "    });\n",
       "}\n",
       "\n",
       "mpl.figure.prototype._canvas_extra_style = function(el){\n",
       "    // this is important to make the div 'focusable\n",
       "    el.attr('tabindex', 0)\n",
       "    // reach out to IPython and tell the keyboard manager to turn it's self\n",
       "    // off when our div gets focus\n",
       "\n",
       "    // location in version 3\n",
       "    if (IPython.notebook.keyboard_manager) {\n",
       "        IPython.notebook.keyboard_manager.register_events(el);\n",
       "    }\n",
       "    else {\n",
       "        // location in version 2\n",
       "        IPython.keyboard_manager.register_events(el);\n",
       "    }\n",
       "\n",
       "}\n",
       "\n",
       "mpl.figure.prototype._key_event_extra = function(event, name) {\n",
       "    var manager = IPython.notebook.keyboard_manager;\n",
       "    if (!manager)\n",
       "        manager = IPython.keyboard_manager;\n",
       "\n",
       "    // Check for shift+enter\n",
       "    if (event.shiftKey && event.which == 13) {\n",
       "        this.canvas_div.blur();\n",
       "        event.shiftKey = false;\n",
       "        // Send a \"J\" for go to next cell\n",
       "        event.which = 74;\n",
       "        event.keyCode = 74;\n",
       "        manager.command_mode();\n",
       "        manager.handle_keydown(event);\n",
       "    }\n",
       "}\n",
       "\n",
       "mpl.figure.prototype.handle_save = function(fig, msg) {\n",
       "    fig.ondownload(fig, null);\n",
       "}\n",
       "\n",
       "\n",
       "mpl.find_output_cell = function(html_output) {\n",
       "    // Return the cell and output element which can be found *uniquely* in the notebook.\n",
       "    // Note - this is a bit hacky, but it is done because the \"notebook_saving.Notebook\"\n",
       "    // IPython event is triggered only after the cells have been serialised, which for\n",
       "    // our purposes (turning an active figure into a static one), is too late.\n",
       "    var cells = IPython.notebook.get_cells();\n",
       "    var ncells = cells.length;\n",
       "    for (var i=0; i<ncells; i++) {\n",
       "        var cell = cells[i];\n",
       "        if (cell.cell_type === 'code'){\n",
       "            for (var j=0; j<cell.output_area.outputs.length; j++) {\n",
       "                var data = cell.output_area.outputs[j];\n",
       "                if (data.data) {\n",
       "                    // IPython >= 3 moved mimebundle to data attribute of output\n",
       "                    data = data.data;\n",
       "                }\n",
       "                if (data['text/html'] == html_output) {\n",
       "                    return [cell, data, j];\n",
       "                }\n",
       "            }\n",
       "        }\n",
       "    }\n",
       "}\n",
       "\n",
       "// Register the function which deals with the matplotlib target/channel.\n",
       "// The kernel may be null if the page has been refreshed.\n",
       "if (IPython.notebook.kernel != null) {\n",
       "    IPython.notebook.kernel.comm_manager.register_target('matplotlib', mpl.mpl_figure_comm);\n",
       "}\n"
      ],
      "text/plain": [
       "<IPython.core.display.Javascript object>"
      ]
     },
     "metadata": {},
     "output_type": "display_data"
    },
    {
     "data": {
      "text/html": [
       "<img src=\"data:image/png;base64,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\" width=\"1050\">"
      ],
      "text/plain": [
       "<IPython.core.display.HTML object>"
      ]
     },
     "metadata": {},
     "output_type": "display_data"
    }
   ],
   "source": [
    "#  Define display interaction widgets\n",
    "a1=ipywidgets.FloatSlider(description='Dose(t)',min=-10.0,max=10.0,\n",
    "                          step=.01,layout=ipywidgets.Layout(width='95%'))\n",
    "nudge_text=ipywidgets.Text(description=\"Next Step\",\n",
    "                           value='Predict Response(t+1)  ')   \n",
    "y_text=ipywidgets.Text(description='Response(t+1) ',value='  '\n",
    "                       ,style={'description_width':'initial'})\n",
    "#  Define data storage vectors for plotting\n",
    "nT=11;\n",
    "t_data=np.linspace(0,nT-1,nT)   # time\n",
    "y_data=np.zeros(nT)             # output response\n",
    "y_data.fill(np.nan)\n",
    "x_data=np.zeros(nT)             # states\n",
    "x_data.fill(np.nan)\n",
    "u_data=np.zeros(nT)             # input\n",
    "u_data.fill(np.nan)\n",
    "y_limits=np.zeros(nT)           \n",
    "y_limits[0:2].fill(np.nan)  # index t=0,1 no limits\n",
    "t=0;\n",
    "x=x_0;      # Initialize state\n",
    "x_data[0]=x\n",
    "threshold=.25   # absolute error needs to be less than this   \n",
    "ref=5\n",
    "u_upper_limit=10\n",
    "u_lower_limit=-10\n",
    "y_str_upper=' (is more than '+'{:.4}'.format(str(ref+threshold)) +')'\n",
    "y_str_lower=' (is less than '+'{:.4}'.format(str(ref-threshold))+')'\n",
    "# \"Predict y (t+1)\": for given input u and state x\n",
    "def on_pred_clicked(b):\n",
    "    global x,t\n",
    "    u=a1.value\n",
    "    y_pred=C*x+D*u\n",
    "    y_str='{:.4}'.format(str(C*x+D*u))\n",
    "    exec_button.disabled=True    # disable exec button \n",
    "    if y_pred > ref+threshold:       # Prediction too high\n",
    "        if u <= u_lower_limit:\n",
    "            nudge_text.value='Hit lower tox limit'\n",
    "        else:  \n",
    "            nudge_text.value='Reduce dose(t) and Predict'\n",
    "            y_text.value = y_str+y_str_upper  \n",
    "    elif y_pred < ref-threshold:     # prediction too low\n",
    "        if u >= u_upper_limit:\n",
    "            nudge_text.value='Hit upper tox limit'\n",
    "        else: \n",
    "            nudge_text.value ='Increase dose(t) and Predict'\n",
    "            y_text.value=y_str+y_str_lower\n",
    "    else:                       # pediction in range\n",
    "        y_text.value=y_str + ' (in range)'\n",
    "        nudge_text.value ='Administer dose(t)'\n",
    "        exec_button.disabled=False      # enable exec button\n",
    "        pred_button.disabled=True       # disable predict button\n",
    "    if t==0:\n",
    "        exec_button.disabled=False          #  For first time do not restrict to strict prediction\n",
    "        pred_button.disabled=False          #  \n",
    "           \n",
    "# \"Execute u (t)\": for given input u, computes y and propagates state x using u\n",
    "def on_exec_clicked(b):\n",
    "    global x,t,nT\n",
    "    if t+1 <= nT-1:\n",
    "        u=a1.value\n",
    "        u_data[t]=u\n",
    "        y=C*x+D*u\n",
    "        y_data[t+1]=y\n",
    "     \n",
    "        y_text.value='{:.4}'.format(str(y))\n",
    "        x_data[t+1]=x\n",
    "        x=A*x+B*u # propagate state\n",
    "        t=t+1\n",
    "        plot_progress()\n",
    "        nudge_text.value='Predict Response(t+1)'\n",
    "        pred_button.disabled=False         # Enable predict button   \n",
    "        exec_button.disabled=True          # Disable exec button\n",
    "    else:\n",
    "        nudge_text.value='Successful Completion'\n",
    "        pred_button.disabled=True\n",
    "        exec_button.disabled=True\n",
    "# plot data progress\n",
    "def plot_progress():\n",
    "    global t_data,x_data,y_data,u_data,y_line,u_line,x_line\n",
    "    y_line.set_ydata(y_data)\n",
    "    u_line.set_ydata(u_data)\n",
    "    x_line.set_ydata(x_data)\n",
    "    \n",
    "exec_button=ipywidgets.Button(description=\"Administer Dose(t)\",disabled=True,\n",
    "                              layout=ipywidgets.Layout(width='42%'))\n",
    "exec_button.on_click(on_exec_clicked)\n",
    "pred_button=ipywidgets.Button(description=\"Predict Response(t+1)\",disabled=False,\n",
    "                              layout=ipywidgets.Layout(width='42%'))\n",
    "pred_button.on_click(on_pred_clicked)\n",
    "\n",
    "#  Layout action buttons and info boxes\n",
    "action_box=ipywidgets.HBox([pred_button,exec_button],\n",
    "                          layout=ipywidgets.Layout(justify_content='center'))\n",
    "info_box=ipywidgets.HBox([y_text,nudge_text],\n",
    "                        layout=ipywidgets.Layout(justify_content='center'))\n",
    "y_text.disabled=True;\n",
    "display(a1)\n",
    "display(info_box)\n",
    "display(action_box)\n",
    "fig1=plt.figure(1,figsize=(10.5,3.5))\n",
    "ax1=fig1.add_subplot(1,2,1)\n",
    "y_line,yl2,yl3 = ax1.plot(t_data,y_data,'b',\n",
    "                          t_data,y_limits+ref+threshold,'r',\n",
    "                          t_data,y_limits+ref-threshold,'r')\n",
    "plt.grid(True)\n",
    "plt.xlim(0,10)\n",
    "plt.ylim(4,6)\n",
    "plt.xlabel('Time')\n",
    "plt.ylabel('Response')\n",
    "ax2=fig1.add_subplot(1,2,2)\n",
    "u_line,  = ax2.plot(t_data,u_data)\n",
    "x_line,  = ax2.plot(t_data,x_data)\n",
    "plt.legend((x_line,u_line),('State x','Dose'))\n",
    "plt.grid(True)\n",
    "plt.xlim(0,10)\n",
    "plt.ylim(-10,10)\n",
    "plt.xlabel('Time');\n"
   ]
  },
  {
   "cell_type": "markdown",
   "metadata": {},
   "source": [
    "If you have been dilligent about bringing prediction close to the target at each time point, you will see \n",
    "that while the output remains tightly regulated, both inputs $u(t)$ and state $x(t)$ are oscillating and blowing up! \n",
    "\n",
    "So, with prefect prediction and output control, this system often blows up in attempting to control it tightly.\n",
    "\n",
    "On the other hand, for some initial states, if you happen to do just enough to get the response in the range an not move the input much you will successfully complete the ten steps. You can go back to the code cell that assinged the initial state and excute the subsequent code cells to get a better sense of the issue.\n",
    "\n",
    "One is reminded of the adage \"Be careful what you wish for\" and \"Unintended consequences\".  It is remarkable that this happens with a trivially simple, stable, eniterly deterministic and predictable linear dynamical system."
   ]
  },
  {
   "cell_type": "code",
   "execution_count": 6,
   "metadata": {
    "scrolled": false
   },
   "outputs": [
    {
     "name": "stdout",
     "output_type": "stream",
     "text": [
      "Saved y(t) values: [       nan 5.19601926 4.84521348 4.84764944 5.00135461 4.92894822\n",
      " 4.87826376 4.86278463 4.88794924 4.90556447 4.91789513]\n",
      "Saved u(t) values: [0.41 0.47 0.61 0.51 0.51 0.51 0.53 0.53 0.53 0.53  nan]\n"
     ]
    },
    {
     "data": {
      "application/javascript": [
       "/* Put everything inside the global mpl namespace */\n",
       "window.mpl = {};\n",
       "\n",
       "\n",
       "mpl.get_websocket_type = function() {\n",
       "    if (typeof(WebSocket) !== 'undefined') {\n",
       "        return WebSocket;\n",
       "    } else if (typeof(MozWebSocket) !== 'undefined') {\n",
       "        return MozWebSocket;\n",
       "    } else {\n",
       "        alert('Your browser does not have WebSocket support. ' +\n",
       "              'Please try Chrome, Safari or Firefox ≥ 6. ' +\n",
       "              'Firefox 4 and 5 are also supported but you ' +\n",
       "              'have to enable WebSockets in about:config.');\n",
       "    };\n",
       "}\n",
       "\n",
       "mpl.figure = function(figure_id, websocket, ondownload, parent_element) {\n",
       "    this.id = figure_id;\n",
       "\n",
       "    this.ws = websocket;\n",
       "\n",
       "    this.supports_binary = (this.ws.binaryType != undefined);\n",
       "\n",
       "    if (!this.supports_binary) {\n",
       "        var warnings = document.getElementById(\"mpl-warnings\");\n",
       "        if (warnings) {\n",
       "            warnings.style.display = 'block';\n",
       "            warnings.textContent = (\n",
       "                \"This browser does not support binary websocket messages. \" +\n",
       "                    \"Performance may be slow.\");\n",
       "        }\n",
       "    }\n",
       "\n",
       "    this.imageObj = new Image();\n",
       "\n",
       "    this.context = undefined;\n",
       "    this.message = undefined;\n",
       "    this.canvas = undefined;\n",
       "    this.rubberband_canvas = undefined;\n",
       "    this.rubberband_context = undefined;\n",
       "    this.format_dropdown = undefined;\n",
       "\n",
       "    this.image_mode = 'full';\n",
       "\n",
       "    this.root = $('<div/>');\n",
       "    this._root_extra_style(this.root)\n",
       "    this.root.attr('style', 'display: inline-block');\n",
       "\n",
       "    $(parent_element).append(this.root);\n",
       "\n",
       "    this._init_header(this);\n",
       "    this._init_canvas(this);\n",
       "    this._init_toolbar(this);\n",
       "\n",
       "    var fig = this;\n",
       "\n",
       "    this.waiting = false;\n",
       "\n",
       "    this.ws.onopen =  function () {\n",
       "            fig.send_message(\"supports_binary\", {value: fig.supports_binary});\n",
       "            fig.send_message(\"send_image_mode\", {});\n",
       "            if (mpl.ratio != 1) {\n",
       "                fig.send_message(\"set_dpi_ratio\", {'dpi_ratio': mpl.ratio});\n",
       "            }\n",
       "            fig.send_message(\"refresh\", {});\n",
       "        }\n",
       "\n",
       "    this.imageObj.onload = function() {\n",
       "            if (fig.image_mode == 'full') {\n",
       "                // Full images could contain transparency (where diff images\n",
       "                // almost always do), so we need to clear the canvas so that\n",
       "                // there is no ghosting.\n",
       "                fig.context.clearRect(0, 0, fig.canvas.width, fig.canvas.height);\n",
       "            }\n",
       "            fig.context.drawImage(fig.imageObj, 0, 0);\n",
       "        };\n",
       "\n",
       "    this.imageObj.onunload = function() {\n",
       "        fig.ws.close();\n",
       "    }\n",
       "\n",
       "    this.ws.onmessage = this._make_on_message_function(this);\n",
       "\n",
       "    this.ondownload = ondownload;\n",
       "}\n",
       "\n",
       "mpl.figure.prototype._init_header = function() {\n",
       "    var titlebar = $(\n",
       "        '<div class=\"ui-dialog-titlebar ui-widget-header ui-corner-all ' +\n",
       "        'ui-helper-clearfix\"/>');\n",
       "    var titletext = $(\n",
       "        '<div class=\"ui-dialog-title\" style=\"width: 100%; ' +\n",
       "        'text-align: center; padding: 3px;\"/>');\n",
       "    titlebar.append(titletext)\n",
       "    this.root.append(titlebar);\n",
       "    this.header = titletext[0];\n",
       "}\n",
       "\n",
       "\n",
       "\n",
       "mpl.figure.prototype._canvas_extra_style = function(canvas_div) {\n",
       "\n",
       "}\n",
       "\n",
       "\n",
       "mpl.figure.prototype._root_extra_style = function(canvas_div) {\n",
       "\n",
       "}\n",
       "\n",
       "mpl.figure.prototype._init_canvas = function() {\n",
       "    var fig = this;\n",
       "\n",
       "    var canvas_div = $('<div/>');\n",
       "\n",
       "    canvas_div.attr('style', 'position: relative; clear: both; outline: 0');\n",
       "\n",
       "    function canvas_keyboard_event(event) {\n",
       "        return fig.key_event(event, event['data']);\n",
       "    }\n",
       "\n",
       "    canvas_div.keydown('key_press', canvas_keyboard_event);\n",
       "    canvas_div.keyup('key_release', canvas_keyboard_event);\n",
       "    this.canvas_div = canvas_div\n",
       "    this._canvas_extra_style(canvas_div)\n",
       "    this.root.append(canvas_div);\n",
       "\n",
       "    var canvas = $('<canvas/>');\n",
       "    canvas.addClass('mpl-canvas');\n",
       "    canvas.attr('style', \"left: 0; top: 0; z-index: 0; outline: 0\")\n",
       "\n",
       "    this.canvas = canvas[0];\n",
       "    this.context = canvas[0].getContext(\"2d\");\n",
       "\n",
       "    var backingStore = this.context.backingStorePixelRatio ||\n",
       "\tthis.context.webkitBackingStorePixelRatio ||\n",
       "\tthis.context.mozBackingStorePixelRatio ||\n",
       "\tthis.context.msBackingStorePixelRatio ||\n",
       "\tthis.context.oBackingStorePixelRatio ||\n",
       "\tthis.context.backingStorePixelRatio || 1;\n",
       "\n",
       "    mpl.ratio = (window.devicePixelRatio || 1) / backingStore;\n",
       "\n",
       "    var rubberband = $('<canvas/>');\n",
       "    rubberband.attr('style', \"position: absolute; left: 0; top: 0; z-index: 1;\")\n",
       "\n",
       "    var pass_mouse_events = true;\n",
       "\n",
       "    canvas_div.resizable({\n",
       "        start: function(event, ui) {\n",
       "            pass_mouse_events = false;\n",
       "        },\n",
       "        resize: function(event, ui) {\n",
       "            fig.request_resize(ui.size.width, ui.size.height);\n",
       "        },\n",
       "        stop: function(event, ui) {\n",
       "            pass_mouse_events = true;\n",
       "            fig.request_resize(ui.size.width, ui.size.height);\n",
       "        },\n",
       "    });\n",
       "\n",
       "    function mouse_event_fn(event) {\n",
       "        if (pass_mouse_events)\n",
       "            return fig.mouse_event(event, event['data']);\n",
       "    }\n",
       "\n",
       "    rubberband.mousedown('button_press', mouse_event_fn);\n",
       "    rubberband.mouseup('button_release', mouse_event_fn);\n",
       "    // Throttle sequential mouse events to 1 every 20ms.\n",
       "    rubberband.mousemove('motion_notify', mouse_event_fn);\n",
       "\n",
       "    rubberband.mouseenter('figure_enter', mouse_event_fn);\n",
       "    rubberband.mouseleave('figure_leave', mouse_event_fn);\n",
       "\n",
       "    canvas_div.on(\"wheel\", function (event) {\n",
       "        event = event.originalEvent;\n",
       "        event['data'] = 'scroll'\n",
       "        if (event.deltaY < 0) {\n",
       "            event.step = 1;\n",
       "        } else {\n",
       "            event.step = -1;\n",
       "        }\n",
       "        mouse_event_fn(event);\n",
       "    });\n",
       "\n",
       "    canvas_div.append(canvas);\n",
       "    canvas_div.append(rubberband);\n",
       "\n",
       "    this.rubberband = rubberband;\n",
       "    this.rubberband_canvas = rubberband[0];\n",
       "    this.rubberband_context = rubberband[0].getContext(\"2d\");\n",
       "    this.rubberband_context.strokeStyle = \"#000000\";\n",
       "\n",
       "    this._resize_canvas = function(width, height) {\n",
       "        // Keep the size of the canvas, canvas container, and rubber band\n",
       "        // canvas in synch.\n",
       "        canvas_div.css('width', width)\n",
       "        canvas_div.css('height', height)\n",
       "\n",
       "        canvas.attr('width', width * mpl.ratio);\n",
       "        canvas.attr('height', height * mpl.ratio);\n",
       "        canvas.attr('style', 'width: ' + width + 'px; height: ' + height + 'px;');\n",
       "\n",
       "        rubberband.attr('width', width);\n",
       "        rubberband.attr('height', height);\n",
       "    }\n",
       "\n",
       "    // Set the figure to an initial 600x600px, this will subsequently be updated\n",
       "    // upon first draw.\n",
       "    this._resize_canvas(600, 600);\n",
       "\n",
       "    // Disable right mouse context menu.\n",
       "    $(this.rubberband_canvas).bind(\"contextmenu\",function(e){\n",
       "        return false;\n",
       "    });\n",
       "\n",
       "    function set_focus () {\n",
       "        canvas.focus();\n",
       "        canvas_div.focus();\n",
       "    }\n",
       "\n",
       "    window.setTimeout(set_focus, 100);\n",
       "}\n",
       "\n",
       "mpl.figure.prototype._init_toolbar = function() {\n",
       "    var fig = this;\n",
       "\n",
       "    var nav_element = $('<div/>');\n",
       "    nav_element.attr('style', 'width: 100%');\n",
       "    this.root.append(nav_element);\n",
       "\n",
       "    // Define a callback function for later on.\n",
       "    function toolbar_event(event) {\n",
       "        return fig.toolbar_button_onclick(event['data']);\n",
       "    }\n",
       "    function toolbar_mouse_event(event) {\n",
       "        return fig.toolbar_button_onmouseover(event['data']);\n",
       "    }\n",
       "\n",
       "    for(var toolbar_ind in mpl.toolbar_items) {\n",
       "        var name = mpl.toolbar_items[toolbar_ind][0];\n",
       "        var tooltip = mpl.toolbar_items[toolbar_ind][1];\n",
       "        var image = mpl.toolbar_items[toolbar_ind][2];\n",
       "        var method_name = mpl.toolbar_items[toolbar_ind][3];\n",
       "\n",
       "        if (!name) {\n",
       "            // put a spacer in here.\n",
       "            continue;\n",
       "        }\n",
       "        var button = $('<button/>');\n",
       "        button.addClass('ui-button ui-widget ui-state-default ui-corner-all ' +\n",
       "                        'ui-button-icon-only');\n",
       "        button.attr('role', 'button');\n",
       "        button.attr('aria-disabled', 'false');\n",
       "        button.click(method_name, toolbar_event);\n",
       "        button.mouseover(tooltip, toolbar_mouse_event);\n",
       "\n",
       "        var icon_img = $('<span/>');\n",
       "        icon_img.addClass('ui-button-icon-primary ui-icon');\n",
       "        icon_img.addClass(image);\n",
       "        icon_img.addClass('ui-corner-all');\n",
       "\n",
       "        var tooltip_span = $('<span/>');\n",
       "        tooltip_span.addClass('ui-button-text');\n",
       "        tooltip_span.html(tooltip);\n",
       "\n",
       "        button.append(icon_img);\n",
       "        button.append(tooltip_span);\n",
       "\n",
       "        nav_element.append(button);\n",
       "    }\n",
       "\n",
       "    var fmt_picker_span = $('<span/>');\n",
       "\n",
       "    var fmt_picker = $('<select/>');\n",
       "    fmt_picker.addClass('mpl-toolbar-option ui-widget ui-widget-content');\n",
       "    fmt_picker_span.append(fmt_picker);\n",
       "    nav_element.append(fmt_picker_span);\n",
       "    this.format_dropdown = fmt_picker[0];\n",
       "\n",
       "    for (var ind in mpl.extensions) {\n",
       "        var fmt = mpl.extensions[ind];\n",
       "        var option = $(\n",
       "            '<option/>', {selected: fmt === mpl.default_extension}).html(fmt);\n",
       "        fmt_picker.append(option);\n",
       "    }\n",
       "\n",
       "    // Add hover states to the ui-buttons\n",
       "    $( \".ui-button\" ).hover(\n",
       "        function() { $(this).addClass(\"ui-state-hover\");},\n",
       "        function() { $(this).removeClass(\"ui-state-hover\");}\n",
       "    );\n",
       "\n",
       "    var status_bar = $('<span class=\"mpl-message\"/>');\n",
       "    nav_element.append(status_bar);\n",
       "    this.message = status_bar[0];\n",
       "}\n",
       "\n",
       "mpl.figure.prototype.request_resize = function(x_pixels, y_pixels) {\n",
       "    // Request matplotlib to resize the figure. Matplotlib will then trigger a resize in the client,\n",
       "    // which will in turn request a refresh of the image.\n",
       "    this.send_message('resize', {'width': x_pixels, 'height': y_pixels});\n",
       "}\n",
       "\n",
       "mpl.figure.prototype.send_message = function(type, properties) {\n",
       "    properties['type'] = type;\n",
       "    properties['figure_id'] = this.id;\n",
       "    this.ws.send(JSON.stringify(properties));\n",
       "}\n",
       "\n",
       "mpl.figure.prototype.send_draw_message = function() {\n",
       "    if (!this.waiting) {\n",
       "        this.waiting = true;\n",
       "        this.ws.send(JSON.stringify({type: \"draw\", figure_id: this.id}));\n",
       "    }\n",
       "}\n",
       "\n",
       "\n",
       "mpl.figure.prototype.handle_save = function(fig, msg) {\n",
       "    var format_dropdown = fig.format_dropdown;\n",
       "    var format = format_dropdown.options[format_dropdown.selectedIndex].value;\n",
       "    fig.ondownload(fig, format);\n",
       "}\n",
       "\n",
       "\n",
       "mpl.figure.prototype.handle_resize = function(fig, msg) {\n",
       "    var size = msg['size'];\n",
       "    if (size[0] != fig.canvas.width || size[1] != fig.canvas.height) {\n",
       "        fig._resize_canvas(size[0], size[1]);\n",
       "        fig.send_message(\"refresh\", {});\n",
       "    };\n",
       "}\n",
       "\n",
       "mpl.figure.prototype.handle_rubberband = function(fig, msg) {\n",
       "    var x0 = msg['x0'] / mpl.ratio;\n",
       "    var y0 = (fig.canvas.height - msg['y0']) / mpl.ratio;\n",
       "    var x1 = msg['x1'] / mpl.ratio;\n",
       "    var y1 = (fig.canvas.height - msg['y1']) / mpl.ratio;\n",
       "    x0 = Math.floor(x0) + 0.5;\n",
       "    y0 = Math.floor(y0) + 0.5;\n",
       "    x1 = Math.floor(x1) + 0.5;\n",
       "    y1 = Math.floor(y1) + 0.5;\n",
       "    var min_x = Math.min(x0, x1);\n",
       "    var min_y = Math.min(y0, y1);\n",
       "    var width = Math.abs(x1 - x0);\n",
       "    var height = Math.abs(y1 - y0);\n",
       "\n",
       "    fig.rubberband_context.clearRect(\n",
       "        0, 0, fig.canvas.width, fig.canvas.height);\n",
       "\n",
       "    fig.rubberband_context.strokeRect(min_x, min_y, width, height);\n",
       "}\n",
       "\n",
       "mpl.figure.prototype.handle_figure_label = function(fig, msg) {\n",
       "    // Updates the figure title.\n",
       "    fig.header.textContent = msg['label'];\n",
       "}\n",
       "\n",
       "mpl.figure.prototype.handle_cursor = function(fig, msg) {\n",
       "    var cursor = msg['cursor'];\n",
       "    switch(cursor)\n",
       "    {\n",
       "    case 0:\n",
       "        cursor = 'pointer';\n",
       "        break;\n",
       "    case 1:\n",
       "        cursor = 'default';\n",
       "        break;\n",
       "    case 2:\n",
       "        cursor = 'crosshair';\n",
       "        break;\n",
       "    case 3:\n",
       "        cursor = 'move';\n",
       "        break;\n",
       "    }\n",
       "    fig.rubberband_canvas.style.cursor = cursor;\n",
       "}\n",
       "\n",
       "mpl.figure.prototype.handle_message = function(fig, msg) {\n",
       "    fig.message.textContent = msg['message'];\n",
       "}\n",
       "\n",
       "mpl.figure.prototype.handle_draw = function(fig, msg) {\n",
       "    // Request the server to send over a new figure.\n",
       "    fig.send_draw_message();\n",
       "}\n",
       "\n",
       "mpl.figure.prototype.handle_image_mode = function(fig, msg) {\n",
       "    fig.image_mode = msg['mode'];\n",
       "}\n",
       "\n",
       "mpl.figure.prototype.updated_canvas_event = function() {\n",
       "    // Called whenever the canvas gets updated.\n",
       "    this.send_message(\"ack\", {});\n",
       "}\n",
       "\n",
       "// A function to construct a web socket function for onmessage handling.\n",
       "// Called in the figure constructor.\n",
       "mpl.figure.prototype._make_on_message_function = function(fig) {\n",
       "    return function socket_on_message(evt) {\n",
       "        if (evt.data instanceof Blob) {\n",
       "            /* FIXME: We get \"Resource interpreted as Image but\n",
       "             * transferred with MIME type text/plain:\" errors on\n",
       "             * Chrome.  But how to set the MIME type?  It doesn't seem\n",
       "             * to be part of the websocket stream */\n",
       "            evt.data.type = \"image/png\";\n",
       "\n",
       "            /* Free the memory for the previous frames */\n",
       "            if (fig.imageObj.src) {\n",
       "                (window.URL || window.webkitURL).revokeObjectURL(\n",
       "                    fig.imageObj.src);\n",
       "            }\n",
       "\n",
       "            fig.imageObj.src = (window.URL || window.webkitURL).createObjectURL(\n",
       "                evt.data);\n",
       "            fig.updated_canvas_event();\n",
       "            fig.waiting = false;\n",
       "            return;\n",
       "        }\n",
       "        else if (typeof evt.data === 'string' && evt.data.slice(0, 21) == \"data:image/png;base64\") {\n",
       "            fig.imageObj.src = evt.data;\n",
       "            fig.updated_canvas_event();\n",
       "            fig.waiting = false;\n",
       "            return;\n",
       "        }\n",
       "\n",
       "        var msg = JSON.parse(evt.data);\n",
       "        var msg_type = msg['type'];\n",
       "\n",
       "        // Call the  \"handle_{type}\" callback, which takes\n",
       "        // the figure and JSON message as its only arguments.\n",
       "        try {\n",
       "            var callback = fig[\"handle_\" + msg_type];\n",
       "        } catch (e) {\n",
       "            console.log(\"No handler for the '\" + msg_type + \"' message type: \", msg);\n",
       "            return;\n",
       "        }\n",
       "\n",
       "        if (callback) {\n",
       "            try {\n",
       "                // console.log(\"Handling '\" + msg_type + \"' message: \", msg);\n",
       "                callback(fig, msg);\n",
       "            } catch (e) {\n",
       "                console.log(\"Exception inside the 'handler_\" + msg_type + \"' callback:\", e, e.stack, msg);\n",
       "            }\n",
       "        }\n",
       "    };\n",
       "}\n",
       "\n",
       "// from http://stackoverflow.com/questions/1114465/getting-mouse-location-in-canvas\n",
       "mpl.findpos = function(e) {\n",
       "    //this section is from http://www.quirksmode.org/js/events_properties.html\n",
       "    var targ;\n",
       "    if (!e)\n",
       "        e = window.event;\n",
       "    if (e.target)\n",
       "        targ = e.target;\n",
       "    else if (e.srcElement)\n",
       "        targ = e.srcElement;\n",
       "    if (targ.nodeType == 3) // defeat Safari bug\n",
       "        targ = targ.parentNode;\n",
       "\n",
       "    // jQuery normalizes the pageX and pageY\n",
       "    // pageX,Y are the mouse positions relative to the document\n",
       "    // offset() returns the position of the element relative to the document\n",
       "    var x = e.pageX - $(targ).offset().left;\n",
       "    var y = e.pageY - $(targ).offset().top;\n",
       "\n",
       "    return {\"x\": x, \"y\": y};\n",
       "};\n",
       "\n",
       "/*\n",
       " * return a copy of an object with only non-object keys\n",
       " * we need this to avoid circular references\n",
       " * http://stackoverflow.com/a/24161582/3208463\n",
       " */\n",
       "function simpleKeys (original) {\n",
       "  return Object.keys(original).reduce(function (obj, key) {\n",
       "    if (typeof original[key] !== 'object')\n",
       "        obj[key] = original[key]\n",
       "    return obj;\n",
       "  }, {});\n",
       "}\n",
       "\n",
       "mpl.figure.prototype.mouse_event = function(event, name) {\n",
       "    var canvas_pos = mpl.findpos(event)\n",
       "\n",
       "    if (name === 'button_press')\n",
       "    {\n",
       "        this.canvas.focus();\n",
       "        this.canvas_div.focus();\n",
       "    }\n",
       "\n",
       "    var x = canvas_pos.x * mpl.ratio;\n",
       "    var y = canvas_pos.y * mpl.ratio;\n",
       "\n",
       "    this.send_message(name, {x: x, y: y, button: event.button,\n",
       "                             step: event.step,\n",
       "                             guiEvent: simpleKeys(event)});\n",
       "\n",
       "    /* This prevents the web browser from automatically changing to\n",
       "     * the text insertion cursor when the button is pressed.  We want\n",
       "     * to control all of the cursor setting manually through the\n",
       "     * 'cursor' event from matplotlib */\n",
       "    event.preventDefault();\n",
       "    return false;\n",
       "}\n",
       "\n",
       "mpl.figure.prototype._key_event_extra = function(event, name) {\n",
       "    // Handle any extra behaviour associated with a key event\n",
       "}\n",
       "\n",
       "mpl.figure.prototype.key_event = function(event, name) {\n",
       "\n",
       "    // Prevent repeat events\n",
       "    if (name == 'key_press')\n",
       "    {\n",
       "        if (event.which === this._key)\n",
       "            return;\n",
       "        else\n",
       "            this._key = event.which;\n",
       "    }\n",
       "    if (name == 'key_release')\n",
       "        this._key = null;\n",
       "\n",
       "    var value = '';\n",
       "    if (event.ctrlKey && event.which != 17)\n",
       "        value += \"ctrl+\";\n",
       "    if (event.altKey && event.which != 18)\n",
       "        value += \"alt+\";\n",
       "    if (event.shiftKey && event.which != 16)\n",
       "        value += \"shift+\";\n",
       "\n",
       "    value += 'k';\n",
       "    value += event.which.toString();\n",
       "\n",
       "    this._key_event_extra(event, name);\n",
       "\n",
       "    this.send_message(name, {key: value,\n",
       "                             guiEvent: simpleKeys(event)});\n",
       "    return false;\n",
       "}\n",
       "\n",
       "mpl.figure.prototype.toolbar_button_onclick = function(name) {\n",
       "    if (name == 'download') {\n",
       "        this.handle_save(this, null);\n",
       "    } else {\n",
       "        this.send_message(\"toolbar_button\", {name: name});\n",
       "    }\n",
       "};\n",
       "\n",
       "mpl.figure.prototype.toolbar_button_onmouseover = function(tooltip) {\n",
       "    this.message.textContent = tooltip;\n",
       "};\n",
       "mpl.toolbar_items = [[\"Home\", \"Reset original view\", \"fa fa-home icon-home\", \"home\"], [\"Back\", \"Back to previous view\", \"fa fa-arrow-left icon-arrow-left\", \"back\"], [\"Forward\", \"Forward to next view\", \"fa fa-arrow-right icon-arrow-right\", \"forward\"], [\"\", \"\", \"\", \"\"], [\"Pan\", \"Pan axes with left mouse, zoom with right\", \"fa fa-arrows icon-move\", \"pan\"], [\"Zoom\", \"Zoom to rectangle\", \"fa fa-square-o icon-check-empty\", \"zoom\"], [\"\", \"\", \"\", \"\"], [\"Download\", \"Download plot\", \"fa fa-floppy-o icon-save\", \"download\"]];\n",
       "\n",
       "mpl.extensions = [\"eps\", \"pdf\", \"png\", \"ps\", \"raw\", \"svg\"];\n",
       "\n",
       "mpl.default_extension = \"png\";var comm_websocket_adapter = function(comm) {\n",
       "    // Create a \"websocket\"-like object which calls the given IPython comm\n",
       "    // object with the appropriate methods. Currently this is a non binary\n",
       "    // socket, so there is still some room for performance tuning.\n",
       "    var ws = {};\n",
       "\n",
       "    ws.close = function() {\n",
       "        comm.close()\n",
       "    };\n",
       "    ws.send = function(m) {\n",
       "        //console.log('sending', m);\n",
       "        comm.send(m);\n",
       "    };\n",
       "    // Register the callback with on_msg.\n",
       "    comm.on_msg(function(msg) {\n",
       "        //console.log('receiving', msg['content']['data'], msg);\n",
       "        // Pass the mpl event to the overridden (by mpl) onmessage function.\n",
       "        ws.onmessage(msg['content']['data'])\n",
       "    });\n",
       "    return ws;\n",
       "}\n",
       "\n",
       "mpl.mpl_figure_comm = function(comm, msg) {\n",
       "    // This is the function which gets called when the mpl process\n",
       "    // starts-up an IPython Comm through the \"matplotlib\" channel.\n",
       "\n",
       "    var id = msg.content.data.id;\n",
       "    // Get hold of the div created by the display call when the Comm\n",
       "    // socket was opened in Python.\n",
       "    var element = $(\"#\" + id);\n",
       "    var ws_proxy = comm_websocket_adapter(comm)\n",
       "\n",
       "    function ondownload(figure, format) {\n",
       "        window.open(figure.imageObj.src);\n",
       "    }\n",
       "\n",
       "    var fig = new mpl.figure(id, ws_proxy,\n",
       "                           ondownload,\n",
       "                           element.get(0));\n",
       "\n",
       "    // Call onopen now - mpl needs it, as it is assuming we've passed it a real\n",
       "    // web socket which is closed, not our websocket->open comm proxy.\n",
       "    ws_proxy.onopen();\n",
       "\n",
       "    fig.parent_element = element.get(0);\n",
       "    fig.cell_info = mpl.find_output_cell(\"<div id='\" + id + \"'></div>\");\n",
       "    if (!fig.cell_info) {\n",
       "        console.error(\"Failed to find cell for figure\", id, fig);\n",
       "        return;\n",
       "    }\n",
       "\n",
       "    var output_index = fig.cell_info[2]\n",
       "    var cell = fig.cell_info[0];\n",
       "\n",
       "};\n",
       "\n",
       "mpl.figure.prototype.handle_close = function(fig, msg) {\n",
       "    var width = fig.canvas.width/mpl.ratio\n",
       "    fig.root.unbind('remove')\n",
       "\n",
       "    // Update the output cell to use the data from the current canvas.\n",
       "    fig.push_to_output();\n",
       "    var dataURL = fig.canvas.toDataURL();\n",
       "    // Re-enable the keyboard manager in IPython - without this line, in FF,\n",
       "    // the notebook keyboard shortcuts fail.\n",
       "    IPython.keyboard_manager.enable()\n",
       "    $(fig.parent_element).html('<img src=\"' + dataURL + '\" width=\"' + width + '\">');\n",
       "    fig.close_ws(fig, msg);\n",
       "}\n",
       "\n",
       "mpl.figure.prototype.close_ws = function(fig, msg){\n",
       "    fig.send_message('closing', msg);\n",
       "    // fig.ws.close()\n",
       "}\n",
       "\n",
       "mpl.figure.prototype.push_to_output = function(remove_interactive) {\n",
       "    // Turn the data on the canvas into data in the output cell.\n",
       "    var width = this.canvas.width/mpl.ratio\n",
       "    var dataURL = this.canvas.toDataURL();\n",
       "    this.cell_info[1]['text/html'] = '<img src=\"' + dataURL + '\" width=\"' + width + '\">';\n",
       "}\n",
       "\n",
       "mpl.figure.prototype.updated_canvas_event = function() {\n",
       "    // Tell IPython that the notebook contents must change.\n",
       "    IPython.notebook.set_dirty(true);\n",
       "    this.send_message(\"ack\", {});\n",
       "    var fig = this;\n",
       "    // Wait a second, then push the new image to the DOM so\n",
       "    // that it is saved nicely (might be nice to debounce this).\n",
       "    setTimeout(function () { fig.push_to_output() }, 1000);\n",
       "}\n",
       "\n",
       "mpl.figure.prototype._init_toolbar = function() {\n",
       "    var fig = this;\n",
       "\n",
       "    var nav_element = $('<div/>');\n",
       "    nav_element.attr('style', 'width: 100%');\n",
       "    this.root.append(nav_element);\n",
       "\n",
       "    // Define a callback function for later on.\n",
       "    function toolbar_event(event) {\n",
       "        return fig.toolbar_button_onclick(event['data']);\n",
       "    }\n",
       "    function toolbar_mouse_event(event) {\n",
       "        return fig.toolbar_button_onmouseover(event['data']);\n",
       "    }\n",
       "\n",
       "    for(var toolbar_ind in mpl.toolbar_items){\n",
       "        var name = mpl.toolbar_items[toolbar_ind][0];\n",
       "        var tooltip = mpl.toolbar_items[toolbar_ind][1];\n",
       "        var image = mpl.toolbar_items[toolbar_ind][2];\n",
       "        var method_name = mpl.toolbar_items[toolbar_ind][3];\n",
       "\n",
       "        if (!name) { continue; };\n",
       "\n",
       "        var button = $('<button class=\"btn btn-default\" href=\"#\" title=\"' + name + '\"><i class=\"fa ' + image + ' fa-lg\"></i></button>');\n",
       "        button.click(method_name, toolbar_event);\n",
       "        button.mouseover(tooltip, toolbar_mouse_event);\n",
       "        nav_element.append(button);\n",
       "    }\n",
       "\n",
       "    // Add the status bar.\n",
       "    var status_bar = $('<span class=\"mpl-message\" style=\"text-align:right; float: right;\"/>');\n",
       "    nav_element.append(status_bar);\n",
       "    this.message = status_bar[0];\n",
       "\n",
       "    // Add the close button to the window.\n",
       "    var buttongrp = $('<div class=\"btn-group inline pull-right\"></div>');\n",
       "    var button = $('<button class=\"btn btn-mini btn-primary\" href=\"#\" title=\"Stop Interaction\"><i class=\"fa fa-power-off icon-remove icon-large\"></i></button>');\n",
       "    button.click(function (evt) { fig.handle_close(fig, {}); } );\n",
       "    button.mouseover('Stop Interaction', toolbar_mouse_event);\n",
       "    buttongrp.append(button);\n",
       "    var titlebar = this.root.find($('.ui-dialog-titlebar'));\n",
       "    titlebar.prepend(buttongrp);\n",
       "}\n",
       "\n",
       "mpl.figure.prototype._root_extra_style = function(el){\n",
       "    var fig = this\n",
       "    el.on(\"remove\", function(){\n",
       "\tfig.close_ws(fig, {});\n",
       "    });\n",
       "}\n",
       "\n",
       "mpl.figure.prototype._canvas_extra_style = function(el){\n",
       "    // this is important to make the div 'focusable\n",
       "    el.attr('tabindex', 0)\n",
       "    // reach out to IPython and tell the keyboard manager to turn it's self\n",
       "    // off when our div gets focus\n",
       "\n",
       "    // location in version 3\n",
       "    if (IPython.notebook.keyboard_manager) {\n",
       "        IPython.notebook.keyboard_manager.register_events(el);\n",
       "    }\n",
       "    else {\n",
       "        // location in version 2\n",
       "        IPython.keyboard_manager.register_events(el);\n",
       "    }\n",
       "\n",
       "}\n",
       "\n",
       "mpl.figure.prototype._key_event_extra = function(event, name) {\n",
       "    var manager = IPython.notebook.keyboard_manager;\n",
       "    if (!manager)\n",
       "        manager = IPython.keyboard_manager;\n",
       "\n",
       "    // Check for shift+enter\n",
       "    if (event.shiftKey && event.which == 13) {\n",
       "        this.canvas_div.blur();\n",
       "        event.shiftKey = false;\n",
       "        // Send a \"J\" for go to next cell\n",
       "        event.which = 74;\n",
       "        event.keyCode = 74;\n",
       "        manager.command_mode();\n",
       "        manager.handle_keydown(event);\n",
       "    }\n",
       "}\n",
       "\n",
       "mpl.figure.prototype.handle_save = function(fig, msg) {\n",
       "    fig.ondownload(fig, null);\n",
       "}\n",
       "\n",
       "\n",
       "mpl.find_output_cell = function(html_output) {\n",
       "    // Return the cell and output element which can be found *uniquely* in the notebook.\n",
       "    // Note - this is a bit hacky, but it is done because the \"notebook_saving.Notebook\"\n",
       "    // IPython event is triggered only after the cells have been serialised, which for\n",
       "    // our purposes (turning an active figure into a static one), is too late.\n",
       "    var cells = IPython.notebook.get_cells();\n",
       "    var ncells = cells.length;\n",
       "    for (var i=0; i<ncells; i++) {\n",
       "        var cell = cells[i];\n",
       "        if (cell.cell_type === 'code'){\n",
       "            for (var j=0; j<cell.output_area.outputs.length; j++) {\n",
       "                var data = cell.output_area.outputs[j];\n",
       "                if (data.data) {\n",
       "                    // IPython >= 3 moved mimebundle to data attribute of output\n",
       "                    data = data.data;\n",
       "                }\n",
       "                if (data['text/html'] == html_output) {\n",
       "                    return [cell, data, j];\n",
       "                }\n",
       "            }\n",
       "        }\n",
       "    }\n",
       "}\n",
       "\n",
       "// Register the function which deals with the matplotlib target/channel.\n",
       "// The kernel may be null if the page has been refreshed.\n",
       "if (IPython.notebook.kernel != null) {\n",
       "    IPython.notebook.kernel.comm_manager.register_target('matplotlib', mpl.mpl_figure_comm);\n",
       "}\n"
      ],
      "text/plain": [
       "<IPython.core.display.Javascript object>"
      ]
     },
     "metadata": {},
     "output_type": "display_data"
    },
    {
     "data": {
      "text/html": [
       "<img src=\"data:image/png;base64,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\" width=\"1100\">"
      ],
      "text/plain": [
       "<IPython.core.display.HTML object>"
      ]
     },
     "metadata": {},
     "output_type": "display_data"
    },
    {
     "data": {
      "application/javascript": [
       "/* Put everything inside the global mpl namespace */\n",
       "window.mpl = {};\n",
       "\n",
       "\n",
       "mpl.get_websocket_type = function() {\n",
       "    if (typeof(WebSocket) !== 'undefined') {\n",
       "        return WebSocket;\n",
       "    } else if (typeof(MozWebSocket) !== 'undefined') {\n",
       "        return MozWebSocket;\n",
       "    } else {\n",
       "        alert('Your browser does not have WebSocket support. ' +\n",
       "              'Please try Chrome, Safari or Firefox ≥ 6. ' +\n",
       "              'Firefox 4 and 5 are also supported but you ' +\n",
       "              'have to enable WebSockets in about:config.');\n",
       "    };\n",
       "}\n",
       "\n",
       "mpl.figure = function(figure_id, websocket, ondownload, parent_element) {\n",
       "    this.id = figure_id;\n",
       "\n",
       "    this.ws = websocket;\n",
       "\n",
       "    this.supports_binary = (this.ws.binaryType != undefined);\n",
       "\n",
       "    if (!this.supports_binary) {\n",
       "        var warnings = document.getElementById(\"mpl-warnings\");\n",
       "        if (warnings) {\n",
       "            warnings.style.display = 'block';\n",
       "            warnings.textContent = (\n",
       "                \"This browser does not support binary websocket messages. \" +\n",
       "                    \"Performance may be slow.\");\n",
       "        }\n",
       "    }\n",
       "\n",
       "    this.imageObj = new Image();\n",
       "\n",
       "    this.context = undefined;\n",
       "    this.message = undefined;\n",
       "    this.canvas = undefined;\n",
       "    this.rubberband_canvas = undefined;\n",
       "    this.rubberband_context = undefined;\n",
       "    this.format_dropdown = undefined;\n",
       "\n",
       "    this.image_mode = 'full';\n",
       "\n",
       "    this.root = $('<div/>');\n",
       "    this._root_extra_style(this.root)\n",
       "    this.root.attr('style', 'display: inline-block');\n",
       "\n",
       "    $(parent_element).append(this.root);\n",
       "\n",
       "    this._init_header(this);\n",
       "    this._init_canvas(this);\n",
       "    this._init_toolbar(this);\n",
       "\n",
       "    var fig = this;\n",
       "\n",
       "    this.waiting = false;\n",
       "\n",
       "    this.ws.onopen =  function () {\n",
       "            fig.send_message(\"supports_binary\", {value: fig.supports_binary});\n",
       "            fig.send_message(\"send_image_mode\", {});\n",
       "            if (mpl.ratio != 1) {\n",
       "                fig.send_message(\"set_dpi_ratio\", {'dpi_ratio': mpl.ratio});\n",
       "            }\n",
       "            fig.send_message(\"refresh\", {});\n",
       "        }\n",
       "\n",
       "    this.imageObj.onload = function() {\n",
       "            if (fig.image_mode == 'full') {\n",
       "                // Full images could contain transparency (where diff images\n",
       "                // almost always do), so we need to clear the canvas so that\n",
       "                // there is no ghosting.\n",
       "                fig.context.clearRect(0, 0, fig.canvas.width, fig.canvas.height);\n",
       "            }\n",
       "            fig.context.drawImage(fig.imageObj, 0, 0);\n",
       "        };\n",
       "\n",
       "    this.imageObj.onunload = function() {\n",
       "        fig.ws.close();\n",
       "    }\n",
       "\n",
       "    this.ws.onmessage = this._make_on_message_function(this);\n",
       "\n",
       "    this.ondownload = ondownload;\n",
       "}\n",
       "\n",
       "mpl.figure.prototype._init_header = function() {\n",
       "    var titlebar = $(\n",
       "        '<div class=\"ui-dialog-titlebar ui-widget-header ui-corner-all ' +\n",
       "        'ui-helper-clearfix\"/>');\n",
       "    var titletext = $(\n",
       "        '<div class=\"ui-dialog-title\" style=\"width: 100%; ' +\n",
       "        'text-align: center; padding: 3px;\"/>');\n",
       "    titlebar.append(titletext)\n",
       "    this.root.append(titlebar);\n",
       "    this.header = titletext[0];\n",
       "}\n",
       "\n",
       "\n",
       "\n",
       "mpl.figure.prototype._canvas_extra_style = function(canvas_div) {\n",
       "\n",
       "}\n",
       "\n",
       "\n",
       "mpl.figure.prototype._root_extra_style = function(canvas_div) {\n",
       "\n",
       "}\n",
       "\n",
       "mpl.figure.prototype._init_canvas = function() {\n",
       "    var fig = this;\n",
       "\n",
       "    var canvas_div = $('<div/>');\n",
       "\n",
       "    canvas_div.attr('style', 'position: relative; clear: both; outline: 0');\n",
       "\n",
       "    function canvas_keyboard_event(event) {\n",
       "        return fig.key_event(event, event['data']);\n",
       "    }\n",
       "\n",
       "    canvas_div.keydown('key_press', canvas_keyboard_event);\n",
       "    canvas_div.keyup('key_release', canvas_keyboard_event);\n",
       "    this.canvas_div = canvas_div\n",
       "    this._canvas_extra_style(canvas_div)\n",
       "    this.root.append(canvas_div);\n",
       "\n",
       "    var canvas = $('<canvas/>');\n",
       "    canvas.addClass('mpl-canvas');\n",
       "    canvas.attr('style', \"left: 0; top: 0; z-index: 0; outline: 0\")\n",
       "\n",
       "    this.canvas = canvas[0];\n",
       "    this.context = canvas[0].getContext(\"2d\");\n",
       "\n",
       "    var backingStore = this.context.backingStorePixelRatio ||\n",
       "\tthis.context.webkitBackingStorePixelRatio ||\n",
       "\tthis.context.mozBackingStorePixelRatio ||\n",
       "\tthis.context.msBackingStorePixelRatio ||\n",
       "\tthis.context.oBackingStorePixelRatio ||\n",
       "\tthis.context.backingStorePixelRatio || 1;\n",
       "\n",
       "    mpl.ratio = (window.devicePixelRatio || 1) / backingStore;\n",
       "\n",
       "    var rubberband = $('<canvas/>');\n",
       "    rubberband.attr('style', \"position: absolute; left: 0; top: 0; z-index: 1;\")\n",
       "\n",
       "    var pass_mouse_events = true;\n",
       "\n",
       "    canvas_div.resizable({\n",
       "        start: function(event, ui) {\n",
       "            pass_mouse_events = false;\n",
       "        },\n",
       "        resize: function(event, ui) {\n",
       "            fig.request_resize(ui.size.width, ui.size.height);\n",
       "        },\n",
       "        stop: function(event, ui) {\n",
       "            pass_mouse_events = true;\n",
       "            fig.request_resize(ui.size.width, ui.size.height);\n",
       "        },\n",
       "    });\n",
       "\n",
       "    function mouse_event_fn(event) {\n",
       "        if (pass_mouse_events)\n",
       "            return fig.mouse_event(event, event['data']);\n",
       "    }\n",
       "\n",
       "    rubberband.mousedown('button_press', mouse_event_fn);\n",
       "    rubberband.mouseup('button_release', mouse_event_fn);\n",
       "    // Throttle sequential mouse events to 1 every 20ms.\n",
       "    rubberband.mousemove('motion_notify', mouse_event_fn);\n",
       "\n",
       "    rubberband.mouseenter('figure_enter', mouse_event_fn);\n",
       "    rubberband.mouseleave('figure_leave', mouse_event_fn);\n",
       "\n",
       "    canvas_div.on(\"wheel\", function (event) {\n",
       "        event = event.originalEvent;\n",
       "        event['data'] = 'scroll'\n",
       "        if (event.deltaY < 0) {\n",
       "            event.step = 1;\n",
       "        } else {\n",
       "            event.step = -1;\n",
       "        }\n",
       "        mouse_event_fn(event);\n",
       "    });\n",
       "\n",
       "    canvas_div.append(canvas);\n",
       "    canvas_div.append(rubberband);\n",
       "\n",
       "    this.rubberband = rubberband;\n",
       "    this.rubberband_canvas = rubberband[0];\n",
       "    this.rubberband_context = rubberband[0].getContext(\"2d\");\n",
       "    this.rubberband_context.strokeStyle = \"#000000\";\n",
       "\n",
       "    this._resize_canvas = function(width, height) {\n",
       "        // Keep the size of the canvas, canvas container, and rubber band\n",
       "        // canvas in synch.\n",
       "        canvas_div.css('width', width)\n",
       "        canvas_div.css('height', height)\n",
       "\n",
       "        canvas.attr('width', width * mpl.ratio);\n",
       "        canvas.attr('height', height * mpl.ratio);\n",
       "        canvas.attr('style', 'width: ' + width + 'px; height: ' + height + 'px;');\n",
       "\n",
       "        rubberband.attr('width', width);\n",
       "        rubberband.attr('height', height);\n",
       "    }\n",
       "\n",
       "    // Set the figure to an initial 600x600px, this will subsequently be updated\n",
       "    // upon first draw.\n",
       "    this._resize_canvas(600, 600);\n",
       "\n",
       "    // Disable right mouse context menu.\n",
       "    $(this.rubberband_canvas).bind(\"contextmenu\",function(e){\n",
       "        return false;\n",
       "    });\n",
       "\n",
       "    function set_focus () {\n",
       "        canvas.focus();\n",
       "        canvas_div.focus();\n",
       "    }\n",
       "\n",
       "    window.setTimeout(set_focus, 100);\n",
       "}\n",
       "\n",
       "mpl.figure.prototype._init_toolbar = function() {\n",
       "    var fig = this;\n",
       "\n",
       "    var nav_element = $('<div/>');\n",
       "    nav_element.attr('style', 'width: 100%');\n",
       "    this.root.append(nav_element);\n",
       "\n",
       "    // Define a callback function for later on.\n",
       "    function toolbar_event(event) {\n",
       "        return fig.toolbar_button_onclick(event['data']);\n",
       "    }\n",
       "    function toolbar_mouse_event(event) {\n",
       "        return fig.toolbar_button_onmouseover(event['data']);\n",
       "    }\n",
       "\n",
       "    for(var toolbar_ind in mpl.toolbar_items) {\n",
       "        var name = mpl.toolbar_items[toolbar_ind][0];\n",
       "        var tooltip = mpl.toolbar_items[toolbar_ind][1];\n",
       "        var image = mpl.toolbar_items[toolbar_ind][2];\n",
       "        var method_name = mpl.toolbar_items[toolbar_ind][3];\n",
       "\n",
       "        if (!name) {\n",
       "            // put a spacer in here.\n",
       "            continue;\n",
       "        }\n",
       "        var button = $('<button/>');\n",
       "        button.addClass('ui-button ui-widget ui-state-default ui-corner-all ' +\n",
       "                        'ui-button-icon-only');\n",
       "        button.attr('role', 'button');\n",
       "        button.attr('aria-disabled', 'false');\n",
       "        button.click(method_name, toolbar_event);\n",
       "        button.mouseover(tooltip, toolbar_mouse_event);\n",
       "\n",
       "        var icon_img = $('<span/>');\n",
       "        icon_img.addClass('ui-button-icon-primary ui-icon');\n",
       "        icon_img.addClass(image);\n",
       "        icon_img.addClass('ui-corner-all');\n",
       "\n",
       "        var tooltip_span = $('<span/>');\n",
       "        tooltip_span.addClass('ui-button-text');\n",
       "        tooltip_span.html(tooltip);\n",
       "\n",
       "        button.append(icon_img);\n",
       "        button.append(tooltip_span);\n",
       "\n",
       "        nav_element.append(button);\n",
       "    }\n",
       "\n",
       "    var fmt_picker_span = $('<span/>');\n",
       "\n",
       "    var fmt_picker = $('<select/>');\n",
       "    fmt_picker.addClass('mpl-toolbar-option ui-widget ui-widget-content');\n",
       "    fmt_picker_span.append(fmt_picker);\n",
       "    nav_element.append(fmt_picker_span);\n",
       "    this.format_dropdown = fmt_picker[0];\n",
       "\n",
       "    for (var ind in mpl.extensions) {\n",
       "        var fmt = mpl.extensions[ind];\n",
       "        var option = $(\n",
       "            '<option/>', {selected: fmt === mpl.default_extension}).html(fmt);\n",
       "        fmt_picker.append(option);\n",
       "    }\n",
       "\n",
       "    // Add hover states to the ui-buttons\n",
       "    $( \".ui-button\" ).hover(\n",
       "        function() { $(this).addClass(\"ui-state-hover\");},\n",
       "        function() { $(this).removeClass(\"ui-state-hover\");}\n",
       "    );\n",
       "\n",
       "    var status_bar = $('<span class=\"mpl-message\"/>');\n",
       "    nav_element.append(status_bar);\n",
       "    this.message = status_bar[0];\n",
       "}\n",
       "\n",
       "mpl.figure.prototype.request_resize = function(x_pixels, y_pixels) {\n",
       "    // Request matplotlib to resize the figure. Matplotlib will then trigger a resize in the client,\n",
       "    // which will in turn request a refresh of the image.\n",
       "    this.send_message('resize', {'width': x_pixels, 'height': y_pixels});\n",
       "}\n",
       "\n",
       "mpl.figure.prototype.send_message = function(type, properties) {\n",
       "    properties['type'] = type;\n",
       "    properties['figure_id'] = this.id;\n",
       "    this.ws.send(JSON.stringify(properties));\n",
       "}\n",
       "\n",
       "mpl.figure.prototype.send_draw_message = function() {\n",
       "    if (!this.waiting) {\n",
       "        this.waiting = true;\n",
       "        this.ws.send(JSON.stringify({type: \"draw\", figure_id: this.id}));\n",
       "    }\n",
       "}\n",
       "\n",
       "\n",
       "mpl.figure.prototype.handle_save = function(fig, msg) {\n",
       "    var format_dropdown = fig.format_dropdown;\n",
       "    var format = format_dropdown.options[format_dropdown.selectedIndex].value;\n",
       "    fig.ondownload(fig, format);\n",
       "}\n",
       "\n",
       "\n",
       "mpl.figure.prototype.handle_resize = function(fig, msg) {\n",
       "    var size = msg['size'];\n",
       "    if (size[0] != fig.canvas.width || size[1] != fig.canvas.height) {\n",
       "        fig._resize_canvas(size[0], size[1]);\n",
       "        fig.send_message(\"refresh\", {});\n",
       "    };\n",
       "}\n",
       "\n",
       "mpl.figure.prototype.handle_rubberband = function(fig, msg) {\n",
       "    var x0 = msg['x0'] / mpl.ratio;\n",
       "    var y0 = (fig.canvas.height - msg['y0']) / mpl.ratio;\n",
       "    var x1 = msg['x1'] / mpl.ratio;\n",
       "    var y1 = (fig.canvas.height - msg['y1']) / mpl.ratio;\n",
       "    x0 = Math.floor(x0) + 0.5;\n",
       "    y0 = Math.floor(y0) + 0.5;\n",
       "    x1 = Math.floor(x1) + 0.5;\n",
       "    y1 = Math.floor(y1) + 0.5;\n",
       "    var min_x = Math.min(x0, x1);\n",
       "    var min_y = Math.min(y0, y1);\n",
       "    var width = Math.abs(x1 - x0);\n",
       "    var height = Math.abs(y1 - y0);\n",
       "\n",
       "    fig.rubberband_context.clearRect(\n",
       "        0, 0, fig.canvas.width, fig.canvas.height);\n",
       "\n",
       "    fig.rubberband_context.strokeRect(min_x, min_y, width, height);\n",
       "}\n",
       "\n",
       "mpl.figure.prototype.handle_figure_label = function(fig, msg) {\n",
       "    // Updates the figure title.\n",
       "    fig.header.textContent = msg['label'];\n",
       "}\n",
       "\n",
       "mpl.figure.prototype.handle_cursor = function(fig, msg) {\n",
       "    var cursor = msg['cursor'];\n",
       "    switch(cursor)\n",
       "    {\n",
       "    case 0:\n",
       "        cursor = 'pointer';\n",
       "        break;\n",
       "    case 1:\n",
       "        cursor = 'default';\n",
       "        break;\n",
       "    case 2:\n",
       "        cursor = 'crosshair';\n",
       "        break;\n",
       "    case 3:\n",
       "        cursor = 'move';\n",
       "        break;\n",
       "    }\n",
       "    fig.rubberband_canvas.style.cursor = cursor;\n",
       "}\n",
       "\n",
       "mpl.figure.prototype.handle_message = function(fig, msg) {\n",
       "    fig.message.textContent = msg['message'];\n",
       "}\n",
       "\n",
       "mpl.figure.prototype.handle_draw = function(fig, msg) {\n",
       "    // Request the server to send over a new figure.\n",
       "    fig.send_draw_message();\n",
       "}\n",
       "\n",
       "mpl.figure.prototype.handle_image_mode = function(fig, msg) {\n",
       "    fig.image_mode = msg['mode'];\n",
       "}\n",
       "\n",
       "mpl.figure.prototype.updated_canvas_event = function() {\n",
       "    // Called whenever the canvas gets updated.\n",
       "    this.send_message(\"ack\", {});\n",
       "}\n",
       "\n",
       "// A function to construct a web socket function for onmessage handling.\n",
       "// Called in the figure constructor.\n",
       "mpl.figure.prototype._make_on_message_function = function(fig) {\n",
       "    return function socket_on_message(evt) {\n",
       "        if (evt.data instanceof Blob) {\n",
       "            /* FIXME: We get \"Resource interpreted as Image but\n",
       "             * transferred with MIME type text/plain:\" errors on\n",
       "             * Chrome.  But how to set the MIME type?  It doesn't seem\n",
       "             * to be part of the websocket stream */\n",
       "            evt.data.type = \"image/png\";\n",
       "\n",
       "            /* Free the memory for the previous frames */\n",
       "            if (fig.imageObj.src) {\n",
       "                (window.URL || window.webkitURL).revokeObjectURL(\n",
       "                    fig.imageObj.src);\n",
       "            }\n",
       "\n",
       "            fig.imageObj.src = (window.URL || window.webkitURL).createObjectURL(\n",
       "                evt.data);\n",
       "            fig.updated_canvas_event();\n",
       "            fig.waiting = false;\n",
       "            return;\n",
       "        }\n",
       "        else if (typeof evt.data === 'string' && evt.data.slice(0, 21) == \"data:image/png;base64\") {\n",
       "            fig.imageObj.src = evt.data;\n",
       "            fig.updated_canvas_event();\n",
       "            fig.waiting = false;\n",
       "            return;\n",
       "        }\n",
       "\n",
       "        var msg = JSON.parse(evt.data);\n",
       "        var msg_type = msg['type'];\n",
       "\n",
       "        // Call the  \"handle_{type}\" callback, which takes\n",
       "        // the figure and JSON message as its only arguments.\n",
       "        try {\n",
       "            var callback = fig[\"handle_\" + msg_type];\n",
       "        } catch (e) {\n",
       "            console.log(\"No handler for the '\" + msg_type + \"' message type: \", msg);\n",
       "            return;\n",
       "        }\n",
       "\n",
       "        if (callback) {\n",
       "            try {\n",
       "                // console.log(\"Handling '\" + msg_type + \"' message: \", msg);\n",
       "                callback(fig, msg);\n",
       "            } catch (e) {\n",
       "                console.log(\"Exception inside the 'handler_\" + msg_type + \"' callback:\", e, e.stack, msg);\n",
       "            }\n",
       "        }\n",
       "    };\n",
       "}\n",
       "\n",
       "// from http://stackoverflow.com/questions/1114465/getting-mouse-location-in-canvas\n",
       "mpl.findpos = function(e) {\n",
       "    //this section is from http://www.quirksmode.org/js/events_properties.html\n",
       "    var targ;\n",
       "    if (!e)\n",
       "        e = window.event;\n",
       "    if (e.target)\n",
       "        targ = e.target;\n",
       "    else if (e.srcElement)\n",
       "        targ = e.srcElement;\n",
       "    if (targ.nodeType == 3) // defeat Safari bug\n",
       "        targ = targ.parentNode;\n",
       "\n",
       "    // jQuery normalizes the pageX and pageY\n",
       "    // pageX,Y are the mouse positions relative to the document\n",
       "    // offset() returns the position of the element relative to the document\n",
       "    var x = e.pageX - $(targ).offset().left;\n",
       "    var y = e.pageY - $(targ).offset().top;\n",
       "\n",
       "    return {\"x\": x, \"y\": y};\n",
       "};\n",
       "\n",
       "/*\n",
       " * return a copy of an object with only non-object keys\n",
       " * we need this to avoid circular references\n",
       " * http://stackoverflow.com/a/24161582/3208463\n",
       " */\n",
       "function simpleKeys (original) {\n",
       "  return Object.keys(original).reduce(function (obj, key) {\n",
       "    if (typeof original[key] !== 'object')\n",
       "        obj[key] = original[key]\n",
       "    return obj;\n",
       "  }, {});\n",
       "}\n",
       "\n",
       "mpl.figure.prototype.mouse_event = function(event, name) {\n",
       "    var canvas_pos = mpl.findpos(event)\n",
       "\n",
       "    if (name === 'button_press')\n",
       "    {\n",
       "        this.canvas.focus();\n",
       "        this.canvas_div.focus();\n",
       "    }\n",
       "\n",
       "    var x = canvas_pos.x * mpl.ratio;\n",
       "    var y = canvas_pos.y * mpl.ratio;\n",
       "\n",
       "    this.send_message(name, {x: x, y: y, button: event.button,\n",
       "                             step: event.step,\n",
       "                             guiEvent: simpleKeys(event)});\n",
       "\n",
       "    /* This prevents the web browser from automatically changing to\n",
       "     * the text insertion cursor when the button is pressed.  We want\n",
       "     * to control all of the cursor setting manually through the\n",
       "     * 'cursor' event from matplotlib */\n",
       "    event.preventDefault();\n",
       "    return false;\n",
       "}\n",
       "\n",
       "mpl.figure.prototype._key_event_extra = function(event, name) {\n",
       "    // Handle any extra behaviour associated with a key event\n",
       "}\n",
       "\n",
       "mpl.figure.prototype.key_event = function(event, name) {\n",
       "\n",
       "    // Prevent repeat events\n",
       "    if (name == 'key_press')\n",
       "    {\n",
       "        if (event.which === this._key)\n",
       "            return;\n",
       "        else\n",
       "            this._key = event.which;\n",
       "    }\n",
       "    if (name == 'key_release')\n",
       "        this._key = null;\n",
       "\n",
       "    var value = '';\n",
       "    if (event.ctrlKey && event.which != 17)\n",
       "        value += \"ctrl+\";\n",
       "    if (event.altKey && event.which != 18)\n",
       "        value += \"alt+\";\n",
       "    if (event.shiftKey && event.which != 16)\n",
       "        value += \"shift+\";\n",
       "\n",
       "    value += 'k';\n",
       "    value += event.which.toString();\n",
       "\n",
       "    this._key_event_extra(event, name);\n",
       "\n",
       "    this.send_message(name, {key: value,\n",
       "                             guiEvent: simpleKeys(event)});\n",
       "    return false;\n",
       "}\n",
       "\n",
       "mpl.figure.prototype.toolbar_button_onclick = function(name) {\n",
       "    if (name == 'download') {\n",
       "        this.handle_save(this, null);\n",
       "    } else {\n",
       "        this.send_message(\"toolbar_button\", {name: name});\n",
       "    }\n",
       "};\n",
       "\n",
       "mpl.figure.prototype.toolbar_button_onmouseover = function(tooltip) {\n",
       "    this.message.textContent = tooltip;\n",
       "};\n",
       "mpl.toolbar_items = [[\"Home\", \"Reset original view\", \"fa fa-home icon-home\", \"home\"], [\"Back\", \"Back to previous view\", \"fa fa-arrow-left icon-arrow-left\", \"back\"], [\"Forward\", \"Forward to next view\", \"fa fa-arrow-right icon-arrow-right\", \"forward\"], [\"\", \"\", \"\", \"\"], [\"Pan\", \"Pan axes with left mouse, zoom with right\", \"fa fa-arrows icon-move\", \"pan\"], [\"Zoom\", \"Zoom to rectangle\", \"fa fa-square-o icon-check-empty\", \"zoom\"], [\"\", \"\", \"\", \"\"], [\"Download\", \"Download plot\", \"fa fa-floppy-o icon-save\", \"download\"]];\n",
       "\n",
       "mpl.extensions = [\"eps\", \"pdf\", \"png\", \"ps\", \"raw\", \"svg\"];\n",
       "\n",
       "mpl.default_extension = \"png\";var comm_websocket_adapter = function(comm) {\n",
       "    // Create a \"websocket\"-like object which calls the given IPython comm\n",
       "    // object with the appropriate methods. Currently this is a non binary\n",
       "    // socket, so there is still some room for performance tuning.\n",
       "    var ws = {};\n",
       "\n",
       "    ws.close = function() {\n",
       "        comm.close()\n",
       "    };\n",
       "    ws.send = function(m) {\n",
       "        //console.log('sending', m);\n",
       "        comm.send(m);\n",
       "    };\n",
       "    // Register the callback with on_msg.\n",
       "    comm.on_msg(function(msg) {\n",
       "        //console.log('receiving', msg['content']['data'], msg);\n",
       "        // Pass the mpl event to the overridden (by mpl) onmessage function.\n",
       "        ws.onmessage(msg['content']['data'])\n",
       "    });\n",
       "    return ws;\n",
       "}\n",
       "\n",
       "mpl.mpl_figure_comm = function(comm, msg) {\n",
       "    // This is the function which gets called when the mpl process\n",
       "    // starts-up an IPython Comm through the \"matplotlib\" channel.\n",
       "\n",
       "    var id = msg.content.data.id;\n",
       "    // Get hold of the div created by the display call when the Comm\n",
       "    // socket was opened in Python.\n",
       "    var element = $(\"#\" + id);\n",
       "    var ws_proxy = comm_websocket_adapter(comm)\n",
       "\n",
       "    function ondownload(figure, format) {\n",
       "        window.open(figure.imageObj.src);\n",
       "    }\n",
       "\n",
       "    var fig = new mpl.figure(id, ws_proxy,\n",
       "                           ondownload,\n",
       "                           element.get(0));\n",
       "\n",
       "    // Call onopen now - mpl needs it, as it is assuming we've passed it a real\n",
       "    // web socket which is closed, not our websocket->open comm proxy.\n",
       "    ws_proxy.onopen();\n",
       "\n",
       "    fig.parent_element = element.get(0);\n",
       "    fig.cell_info = mpl.find_output_cell(\"<div id='\" + id + \"'></div>\");\n",
       "    if (!fig.cell_info) {\n",
       "        console.error(\"Failed to find cell for figure\", id, fig);\n",
       "        return;\n",
       "    }\n",
       "\n",
       "    var output_index = fig.cell_info[2]\n",
       "    var cell = fig.cell_info[0];\n",
       "\n",
       "};\n",
       "\n",
       "mpl.figure.prototype.handle_close = function(fig, msg) {\n",
       "    var width = fig.canvas.width/mpl.ratio\n",
       "    fig.root.unbind('remove')\n",
       "\n",
       "    // Update the output cell to use the data from the current canvas.\n",
       "    fig.push_to_output();\n",
       "    var dataURL = fig.canvas.toDataURL();\n",
       "    // Re-enable the keyboard manager in IPython - without this line, in FF,\n",
       "    // the notebook keyboard shortcuts fail.\n",
       "    IPython.keyboard_manager.enable()\n",
       "    $(fig.parent_element).html('<img src=\"' + dataURL + '\" width=\"' + width + '\">');\n",
       "    fig.close_ws(fig, msg);\n",
       "}\n",
       "\n",
       "mpl.figure.prototype.close_ws = function(fig, msg){\n",
       "    fig.send_message('closing', msg);\n",
       "    // fig.ws.close()\n",
       "}\n",
       "\n",
       "mpl.figure.prototype.push_to_output = function(remove_interactive) {\n",
       "    // Turn the data on the canvas into data in the output cell.\n",
       "    var width = this.canvas.width/mpl.ratio\n",
       "    var dataURL = this.canvas.toDataURL();\n",
       "    this.cell_info[1]['text/html'] = '<img src=\"' + dataURL + '\" width=\"' + width + '\">';\n",
       "}\n",
       "\n",
       "mpl.figure.prototype.updated_canvas_event = function() {\n",
       "    // Tell IPython that the notebook contents must change.\n",
       "    IPython.notebook.set_dirty(true);\n",
       "    this.send_message(\"ack\", {});\n",
       "    var fig = this;\n",
       "    // Wait a second, then push the new image to the DOM so\n",
       "    // that it is saved nicely (might be nice to debounce this).\n",
       "    setTimeout(function () { fig.push_to_output() }, 1000);\n",
       "}\n",
       "\n",
       "mpl.figure.prototype._init_toolbar = function() {\n",
       "    var fig = this;\n",
       "\n",
       "    var nav_element = $('<div/>');\n",
       "    nav_element.attr('style', 'width: 100%');\n",
       "    this.root.append(nav_element);\n",
       "\n",
       "    // Define a callback function for later on.\n",
       "    function toolbar_event(event) {\n",
       "        return fig.toolbar_button_onclick(event['data']);\n",
       "    }\n",
       "    function toolbar_mouse_event(event) {\n",
       "        return fig.toolbar_button_onmouseover(event['data']);\n",
       "    }\n",
       "\n",
       "    for(var toolbar_ind in mpl.toolbar_items){\n",
       "        var name = mpl.toolbar_items[toolbar_ind][0];\n",
       "        var tooltip = mpl.toolbar_items[toolbar_ind][1];\n",
       "        var image = mpl.toolbar_items[toolbar_ind][2];\n",
       "        var method_name = mpl.toolbar_items[toolbar_ind][3];\n",
       "\n",
       "        if (!name) { continue; };\n",
       "\n",
       "        var button = $('<button class=\"btn btn-default\" href=\"#\" title=\"' + name + '\"><i class=\"fa ' + image + ' fa-lg\"></i></button>');\n",
       "        button.click(method_name, toolbar_event);\n",
       "        button.mouseover(tooltip, toolbar_mouse_event);\n",
       "        nav_element.append(button);\n",
       "    }\n",
       "\n",
       "    // Add the status bar.\n",
       "    var status_bar = $('<span class=\"mpl-message\" style=\"text-align:right; float: right;\"/>');\n",
       "    nav_element.append(status_bar);\n",
       "    this.message = status_bar[0];\n",
       "\n",
       "    // Add the close button to the window.\n",
       "    var buttongrp = $('<div class=\"btn-group inline pull-right\"></div>');\n",
       "    var button = $('<button class=\"btn btn-mini btn-primary\" href=\"#\" title=\"Stop Interaction\"><i class=\"fa fa-power-off icon-remove icon-large\"></i></button>');\n",
       "    button.click(function (evt) { fig.handle_close(fig, {}); } );\n",
       "    button.mouseover('Stop Interaction', toolbar_mouse_event);\n",
       "    buttongrp.append(button);\n",
       "    var titlebar = this.root.find($('.ui-dialog-titlebar'));\n",
       "    titlebar.prepend(buttongrp);\n",
       "}\n",
       "\n",
       "mpl.figure.prototype._root_extra_style = function(el){\n",
       "    var fig = this\n",
       "    el.on(\"remove\", function(){\n",
       "\tfig.close_ws(fig, {});\n",
       "    });\n",
       "}\n",
       "\n",
       "mpl.figure.prototype._canvas_extra_style = function(el){\n",
       "    // this is important to make the div 'focusable\n",
       "    el.attr('tabindex', 0)\n",
       "    // reach out to IPython and tell the keyboard manager to turn it's self\n",
       "    // off when our div gets focus\n",
       "\n",
       "    // location in version 3\n",
       "    if (IPython.notebook.keyboard_manager) {\n",
       "        IPython.notebook.keyboard_manager.register_events(el);\n",
       "    }\n",
       "    else {\n",
       "        // location in version 2\n",
       "        IPython.keyboard_manager.register_events(el);\n",
       "    }\n",
       "\n",
       "}\n",
       "\n",
       "mpl.figure.prototype._key_event_extra = function(event, name) {\n",
       "    var manager = IPython.notebook.keyboard_manager;\n",
       "    if (!manager)\n",
       "        manager = IPython.keyboard_manager;\n",
       "\n",
       "    // Check for shift+enter\n",
       "    if (event.shiftKey && event.which == 13) {\n",
       "        this.canvas_div.blur();\n",
       "        event.shiftKey = false;\n",
       "        // Send a \"J\" for go to next cell\n",
       "        event.which = 74;\n",
       "        event.keyCode = 74;\n",
       "        manager.command_mode();\n",
       "        manager.handle_keydown(event);\n",
       "    }\n",
       "}\n",
       "\n",
       "mpl.figure.prototype.handle_save = function(fig, msg) {\n",
       "    fig.ondownload(fig, null);\n",
       "}\n",
       "\n",
       "\n",
       "mpl.find_output_cell = function(html_output) {\n",
       "    // Return the cell and output element which can be found *uniquely* in the notebook.\n",
       "    // Note - this is a bit hacky, but it is done because the \"notebook_saving.Notebook\"\n",
       "    // IPython event is triggered only after the cells have been serialised, which for\n",
       "    // our purposes (turning an active figure into a static one), is too late.\n",
       "    var cells = IPython.notebook.get_cells();\n",
       "    var ncells = cells.length;\n",
       "    for (var i=0; i<ncells; i++) {\n",
       "        var cell = cells[i];\n",
       "        if (cell.cell_type === 'code'){\n",
       "            for (var j=0; j<cell.output_area.outputs.length; j++) {\n",
       "                var data = cell.output_area.outputs[j];\n",
       "                if (data.data) {\n",
       "                    // IPython >= 3 moved mimebundle to data attribute of output\n",
       "                    data = data.data;\n",
       "                }\n",
       "                if (data['text/html'] == html_output) {\n",
       "                    return [cell, data, j];\n",
       "                }\n",
       "            }\n",
       "        }\n",
       "    }\n",
       "}\n",
       "\n",
       "// Register the function which deals with the matplotlib target/channel.\n",
       "// The kernel may be null if the page has been refreshed.\n",
       "if (IPython.notebook.kernel != null) {\n",
       "    IPython.notebook.kernel.comm_manager.register_target('matplotlib', mpl.mpl_figure_comm);\n",
       "}\n"
      ],
      "text/plain": [
       "<IPython.core.display.Javascript object>"
      ]
     },
     "metadata": {},
     "output_type": "display_data"
    },
    {
     "data": {
      "text/html": [
       "<img src=\"data:image/png;base64,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\" width=\"1100\">"
      ],
      "text/plain": [
       "<IPython.core.display.HTML object>"
      ]
     },
     "metadata": {},
     "output_type": "display_data"
    }
   ],
   "source": [
    "print('Saved y(t) values:',y_data)\n",
    "print('Saved u(t) values:',u_data)\n",
    "fig4=plt.figure(3,figsize=(11,6))\n",
    "plt.plot(t_data,y_data)\n",
    "plt.grid(True)\n",
    "plt.xlim(0,10)\n",
    "plt.ylim(0,10)\n",
    "plt.xlabel('Time')\n",
    "plt.ylabel('Response');\n",
    "#fig4.canvas.draw()\n",
    "fig5=plt.figure(4,figsize=(11,6))\n",
    "u_line, = plt.plot(t_data,u_data)\n",
    "x_line, = plt.plot(t_data,x_data)\n",
    "plt.legend((x_line,u_line),('State x','Dose'))\n",
    "plt.grid(True)\n",
    "plt.xlim(0,10)\n",
    "plt.xlabel('Time')\n",
    "plt.ylabel('Value');\n",
    "#fig5.canvas.draw()"
   ]
  },
  {
   "cell_type": "markdown",
   "metadata": {},
   "source": [
    "### A Dose of Reality\n",
    "\n",
    "Let us move from the ideal situation to a more realistic scenario.\n",
    "\n",
    "\n",
    "+ Unknown or approximate model\n",
    "\n",
    "  In most situations you do not have simulation that can  make good predictions. You first need to learn a model from actual responses to inputs. Human decision makers often use immediate aggregate cause-effect heuristics. If the blood glucose shot up, it was most likely the latte you just had. If the stock market lost one percent, it was because of the latest news on trade war.\n",
    "    \n",
    "\n",
    "+ Many decision variables affect observations\n",
    "   \n",
    "  When multiple decision variables are involved, humans focus on one assumed dominant variable. The mental burden of untangling multiple causes is too large. Doing so for a dynamic system with continuous variables is clearly just too complex for humans.\n",
    "  \n",
    "\n",
    "+ Too many extraneous conditions and variables affect observations\n",
    "\n",
    "   Given the simplfied cause-effect heuristic, the apparent variability of observations becomes large. You often hear that the variablity is due to inherent random behavior that can only be untangeled by averaging over many experiments and observations. To the poor patient, the averaging is of little comfort. Loss of agency and hope for the patient leads do resignation and even depression.  Apparent variability also occurs in machine learned models when the representations are poorly chosen in dynamic systems. \n",
    "   \n",
    "\n",
    "+ Can not directly measure what you need to really maintain or control\n",
    "   \n",
    "   In metabolic syndrome, you need to arrest or reduce organ damage, mental depression and other co-morbidity.  However, blood prick glucose measurement or readings from CGM need to be translated to what you need to be concerend with.  Your camera sensor output on an autonomous car will give you a partial and possibly misleading view of the environment, leading to accidents. \n",
    "   \n",
    "We will go over each of these aspects and see how it manifests in simulated examples.  \n",
    "\n",
    "Again, no need to take my word on it. You will be the decision maker  in the simulated examples!\n",
    "  \n",
    "      \n",
    "\n"
   ]
  },
  {
   "cell_type": "code",
   "execution_count": null,
   "metadata": {
    "scrolled": true
   },
   "outputs": [],
   "source": []
  }
 ],
 "metadata": {
  "kernelspec": {
   "display_name": "Python 3",
   "language": "python",
   "name": "python3"
  },
  "language_info": {
   "codemirror_mode": {
    "name": "ipython",
    "version": 3
   },
   "file_extension": ".py",
   "mimetype": "text/x-python",
   "name": "python",
   "nbconvert_exporter": "python",
   "pygments_lexer": "ipython3",
   "version": "3.7.3"
  },
  "widgets": {
   "application/vnd.jupyter.widget-state+json": {
    "state": {
     "0141b5da06b2499a893aea4ab717d9d5": {
      "model_module": "@jupyter-widgets/controls",
      "model_module_version": "1.4.0",
      "model_name": "FloatSliderModel",
      "state": {
       "description": "Dose(t)",
       "layout": "IPY_MODEL_cca17439827f401cb6a180d558236355",
       "max": 10,
       "min": -10,
       "step": 0.01,
       "style": "IPY_MODEL_f4b704a50b19416aaa619a020dfd5071",
       "value": 1.09
      }
     },
     "018564d47e714fae97acedb9d928c7c1": {
      "model_module": "@jupyter-widgets/controls",
      "model_module_version": "1.4.0",
      "model_name": "ButtonStyleModel",
      "state": {}
     },
     "028bd2cd91d545fe8c9205a00ecc321b": {
      "model_module": "@jupyter-widgets/controls",
      "model_module_version": "1.4.0",
      "model_name": "ButtonStyleModel",
      "state": {}
     },
     "03581fc1a49640b0bfa4b6e9cfac3d39": {
      "model_module": "@jupyter-widgets/controls",
      "model_module_version": "1.4.0",
      "model_name": "ButtonModel",
      "state": {
       "description": "Administer Dose(t)",
       "disabled": true,
       "layout": "IPY_MODEL_6f887701b8c445d7a6cb47d47178336f",
       "style": "IPY_MODEL_cfa568b240574db49b63f8a8ee2e9fd9"
      }
     },
     "03e0cd42451847e98fa4c78e82f62d00": {
      "model_module": "@jupyter-widgets/controls",
      "model_module_version": "1.4.0",
      "model_name": "TextModel",
      "state": {
       "description": "Next Step",
       "layout": "IPY_MODEL_a38c6408e8d74800a029a5e9f03df1c0",
       "style": "IPY_MODEL_c010b7152eeb4945894a5c0b4aa8d0e4",
       "value": "Predict Response(t+1)"
      }
     },
     "067bb896fada40dd99aec8772b9f970b": {
      "model_module": "@jupyter-widgets/base",
      "model_module_version": "1.1.0",
      "model_name": "LayoutModel",
      "state": {}
     },
     "06bbff036eec4afab9f8803baf8b8f87": {
      "model_module": "@jupyter-widgets/controls",
      "model_module_version": "1.4.0",
      "model_name": "FloatSliderModel",
      "state": {
       "description": "Dose(t)",
       "layout": "IPY_MODEL_20aff08d051240fa9ffd54927ff8d698",
       "max": 10,
       "min": -10,
       "step": 0.01,
       "style": "IPY_MODEL_a6dc0945784e4b15ab918dbacf477c70"
      }
     },
     "06f90905bbcc444d9a9733d0651ddbf4": {
      "model_module": "@jupyter-widgets/base",
      "model_module_version": "1.1.0",
      "model_name": "LayoutModel",
      "state": {}
     },
     "075d19d2bf5d4d40b57d0af7b5473514": {
      "model_module": "@jupyter-widgets/controls",
      "model_module_version": "1.4.0",
      "model_name": "HBoxModel",
      "state": {
       "children": [
        "IPY_MODEL_9e7bd315932c4f2da52faa1fd3998f3f",
        "IPY_MODEL_2b0fa78cc9e74364ad1dc5b54d82b1a0"
       ],
       "layout": "IPY_MODEL_ecb7076df28b45d99581b461934ba6d1"
      }
     },
     "076ec1030c03401c83308d41f6b3e233": {
      "model_module": "@jupyter-widgets/controls",
      "model_module_version": "1.4.0",
      "model_name": "SliderStyleModel",
      "state": {
       "description_width": ""
      }
     },
     "0772ea5803a9462098c7e41801ca0520": {
      "model_module": "@jupyter-widgets/controls",
      "model_module_version": "1.4.0",
      "model_name": "ButtonStyleModel",
      "state": {}
     },
     "0825f2b102a0446e87f4cc09c1d4e7a0": {
      "model_module": "@jupyter-widgets/base",
      "model_module_version": "1.1.0",
      "model_name": "LayoutModel",
      "state": {
       "width": "95%"
      }
     },
     "083dfe5677be46b087d48d6944c45e50": {
      "model_module": "@jupyter-widgets/controls",
      "model_module_version": "1.4.0",
      "model_name": "DescriptionStyleModel",
      "state": {
       "description_width": ""
      }
     },
     "08fd0fe516b84441a1fb9fc283473288": {
      "model_module": "@jupyter-widgets/controls",
      "model_module_version": "1.4.0",
      "model_name": "TextModel",
      "state": {
       "description": "Response(t+1) ",
       "disabled": true,
       "layout": "IPY_MODEL_6e6f03e1106e4e61ac7eabe7d9ea2fee",
       "style": "IPY_MODEL_a16dcbe9e1c34862990d6c1a72b83bcc",
       "value": "  "
      }
     },
     "095ef3225d28434386964a06b6904a35": {
      "model_module": "@jupyter-widgets/base",
      "model_module_version": "1.1.0",
      "model_name": "LayoutModel",
      "state": {
       "width": "42%"
      }
     },
     "09a9cf5b1ff446a0a801056dfd462bf9": {
      "model_module": "@jupyter-widgets/base",
      "model_module_version": "1.1.0",
      "model_name": "LayoutModel",
      "state": {}
     },
     "0a3d2324961e467eae6f1ff60926d509": {
      "model_module": "@jupyter-widgets/base",
      "model_module_version": "1.1.0",
      "model_name": "LayoutModel",
      "state": {
       "justify_content": "center"
      }
     },
     "0ad9f37ff7e1409e9cd22abe0c9b9f2c": {
      "model_module": "@jupyter-widgets/controls",
      "model_module_version": "1.4.0",
      "model_name": "SliderStyleModel",
      "state": {
       "description_width": ""
      }
     },
     "0b15758c582e40ca8d5fed687c2d7cc5": {
      "model_module": "@jupyter-widgets/controls",
      "model_module_version": "1.4.0",
      "model_name": "DescriptionStyleModel",
      "state": {
       "description_width": "initial"
      }
     },
     "0b39633dfe9c4696ae1e7a9ad6fc8ce7": {
      "model_module": "@jupyter-widgets/base",
      "model_module_version": "1.1.0",
      "model_name": "LayoutModel",
      "state": {
       "width": "95%"
      }
     },
     "0b4adb12a50f4673bcd9dfd589b6d201": {
      "model_module": "@jupyter-widgets/controls",
      "model_module_version": "1.4.0",
      "model_name": "DescriptionStyleModel",
      "state": {
       "description_width": "initial"
      }
     },
     "0bd80c197c53424a8496da2bd7e0c7ee": {
      "model_module": "@jupyter-widgets/controls",
      "model_module_version": "1.4.0",
      "model_name": "DescriptionStyleModel",
      "state": {
       "description_width": ""
      }
     },
     "0c03ce79269847bd87b42e8980da5ebb": {
      "model_module": "@jupyter-widgets/controls",
      "model_module_version": "1.4.0",
      "model_name": "ButtonStyleModel",
      "state": {}
     },
     "0c04bfdd8cfe4b1f8288ceb3b479473a": {
      "model_module": "@jupyter-widgets/controls",
      "model_module_version": "1.4.0",
      "model_name": "ButtonModel",
      "state": {
       "description": "Predict Response(t+1)",
       "layout": "IPY_MODEL_4f66b33320d34c768befc72938473b1d",
       "style": "IPY_MODEL_028bd2cd91d545fe8c9205a00ecc321b"
      }
     },
     "0c2ae233848f427692bf2244cd5693bc": {
      "model_module": "@jupyter-widgets/controls",
      "model_module_version": "1.4.0",
      "model_name": "TextModel",
      "state": {
       "description": "Next Step",
       "layout": "IPY_MODEL_51d112d7f2fa45c2aa3d9c595a0f3bca",
       "style": "IPY_MODEL_d616136558ae4e9aa6d12fe0940b57cb",
       "value": "Predict Response(t+1)  "
      }
     },
     "0c2c84e0fc8f44ba8c09adf8c747af47": {
      "model_module": "@jupyter-widgets/controls",
      "model_module_version": "1.4.0",
      "model_name": "ButtonStyleModel",
      "state": {}
     },
     "0cbece45a7864ec5bcd3fdee859abe71": {
      "model_module": "@jupyter-widgets/base",
      "model_module_version": "1.1.0",
      "model_name": "LayoutModel",
      "state": {
       "width": "42%"
      }
     },
     "0ceaace2d76b477e9abb40890611c73b": {
      "model_module": "@jupyter-widgets/controls",
      "model_module_version": "1.4.0",
      "model_name": "HBoxModel",
      "state": {
       "children": [
        "IPY_MODEL_3cd026d3f11947b89c86629b4317c82c",
        "IPY_MODEL_21521a4910c941c5badb99f512028cbe"
       ],
       "layout": "IPY_MODEL_830e933b8c6b4046982e2f0978b27179"
      }
     },
     "0cec74e386be41e894235b1d283d5640": {
      "model_module": "@jupyter-widgets/base",
      "model_module_version": "1.1.0",
      "model_name": "LayoutModel",
      "state": {
       "width": "42%"
      }
     },
     "0d55379f12d948a2988d3efd791b3720": {
      "model_module": "@jupyter-widgets/controls",
      "model_module_version": "1.4.0",
      "model_name": "HBoxModel",
      "state": {
       "children": [
        "IPY_MODEL_2e32e14e87b54743a6333b1e24848122",
        "IPY_MODEL_0e04b6451eb2473eb98c8f41082da030"
       ],
       "layout": "IPY_MODEL_9ace1ce2212b441d87acc5b376632568"
      }
     },
     "0e04b6451eb2473eb98c8f41082da030": {
      "model_module": "@jupyter-widgets/controls",
      "model_module_version": "1.4.0",
      "model_name": "TextModel",
      "state": {
       "description": "Next Step",
       "layout": "IPY_MODEL_c9f60bd9b782468e88953ee0a09bdb23",
       "style": "IPY_MODEL_125a9da45d1940e3a95051c4149e15e2",
       "value": "Predict Response(t+1)  "
      }
     },
     "0e6c7ec2c1e1456ba673ddbd88d91584": {
      "model_module": "@jupyter-widgets/base",
      "model_module_version": "1.1.0",
      "model_name": "LayoutModel",
      "state": {}
     },
     "0e92d5e6c94c43edaaca337b1ff7fb72": {
      "model_module": "@jupyter-widgets/base",
      "model_module_version": "1.1.0",
      "model_name": "LayoutModel",
      "state": {}
     },
     "0fa6cd9902614b48a0b705b91b8eee11": {
      "model_module": "@jupyter-widgets/base",
      "model_module_version": "1.1.0",
      "model_name": "LayoutModel",
      "state": {}
     },
     "104415e3dc274d11bd79c43b5f27da12": {
      "model_module": "@jupyter-widgets/controls",
      "model_module_version": "1.4.0",
      "model_name": "ButtonModel",
      "state": {
       "description": "Predict Response(t+1)",
       "layout": "IPY_MODEL_0cbece45a7864ec5bcd3fdee859abe71",
       "style": "IPY_MODEL_b30adf773cab45f3bceb9e478909967c"
      }
     },
     "107b293ba32b4e1fb176a8f3cb3854b4": {
      "model_module": "@jupyter-widgets/base",
      "model_module_version": "1.1.0",
      "model_name": "LayoutModel",
      "state": {}
     },
     "11578dd36a6543ceadc51fbc421dfddb": {
      "model_module": "@jupyter-widgets/base",
      "model_module_version": "1.1.0",
      "model_name": "LayoutModel",
      "state": {
       "width": "95%"
      }
     },
     "116e0cd1b5cf408ebe04f993f9f5147e": {
      "model_module": "@jupyter-widgets/controls",
      "model_module_version": "1.4.0",
      "model_name": "SliderStyleModel",
      "state": {
       "description_width": ""
      }
     },
     "125a9da45d1940e3a95051c4149e15e2": {
      "model_module": "@jupyter-widgets/controls",
      "model_module_version": "1.4.0",
      "model_name": "DescriptionStyleModel",
      "state": {
       "description_width": ""
      }
     },
     "125cfba9ee024c9fbd91084467a841b9": {
      "model_module": "@jupyter-widgets/base",
      "model_module_version": "1.1.0",
      "model_name": "LayoutModel",
      "state": {
       "width": "95%"
      }
     },
     "13b4d94902704b9a9b87fbd0dba916e7": {
      "model_module": "@jupyter-widgets/controls",
      "model_module_version": "1.4.0",
      "model_name": "ButtonStyleModel",
      "state": {}
     },
     "13bbdc383efb4b10ad3423c4810ebb8a": {
      "model_module": "@jupyter-widgets/base",
      "model_module_version": "1.1.0",
      "model_name": "LayoutModel",
      "state": {}
     },
     "13c5a2362b9f454bb2e5b0bf4a067623": {
      "model_module": "@jupyter-widgets/controls",
      "model_module_version": "1.4.0",
      "model_name": "ButtonModel",
      "state": {
       "description": "Administer Dose(t)",
       "disabled": true,
       "layout": "IPY_MODEL_de73b20eb9e745948932872543e94e54",
       "style": "IPY_MODEL_0c2c84e0fc8f44ba8c09adf8c747af47"
      }
     },
     "13ee1d862dc749cbbddea2155a07abf6": {
      "model_module": "@jupyter-widgets/base",
      "model_module_version": "1.1.0",
      "model_name": "LayoutModel",
      "state": {}
     },
     "1459672da17441b1b5036fedbf3f7f62": {
      "model_module": "@jupyter-widgets/base",
      "model_module_version": "1.1.0",
      "model_name": "LayoutModel",
      "state": {
       "width": "42%"
      }
     },
     "14660ee3cdc5483a8b1a0c19ef7082fb": {
      "model_module": "@jupyter-widgets/controls",
      "model_module_version": "1.4.0",
      "model_name": "HBoxModel",
      "state": {
       "children": [
        "IPY_MODEL_cf05fc96408b43f9bdc0c453ea6864cf",
        "IPY_MODEL_23f38b38cb8d4622b5ff61fa1b8d9ee4"
       ],
       "layout": "IPY_MODEL_9fc75d7e40d349999c04f0da783bb570"
      }
     },
     "154bce923f2941ae81a2386ffe0d57f9": {
      "model_module": "@jupyter-widgets/controls",
      "model_module_version": "1.4.0",
      "model_name": "TextModel",
      "state": {
       "description": "Response(t+1) ",
       "disabled": true,
       "layout": "IPY_MODEL_8220a790976a4272a425e1d1d9e84390",
       "style": "IPY_MODEL_70edd22de1514253a006b9d60e2bc03d",
       "value": "4.93 (in range)"
      }
     },
     "159436a0cd284cf6998578e86d35d5dc": {
      "model_module": "@jupyter-widgets/controls",
      "model_module_version": "1.4.0",
      "model_name": "TextModel",
      "state": {
       "description": "Next Step",
       "layout": "IPY_MODEL_344e7c67fa0b424b85d38e01fd606d66",
       "style": "IPY_MODEL_421aa1cf62964b4b966f1b33cfe23c2f",
       "value": "Increase dose(t) and Predict"
      }
     },
     "1866096e9dbd44b99108550a2624bc23": {
      "model_module": "@jupyter-widgets/base",
      "model_module_version": "1.1.0",
      "model_name": "LayoutModel",
      "state": {}
     },
     "18e653a1388549b6b7eff4b1bb7be40b": {
      "model_module": "@jupyter-widgets/controls",
      "model_module_version": "1.4.0",
      "model_name": "ButtonStyleModel",
      "state": {}
     },
     "19573d4719134f44ab5b7f6a5c82bffa": {
      "model_module": "@jupyter-widgets/controls",
      "model_module_version": "1.4.0",
      "model_name": "TextModel",
      "state": {
       "description": "Next Step",
       "layout": "IPY_MODEL_56d898b0af4e423a9b4245b44b2fc3d6",
       "style": "IPY_MODEL_80cd114a38464c4cbc204266e9fc488d",
       "value": "Predict Response(t+1)  "
      }
     },
     "199141a40c4b46b0b0b363e1d4f2d8fe": {
      "model_module": "@jupyter-widgets/controls",
      "model_module_version": "1.4.0",
      "model_name": "FloatSliderModel",
      "state": {
       "description": "Dose(t)",
       "layout": "IPY_MODEL_7c5d0ea7299946cdbc7d7b291c706703",
       "max": 10,
       "min": -10,
       "step": 0.01,
       "style": "IPY_MODEL_4a30ba8a37c94d468755273ce5e0b916",
       "value": 0.54
      }
     },
     "19a11e2a031d4fe184ee96c41a51c21b": {
      "model_module": "@jupyter-widgets/base",
      "model_module_version": "1.1.0",
      "model_name": "LayoutModel",
      "state": {
       "justify_content": "center"
      }
     },
     "1a031a64af954efaa80368c61daa9e6b": {
      "model_module": "@jupyter-widgets/controls",
      "model_module_version": "1.4.0",
      "model_name": "FloatSliderModel",
      "state": {
       "description": "Dose(t)",
       "layout": "IPY_MODEL_b33631432e254b3982521671ebb0f71e",
       "max": 10,
       "min": -10,
       "step": 0.01,
       "style": "IPY_MODEL_54aca4b6bc304a33912aa03f2bd2dc3f",
       "value": -10
      }
     },
     "1a0b5357728b4aafb8d09ae3b12d86af": {
      "model_module": "@jupyter-widgets/base",
      "model_module_version": "1.1.0",
      "model_name": "LayoutModel",
      "state": {
       "width": "42%"
      }
     },
     "1a294373fb3e471baff499db21d1ef5e": {
      "model_module": "@jupyter-widgets/base",
      "model_module_version": "1.1.0",
      "model_name": "LayoutModel",
      "state": {
       "width": "42%"
      }
     },
     "1a33db65a5b247edb66543cfcf09f047": {
      "model_module": "@jupyter-widgets/controls",
      "model_module_version": "1.4.0",
      "model_name": "ButtonModel",
      "state": {
       "description": "Administer Dose(t)",
       "disabled": true,
       "layout": "IPY_MODEL_86e135c9b77c4838a37546c1522ebc08",
       "style": "IPY_MODEL_3b356e18494a4dfaba153780407a990b"
      }
     },
     "1a47e945434342459c45e3e7f781702a": {
      "model_module": "@jupyter-widgets/base",
      "model_module_version": "1.1.0",
      "model_name": "LayoutModel",
      "state": {}
     },
     "1a81dda27e53407e91e804d2b58d0633": {
      "model_module": "@jupyter-widgets/controls",
      "model_module_version": "1.4.0",
      "model_name": "DescriptionStyleModel",
      "state": {
       "description_width": "initial"
      }
     },
     "1aa56fd36cad4c4fb404c0c9899988a2": {
      "model_module": "@jupyter-widgets/base",
      "model_module_version": "1.1.0",
      "model_name": "LayoutModel",
      "state": {
       "justify_content": "center"
      }
     },
     "1af2fddaafa44561adabd0d381aed625": {
      "model_module": "@jupyter-widgets/base",
      "model_module_version": "1.1.0",
      "model_name": "LayoutModel",
      "state": {}
     },
     "1b1c3be31bd647e0a326bed1802ffee0": {
      "model_module": "@jupyter-widgets/controls",
      "model_module_version": "1.4.0",
      "model_name": "TextModel",
      "state": {
       "description": "Next Step",
       "layout": "IPY_MODEL_067bb896fada40dd99aec8772b9f970b",
       "style": "IPY_MODEL_cbc46f25282c4cd2a6adca13fc027f2d",
       "value": "Predict Response(t+1)  "
      }
     },
     "1b217daf35ea4786b9473ceb6aa5029e": {
      "model_module": "@jupyter-widgets/base",
      "model_module_version": "1.1.0",
      "model_name": "LayoutModel",
      "state": {
       "width": "42%"
      }
     },
     "1b819ccbdc484c548cda756cc2159f18": {
      "model_module": "@jupyter-widgets/base",
      "model_module_version": "1.1.0",
      "model_name": "LayoutModel",
      "state": {
       "width": "42%"
      }
     },
     "1c178a7475824a139655dba09dc4cc50": {
      "model_module": "@jupyter-widgets/controls",
      "model_module_version": "1.4.0",
      "model_name": "ButtonStyleModel",
      "state": {}
     },
     "1c4c9ec2fbbc4b46ad38a4a76d51bbe1": {
      "model_module": "@jupyter-widgets/controls",
      "model_module_version": "1.4.0",
      "model_name": "HBoxModel",
      "state": {
       "children": [
        "IPY_MODEL_d036e8573f03408da42d8d5534c250ae",
        "IPY_MODEL_4737425401214705bf3400961d0cd709"
       ],
       "layout": "IPY_MODEL_2cfb865ac50d4141b32e3cd98f8c3e2f"
      }
     },
     "1c6f33dbd92d427c9078f609b45cce21": {
      "model_module": "@jupyter-widgets/controls",
      "model_module_version": "1.4.0",
      "model_name": "SliderStyleModel",
      "state": {
       "description_width": ""
      }
     },
     "1d4dc086f9fe458ab5737d1aaf2b80b1": {
      "model_module": "@jupyter-widgets/base",
      "model_module_version": "1.1.0",
      "model_name": "LayoutModel",
      "state": {
       "width": "42%"
      }
     },
     "1d9f3480e70c4fe2ae8af18af92b1f4b": {
      "model_module": "@jupyter-widgets/controls",
      "model_module_version": "1.4.0",
      "model_name": "ButtonStyleModel",
      "state": {}
     },
     "1e34031a506543c5bdf5af44cc63a8cd": {
      "model_module": "@jupyter-widgets/base",
      "model_module_version": "1.1.0",
      "model_name": "LayoutModel",
      "state": {
       "justify_content": "center"
      }
     },
     "1e401af41921416bb7a62a83538f41d3": {
      "model_module": "@jupyter-widgets/controls",
      "model_module_version": "1.4.0",
      "model_name": "DescriptionStyleModel",
      "state": {
       "description_width": "initial"
      }
     },
     "1ef26e0b6a91477d88fcba7838e555e1": {
      "model_module": "@jupyter-widgets/base",
      "model_module_version": "1.1.0",
      "model_name": "LayoutModel",
      "state": {}
     },
     "1fa8a91257e040bab72bdfa0a25341e5": {
      "model_module": "@jupyter-widgets/base",
      "model_module_version": "1.1.0",
      "model_name": "LayoutModel",
      "state": {}
     },
     "20aff08d051240fa9ffd54927ff8d698": {
      "model_module": "@jupyter-widgets/base",
      "model_module_version": "1.1.0",
      "model_name": "LayoutModel",
      "state": {
       "width": "95%"
      }
     },
     "21521a4910c941c5badb99f512028cbe": {
      "model_module": "@jupyter-widgets/controls",
      "model_module_version": "1.4.0",
      "model_name": "ButtonModel",
      "state": {
       "description": "Administer Dose(t)",
       "disabled": true,
       "layout": "IPY_MODEL_a2a720b4c247408eb78f4a3f90533ef2",
       "style": "IPY_MODEL_3e9081422e614a52bb96b36563e1dda4"
      }
     },
     "2172a36b7bcb49d284b831f99b3ee9c5": {
      "model_module": "@jupyter-widgets/controls",
      "model_module_version": "1.4.0",
      "model_name": "ButtonStyleModel",
      "state": {}
     },
     "21e4ae81a2a244c08e21c83cf48d4ff3": {
      "model_module": "@jupyter-widgets/controls",
      "model_module_version": "1.4.0",
      "model_name": "HBoxModel",
      "state": {
       "children": [
        "IPY_MODEL_ba3f192f144d494d8cf8685c7bfdd3d5",
        "IPY_MODEL_bc0d560476494f5ea7915bd65bcd0ff4"
       ],
       "layout": "IPY_MODEL_3027cdb0e0e449e4939059655903bdf5"
      }
     },
     "2252216b11674301a1dc6d6793999617": {
      "model_module": "@jupyter-widgets/controls",
      "model_module_version": "1.4.0",
      "model_name": "TextModel",
      "state": {
       "description": "Next Step",
       "layout": "IPY_MODEL_eff92387c36f4c4b8cca66708946cf10",
       "style": "IPY_MODEL_0bd80c197c53424a8496da2bd7e0c7ee",
       "value": "Predict Response(t+1)"
      }
     },
     "22e6bce546434bcf9cc42eb9a0d861e9": {
      "model_module": "@jupyter-widgets/base",
      "model_module_version": "1.1.0",
      "model_name": "LayoutModel",
      "state": {
       "width": "42%"
      }
     },
     "2399dfa291d34d81a4471b906c5f59a7": {
      "model_module": "@jupyter-widgets/controls",
      "model_module_version": "1.4.0",
      "model_name": "ButtonModel",
      "state": {
       "description": "Predict Response(t+1)",
       "disabled": true,
       "layout": "IPY_MODEL_7ea1551cb76542dfa760a333e0619a55",
       "style": "IPY_MODEL_494d94cf1e2d494ebb127c2253cc312b"
      }
     },
     "23e43d5663aa45b1837a11cc6423dc86": {
      "model_module": "@jupyter-widgets/controls",
      "model_module_version": "1.4.0",
      "model_name": "ButtonModel",
      "state": {
       "description": "Predict Response(t+1)",
       "layout": "IPY_MODEL_cfad5f40eb6f46cd8b3581b426a7ae98",
       "style": "IPY_MODEL_ae4991a3f97c4b409a66d7a43f6482f6"
      }
     },
     "23f38b38cb8d4622b5ff61fa1b8d9ee4": {
      "model_module": "@jupyter-widgets/controls",
      "model_module_version": "1.4.0",
      "model_name": "TextModel",
      "state": {
       "description": "Next Step",
       "layout": "IPY_MODEL_78a42dfce3184274a4c6b65b2661ce48",
       "style": "IPY_MODEL_c4e9ea7f188843f09240fe0a0b204a8d",
       "value": "Successful Completion"
      }
     },
     "26a812405eea4253a93b39eefb7b86e9": {
      "model_module": "@jupyter-widgets/controls",
      "model_module_version": "1.4.0",
      "model_name": "ButtonStyleModel",
      "state": {}
     },
     "26d39e3bcfc7405bbc3070fe887e5b5f": {
      "model_module": "@jupyter-widgets/controls",
      "model_module_version": "1.4.0",
      "model_name": "DescriptionStyleModel",
      "state": {
       "description_width": "initial"
      }
     },
     "2716394188814ea3bbed14d8fdddb46a": {
      "model_module": "@jupyter-widgets/base",
      "model_module_version": "1.1.0",
      "model_name": "LayoutModel",
      "state": {
       "width": "42%"
      }
     },
     "27fbb970d8be4c6bbf7720bc6213aa95": {
      "model_module": "@jupyter-widgets/controls",
      "model_module_version": "1.4.0",
      "model_name": "HBoxModel",
      "state": {
       "children": [
        "IPY_MODEL_6ce739e45dff4f8b83001e3123dbec5c",
        "IPY_MODEL_dd8fa56ff0724f18a2d9cab6f0ec028c"
       ],
       "layout": "IPY_MODEL_0a3d2324961e467eae6f1ff60926d509"
      }
     },
     "289ce1c4d99c4438b5c6b5a66455f323": {
      "model_module": "@jupyter-widgets/base",
      "model_module_version": "1.1.0",
      "model_name": "LayoutModel",
      "state": {
       "justify_content": "center"
      }
     },
     "2920fed62830475bb0ff4960fc59cf03": {
      "model_module": "@jupyter-widgets/controls",
      "model_module_version": "1.4.0",
      "model_name": "HBoxModel",
      "state": {
       "children": [
        "IPY_MODEL_154bce923f2941ae81a2386ffe0d57f9",
        "IPY_MODEL_4d908e0c9be14de49ca98f372f429f04"
       ],
       "layout": "IPY_MODEL_e4b040841521454bae2f6ef5f4bdedaa"
      }
     },
     "298f656de276460bb188b6afb865c608": {
      "model_module": "@jupyter-widgets/base",
      "model_module_version": "1.1.0",
      "model_name": "LayoutModel",
      "state": {
       "width": "42%"
      }
     },
     "2a0398caad7642f1834101c1a91afe65": {
      "model_module": "@jupyter-widgets/controls",
      "model_module_version": "1.4.0",
      "model_name": "HBoxModel",
      "state": {
       "children": [
        "IPY_MODEL_502592db6ed94a9d9494e587d4e82ce8",
        "IPY_MODEL_c82d6355ac524ebeb0a03bf645e841f5"
       ],
       "layout": "IPY_MODEL_40d2fccb7a87416f8465c80d172020c0"
      }
     },
     "2b035a3ed20341c08bb72da2db1feeec": {
      "model_module": "@jupyter-widgets/base",
      "model_module_version": "1.1.0",
      "model_name": "LayoutModel",
      "state": {
       "justify_content": "center"
      }
     },
     "2b0fa78cc9e74364ad1dc5b54d82b1a0": {
      "model_module": "@jupyter-widgets/controls",
      "model_module_version": "1.4.0",
      "model_name": "TextModel",
      "state": {
       "description": "Next Step",
       "layout": "IPY_MODEL_f38acae4f32d4ee9a1344e90b97aca43",
       "style": "IPY_MODEL_32c674279a26479d85aa368bd4d400c5",
       "value": "Hit lower tox limit"
      }
     },
     "2baa73a4f8e444699ebd761f0b0e6d34": {
      "model_module": "@jupyter-widgets/base",
      "model_module_version": "1.1.0",
      "model_name": "LayoutModel",
      "state": {
       "width": "42%"
      }
     },
     "2c9e5853c1974f9f9569e2320606b35b": {
      "model_module": "@jupyter-widgets/controls",
      "model_module_version": "1.4.0",
      "model_name": "FloatSliderModel",
      "state": {
       "description": "Dose(t)",
       "layout": "IPY_MODEL_5dc86fa408124542aba9db2b2a063a10",
       "max": 10,
       "min": -10,
       "step": 0.01,
       "style": "IPY_MODEL_b3d7ba76564d488bb4b95b202cdceb96",
       "value": 1.43
      }
     },
     "2ca12a6601e44c4ba1b0259243f20316": {
      "model_module": "@jupyter-widgets/controls",
      "model_module_version": "1.4.0",
      "model_name": "ButtonModel",
      "state": {
       "description": "Administer Dose(t)",
       "disabled": true,
       "layout": "IPY_MODEL_97d026ee3b174d3bb0ce997c953253f6",
       "style": "IPY_MODEL_0c03ce79269847bd87b42e8980da5ebb"
      }
     },
     "2cfb865ac50d4141b32e3cd98f8c3e2f": {
      "model_module": "@jupyter-widgets/base",
      "model_module_version": "1.1.0",
      "model_name": "LayoutModel",
      "state": {
       "justify_content": "center"
      }
     },
     "2e32e14e87b54743a6333b1e24848122": {
      "model_module": "@jupyter-widgets/controls",
      "model_module_version": "1.4.0",
      "model_name": "TextModel",
      "state": {
       "description": "Response(t+1) ",
       "disabled": true,
       "layout": "IPY_MODEL_0e6c7ec2c1e1456ba673ddbd88d91584",
       "style": "IPY_MODEL_589393802fe1448c9a734386253498d5",
       "value": "  "
      }
     },
     "2e35f1bf00f1439cba5982d0e06be281": {
      "model_module": "@jupyter-widgets/controls",
      "model_module_version": "1.4.0",
      "model_name": "HBoxModel",
      "state": {
       "children": [
        "IPY_MODEL_d54fc47a08544f10abf9e225e368b838",
        "IPY_MODEL_f57f160c031a4385b96699f3de1a0ed2"
       ],
       "layout": "IPY_MODEL_609532047cea4d2aa5a76e190017a882"
      }
     },
     "2eedc88b87be4cc598862ac1d2e6f0b9": {
      "model_module": "@jupyter-widgets/base",
      "model_module_version": "1.1.0",
      "model_name": "LayoutModel",
      "state": {
       "width": "42%"
      }
     },
     "2f4dc84a2025406d8272c2d578657e2e": {
      "model_module": "@jupyter-widgets/controls",
      "model_module_version": "1.4.0",
      "model_name": "ButtonModel",
      "state": {
       "description": "Predict Response(t+1)",
       "layout": "IPY_MODEL_c4ff340510a644bda9997d29b5d9f3b4",
       "style": "IPY_MODEL_3bf0987f3a9d45dea299b14bb28cba78"
      }
     },
     "300226540e174695a06f188d144a9cce": {
      "model_module": "@jupyter-widgets/base",
      "model_module_version": "1.1.0",
      "model_name": "LayoutModel",
      "state": {}
     },
     "3027cdb0e0e449e4939059655903bdf5": {
      "model_module": "@jupyter-widgets/base",
      "model_module_version": "1.1.0",
      "model_name": "LayoutModel",
      "state": {
       "justify_content": "center"
      }
     },
     "305236f6a28743d7938b10de74266493": {
      "model_module": "@jupyter-widgets/base",
      "model_module_version": "1.1.0",
      "model_name": "LayoutModel",
      "state": {}
     },
     "3139cf01dd9f453eb2d2373f3f9b750a": {
      "model_module": "@jupyter-widgets/controls",
      "model_module_version": "1.4.0",
      "model_name": "ButtonStyleModel",
      "state": {}
     },
     "326eaa7843094062aaa5a5676815ddfd": {
      "model_module": "@jupyter-widgets/base",
      "model_module_version": "1.1.0",
      "model_name": "LayoutModel",
      "state": {
       "justify_content": "center"
      }
     },
     "32c674279a26479d85aa368bd4d400c5": {
      "model_module": "@jupyter-widgets/controls",
      "model_module_version": "1.4.0",
      "model_name": "DescriptionStyleModel",
      "state": {
       "description_width": ""
      }
     },
     "337053ece59c44e196c0dbc2926fbd9c": {
      "model_module": "@jupyter-widgets/controls",
      "model_module_version": "1.4.0",
      "model_name": "ButtonStyleModel",
      "state": {}
     },
     "33a6500f707847b095c0b1447d0e2b92": {
      "model_module": "@jupyter-widgets/base",
      "model_module_version": "1.1.0",
      "model_name": "LayoutModel",
      "state": {}
     },
     "344e7c67fa0b424b85d38e01fd606d66": {
      "model_module": "@jupyter-widgets/base",
      "model_module_version": "1.1.0",
      "model_name": "LayoutModel",
      "state": {}
     },
     "34514ad588054f2e92cb0277cbf6339a": {
      "model_module": "@jupyter-widgets/base",
      "model_module_version": "1.1.0",
      "model_name": "LayoutModel",
      "state": {
       "width": "95%"
      }
     },
     "347330237ad74458bab5576eae6126f6": {
      "model_module": "@jupyter-widgets/controls",
      "model_module_version": "1.4.0",
      "model_name": "FloatSliderModel",
      "state": {
       "description": "Dose(t)",
       "layout": "IPY_MODEL_b04f1d8494bd4c1f82f229260ef4ce36",
       "max": 10,
       "min": -10,
       "step": 0.01,
       "style": "IPY_MODEL_7efde4aaa13a4f92a249a7d729e1520c",
       "value": 0.53
      }
     },
     "35dddc4c35d849bfa1196cb47a035aff": {
      "model_module": "@jupyter-widgets/controls",
      "model_module_version": "1.4.0",
      "model_name": "FloatSliderModel",
      "state": {
       "description": "Dose(t)",
       "layout": "IPY_MODEL_ed9cbe41ffa64544a995f86234da6a73",
       "max": 10,
       "min": -10,
       "step": 0.01,
       "style": "IPY_MODEL_076ec1030c03401c83308d41f6b3e233"
      }
     },
     "36499fb0416d4ba9a0dcd3517e4694c5": {
      "model_module": "@jupyter-widgets/controls",
      "model_module_version": "1.4.0",
      "model_name": "ButtonStyleModel",
      "state": {}
     },
     "37cbf8c6252f4ceba02012dd144ab6c2": {
      "model_module": "@jupyter-widgets/controls",
      "model_module_version": "1.4.0",
      "model_name": "HBoxModel",
      "state": {
       "children": [
        "IPY_MODEL_e8d2bfa31b2345d9b6770adc27d9e13b",
        "IPY_MODEL_2252216b11674301a1dc6d6793999617"
       ],
       "layout": "IPY_MODEL_8f102acff5d94b9db39321529daa7463"
      }
     },
     "37d1111072bd43b2b3bceac7c6626425": {
      "model_module": "@jupyter-widgets/controls",
      "model_module_version": "1.4.0",
      "model_name": "DescriptionStyleModel",
      "state": {
       "description_width": ""
      }
     },
     "381df80769c94b0bbf669d739f317b3c": {
      "model_module": "@jupyter-widgets/controls",
      "model_module_version": "1.4.0",
      "model_name": "SliderStyleModel",
      "state": {
       "description_width": ""
      }
     },
     "386346217bc54b6a8c8ddb9199f0d2cf": {
      "model_module": "@jupyter-widgets/base",
      "model_module_version": "1.1.0",
      "model_name": "LayoutModel",
      "state": {
       "justify_content": "center"
      }
     },
     "38dd512af98346688253ae2c692b679f": {
      "model_module": "@jupyter-widgets/controls",
      "model_module_version": "1.4.0",
      "model_name": "HBoxModel",
      "state": {
       "children": [
        "IPY_MODEL_0c04bfdd8cfe4b1f8288ceb3b479473a",
        "IPY_MODEL_67dc0b4592a54b44b5fa1c0a144d8bfd"
       ],
       "layout": "IPY_MODEL_e8599bd2a44349adb56784521e651176"
      }
     },
     "391db06aff1f48dc9239e3afadae891b": {
      "model_module": "@jupyter-widgets/controls",
      "model_module_version": "1.4.0",
      "model_name": "HBoxModel",
      "state": {
       "children": [
        "IPY_MODEL_414c94a7421448998be5e05fe7fdf784",
        "IPY_MODEL_963c2a580dda400e9d632821f46e338c"
       ],
       "layout": "IPY_MODEL_87dbbd26f1d64a4eb8f392affd5b80c0"
      }
     },
     "3b356e18494a4dfaba153780407a990b": {
      "model_module": "@jupyter-widgets/controls",
      "model_module_version": "1.4.0",
      "model_name": "ButtonStyleModel",
      "state": {}
     },
     "3ba5003d35e9476fb93f2752326b1e1c": {
      "model_module": "@jupyter-widgets/controls",
      "model_module_version": "1.4.0",
      "model_name": "DescriptionStyleModel",
      "state": {
       "description_width": "initial"
      }
     },
     "3ba95bd352924e83b222406a56d0c238": {
      "model_module": "@jupyter-widgets/base",
      "model_module_version": "1.1.0",
      "model_name": "LayoutModel",
      "state": {}
     },
     "3bcf8d3723de4eea9cbcaf412a808af5": {
      "model_module": "@jupyter-widgets/controls",
      "model_module_version": "1.4.0",
      "model_name": "TextModel",
      "state": {
       "description": "Next Step",
       "layout": "IPY_MODEL_13ee1d862dc749cbbddea2155a07abf6",
       "style": "IPY_MODEL_d2a23063baf84feb87593f04fab42cd6",
       "value": "Predict Response(t+1)  "
      }
     },
     "3bcf9f46ff2449369608dfa3b874e388": {
      "model_module": "@jupyter-widgets/base",
      "model_module_version": "1.1.0",
      "model_name": "LayoutModel",
      "state": {}
     },
     "3bf0987f3a9d45dea299b14bb28cba78": {
      "model_module": "@jupyter-widgets/controls",
      "model_module_version": "1.4.0",
      "model_name": "ButtonStyleModel",
      "state": {}
     },
     "3cd026d3f11947b89c86629b4317c82c": {
      "model_module": "@jupyter-widgets/controls",
      "model_module_version": "1.4.0",
      "model_name": "ButtonModel",
      "state": {
       "description": "Predict Response(t+1)",
       "layout": "IPY_MODEL_1b819ccbdc484c548cda756cc2159f18",
       "style": "IPY_MODEL_be8303ca437c442292c37b189157c7c3"
      }
     },
     "3ce88834dad3452aa1cf30b11584ec6c": {
      "model_module": "@jupyter-widgets/controls",
      "model_module_version": "1.4.0",
      "model_name": "ButtonModel",
      "state": {
       "description": "Administer Dose(t)",
       "disabled": true,
       "layout": "IPY_MODEL_a7ed6fa9d13041a88fc14cf0025cfb71",
       "style": "IPY_MODEL_a71d7b646bee4aef83141bf5554d00ad"
      }
     },
     "3d7ff347306d42b98bd568bb482d3a22": {
      "model_module": "@jupyter-widgets/controls",
      "model_module_version": "1.4.0",
      "model_name": "ButtonStyleModel",
      "state": {}
     },
     "3e9081422e614a52bb96b36563e1dda4": {
      "model_module": "@jupyter-widgets/controls",
      "model_module_version": "1.4.0",
      "model_name": "ButtonStyleModel",
      "state": {}
     },
     "3edcee2a091d41558d85ec886821438e": {
      "model_module": "@jupyter-widgets/controls",
      "model_module_version": "1.4.0",
      "model_name": "ButtonStyleModel",
      "state": {}
     },
     "3f2c218119f047a08f2dd2cd0dbeea3b": {
      "model_module": "@jupyter-widgets/base",
      "model_module_version": "1.1.0",
      "model_name": "LayoutModel",
      "state": {}
     },
     "40981a7a083f4622ba7768ab2b273685": {
      "model_module": "@jupyter-widgets/controls",
      "model_module_version": "1.4.0",
      "model_name": "DescriptionStyleModel",
      "state": {
       "description_width": "initial"
      }
     },
     "40d2fccb7a87416f8465c80d172020c0": {
      "model_module": "@jupyter-widgets/base",
      "model_module_version": "1.1.0",
      "model_name": "LayoutModel",
      "state": {
       "justify_content": "center"
      }
     },
     "40f40cab43f54764a6e64bebaee628d2": {
      "model_module": "@jupyter-widgets/controls",
      "model_module_version": "1.4.0",
      "model_name": "DescriptionStyleModel",
      "state": {
       "description_width": "initial"
      }
     },
     "4148125e6a6e458fbfcb0382dba69ff3": {
      "model_module": "@jupyter-widgets/controls",
      "model_module_version": "1.4.0",
      "model_name": "HBoxModel",
      "state": {
       "children": [
        "IPY_MODEL_f2f09903188a48d6ac121316a6f6ef94",
        "IPY_MODEL_0c2ae233848f427692bf2244cd5693bc"
       ],
       "layout": "IPY_MODEL_6ede3c958df5435d9877b770809d7733"
      }
     },
     "414c94a7421448998be5e05fe7fdf784": {
      "model_module": "@jupyter-widgets/controls",
      "model_module_version": "1.4.0",
      "model_name": "ButtonModel",
      "state": {
       "description": "Predict Response(t+1)",
       "layout": "IPY_MODEL_e82ec4c293a0420586df3c59390abade",
       "style": "IPY_MODEL_2172a36b7bcb49d284b831f99b3ee9c5"
      }
     },
     "421aa1cf62964b4b966f1b33cfe23c2f": {
      "model_module": "@jupyter-widgets/controls",
      "model_module_version": "1.4.0",
      "model_name": "DescriptionStyleModel",
      "state": {
       "description_width": ""
      }
     },
     "424b555ce6c0412f9b2d509f22b566b9": {
      "model_module": "@jupyter-widgets/controls",
      "model_module_version": "1.4.0",
      "model_name": "ButtonModel",
      "state": {
       "description": "Predict Response(t+1)",
       "layout": "IPY_MODEL_d8a1f05178cc4f789b89c399f8333eae",
       "style": "IPY_MODEL_1d9f3480e70c4fe2ae8af18af92b1f4b"
      }
     },
     "4259f8181294444b8f088c32fc551b3a": {
      "model_module": "@jupyter-widgets/controls",
      "model_module_version": "1.4.0",
      "model_name": "HBoxModel",
      "state": {
       "children": [
        "IPY_MODEL_61692497929e41e3910975ff667ca0c3",
        "IPY_MODEL_537f68d0d46c43e9b2c8a1bf8eac4ce8"
       ],
       "layout": "IPY_MODEL_fbc759d0f1b540cd9be186f41aaad8bb"
      }
     },
     "43a7f22d76124aad926313165059f602": {
      "model_module": "@jupyter-widgets/controls",
      "model_module_version": "1.4.0",
      "model_name": "FloatSliderModel",
      "state": {
       "description": "Dose(t)",
       "layout": "IPY_MODEL_d7326285cbd4420f82951e220971ae4c",
       "max": 10,
       "min": -10,
       "step": 0.01,
       "style": "IPY_MODEL_116e0cd1b5cf408ebe04f993f9f5147e",
       "value": 0.54
      }
     },
     "44213fa0d677497298f063b039f0d490": {
      "model_module": "@jupyter-widgets/controls",
      "model_module_version": "1.4.0",
      "model_name": "ButtonModel",
      "state": {
       "description": "Administer Dose(t)",
       "disabled": true,
       "layout": "IPY_MODEL_1459672da17441b1b5036fedbf3f7f62",
       "style": "IPY_MODEL_49fe473726c54356b71f76199a6da9e1"
      }
     },
     "459573a5464e4040be333848d966ef81": {
      "model_module": "@jupyter-widgets/controls",
      "model_module_version": "1.4.0",
      "model_name": "ButtonModel",
      "state": {
       "description": "Administer Dose(t)",
       "disabled": true,
       "layout": "IPY_MODEL_0cec74e386be41e894235b1d283d5640",
       "style": "IPY_MODEL_36499fb0416d4ba9a0dcd3517e4694c5"
      }
     },
     "45ef44f8e2374c9380d0c76e93e788d8": {
      "model_module": "@jupyter-widgets/base",
      "model_module_version": "1.1.0",
      "model_name": "LayoutModel",
      "state": {
       "width": "42%"
      }
     },
     "4701c9fe2d8c4ebb99a0c63aa03b8bef": {
      "model_module": "@jupyter-widgets/base",
      "model_module_version": "1.1.0",
      "model_name": "LayoutModel",
      "state": {
       "justify_content": "center"
      }
     },
     "4737425401214705bf3400961d0cd709": {
      "model_module": "@jupyter-widgets/controls",
      "model_module_version": "1.4.0",
      "model_name": "ButtonModel",
      "state": {
       "description": "Administer Dose(t)",
       "disabled": true,
       "layout": "IPY_MODEL_bd6ee27849ac42cc82371d07c9d643b6",
       "style": "IPY_MODEL_eb9c5f8672ff4fd18894ebc109c60eda"
      }
     },
     "47a4fcb027254d6997b49582dd52a557": {
      "model_module": "@jupyter-widgets/controls",
      "model_module_version": "1.4.0",
      "model_name": "ButtonStyleModel",
      "state": {}
     },
     "48d47461415f48da87d6bd3143780f2b": {
      "model_module": "@jupyter-widgets/controls",
      "model_module_version": "1.4.0",
      "model_name": "ButtonModel",
      "state": {
       "description": "Predict Response(t+1)",
       "layout": "IPY_MODEL_66c317b7ed0c4b4eb501110b4d6982e6",
       "style": "IPY_MODEL_d580c39264154a45846367f9dd1427e5"
      }
     },
     "494d94cf1e2d494ebb127c2253cc312b": {
      "model_module": "@jupyter-widgets/controls",
      "model_module_version": "1.4.0",
      "model_name": "ButtonStyleModel",
      "state": {}
     },
     "497ddd7f230f4030ab3abd315293be50": {
      "model_module": "@jupyter-widgets/controls",
      "model_module_version": "1.4.0",
      "model_name": "ButtonStyleModel",
      "state": {}
     },
     "4981081503a24939920c25f27f01c7bd": {
      "model_module": "@jupyter-widgets/base",
      "model_module_version": "1.1.0",
      "model_name": "LayoutModel",
      "state": {
       "width": "95%"
      }
     },
     "49993292fef14d3b87f61e4c57a29f80": {
      "model_module": "@jupyter-widgets/base",
      "model_module_version": "1.1.0",
      "model_name": "LayoutModel",
      "state": {}
     },
     "49fe473726c54356b71f76199a6da9e1": {
      "model_module": "@jupyter-widgets/controls",
      "model_module_version": "1.4.0",
      "model_name": "ButtonStyleModel",
      "state": {}
     },
     "4a12501fe2a446d98d0fb2daf361337d": {
      "model_module": "@jupyter-widgets/controls",
      "model_module_version": "1.4.0",
      "model_name": "ButtonStyleModel",
      "state": {}
     },
     "4a30ba8a37c94d468755273ce5e0b916": {
      "model_module": "@jupyter-widgets/controls",
      "model_module_version": "1.4.0",
      "model_name": "SliderStyleModel",
      "state": {
       "description_width": ""
      }
     },
     "4a34fcebf76848b2b0b6b45911141f6a": {
      "model_module": "@jupyter-widgets/controls",
      "model_module_version": "1.4.0",
      "model_name": "ButtonModel",
      "state": {
       "description": "Administer Dose(t)",
       "disabled": true,
       "layout": "IPY_MODEL_1a294373fb3e471baff499db21d1ef5e",
       "style": "IPY_MODEL_f10c70a716f9455c917522757d882483"
      }
     },
     "4ac0edac95fa4ddc957eeb4bca8fa1f4": {
      "model_module": "@jupyter-widgets/base",
      "model_module_version": "1.1.0",
      "model_name": "LayoutModel",
      "state": {
       "width": "42%"
      }
     },
     "4b04162859d44f3d86b766bf43864f2f": {
      "model_module": "@jupyter-widgets/controls",
      "model_module_version": "1.4.0",
      "model_name": "TextModel",
      "state": {
       "description": "Next Step",
       "layout": "IPY_MODEL_3ba95bd352924e83b222406a56d0c238",
       "style": "IPY_MODEL_d2ceb75c9b5b48019b164fad36b635f8",
       "value": "Increase dose(t) and Predict"
      }
     },
     "4b16627cd21b49a991717349dcc0f39e": {
      "model_module": "@jupyter-widgets/controls",
      "model_module_version": "1.4.0",
      "model_name": "HBoxModel",
      "state": {
       "children": [
        "IPY_MODEL_edb82dc7e54b442f932c1af931fdffb4",
        "IPY_MODEL_e1988a5aa4dc4bc2a507e12e6beb3a31"
       ],
       "layout": "IPY_MODEL_b9169c4237734f928f4b01df729c2263"
      }
     },
     "4b30e56caeeb43bbb9a865a1c6c1837d": {
      "model_module": "@jupyter-widgets/controls",
      "model_module_version": "1.4.0",
      "model_name": "HBoxModel",
      "state": {
       "children": [
        "IPY_MODEL_104415e3dc274d11bd79c43b5f27da12",
        "IPY_MODEL_44213fa0d677497298f063b039f0d490"
       ],
       "layout": "IPY_MODEL_aed8b7420fa54206be1442b4763dc690"
      }
     },
     "4b4941f16f364fa0ad8add2434a27117": {
      "model_module": "@jupyter-widgets/controls",
      "model_module_version": "1.4.0",
      "model_name": "TextModel",
      "state": {
       "description": "Response(t+1) ",
       "disabled": true,
       "layout": "IPY_MODEL_5c70176f1e1b4dc6a457dcd608197e76",
       "style": "IPY_MODEL_bb78fe4891034bb1a307cb33083a20df",
       "value": "  "
      }
     },
     "4d6b808dc5f14792af76147ec724616c": {
      "model_module": "@jupyter-widgets/controls",
      "model_module_version": "1.4.0",
      "model_name": "FloatSliderModel",
      "state": {
       "description": "Dose(t)",
       "layout": "IPY_MODEL_86e4deae87b3424895dfd33996c5a23e",
       "max": 10,
       "min": -10,
       "step": 0.01,
       "style": "IPY_MODEL_c50c5c21c634449697f9cc7737cbd95b",
       "value": 4.23
      }
     },
     "4d908e0c9be14de49ca98f372f429f04": {
      "model_module": "@jupyter-widgets/controls",
      "model_module_version": "1.4.0",
      "model_name": "TextModel",
      "state": {
       "description": "Next Step",
       "layout": "IPY_MODEL_1ef26e0b6a91477d88fcba7838e555e1",
       "style": "IPY_MODEL_d215c5126a5d4ca1b8842dcb98780736",
       "value": "Successful Completion"
      }
     },
     "4e1fde5ca2574b09a115ea511786a24c": {
      "model_module": "@jupyter-widgets/controls",
      "model_module_version": "1.4.0",
      "model_name": "DescriptionStyleModel",
      "state": {
       "description_width": "initial"
      }
     },
     "4e35421308034f85af3e706064d26ee0": {
      "model_module": "@jupyter-widgets/controls",
      "model_module_version": "1.4.0",
      "model_name": "FloatSliderModel",
      "state": {
       "description": "Dose(t)",
       "layout": "IPY_MODEL_125cfba9ee024c9fbd91084467a841b9",
       "max": 10,
       "min": -10,
       "step": 0.01,
       "style": "IPY_MODEL_0ad9f37ff7e1409e9cd22abe0c9b9f2c"
      }
     },
     "4e7747e5ba684b80ac48d66bc7ce6e1d": {
      "model_module": "@jupyter-widgets/controls",
      "model_module_version": "1.4.0",
      "model_name": "HBoxModel",
      "state": {
       "children": [
        "IPY_MODEL_b89bdd81f4be414a9b03a405b330537a",
        "IPY_MODEL_159436a0cd284cf6998578e86d35d5dc"
       ],
       "layout": "IPY_MODEL_f737a9ed60ee41628c6038e6bd8f20ec"
      }
     },
     "4f0016f913ce4a989ca9de5814401c08": {
      "model_module": "@jupyter-widgets/base",
      "model_module_version": "1.1.0",
      "model_name": "LayoutModel",
      "state": {}
     },
     "4f66b33320d34c768befc72938473b1d": {
      "model_module": "@jupyter-widgets/base",
      "model_module_version": "1.1.0",
      "model_name": "LayoutModel",
      "state": {
       "width": "42%"
      }
     },
     "4fccf838e71e43f4b0e5163a93629f76": {
      "model_module": "@jupyter-widgets/controls",
      "model_module_version": "1.4.0",
      "model_name": "TextModel",
      "state": {
       "description": "Response(t+1) ",
       "disabled": true,
       "layout": "IPY_MODEL_1af2fddaafa44561adabd0d381aed625",
       "style": "IPY_MODEL_b7ae42f3ed504f148a5b5b1813cf830d",
       "value": "5.17 (in range)"
      }
     },
     "4fe10e5c275b4181b7fe8989ef39f605": {
      "model_module": "@jupyter-widgets/base",
      "model_module_version": "1.1.0",
      "model_name": "LayoutModel",
      "state": {
       "justify_content": "center"
      }
     },
     "4fe19b45a2424016b2129e461e230835": {
      "model_module": "@jupyter-widgets/base",
      "model_module_version": "1.1.0",
      "model_name": "LayoutModel",
      "state": {
       "width": "42%"
      }
     },
     "502592db6ed94a9d9494e587d4e82ce8": {
      "model_module": "@jupyter-widgets/controls",
      "model_module_version": "1.4.0",
      "model_name": "ButtonModel",
      "state": {
       "description": "Predict Response(t+1)",
       "disabled": true,
       "layout": "IPY_MODEL_a04910f70f604bd7968d21a7390face8",
       "style": "IPY_MODEL_f210065ef4614d908a8d58a418030e3d"
      }
     },
     "505dad8f47d0444597a5440b934675fa": {
      "model_module": "@jupyter-widgets/controls",
      "model_module_version": "1.4.0",
      "model_name": "TextModel",
      "state": {
       "description": "Response(t+1) ",
       "disabled": true,
       "layout": "IPY_MODEL_f3b0b79639bc4b69b2105cd51ba8ed4a",
       "style": "IPY_MODEL_6f1c4bba2ff049b8b58c96cfc3f962f4",
       "value": "4.87 (in range)"
      }
     },
     "50bc8c7589c8435293fb0cc7c84861b1": {
      "model_module": "@jupyter-widgets/controls",
      "model_module_version": "1.4.0",
      "model_name": "ButtonModel",
      "state": {
       "description": "Predict Response(t+1)",
       "layout": "IPY_MODEL_74f29b733c8e43cd80339067f24d34cb",
       "style": "IPY_MODEL_337053ece59c44e196c0dbc2926fbd9c"
      }
     },
     "512c11586a13499a8da5092ef221631b": {
      "model_module": "@jupyter-widgets/base",
      "model_module_version": "1.1.0",
      "model_name": "LayoutModel",
      "state": {
       "justify_content": "center"
      }
     },
     "51ccdaf9d1ac4d6fa711e439225f143c": {
      "model_module": "@jupyter-widgets/controls",
      "model_module_version": "1.4.0",
      "model_name": "DescriptionStyleModel",
      "state": {
       "description_width": "initial"
      }
     },
     "51d112d7f2fa45c2aa3d9c595a0f3bca": {
      "model_module": "@jupyter-widgets/base",
      "model_module_version": "1.1.0",
      "model_name": "LayoutModel",
      "state": {}
     },
     "528c22a7eb1a4339853aec47cf195263": {
      "model_module": "@jupyter-widgets/base",
      "model_module_version": "1.1.0",
      "model_name": "LayoutModel",
      "state": {
       "width": "42%"
      }
     },
     "534f7d52f58d49919e5fc4cf016e0515": {
      "model_module": "@jupyter-widgets/base",
      "model_module_version": "1.1.0",
      "model_name": "LayoutModel",
      "state": {
       "width": "95%"
      }
     },
     "537f68d0d46c43e9b2c8a1bf8eac4ce8": {
      "model_module": "@jupyter-widgets/controls",
      "model_module_version": "1.4.0",
      "model_name": "TextModel",
      "state": {
       "description": "Next Step",
       "layout": "IPY_MODEL_300226540e174695a06f188d144a9cce",
       "style": "IPY_MODEL_9a7d9d5490f74e2bb4ee1ebe2370d27f",
       "value": "Predict Response(t+1)"
      }
     },
     "54aca4b6bc304a33912aa03f2bd2dc3f": {
      "model_module": "@jupyter-widgets/controls",
      "model_module_version": "1.4.0",
      "model_name": "SliderStyleModel",
      "state": {
       "description_width": ""
      }
     },
     "54c201460cf348b2af29a887ff5d5b6a": {
      "model_module": "@jupyter-widgets/base",
      "model_module_version": "1.1.0",
      "model_name": "LayoutModel",
      "state": {
       "width": "42%"
      }
     },
     "54d98e77d9c140f5b6f6a26ddb404a10": {
      "model_module": "@jupyter-widgets/base",
      "model_module_version": "1.1.0",
      "model_name": "LayoutModel",
      "state": {
       "width": "95%"
      }
     },
     "56818f00b59e4500996159b0e78eb2be": {
      "model_module": "@jupyter-widgets/controls",
      "model_module_version": "1.4.0",
      "model_name": "HBoxModel",
      "state": {
       "children": [
        "IPY_MODEL_d005af7968254de89a6df51708ebb703",
        "IPY_MODEL_f35c730f044b47d2a2634f4c6abd2191"
       ],
       "layout": "IPY_MODEL_c1be487cd0884ceb962a5afadfb02e64"
      }
     },
     "56d1312a2eef45698d78113e8c83fddd": {
      "model_module": "@jupyter-widgets/controls",
      "model_module_version": "1.4.0",
      "model_name": "DescriptionStyleModel",
      "state": {
       "description_width": ""
      }
     },
     "56d898b0af4e423a9b4245b44b2fc3d6": {
      "model_module": "@jupyter-widgets/base",
      "model_module_version": "1.1.0",
      "model_name": "LayoutModel",
      "state": {}
     },
     "573a17478f7047c1a7c748c1b5866466": {
      "model_module": "@jupyter-widgets/controls",
      "model_module_version": "1.4.0",
      "model_name": "FloatSliderModel",
      "state": {
       "description": "Dose(t)",
       "layout": "IPY_MODEL_11578dd36a6543ceadc51fbc421dfddb",
       "max": 10,
       "min": -10,
       "step": 0.01,
       "style": "IPY_MODEL_b48170f32c8e4f8ba81197998816d855",
       "value": 1.15
      }
     },
     "589393802fe1448c9a734386253498d5": {
      "model_module": "@jupyter-widgets/controls",
      "model_module_version": "1.4.0",
      "model_name": "DescriptionStyleModel",
      "state": {
       "description_width": "initial"
      }
     },
     "592d9262d2714a7a8f34da23a4028411": {
      "model_module": "@jupyter-widgets/base",
      "model_module_version": "1.1.0",
      "model_name": "LayoutModel",
      "state": {
       "justify_content": "center"
      }
     },
     "594cae7682334f93bbf6a6d7f64a19bc": {
      "model_module": "@jupyter-widgets/base",
      "model_module_version": "1.1.0",
      "model_name": "LayoutModel",
      "state": {}
     },
     "5aecb214e170443ab358419d1f491850": {
      "model_module": "@jupyter-widgets/controls",
      "model_module_version": "1.4.0",
      "model_name": "TextModel",
      "state": {
       "description": "Response(t+1) ",
       "disabled": true,
       "layout": "IPY_MODEL_09a9cf5b1ff446a0a801056dfd462bf9",
       "style": "IPY_MODEL_40f40cab43f54764a6e64bebaee628d2",
       "value": "  "
      }
     },
     "5c47f2ccf8d946f68316cdabf568ffa7": {
      "model_module": "@jupyter-widgets/controls",
      "model_module_version": "1.4.0",
      "model_name": "DescriptionStyleModel",
      "state": {
       "description_width": ""
      }
     },
     "5c70176f1e1b4dc6a457dcd608197e76": {
      "model_module": "@jupyter-widgets/base",
      "model_module_version": "1.1.0",
      "model_name": "LayoutModel",
      "state": {}
     },
     "5d615f02f9c5445684f5938ca250ceac": {
      "model_module": "@jupyter-widgets/controls",
      "model_module_version": "1.4.0",
      "model_name": "FloatSliderModel",
      "state": {
       "description": "Dose(t)",
       "layout": "IPY_MODEL_862b15226c694210865805e31079734d",
       "max": 10,
       "min": -10,
       "step": 0.01,
       "style": "IPY_MODEL_e7dffd1db6c444158be5e3b52a09b880",
       "value": 0.53
      }
     },
     "5d64cca9cbac40368c53256f44d88a84": {
      "model_module": "@jupyter-widgets/controls",
      "model_module_version": "1.4.0",
      "model_name": "TextModel",
      "state": {
       "description": "Response(t+1) ",
       "disabled": true,
       "layout": "IPY_MODEL_1866096e9dbd44b99108550a2624bc23",
       "style": "IPY_MODEL_a3bffca2071049a3b4a952c29bb551e9",
       "value": "  "
      }
     },
     "5dc86fa408124542aba9db2b2a063a10": {
      "model_module": "@jupyter-widgets/base",
      "model_module_version": "1.1.0",
      "model_name": "LayoutModel",
      "state": {
       "width": "95%"
      }
     },
     "5f7e454921f043f3b06fa40406b74e65": {
      "model_module": "@jupyter-widgets/controls",
      "model_module_version": "1.4.0",
      "model_name": "DescriptionStyleModel",
      "state": {
       "description_width": ""
      }
     },
     "609532047cea4d2aa5a76e190017a882": {
      "model_module": "@jupyter-widgets/base",
      "model_module_version": "1.1.0",
      "model_name": "LayoutModel",
      "state": {
       "justify_content": "center"
      }
     },
     "614b28c738854f7e852bd3888be7f432": {
      "model_module": "@jupyter-widgets/controls",
      "model_module_version": "1.4.0",
      "model_name": "ButtonStyleModel",
      "state": {}
     },
     "615f9d620e0542eea1c267338b59a071": {
      "model_module": "@jupyter-widgets/base",
      "model_module_version": "1.1.0",
      "model_name": "LayoutModel",
      "state": {}
     },
     "61692497929e41e3910975ff667ca0c3": {
      "model_module": "@jupyter-widgets/controls",
      "model_module_version": "1.4.0",
      "model_name": "TextModel",
      "state": {
       "description": "Response(t+1) ",
       "disabled": true,
       "layout": "IPY_MODEL_e1066b07ce154f1aa63b1830b9e1d972",
       "style": "IPY_MODEL_c3a47741b9514d08a7252cf62de1f243",
       "value": "4.89"
      }
     },
     "618bcca2b478481986a271a8828cc533": {
      "model_module": "@jupyter-widgets/controls",
      "model_module_version": "1.4.0",
      "model_name": "HBoxModel",
      "state": {
       "children": [
        "IPY_MODEL_afa0e9f0efc14446bcd9bac454ec77b8",
        "IPY_MODEL_fa625533e4f64183a5295a04d5037ca7"
       ],
       "layout": "IPY_MODEL_4fe10e5c275b4181b7fe8989ef39f605"
      }
     },
     "6241f9ec6f314c11a61599ef20e2e458": {
      "model_module": "@jupyter-widgets/controls",
      "model_module_version": "1.4.0",
      "model_name": "HBoxModel",
      "state": {
       "children": [
        "IPY_MODEL_6a89e3ab6d964c61a457e543702890e0",
        "IPY_MODEL_e4931278102f44718cf15523d863fccd"
       ],
       "layout": "IPY_MODEL_922a3fc5812f4fb9bb3f332b10b2c6fb"
      }
     },
     "62a0db136ba84cdbbbf1220b888881d6": {
      "model_module": "@jupyter-widgets/controls",
      "model_module_version": "1.4.0",
      "model_name": "ButtonModel",
      "state": {
       "description": "Predict Response(t+1)",
       "disabled": true,
       "layout": "IPY_MODEL_b481ac49bb634d33bf90a852c07ec6b0",
       "style": "IPY_MODEL_a88ea863d8c94b7db3a9e54b98f0c98c"
      }
     },
     "631a2ad58acb4443a17d0e22f5ecd50b": {
      "model_module": "@jupyter-widgets/controls",
      "model_module_version": "1.4.0",
      "model_name": "DescriptionStyleModel",
      "state": {
       "description_width": "initial"
      }
     },
     "63782116f59147b385e4aeaea3ef9c25": {
      "model_module": "@jupyter-widgets/base",
      "model_module_version": "1.1.0",
      "model_name": "LayoutModel",
      "state": {
       "width": "42%"
      }
     },
     "647d8c7301304a74ac8c4cfddc173ae6": {
      "model_module": "@jupyter-widgets/base",
      "model_module_version": "1.1.0",
      "model_name": "LayoutModel",
      "state": {}
     },
     "647fea64e9c44ab3b79f19ef3655467f": {
      "model_module": "@jupyter-widgets/base",
      "model_module_version": "1.1.0",
      "model_name": "LayoutModel",
      "state": {}
     },
     "6679247738bc4a6894d87fb479ac3a60": {
      "model_module": "@jupyter-widgets/controls",
      "model_module_version": "1.4.0",
      "model_name": "HBoxModel",
      "state": {
       "children": [
        "IPY_MODEL_8d63487340f54b378f6f6b2f4e4a2e55",
        "IPY_MODEL_671964bfee62456ea942af0ba032e83a"
       ],
       "layout": "IPY_MODEL_e65f57983e69411ab0b0befc7274a185"
      }
     },
     "66c317b7ed0c4b4eb501110b4d6982e6": {
      "model_module": "@jupyter-widgets/base",
      "model_module_version": "1.1.0",
      "model_name": "LayoutModel",
      "state": {
       "width": "42%"
      }
     },
     "671964bfee62456ea942af0ba032e83a": {
      "model_module": "@jupyter-widgets/controls",
      "model_module_version": "1.4.0",
      "model_name": "ButtonModel",
      "state": {
       "description": "Administer Dose(t)",
       "disabled": true,
       "layout": "IPY_MODEL_69d1ca8d3607400abcebfa3ebc91c1d3",
       "style": "IPY_MODEL_614b28c738854f7e852bd3888be7f432"
      }
     },
     "67dc0b4592a54b44b5fa1c0a144d8bfd": {
      "model_module": "@jupyter-widgets/controls",
      "model_module_version": "1.4.0",
      "model_name": "ButtonModel",
      "state": {
       "description": "Administer Dose(t)",
       "disabled": true,
       "layout": "IPY_MODEL_f89aa0d3d86744c19422f1dd7f6d84aa",
       "style": "IPY_MODEL_775ca751112f435a878f0e2446969fdb"
      }
     },
     "67e28e2a37664868922fe99736ea2eab": {
      "model_module": "@jupyter-widgets/controls",
      "model_module_version": "1.4.0",
      "model_name": "TextModel",
      "state": {
       "description": "Next Step",
       "layout": "IPY_MODEL_c4185a4c21b54d7a9d896832eee1f16f",
       "style": "IPY_MODEL_5c47f2ccf8d946f68316cdabf568ffa7",
       "value": "Predict Response(t+1)"
      }
     },
     "682c8fd675e34a40aee90ab2fa7a21a0": {
      "model_module": "@jupyter-widgets/controls",
      "model_module_version": "1.4.0",
      "model_name": "HBoxModel",
      "state": {
       "children": [
        "IPY_MODEL_7db419a588d3425197fcaac34a531d03",
        "IPY_MODEL_13c5a2362b9f454bb2e5b0bf4a067623"
       ],
       "layout": "IPY_MODEL_b0f6535619c3467b858efc57d7ec31e1"
      }
     },
     "69cde05467dc42ae9e30210ac23674c1": {
      "model_module": "@jupyter-widgets/base",
      "model_module_version": "1.1.0",
      "model_name": "LayoutModel",
      "state": {
       "justify_content": "center"
      }
     },
     "69d1ca8d3607400abcebfa3ebc91c1d3": {
      "model_module": "@jupyter-widgets/base",
      "model_module_version": "1.1.0",
      "model_name": "LayoutModel",
      "state": {
       "width": "42%"
      }
     },
     "6a89e3ab6d964c61a457e543702890e0": {
      "model_module": "@jupyter-widgets/controls",
      "model_module_version": "1.4.0",
      "model_name": "TextModel",
      "state": {
       "description": "Response(t+1) ",
       "disabled": true,
       "layout": "IPY_MODEL_615f9d620e0542eea1c267338b59a071",
       "style": "IPY_MODEL_ac40f3af24d646deacc5730b0bc05625",
       "value": "4.92 (in range)"
      }
     },
     "6b86836180e542a9b3178ad78413f81c": {
      "model_module": "@jupyter-widgets/controls",
      "model_module_version": "1.4.0",
      "model_name": "ButtonModel",
      "state": {
       "description": "Predict Response(t+1)",
       "disabled": true,
       "layout": "IPY_MODEL_22e6bce546434bcf9cc42eb9a0d861e9",
       "style": "IPY_MODEL_9ade70736415488da0906a91bbe8536a"
      }
     },
     "6c8e0ebb921041c1bf653b76f80104ff": {
      "model_module": "@jupyter-widgets/controls",
      "model_module_version": "1.4.0",
      "model_name": "DescriptionStyleModel",
      "state": {
       "description_width": "initial"
      }
     },
     "6ce739e45dff4f8b83001e3123dbec5c": {
      "model_module": "@jupyter-widgets/controls",
      "model_module_version": "1.4.0",
      "model_name": "TextModel",
      "state": {
       "description": "Response(t+1) ",
       "disabled": true,
       "layout": "IPY_MODEL_fad47deec66541b38d3a26140b748184",
       "style": "IPY_MODEL_a40e2c541aaa4e07a78bf819b617de2a",
       "value": "4.91"
      }
     },
     "6df2219b9a00488c9eeca53edc987033": {
      "model_module": "@jupyter-widgets/base",
      "model_module_version": "1.1.0",
      "model_name": "LayoutModel",
      "state": {
       "width": "42%"
      }
     },
     "6e6f03e1106e4e61ac7eabe7d9ea2fee": {
      "model_module": "@jupyter-widgets/base",
      "model_module_version": "1.1.0",
      "model_name": "LayoutModel",
      "state": {}
     },
     "6e88d1ff7f8247aca898c7dbf18e326c": {
      "model_module": "@jupyter-widgets/controls",
      "model_module_version": "1.4.0",
      "model_name": "TextModel",
      "state": {
       "description": "Response(t+1) ",
       "disabled": true,
       "layout": "IPY_MODEL_0fa6cd9902614b48a0b705b91b8eee11",
       "style": "IPY_MODEL_3ba5003d35e9476fb93f2752326b1e1c",
       "value": "4.77"
      }
     },
     "6ede3c958df5435d9877b770809d7733": {
      "model_module": "@jupyter-widgets/base",
      "model_module_version": "1.1.0",
      "model_name": "LayoutModel",
      "state": {
       "justify_content": "center"
      }
     },
     "6ee63b6af7fd405db6873c15ef4165a8": {
      "model_module": "@jupyter-widgets/controls",
      "model_module_version": "1.4.0",
      "model_name": "TextModel",
      "state": {
       "description": "Response(t+1) ",
       "disabled": true,
       "layout": "IPY_MODEL_647d8c7301304a74ac8c4cfddc173ae6",
       "style": "IPY_MODEL_51ccdaf9d1ac4d6fa711e439225f143c",
       "value": "5.03 (in range)"
      }
     },
     "6f1c4bba2ff049b8b58c96cfc3f962f4": {
      "model_module": "@jupyter-widgets/controls",
      "model_module_version": "1.4.0",
      "model_name": "DescriptionStyleModel",
      "state": {
       "description_width": "initial"
      }
     },
     "6f5abbbf561a41738f53ae8f1c35c223": {
      "model_module": "@jupyter-widgets/controls",
      "model_module_version": "1.4.0",
      "model_name": "ButtonStyleModel",
      "state": {}
     },
     "6f887701b8c445d7a6cb47d47178336f": {
      "model_module": "@jupyter-widgets/base",
      "model_module_version": "1.1.0",
      "model_name": "LayoutModel",
      "state": {
       "width": "42%"
      }
     },
     "6fd2adff35564d99a6fe83ef2064cd81": {
      "model_module": "@jupyter-widgets/controls",
      "model_module_version": "1.4.0",
      "model_name": "ButtonModel",
      "state": {
       "description": "Administer Dose(t)",
       "disabled": true,
       "layout": "IPY_MODEL_1a0b5357728b4aafb8d09ae3b12d86af",
       "style": "IPY_MODEL_bfa30f6911a244728098ad1df15ad6ed"
      }
     },
     "700f166b177a46b3bc7e8ac2001ef0e3": {
      "model_module": "@jupyter-widgets/controls",
      "model_module_version": "1.4.0",
      "model_name": "HBoxModel",
      "state": {
       "children": [
        "IPY_MODEL_505dad8f47d0444597a5440b934675fa",
        "IPY_MODEL_a026c654c79b4fe5b0597ba62791f0e7"
       ],
       "layout": "IPY_MODEL_b1535340cda247bb8b654cd92d3572f9"
      }
     },
     "7020576863994636beec0099d71909be": {
      "model_module": "@jupyter-widgets/controls",
      "model_module_version": "1.4.0",
      "model_name": "SliderStyleModel",
      "state": {
       "description_width": ""
      }
     },
     "70b13527e2a444fdabaa63273b86b586": {
      "model_module": "@jupyter-widgets/controls",
      "model_module_version": "1.4.0",
      "model_name": "HBoxModel",
      "state": {
       "children": [
        "IPY_MODEL_50bc8c7589c8435293fb0cc7c84861b1",
        "IPY_MODEL_897f2376e627442e95ebbd7368f4ff28"
       ],
       "layout": "IPY_MODEL_4701c9fe2d8c4ebb99a0c63aa03b8bef"
      }
     },
     "70edd22de1514253a006b9d60e2bc03d": {
      "model_module": "@jupyter-widgets/controls",
      "model_module_version": "1.4.0",
      "model_name": "DescriptionStyleModel",
      "state": {
       "description_width": "initial"
      }
     },
     "74211fd2a17243e290eafe7a0be9d4ee": {
      "model_module": "@jupyter-widgets/base",
      "model_module_version": "1.1.0",
      "model_name": "LayoutModel",
      "state": {}
     },
     "74f29b733c8e43cd80339067f24d34cb": {
      "model_module": "@jupyter-widgets/base",
      "model_module_version": "1.1.0",
      "model_name": "LayoutModel",
      "state": {
       "width": "42%"
      }
     },
     "7528dd4be87d4f98ba912c56e089a18e": {
      "model_module": "@jupyter-widgets/controls",
      "model_module_version": "1.4.0",
      "model_name": "HBoxModel",
      "state": {
       "children": [
        "IPY_MODEL_94de130f4c204fbe83daa20f30b4d314",
        "IPY_MODEL_03581fc1a49640b0bfa4b6e9cfac3d39"
       ],
       "layout": "IPY_MODEL_f7729e3ff4fc443d8b090f9891fbcab4"
      }
     },
     "753045a14a2a461eaf791b8f79098828": {
      "model_module": "@jupyter-widgets/controls",
      "model_module_version": "1.4.0",
      "model_name": "HBoxModel",
      "state": {
       "children": [
        "IPY_MODEL_48d47461415f48da87d6bd3143780f2b",
        "IPY_MODEL_6fd2adff35564d99a6fe83ef2064cd81"
       ],
       "layout": "IPY_MODEL_a1bf30dce84240d19207f11898483500"
      }
     },
     "76d478d10ced47689cdea9c14d47f470": {
      "model_module": "@jupyter-widgets/base",
      "model_module_version": "1.1.0",
      "model_name": "LayoutModel",
      "state": {
       "justify_content": "center"
      }
     },
     "775ca751112f435a878f0e2446969fdb": {
      "model_module": "@jupyter-widgets/controls",
      "model_module_version": "1.4.0",
      "model_name": "ButtonStyleModel",
      "state": {}
     },
     "777ad53eb4214d3f983b387a974785c2": {
      "model_module": "@jupyter-widgets/base",
      "model_module_version": "1.1.0",
      "model_name": "LayoutModel",
      "state": {
       "width": "95%"
      }
     },
     "7803a019de6b4a858cca94dbec02f664": {
      "model_module": "@jupyter-widgets/controls",
      "model_module_version": "1.4.0",
      "model_name": "ButtonStyleModel",
      "state": {}
     },
     "7865ff0e3ab5426989d7431638d4f1c8": {
      "model_module": "@jupyter-widgets/controls",
      "model_module_version": "1.4.0",
      "model_name": "HBoxModel",
      "state": {
       "children": [
        "IPY_MODEL_880b18e783204233a5bfce7b87ab5aee",
        "IPY_MODEL_1b1c3be31bd647e0a326bed1802ffee0"
       ],
       "layout": "IPY_MODEL_592d9262d2714a7a8f34da23a4028411"
      }
     },
     "78a42dfce3184274a4c6b65b2661ce48": {
      "model_module": "@jupyter-widgets/base",
      "model_module_version": "1.1.0",
      "model_name": "LayoutModel",
      "state": {}
     },
     "78a83f61572f49ed9bc6db590bdf5ad4": {
      "model_module": "@jupyter-widgets/controls",
      "model_module_version": "1.4.0",
      "model_name": "ButtonModel",
      "state": {
       "description": "Predict Response(t+1)",
       "layout": "IPY_MODEL_2baa73a4f8e444699ebd761f0b0e6d34",
       "style": "IPY_MODEL_3139cf01dd9f453eb2d2373f3f9b750a"
      }
     },
     "798aa3d13aa042c58593d5e3625a7618": {
      "model_module": "@jupyter-widgets/base",
      "model_module_version": "1.1.0",
      "model_name": "LayoutModel",
      "state": {
       "width": "95%"
      }
     },
     "79ea289926794028b2f85f7b10c97b87": {
      "model_module": "@jupyter-widgets/controls",
      "model_module_version": "1.4.0",
      "model_name": "TextModel",
      "state": {
       "description": "Response(t+1) ",
       "layout": "IPY_MODEL_f74717e57cb0445fb910baef614e652b",
       "style": "IPY_MODEL_a934bebe06a942ceae4e1ff38802d1a2",
       "value": "  "
      }
     },
     "7add484299ef47ea9f1aac758d680e11": {
      "model_module": "@jupyter-widgets/controls",
      "model_module_version": "1.4.0",
      "model_name": "ButtonStyleModel",
      "state": {}
     },
     "7b47c1ecf85b4216b61da7811f1e1a20": {
      "model_module": "@jupyter-widgets/controls",
      "model_module_version": "1.4.0",
      "model_name": "HBoxModel",
      "state": {
       "children": [
        "IPY_MODEL_6ee63b6af7fd405db6873c15ef4165a8",
        "IPY_MODEL_852b0c8bc2db40a8ade243500c2e8334"
       ],
       "layout": "IPY_MODEL_2b035a3ed20341c08bb72da2db1feeec"
      }
     },
     "7bf91f7803bb4378b74c0f83f9d73ead": {
      "model_module": "@jupyter-widgets/controls",
      "model_module_version": "1.4.0",
      "model_name": "SliderStyleModel",
      "state": {
       "description_width": ""
      }
     },
     "7c5d0ea7299946cdbc7d7b291c706703": {
      "model_module": "@jupyter-widgets/base",
      "model_module_version": "1.1.0",
      "model_name": "LayoutModel",
      "state": {
       "width": "95%"
      }
     },
     "7d3bebcabf1741e88ab4d3d7427a6a60": {
      "model_module": "@jupyter-widgets/base",
      "model_module_version": "1.1.0",
      "model_name": "LayoutModel",
      "state": {}
     },
     "7db419a588d3425197fcaac34a531d03": {
      "model_module": "@jupyter-widgets/controls",
      "model_module_version": "1.4.0",
      "model_name": "ButtonModel",
      "state": {
       "description": "Predict Response(t+1)",
       "layout": "IPY_MODEL_976ecc5758ad4e74836b50dbca148e92",
       "style": "IPY_MODEL_497ddd7f230f4030ab3abd315293be50"
      }
     },
     "7e878d1c88c24f51ae75c3d70347772e": {
      "model_module": "@jupyter-widgets/base",
      "model_module_version": "1.1.0",
      "model_name": "LayoutModel",
      "state": {}
     },
     "7ea1551cb76542dfa760a333e0619a55": {
      "model_module": "@jupyter-widgets/base",
      "model_module_version": "1.1.0",
      "model_name": "LayoutModel",
      "state": {
       "width": "42%"
      }
     },
     "7efde4aaa13a4f92a249a7d729e1520c": {
      "model_module": "@jupyter-widgets/controls",
      "model_module_version": "1.4.0",
      "model_name": "SliderStyleModel",
      "state": {
       "description_width": ""
      }
     },
     "7f1ff7db9ca643d593fdb3e936891dc9": {
      "model_module": "@jupyter-widgets/controls",
      "model_module_version": "1.4.0",
      "model_name": "DescriptionStyleModel",
      "state": {
       "description_width": ""
      }
     },
     "80603277cfdd47488591efbbfbd7677d": {
      "model_module": "@jupyter-widgets/base",
      "model_module_version": "1.1.0",
      "model_name": "LayoutModel",
      "state": {
       "justify_content": "center"
      }
     },
     "80cd114a38464c4cbc204266e9fc488d": {
      "model_module": "@jupyter-widgets/controls",
      "model_module_version": "1.4.0",
      "model_name": "DescriptionStyleModel",
      "state": {
       "description_width": ""
      }
     },
     "8220a790976a4272a425e1d1d9e84390": {
      "model_module": "@jupyter-widgets/base",
      "model_module_version": "1.1.0",
      "model_name": "LayoutModel",
      "state": {}
     },
     "82345ea948da42b8b508a23e4573a274": {
      "model_module": "@jupyter-widgets/base",
      "model_module_version": "1.1.0",
      "model_name": "LayoutModel",
      "state": {
       "justify_content": "center"
      }
     },
     "830e933b8c6b4046982e2f0978b27179": {
      "model_module": "@jupyter-widgets/base",
      "model_module_version": "1.1.0",
      "model_name": "LayoutModel",
      "state": {
       "justify_content": "center"
      }
     },
     "83864197013c422ea3576d42305a9a2c": {
      "model_module": "@jupyter-widgets/base",
      "model_module_version": "1.1.0",
      "model_name": "LayoutModel",
      "state": {
       "width": "42%"
      }
     },
     "8403c3de47214b1fbd79269b591b040f": {
      "model_module": "@jupyter-widgets/controls",
      "model_module_version": "1.4.0",
      "model_name": "SliderStyleModel",
      "state": {
       "description_width": ""
      }
     },
     "852b0c8bc2db40a8ade243500c2e8334": {
      "model_module": "@jupyter-widgets/controls",
      "model_module_version": "1.4.0",
      "model_name": "TextModel",
      "state": {
       "description": "Next Step",
       "layout": "IPY_MODEL_3f2c218119f047a08f2dd2cd0dbeea3b",
       "style": "IPY_MODEL_d5ff24484bf84cb9982bd7306fe6d6cb",
       "value": "Successful Completion"
      }
     },
     "85c9ac5d91594a188659377ed06c304d": {
      "model_module": "@jupyter-widgets/base",
      "model_module_version": "1.1.0",
      "model_name": "LayoutModel",
      "state": {}
     },
     "862b15226c694210865805e31079734d": {
      "model_module": "@jupyter-widgets/base",
      "model_module_version": "1.1.0",
      "model_name": "LayoutModel",
      "state": {
       "width": "95%"
      }
     },
     "86c3aacaf2d14ae299204a37f3937072": {
      "model_module": "@jupyter-widgets/controls",
      "model_module_version": "1.4.0",
      "model_name": "ButtonModel",
      "state": {
       "description": "Administer Dose(t)",
       "disabled": true,
       "layout": "IPY_MODEL_4fe19b45a2424016b2129e461e230835",
       "style": "IPY_MODEL_7803a019de6b4a858cca94dbec02f664"
      }
     },
     "86e135c9b77c4838a37546c1522ebc08": {
      "model_module": "@jupyter-widgets/base",
      "model_module_version": "1.1.0",
      "model_name": "LayoutModel",
      "state": {
       "width": "42%"
      }
     },
     "86e4deae87b3424895dfd33996c5a23e": {
      "model_module": "@jupyter-widgets/base",
      "model_module_version": "1.1.0",
      "model_name": "LayoutModel",
      "state": {
       "width": "95%"
      }
     },
     "86fa0b711d1b48eca3bc09dbfd68b165": {
      "model_module": "@jupyter-widgets/base",
      "model_module_version": "1.1.0",
      "model_name": "LayoutModel",
      "state": {
       "justify_content": "center"
      }
     },
     "87dbbd26f1d64a4eb8f392affd5b80c0": {
      "model_module": "@jupyter-widgets/base",
      "model_module_version": "1.1.0",
      "model_name": "LayoutModel",
      "state": {
       "justify_content": "center"
      }
     },
     "87de0a9ef5c54173860baedaa8750acd": {
      "model_module": "@jupyter-widgets/controls",
      "model_module_version": "1.4.0",
      "model_name": "SliderStyleModel",
      "state": {
       "description_width": ""
      }
     },
     "880b18e783204233a5bfce7b87ab5aee": {
      "model_module": "@jupyter-widgets/controls",
      "model_module_version": "1.4.0",
      "model_name": "TextModel",
      "state": {
       "description": "Response(t+1) ",
       "disabled": true,
       "layout": "IPY_MODEL_4f0016f913ce4a989ca9de5814401c08",
       "style": "IPY_MODEL_1a81dda27e53407e91e804d2b58d0633",
       "value": "  "
      }
     },
     "88bfcb86f8d0425a8ef6cb2157c981ed": {
      "model_module": "@jupyter-widgets/controls",
      "model_module_version": "1.4.0",
      "model_name": "HBoxModel",
      "state": {
       "children": [
        "IPY_MODEL_62a0db136ba84cdbbbf1220b888881d6",
        "IPY_MODEL_459573a5464e4040be333848d966ef81"
       ],
       "layout": "IPY_MODEL_80603277cfdd47488591efbbfbd7677d"
      }
     },
     "8940ee10ccc344d2b953c36aed8bec72": {
      "model_module": "@jupyter-widgets/controls",
      "model_module_version": "1.4.0",
      "model_name": "DescriptionStyleModel",
      "state": {
       "description_width": ""
      }
     },
     "897f2376e627442e95ebbd7368f4ff28": {
      "model_module": "@jupyter-widgets/controls",
      "model_module_version": "1.4.0",
      "model_name": "ButtonModel",
      "state": {
       "description": "Administer Dose(t)",
       "disabled": true,
       "layout": "IPY_MODEL_d454d30a4e5c4ff0b6cbf34a98a6ccf0",
       "style": "IPY_MODEL_3d7ff347306d42b98bd568bb482d3a22"
      }
     },
     "8a133d384bb04446b5cee26a1a43179d": {
      "model_module": "@jupyter-widgets/controls",
      "model_module_version": "1.4.0",
      "model_name": "SliderStyleModel",
      "state": {
       "description_width": ""
      }
     },
     "8b42b9464f80490a9212e743ad1ad58a": {
      "model_module": "@jupyter-widgets/controls",
      "model_module_version": "1.4.0",
      "model_name": "DescriptionStyleModel",
      "state": {
       "description_width": ""
      }
     },
     "8bc15e85f60943d2aae9e62dcf445c3f": {
      "model_module": "@jupyter-widgets/controls",
      "model_module_version": "1.4.0",
      "model_name": "ButtonModel",
      "state": {
       "description": "Predict Response(t+1)",
       "layout": "IPY_MODEL_e07582650c69463b989f24140848fce9",
       "style": "IPY_MODEL_6f5abbbf561a41738f53ae8f1c35c223"
      }
     },
     "8c503910604a49958886fac0251b7d51": {
      "model_module": "@jupyter-widgets/controls",
      "model_module_version": "1.4.0",
      "model_name": "ButtonModel",
      "state": {
       "description": "Predict Response(t+1)",
       "layout": "IPY_MODEL_9eadb8fc599942d0856609459b4ab993",
       "style": "IPY_MODEL_bf119b7a4ee3413b81befc84cc60e6de"
      }
     },
     "8d2e4bce851744fcbfdcda5584c2e22b": {
      "model_module": "@jupyter-widgets/controls",
      "model_module_version": "1.4.0",
      "model_name": "FloatSliderModel",
      "state": {
       "description": "Dose(t)",
       "layout": "IPY_MODEL_0825f2b102a0446e87f4cc09c1d4e7a0",
       "max": 10,
       "min": -10,
       "step": 0.01,
       "style": "IPY_MODEL_87de0a9ef5c54173860baedaa8750acd"
      }
     },
     "8d63487340f54b378f6f6b2f4e4a2e55": {
      "model_module": "@jupyter-widgets/controls",
      "model_module_version": "1.4.0",
      "model_name": "ButtonModel",
      "state": {
       "description": "Predict Response(t+1)",
       "layout": "IPY_MODEL_528c22a7eb1a4339853aec47cf195263",
       "style": "IPY_MODEL_18e653a1388549b6b7eff4b1bb7be40b"
      }
     },
     "8db8764066f64d2383835cf8ba85a769": {
      "model_module": "@jupyter-widgets/controls",
      "model_module_version": "1.4.0",
      "model_name": "TextModel",
      "state": {
       "description": "Response(t+1) ",
       "disabled": true,
       "layout": "IPY_MODEL_a9d1b9a1d00f4a888612a3c609f0d10c",
       "style": "IPY_MODEL_40981a7a083f4622ba7768ab2b273685",
       "value": "4.90"
      }
     },
     "8db94dbaba9040eb8cb2cc5f43d055f2": {
      "model_module": "@jupyter-widgets/controls",
      "model_module_version": "1.4.0",
      "model_name": "HBoxModel",
      "state": {
       "children": [
        "IPY_MODEL_e9be4db836854a2c95881e3bb59cf768",
        "IPY_MODEL_8e38a8dfd00044349f9d92ba22fc953a"
       ],
       "layout": "IPY_MODEL_1e34031a506543c5bdf5af44cc63a8cd"
      }
     },
     "8e38a8dfd00044349f9d92ba22fc953a": {
      "model_module": "@jupyter-widgets/controls",
      "model_module_version": "1.4.0",
      "model_name": "TextModel",
      "state": {
       "description": "Next Step",
       "layout": "IPY_MODEL_9bf0172c0c9444529a61b739352e4a49",
       "style": "IPY_MODEL_febd969808234ad59cfc221339fbfa8b",
       "value": "Predict Response(t+1)  "
      }
     },
     "8f102acff5d94b9db39321529daa7463": {
      "model_module": "@jupyter-widgets/base",
      "model_module_version": "1.1.0",
      "model_name": "LayoutModel",
      "state": {
       "justify_content": "center"
      }
     },
     "8ffea09a11154986b0e8f0626a62f963": {
      "model_module": "@jupyter-widgets/controls",
      "model_module_version": "1.4.0",
      "model_name": "ButtonStyleModel",
      "state": {}
     },
     "9069407e9e454c3892c6d076a1925d31": {
      "model_module": "@jupyter-widgets/controls",
      "model_module_version": "1.4.0",
      "model_name": "HBoxModel",
      "state": {
       "children": [
        "IPY_MODEL_2399dfa291d34d81a4471b906c5f59a7",
        "IPY_MODEL_1a33db65a5b247edb66543cfcf09f047"
       ],
       "layout": "IPY_MODEL_ffb741cd6fe44acb930d009dc8573003"
      }
     },
     "90794320e7c34d7da021303c63eb6472": {
      "model_module": "@jupyter-widgets/base",
      "model_module_version": "1.1.0",
      "model_name": "LayoutModel",
      "state": {
       "width": "42%"
      }
     },
     "91b55d0b46fe4346890de69c28d807f7": {
      "model_module": "@jupyter-widgets/controls",
      "model_module_version": "1.4.0",
      "model_name": "ButtonModel",
      "state": {
       "description": "Administer Dose(t)",
       "disabled": true,
       "layout": "IPY_MODEL_1d4dc086f9fe458ab5737d1aaf2b80b1",
       "style": "IPY_MODEL_47a4fcb027254d6997b49582dd52a557"
      }
     },
     "922a3fc5812f4fb9bb3f332b10b2c6fb": {
      "model_module": "@jupyter-widgets/base",
      "model_module_version": "1.1.0",
      "model_name": "LayoutModel",
      "state": {
       "justify_content": "center"
      }
     },
     "92be209797ac4daab49ca32fc72964d5": {
      "model_module": "@jupyter-widgets/controls",
      "model_module_version": "1.4.0",
      "model_name": "DescriptionStyleModel",
      "state": {
       "description_width": ""
      }
     },
     "935596d0f09c4302bb0aaca9fd8bf65a": {
      "model_module": "@jupyter-widgets/controls",
      "model_module_version": "1.4.0",
      "model_name": "HBoxModel",
      "state": {
       "children": [
        "IPY_MODEL_8db8764066f64d2383835cf8ba85a769",
        "IPY_MODEL_03e0cd42451847e98fa4c78e82f62d00"
       ],
       "layout": "IPY_MODEL_c7f4ac54e5384278a6891dd179d933c1"
      }
     },
     "936a663750bc43788789e099b30648f3": {
      "model_module": "@jupyter-widgets/base",
      "model_module_version": "1.1.0",
      "model_name": "LayoutModel",
      "state": {
       "width": "95%"
      }
     },
     "940254f1567044668f26b7d036148e76": {
      "model_module": "@jupyter-widgets/controls",
      "model_module_version": "1.4.0",
      "model_name": "HBoxModel",
      "state": {
       "children": [
        "IPY_MODEL_08fd0fe516b84441a1fb9fc283473288",
        "IPY_MODEL_d324909275244320a0e33d79e7d2a6cc"
       ],
       "layout": "IPY_MODEL_69cde05467dc42ae9e30210ac23674c1"
      }
     },
     "941823acf8ef46928c5438b430a3a8f4": {
      "model_module": "@jupyter-widgets/base",
      "model_module_version": "1.1.0",
      "model_name": "LayoutModel",
      "state": {}
     },
     "946f0936abf64c5ba45ed341fb33568e": {
      "model_module": "@jupyter-widgets/controls",
      "model_module_version": "1.4.0",
      "model_name": "FloatSliderModel",
      "state": {
       "description": "Dose(t)",
       "layout": "IPY_MODEL_f75d41c714a84fdbb09227772d9eebb7",
       "max": 10,
       "min": -10,
       "step": 0.01,
       "style": "IPY_MODEL_ac9ceda02933480eb1ac7b566738923b",
       "value": 0.54
      }
     },
     "94a5fd730486458b9b968efa724b8421": {
      "model_module": "@jupyter-widgets/controls",
      "model_module_version": "1.4.0",
      "model_name": "HBoxModel",
      "state": {
       "children": [
        "IPY_MODEL_fce71a65c4934bbcb9bcbfb2d45aeef1",
        "IPY_MODEL_d637afc52a734c92835ee07e873e1e42"
       ],
       "layout": "IPY_MODEL_76d478d10ced47689cdea9c14d47f470"
      }
     },
     "94de130f4c204fbe83daa20f30b4d314": {
      "model_module": "@jupyter-widgets/controls",
      "model_module_version": "1.4.0",
      "model_name": "ButtonModel",
      "state": {
       "description": "Predict Response(t+1)",
       "disabled": true,
       "layout": "IPY_MODEL_90794320e7c34d7da021303c63eb6472",
       "style": "IPY_MODEL_b9d245834f844b9197c8af9fce241d6e"
      }
     },
     "96180a94fd71457685cda1c7610b72b0": {
      "model_module": "@jupyter-widgets/base",
      "model_module_version": "1.1.0",
      "model_name": "LayoutModel",
      "state": {
       "width": "42%"
      }
     },
     "963c2a580dda400e9d632821f46e338c": {
      "model_module": "@jupyter-widgets/controls",
      "model_module_version": "1.4.0",
      "model_name": "ButtonModel",
      "state": {
       "description": "Administer Dose(t)",
       "disabled": true,
       "layout": "IPY_MODEL_2eedc88b87be4cc598862ac1d2e6f0b9",
       "style": "IPY_MODEL_13b4d94902704b9a9b87fbd0dba916e7"
      }
     },
     "968f7d4a292b49a8b6db3c7cea2bbfdf": {
      "model_module": "@jupyter-widgets/controls",
      "model_module_version": "1.4.0",
      "model_name": "DescriptionStyleModel",
      "state": {
       "description_width": ""
      }
     },
     "97012c8f2c76466aa94b3365fbeffb7f": {
      "model_module": "@jupyter-widgets/controls",
      "model_module_version": "1.4.0",
      "model_name": "ButtonStyleModel",
      "state": {}
     },
     "9733158a322c4ce0b20a511d81d434b0": {
      "model_module": "@jupyter-widgets/base",
      "model_module_version": "1.1.0",
      "model_name": "LayoutModel",
      "state": {
       "width": "42%"
      }
     },
     "976ecc5758ad4e74836b50dbca148e92": {
      "model_module": "@jupyter-widgets/base",
      "model_module_version": "1.1.0",
      "model_name": "LayoutModel",
      "state": {
       "width": "42%"
      }
     },
     "97d026ee3b174d3bb0ce997c953253f6": {
      "model_module": "@jupyter-widgets/base",
      "model_module_version": "1.1.0",
      "model_name": "LayoutModel",
      "state": {
       "width": "42%"
      }
     },
     "98c66e2204b9432d8fffdd93eac2f08e": {
      "model_module": "@jupyter-widgets/controls",
      "model_module_version": "1.4.0",
      "model_name": "HBoxModel",
      "state": {
       "children": [
        "IPY_MODEL_aa99a2df384743399a1b7f6b5c33bfe9",
        "IPY_MODEL_b82b0955136242ebab3d865c23ba177d"
       ],
       "layout": "IPY_MODEL_de7b37a5013b47538e8b9bdb0d6f7ea0"
      }
     },
     "99a4482343a348cb8533af40674e5ebb": {
      "model_module": "@jupyter-widgets/controls",
      "model_module_version": "1.4.0",
      "model_name": "HBoxModel",
      "state": {
       "children": [
        "IPY_MODEL_6e88d1ff7f8247aca898c7dbf18e326c",
        "IPY_MODEL_67e28e2a37664868922fe99736ea2eab"
       ],
       "layout": "IPY_MODEL_1aa56fd36cad4c4fb404c0c9899988a2"
      }
     },
     "99b49f5b78124313a809a9e4168fb663": {
      "model_module": "@jupyter-widgets/controls",
      "model_module_version": "1.4.0",
      "model_name": "FloatSliderModel",
      "state": {
       "description": "Dose(t)",
       "layout": "IPY_MODEL_dd7567db20394b5792e72c8ccd004b06",
       "max": 10,
       "min": -10,
       "step": 0.01,
       "style": "IPY_MODEL_8a133d384bb04446b5cee26a1a43179d",
       "value": 0.51
      }
     },
     "9a10ce8a3edf42e09c210dbcd041ad98": {
      "model_module": "@jupyter-widgets/base",
      "model_module_version": "1.1.0",
      "model_name": "LayoutModel",
      "state": {}
     },
     "9a422d4fc3734478b4cc1466f61c38e1": {
      "model_module": "@jupyter-widgets/controls",
      "model_module_version": "1.4.0",
      "model_name": "TextModel",
      "state": {
       "description": "Response(t+1) ",
       "disabled": true,
       "layout": "IPY_MODEL_7e878d1c88c24f51ae75c3d70347772e",
       "style": "IPY_MODEL_b0a96d9577e34aae986dd904e4c0f3fc",
       "value": "  "
      }
     },
     "9a7d9d5490f74e2bb4ee1ebe2370d27f": {
      "model_module": "@jupyter-widgets/controls",
      "model_module_version": "1.4.0",
      "model_name": "DescriptionStyleModel",
      "state": {
       "description_width": ""
      }
     },
     "9ace1ce2212b441d87acc5b376632568": {
      "model_module": "@jupyter-widgets/base",
      "model_module_version": "1.1.0",
      "model_name": "LayoutModel",
      "state": {
       "justify_content": "center"
      }
     },
     "9ade70736415488da0906a91bbe8536a": {
      "model_module": "@jupyter-widgets/controls",
      "model_module_version": "1.4.0",
      "model_name": "ButtonStyleModel",
      "state": {}
     },
     "9b8c17ba56594b2c80d07aa98e8b2e7e": {
      "model_module": "@jupyter-widgets/controls",
      "model_module_version": "1.4.0",
      "model_name": "SliderStyleModel",
      "state": {
       "description_width": ""
      }
     },
     "9bf0172c0c9444529a61b739352e4a49": {
      "model_module": "@jupyter-widgets/base",
      "model_module_version": "1.1.0",
      "model_name": "LayoutModel",
      "state": {}
     },
     "9e7bd315932c4f2da52faa1fd3998f3f": {
      "model_module": "@jupyter-widgets/controls",
      "model_module_version": "1.4.0",
      "model_name": "TextModel",
      "state": {
       "description": "Response(t+1) ",
       "disabled": true,
       "layout": "IPY_MODEL_3bcf9f46ff2449369608dfa3b874e388",
       "style": "IPY_MODEL_b153ae626c134e53bdc3384949b42132",
       "value": "6.93 (is more than 5.25)"
      }
     },
     "9eadb8fc599942d0856609459b4ab993": {
      "model_module": "@jupyter-widgets/base",
      "model_module_version": "1.1.0",
      "model_name": "LayoutModel",
      "state": {
       "width": "42%"
      }
     },
     "9f3388ea61e14b4686de612c056c7175": {
      "model_module": "@jupyter-widgets/controls",
      "model_module_version": "1.4.0",
      "model_name": "FloatSliderModel",
      "state": {
       "description": "Dose(t)",
       "layout": "IPY_MODEL_f0c43677ea4549aba70f2d22700ed501",
       "max": 10,
       "min": -10,
       "step": 0.01,
       "style": "IPY_MODEL_be7dc910d9af4362a45a33bce49a440a",
       "value": 0.5
      }
     },
     "9fc75d7e40d349999c04f0da783bb570": {
      "model_module": "@jupyter-widgets/base",
      "model_module_version": "1.1.0",
      "model_name": "LayoutModel",
      "state": {
       "justify_content": "center"
      }
     },
     "a026c654c79b4fe5b0597ba62791f0e7": {
      "model_module": "@jupyter-widgets/controls",
      "model_module_version": "1.4.0",
      "model_name": "TextModel",
      "state": {
       "description": "Next Step",
       "layout": "IPY_MODEL_594cae7682334f93bbf6a6d7f64a19bc",
       "style": "IPY_MODEL_8940ee10ccc344d2b953c36aed8bec72",
       "value": "Successful Completion"
      }
     },
     "a04910f70f604bd7968d21a7390face8": {
      "model_module": "@jupyter-widgets/base",
      "model_module_version": "1.1.0",
      "model_name": "LayoutModel",
      "state": {
       "width": "42%"
      }
     },
     "a16dcbe9e1c34862990d6c1a72b83bcc": {
      "model_module": "@jupyter-widgets/controls",
      "model_module_version": "1.4.0",
      "model_name": "DescriptionStyleModel",
      "state": {
       "description_width": "initial"
      }
     },
     "a18b1641358745289aec13347974280e": {
      "model_module": "@jupyter-widgets/controls",
      "model_module_version": "1.4.0",
      "model_name": "FloatSliderModel",
      "state": {
       "description": "Dose(t)",
       "layout": "IPY_MODEL_0b39633dfe9c4696ae1e7a9ad6fc8ce7",
       "max": 10,
       "min": -10,
       "step": 0.01,
       "style": "IPY_MODEL_a7df32eb62ae43b8afb786966e677103"
      }
     },
     "a1bf30dce84240d19207f11898483500": {
      "model_module": "@jupyter-widgets/base",
      "model_module_version": "1.1.0",
      "model_name": "LayoutModel",
      "state": {
       "justify_content": "center"
      }
     },
     "a1de5863f2fc460d9cfffa417c70b79c": {
      "model_module": "@jupyter-widgets/base",
      "model_module_version": "1.1.0",
      "model_name": "LayoutModel",
      "state": {
       "width": "42%"
      }
     },
     "a2a720b4c247408eb78f4a3f90533ef2": {
      "model_module": "@jupyter-widgets/base",
      "model_module_version": "1.1.0",
      "model_name": "LayoutModel",
      "state": {
       "width": "42%"
      }
     },
     "a38c6408e8d74800a029a5e9f03df1c0": {
      "model_module": "@jupyter-widgets/base",
      "model_module_version": "1.1.0",
      "model_name": "LayoutModel",
      "state": {}
     },
     "a3bffca2071049a3b4a952c29bb551e9": {
      "model_module": "@jupyter-widgets/controls",
      "model_module_version": "1.4.0",
      "model_name": "DescriptionStyleModel",
      "state": {
       "description_width": "initial"
      }
     },
     "a3e10b8fc4404e47a1ec0306d071a37a": {
      "model_module": "@jupyter-widgets/controls",
      "model_module_version": "1.4.0",
      "model_name": "ButtonStyleModel",
      "state": {}
     },
     "a404032a9c734265aae3d53cc25c12e8": {
      "model_module": "@jupyter-widgets/controls",
      "model_module_version": "1.4.0",
      "model_name": "SliderStyleModel",
      "state": {
       "description_width": ""
      }
     },
     "a40e2c541aaa4e07a78bf819b617de2a": {
      "model_module": "@jupyter-widgets/controls",
      "model_module_version": "1.4.0",
      "model_name": "DescriptionStyleModel",
      "state": {
       "description_width": "initial"
      }
     },
     "a544654de4dc4a97881b18afb9b821cb": {
      "model_module": "@jupyter-widgets/base",
      "model_module_version": "1.1.0",
      "model_name": "LayoutModel",
      "state": {
       "justify_content": "center"
      }
     },
     "a586057f5c004efda9a2c610739c7917": {
      "model_module": "@jupyter-widgets/controls",
      "model_module_version": "1.4.0",
      "model_name": "FloatSliderModel",
      "state": {
       "description": "Dose(t)",
       "layout": "IPY_MODEL_4981081503a24939920c25f27f01c7bd",
       "max": 10,
       "min": -10,
       "step": 0.01,
       "style": "IPY_MODEL_1c6f33dbd92d427c9078f609b45cce21",
       "value": 2.47
      }
     },
     "a5862f14248748a6b3129e69d21bb782": {
      "model_module": "@jupyter-widgets/controls",
      "model_module_version": "1.4.0",
      "model_name": "DescriptionStyleModel",
      "state": {
       "description_width": "initial"
      }
     },
     "a5a97e4aaae248c6949af7cff7201e2a": {
      "model_module": "@jupyter-widgets/controls",
      "model_module_version": "1.4.0",
      "model_name": "TextModel",
      "state": {
       "description": "Next Step",
       "layout": "IPY_MODEL_85c9ac5d91594a188659377ed06c304d",
       "style": "IPY_MODEL_56d1312a2eef45698d78113e8c83fddd",
       "value": "Predict Response(t+1)  "
      }
     },
     "a689cd493b334e7b8b0cb65b062558fe": {
      "model_module": "@jupyter-widgets/controls",
      "model_module_version": "1.4.0",
      "model_name": "HBoxModel",
      "state": {
       "children": [
        "IPY_MODEL_9a422d4fc3734478b4cc1466f61c38e1",
        "IPY_MODEL_3bcf8d3723de4eea9cbcaf412a808af5"
       ],
       "layout": "IPY_MODEL_ed926edff44148998459525d56b5c9d4"
      }
     },
     "a6dc0945784e4b15ab918dbacf477c70": {
      "model_module": "@jupyter-widgets/controls",
      "model_module_version": "1.4.0",
      "model_name": "SliderStyleModel",
      "state": {
       "description_width": ""
      }
     },
     "a71d7b646bee4aef83141bf5554d00ad": {
      "model_module": "@jupyter-widgets/controls",
      "model_module_version": "1.4.0",
      "model_name": "ButtonStyleModel",
      "state": {}
     },
     "a7df32eb62ae43b8afb786966e677103": {
      "model_module": "@jupyter-widgets/controls",
      "model_module_version": "1.4.0",
      "model_name": "SliderStyleModel",
      "state": {
       "description_width": ""
      }
     },
     "a7ed6fa9d13041a88fc14cf0025cfb71": {
      "model_module": "@jupyter-widgets/base",
      "model_module_version": "1.1.0",
      "model_name": "LayoutModel",
      "state": {
       "width": "42%"
      }
     },
     "a84d33d067504ddeaeaa964530aa9fe4": {
      "model_module": "@jupyter-widgets/controls",
      "model_module_version": "1.4.0",
      "model_name": "HBoxModel",
      "state": {
       "children": [
        "IPY_MODEL_6b86836180e542a9b3178ad78413f81c",
        "IPY_MODEL_3ce88834dad3452aa1cf30b11584ec6c"
       ],
       "layout": "IPY_MODEL_aa81311b0d0846e192f111014292c2e2"
      }
     },
     "a88ea863d8c94b7db3a9e54b98f0c98c": {
      "model_module": "@jupyter-widgets/controls",
      "model_module_version": "1.4.0",
      "model_name": "ButtonStyleModel",
      "state": {}
     },
     "a934bebe06a942ceae4e1ff38802d1a2": {
      "model_module": "@jupyter-widgets/controls",
      "model_module_version": "1.4.0",
      "model_name": "DescriptionStyleModel",
      "state": {
       "description_width": "initial"
      }
     },
     "a9d1b9a1d00f4a888612a3c609f0d10c": {
      "model_module": "@jupyter-widgets/base",
      "model_module_version": "1.1.0",
      "model_name": "LayoutModel",
      "state": {}
     },
     "aa81311b0d0846e192f111014292c2e2": {
      "model_module": "@jupyter-widgets/base",
      "model_module_version": "1.1.0",
      "model_name": "LayoutModel",
      "state": {
       "justify_content": "center"
      }
     },
     "aa99a2df384743399a1b7f6b5c33bfe9": {
      "model_module": "@jupyter-widgets/controls",
      "model_module_version": "1.4.0",
      "model_name": "TextModel",
      "state": {
       "description": "Response(t+1) ",
       "disabled": true,
       "layout": "IPY_MODEL_33a6500f707847b095c0b1447d0e2b92",
       "style": "IPY_MODEL_1e401af41921416bb7a62a83538f41d3",
       "value": "5.04 (in range)"
      }
     },
     "ab2bf471fd8b45378075961cd3a248fd": {
      "model_module": "@jupyter-widgets/base",
      "model_module_version": "1.1.0",
      "model_name": "LayoutModel",
      "state": {
       "justify_content": "center"
      }
     },
     "ac15b6a006cd4d0eabfd08e5214b3a34": {
      "model_module": "@jupyter-widgets/controls",
      "model_module_version": "1.4.0",
      "model_name": "ButtonModel",
      "state": {
       "description": "Predict Response(t+1)",
       "layout": "IPY_MODEL_6df2219b9a00488c9eeca53edc987033",
       "style": "IPY_MODEL_1c178a7475824a139655dba09dc4cc50"
      }
     },
     "ac40f3af24d646deacc5730b0bc05625": {
      "model_module": "@jupyter-widgets/controls",
      "model_module_version": "1.4.0",
      "model_name": "DescriptionStyleModel",
      "state": {
       "description_width": "initial"
      }
     },
     "ac9ceda02933480eb1ac7b566738923b": {
      "model_module": "@jupyter-widgets/controls",
      "model_module_version": "1.4.0",
      "model_name": "SliderStyleModel",
      "state": {
       "description_width": ""
      }
     },
     "ae4991a3f97c4b409a66d7a43f6482f6": {
      "model_module": "@jupyter-widgets/controls",
      "model_module_version": "1.4.0",
      "model_name": "ButtonStyleModel",
      "state": {}
     },
     "aeba46488de54fc283f801e4ca114448": {
      "model_module": "@jupyter-widgets/base",
      "model_module_version": "1.1.0",
      "model_name": "LayoutModel",
      "state": {}
     },
     "aed8b7420fa54206be1442b4763dc690": {
      "model_module": "@jupyter-widgets/base",
      "model_module_version": "1.1.0",
      "model_name": "LayoutModel",
      "state": {
       "justify_content": "center"
      }
     },
     "af1fcb343972454186f8beff4f717800": {
      "model_module": "@jupyter-widgets/controls",
      "model_module_version": "1.4.0",
      "model_name": "FloatSliderModel",
      "state": {
       "description": "Dose(t)",
       "layout": "IPY_MODEL_534f7d52f58d49919e5fc4cf016e0515",
       "max": 10,
       "min": -10,
       "step": 0.01,
       "style": "IPY_MODEL_9b8c17ba56594b2c80d07aa98e8b2e7e",
       "value": -0.02
      }
     },
     "afa0e9f0efc14446bcd9bac454ec77b8": {
      "model_module": "@jupyter-widgets/controls",
      "model_module_version": "1.4.0",
      "model_name": "ButtonModel",
      "state": {
       "description": "Predict Response(t+1)",
       "layout": "IPY_MODEL_2716394188814ea3bbed14d8fdddb46a",
       "style": "IPY_MODEL_b3c804048f624232b60cf691b2772377"
      }
     },
     "b04f1d8494bd4c1f82f229260ef4ce36": {
      "model_module": "@jupyter-widgets/base",
      "model_module_version": "1.1.0",
      "model_name": "LayoutModel",
      "state": {
       "width": "95%"
      }
     },
     "b0a96d9577e34aae986dd904e4c0f3fc": {
      "model_module": "@jupyter-widgets/controls",
      "model_module_version": "1.4.0",
      "model_name": "DescriptionStyleModel",
      "state": {
       "description_width": "initial"
      }
     },
     "b0f6535619c3467b858efc57d7ec31e1": {
      "model_module": "@jupyter-widgets/base",
      "model_module_version": "1.1.0",
      "model_name": "LayoutModel",
      "state": {
       "justify_content": "center"
      }
     },
     "b126f1d3c3f646dbb201f7163312880e": {
      "model_module": "@jupyter-widgets/controls",
      "model_module_version": "1.4.0",
      "model_name": "TextModel",
      "state": {
       "description": "Next Step",
       "layout": "IPY_MODEL_647fea64e9c44ab3b79f19ef3655467f",
       "style": "IPY_MODEL_dc2ec489f1c84662b5d8d2df786afc0b",
       "value": "Predict Response(t+1)  "
      }
     },
     "b1535340cda247bb8b654cd92d3572f9": {
      "model_module": "@jupyter-widgets/base",
      "model_module_version": "1.1.0",
      "model_name": "LayoutModel",
      "state": {
       "justify_content": "center"
      }
     },
     "b153ae626c134e53bdc3384949b42132": {
      "model_module": "@jupyter-widgets/controls",
      "model_module_version": "1.4.0",
      "model_name": "DescriptionStyleModel",
      "state": {
       "description_width": "initial"
      }
     },
     "b199436d11cb4fe293f47852a0a28e7e": {
      "model_module": "@jupyter-widgets/base",
      "model_module_version": "1.1.0",
      "model_name": "LayoutModel",
      "state": {}
     },
     "b30adf773cab45f3bceb9e478909967c": {
      "model_module": "@jupyter-widgets/controls",
      "model_module_version": "1.4.0",
      "model_name": "ButtonStyleModel",
      "state": {}
     },
     "b33631432e254b3982521671ebb0f71e": {
      "model_module": "@jupyter-widgets/base",
      "model_module_version": "1.1.0",
      "model_name": "LayoutModel",
      "state": {
       "width": "95%"
      }
     },
     "b3c804048f624232b60cf691b2772377": {
      "model_module": "@jupyter-widgets/controls",
      "model_module_version": "1.4.0",
      "model_name": "ButtonStyleModel",
      "state": {}
     },
     "b3d7ba76564d488bb4b95b202cdceb96": {
      "model_module": "@jupyter-widgets/controls",
      "model_module_version": "1.4.0",
      "model_name": "SliderStyleModel",
      "state": {
       "description_width": ""
      }
     },
     "b407d493f8a6403283626ae8c2bd3286": {
      "model_module": "@jupyter-widgets/controls",
      "model_module_version": "1.4.0",
      "model_name": "HBoxModel",
      "state": {
       "children": [
        "IPY_MODEL_e57b4b0b43814d4ea5dd237c11f86a9b",
        "IPY_MODEL_c5ad1b19368a40a9b7a6dc8a4bec127a"
       ],
       "layout": "IPY_MODEL_512c11586a13499a8da5092ef221631b"
      }
     },
     "b48170f32c8e4f8ba81197998816d855": {
      "model_module": "@jupyter-widgets/controls",
      "model_module_version": "1.4.0",
      "model_name": "SliderStyleModel",
      "state": {
       "description_width": ""
      }
     },
     "b481ac49bb634d33bf90a852c07ec6b0": {
      "model_module": "@jupyter-widgets/base",
      "model_module_version": "1.1.0",
      "model_name": "LayoutModel",
      "state": {
       "width": "42%"
      }
     },
     "b49940c8eafc44a19a2bc9f84180f4af": {
      "model_module": "@jupyter-widgets/controls",
      "model_module_version": "1.4.0",
      "model_name": "SliderStyleModel",
      "state": {
       "description_width": ""
      }
     },
     "b5a331ab60cf4490b56674b07f5bd1a5": {
      "model_module": "@jupyter-widgets/base",
      "model_module_version": "1.1.0",
      "model_name": "LayoutModel",
      "state": {
       "width": "42%"
      }
     },
     "b7ae42f3ed504f148a5b5b1813cf830d": {
      "model_module": "@jupyter-widgets/controls",
      "model_module_version": "1.4.0",
      "model_name": "DescriptionStyleModel",
      "state": {
       "description_width": "initial"
      }
     },
     "b82b0955136242ebab3d865c23ba177d": {
      "model_module": "@jupyter-widgets/controls",
      "model_module_version": "1.4.0",
      "model_name": "TextModel",
      "state": {
       "description": "Next Step",
       "layout": "IPY_MODEL_9a10ce8a3edf42e09c210dbcd041ad98",
       "style": "IPY_MODEL_92be209797ac4daab49ca32fc72964d5",
       "value": "Successful Completion"
      }
     },
     "b8839f8119d7447ba267cf5ca1b238c7": {
      "model_module": "@jupyter-widgets/controls",
      "model_module_version": "1.4.0",
      "model_name": "DescriptionStyleModel",
      "state": {
       "description_width": "initial"
      }
     },
     "b89bdd81f4be414a9b03a405b330537a": {
      "model_module": "@jupyter-widgets/controls",
      "model_module_version": "1.4.0",
      "model_name": "TextModel",
      "state": {
       "description": "Response(t+1) ",
       "disabled": true,
       "layout": "IPY_MODEL_1a47e945434342459c45e3e7f781702a",
       "style": "IPY_MODEL_a5862f14248748a6b3129e69d21bb782",
       "value": "4.38 (is less than 4.75)"
      }
     },
     "b9169c4237734f928f4b01df729c2263": {
      "model_module": "@jupyter-widgets/base",
      "model_module_version": "1.1.0",
      "model_name": "LayoutModel",
      "state": {
       "justify_content": "center"
      }
     },
     "b9d245834f844b9197c8af9fce241d6e": {
      "model_module": "@jupyter-widgets/controls",
      "model_module_version": "1.4.0",
      "model_name": "ButtonStyleModel",
      "state": {}
     },
     "ba10668f0cca4e968f5abf40a4bce4ab": {
      "model_module": "@jupyter-widgets/controls",
      "model_module_version": "1.4.0",
      "model_name": "FloatSliderModel",
      "state": {
       "description": "Dose(t)",
       "layout": "IPY_MODEL_54d98e77d9c140f5b6f6a26ddb404a10",
       "max": 10,
       "min": -10,
       "step": 0.01,
       "style": "IPY_MODEL_e7cb3188eba845d6b930949a2ea108f9",
       "value": 1.04
      }
     },
     "ba3f192f144d494d8cf8685c7bfdd3d5": {
      "model_module": "@jupyter-widgets/controls",
      "model_module_version": "1.4.0",
      "model_name": "ButtonModel",
      "state": {
       "description": "Predict Response(t+1)",
       "disabled": true,
       "layout": "IPY_MODEL_96180a94fd71457685cda1c7610b72b0",
       "style": "IPY_MODEL_3edcee2a091d41558d85ec886821438e"
      }
     },
     "bb78fe4891034bb1a307cb33083a20df": {
      "model_module": "@jupyter-widgets/controls",
      "model_module_version": "1.4.0",
      "model_name": "DescriptionStyleModel",
      "state": {
       "description_width": "initial"
      }
     },
     "bc0d560476494f5ea7915bd65bcd0ff4": {
      "model_module": "@jupyter-widgets/controls",
      "model_module_version": "1.4.0",
      "model_name": "ButtonModel",
      "state": {
       "description": "Administer Dose(t)",
       "disabled": true,
       "layout": "IPY_MODEL_9733158a322c4ce0b20a511d81d434b0",
       "style": "IPY_MODEL_d8e694fccb434b56bb2365033e2e333d"
      }
     },
     "bc77b2a7fca5429cbfe7763d03d494f6": {
      "model_module": "@jupyter-widgets/base",
      "model_module_version": "1.1.0",
      "model_name": "LayoutModel",
      "state": {
       "width": "42%"
      }
     },
     "bcc08810be054f8ab0faad4b087a7687": {
      "model_module": "@jupyter-widgets/controls",
      "model_module_version": "1.4.0",
      "model_name": "FloatSliderModel",
      "state": {
       "description": "Dose(t)",
       "layout": "IPY_MODEL_c722681d45e7480ea8e7f419988ddcb0",
       "max": 10,
       "min": -10,
       "step": 0.01,
       "style": "IPY_MODEL_b49940c8eafc44a19a2bc9f84180f4af"
      }
     },
     "bd6ee27849ac42cc82371d07c9d643b6": {
      "model_module": "@jupyter-widgets/base",
      "model_module_version": "1.1.0",
      "model_name": "LayoutModel",
      "state": {
       "width": "42%"
      }
     },
     "bdd397f1d4f94f63bd3c8511f418507a": {
      "model_module": "@jupyter-widgets/controls",
      "model_module_version": "1.4.0",
      "model_name": "HBoxModel",
      "state": {
       "children": [
        "IPY_MODEL_f6efb67db12b449f9b85a3ac8317cb90",
        "IPY_MODEL_fa6b40bfe0624a729e0fc851bfde3e58"
       ],
       "layout": "IPY_MODEL_82345ea948da42b8b508a23e4573a274"
      }
     },
     "be7dc910d9af4362a45a33bce49a440a": {
      "model_module": "@jupyter-widgets/controls",
      "model_module_version": "1.4.0",
      "model_name": "SliderStyleModel",
      "state": {
       "description_width": ""
      }
     },
     "be8303ca437c442292c37b189157c7c3": {
      "model_module": "@jupyter-widgets/controls",
      "model_module_version": "1.4.0",
      "model_name": "ButtonStyleModel",
      "state": {}
     },
     "bf119b7a4ee3413b81befc84cc60e6de": {
      "model_module": "@jupyter-widgets/controls",
      "model_module_version": "1.4.0",
      "model_name": "ButtonStyleModel",
      "state": {}
     },
     "bf1f45788122417cab38ab8765e3b191": {
      "model_module": "@jupyter-widgets/base",
      "model_module_version": "1.1.0",
      "model_name": "LayoutModel",
      "state": {
       "justify_content": "center"
      }
     },
     "bf292bfde1c34c428f3c60aceeeff9b1": {
      "model_module": "@jupyter-widgets/controls",
      "model_module_version": "1.4.0",
      "model_name": "FloatSliderModel",
      "state": {
       "description": "Dose(t)",
       "layout": "IPY_MODEL_ff4921d97d2949d39ce4b7bcdccefcc2",
       "max": 10,
       "min": -10,
       "step": 0.01,
       "style": "IPY_MODEL_f2a92d82c8334bcb864139d5a208dc88"
      }
     },
     "bfa30f6911a244728098ad1df15ad6ed": {
      "model_module": "@jupyter-widgets/controls",
      "model_module_version": "1.4.0",
      "model_name": "ButtonStyleModel",
      "state": {}
     },
     "c010b7152eeb4945894a5c0b4aa8d0e4": {
      "model_module": "@jupyter-widgets/controls",
      "model_module_version": "1.4.0",
      "model_name": "DescriptionStyleModel",
      "state": {
       "description_width": ""
      }
     },
     "c05135e09e3a45898b8d4a1bd300229b": {
      "model_module": "@jupyter-widgets/controls",
      "model_module_version": "1.4.0",
      "model_name": "HBoxModel",
      "state": {
       "children": [
        "IPY_MODEL_5aecb214e170443ab358419d1f491850",
        "IPY_MODEL_b126f1d3c3f646dbb201f7163312880e"
       ],
       "layout": "IPY_MODEL_ebbd31decb4f41d5ac01ed2b8b2d4db4"
      }
     },
     "c13022f87e324dec821d8b1e97b2a874": {
      "model_module": "@jupyter-widgets/controls",
      "model_module_version": "1.4.0",
      "model_name": "HBoxModel",
      "state": {
       "children": [
        "IPY_MODEL_ac15b6a006cd4d0eabfd08e5214b3a34",
        "IPY_MODEL_86c3aacaf2d14ae299204a37f3937072"
       ],
       "layout": "IPY_MODEL_bf1f45788122417cab38ab8765e3b191"
      }
     },
     "c1be487cd0884ceb962a5afadfb02e64": {
      "model_module": "@jupyter-widgets/base",
      "model_module_version": "1.1.0",
      "model_name": "LayoutModel",
      "state": {
       "justify_content": "center"
      }
     },
     "c2a423067a3041e38c191180138701a5": {
      "model_module": "@jupyter-widgets/controls",
      "model_module_version": "1.4.0",
      "model_name": "ButtonStyleModel",
      "state": {}
     },
     "c3a47741b9514d08a7252cf62de1f243": {
      "model_module": "@jupyter-widgets/controls",
      "model_module_version": "1.4.0",
      "model_name": "DescriptionStyleModel",
      "state": {
       "description_width": "initial"
      }
     },
     "c4185a4c21b54d7a9d896832eee1f16f": {
      "model_module": "@jupyter-widgets/base",
      "model_module_version": "1.1.0",
      "model_name": "LayoutModel",
      "state": {}
     },
     "c4e9ea7f188843f09240fe0a0b204a8d": {
      "model_module": "@jupyter-widgets/controls",
      "model_module_version": "1.4.0",
      "model_name": "DescriptionStyleModel",
      "state": {
       "description_width": ""
      }
     },
     "c4ff340510a644bda9997d29b5d9f3b4": {
      "model_module": "@jupyter-widgets/base",
      "model_module_version": "1.1.0",
      "model_name": "LayoutModel",
      "state": {
       "width": "42%"
      }
     },
     "c50c5c21c634449697f9cc7737cbd95b": {
      "model_module": "@jupyter-widgets/controls",
      "model_module_version": "1.4.0",
      "model_name": "SliderStyleModel",
      "state": {
       "description_width": ""
      }
     },
     "c5ad1b19368a40a9b7a6dc8a4bec127a": {
      "model_module": "@jupyter-widgets/controls",
      "model_module_version": "1.4.0",
      "model_name": "TextModel",
      "state": {
       "description": "Next Step",
       "layout": "IPY_MODEL_7d3bebcabf1741e88ab4d3d7427a6a60",
       "style": "IPY_MODEL_7f1ff7db9ca643d593fdb3e936891dc9",
       "value": "Predict Response(t+1)"
      }
     },
     "c705598275c24ce8be5d3d17085c94aa": {
      "model_module": "@jupyter-widgets/base",
      "model_module_version": "1.1.0",
      "model_name": "LayoutModel",
      "state": {
       "width": "42%"
      }
     },
     "c722681d45e7480ea8e7f419988ddcb0": {
      "model_module": "@jupyter-widgets/base",
      "model_module_version": "1.1.0",
      "model_name": "LayoutModel",
      "state": {
       "width": "95%"
      }
     },
     "c76df793ddd94063854fa78fd8a6782a": {
      "model_module": "@jupyter-widgets/controls",
      "model_module_version": "1.4.0",
      "model_name": "ButtonModel",
      "state": {
       "description": "Administer Dose(t)",
       "disabled": true,
       "layout": "IPY_MODEL_298f656de276460bb188b6afb865c608",
       "style": "IPY_MODEL_018564d47e714fae97acedb9d928c7c1"
      }
     },
     "c7f4ac54e5384278a6891dd179d933c1": {
      "model_module": "@jupyter-widgets/base",
      "model_module_version": "1.1.0",
      "model_name": "LayoutModel",
      "state": {
       "justify_content": "center"
      }
     },
     "c81b7d4431b04b519083327f7c72983a": {
      "model_module": "@jupyter-widgets/controls",
      "model_module_version": "1.4.0",
      "model_name": "HBoxModel",
      "state": {
       "children": [
        "IPY_MODEL_8bc15e85f60943d2aae9e62dcf445c3f",
        "IPY_MODEL_91b55d0b46fe4346890de69c28d807f7"
       ],
       "layout": "IPY_MODEL_19a11e2a031d4fe184ee96c41a51c21b"
      }
     },
     "c82d6355ac524ebeb0a03bf645e841f5": {
      "model_module": "@jupyter-widgets/controls",
      "model_module_version": "1.4.0",
      "model_name": "ButtonModel",
      "state": {
       "description": "Administer Dose(t)",
       "disabled": true,
       "layout": "IPY_MODEL_a1de5863f2fc460d9cfffa417c70b79c",
       "style": "IPY_MODEL_e0524d8df0514ec1a2988c326ba61e73"
      }
     },
     "c8b7c46ea4ca42ba901cde11629f9cba": {
      "model_module": "@jupyter-widgets/controls",
      "model_module_version": "1.4.0",
      "model_name": "FloatSliderModel",
      "state": {
       "description": "Dose(t)",
       "layout": "IPY_MODEL_777ad53eb4214d3f983b387a974785c2",
       "max": 10,
       "min": -10,
       "step": 0.01,
       "style": "IPY_MODEL_d16f3954aba24bcc8c0abbd483b2cdd1",
       "value": 1.82
      }
     },
     "c9f60bd9b782468e88953ee0a09bdb23": {
      "model_module": "@jupyter-widgets/base",
      "model_module_version": "1.1.0",
      "model_name": "LayoutModel",
      "state": {}
     },
     "cb7b5d25b87d4cd1b7c51c144b0a0dfc": {
      "model_module": "@jupyter-widgets/controls",
      "model_module_version": "1.4.0",
      "model_name": "HBoxModel",
      "state": {
       "children": [
        "IPY_MODEL_dd045d627d8d42c6aa9a49d93045355d",
        "IPY_MODEL_d6b8fb86bf2e4062b08872f8ae62b67e"
       ],
       "layout": "IPY_MODEL_e5c7f8e0008b4867ae563b23ef9d2cd3"
      }
     },
     "cbc46f25282c4cd2a6adca13fc027f2d": {
      "model_module": "@jupyter-widgets/controls",
      "model_module_version": "1.4.0",
      "model_name": "DescriptionStyleModel",
      "state": {
       "description_width": ""
      }
     },
     "cbd9c89c22a8451a88de5437adcff7d6": {
      "model_module": "@jupyter-widgets/base",
      "model_module_version": "1.1.0",
      "model_name": "LayoutModel",
      "state": {
       "justify_content": "center"
      }
     },
     "cca17439827f401cb6a180d558236355": {
      "model_module": "@jupyter-widgets/base",
      "model_module_version": "1.1.0",
      "model_name": "LayoutModel",
      "state": {
       "width": "95%"
      }
     },
     "ced14abc2e25447084a68fe4d9a28404": {
      "model_module": "@jupyter-widgets/controls",
      "model_module_version": "1.4.0",
      "model_name": "FloatSliderModel",
      "state": {
       "description": "Dose(t)",
       "layout": "IPY_MODEL_eeb83e17c5b24aef92d85d312985671d",
       "max": 10,
       "min": -10,
       "step": 0.01,
       "style": "IPY_MODEL_7020576863994636beec0099d71909be"
      }
     },
     "cf05fc96408b43f9bdc0c453ea6864cf": {
      "model_module": "@jupyter-widgets/controls",
      "model_module_version": "1.4.0",
      "model_name": "TextModel",
      "state": {
       "description": "Response(t+1) ",
       "disabled": true,
       "layout": "IPY_MODEL_0e92d5e6c94c43edaaca337b1ff7fb72",
       "style": "IPY_MODEL_e16cd7a1bbb34e9e8efa699e5de0a4a0",
       "value": "5.05 (in range)"
      }
     },
     "cf9d9733500545eb9abfa640630c9855": {
      "model_module": "@jupyter-widgets/controls",
      "model_module_version": "1.4.0",
      "model_name": "ButtonStyleModel",
      "state": {}
     },
     "cfa568b240574db49b63f8a8ee2e9fd9": {
      "model_module": "@jupyter-widgets/controls",
      "model_module_version": "1.4.0",
      "model_name": "ButtonStyleModel",
      "state": {}
     },
     "cfad5f40eb6f46cd8b3581b426a7ae98": {
      "model_module": "@jupyter-widgets/base",
      "model_module_version": "1.1.0",
      "model_name": "LayoutModel",
      "state": {
       "width": "42%"
      }
     },
     "d005af7968254de89a6df51708ebb703": {
      "model_module": "@jupyter-widgets/controls",
      "model_module_version": "1.4.0",
      "model_name": "TextModel",
      "state": {
       "description": "Response(t+1) ",
       "disabled": true,
       "layout": "IPY_MODEL_b199436d11cb4fe293f47852a0a28e7e",
       "style": "IPY_MODEL_b8839f8119d7447ba267cf5ca1b238c7",
       "value": "  "
      }
     },
     "d036e8573f03408da42d8d5534c250ae": {
      "model_module": "@jupyter-widgets/controls",
      "model_module_version": "1.4.0",
      "model_name": "ButtonModel",
      "state": {
       "description": "Predict Response(t+1)",
       "layout": "IPY_MODEL_e2b66103361443278160b338941a31ac",
       "style": "IPY_MODEL_8ffea09a11154986b0e8f0626a62f963"
      }
     },
     "d16f3954aba24bcc8c0abbd483b2cdd1": {
      "model_module": "@jupyter-widgets/controls",
      "model_module_version": "1.4.0",
      "model_name": "SliderStyleModel",
      "state": {
       "description_width": ""
      }
     },
     "d1758f6f7e02441c886a0b739b61d4cf": {
      "model_module": "@jupyter-widgets/controls",
      "model_module_version": "1.4.0",
      "model_name": "HBoxModel",
      "state": {
       "children": [
        "IPY_MODEL_4fccf838e71e43f4b0e5163a93629f76",
        "IPY_MODEL_fa11c43bec464af2a85cd608125a1428"
       ],
       "layout": "IPY_MODEL_a544654de4dc4a97881b18afb9b821cb"
      }
     },
     "d215c5126a5d4ca1b8842dcb98780736": {
      "model_module": "@jupyter-widgets/controls",
      "model_module_version": "1.4.0",
      "model_name": "DescriptionStyleModel",
      "state": {
       "description_width": ""
      }
     },
     "d2a23063baf84feb87593f04fab42cd6": {
      "model_module": "@jupyter-widgets/controls",
      "model_module_version": "1.4.0",
      "model_name": "DescriptionStyleModel",
      "state": {
       "description_width": ""
      }
     },
     "d2ceb75c9b5b48019b164fad36b635f8": {
      "model_module": "@jupyter-widgets/controls",
      "model_module_version": "1.4.0",
      "model_name": "DescriptionStyleModel",
      "state": {
       "description_width": ""
      }
     },
     "d324909275244320a0e33d79e7d2a6cc": {
      "model_module": "@jupyter-widgets/controls",
      "model_module_version": "1.4.0",
      "model_name": "TextModel",
      "state": {
       "description": "Next Step",
       "layout": "IPY_MODEL_eedc2dd3da054ed9aaae0aff4cdef6c7",
       "style": "IPY_MODEL_f25417ba13c94a02a4022133e14fcf59",
       "value": "Predict Response(t+1)  "
      }
     },
     "d454d30a4e5c4ff0b6cbf34a98a6ccf0": {
      "model_module": "@jupyter-widgets/base",
      "model_module_version": "1.1.0",
      "model_name": "LayoutModel",
      "state": {
       "width": "42%"
      }
     },
     "d54fc47a08544f10abf9e225e368b838": {
      "model_module": "@jupyter-widgets/controls",
      "model_module_version": "1.4.0",
      "model_name": "ButtonModel",
      "state": {
       "description": "Predict Response(t+1)",
       "layout": "IPY_MODEL_1b217daf35ea4786b9473ceb6aa5029e",
       "style": "IPY_MODEL_d59adde3b1ea4376ba66fb0412c6732b"
      }
     },
     "d580c39264154a45846367f9dd1427e5": {
      "model_module": "@jupyter-widgets/controls",
      "model_module_version": "1.4.0",
      "model_name": "ButtonStyleModel",
      "state": {}
     },
     "d59adde3b1ea4376ba66fb0412c6732b": {
      "model_module": "@jupyter-widgets/controls",
      "model_module_version": "1.4.0",
      "model_name": "ButtonStyleModel",
      "state": {}
     },
     "d5ff24484bf84cb9982bd7306fe6d6cb": {
      "model_module": "@jupyter-widgets/controls",
      "model_module_version": "1.4.0",
      "model_name": "DescriptionStyleModel",
      "state": {
       "description_width": ""
      }
     },
     "d616136558ae4e9aa6d12fe0940b57cb": {
      "model_module": "@jupyter-widgets/controls",
      "model_module_version": "1.4.0",
      "model_name": "DescriptionStyleModel",
      "state": {
       "description_width": ""
      }
     },
     "d637afc52a734c92835ee07e873e1e42": {
      "model_module": "@jupyter-widgets/controls",
      "model_module_version": "1.4.0",
      "model_name": "TextModel",
      "state": {
       "description": "Next Step",
       "layout": "IPY_MODEL_06f90905bbcc444d9a9733d0651ddbf4",
       "style": "IPY_MODEL_37d1111072bd43b2b3bceac7c6626425",
       "value": "Predict Response(t+1)"
      }
     },
     "d6b8fb86bf2e4062b08872f8ae62b67e": {
      "model_module": "@jupyter-widgets/controls",
      "model_module_version": "1.4.0",
      "model_name": "ButtonModel",
      "state": {
       "description": "Administer Dose(t)",
       "disabled": true,
       "layout": "IPY_MODEL_54c201460cf348b2af29a887ff5d5b6a",
       "style": "IPY_MODEL_4a12501fe2a446d98d0fb2daf361337d"
      }
     },
     "d7326285cbd4420f82951e220971ae4c": {
      "model_module": "@jupyter-widgets/base",
      "model_module_version": "1.1.0",
      "model_name": "LayoutModel",
      "state": {
       "width": "95%"
      }
     },
     "d79d6b51676646479cc54b29f81ed220": {
      "model_module": "@jupyter-widgets/controls",
      "model_module_version": "1.4.0",
      "model_name": "HBoxModel",
      "state": {
       "children": [
        "IPY_MODEL_5d64cca9cbac40368c53256f44d88a84",
        "IPY_MODEL_e4bd65f6336b48cd85c6451587c84e96"
       ],
       "layout": "IPY_MODEL_86fa0b711d1b48eca3bc09dbfd68b165"
      }
     },
     "d8a1f05178cc4f789b89c399f8333eae": {
      "model_module": "@jupyter-widgets/base",
      "model_module_version": "1.1.0",
      "model_name": "LayoutModel",
      "state": {
       "width": "42%"
      }
     },
     "d8e694fccb434b56bb2365033e2e333d": {
      "model_module": "@jupyter-widgets/controls",
      "model_module_version": "1.4.0",
      "model_name": "ButtonStyleModel",
      "state": {}
     },
     "db2002292ad341c39f6d92d722cd6d92": {
      "model_module": "@jupyter-widgets/base",
      "model_module_version": "1.1.0",
      "model_name": "LayoutModel",
      "state": {
       "justify_content": "center"
      }
     },
     "db4cd92d244f4f808fd48776383936c2": {
      "model_module": "@jupyter-widgets/controls",
      "model_module_version": "1.4.0",
      "model_name": "FloatSliderModel",
      "state": {
       "description": "Dose(t)",
       "layout": "IPY_MODEL_798aa3d13aa042c58593d5e3625a7618",
       "max": 10,
       "min": -10,
       "step": 0.01,
       "style": "IPY_MODEL_8403c3de47214b1fbd79269b591b040f"
      }
     },
     "db74bbd50e3b4fbd80c77406ae6f8a7a": {
      "model_module": "@jupyter-widgets/base",
      "model_module_version": "1.1.0",
      "model_name": "LayoutModel",
      "state": {
       "width": "95%"
      }
     },
     "dc2ec489f1c84662b5d8d2df786afc0b": {
      "model_module": "@jupyter-widgets/controls",
      "model_module_version": "1.4.0",
      "model_name": "DescriptionStyleModel",
      "state": {
       "description_width": ""
      }
     },
     "dc4c397a5fdf4120a27b682cb60dad39": {
      "model_module": "@jupyter-widgets/controls",
      "model_module_version": "1.4.0",
      "model_name": "HBoxModel",
      "state": {
       "children": [
        "IPY_MODEL_78a83f61572f49ed9bc6db590bdf5ad4",
        "IPY_MODEL_2ca12a6601e44c4ba1b0259243f20316"
       ],
       "layout": "IPY_MODEL_386346217bc54b6a8c8ddb9199f0d2cf"
      }
     },
     "dc5261a3b751455a94c0474cc90a5aa3": {
      "model_module": "@jupyter-widgets/controls",
      "model_module_version": "1.4.0",
      "model_name": "TextModel",
      "state": {
       "description": "Response(t+1) ",
       "disabled": true,
       "layout": "IPY_MODEL_e9c2594e525d4beea2db551aa430c0d0",
       "style": "IPY_MODEL_4e1fde5ca2574b09a115ea511786a24c",
       "value": "1.03 (is less than 4.75)"
      }
     },
     "dc9eb6c483284476ab618ac77a505a4d": {
      "model_module": "@jupyter-widgets/controls",
      "model_module_version": "1.4.0",
      "model_name": "ButtonStyleModel",
      "state": {}
     },
     "dd045d627d8d42c6aa9a49d93045355d": {
      "model_module": "@jupyter-widgets/controls",
      "model_module_version": "1.4.0",
      "model_name": "ButtonModel",
      "state": {
       "description": "Predict Response(t+1)",
       "disabled": true,
       "layout": "IPY_MODEL_095ef3225d28434386964a06b6904a35",
       "style": "IPY_MODEL_dc9eb6c483284476ab618ac77a505a4d"
      }
     },
     "dd7567db20394b5792e72c8ccd004b06": {
      "model_module": "@jupyter-widgets/base",
      "model_module_version": "1.1.0",
      "model_name": "LayoutModel",
      "state": {
       "width": "95%"
      }
     },
     "dd8fa56ff0724f18a2d9cab6f0ec028c": {
      "model_module": "@jupyter-widgets/controls",
      "model_module_version": "1.4.0",
      "model_name": "TextModel",
      "state": {
       "description": "Next Step",
       "layout": "IPY_MODEL_13bbdc383efb4b10ad3423c4810ebb8a",
       "style": "IPY_MODEL_8b42b9464f80490a9212e743ad1ad58a",
       "value": "Predict Response(t+1)"
      }
     },
     "de73b20eb9e745948932872543e94e54": {
      "model_module": "@jupyter-widgets/base",
      "model_module_version": "1.1.0",
      "model_name": "LayoutModel",
      "state": {
       "width": "42%"
      }
     },
     "de7b37a5013b47538e8b9bdb0d6f7ea0": {
      "model_module": "@jupyter-widgets/base",
      "model_module_version": "1.1.0",
      "model_name": "LayoutModel",
      "state": {
       "justify_content": "center"
      }
     },
     "e0524d8df0514ec1a2988c326ba61e73": {
      "model_module": "@jupyter-widgets/controls",
      "model_module_version": "1.4.0",
      "model_name": "ButtonStyleModel",
      "state": {}
     },
     "e07582650c69463b989f24140848fce9": {
      "model_module": "@jupyter-widgets/base",
      "model_module_version": "1.1.0",
      "model_name": "LayoutModel",
      "state": {
       "width": "42%"
      }
     },
     "e0bc5b356d764123a236b9b94c7fdcfc": {
      "model_module": "@jupyter-widgets/base",
      "model_module_version": "1.1.0",
      "model_name": "LayoutModel",
      "state": {}
     },
     "e1066b07ce154f1aa63b1830b9e1d972": {
      "model_module": "@jupyter-widgets/base",
      "model_module_version": "1.1.0",
      "model_name": "LayoutModel",
      "state": {}
     },
     "e16cd7a1bbb34e9e8efa699e5de0a4a0": {
      "model_module": "@jupyter-widgets/controls",
      "model_module_version": "1.4.0",
      "model_name": "DescriptionStyleModel",
      "state": {
       "description_width": "initial"
      }
     },
     "e1988a5aa4dc4bc2a507e12e6beb3a31": {
      "model_module": "@jupyter-widgets/controls",
      "model_module_version": "1.4.0",
      "model_name": "ButtonModel",
      "state": {
       "description": "Administer Dose(t)",
       "disabled": true,
       "layout": "IPY_MODEL_bc77b2a7fca5429cbfe7763d03d494f6",
       "style": "IPY_MODEL_97012c8f2c76466aa94b3365fbeffb7f"
      }
     },
     "e2b66103361443278160b338941a31ac": {
      "model_module": "@jupyter-widgets/base",
      "model_module_version": "1.1.0",
      "model_name": "LayoutModel",
      "state": {
       "width": "42%"
      }
     },
     "e333dd4c32264784873156309ad57cdd": {
      "model_module": "@jupyter-widgets/controls",
      "model_module_version": "1.4.0",
      "model_name": "ButtonModel",
      "state": {
       "description": "Administer Dose(t)",
       "disabled": true,
       "layout": "IPY_MODEL_4ac0edac95fa4ddc957eeb4bca8fa1f4",
       "style": "IPY_MODEL_26a812405eea4253a93b39eefb7b86e9"
      }
     },
     "e3620dccb9144eb681a161f8e357b5ac": {
      "model_module": "@jupyter-widgets/controls",
      "model_module_version": "1.4.0",
      "model_name": "FloatSliderModel",
      "state": {
       "description": "Dose(t)",
       "layout": "IPY_MODEL_936a663750bc43788789e099b30648f3",
       "max": 10,
       "min": -10,
       "step": 0.01,
       "style": "IPY_MODEL_7bf91f7803bb4378b74c0f83f9d73ead"
      }
     },
     "e4931278102f44718cf15523d863fccd": {
      "model_module": "@jupyter-widgets/controls",
      "model_module_version": "1.4.0",
      "model_name": "TextModel",
      "state": {
       "description": "Next Step",
       "layout": "IPY_MODEL_aeba46488de54fc283f801e4ca114448",
       "style": "IPY_MODEL_5f7e454921f043f3b06fa40406b74e65",
       "value": "Successful Completion"
      }
     },
     "e4b040841521454bae2f6ef5f4bdedaa": {
      "model_module": "@jupyter-widgets/base",
      "model_module_version": "1.1.0",
      "model_name": "LayoutModel",
      "state": {
       "justify_content": "center"
      }
     },
     "e4bd65f6336b48cd85c6451587c84e96": {
      "model_module": "@jupyter-widgets/controls",
      "model_module_version": "1.4.0",
      "model_name": "TextModel",
      "state": {
       "description": "Next Step",
       "layout": "IPY_MODEL_107b293ba32b4e1fb176a8f3cb3854b4",
       "style": "IPY_MODEL_f499c034223e46168c0421ea8d85d83c",
       "value": "Predict Response(t+1)  "
      }
     },
     "e57b4b0b43814d4ea5dd237c11f86a9b": {
      "model_module": "@jupyter-widgets/controls",
      "model_module_version": "1.4.0",
      "model_name": "TextModel",
      "state": {
       "description": "Response(t+1) ",
       "disabled": true,
       "layout": "IPY_MODEL_74211fd2a17243e290eafe7a0be9d4ee",
       "style": "IPY_MODEL_631a2ad58acb4443a17d0e22f5ecd50b",
       "value": "5.10"
      }
     },
     "e5c7f8e0008b4867ae563b23ef9d2cd3": {
      "model_module": "@jupyter-widgets/base",
      "model_module_version": "1.1.0",
      "model_name": "LayoutModel",
      "state": {
       "justify_content": "center"
      }
     },
     "e65f57983e69411ab0b0befc7274a185": {
      "model_module": "@jupyter-widgets/base",
      "model_module_version": "1.1.0",
      "model_name": "LayoutModel",
      "state": {
       "justify_content": "center"
      }
     },
     "e7cb3188eba845d6b930949a2ea108f9": {
      "model_module": "@jupyter-widgets/controls",
      "model_module_version": "1.4.0",
      "model_name": "SliderStyleModel",
      "state": {
       "description_width": ""
      }
     },
     "e7dffd1db6c444158be5e3b52a09b880": {
      "model_module": "@jupyter-widgets/controls",
      "model_module_version": "1.4.0",
      "model_name": "SliderStyleModel",
      "state": {
       "description_width": ""
      }
     },
     "e82ec4c293a0420586df3c59390abade": {
      "model_module": "@jupyter-widgets/base",
      "model_module_version": "1.1.0",
      "model_name": "LayoutModel",
      "state": {
       "width": "42%"
      }
     },
     "e8599bd2a44349adb56784521e651176": {
      "model_module": "@jupyter-widgets/base",
      "model_module_version": "1.1.0",
      "model_name": "LayoutModel",
      "state": {
       "justify_content": "center"
      }
     },
     "e8d2bfa31b2345d9b6770adc27d9e13b": {
      "model_module": "@jupyter-widgets/controls",
      "model_module_version": "1.4.0",
      "model_name": "TextModel",
      "state": {
       "description": "Response(t+1) ",
       "disabled": true,
       "layout": "IPY_MODEL_49993292fef14d3b87f61e4c57a29f80",
       "style": "IPY_MODEL_0b15758c582e40ca8d5fed687c2d7cc5",
       "value": "4.86"
      }
     },
     "e94177a434e8442789604220fb18a082": {
      "model_module": "@jupyter-widgets/controls",
      "model_module_version": "1.4.0",
      "model_name": "HBoxModel",
      "state": {
       "children": [
        "IPY_MODEL_23e43d5663aa45b1837a11cc6423dc86",
        "IPY_MODEL_e333dd4c32264784873156309ad57cdd"
       ],
       "layout": "IPY_MODEL_cbd9c89c22a8451a88de5437adcff7d6"
      }
     },
     "e9be4db836854a2c95881e3bb59cf768": {
      "model_module": "@jupyter-widgets/controls",
      "model_module_version": "1.4.0",
      "model_name": "TextModel",
      "state": {
       "description": "Response(t+1) ",
       "disabled": true,
       "layout": "IPY_MODEL_e0bc5b356d764123a236b9b94c7fdcfc",
       "style": "IPY_MODEL_26d39e3bcfc7405bbc3070fe887e5b5f",
       "value": "  "
      }
     },
     "e9c2594e525d4beea2db551aa430c0d0": {
      "model_module": "@jupyter-widgets/base",
      "model_module_version": "1.1.0",
      "model_name": "LayoutModel",
      "state": {}
     },
     "eb3bb59e6b4746ec94c9838f55ef0973": {
      "model_module": "@jupyter-widgets/base",
      "model_module_version": "1.1.0",
      "model_name": "LayoutModel",
      "state": {}
     },
     "eb9c5f8672ff4fd18894ebc109c60eda": {
      "model_module": "@jupyter-widgets/controls",
      "model_module_version": "1.4.0",
      "model_name": "ButtonStyleModel",
      "state": {}
     },
     "ebbd31decb4f41d5ac01ed2b8b2d4db4": {
      "model_module": "@jupyter-widgets/base",
      "model_module_version": "1.1.0",
      "model_name": "LayoutModel",
      "state": {
       "justify_content": "center"
      }
     },
     "ec9df7e530724051940284c941efcb38": {
      "model_module": "@jupyter-widgets/controls",
      "model_module_version": "1.4.0",
      "model_name": "FloatSliderModel",
      "state": {
       "description": "Dose(t)",
       "layout": "IPY_MODEL_db74bbd50e3b4fbd80c77406ae6f8a7a",
       "max": 10,
       "min": -10,
       "step": 0.01,
       "style": "IPY_MODEL_a404032a9c734265aae3d53cc25c12e8"
      }
     },
     "ecb7076df28b45d99581b461934ba6d1": {
      "model_module": "@jupyter-widgets/base",
      "model_module_version": "1.1.0",
      "model_name": "LayoutModel",
      "state": {
       "justify_content": "center"
      }
     },
     "ecd25eb8614e41a3ae67fd172fe5f7d5": {
      "model_module": "@jupyter-widgets/controls",
      "model_module_version": "1.4.0",
      "model_name": "HBoxModel",
      "state": {
       "children": [
        "IPY_MODEL_dc5261a3b751455a94c0474cc90a5aa3",
        "IPY_MODEL_4b04162859d44f3d86b766bf43864f2f"
       ],
       "layout": "IPY_MODEL_f3e6f53a8a4846e79d6ec97fdc0c237c"
      }
     },
     "ed926edff44148998459525d56b5c9d4": {
      "model_module": "@jupyter-widgets/base",
      "model_module_version": "1.1.0",
      "model_name": "LayoutModel",
      "state": {
       "justify_content": "center"
      }
     },
     "ed9cbe41ffa64544a995f86234da6a73": {
      "model_module": "@jupyter-widgets/base",
      "model_module_version": "1.1.0",
      "model_name": "LayoutModel",
      "state": {
       "width": "95%"
      }
     },
     "edb82dc7e54b442f932c1af931fdffb4": {
      "model_module": "@jupyter-widgets/controls",
      "model_module_version": "1.4.0",
      "model_name": "ButtonModel",
      "state": {
       "description": "Predict Response(t+1)",
       "layout": "IPY_MODEL_83864197013c422ea3576d42305a9a2c",
       "style": "IPY_MODEL_c2a423067a3041e38c191180138701a5"
      }
     },
     "eeb1628dd7da420cbe963780cff3422c": {
      "model_module": "@jupyter-widgets/controls",
      "model_module_version": "1.4.0",
      "model_name": "HBoxModel",
      "state": {
       "children": [
        "IPY_MODEL_8c503910604a49958886fac0251b7d51",
        "IPY_MODEL_4a34fcebf76848b2b0b6b45911141f6a"
       ],
       "layout": "IPY_MODEL_326eaa7843094062aaa5a5676815ddfd"
      }
     },
     "eeb83e17c5b24aef92d85d312985671d": {
      "model_module": "@jupyter-widgets/base",
      "model_module_version": "1.1.0",
      "model_name": "LayoutModel",
      "state": {
       "width": "95%"
      }
     },
     "eedc2dd3da054ed9aaae0aff4cdef6c7": {
      "model_module": "@jupyter-widgets/base",
      "model_module_version": "1.1.0",
      "model_name": "LayoutModel",
      "state": {}
     },
     "eff92387c36f4c4b8cca66708946cf10": {
      "model_module": "@jupyter-widgets/base",
      "model_module_version": "1.1.0",
      "model_name": "LayoutModel",
      "state": {}
     },
     "f0c43677ea4549aba70f2d22700ed501": {
      "model_module": "@jupyter-widgets/base",
      "model_module_version": "1.1.0",
      "model_name": "LayoutModel",
      "state": {
       "width": "95%"
      }
     },
     "f10c70a716f9455c917522757d882483": {
      "model_module": "@jupyter-widgets/controls",
      "model_module_version": "1.4.0",
      "model_name": "ButtonStyleModel",
      "state": {}
     },
     "f210065ef4614d908a8d58a418030e3d": {
      "model_module": "@jupyter-widgets/controls",
      "model_module_version": "1.4.0",
      "model_name": "ButtonStyleModel",
      "state": {}
     },
     "f25417ba13c94a02a4022133e14fcf59": {
      "model_module": "@jupyter-widgets/controls",
      "model_module_version": "1.4.0",
      "model_name": "DescriptionStyleModel",
      "state": {
       "description_width": ""
      }
     },
     "f2a92d82c8334bcb864139d5a208dc88": {
      "model_module": "@jupyter-widgets/controls",
      "model_module_version": "1.4.0",
      "model_name": "SliderStyleModel",
      "state": {
       "description_width": ""
      }
     },
     "f2f09903188a48d6ac121316a6f6ef94": {
      "model_module": "@jupyter-widgets/controls",
      "model_module_version": "1.4.0",
      "model_name": "TextModel",
      "state": {
       "description": "Response(t+1) ",
       "disabled": true,
       "layout": "IPY_MODEL_1fa8a91257e040bab72bdfa0a25341e5",
       "style": "IPY_MODEL_6c8e0ebb921041c1bf653b76f80104ff",
       "value": "  "
      }
     },
     "f35c730f044b47d2a2634f4c6abd2191": {
      "model_module": "@jupyter-widgets/controls",
      "model_module_version": "1.4.0",
      "model_name": "TextModel",
      "state": {
       "description": "Next Step",
       "layout": "IPY_MODEL_941823acf8ef46928c5438b430a3a8f4",
       "style": "IPY_MODEL_968f7d4a292b49a8b6db3c7cea2bbfdf",
       "value": "Predict Response(t+1)  "
      }
     },
     "f38acae4f32d4ee9a1344e90b97aca43": {
      "model_module": "@jupyter-widgets/base",
      "model_module_version": "1.1.0",
      "model_name": "LayoutModel",
      "state": {}
     },
     "f3b0b79639bc4b69b2105cd51ba8ed4a": {
      "model_module": "@jupyter-widgets/base",
      "model_module_version": "1.1.0",
      "model_name": "LayoutModel",
      "state": {}
     },
     "f3e6f53a8a4846e79d6ec97fdc0c237c": {
      "model_module": "@jupyter-widgets/base",
      "model_module_version": "1.1.0",
      "model_name": "LayoutModel",
      "state": {
       "justify_content": "center"
      }
     },
     "f499c034223e46168c0421ea8d85d83c": {
      "model_module": "@jupyter-widgets/controls",
      "model_module_version": "1.4.0",
      "model_name": "DescriptionStyleModel",
      "state": {
       "description_width": ""
      }
     },
     "f4b704a50b19416aaa619a020dfd5071": {
      "model_module": "@jupyter-widgets/controls",
      "model_module_version": "1.4.0",
      "model_name": "SliderStyleModel",
      "state": {
       "description_width": ""
      }
     },
     "f57f160c031a4385b96699f3de1a0ed2": {
      "model_module": "@jupyter-widgets/controls",
      "model_module_version": "1.4.0",
      "model_name": "ButtonModel",
      "state": {
       "description": "Administer Dose(t)",
       "disabled": true,
       "layout": "IPY_MODEL_c705598275c24ce8be5d3d17085c94aa",
       "style": "IPY_MODEL_ff5acbfcf6b8479f8c3825d361b5a633"
      }
     },
     "f6efb67db12b449f9b85a3ac8317cb90": {
      "model_module": "@jupyter-widgets/controls",
      "model_module_version": "1.4.0",
      "model_name": "ButtonModel",
      "state": {
       "description": "Predict Response(t+1)",
       "layout": "IPY_MODEL_f80b90ff86d34656a1dbd02d163f7ade",
       "style": "IPY_MODEL_7add484299ef47ea9f1aac758d680e11"
      }
     },
     "f703939750ff454bb72089b3879dcfb3": {
      "model_module": "@jupyter-widgets/controls",
      "model_module_version": "1.4.0",
      "model_name": "ButtonModel",
      "state": {
       "description": "Administer Dose(t)",
       "disabled": true,
       "layout": "IPY_MODEL_45ef44f8e2374c9380d0c76e93e788d8",
       "style": "IPY_MODEL_cf9d9733500545eb9abfa640630c9855"
      }
     },
     "f737a9ed60ee41628c6038e6bd8f20ec": {
      "model_module": "@jupyter-widgets/base",
      "model_module_version": "1.1.0",
      "model_name": "LayoutModel",
      "state": {
       "justify_content": "center"
      }
     },
     "f74069794b0f44debc1671e0300b927f": {
      "model_module": "@jupyter-widgets/controls",
      "model_module_version": "1.4.0",
      "model_name": "HBoxModel",
      "state": {
       "children": [
        "IPY_MODEL_2f4dc84a2025406d8272c2d578657e2e",
        "IPY_MODEL_c76df793ddd94063854fa78fd8a6782a"
       ],
       "layout": "IPY_MODEL_ab2bf471fd8b45378075961cd3a248fd"
      }
     },
     "f74717e57cb0445fb910baef614e652b": {
      "model_module": "@jupyter-widgets/base",
      "model_module_version": "1.1.0",
      "model_name": "LayoutModel",
      "state": {}
     },
     "f75d41c714a84fdbb09227772d9eebb7": {
      "model_module": "@jupyter-widgets/base",
      "model_module_version": "1.1.0",
      "model_name": "LayoutModel",
      "state": {
       "width": "95%"
      }
     },
     "f7729e3ff4fc443d8b090f9891fbcab4": {
      "model_module": "@jupyter-widgets/base",
      "model_module_version": "1.1.0",
      "model_name": "LayoutModel",
      "state": {
       "justify_content": "center"
      }
     },
     "f80b90ff86d34656a1dbd02d163f7ade": {
      "model_module": "@jupyter-widgets/base",
      "model_module_version": "1.1.0",
      "model_name": "LayoutModel",
      "state": {
       "width": "42%"
      }
     },
     "f89aa0d3d86744c19422f1dd7f6d84aa": {
      "model_module": "@jupyter-widgets/base",
      "model_module_version": "1.1.0",
      "model_name": "LayoutModel",
      "state": {
       "width": "42%"
      }
     },
     "fa11c43bec464af2a85cd608125a1428": {
      "model_module": "@jupyter-widgets/controls",
      "model_module_version": "1.4.0",
      "model_name": "TextModel",
      "state": {
       "description": "Next Step",
       "layout": "IPY_MODEL_eb3bb59e6b4746ec94c9838f55ef0973",
       "style": "IPY_MODEL_083dfe5677be46b087d48d6944c45e50",
       "value": "Successful Completion"
      }
     },
     "fa625533e4f64183a5295a04d5037ca7": {
      "model_module": "@jupyter-widgets/controls",
      "model_module_version": "1.4.0",
      "model_name": "ButtonModel",
      "state": {
       "description": "Administer Dose(t)",
       "disabled": true,
       "layout": "IPY_MODEL_b5a331ab60cf4490b56674b07f5bd1a5",
       "style": "IPY_MODEL_a3e10b8fc4404e47a1ec0306d071a37a"
      }
     },
     "fa6b40bfe0624a729e0fc851bfde3e58": {
      "model_module": "@jupyter-widgets/controls",
      "model_module_version": "1.4.0",
      "model_name": "ButtonModel",
      "state": {
       "description": "Administer Dose(t)",
       "disabled": true,
       "layout": "IPY_MODEL_63782116f59147b385e4aeaea3ef9c25",
       "style": "IPY_MODEL_0772ea5803a9462098c7e41801ca0520"
      }
     },
     "fad47deec66541b38d3a26140b748184": {
      "model_module": "@jupyter-widgets/base",
      "model_module_version": "1.1.0",
      "model_name": "LayoutModel",
      "state": {}
     },
     "fbc759d0f1b540cd9be186f41aaad8bb": {
      "model_module": "@jupyter-widgets/base",
      "model_module_version": "1.1.0",
      "model_name": "LayoutModel",
      "state": {
       "justify_content": "center"
      }
     },
     "fc116c445fc444fb9520f5f2af1912fc": {
      "model_module": "@jupyter-widgets/controls",
      "model_module_version": "1.4.0",
      "model_name": "HBoxModel",
      "state": {
       "children": [
        "IPY_MODEL_424b555ce6c0412f9b2d509f22b566b9",
        "IPY_MODEL_f703939750ff454bb72089b3879dcfb3"
       ],
       "layout": "IPY_MODEL_289ce1c4d99c4438b5c6b5a66455f323"
      }
     },
     "fce71a65c4934bbcb9bcbfb2d45aeef1": {
      "model_module": "@jupyter-widgets/controls",
      "model_module_version": "1.4.0",
      "model_name": "TextModel",
      "state": {
       "description": "Response(t+1) ",
       "disabled": true,
       "layout": "IPY_MODEL_305236f6a28743d7938b10de74266493",
       "style": "IPY_MODEL_0b4adb12a50f4673bcd9dfd589b6d201",
       "value": "5.30"
      }
     },
     "fd582402f3b34907b9d0a0957d2fe22a": {
      "model_module": "@jupyter-widgets/controls",
      "model_module_version": "1.4.0",
      "model_name": "FloatSliderModel",
      "state": {
       "description": "Dose(t)",
       "layout": "IPY_MODEL_34514ad588054f2e92cb0277cbf6339a",
       "max": 10,
       "min": -10,
       "step": 0.01,
       "style": "IPY_MODEL_381df80769c94b0bbf669d739f317b3c",
       "value": 0.5
      }
     },
     "febd969808234ad59cfc221339fbfa8b": {
      "model_module": "@jupyter-widgets/controls",
      "model_module_version": "1.4.0",
      "model_name": "DescriptionStyleModel",
      "state": {
       "description_width": ""
      }
     },
     "ff4921d97d2949d39ce4b7bcdccefcc2": {
      "model_module": "@jupyter-widgets/base",
      "model_module_version": "1.1.0",
      "model_name": "LayoutModel",
      "state": {
       "width": "95%"
      }
     },
     "ff5acbfcf6b8479f8c3825d361b5a633": {
      "model_module": "@jupyter-widgets/controls",
      "model_module_version": "1.4.0",
      "model_name": "ButtonStyleModel",
      "state": {}
     },
     "ff6cb891f0e2438a8515d65494d6a347": {
      "model_module": "@jupyter-widgets/controls",
      "model_module_version": "1.4.0",
      "model_name": "HBoxModel",
      "state": {
       "children": [
        "IPY_MODEL_4b4941f16f364fa0ad8add2434a27117",
        "IPY_MODEL_19573d4719134f44ab5b7f6a5c82bffa"
       ],
       "layout": "IPY_MODEL_db2002292ad341c39f6d92d722cd6d92"
      }
     },
     "ffb741cd6fe44acb930d009dc8573003": {
      "model_module": "@jupyter-widgets/base",
      "model_module_version": "1.1.0",
      "model_name": "LayoutModel",
      "state": {
       "justify_content": "center"
      }
     }
    },
    "version_major": 2,
    "version_minor": 0
   }
  }
 },
 "nbformat": 4,
 "nbformat_minor": 2
}
