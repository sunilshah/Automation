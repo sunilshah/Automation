{
 "cells": [
  {
   "cell_type": "markdown",
   "metadata": {},
   "source": [
    "# Prediction for Decsion Making\n",
    "\n",
    "Prediction is meant to be about forecast of future occurrences. However, in statistics it is also used for inference about occurrences in a population from analysis of samples drawn from a similar population. This cross-sectional interpretation of prediction can be at odds with the temporal forecasting interpretation.  \n",
    "\n",
    "When decisions are made (and executed) that  change the future occurrences, this contradiction can become more pronounced.  \"Average Treatment Effect\" is often used to capture cause-effect relationship between an intervention and its impact on future occurrences, even though the cross-sectional interpretation carries no temporal forecasting information.     \n",
    "\n",
    "Cause-effect relationship in a bayesian decision network captures the state dependence or context with a statement such as,\n",
    "\n",
    "*Given state A, decision u causes the state to change to state B.* \n",
    "\n",
    "or\n",
    "\n",
    "*Given state A, decision u causes the state to change to state B with probability p.*\n",
    "\n",
    "\n",
    "Such statements can also explicitly allow for time dependence. For continuous states $x(t)$, input $u(t)$ and disturbance $w(t)$,\n",
    "\n",
    " $$ x(t+1) = f(x(t),u(t),w(t))$$ \n",
    " \n",
    " For discrete states, the transition probability $p_{i,j}(u,k)$ at time $k$ that the next state $x_{k+1}=j$, given  $x_k = i$, and the input chosen is $u_k=u$, \n",
    " \n",
    " $$ p_{i,j}(u,k)=P\\lbrace x_{k+1}=j | x_k=i, u_k=u \\rbrace$$\n",
    "\n",
    "In fact, Pearl's sharp distinction between Structural Causal Models and statistical associations encoded in joint distribution models highlights this issue. Structural Causal Models modularly encode one-way transmission of changes, from cause to effect, in edges of a directed graph. This permits \"what-if\" analysis of the so-called counterfactuals. \n",
    "\n",
    "In large systems engineering dynamic simulations, signal flow graph notation is widely used to describe such structural causal information. Conservation laws, such as mass balance, charge balance or energy balance encode invariants or symmetry conditions in space and time. Such laws provide the basis for going from constitutive elemental behavior (such as Hook's law or Ohm's law) to signal flow or information flow arising from inetrconnections among the elements.  Pearl's insight is that structural causal models require induction well beyond those from statistical distributions in a given data set. Such sweeping induction also requires extensive challenges and many controlled experiments. \n",
    "\n",
    "[1] Judea Pearl, \"Causal Inference in Statistics: An Overview\", Statistics Surveys, 2009"
   ]
  },
  {
   "cell_type": "code",
   "execution_count": null,
   "metadata": {},
   "outputs": [],
   "source": []
  }
 ],
 "metadata": {
  "kernelspec": {
   "display_name": "Python 3",
   "language": "python",
   "name": "python3"
  },
  "language_info": {
   "codemirror_mode": {
    "name": "ipython",
    "version": 3
   },
   "file_extension": ".py",
   "mimetype": "text/x-python",
   "name": "python",
   "nbconvert_exporter": "python",
   "pygments_lexer": "ipython3",
   "version": "3.7.3"
  }
 },
 "nbformat": 4,
 "nbformat_minor": 2
}
